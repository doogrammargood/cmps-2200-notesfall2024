{
 "cells": [
  {
   "cell_type": "code",
   "execution_count": null,
   "metadata": {},
   "outputs": [],
   "source": [
    "<h1> Further models of computation</h1>\n",
    "\n",
    "<h2>Last time</h2>\n",
    "\n",
    "We discussed the Turing Machine, which is the ultimate model of computation. We explained the Church-Turing Thesis, which asserts that Turing Machines are powerful enough to describe any type of algorithm that can be devised in this universe."
   ]
  }
 ],
 "metadata": {
  "language_info": {
   "name": "python"
  }
 },
 "nbformat": 4,
 "nbformat_minor": 2
}
