{
 "cells": [
  {
   "cell_type": "markdown",
   "metadata": {
    "vscode": {
     "languageId": "html"
    }
   },
   "source": [
    "<h1>Recursively Ennumerable Languages and Turing Machines</h1>\n",
    "\n",
    "<h2>Last time: Regular languages/ finite state machines</h2>\n",
    "In the last lecture, we discussed the bottom, simplest, level of the Chomsky hierarchy, pictured below.\n",
    "\n",
    "\n",
    "<img src=\"Chomsky-hierarchy.svg\" style=\"background-color:white;\">\n",
    "\n",
    "\n",
    "Each level of the hierarchy consists of a language and an accompanying machine that recognizes the language. In the case of regular languages, the associated machines are finite state machines.\n",
    "\n",
    "<h2>This time</h2>\n",
    "We jump to the top, most complex, level of the hierarchy and define Turing Machines, our model for computation, according to the Church-Turing Thesis."
   ]
  },
  {
   "cell_type": "markdown",
   "metadata": {},
   "source": [
    "<h2>Turing Machine definition</h2>\n",
    "\n",
    "Turing machines are defined relative to an alphabet (for example, \n",
    "$\\Sigma$ = \\{\"a\", \"t\", \"g\", \"c\"\\}. We define $\\bar{\\Sigma}$ to be $\\Sigma \\cup \\{\\_\\}$, where $\\_$ is a blank symbol.\n",
    " Turing Machine consists of the following data:\n",
    "\n",
    "1. A finite set, called <i>states</i>, denoted $S$.\n",
    "2. A set of states called the <i>accept states</i>, denoted $S_a\\subset S$.\n",
    "3. A special state called the <i>initial state</i>, denoted $s_0 \\in S$.\n",
    "4. A current state $c\\in S$, which can change.\n",
    "5. An infinite tape of <i>cells</i>. \n",
    "    - Each cell has a location. The locations correspond to integers.\n",
    "    - Each cell can contain a letter from the alphabet or be blank.\n",
    "6. A <i>head</i> which represents a location on the tape.\n",
    "7. A transition function $T:(\\bar{\\Sigma} \\times S)\\to (\\bar{\\Sigma} \\times S \\times\\{L,R,S\\}) \\cup \\{Halt\\}$:\n",
    "\n",
    "The machine operates as follows.\n",
    "\n",
    "We assume that the tape initially contains the input to the machine. The machine starts at the initial state, $s_0$ and the head starts at the $0^{th}$ cell on the tape. At each step in the computation, the machine applies the transition function as follows. The input to the transition function is the letter that is written on the tape at the location of the head and the current state $c$.\n",
    "\n",
    "The outputs $(x,s,D)$ of the transition function indicate to:\n",
    "\n",
    "1. Write $x$ onto the tape at the location of the head.\n",
    "2. Change the state to $c=s$.\n",
    "3. Move the head left if $D=L$, right if $D=R$ and leave the head if $D=S$.\n",
    "\n",
    "If the transition function returns \"Halt\", then the computation ends and the state does not change. The input is accepted if the final state is an accept state."
   ]
  },
  {
   "cell_type": "markdown",
   "metadata": {},
   "source": [
    "<h2>Example: aaa...ttt...</h2>\n",
    "\n",
    "We saw in the previous lecture that the language $\\mathcal{S}=\\{a^n t^n: n \\in \\mathbb{N}\\}$ is not a regular language. We show now that it can be recognized by a Turing machine using the following procedure:\n",
    "\n",
    "0. Assume that the input is initially written on the tape and there are no $\\_$ symbols in the middle of the input.\n",
    "1. Check that the first letter is $a$ or $\\_$. \n",
    "    - If it is $\\_$, then halt and accept.\n",
    "    - If it is $a$, write $\\_$ and move right.\n",
    "2. Move the head to the right until $\\_$ is read, then move left.\n",
    "3. If the letter under the head is $t$, erase it, write $\\_$ and move left. Otherwise, reject.\n",
    "4. Move the head to the left until $\\_$ is read, then move the head right once and return to step 1.\n",
    "\n",
    "We can draw this as follows:\n",
    "\n",
    "\n",
    "<img src=\"turing_machine_ex.png\" style=\"background-color:white;\">\n",
    "\n",
    "In the above, we decorate arrows from one state to another with $x; y D$, where $x$ is the letter read, $y$ is the letter written, and $D$ is the direction that the head moves. We only used the letters $a$ and $t$. If the letters $g$ or $c$ are read in any state, the corresponding arrows should point to \"reject.\" The \"accept\" and \"reject\" states should have arrows that tell the machine to halt. We omit these arrows to avoid clutter in the diagram."
   ]
  },
  {
   "cell_type": "markdown",
   "metadata": {},
   "source": [
    "<h2>The Church-Turing Thesis</h2>\n",
    "\n",
    "Usually, we only talk about accept/reject problems for simplicity. These are also called <i>descision problems</i>. But Turing Machines are not limited to descision problems. They can modify the contents of the tape. As a homework exercise, you will describe a Turing Machine that takes in a binary number and increments it by one. This demonstrates that they can perform complex calculations, like a Python program. \n",
    "\n",
    "Every algorithm that can be written in Python consists of finitely many lines. At any point in the algorithm, there is a single line that is active, and these correspond to the states of the Turing machine. The algorithm, expressed in Python, also stores the values of the variables, which are like the contents of the tape. Each line of python code passes to the next line, and possibly modifies some variables. The action of the current line of code is similar to the action of the transition function of the Turing Machine.\n",
    "\n",
    "The main difference between Python code and the Turing Machine is that there is no Python analog of the Turing Machine's head. Python code is assumed to be able to read or modify the value of any variable in a single step (this is called <i>random access</i>), whereas the head of the Turing Machine needs to move to the cell that represents that variable. The Turing Machine may be slower, but this analogy should make it clear that every Python script has a corresponding Turing Machine.\n",
    "\n",
    "The argument above is a basic version of the <i>Church Turing Thesis</i>, which states that Turing Machines formalize algorithms."
   ]
  },
  {
   "cell_type": "markdown",
   "metadata": {},
   "source": [
    "<h2>Encoding Turing Machines</h2>\n",
    "\n",
    "Turing Machines need only a finite amount of data to be defined: the alphabet is finite and the number of states is finite, so the transition function is a function between finite sets. All of this data can be represented by an <i>encoding</i>, a map from the set of Turing Machines to $\\Sigma^\\star$. For example, if $\\Sigma=\\{0,1\\}$, then the encoding of the Turing Machine is just a description of the machine in binary. We don't explain exactly how to do this, but it should be clear that it's possible to give an explicit but complicated scheme to do this. We wave our hands and claim that the encoding can be assumed to be a bijection.\n",
    "\n",
    "So the encoding allows us to associate Turing machines with strings. This is an example of the fact that programs can also be viewed as data, namely the sourcecode."
   ]
  },
  {
   "cell_type": "markdown",
   "metadata": {},
   "source": [
    "<h2>The Universal Turing Machine</h2>\n",
    "The operation of any single Turing Machine is very simple: Given a description (encoding) of the Turing Machine, it is routine to carry out the computational step indicated by that machine's transition function. In fact, it is so routine that following the transition function can be mechanized by another Turing Machine!\n",
    "\n",
    "For any given alphabet $\\Sigma$, there is a single Turing Machine $\\mathcal{U}$ called the <i>Universal Turing Machine</i> that takes as its input a pair $(\\mathcal{M},arg)$, where\n",
    "\n",
    "1. $\\mathcal{M}$ is a description of a Turing machine using $\\Sigma$.\n",
    "2.  $arg$ is an input for $\\mathcal{M}$\n",
    "\n",
    "The output of $\\mathcal{U}$ is the pair $(\\mathcal{M}, out)$, where out is the output of $\\mathcal{M}$ on the input $arg$. We say that $\\mathcal{U}$ <i>simulates</i> $\\mathcal{M}$ because we see the output of $\\mathcal{M}$ given the machine $\\mathcal{U}$.\n",
    "\n",
    "A modern computer is like $\\mathcal{U}$, and the program that it runs is like the machine $\\mathcal{M}$. The input to the machine is like $arg$. We could also think of the Python interpreter as being $\\mathcal{U}$ and the script that it runs as $\\mathcal{M}$. An object is <i>Turing Complete</i> if it is able to simulate $\\mathcal{U}$, which is equivalent to being able to simulate any Turing Machine.\n",
    "\n",
    "The Universal Turing Machine is significant because it demonstrates that we only need to build a single machine ($\\mathcal{U}$) in order to run any algorithm. It would really suck if we had to build a new machine to run each program."
   ]
  },
  {
   "cell_type": "markdown",
   "metadata": {},
   "source": [
    "<h2>The Halting Problem</h2>\n",
    "\n",
    "Turing machines sometimes Halt, as determined by their transition function. It is also possible that they never halt and instead loop forever. Whether a machine halts or not may depend on the input to the machine.\n",
    "\n",
    "The Halting problem is the problem of deciding: Given a Turing machine $\\mathcal{M}$ and input $arg$, determine whether $\\mathcal{M}$ halts on input $arg$. Note that this is the same as determining whether the specific Turing Machine $\\mathcal{U}$ (the universal Turing Machine) halts on a given input.\n",
    "\n",
    "Usually, we can determine if a Python script will loop forever or if it will terminate (halt) by just inspecting the source code. The Halting problem asks if there is an algorithm that examines the source code and input and always gives a correct prediction about whether or not the program will halt. It is tempting to think that this is possible, and there are many examples of managers asking programmers to solve some version of this unsovlable problem.\n",
    "\n",
    "One naive approach to the halting problem is just to let the program run and see what happens. This approach will correctly identify when a program does halt. However, if a program does not halt, the approach is insufficient. We will never learn whether the program actually doesn't halt, or if we just didn't wait long enough to see it halt. A solution to the halting problem requires a yes/no answer in every instance.\n",
    "\n",
    "<h3>Argument that halting is unsolvable</h3>\n",
    "\n",
    "There is a tricky but standard <i>diagonalization</i> argument that the halting problem is not solvable. This is similar to the argument that the cardinality of $\\mathcal{R}$ is greater than the cardinality of $\\mathcal{N}$.\n",
    "Assume to the contrary that there is a Turing machine $\\mathcal{H}$ that takes as input a pair $(\\mathcal{M},arg)$. It will return \"halt\" if $\\mathcal{M}$ halts on $arg$, and it will return \"not halt\" if $\\mathcal{M}$ does not halt on arg.\n",
    "\n",
    "Using our encoding, we can number both the Turing machines and the allowable arguments, and consider the program that takes $i\\in \\mathbb{N}$ as input, and computes $\\mathcal{H}(i,i)$. (This is where the term 'diagonal argument' comes from). We define a new Turing machine $\\mathcal{H}^\\prime$ to take input $i\\in \\mathbb{N}$. The output of $\\mathcal{H}^\\prime$ on $i$ is either \"halt\" or it will not halt and instead loop forever. It is defined to be the opposite of $\\mathcal{H}(i,i)$. \n",
    "\n",
    "So $\\mathcal{H}^\\prime(i) = \\begin{cases} \\text{``halt\"} & \\text{if } \\mathcal{H}(i,i)=\\text{``not halt''} \\\\ \\text{not halt} & \\text{if } \\mathcal{H}(i,i)= \\text{``halt\"} \\end{cases}$.\n",
    "\n",
    "Finally, to complete the contradiction, we consider $\\mathcal{H}(\\mathcal{H}^\\prime,\\mathcal{H}^\\prime)$, where we identify $\\mathcal{H}^\\prime$ with a natural number via its encoding. First, suppose that $\\mathcal{H}(\\mathcal{H}^\\prime,\\mathcal{H}^\\prime) = \\text{``halt''}$. Then, by definition of $\\mathcal{H}$, it follows that $\\mathcal{H}^\\prime(\\mathcal{H}^\\prime)$ will halt. By definition of $\\mathcal{H}^\\prime$, it follows that $\\mathcal{H}(\\mathcal{H}^\\prime, \\mathcal{H}^\\prime)=\\text{``not halt''}$, and this is a contradiction.\n",
    "\n",
    "To avoid the contradiction above, we must have $\\mathcal{H}(\\mathcal{H}^\\prime,\\mathcal{H}^\\prime) = \\text{``not halt''}$. Then by definition of $\\mathcal{H}$, it follows that $\\mathcal{H}^\\prime(\\mathcal{H}^\\prime)$ will not halt. Therefore, by definition of $\\mathcal{H}^\\prime$, it follows that $\\mathcal{H}\\mathcal{H}^\\prime, \\mathcal{H}^\\prime)= \\text{``halt''} $. This is another contradiction. Therefore, in either case, we get a contradiction. From the contradiction, we conclude that there is no Turing Machine $\\mathcal{H}$."
   ]
  },
  {
   "cell_type": "markdown",
   "metadata": {},
   "source": [
    "<h2>Recursively Enumerable Languages</h2>\n",
    "\n",
    "The set of recursively enumerable languages is the set of languages that can be recognized by a Turing Machine that halts. However, a word that is not in the language doesn not need to be recognized as not being in the language. The set of strings that encode Turing Machines that halt when run on a blank tape is a recursively enumerable language, because we can simply run the machine and see what happens.\n",
    "\n",
    "The set of strings that encode Turing Machines that do not halt is not a recursively enumerable language. If it were, we would be able to solve the Halting problem, which we cannot do. This shows that some languages are not recursively enumerable."
   ]
  },
  {
   "cell_type": "markdown",
   "metadata": {},
   "source": [
    "<h2>Computational cost</h2>\n",
    "\n",
    "The point of defining Turing machines was to give a rigorous foundation to the vague notion of an \"algorithm\" so that we can talk about costs (like runtime) rigorously. There are two obvious ways to measure the cost of a Turing machine, given an input.\n",
    "\n",
    "1. We can count the number of steps that the Turing machine uses before it halts.\n",
    "2. We can count the number of memory cells that the Turing machine uses before it halts.\n",
    "\n",
    "These two measures roughly correspond to runtime and memory."
   ]
  },
  {
   "cell_type": "code",
   "execution_count": null,
   "metadata": {},
   "outputs": [],
   "source": []
  },
  {
   "cell_type": "markdown",
   "metadata": {},
   "source": [
    "<h2>Turing Machine Variants</h2>\n",
    "\n",
    "Our definition of a Turing Machine involved many arbitrary choices. For each arbitrary choice, we need to consider whether making another choice would make a significant difference. Here are some examples:\n",
    "\n",
    "1. What if we use a different alphabet, like $\\Sigma = \\{0,1\\}$?\n",
    "2. What if we allow multiple tapes, and a head on each tape? The transition function is allowed to depend on the letter under each head.\n",
    "3. What if we allow an infinite 2-dimensional tape, so the head can move up or down, in addition to left or right?\n",
    "4. What if we allow an $n$-dimensional tape?\n",
    "5. What if we do not allow the head to stay, and instead force it to move either left or right at each step?\n",
    "\n",
    "It is possible to show that each variant can be simulated by the usual Turing machine. If the variant machine halts after $n$ steps, the usual Turing machine will halt after $poly(n)$ steps for some polynomial, $poly$.\n",
    "\n",
    "There is one last variant that we can consider:\n",
    "\n",
    "A <i>nondeterministic Turing Machine</i> is a Turing machine, except that the transition function does not need to be a proper function. It may send the same input to multiple \"allowable\" outputs. In this case, the machine halts if it halts for some choice of the \"allowable\" outputs of the transition function.\n",
    "\n",
    "A major open question in CS is $P \\stackrel{?}{=} NP$, which asks whether it is possible to simulate nondeterministic Turing Machines that halts in $n$ steps using regular Turing Machines that halts in $poly(n)$ steps for some polynomial $poly$.\n",
    "\n",
    "Most experts seem to believe that $P\\neq NP$, on the basis that we have not found a way to do this."
   ]
  },
  {
   "cell_type": "markdown",
   "metadata": {},
   "source": []
  }
 ],
 "metadata": {
  "kernelspec": {
   "display_name": "Python 3",
   "language": "python",
   "name": "python3"
  },
  "language_info": {
   "name": "python",
   "version": "3.10.12"
  }
 },
 "nbformat": 4,
 "nbformat_minor": 2
}
