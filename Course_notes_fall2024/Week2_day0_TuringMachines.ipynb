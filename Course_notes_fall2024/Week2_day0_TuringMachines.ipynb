{
 "cells": [
  {
   "cell_type": "markdown",
   "metadata": {
    "vscode": {
     "languageId": "html"
    }
   },
   "source": [
    "<h1>Recursively Ennumerable Languages and Turing Machines</h1>\n",
    "\n",
    "<h2>Last time: Regular languages/ finite state machines</h2>\n",
    "In the last lecture, we discussed the bottom, simplest, level of the Chomsky hierarchy, pictured below.\n",
    "\n",
    "\n",
    "<img src=\"Chomsky-hierarchy.svg\" style=\"background-color:white;\">\n",
    "\n",
    "\n",
    "Each level of the hierarchy consists of a language and an accompanying machine that recognizes the language. In the case of regular languages, the associated machines are finite state machines.\n",
    "\n",
    "<h2>This time</h2>\n",
    "We jump to the top, most complex, level of the hierarchy and define Turing Machines, our model for computation, according to the Church-Turing Thesis."
   ]
  },
  {
   "cell_type": "markdown",
   "metadata": {},
   "source": [
    "<h2>Turing Machine definition</h2>\n",
    "\n",
    "Turing machines are defined relative to an alphabet (for example, \n",
    "$\\Sigma$ = \\{\"a\", \"t\", \"g\", \"c\"\\}. We define $\\Sigma^\\star$ to be $\\Sigma \\cup \\{\\_\\}$, where $\\_$ is a blank symbol.\n",
    " Turing Machine consists of the following data:\n",
    "\n",
    "1. A finite set, called <i>states</i>, denoted $S$.\n",
    "2. A set of states called the <i>accept states</i>, denoted $S_a\\subset S$.\n",
    "3. A special state called the <i>initial state</i>, denoted $s_0 \\in S$.\n",
    "4. A current state $c\\in S$, which can change.\n",
    "5. An infinite tape of <i>cells</i>. \n",
    "    - Each cell has a location. The locations correspond to integers.\n",
    "    - Each cell can contain a letter from the alphabet or be blank.\n",
    "6. A <i>head</i> which represents a location on the tape.\n",
    "7. A transition function $T:(\\Sigma^\\star \\times S)\\to (\\Sigma^\\star \\times S \\times\\{L,R,S\\}) \\cup \\{Halt\\}$:\n",
    "\n",
    "The machine operates as follows.\n",
    "\n",
    "We assume that the tape initially contains the input to the machine. The machine starts at the initial state, $s_0$ and the head starts at the $0^{th}$ cell on the tape. At each step in the computation, the machine applies the transition function as follows. The input to the transition function is the letter that is written on the tape at the location of the head and the current state $c$.\n",
    "\n",
    "The outputs $(x,s,D)$ of the transition function indicate to:\n",
    "\n",
    "1. Write $x$ onto the tape at the location of the head.\n",
    "2. Change the state to $c=s$.\n",
    "3. Move the head left if $D=L$, right if $D=R$ and leave the head if $D=S$.\n",
    "\n",
    "If the transition function returns ``Halt'' the computation ends and the state does not change. The input is accepted if the final state is an accept state."
   ]
  },
  {
   "cell_type": "markdown",
   "metadata": {},
   "source": [
    "<h2>Example: aaa...ttt...</h2>\n",
    "\n",
    "We saw in the previous lecture that the language $\\mathcal{S}=\\{a^n t^n: n \\in \\mathbb{N}\\}$ is not a regular language. We show now that it can be recognized by a Turing machine using the following procedure:\n",
    "\n",
    "0. Assume that the input is initially written on the tape.\n",
    "1. Check that the first letter is $a$ or $\\_$. \n",
    "    - If it is $\\_$, then halt and accept.\n",
    "    - If it is $a$, write $\\_$ and move right.\n",
    "2. Move the head to the right until $\\_$ is read, then move left.\n",
    "3. If the letter under the head is $t$, erase it and write $\\_$. Otherwise, reject.\n",
    "4. Move the head to the left until $\\_$ is read, then move the head right once and return to step 1.\n",
    "\n",
    "We can draw this as follows:\n",
    "\n",
    "\n",
    "<img src=\"turing_machine_ex.png\" style=\"background-color:white;\">\n",
    "\n",
    "In the above, we decorate arrows from one state to another with $x; y D$, where $x$ is the letter read, $y$ is the letter written, and $D$ is the direction that the head moves. We only used the letters $a$ and $t$. If the letters $g$ or $c$ are read in any state, the corresponding arrows should point to \"reject.\" We omit these arrows to avoid clutter in the diagram."
   ]
  },
  {
   "cell_type": "markdown",
   "metadata": {},
   "source": [
    "<h2>Recursively Enumerable Languages<h2>\n",
    "\n",
    "..."
   ]
  },
  {
   "cell_type": "markdown",
   "metadata": {},
   "source": [
    "<h2>The Church-Turing Thesis</h2>\n",
    "\n",
    "Usually, we only talk about accept/reject problems for simplicity. These are also called <i>descision problems</i>. But Turing Machines are not limited to descision problems. They can modify the contents of the tape. As a homework exercise, you will describe a Turing Machine that takes in a binary number and increments it by one. This demonstrates that they can perform complex calculations, like a Python program. \n",
    "\n",
    "Every algorithm that can be written in Python consists of finitely many lines. At any point in the algorithm, there is a single line that is active, and these correspond to the states of the Turing machine. The algorithm, expressed in Python, also stores the values of the variables, which are like the contents of the tape. Each line of python code passes to the next line, and possibly modifies some variables. The action of the current line of code is similar to the action of the transition function of the Turing Machine.\n",
    "\n",
    "The main difference between Python code and the Turing Machine is that there is no Python analog of the Turing Machine's head. Python code is assumed to be able to read or modify the value of any variable in a single step (this is called <i>random access</i>), whereas the head of the Turing Machine needs to move to the cell that represents that variable. The Turing Machine may be slower, but this analogy should make it clear that every Python script has a corresponding Turing Machine.\n",
    "\n",
    "The argument above is a basic version of the <i>Church Turing Thesis</i>, which states that Turing Machines formalize algorithms."
   ]
  },
  {
   "cell_type": "markdown",
   "metadata": {},
   "source": [
    "<h2>The Universal Turing Machine</h2>\n",
    "The operation of any single Turing Machine is very simple: Given a description of the Turing Machine, it is routine to carry out the computational step indicated by that machine's transition function. In fact, it is so routine that following the transition function can be mechanized by another Turing Machine!\n",
    "\n",
    "For any given alphabet $\\Sigma$, there is a single Turing Machine $\\mathcal{U}$ called the <i>Universal Turing Machine</i> that takes as its input a pair $(\\mathcal{M},arg)$, where\n",
    "\n",
    "1. $\\mathcal{M}$ is a description of a Turing machine using $\\Sigma$.\n",
    "2.  $arg$ is an input for $\\mathcal{M}$\n",
    "\n",
    "The output of $\\mathcal{U}$ is the pair $(\\mathcal{M}, $out$)$, where out is the output of $\\mathcal{M}$ on the input $arg$. We say that $\\mathcal{U}$ <i>simulates</i> $\\mathcal{M}$ because we see the output of $\\mathcal{M}$ given the machine $\\mathcal{U}$.\n",
    "\n",
    "A modern computer is like $\\mathcal{U}$, and the program that it runs is like the machine $\\mathcal{M}$. The input to the machine is like $arg$. We could also think of the Python interpreter as being $\\mathcal{U}$ and the script that it runs as $\\mathcal{M}$. An object is <i>Turing Complete</i> if it is able to simulate $\\mathcal{U}$, which is equivalent to being able to simulate any Turing Machine.\n",
    "\n",
    "The Universal Turing Machine is significant because it demonstrates that we only need to build a single machine ($\\mathcal{U}$) in order to run any algorithm. It would really suck if we had to build a new machine to run each program."
   ]
  },
  {
   "cell_type": "markdown",
   "metadata": {},
   "source": []
  }
 ],
 "metadata": {
  "kernelspec": {
   "display_name": "Python 3",
   "language": "python",
   "name": "python3"
  },
  "language_info": {
   "name": "python",
   "version": "3.10.12"
  }
 },
 "nbformat": 4,
 "nbformat_minor": 2
}
