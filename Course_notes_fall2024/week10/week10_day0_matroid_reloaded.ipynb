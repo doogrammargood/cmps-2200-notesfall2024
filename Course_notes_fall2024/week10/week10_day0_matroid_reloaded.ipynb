{
 "cells": [
  {
   "cell_type": "markdown",
   "metadata": {},
   "source": [
    "<h1>The Matroid, Reloaded</h1>\n",
    "\n",
    "<h3>Last Time:</h3>\n",
    "We saw Kruskal's algorithm as an example of the matroid greedy algoirthm. We examined the structure of spanning trees of graphs to get an idea of the structure of matroids.\n",
    "\n",
    "We introduced a matroid as a structure $(E,\\mathcal{M})$ where $E$ is a finite set and $\\mathcal{M}\\subset 2^E$ that satisfies the axioms:\n",
    "\n",
    "1. (Nontrivial) $\\emptyset \\in \\mathcal{M}$.\n",
    "2. (Downward closed) If $X\\in \\mathcal{M}$ and $Y\\subset X$, then $Y\\in \\mathcal{M}$.\n",
    "3. (Augmentation) If $X,Y\\in \\mathcal{M}$ and $|X|=|Y|+1$, then there exists $x\\in X-Y$ such that $Y\\cup\\{x\\}\\in \\mathcal{M}$.\n",
    "\n",
    "Some vocabulary that we've seen:\n",
    "- The elements of $\\mathcal{M}$ are called <i>independent sets</i>.\n",
    "- The maximal independent sets are called <i>bases</i>.\n",
    "\n",
    "<h3>This Time:</h3>\n",
    "We will develop the concept of the matroid further and introduce the example of the transversal matroid.\n",
    "\n",
    "<h3>Further vocabulary</h3>\n",
    "Here, we list some standard concepts related to matroids and give examples for how they relate to subforests of a graph.\n",
    "\n",
    "- Cycles: A <i>cycle</i> in a matroid is a minimal set $C$ such that $C\\not \\in \\mathcal{M}$. \n",
    "    - The name comes from the fact that cycles of a graph are the cycles of the subforest matroid.\n",
    "- Clutter: A <i>clutter</i> is a set of subsets $\\mathcal{C}$ such that for $C_1,C_2\\in \\mathcal{C}$, $C_1\\subset C_2\\implies C_1=C_2$.\n",
    "    - The set of cycles and the set of bases are both clutters.\n",
    "- Blocker: Given a clutter, its <i>blocker</i> is the set of minimal subsets that intersect each element of the clutter.\n",
    "    - The blocker of the set of spanning trees is a <i>cut set</i>: a minimal set of edges whose removal disconnects the graph.\n",
    "    - The blocker of the set of cut sets is the set of spanning trees.\n",
    "    - The blocker of the set of cycles are [feedback edge sets](https://en.wikipedia.org/wiki/Feedback_arc_set), the complements of spanning trees."
   ]
  },
  {
   "cell_type": "markdown",
   "metadata": {},
   "source": [
    "<h3>Some properties of cycles and cut sets</h3>\n",
    "\n",
    "Here are some basic facts about the vocabulary that we just developed. It should be easy to see that these facts are true in the case of spanning trees.\n",
    "\n",
    "1. Adding any edge to a spanning tree results in a cycle.\n",
    "2. For each spanning tree, that tree will contain at least one edge of each cut set.\n",
    "3. Given two different cycles $C_1,C_2$ and $e\\in C_1\\cap C_2$, we have that $C_1\\cup C_2 - (\\{e\\} \\cup U)$ is a cycle, for some $U\\subset E$.\n",
    "\n",
    "The last property characterizes the set of cycles. Let's prove that it holds in general for matroids.\n",
    "\n",
    "Let $C_1,C_2$ be cycles of a matroid. By definition, they are minimal sets that are not independent. Suppose that $e\\in C_1\\cap C_2$, $e_1\\in C_1 - C_2$ and $e_2\\in C_2-C_1$. To get a contradiction, suppose $C_1\\cup C_2 - \\{e\\}$ does not contain a cycle, and so is an independent set.\n",
    "\n",
    "Since cycles are minimal, $C_i-e_i$ are independent for $i=1,2$."
   ]
  },
  {
   "cell_type": "markdown",
   "metadata": {},
   "source": []
  }
 ],
 "metadata": {
  "kernelspec": {
   "display_name": "Python 3",
   "language": "python",
   "name": "python3"
  },
  "language_info": {
   "name": "python",
   "version": "3.10.12"
  }
 },
 "nbformat": 4,
 "nbformat_minor": 2
}
