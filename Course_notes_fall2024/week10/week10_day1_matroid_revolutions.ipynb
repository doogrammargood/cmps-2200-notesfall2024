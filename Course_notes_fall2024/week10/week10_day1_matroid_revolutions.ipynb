{
 "cells": [
  {
   "cell_type": "markdown",
   "metadata": {},
   "source": [
    "<h1>The Matroid: Revolutions (Greedoids)</h1>\n",
    "\n",
    "Last Time:\n",
    "We discussed the matroid and some of its structures, like bases, cycles, cutsets and feedback edge sets. We gave examples as the spanning tree and the employment problem (transversal matroids).\n",
    "\n",
    "This Time:\n",
    "We introduce the greedoid, a generalization of the matroid that explains Prim's and Dijkstra's algorithms.\n",
    "\n",
    "<h3>Greedoids</h3>\n",
    "\n",
    "A greedoid is similar to a matroid, except that the downward-closure axiom is replaced with an \"Accessibility\" axiom.\n",
    "\n",
    "A greedoid is a set $E$ and a set of subsets $\\mathcal{G}\\subset 2^E$ that satisfies the following properties:\n",
    "1. Nontrivial: $\\emptyset \\in \\mathcal{G}$\n",
    "2. Accessible: $(\\forall X\\in \\mathcal{G})(\\exists x \\in X ), X-\\{x\\}\\in \\mathcal{G}$.\n",
    "3. Augmentation: If $X,Y\\in \\mathcal{G}$ are such that $|X|=|Y|+1$, then $\\exists x \\in X-Y$ such that $Y\\cup\\{x\\}\\in \\mathcal{G}$.\n",
    "\n",
    "Since the accessibility axiom for greedoids is more general than the downward-closure axiom of matroids, every matroid is also a greedoid.\n",
    "\n",
    "It's weird that matroids and greedoids are associated to sets, because they are supposed to model greedy algorithms. In general, a greedy algorithm chooses items in sequence. Though we haven't seen this, it's concievable that the cost function could depend on the order in which the items are chosen. It turns out that matroids and greedoids be described in terms of sequences."
   ]
  },
  {
   "cell_type": "markdown",
   "metadata": {},
   "source": [
    "<h3>Greedoids for Prim's and Dijkstra's algorithm: Rooted subtrees</h3>\n",
    "\n",
    "We saw that Prim's and Dijkstra's algorithm can sort-of be explained using matroids and cut sets. But the explanation was a bit strained. These algorithms are more naturally described as greedy algorithms on a greedoid.\n",
    "\n",
    "Let $G$ be a graph, and let $E$ be its set of edges. Let $v$ be a vertex of $G$. Let $\\mathcal{G}_v \\subset 2^E$ be the set of edges that form a tree containing $v$. Then $(E,\\mathcal{G}_v)$ is a greedoid but not a matroid, as we now argue:\n",
    "\n",
    "0. To see that $(E,\\mathcal{G}_v)$ is not a matroid, let $T\\in \\mathcal{G}_v$, so $T$ is the set of edges of a tree containing $v$. If you remove an edge of $T$ that is not incident to a leaf, you will disconnect it so the result will not be a tree.\n",
    "1. Nontriviality: The graph $\\{v\\}$ is technically a tree containing $v$, and its edge set is $\\emptyset$.\n",
    "2. Accessibility: Every tree containing $v$ can be built up, adding one edge at a time in order of its distance from $v$. \n",
    "3. Augmentation: Let $X$ and $Y$ are be trees containing $v$ and $|E(X)|=|E(Y)|+1$, then $V(X)$ must contain some vertex that $V(Y)$ does not. Call this vertex $x_0$. Consider the path from $x_0$ to $v$. Let $x_i$ be the last element on that path that is not in $V(Y)$, which must exist because $v\\in Y$ and $x_0\\not \\in Y$. So $x_i\\in V(X)-V(Y)$ and $x_{i+1}\\in V(X)\\cap V(Y)$. We can add the edge $\\{x_i,x_{i+1}\\}$ to $E(Y)$. Call the resulting graph $Y^\\prime$.  \n",
    "    - $Y^\\prime$ is connected, since $x_{i+1}\\in V(Y)$. \n",
    "    - $Y^\\prime$ has one more vertex than edge, since we added one new edge and one new vertex. \n",
    "    - $v\\in Y^\\prime$ because $v\\in V(Y)$\n",
    "    - $Y^\\prime \\in \\mathcal{G}_v$ by the points above."
   ]
  },
  {
   "cell_type": "markdown",
   "metadata": {},
   "source": [
    "<h3>Optimization over Greedoids</h3>\n",
    "\n",
    "Let $w:\\mathcal{G}\\to \\mathbb{R}_+$ be an objective function (a function that we want to maximize). Which cost functions allow greedy algorithms to achieve their optimum?\n",
    "\n",
    "For matroids, we assumed that $w$ was linear, meaning that it is given by summing the value of the function over the set elements. We were able to prove that for such cost functions, a natural greedy algorithm is optimal. But the proof relies on downward-closure in an essential way. In fact, the analogous claim for greedoids is not even true! Minimizing greedoids over linear functions are, in general, exponentially hard. We impose an additional requirement that allows linear objective functions to be optimized by a natural greedy algorithm. See the theorem that guarantee's Prim's algorithm.\n",
    "\n",
    "This is one reason that the theory of greedoids is more elaborate than the theory of matroids: the criteria for a function $w$ to be optimized by a greedy algorithm is more complicated. We explain this by giving examples of the function $w_P$ and $w_D$ that define Prim's and Dijkstra's algorithm, respectively. Let $v\\in V(G)$ be a vertex, and let $T_v$ be a subtree of $G$ containing $v$. Then Prim's and Dijkstra's algorithms are both the same greedy algorithm that extends $T_v$, except that they use different objective functions, $w_P$ and $w_D$. \n",
    "\n",
    "- (Prim's algorithm) The objective function $w_P$ is a linear objective function: $w_P(T_v) = \\sum_{e\\in E(T_v)} w(e)$\n",
    "- (Dijkstra's algorithm) The objective function $w_D$ is the sum of distances to the nodes of $T_v$, $w_D(T_v)=\\sum_{e\\in E(T_v)} \\sum_{e^\\prime \\in Path(e,v)} w(e^\\prime)$.\n",
    "By $Path(e,v)$, we mean the set of edges from $v$ to the far endpoint of $v$. This set is well-defined because there is a unique path from $v$ to any vertex in $T_v$, because $T_v$ is a tree."
   ]
  },
  {
   "cell_type": "markdown",
   "metadata": {},
   "source": [
    "<h3>Theorems that guarantee Prim's and Dijkstra's algorithms are optimal.</h3>\n",
    "Here, we describe some of the machinery that is used to prove that Prim's and Dijkstra's algorithms are optimal using the greedoid framework.\n",
    "\n",
    "<h5>Prim's Algorithm</h5>\n",
    "\n",
    "To prove that Prim's algorithm gives the optimal result, we use Theorem 2 from [here](https://nor-blog.codeberg.page/posts/2023-01-04-greedoids/). We quote the theorem here, altering the notation.\n",
    "\n",
    "Let $(E,\\mathcal{G})$ be a greedoid. Let $w:E\\to\\mathbb{R}_+$ be a weight function. Suppose that for $X\\in G$, $w(X)$ is given linearly: $w(X)=\\sum_{x\\in X}w(x)$. Suppose further that the greedoid has the following property:\n",
    "\n",
    "(Condition 1) If $A,A\\cup\\{x\\}\\in \\mathcal{G}$ and $B$ is a maximal element of $\\mathcal{G}$ such that $A\\subset B$ and $x\\in E-B$, then there exists $y\\in B-A$ such that $A\\cup \\{y\\} \\in \\mathcal{G}$ and $(B\\cup \\{x\\})-\\{y\\}$ is also a maximal element of $\\mathcal{G}$.\n",
    "\n",
    "Then we can find $X\\in \\mathcal{G}$ such that $w(X)$ is maximal by building $X$ one element at a time greedily.\n",
    "\n",
    "Prim's algorithm works because we can verify this Condition 1 for the greedoid $\\mathcal{G}_v$.\n",
    "\n",
    "<h5>Dijkstra's Algorithm</h5>\n",
    "\n",
    "To prove that Dijkstra's algorithm gives the optimal result, we use Equation 1.4 on page 156 of Chapter XI of Korte, Schrader and Lovasz's book, Greedoids. Together with their Theorem 1.3, we obtain the following claim:\n",
    "\n",
    "Let $(E,\\mathcal{G})$ be a greedoid. Let $w:\\mathcal{G}\\to \\mathbb{R}_+$ be an objective function that satisfies the following property:\n",
    "\n",
    "(Condition 2) Let $A\\subset B$ and $x\\in E-B$. Assume that $A,B,A\\cup \\{x\\},B\\cup\\{x\\}\\in \\mathcal{G}$. If for all $y$ such that $A\\cup \\{y\\}\\in \\mathcal{G}$, $w(A\\cup \\{y\\})\\leq w(A \\cup \\{x\\})$, then for all $z$ such that $B\\cup \\{z\\}\\in \\mathcal{G}$, we have $w(B\\cup \\{z\\})\\leq w(B\\cup \\{x\\})$.\n",
    "\n",
    "Then we can find $X\\in \\mathcal{G}$ such that $w(X)$ is maximal by building $X$ one element at a time greedily."
   ]
  },
  {
   "cell_type": "markdown",
   "metadata": {},
   "source": [
    "<h3>Limitations of Greedoids</h3>\n",
    "\n",
    "According to dogma, greedoids promise a unified way to understand greedy algorithms. However, the drawback is that the theory is very confusing and there is a shortage of references that are well-explained from an algorithmic perspective. It's weird that we need two different theorems for Prim's and Dijkstra's algorithms.\n",
    "\n",
    "It's also not clear how well the matroid/greedoid framework explains greedy algorithms. While it has been established that every matroid and greedoid have associated optimization problems that can be solved with matroids and greedoids, it is not true (at least, I haven't seen anyone claim this) that every greedy algorithm can fit into the framework. It's impossible to prove that an algorithm doesn't fit into a framework, because one could always argue that the framework can be extended or the problem can be modified in some clever way.\n",
    "\n",
    "We have seen a greedy algorithm that doesn't seem to fit into the matroid/greedoid framework: unittask scheduling. If the independent sets are sets of tasks that don't overlap, then they will not form a matroid or greedoid because the maximal independent sets are not all of the same size, whereas the maximal sets of a greedoid or matroid are all of the same size due to the exchange axiom."
   ]
  },
  {
   "cell_type": "markdown",
   "metadata": {},
   "source": []
  }
 ],
 "metadata": {
  "language_info": {
   "name": "python"
  }
 },
 "nbformat": 4,
 "nbformat_minor": 2
}
