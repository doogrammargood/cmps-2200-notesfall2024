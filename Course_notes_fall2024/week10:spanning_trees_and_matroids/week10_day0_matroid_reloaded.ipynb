{
 "cells": [
  {
   "cell_type": "markdown",
   "metadata": {},
   "source": [
    "<h1>The Matroid, Reloaded</h1>\n",
    "\n",
    "<h3>Last Time:</h3>\n",
    "We saw Kruskal's algorithm as an example of the matroid greedy algoirthm. We examined the structure of spanning trees of graphs to get an idea of the structure of matroids.\n",
    "\n",
    "We introduced a matroid as a structure $(E,\\mathcal{M})$ where $E$ is a finite set and $\\mathcal{M}\\subset 2^E$ that satisfies the axioms:\n",
    "\n",
    "1. (Nontrivial) $\\emptyset \\in \\mathcal{M}$.\n",
    "2. (Downward closed) If $X\\in \\mathcal{M}$ and $Y\\subset X$, then $Y\\in \\mathcal{M}$.\n",
    "3. (Augmentation) If $X,Y\\in \\mathcal{M}$ and $|X|=|Y|+1$, then there exists $x\\in X-Y$ such that $Y\\cup\\{x\\}\\in \\mathcal{M}$.\n",
    "\n",
    "Some vocabulary that we've seen:\n",
    "- The elements of $\\mathcal{M}$ are called <i>independent sets</i>.\n",
    "- The maximal independent sets are called <i>bases</i>.\n",
    "\n",
    "<h3>This Time:</h3>\n",
    "We will develop the concepts related to the dual matroid and introduce the example of the transversal matroid.\n",
    "\n",
    "<h3>Further vocabulary</h3>\n",
    "Here, we list some standard concepts related to the duality of matroids and give examples for how they relate to subforests of a graph.\n",
    "\n",
    "- Cycles: A <i>cycle</i> in a matroid is a minimal set $C$ such that $C\\not \\in \\mathcal{M}$. \n",
    "    - The name comes from the fact that cycles of a graph are the cycles of the subforest matroid.\n",
    "- Clutter: A <i>clutter</i> is a set of subsets $\\mathcal{C}$ such that for $C_1,C_2\\in \\mathcal{C}$, $C_1\\subset C_2\\implies C_1=C_2$.\n",
    "    - The set of cycles and the set of bases are both clutters.\n",
    "- Blocker: Given a clutter, its <i>blocker</i> is the set of minimal subsets that intersect each element of the clutter.\n",
    "    - The blocker of the set of spanning trees is a <i>cut set</i>: a minimal set of edges whose removal disconnects the graph.\n",
    "    - The blocker of the set of cut sets is the set of spanning trees.\n",
    "    - The blocker of the set of cycles are [feedback edge sets](https://en.wikipedia.org/wiki/Feedback_arc_set), the complements of spanning trees.\n",
    "    - Applying the blocker twice returns the original clutter.\n",
    "- The blocker allows us to define cut sets and feedback sets for general matroids."
   ]
  },
  {
   "cell_type": "markdown",
   "metadata": {},
   "source": [
    "Here are some basic facts about the vocabulary that we just developed. It should be easy to see that these facts are true in the case of spanning trees.\n",
    "\n",
    "1. Adding any edge to a spanning tree results in a cycle.\n",
    "2. For each spanning tree, that tree will contain at least one edge of each cut set.\n",
    "3. Given two different cycles $C_1,C_2$ and an element $e\\in C_1\\cap C_2$, we have that $C_1\\cup C_2 - (\\{e\\} \\cup U)$ is a cycle, for some $U\\subset E$.\n",
    "4. Let $B_1$ and $B_2$ be different bases. Let $b_1\\in B_1-B_2$. There exists $b_2\\in B_2$ such that $(B_2 \\cup \\{b_1\\}) - \\{b_2\\}$ is a basis. See Problem 2.b on Homework 7.\n",
    "\n",
    "We defined matroids in terms of independent sets (subforests). But the independent sets are determined by the bases, the cycles, the cut sets, or the feedback edge sets. Just as we can axiomatize the independent sets, we can also axiomatize any of these concepts as an alternative definition for the matroid. For example, a clutter $\\mathcal{C}$ on a set $E$ is a valid set of cycles if it satisfies property $3$ above."
   ]
  },
  {
   "cell_type": "markdown",
   "metadata": {},
   "source": [
    "<h3>Cycle intersection property</h3>\n",
    "\n",
    "\n",
    "Property 3 above characterizes the set of cycles. Let's prove that it holds in general for matroids.\n",
    "\n",
    "Let $C_1,C_2$ be cycles of a matroid. By definition, they are minimal sets that are not independent. Suppose that $e\\in C_1\\cap C_2$ and $e_1\\in C_1 - C_2$. To get a contradiction, suppose that $(C_1\\cup C_2) - \\{e\\}$ does not contain a cycle, and so is an independent set.\n",
    "\n",
    "Since cycles are minimal, $C_1-\\{e_1\\}$ is independent. We can repeatedly apply the augmentation axiom to add elements of $(C_1\\cup C_2) - \\{e\\}$. Let $C_3$ be the independent set that results from this process. We will conclude that $C_3$ contains $C_2$ and so is not independent. In more detail,\n",
    "\n",
    "1. $|C_3|=|(C_1\\cup C_2) - \\{e\\}|$\n",
    "    - We apply augmentation until this is true.\n",
    "2. $C_3$ is independent.\n",
    "    - The augmentation axiom guarantees this.\n",
    "3. $C_3 \\supset C_1 - \\{e_1\\}$\n",
    "    - We started the augmentation process with $C_1 - \\{e_1\\}$.\n",
    "4. $e_1\\not \\in C_3$. \n",
    "    - Otherwise, $C_1\\subset C_3$ which contradicts that $C_3$ is independent.\n",
    "5. $C_3\\subset (C_1 \\cup C_2) - \\{e_1\\}$.\n",
    "    - We started from $C_1 -\\{e_1\\}$ and added elements of $C_1\\cup C_2 - \\{e\\}$. By $4$, we never add $e_1$.\n",
    "6. $C_3= (C_1 \\cup C_2) - \\{e_1\\}$.\n",
    "    - Using $1$ and $5$.\n",
    "7. $C_3 \\supset C_2$\n",
    "    - Using $6$ and the fact that $e_1\\not \\in C_2$.\n",
    "8. $C_3$ is not independent.\n",
    "    - $C_3$ contains the cycle $C_2$.\n",
    "9. Contradiction\n",
    "    - Between 8 and 2."
   ]
  },
  {
   "cell_type": "markdown",
   "metadata": {},
   "source": [
    "<h3>Matroid duality</h3>\n",
    "\n",
    "Let $(E,\\mathcal{M})$ be a matroid and $\\mathcal{B}$ be its set of bases. We can construct another matroid, the dual matroid, whose cycles are $\\mathcal{B}$. Let $\\mathcal{M}^\\prime = \\{M^\\prime \\in 2^E : \\exists B\\in \\mathcal{B}, B\\cap M^\\prime = \\emptyset\\}$. We claim that $(E,\\mathcal{M}^\\prime)$ is a matroid. We call it the <i>dual matroid</i>.\n",
    "\n",
    "To justify the name, we should check that the dual matroid is a matroid. Clearly, $\\mathcal{M}^\\prime$ satisfies nontriviality and is downward closed. We should check that it satisfies the exchange property is proven [here](https://math.stackexchange.com/questions/2616810/how-to-prove-that-the-dual-of-a-matroid-satisfies-the-exchange-property).\n",
    "\n",
    "The matroid duality turns the complements of bases (feedback edge sets) into the new bases.\n",
    "\n",
    "| $\\mathcal{M}$ | $\\mathcal{M}^\\prime$ |\n",
    "|---------------|----------------------|\n",
    "| Basis         | Feedback edges       |\n",
    "| Cycles        | Cut Set              |\n",
    "| Cut Sets      | Cycles               |\n",
    "| Feedback edges| Basis                |"
   ]
  },
  {
   "cell_type": "markdown",
   "metadata": {},
   "source": [
    "<h3>Planar dual</h3>\n",
    "\n",
    "Let $G$ be a graph. It is known that $G$ is planar iff the the dual of the matroid associated with $G$ is also planar. In this case, we can draw this matroid by using the planar dual of the graph.\n",
    "\n",
    "Given a graph $G$ embedded in the plane, its planar dual is the graph $G^\\prime$ which has regions as its vertices, and two regions are adjacent if they are separated by an edge of the original graph.\n",
    "\n",
    "<img src=\"Duals_graphs.svg\" style=\"background-color:white;\">\n",
    "\n",
    "The matroid of subforests of the dual graph is the dual matroid to the matroid of subforests of the original graph."
   ]
  },
  {
   "cell_type": "markdown",
   "metadata": {},
   "source": [
    "<h3>Cut Sets and Spanning Trees</h3>\n",
    "\n",
    "We have seen that cut sets are the blocker of spanning trees for graphic matroid. Every cut set will intersect every spanning tree. Moreover, if a cut set has a minimal edge, then that edge will be in the minimal spanning tree.\n",
    "\n",
    "This leads us to two other algorithms to compute spanning trees. These algorithms cannot be easily understood in terms of matroids, but they can be understood using the more general framework of greedoids.\n",
    "\n",
    "<h5>Prim's Algorithm</h5>\n",
    "\n",
    "Maintain a connected component of $G$. Initially, this connected component can be any arbitrary vertex. At each step, consider the cut set between the connected component and the rest of the graph. Add the smallest edge from that cut set to the connected component and update the cut set. Repeat until the connected component contains the entire graph.\n",
    "\n",
    "Work: $O(E\\log(V))$. Because it is very similar to dijkstra's algorithm.\n",
    "\n",
    "<h5>Boruvka's algorithm</h5>\n",
    "Maintain several connected components. Initially, the connected components are the individual vertices. For each connected component, identify the smallest edge on the frontier of that component. Add these edges and merge components on either side of the added edges. \n",
    "\n",
    "We must assume that the edge-weights are unique for this to work. The benefit of Boruvka's algorithm is that it is easily parallelizable because the computation for each connected component is independent.\n",
    "\n",
    "Work: $O(E\\log(V))$. Because each iteration halves the number of connected components, there are $\\log(V)$ iterations. Each iteration only needs to examine each edge once.\n",
    "\n",
    "Span: $O(\\log(E)\\log(V))$. Because each iteration can be performed in $\\log(E)$ span: Filter the edges according to which connected component they're on, and take the minimum of each."
   ]
  },
  {
   "cell_type": "markdown",
   "metadata": {},
   "source": [
    "<h3>Transversal Matroids</h3>\n",
    "\n",
    "Let $G=W\\cup J$ be a bipartite graph. We view $W$ as a set of workers and $J$ as a set of jobs. An edge exists between a worker and a job if that worker is qualified to perform that job. We assume that each job only needs $1$ worker.\n",
    "\n",
    "Assume that we have a function $w:W\\to \\mathbb{R}_+$ that represents the cost to hire that worker. We would like to assign as many workers jobs as possible, while minimizing the total cost.\n",
    "\n",
    "The transversal matroid has ground set $W$. Its independent sets are sets of workers that can be matched with jobs.\n",
    "\n",
    "Clearly, the transversal matroid satisfies nontriviality and downward-closure. We only need to verify that it satisfies the exchange property.\n",
    "\n",
    "<h3>Exchange property of Transversal matroids:</h3>\n",
    "\n",
    "Suppose that $A,B\\subset W$ satisfy that $|A|=|B|+1$ and are independent. Since they are independent, assume that they have matchings to subsets of $J$, called $A$-match and $B$-match. Warning: We cannot assume that their matchings are consistent, in the sense that they induce the same matching by restricting to $A\\cap B$.\n",
    "\n",
    "Let's consider $3$ disjoint sets, $A-B,A\\cap B, B-A \\subset W$. Let $a\\in A-B$. There are $3$ possibilities for the $A$-match of $a$. By the edge to an alternating path, we can reduce the third possibility to the first two.\n",
    "\n",
    "1. The $A$-match of $a$ is not $B$-matched to $B$.\n",
    "    - Then we augment $B$ with $a$.\n",
    "2. The $A$-match of $a$ is in $B-A$.\n",
    "3. The $A$-match of $a$ is in $A\\cap B$.\n",
    "    - We will use the path of $A$-match edges followed by $B$-match edges to define a path that starts at $a$ and ends at an element of $B-A$ or outside of $B$.\n",
    "\n",
    "Since $|A|=|B|+1$, it follows that $|A-B|>|B-A|$. For each element of $B-A$, there is at most one alternating path that ends on that element. By counting, scenario $1$ must occur for some element of $A-B$, and we augment with that element. This will require switching the $B$-match of each element along that path to its $A$-match. See the diagram below for an example.\n",
    "\n",
    "<img src=\"figures/traversal_matroid.jpg\" width=\"50%\">\n",
    "\n",
    "In this figure, we've drawn the vertices of $W$ and $J$. The black edges are the $A$-matches. The blue edges are the $B$-matches. In green, we've identified a vertex $a\\in A-B$ such that the alternating path of $A$-matches and $B$-matches ends in a vetex that is not matched to $B$, which is case $1$. The exchange axiom is verified by observing that we can add $a$ to $B$ by using the $A$-match of the middle vertex of $A\\cap B$. In general, to get a matching for $B\\cup\\{a\\}$, we flip the colors on the edges of the path from $a$, which is labeled in green in the diagram. After flipping the colors, the blue edges match $B\\cup\\{a\\}$ to vertices in $J$.\n",
    "\n",
    "We proved that the transversal matroid is a matroid. This establishes that the greedy matroid algorithm applies to the transversal matroid and solves the problem.\n",
    "\n",
    "Question: Do Prim's algorithm and Boruvka's algorithm have an analog for transversal matroids?"
   ]
  }
 ],
 "metadata": {
  "kernelspec": {
   "display_name": "Python 3",
   "language": "python",
   "name": "python3"
  },
  "language_info": {
   "name": "python",
   "version": "3.10.12"
  }
 },
 "nbformat": 4,
 "nbformat_minor": 2
}
