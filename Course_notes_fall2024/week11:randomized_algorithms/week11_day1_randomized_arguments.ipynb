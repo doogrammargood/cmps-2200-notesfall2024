{
 "cells": [
  {
   "cell_type": "code",
   "execution_count": null,
   "metadata": {},
   "outputs": [],
   "source": [
    "# setup\n",
    "from IPython.core.display import display,HTML\n",
    "display(HTML('<style>.prompt{width: 0px; min-width: 0px; visibility: collapse}</style>'))\n",
    "display(HTML(open('../rise.css').read()))\n",
    "\n",
    "# imports\n",
    "import numpy as np\n",
    "import matplotlib.pyplot as plt\n",
    "import seaborn as sns\n",
    "%matplotlib inline\n",
    "sns.set(style=\"whitegrid\", font_scale=1.5, rc={'figure.figsize':(12, 6)})"
   ]
  },
  {
   "cell_type": "markdown",
   "metadata": {},
   "source": [
    "<h1>Randomized arguments<h1>\n",
    "\n",
    "<h3>Last Time</h3>\n",
    "We introduced models of computation that involve randomness and reviewed the mathematical framework of probability theory\n",
    "\n",
    "<h3>This Time</h3>\n",
    "We mention some futher uses of randomness."
   ]
  },
  {
   "cell_type": "markdown",
   "metadata": {},
   "source": [
    "<h3>Random Spanning Trees</h3>\n",
    "Let $G$ be a graph with labeled vertices. Suppose that we want to choose a spanning tree of $G$, uniformly at random. One approach is to choose a random weighting of the edges, then take a minimal spanning tree. But does this actually produce the correct distribution? Or will some spanning trees be over-represented?\n",
    "\n",
    "Here is a brief argument that we do get the uniform distribution on spanning trees. This argument applies generally to choosing a maximal independent set of a matroid uniformly at random. It relies on the matroid basis exchange property.\n",
    "\n",
    "Let $G$ be a graph and let $S_1$ and $S_2$ be spannning trees of $G$ such that $|E(S_1)-E(S_2)|=1$. Let $\\Pi_1:E(G)\\to \\{0,1,\\dots |E(G)|-1\\}$ and $\\Pi_2:E(G)\\to \\{0,1,\\dots |E(G)|-1\\}$ be orderings of the edges that produce $S_1$ and $S_2$ respectively as the minimal spanning trees. Let $e_1\\in E(S_1)-E(S_2)$ and $e_2 \\in E(S_2)-E(S_1)$. There is a bijection  $\\tau: \\Pi_1 \\to \\Pi_2$ defined by $\\tau(\\pi_1)(e)=\\begin{cases}\\pi_1(e) &\\text{if } e\\neq e_1,e_2\\\\ \\pi_1(e_1) &\\text{if } e=e_2\\\\ \\pi_1(e_2) &\\text{if } e=e_1 \\end{cases}$.\n",
    "\n",
    "This shows that the probability of producing the spanning tree $S_1$ is the same as the probability of producing the spanning tree $S_2$. Since any basis can be transformed into any other basis by repeatedly applying the matroid basis exchange property, this shows that all bases are produced with the same probabilities.\n",
    "\n",
    "In contrast to this argument in the previous section, it is not possible to choose a planar graph uniformly at random by randomly permuting the edges, then adding edges only when the new edges do not destroy planarity."
   ]
  },
  {
   "cell_type": "markdown",
   "metadata": {},
   "source": [
    "<h3>The probabilistic method</h3>\n",
    "\n",
    "Here, we recount a simple example of how probability theory can be used to prove non-probabilistic statements, and how these proofs can be viewed as algorithms. This information comes from [The Probabilistic Method](https://math.bme.hu/~gabor/oktatas/SztoM/AlonSpencer.ProbMethod3ed.pdf) page 65.\n",
    "\n",
    "Tournaments: A tournament on $n$ players is a complete, directed graph $G$ with $|V(G)|=n$ such that each pair of vertices has a unique directed edge between them.\n",
    "\n",
    "Hamiltonain Cycles: Given a directed graph $G$, a Hamiltonian cycle that visits each vertex exactly once and returns to the starting vertex. The edges in the cycle need to agree with the direction of the edges in $G$.\n",
    "\n",
    "Claim: For each $n$, there exists a tournament with at least $\\frac{(n-1)!}{2^n}$ Hamiltonian cycles.\n",
    "\n",
    "Proof: Count the expected number of Hamiltonian cycles when the tournament is chosen uniformly at random. Let $H:G\\to \\mathbb{N}$ be this number of Hamiltonian cycles. For a cyclically ordered set of vertices $C$, let $C(G)=\\begin{cases}1 &\\text{if } C \\text{ is a Hamiltonian Cycle}\\\\ 0 &\\text{Otherwise} \\end{cases}$ be the indicator random variable for the event that $C$ is a Hamiltonian cycle. Note that $H(G)=\\sum_{C} C(G)$, where the sum is over all cyclic orders of $G$. We use linearity of expectation to calculate\n",
    "\n",
    "\\begin{align*}\n",
    "\\mathbf{E}_G (H(G))&=\\mathbf{E} (\\sum_{C} C(G)) &= \\sum_{C}\\mathbf{E}(C(G)) = \\frac{(n-1)!}{2^n}\n",
    "\\end{align*}\n",
    "\n",
    "The last summation is evaluated by noting that there are $(n-1)!$ terms in the summation (one for each cyclic order of $V(G)$) and for each $C$, $\\mathbf{E}(C(G))$ is the probability that all of the edges of the tournament are aligned with this cyclic order. There are $n$ edges, and each edge is in either of $2$ orientations, so this probability is $\\frac{1}{2^n}$.\n",
    "\n",
    "Algorithm: We can interpret the proof as an algorithm: If you wanted to produce a tournament that has at least $\\frac{(n-1)!}{2^n}$ Hamiltonian cycles, then the proof suggests that we could choose a tournament at random and check if it has the desired number of Hamiltonian cycles. If not, we re-sample and use another tournament. There are some issues with this proposed algorithm:\n",
    "1. Is it possible to sample from the set of tournaments (Yes, just flip a coin for every edge.)\n",
    "2. Can we check if a tournament has the requisite number of Hamiltonian cycles? (Probably not, since Hamiltonian Cycle is NP-complete.)\n",
    "3. Can we conclude that the probability of successfully choosing a Tournament is large? (Not immediately, but maybe you could argue about the variance of number of Hamiltonian cycles.)"
   ]
  },
  {
   "cell_type": "markdown",
   "metadata": {},
   "source": []
  },
  {
   "cell_type": "markdown",
   "metadata": {},
   "source": []
  },
  {
   "cell_type": "markdown",
   "metadata": {},
   "source": []
  },
  {
   "cell_type": "markdown",
   "metadata": {},
   "source": []
  }
 ],
 "metadata": {
  "language_info": {
   "name": "python"
  }
 },
 "nbformat": 4,
 "nbformat_minor": 2
}
