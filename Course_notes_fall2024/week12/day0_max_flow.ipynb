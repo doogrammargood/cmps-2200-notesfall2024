{
 "cells": [
  {
   "cell_type": "code",
   "execution_count": null,
   "metadata": {},
   "outputs": [],
   "source": [
    "# setup\n",
    "from IPython.core.display import display,HTML\n",
    "display(HTML('<style>.prompt{width: 0px; min-width: 0px; visibility: collapse}</style>'))\n",
    "display(HTML(open('../rise.css').read()))\n",
    "\n",
    "# imports\n",
    "import numpy as np\n",
    "import matplotlib.pyplot as plt\n",
    "import seaborn as sns\n",
    "%matplotlib inline\n",
    "sns.set(style=\"whitegrid\", font_scale=1.5, rc={'figure.figsize':(12, 6)})"
   ]
  },
  {
   "cell_type": "markdown",
   "metadata": {},
   "source": [
    "<h1>Max Flow and Linear Programming</h1>\n",
    "\n",
    "<h3>Last Time</h3>\n",
    "We saw some examples of how probability theory can be useful in constructing algorithms. Before that, we saw transversal matroids and gave an algorithm for determining matchings in bipartite graphs.\n",
    "\n",
    "<h3>This Time</h3>\n",
    "We see another, more modern method to calculate matchings in bipartite graphs based on linear programming. We will then develop this method of linear programming and see that it is a general and useful technique. We will later apply it to the problem of drawing graphs."
   ]
  },
  {
   "cell_type": "markdown",
   "metadata": {},
   "source": [
    "<h3>Max Flow and Bipartite Matchings </h3>\n",
    "\n",
    "Let $G=W\\cup J$ be a bipartite graph. Recall that in order to solve the employment problem, we needed an algorithm to determine a subset of $W$ could be matched with a subset of $G$. We argued that we could search the graph for alternating paths. Finding an alternating path allowed us to extend the matching. This is essentially Boom's algorithm and it is nice because it is direct and combinatorial.\n",
    "\n",
    "Now, we show that the problem can be cast easily as a max flow problem. In the max flow problem, we are given a directed graph with two special vertices, $source$ and $sink$. The edges have non-negative numbers called capacities. We want to assign numbers (a flow) to the edges such that each edge's flow is not more than its capacity, and, for each vertex, the sum of the flows into that vertex are equal to the flows out of that vertex. Finally, the solution to the max flow problem is the maximum amount of flow into the sink.\n",
    "\n",
    "Here is a contruction that transforms our bipartite matching problem into a max flow problem: Orient the edges of $G$ from $W$ to $J$ and add two additional vertices $source$ and $sink$. Draw an edge from $source$ to each vertex of $W$ and an edge from each vertex of $J$ to $sink$. Assign the capacity of $1$ to each edge. It should be clear that each matching corresponds to a flow. Since flows do not need to be integers, it's less obvious that each flow can be transformed into a matching.\n",
    "\n",
    "<img src=\"figures/max_flow.jpg\" width=\"30%\">\n",
    "\n"
   ]
  },
  {
   "cell_type": "markdown",
   "metadata": {},
   "source": [
    "<h3>Linear programming</h3>\n",
    "\n",
    "Let $n\\in \\mathbb{N}$ and let $c\\in \\mathbb{R}^n$ and $A$ be an $m\\times n$ real-valued matrix. Let $b\\in \\mathbb{R}^m$. A linear program is a problem of the form:\n",
    "\n",
    "Maximize $c^Tx$ such that $Ax\\leq b$ and $x\\geq 0$ where $x$ ranges over $\\mathbb{R}^n$. Here, the inequalities are vector inequalities, meaning that they are required to hold in each coordinate.\n",
    "\n",
    "Linear programs are significant because many problems (like max flow) can be cast as linear programs, and linear programs can be solved efficiently. For example, the linear program associated with the max flow problem sets $n=V(G)+E(G)$ and $m=E(G)+2V(G)$. We create $n$ variables, one for each edge of the flow graph. We get a constraint for each edge (that the flow cannot exceed the capacity) and two constraints for each vertex (the flow into a vertex is equal to the flow out; equality is two non-strict inequalities)."
   ]
  },
  {
   "cell_type": "code",
   "execution_count": 19,
   "metadata": {},
   "outputs": [
    {
     "name": "stdout",
     "output_type": "stream",
     "text": [
      "Maximum flow: 3.0\n"
     ]
    }
   ],
   "source": [
    "#ChatGPT Prompt: Write me a Python script to solve max flow of a bipartite graph using numpy and linear programming\n",
    "#It's not so clear that this script is correct. TODO: Check this script carefully.\n",
    "import numpy as np\n",
    "from scipy.optimize import linprog\n",
    "\n",
    "def max_flow_bipartite(adjacency_matrix,n,m):\n",
    "    \"\"\"\n",
    "    Solves the maximum flow problem in a bipartite graph using linear programming.\n",
    "\n",
    "    Parameters:\n",
    "        adjacency_matrix (numpy.ndarray): Binary adjacency matrix of the bipartite graph.\n",
    "                                           Shape: (n, m), where n is the number of left-side nodes\n",
    "                                           and m is the number of right-side nodes.\n",
    "\n",
    "    Returns:\n",
    "        float: Maximum flow value.\n",
    "    \"\"\"\n",
    "\n",
    "    # Total number of nodes: left-side + right-side + source + sink\n",
    "    total_nodes = n + m + 2\n",
    "    source = total_nodes - 2\n",
    "    sink = total_nodes - 1\n",
    "\n",
    "    # Total number of variables: flows along edges (source->left, left->right, right->sink)\n",
    "    total_vars = n + m + adjacency_matrix.sum()\n",
    "\n",
    "    # Objective: maximize the total flow into the sink\n",
    "    c = np.zeros(total_vars)\n",
    "    c[-m:] = -1  # Coefficients for flows into the sink (maximize by minimizing -flow)\n",
    "\n",
    "    # Equality constraints (flow conservation):\n",
    "    A_eq = []\n",
    "    b_eq = []\n",
    "\n",
    "    flow_var_idx = n + m  # Start index for left->right edge variables\n",
    "    edge_map = {}\n",
    "\n",
    "    # Source to left nodes\n",
    "    for i in range(n):\n",
    "        row = np.zeros(total_vars)\n",
    "        row[i] = 1  # Flow from source to left node i\n",
    "        A_eq.append(row)\n",
    "        b_eq.append(1)  # Each left node gets at most 1 unit of flow\n",
    "\n",
    "    # Left to right edges\n",
    "    for i in range(n):\n",
    "        for j in range(m):\n",
    "            if adjacency_matrix[i, j] == 1:\n",
    "                edge_map[(i, j)] = flow_var_idx\n",
    "                row = np.zeros(total_vars)\n",
    "                row[i] = -1  # Outflow from left node i\n",
    "                row[flow_var_idx] = 1  # Inflow to edge (i, j)\n",
    "                A_eq.append(row)\n",
    "                b_eq.append(0)\n",
    "                flow_var_idx += 1\n",
    "\n",
    "    # Right nodes to sink\n",
    "    for j in range(m):\n",
    "        row = np.zeros(total_vars)\n",
    "        row[n + j] = 1  # Flow into right node j\n",
    "        for i in range(n):\n",
    "            if (i, j) in edge_map:\n",
    "                row[edge_map[(i, j)]] = -1  # Outflow from edge (i, j)\n",
    "        A_eq.append(row)\n",
    "        b_eq.append(1)  # Each right node gets at most 1 unit of flow\n",
    "\n",
    "    # Combine into matrix form\n",
    "    A_eq = np.array(A_eq)\n",
    "    b_eq = np.array(b_eq)\n",
    "\n",
    "    # Bounds for flow variables: All flows are non-negative and ≤ 1\n",
    "    bounds = [(0, 1)] * total_vars\n",
    "\n",
    "    # Solve the linear programming problem\n",
    "    #print(\"linear programming parameters:\", c, A_eq, b_eq, bounds)\n",
    "    result = linprog(c, A_eq=A_eq, b_eq=b_eq, bounds=bounds, method=\"highs\")\n",
    "\n",
    "    if result.success:\n",
    "        return -result.fun  # Return the maximum flow value\n",
    "    else:\n",
    "        raise ValueError(\"Linear programming failed to solve the problem.\")\n",
    "\n",
    "if __name__ == \"__main__\":\n",
    "    # Example bipartite graph (adjacency matrix):\n",
    "    adjacency_matrix = np.array([\n",
    "        [0, 0, 0, 0, 1, 0, 0],\n",
    "        [0, 0, 0, 0, 1, 1, 0],\n",
    "        [0, 0, 0, 0, 0, 1, 1],\n",
    "        [0, 0, 0, 0, 0, 0, 1],\n",
    "        [1, 1, 0, 0, 0, 0, 0],\n",
    "        [0, 1, 1, 0, 0, 0, 0],\n",
    "        [0, 0, 1, 1, 0, 0, 0]\n",
    "    ])\n",
    "\n",
    "\n",
    "    max_flow = max_flow_bipartite(adjacency_matrix,4,3)\n",
    "    print(f\"Maximum flow: {max_flow}\")"
   ]
  },
  {
   "cell_type": "markdown",
   "metadata": {},
   "source": [
    "<h3>Linear Programming Duality: Maxflow = Mincut</h3>\n",
    "\n",
    "Every linear program can be equivalently handled as a dual linear program. When finding the maxflow, we could just as easily find a mincut- a set of edges with minimum weight whose removal disconnects the bipartite graph.\n",
    "\n",
    "It's obvious that the max flow cannot exceed the minimum cut, since any flow will need to pass through the cut. The powerful theorem known as linear programming duality asserts that the two quantities are equal. More generally, linear programming duality asserts that any linear program has the same optimum as its dual.\n",
    "\n",
    "If $c,A,b$ are the parameters to a linear program of the form: maximize $x\\in \\mathbb{R}^n$ such that $c^Tx$ is maximized subject to the constraints that $Ax\\leq b$ and $x\\geq 0$, then the dual linear program is defined to be the problem: minimize $b^Ty$ subject to the constraint $A^Ty\\geq c$ and $y\\geq 0$. The dual problem and the original problem have the same optimal values, according to the theorem of linear programming duality.\n",
    "\n",
    "<h3>Economic interpretation of linear programming duality</h3>\n",
    "\n",
    "Suppose that we have a car factory. We have several models that we build, and each model uses different parts. We have a certain number of each type of part in stock. Each model also sells for a different cost. Which cars should we build in order to maximize our revenue?\n",
    "\n",
    "In more detail, the vector $c$ reflects the cost of each car. The vector $x$ represents the amount of each model that we should build. The matrix $A$ records how many of each part is needed for each model. The vector $b$ records how much of each part we have in stock.\n",
    "\n",
    "The dual program can be interpreted as asking for the minimum amount that we should sell each part for in order to not incur an opportunity cost. The vector $y$ represents how much we will sell each part for. The vector $b$ still represents how many parts we have in stock. The equation $A^Ty \\geq c$ reflects that we should sell each part more money that we could have made from making cars with those parts. The amazing statement of linear programming duality is that the minimal cost to sell each part for is equal to the maximum profit that we could make by actually making cars."
   ]
  },
  {
   "cell_type": "markdown",
   "metadata": {},
   "source": [
    "<h3>Algorithms for linear programming</h3>\n",
    "\n",
    "Linear progamming can be solved efficiently in polynomial time. However, in practice, we usually use the [simplex method](https://en.wikipedia.org/wiki/Simplex_algorithm), which is theoretically a worst-case exponential algorithm. The algorithm operates by intepreting the \"feasible region\" where $Ax\\leq b$ as a polytope. The algorithm systematically checks all of the vertices of this polytope. It is theoretically an exponential runtime because there are some instances where the polytope has exponentially many vertices. In particular, the hypercube has this property.\n",
    "\n",
    "Linear programming is a special case of a more general technique, convex programming, where the feasible region is assumed to be convex. The Elipsoid method is a theoretically-polynomial time method that solves convex programming by repeatedly using smaller and smaller elipsoids to hone in on the optimal solution. This method is not practical, but it is of theoretical interest because it demonstrates that linear programming actually has a polynomial work solution.\n",
    "\n",
    "A better technique for solving convex programming problems in polynomial time are known as <i>interior point methods</i>. These methods use the fact that the feasible region is convex to search a path through the interior of the feasible region for an optimal point. Detailed information on these methods can be found [here](https://github.com/ShiqinHuo/Numerical-Optimization-Books/blob/master/Convex%20Optimization%20Boyd.pdf)."
   ]
  },
  {
   "cell_type": "markdown",
   "metadata": {},
   "source": []
  }
 ],
 "metadata": {
  "kernelspec": {
   "display_name": "Python 3",
   "language": "python",
   "name": "python3"
  },
  "language_info": {
   "codemirror_mode": {
    "name": "ipython",
    "version": 3
   },
   "file_extension": ".py",
   "mimetype": "text/x-python",
   "name": "python",
   "nbconvert_exporter": "python",
   "pygments_lexer": "ipython3",
   "version": "3.10.12"
  }
 },
 "nbformat": 4,
 "nbformat_minor": 2
}
