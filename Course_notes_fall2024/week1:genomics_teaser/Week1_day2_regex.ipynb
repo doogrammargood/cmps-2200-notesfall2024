{
 "cells": [
  {
   "cell_type": "markdown",
   "metadata": {},
   "source": [
    "<h1>Regular expressions/State machines</h1>"
   ]
  },
  {
   "cell_type": "markdown",
   "metadata": {},
   "source": [
    "<h2>Last Time: checking substrings</h2>\n",
    "\n",
    "In the previous lecture, we investigated some algorithms to implement the python code \"B in A\" where B and A are strings. In this lecture, we will generalize these algorithms to determine if B has certain patterns, known as regular expressions.\n",
    "\n",
    "<h2>Pattern Matching</h2>\n",
    "Suppose that we know about a whole family of genetic diseases that have a particular form. For example, let's define 'lucky' genes to be those that satisfy all of the following.\n",
    "\n",
    "1. The first letter is either 'a' or 'c'\n",
    "2. Then there are several (or none) letters that are all 'g' or 't\n",
    "3. Then last letters of the gene are 'ccc'\n",
    "\n",
    "Now, let's say that we have a gene $g$ and want to know if it is a lucky gene. We can do this very easily by looping through the letters of $g$ once, in order. We also don't need to keep track of any variables when we do this. The naive code is below."
   ]
  },
  {
   "cell_type": "code",
   "execution_count": 9,
   "metadata": {},
   "outputs": [],
   "source": [
    "def is_lucky(g):\n",
    "    reading_first_char = True #currently reading the first character\n",
    "    read_last_3char = False #read the 3rd to last character\n",
    "    read_last_3char = False #read the 2nd to last character\n",
    "    read_last_3char = False #read the last character\n",
    "\n",
    "    for x in g:\n",
    "        if reading_first_char:\n",
    "            if x=='a' or x=='c':\n",
    "                reading_first_char=False\n",
    "            else:\n",
    "                return False\n",
    "        elif not (read_last_3char or read_last_2char or read_last_1char): #If we have not started reading the ccc at the end..\n",
    "            if x =='g' or x=='t':\n",
    "                pass\n",
    "            elif x =='c':\n",
    "                read_last_3char = True #x must have been the 3rd to last character.\n",
    "        elif reading_last_3char and not read_last_2char:\n",
    "            if x== 'c':\n",
    "                read_last_2char==True\n",
    "            else:\n",
    "                return False\n",
    "        elif read_last_2char:\n",
    "            if x =='c':\n",
    "                read_last_1char== True\n",
    "            else:\n",
    "                return False\n",
    "        elif read_last_1char:\n",
    "            return False #If we had really read the last character, we wouldn't be here.\n",
    "    if read_last_1char:\n",
    "        return True\n",
    "    else:\n",
    "        return False\n",
    "\n",
    "    def test_is_lucky():\n",
    "        assert is_lucky(\"agtgtttgtgggtccc\")\n",
    "        assert not is_lucky(\"agtgtttgtgggtcccc\")\n",
    "        assert is_lucky(\"cccc\")\n",
    "        assert is_lucky(\"agtgggtccc\")\n",
    "    test_is_lucky()\n"
   ]
  },
  {
   "cell_type": "markdown",
   "metadata": {},
   "source": [
    "In this lecture, we will investigate the properties of strings that can be determined in this way. This theory developed from linguistics, so we call a set of strings a <i>language</i>. Chomsky developed this theory to support his thesis that natural language is inherently recursive, and so cannot be captured by nonrecursive machines. [Reference](https://twiki.di.uniroma1.it/pub/LC/WebHome/chomsky1956.pdf)\n",
    "\n",
    " The set of lucky strings is a language, with a special property: it can identified by a simply looping through the gene without keeping track of variables. Such languages are called [<i>regular languages</i>](https://en.wikipedia.org/wiki/Regular_language).\n"
   ]
  },
  {
   "cell_type": "markdown",
   "metadata": {},
   "source": [
    "<h2>Regular Expressions</h2>\n",
    "Regular expressions are an alternate way to formulate regular languages.\n",
    "\n",
    "First, we define some operations on regular languages:\n",
    "\n",
    "If L, A and B are languages, then \n",
    "1. (Kleene Star) L* is the language whose words are concatenations of the words of L.\n",
    "2. (Union) A|B is the language whose words are in A or in B.\n",
    "3. (Concatenation) AB is the language whose words are the concatenation of a word in A followed by a word in B.\n",
    "\n",
    " A <i>regular expression</i> is an expression that can be formed in the following way:\n",
    " 1. The emptystring is a regular expression.\n",
    " 2. Letters ('a','t','g','c') are regular expressions.\n",
    " 3. if R is a regular expression R* is a regular expression.\n",
    " 4. If A and B are regular expressions, $A|B$ and $AB$ are also expressions\n",
    "\n",
    "We can also add parethesis make the order of application more clear.\n",
    "\n",
    "The regular expressions are just formal sequences of characters. They represent languages according to the interpretations of operations. If a word is a member of the language that the regular expression represents, we say that the word <i>matches</i> the regular expression.\n",
    "\n",
    "For example, the lucky genes are represented by the regular expression (a|c)(g|t)*ccc, and any particular lucky gene matches the regular expression. In the python syntax, this is written as [ac][gt]*ccc\n",
    "\n",
    " Kleene's Theorem:\n",
    " Each regular expressions represents a regular language, and each regular language has a regular expression that represents it.\n",
    " \n",
    "\n"
   ]
  },
  {
   "cell_type": "markdown",
   "metadata": {},
   "source": [
    "We can use regular expressions to simplify our code that checks whether a gene is lucky."
   ]
  },
  {
   "cell_type": "code",
   "execution_count": 10,
   "metadata": {},
   "outputs": [],
   "source": [
    "#https://stackoverflow.com/questions/12595051/check-if-string-matches-pattern see Ali Rizavi's answer.\n",
    "import re\n",
    "\n",
    "def regex_is_lucky(txt):\n",
    "    x = re.fullmatch(\"[ac][gt]*ccc\",txt)\n",
    "    if x is None:\n",
    "        return False\n",
    "    else:\n",
    "        return True\n",
    "\n",
    "def test_regex_is_lucky():\n",
    "    assert regex_is_lucky(\"agtgtttgtgggtccc\")\n",
    "    assert not regex_is_lucky(\"agtgtttgtgggtcccc\")\n",
    "    assert regex_is_lucky(\"cccc\")\n",
    "    assert regex_is_lucky(\"agtgggtccc\")\n",
    "test_regex_is_lucky()"
   ]
  },
  {
   "cell_type": "markdown",
   "metadata": {},
   "source": [
    "<h2> State Machines </h2>\n",
    "\n",
    "We demonstrated that lucky genes can be identified by a single pass through the gene, without keeping track of any variables. We now formalize this sort of program.\n",
    "\n",
    "A (finite) state machine (for a given alphabet, $\\Sigma$. Here, we stick to $\\Sigma = \\{a,t,g,c\\}$.) consists of the following information\n",
    "1. A finite set $S$, whose elements are called <i>states</i>\n",
    "2. A special state $s_0\\in S$, called the <i>starting state</i>\n",
    "3. A special state $S_a\\subset S$, called the <i>accept states</i>\n",
    "4. A function $T:\\Sigma \\times S \\to S$ called the <i>transition function</i>\n",
    "5. A current state, $c$ (which can change). We say that the machine is \"in\" the current state.\n",
    "\n",
    "We can visualize state machines as directed graphs, where the vertices are the states $S$ and the directed edges are labeled by the letters of $\\Sigma$. We draw an edge from state $s_1$ to state $s_2$ labeled by $x\\in \\Sigma$ if $T(s_1,x)=s_2$.\n",
    "\n",
    "Each state machine specifies a language. The machine reads sequence of letters using the following procedure, which returns either \"accept\" or \"reject\": \n",
    "\n",
    "Initially, the machine begins in the starting state. When the machine reads the next letter of the string $x$, it updates the current state to $C \\coloneqq T(x,c)$. The machine reads each letter of the string until it reaches the end. The machine returns \"accept\" if the last state is an accept state (in other words, if $c\\in S_a$ after all of the letters have been read). Otherwise, the machine returns \"reject\"."
   ]
  },
  {
   "cell_type": "markdown",
   "metadata": {},
   "source": [
    "<img src=\"state_machine.png\" style=\"background-color:white;\">"
   ]
  },
  {
   "cell_type": "markdown",
   "metadata": {},
   "source": [
    "Here, we show an illustration of a state machine that recognizes lucky genes. There is only one accept state, and it is denoted by the double circles."
   ]
  },
  {
   "cell_type": "markdown",
   "metadata": {},
   "source": [
    "<h2>Properties of regular languages</h2>\n",
    "\n",
    "From Kleene's Theorem, it is easy to prove the following. Suppose that A and B are regular languages. Then the following languages are also regular:\n",
    "1. $\\Sigma^\\star - A$ (the complement of $A$): \n",
    "    - Proof idea: Take the finite state machine for $A$ and switch all of the accept and non-accept states.\n",
    "2. $A\\cap B$: \n",
    "    - Proof idea: Create a finite state machine whose states are pairs of states for the machines $A$ and $B$. The accept states are pairs that are both accept states.\n",
    "3. $A^R$ the language whose words are those of $A$ but reversed: \n",
    "    - Proof idea: Reverse all of the arrows in the machine for $A$. The resulting finite state machine may be nondeterministic (two arrows labeled 'a' can leave the same node). Use the well-known theorem that nondeterministic state machines are equivalent to deterministic ones."
   ]
  },
  {
   "cell_type": "markdown",
   "metadata": {},
   "source": [
    "<h2>GREP</h2>\n",
    "\n",
    "GREP (Global regular expression printer) is a command line tool that allows you to search for matches to regular expressions from the command line. The algorithm that implements this is the [Aho-Corasick algorithm](https://en.wikipedia.org/wiki/Aho%E2%80%93Corasick_algorithm). It uses an idea similar to the Knuth Morris Pratt string matching algorthm, but modified to apply to state machines."
   ]
  },
  {
   "cell_type": "markdown",
   "metadata": {},
   "source": [
    "<h2>Machines and Languages</h2>\n",
    "\n",
    "The Theory of regular languages and the finite state machines that recognize them is the first example of a more general phenomenon.\n",
    "\n",
    "Classes of languages can be described by:\n",
    "\n",
    "    -Grammar rules (Rules by which valid words can be formed, like regular expressions)\n",
    "    -Machines (An abstract machine that recognizes valid words, like finite state automata)\n",
    "\n",
    "See the textbook Aurora and Barack for more information on this perspective.\n",
    "\n",
    "\n",
    "<img src=\"Chomsky-hierarchy.svg\" style=\"background-color:white;\">\n",
    "\n",
    "Next week, we will see the Recusively Ennumerable languages and the associated machines, Turing machines."
   ]
  },
  {
   "cell_type": "markdown",
   "metadata": {},
   "source": [
    "<h2>The Pumping Lemma: Languages that are not regular</h2>\n",
    "\n",
    "Not all languages are regular. For example, the set of string $\\mathcal{S}\\coloneqq \\{``\", ``at\", ``aatt\", ``aaattt\", \\dots\\} = \\{(``a\"*n +``t\"*n) \\text{ for n in }range(\\infty)\\}$ is not a regular language.\n",
    "\n",
    "Intuitively, the reason that $\\mathcal{S}$ is not regular is that we need memory to recognize members of $\\mathcal{S}$. The naive way to do this is to step through the string one chacater at a time and maintain a counter for the number of $a's$ encountered. Then, once we're done with the $a$'s, we count the number of $t$'s and check that the two are equal. However, finite state machines only have finite memory (in the form of finite states) and so cannot maintain a variable to count the (unbounded) number of $a$'s.\n",
    "\n",
    "Of course, this is not a proof, since one might argue that there is a better way to recognize these strings.\n",
    "\n",
    "To demonstrate that this is the case, we use an argument called the <i>Pumping Lemma</i>. Suppose that a state machine $\\mathcal{M}$ could recognize $\\mathcal{S}$. Since $\\mathcal{M}$ has only finitely many states, we can apply the pigeon hole principle to conclude that $\\mathcal{M}$ finds itself in the same state twice when reading words that are long enough. To be more specific, let $M$ be the number of states of $\\mathcal{M}$. The word $W=``a\"*(M+1) +``t\"*(M+1) \\in \\mathcal{S}$. The first half of the word is longer than $M$, so $\\mathcal{M}$ will encounter the same state twice when reading $W$. Suppose this state is encountered at steps $m_1$ and $m_2$. Then $\\mathcal{M}$ completes a cycle in the directed graph its states when reading the word $W$ between steps $m_1$ and $m_2$, for $m_2>m_1$. We can remove this loop without changing the behavior of the machine on subsequent states. This shows that $W^\\prime \\coloneqq ``a\"*(M+1-(m_2-m_1)) +``t\"*(M+1)$ is accepted by $\\mathcal{M}$. But clearly $W^\\prime \\not \\in \\mathcal{S}$, so we have a contradiction.\n",
    "\n",
    "Another example of a non-regular language is the language of properly matched parenthesis."
   ]
  },
  {
   "cell_type": "markdown",
   "metadata": {},
   "source": []
  }
 ],
 "metadata": {
  "kernelspec": {
   "display_name": "Python 3",
   "language": "python",
   "name": "python3"
  },
  "language_info": {
   "codemirror_mode": {
    "name": "ipython",
    "version": 3
   },
   "file_extension": ".py",
   "mimetype": "text/x-python",
   "name": "python",
   "nbconvert_exporter": "python",
   "pygments_lexer": "ipython3",
   "version": "3.10.12"
  }
 },
 "nbformat": 4,
 "nbformat_minor": 2
}
