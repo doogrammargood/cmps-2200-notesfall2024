{
 "cells": [
  {
   "cell_type": "code",
   "execution_count": null,
   "metadata": {},
   "outputs": [],
   "source": [
    "# setup\n",
    "from IPython.display import display,HTML\n",
    "display(HTML('<style>.prompt{width: 0px; min-width: 0px; visibility: collapse}</style>'))\n",
    "display(HTML(open('../rise.css').read()))\n",
    "\n",
    "# imports\n",
    "import numpy as np\n",
    "import matplotlib.pyplot as plt\n",
    "import seaborn as sns\n",
    "import random\n",
    "import math\n",
    "%matplotlib inline\n",
    "sns.set(style=\"whitegrid\", font_scale=1.5, rc={'figure.figsize':(12, 6)})"
   ]
  },
  {
   "cell_type": "markdown",
   "metadata": {},
   "source": [
    "<h1>Introduction to Algorithms</h1>\n",
    "\n",
    "<h2>Last Time</h2>\n",
    "\n",
    "We discussed the Human Genome Project. The human genome is too long to sequence directly, so we broke it into fragments, then stitched the pieces back together by thinking of the fragments as locations in the Traveling Salesman Problem."
   ]
  },
  {
   "cell_type": "markdown",
   "metadata": {},
   "source": [
    "<h2>Testing for genetic diseases</h2>"
   ]
  },
  {
   "cell_type": "markdown",
   "metadata": {},
   "source": [
    "Now suppose that Arnold had his genome sequenced. He is worried that he has a genetic disease, Beta. In our simplified discussion, a person has beta disease iff beta appears in his genomic sequence. \n",
    "\n",
    "Denoting Arnold's genetic sequence by A and the sequence of Beta disease by B, we want to know if B is a substring of A. And, how long does a computer need to return the answer?"
   ]
  },
  {
   "cell_type": "markdown",
   "metadata": {},
   "source": []
  }
 ],
 "metadata": {
  "language_info": {
   "name": "python"
  }
 },
 "nbformat": 4,
 "nbformat_minor": 2
}
