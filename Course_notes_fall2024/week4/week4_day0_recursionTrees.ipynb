{
 "cells": [
  {
   "cell_type": "code",
   "execution_count": 1,
   "metadata": {
    "code_folding": [],
    "slideshow": {
     "slide_type": "skip"
    }
   },
   "outputs": [
    {
     "data": {
      "text/html": [
       "<style>.prompt{width: 0px; min-width: 0px; visibility: collapse}</style>"
      ],
      "text/plain": [
       "<IPython.core.display.HTML object>"
      ]
     },
     "metadata": {},
     "output_type": "display_data"
    },
    {
     "data": {
      "text/html": [
       "<style>\n",
       "div#notebook {\n",
       " font-family: \"Exo_2\", sans-serif;\n",
       "}\n",
       "\n",
       ".rendered_html h1,\n",
       ".text_cell_render h1 {\n",
       " color: #126dce;\n",
       " font-size: 220%;\n",
       " text-align: center;\n",
       " font-weight: lighter;\n",
       "}\n",
       ".rendered_html h2,\n",
       ".text_cell_render h2 {\n",
       " text-align: center;\n",
       " font-size: 170%;\n",
       " color: #126dce;\n",
       " font-style: normal;\n",
       " font-weight: lighter;\n",
       "}\n",
       ".rendered_html h3,\n",
       ".text_cell_render h3 {\n",
       " font-size: 150%;\n",
       " color: #126dce;\n",
       " font-weight: lighter;\n",
       " text-decoration: italic;\n",
       " font-style: normal;\n",
       "}\n",
       ".rendered_html h4,\n",
       ".text_cell_render h4 {\n",
       " font-size: 120%;\n",
       " color: #126dce;\n",
       " font-weight: underline;\n",
       " font-style: normal;\n",
       "}\n",
       ".rendered_html h5,\n",
       ".text_cell_render h5 {\n",
       " font-size: 100%;\n",
       " color: #2f2f2f;\n",
       " font-weight: lighter;\n",
       " text-decoration: underline;\n",
       "}\n",
       "</style>\n"
      ],
      "text/plain": [
       "<IPython.core.display.HTML object>"
      ]
     },
     "metadata": {},
     "output_type": "display_data"
    }
   ],
   "source": [
    "# setup\n",
    "from IPython.display import display,HTML\n",
    "display(HTML('<style>.prompt{width: 0px; min-width: 0px; visibility: collapse}</style>'))\n",
    "display(HTML(open('../rise.css').read()))\n",
    "\n",
    "# imports\n",
    "import numpy as np\n",
    "import matplotlib.pyplot as plt\n",
    "import seaborn as sns\n",
    "%matplotlib inline\n",
    "sns.set(style=\"whitegrid\", font_scale=1.5, rc={'figure.figsize':(12, 6)})\n"
   ]
  },
  {
   "cell_type": "markdown",
   "metadata": {
    "slideshow": {
     "slide_type": "slide"
    }
   },
   "source": [
    "## Work-Span model\n",
    "\n",
    "- We define this model to analyze the costs of recursive functions\n",
    "\n",
    "Definitions **work** and **span**:\n",
    "\n",
    "- **work**: total number of primitive operations performed by an algorithm\n",
    "\n",
    "- **span**: longest sequence of dependent operations in computation\n",
    "    - also called: *critical path length* or *computational depth*"
   ]
  },
  {
   "cell_type": "markdown",
   "metadata": {
    "slideshow": {
     "slide_type": "fragment"
    }
   },
   "source": [
    "**intuition**: \n",
    "\n",
    "**work**: total operations required by a computation  \n",
    "\n",
    "**span**: minimum possible time that the computation requires, measure of how *parallelized* and algorithm is\n",
    "\n",
    "For a given recursive function $e$, we will analyze the work $W(e)$ and span $S(e)$."
   ]
  },
  {
   "cell_type": "markdown",
   "metadata": {
    "slideshow": {
     "slide_type": "slide"
    }
   },
   "source": [
    "## Composition\n",
    "\n",
    "<img src=\"./figures/composition.png\" width=\"50%\"/>\n",
    "\n",
    "\n",
    "-   $(e_1, e_2)$: Sequential Composition\n",
    "    - Work and span are both sum of both expression\n",
    "    - Work == Span\n",
    "\n",
    "-   $(e_1 || e_2)$: Parallel Composition\n",
    "    - Work is the sum of both expresions\n",
    "    - Span is the **max of the two**\n",
    "    \n",
    "    \n"
   ]
  },
  {
   "cell_type": "markdown",
   "metadata": {
    "slideshow": {
     "slide_type": "slide"
    }
   },
   "source": [
    "## Rules of composition\n",
    "\n",
    "\n",
    "|$\\mathbf{e}$ (Recursive function)|     $\\mathbf{W(e)}$ (Work)     |     $\\mathbf{S(e)}$ (Span)     |\n",
    "| --------------------- | ------------------------------ | ------------------------------ |\n",
    "|       $v$             |              $1$               |             $1$                |\n",
    "|$\\mathtt{lambda}\\:p\\:.\\:e$ (define new function)|              $1$            |             $1$                |\n",
    "|     $(e_1, e_2)$  (sequential composition)    |     $1 + W(e_1) + W(e_2)$      |     $1 + S(e_1) + S(e_2)$      |\n",
    "|    $(e_1 \\|\\| e_2)$  (parallel composition)   |     $1 + W(e_1) + W(e_2)$      |   $1 + \\max(S(e_1), S(e_2))$   |\n",
    "| $(e_1 e_2)$ (function application)      |  $W(e_1) + W(e_2) + W([\\hbox{Eval}(e_2)/x]e_1) + 1$ | $S(e_1) + S(e_2) + S([\\hbox{Eval}(e_2)/x]e_1) + 1$ |\n",
    "|   `let val` $x=e_1$ `in` $e_2$ `end`  |  $1 + W(e_1) + W([\\hbox{Eval}(e_1)/x]e_2)$       |     $1 + S(e_1) +     S([\\hbox{Eval}(e_1)/x]e_2)$  |\n",
    "| $\\{e(x)\\mid x\\in A\\}$  |   $1+\\sum_{x\\in A} W(e(x))$    |   $1+\\max_{x\\in A} S(f(x))$    |\n",
    "\n"
   ]
  },
  {
   "attachments": {},
   "cell_type": "markdown",
   "metadata": {
    "slideshow": {
     "slide_type": "slide"
    }
   },
   "source": [
    "\n",
    "## Sequential composition: $e_1, e_2$\n",
    "\n",
    "$W(e_1, e_2) = 1 + W(e_1) + W(e_2)$  \n",
    "$S(e_1, e_2) = 1 + S(e_1) + S(e_2)$  "
   ]
  },
  {
   "attachments": {},
   "cell_type": "markdown",
   "metadata": {
    "slideshow": {
     "slide_type": "slide"
    }
   },
   "source": [
    "\n",
    "## Parallel composition: $e_1 || e_2$\n",
    "\n",
    "$W(e_1 || e_2) = 1 + W(e_1) + W(e_2)$  \n",
    "$S(e_1 || e_2) = 1 + \\max(S(e_1), S(e_2))$  \n",
    "\n",
    "We are making a couple of assumptions about $e_1$ and $e_2$."
   ]
  },
  {
   "attachments": {},
   "cell_type": "markdown",
   "metadata": {
    "slideshow": {
     "slide_type": "fragment"
    }
   },
   "source": [
    "In a *pure* functional language, we can run two functions in parallel if there is no explicit sequencing.\n",
    "\n",
    "- no side effects\n",
    "- data persistence\n"
   ]
  },
  {
   "cell_type": "markdown",
   "metadata": {
    "slideshow": {
     "slide_type": "slide"
    }
   },
   "source": [
    "## function application: $e_1 e_2$\n",
    "\n",
    "Apply $e_1$ to $e_2$. We understand what this means intuitively. We will write down what it means formally, but this is not \"need to know\" information. It was incorrect in previous versions of the notes. See Parallel and Sequential Algorithms page 89.\n",
    "\n",
    "e.g, if $e_1=\\mathtt{lambda} (\\: x \\: . ~ x * x), e_2=6/3$, then\n",
    "\n",
    "$\\mathtt{lambda} (\\: x \\: . ~ x * x)(6/3)=4$."
   ]
  },
  {
   "attachments": {},
   "cell_type": "markdown",
   "metadata": {
    "slideshow": {
     "slide_type": "fragment"
    }
   },
   "source": [
    "\n",
    "$W(e_1 e_2) = W(e_1) + W(e_2) + W([\\hbox{Eval}(e_2)/x](\\mathtt{lambda} ( \\: x \\: . ~ e_1))) + 1$.\n",
    "\n",
    "\n",
    "\n",
    "- $\\hbox{Eval}(e)$ evaluates expression $e$. e.g. $\\hbox{Eval}(6/3)=2$."
   ]
  },
  {
   "attachments": {},
   "cell_type": "markdown",
   "metadata": {
    "slideshow": {
     "slide_type": "fragment"
    }
   },
   "source": [
    "\n",
    "- $[v/x]e$: replace all free (unbound) occurrences of $x$ in $e$ with value $v$ \n",
    "  - e.g., $[10/x](x^2+10) \\rightarrow 110$\n"
   ]
  },
  {
   "attachments": {},
   "cell_type": "markdown",
   "metadata": {
    "slideshow": {
     "slide_type": "fragment"
    }
   },
   "source": [
    "\n",
    "- $W([\\hbox{Eval}(e_2)/x]e_1)$ is the cost of substituting $\\hbox{Eval}(e_2)$ into all instances of $x$ in $e_1$.\n"
   ]
  },
  {
   "attachments": {},
   "cell_type": "markdown",
   "metadata": {
    "slideshow": {
     "slide_type": "fragment"
    }
   },
   "source": [
    "\n",
    "We won't get into the weeds of calculating $[\\hbox{Eval}(e_2)/x](\\mathtt{lambda} ( \\: x \\: . ~ e_1))$ in this course.\n",
    "\n",
    "We can simplify the costs of function application, under the assumption that the cost of substitution takes constant time.\n",
    "\n",
    "$W(e_1 e_2) = W(e_1) + W(e_2)$\n",
    "\n",
    "$S(e_1 e_2) = S(e_1) + S(e_2)$\n",
    "<br>"
   ]
  },
  {
   "cell_type": "code",
   "execution_count": 2,
   "metadata": {
    "slideshow": {
     "slide_type": "skip"
    }
   },
   "outputs": [
    {
     "data": {
      "text/plain": [
       "110"
      ]
     },
     "execution_count": 2,
     "metadata": {},
     "output_type": "execute_result"
    }
   ],
   "source": [
    "e1 = lambda x: x**2 + 10\n",
    "e2 = lambda y: 5*y\n",
    "\n",
    "e1(\n",
    "    e2(2)  # evaluate e2 to a value v\n",
    "  )        # substitute v for x in e1\n",
    "           # return result of e1"
   ]
  },
  {
   "attachments": {},
   "cell_type": "markdown",
   "metadata": {
    "slideshow": {
     "slide_type": "skip"
    }
   },
   "source": [
    "\n",
    "$e_1 e_2$\n",
    "\n",
    "\n",
    "E.g., if $e_1$ is the function $f$, we  \n",
    "1. evaluate $e_2$ to a value $v$.\n",
    "2. Use lambda abstraction to form $f(x)$ from $f$.\n",
    "2. substitute $v$ for $x$ in $f(x)$.\n",
    "3. Evaluate $f(v)$.\n",
    "\n",
    "\n",
    "The expression $[\\hbox{Eval}(e_2)/x]e_1$ is defined by replacing all free occurences of $x$ in $e_1$ with $\\hbox{Eval}(e_2)$."
   ]
  },
  {
   "attachments": {},
   "cell_type": "markdown",
   "metadata": {
    "slideshow": {
     "slide_type": "skip"
    }
   },
   "source": [
    "Example: the increment function.\n",
    "\n",
    "Let $f = \\mathtt{lambda} \\: x \\: . \\: x + 1$.\n",
    "\n",
    "<br>\n",
    "\n",
    "$W(f(1)) = W(f) + W(1) \\in O(1)$."
   ]
  },
  {
   "attachments": {},
   "cell_type": "markdown",
   "metadata": {
    "slideshow": {
     "slide_type": "skip"
    }
   },
   "source": [
    "\n",
    "$S(f(1)) = S(f)+S(1) \\in O(1)$"
   ]
  },
  {
   "attachments": {},
   "cell_type": "markdown",
   "metadata": {
    "slideshow": {
     "slide_type": "skip"
    }
   },
   "source": [
    "**serial composition:**\n",
    "\n",
    "$W(f(1), f(2)) = $\n",
    "\n",
    "$W(f(1)) + W(f(2)) + 1 = $\n",
    "\n",
    "$O(1) + O(1) + 1 \\in O(1)$.\n",
    "\n",
    "<br>\n",
    "\n",
    "$S(f(1), f(2)) = $\n",
    "\n",
    "$S(f(1)) + S(f(2)) + 1 = $\n",
    "\n",
    "$O(1) + O(1) + 1 \\in O(1)$."
   ]
  },
  {
   "attachments": {},
   "cell_type": "markdown",
   "metadata": {
    "slideshow": {
     "slide_type": "skip"
    }
   },
   "source": [
    "**parallel composition:**\n",
    "\n",
    "$W(f(1) || f(2)) = $\n",
    "\n",
    "$W(f(1)) + W(f(2)) + 1 =$\n",
    "\n",
    "$O(1) + O(1) + 1 \\in O(1)$.\n",
    "\n",
    "<br>\n",
    "\n",
    "$S(f(1) ||  f(2)) = $\n",
    "\n",
    "$\\max(S(f(1)), S(f(2))) + 1 =$\n",
    "\n",
    "$\\max(O(1),O(1)) + 1 \\in O(1)$."
   ]
  },
  {
   "cell_type": "markdown",
   "metadata": {
    "slideshow": {
     "slide_type": "slide"
    }
   },
   "source": [
    "## Parallelism, revisited\n",
    "\n",
    "How many processors can we use efficiently?\n",
    "\n",
    "\n",
    "**average parallelism** is defined as the ratio of work to span:\n",
    "\n",
    "$$\n",
    "\\overline{P} = \\frac{W}{S}\n",
    "$$\n",
    "\n",
    "\n",
    "<br><br>\n",
    "To increase parallelism, we can\n"
   ]
  },
  {
   "attachments": {},
   "cell_type": "markdown",
   "metadata": {
    "slideshow": {
     "slide_type": "fragment"
    }
   },
   "source": [
    "\n",
    "- decrease span\n",
    "- increase work (but that's not really desireable, since we want the overall cost to be low)\n",
    "\n",
    "<br>\n"
   ]
  },
  {
   "attachments": {},
   "cell_type": "markdown",
   "metadata": {
    "slideshow": {
     "slide_type": "fragment"
    }
   },
   "source": [
    "\n",
    "**work efficiency**: a parallel algorithm is *work efficient* if it performs asymptotically the same work as the best known sequential algorithm for the problem.\n",
    "\n",
    "So, we want a *work efficient* parallel algorithm with low span.\n"
   ]
  },
  {
   "cell_type": "markdown",
   "metadata": {},
   "source": [
    "## Recurrences\n",
    "\n",
    "Recurrences are a way to capture the behavior of recursive algorithms.\n",
    "\n",
    "Key ingredients: \n",
    "\n",
    "- Base case ($n = b_c$): constant time \n",
    "- Inductive case ($n > b_c$): recurse on smaller instance and use output to compute solution\n",
    "\n",
    "> $b_c$ is the size of the base case problems\n"
   ]
  },
  {
   "cell_type": "markdown",
   "metadata": {},
   "source": [
    "We saw several recursive equations for runtime of the form $T(n)= aT(\\frac{n}{b})+f(n)$. Let's derive the runtime when $a=b=2$ and $f(n)=n$."
   ]
  },
  {
   "cell_type": "markdown",
   "metadata": {},
   "source": [
    "## Drawing the Recursion Tree\n",
    "\n",
    "<img src = \"./figures/mergesort_tree_1.jpeg\" width = \"100%\" class=\"center\">"
   ]
  },
  {
   "cell_type": "markdown",
   "metadata": {},
   "source": [
    "## Solving Recurrences with the Tree Method \n",
    "\n",
    "### Recipe: \n",
    "1. Expand tree for two levels.\n",
    "2. Determine the cost of each level $i$ ($i$ starts at $0$).\n",
    "3. Determine the number of levels\n",
    "4. Cost = $\\sum_{i=0}^{\\hbox{num levels}}$ cost for level $i$\n",
    "  - This last step usually involves using properties of series\n",
    "  \n",
    "<br>"
   ]
  },
  {
   "cell_type": "markdown",
   "metadata": {},
   "source": [
    "## Solving the Summation\n",
    "\n",
    "$$W(n) = \\sum_{i=0}^{\\log n} (c_1n + 2^i c_2)$$\n",
    "\n",
    "$$= \\sum_{i=0}^{\\log n}c_1 n + \\sum_{i=0}^{\\log n} 2^i c_2$$\n",
    "\n",
    "$$= c_1n \\sum_{i=0}^{\\log n} 1 + c_2 \\sum_{i=0}^{\\log n} 2^i$$"
   ]
  },
  {
   "cell_type": "markdown",
   "metadata": {},
   "source": [
    "\n",
    "To solve this, we'll make use of bounds for **geometric series**. \n",
    "\n",
    "For $\\alpha > 1$: $\\:\\:\\: \\sum_{i=0}^n \\alpha^i  < \\frac{\\alpha}{\\alpha - 1}\\cdot\\alpha^n$\n",
    "\n",
    "e.g,\n",
    "\n",
    "$\\sum_{i=0}^{\\log n} 2^i < \\frac{2}{1} * 2^{\\log n} = 2n$\n",
    "\n",
    "<br>\n",
    "\n",
    "For $\\alpha < 1$: $\\:\\:\\: \\sum_{i=0}^\\infty \\alpha^i  < \\frac{1}{1-\\alpha}$\n",
    "\n",
    "e.g,\n",
    "\n",
    "$\\sum_{i=0}^{\\log n} \\frac{1}{2^i} < 2$"
   ]
  },
  {
   "cell_type": "markdown",
   "metadata": {},
   "source": [
    "\n",
    "<br> plugging in...\n",
    "\n",
    "$$= \\sum_{i=0}^{\\log n} (c_1 n + 2^i c_2)$$\n",
    "\n",
    "$$= \\sum_{i=0}^{\\log n}c_1 n + \\sum_{i=0}^{\\log n} 2^i c_2$$\n",
    "\n",
    "$$= c_1n \\sum_{i=0}^{\\log n} 1 + c_2 \\sum_{i=0}^{\\log n} 2^i$$\n"
   ]
  },
  {
   "cell_type": "markdown",
   "metadata": {},
   "source": [
    "## What about the span?\n",
    "\n",
    "The recurrence for the span of Mergesort is:\n",
    "\n",
    "$$\n",
    "\\begin{align}\n",
    "S(n) = \\begin{cases}\n",
    "  c_3, & \\text{if $n=1$} \\\\\n",
    "  S(n/2) + c_4 \\log n, & \\text{otherwise} \n",
    "  \\end{cases}\n",
    "\\end{align}\n",
    "$$\n",
    "\n",
    "Why?\n"
   ]
  },
  {
   "cell_type": "markdown",
   "metadata": {},
   "source": [
    "The branching factor is $1$.\n",
    "\n",
    "$S(n) = \\pmb{S(n/2)} + c_4 \\log n$"
   ]
  },
  {
   "cell_type": "markdown",
   "metadata": {},
   "source": [
    "<img src = \"figures/span_in_work_tree.jpeg\" width = \"100%\" class=\"center\">"
   ]
  },
  {
   "cell_type": "markdown",
   "metadata": {},
   "source": [
    "$S(n) = S(n/2) + \\pmb{c_4 \\log n}$\n",
    "\n",
    "For span recurrences, this term represents the span of each subproblem.\n",
    "\n",
    "A sequential merge algorithm requires $O(n)$ work and span.\n",
    "\n",
    "However, there exists a [parallel merge algorithm](https://www.mcs.anl.gov/~itf/dbpp/text/node127.html) with:\n",
    "\n",
    "- $W(n) \\in O(n)$\n",
    "- $S(n) \\in O(\\log n)$"
   ]
  },
  {
   "cell_type": "markdown",
   "metadata": {},
   "source": [
    "### Solving the Span recurrence\n",
    "\n",
    "$$\n",
    "\\begin{align}\n",
    "S(n) = \\begin{cases}\n",
    "  c_3, & \\text{if $n=1$} \\\\\n",
    "  S(n/2) + c_4 \\log n, & \\text{otherwise} \n",
    "  \\end{cases}\n",
    "\\end{align}\n",
    "$$\n",
    "\n",
    "<img src=\"figures/span_tree.jpeg\" width=\"500\">\n"
   ]
  },
  {
   "cell_type": "markdown",
   "metadata": {},
   "source": [
    "$ \\begin{align}\n",
    "S(n) & = & \\sum_{i=0}^{\\log n} \\log\\frac{n}{2^i}\\\\\n",
    "& = & \\sum_{i=0}^{\\log n} (\\log n - i)\\\\\n",
    "& = & \\sum_{i=0}^{\\log n} (\\log n) - \\sum_{i=1}^{\\log n} i\\\\\n",
    "& < & \\log^2 n  - \\frac{1}{2}\\log n * (\\log n+1) \\:\\: (\\hbox{using}\\:\\:\\sum_{i=0}^n = \\frac{n(n+1)}{2})\\\\\n",
    "& < & \\log^2n - \\frac{1}{2}\\log^2 n - \\frac{1}{2}  \\log n\\\\\n",
    "& \\in & O(\\log^2 n)\\\\\n",
    "\\end{align}$"
   ]
  },
  {
   "cell_type": "markdown",
   "metadata": {},
   "source": [
    "### Divide and Conquer\n",
    "\n",
    "A divide-and-conquer algorithm, at each step, divides the problem into subproblems, solves each, then combines the results to arrive at the final solution. These algorithms can be easily implemented using recursion.\n",
    "\n",
    "Recurrences can easily be written and interpretted from the perspective of divide and conquer algorithms.\n",
    "\n",
    "\n",
    "Merge Sort is an example of a divide-and-conquer algorithm that we will see on Friday (Week4, day 2). Its work obeys the following recursive equation. "
   ]
  },
  {
   "cell_type": "markdown",
   "metadata": {},
   "source": [
    "$$\n",
    "W(n) = \\begin{cases}\n",
    "  c_b, & \\text{if $n=1$} \\\\\n",
    "  aW(\\frac{n}{b}) + f(n), & \\text{otherwise} \n",
    "  \\end{cases}\n",
    "$$\n",
    "\n",
    "- $a$ is the branching factor.\n",
    "- $\\frac{n}{b}$ is sub-problem size at the next level.\n",
    "- $f(n)$ is the amount of work within each recursive call."
   ]
  },
  {
   "cell_type": "markdown",
   "metadata": {},
   "source": [
    "## General Recurrences\n",
    "\n",
    "<img src=\"figures/general-recursion-tree.jpeg\">"
   ]
  },
  {
   "cell_type": "markdown",
   "metadata": {},
   "source": [
    "### More Practice\n",
    "\n",
    "Another recurrence:\n",
    "    \n",
    "$$\n",
    "W(n) = \\begin{cases}\n",
    "  c_b, & \\text{if $n=1$} \\\\\n",
    "  2W(n/2) + n^2, & \\text{otherwise} \n",
    "  \\end{cases}\n",
    "$$\n",
    "\n",
    "What is the asymptotic runtime?"
   ]
  },
  {
   "cell_type": "markdown",
   "metadata": {},
   "source": [
    "$$W(n) = 2W(n/2) + n^2$$\n",
    "\n",
    "<img width=\"110%\" src=\"figures/quadratic-recurrence.jpeg\"/>\n",
    "\n"
   ]
  },
  {
   "cell_type": "markdown",
   "metadata": {},
   "source": [
    "$W(n) = \\sum_i^{\\log n} (\\frac{n^2}{2^i})$\n",
    "\n",
    "$= n^2 \\sum_{i=0}^{\\log n} \\frac{1}{2^i}$\n",
    "\n",
    "$= c_1 n^2 \\sum_{i=0}^{\\log n} (\\frac{1}{2})^i$\n",
    "\n"
   ]
  },
  {
   "cell_type": "markdown",
   "metadata": {},
   "source": [
    "To solve this, we can again use **geometric series**.\n",
    "\n",
    "\n",
    "For $\\alpha < 1$: $\\:\\:\\: \\sum_{i=0}^\\infty \\alpha^i  < \\frac{1}{1-\\alpha}$\n",
    "\n",
    "e.g., $\\sum_{i=0}^{\\log n} \\frac{1}{2^i} < 2$"
   ]
  },
  {
   "cell_type": "markdown",
   "metadata": {},
   "source": [
    "To solve this, we can again use **geometric series**.\n",
    "\n",
    "\n",
    "For $\\alpha < 1$: $\\:\\:\\: \\sum_{i=0}^\\infty \\alpha^i  < \\frac{1}{1-\\alpha}$\n",
    "\n",
    "e.g., $\\sum_{i=0}^{\\log n} \\frac{1}{2^i} < 2$"
   ]
  },
  {
   "cell_type": "markdown",
   "metadata": {},
   "source": [
    "$< 2 n^2$\n",
    "\n",
    "$\\in O(n^2)$"
   ]
  },
  {
   "cell_type": "markdown",
   "metadata": {},
   "source": [
    "So what if branching factor is not 2?\n",
    "\n",
    "<img width=\"110%\" src=\"figures/quadratic-recurrence_2.jpeg\"/>\n"
   ]
  },
  {
   "cell_type": "markdown",
   "metadata": {},
   "source": [
    "$$W(n) = \\sum_{i=0}^{\\log n} n^2$$\n",
    "\n",
    "<br>\n",
    "\n",
    "still $\\log n$ levels. Why?\n",
    "\n",
    "Because at every level we are dividing the problem size in half, so we still need $\\log_2 n$ levels.\n"
   ]
  },
  {
   "cell_type": "markdown",
   "metadata": {},
   "source": [
    "If we were dividing the problem size in thirds, we would need $\\log_3 n$ levels"
   ]
  },
  {
   "cell_type": "markdown",
   "metadata": {},
   "source": [
    "$$W(n) = \\sum_{i=0}^{\\log n} n^2$$\n",
    "\n",
    "$$W(n) = n^2 \\sum_{i=0}^{\\log n} 1$$\n",
    "\n",
    "$$W(n) = n^2 \\log n$$\n",
    "\n",
    "$$W(n) \\in \\Theta(n^2 \\log n)$$"
   ]
  },
  {
   "cell_type": "markdown",
   "metadata": {},
   "source": [
    "<h3>The Brick Method and the Master Theorem</h3>\n",
    "\n",
    "When we solve recurrences using the Tree method, we typically find $3$ cases.\n",
    "\n",
    "1. (Root dominated) \n",
    "    - The sum of costs of the levels decays geometrically\n",
    "    - The total cost is the cost of the root, or top level.\n",
    "2. (Balanced) \n",
    "    - Each level has roughly the same cost.\n",
    "    - The total cost is the cost of each level times the number of levels.\n",
    "    - The number of levels is typically $\\log(n)$, so we typically gain a factor of log.\n",
    "3. (Leaf dominated) \n",
    "    - The sum of the costs of the levels grows geometrically.\n",
    "    - The total cost is the cost of the leaves.\n",
    "\n",
    "We can provide a cookie-cutter theorem that allows us to treat many recurrences uniformly. We call this the Master Theorem.\n",
    "\n",
    "\n",
    "Master Theorem:\n",
    "Suppose that our recurrence is of the form $T(n)=aT(\\frac{n}{b})+f(n)$, where $f(n)=n^\\alpha (\\log(n))^k$.\n",
    "\n",
    "Then:\n",
    "1. (Root Dominated) If $\\log_b(a) < \\alpha$, the total cost is $T(n)\\in \\Theta(f)$.\n",
    "2. (Balanced) If $\\log_b(a) = \\alpha$, then the total cost is $f(n)\\log(n)$. We incur an extra factor of log.\n",
    "3. (Leaf Dominated) If $\\log_b(a)>\\alpha$, then the total cost is $n^{\\log_b(a)}$.\n",
    "\n",
    "Not every recurrence can be solved with the Master Theorem.\n"
   ]
  },
  {
   "cell_type": "markdown",
   "metadata": {},
   "source": []
  }
 ],
 "metadata": {
  "celltoolbar": "Slideshow",
  "kernelspec": {
   "display_name": "Python 3 (ipykernel)",
   "language": "python",
   "name": "python3"
  },
  "language_info": {
   "codemirror_mode": {
    "name": "ipython",
    "version": 3
   },
   "file_extension": ".py",
   "mimetype": "text/x-python",
   "name": "python",
   "nbconvert_exporter": "python",
   "pygments_lexer": "ipython3",
   "version": "3.10.12"
  },
  "rise": {
   "autolaunch": true,
   "controls": false,
   "enable_chalkboard": true,
   "scroll": true,
   "theme": "simple",
   "transition": "fade"
  },
  "toc": {
   "base_numbering": 1,
   "nav_menu": {},
   "number_sections": true,
   "sideBar": true,
   "skip_h1_title": true,
   "title_cell": "Table of Contents",
   "title_sidebar": "Contents",
   "toc_cell": true,
   "toc_position": {},
   "toc_section_display": true,
   "toc_window_display": false
  },
  "vscode": {
   "interpreter": {
    "hash": "aee8b7b246df8f9039afb4144a1f6fd8d2ca17a180786b69acc140d282b71a49"
   }
  }
 },
 "nbformat": 4,
 "nbformat_minor": 4
}
