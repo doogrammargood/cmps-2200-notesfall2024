{
 "cells": [
  {
   "cell_type": "code",
   "execution_count": 6,
   "metadata": {},
   "outputs": [
    {
     "data": {
      "text/html": [
       "<style>.prompt{width: 0px; min-width: 0px; visibility: collapse}</style>"
      ],
      "text/plain": [
       "<IPython.core.display.HTML object>"
      ]
     },
     "metadata": {},
     "output_type": "display_data"
    },
    {
     "data": {
      "text/html": [
       "<style>\n",
       "div#notebook {\n",
       " font-family: \"Exo_2\", sans-serif;\n",
       "}\n",
       "\n",
       ".rendered_html h1,\n",
       ".text_cell_render h1 {\n",
       " color: #126dce;\n",
       " font-size: 220%;\n",
       " text-align: center;\n",
       " font-weight: lighter;\n",
       "}\n",
       ".rendered_html h2,\n",
       ".text_cell_render h2 {\n",
       " text-align: center;\n",
       " font-size: 170%;\n",
       " color: #126dce;\n",
       " font-style: normal;\n",
       " font-weight: lighter;\n",
       "}\n",
       ".rendered_html h3,\n",
       ".text_cell_render h3 {\n",
       " font-size: 150%;\n",
       " color: #126dce;\n",
       " font-weight: lighter;\n",
       " text-decoration: italic;\n",
       " font-style: normal;\n",
       "}\n",
       ".rendered_html h4,\n",
       ".text_cell_render h4 {\n",
       " font-size: 120%;\n",
       " color: #126dce;\n",
       " font-weight: underline;\n",
       " font-style: normal;\n",
       "}\n",
       ".rendered_html h5,\n",
       ".text_cell_render h5 {\n",
       " font-size: 100%;\n",
       " color: #2f2f2f;\n",
       " font-weight: lighter;\n",
       " text-decoration: underline;\n",
       "}\n",
       "</style>\n"
      ],
      "text/plain": [
       "<IPython.core.display.HTML object>"
      ]
     },
     "metadata": {},
     "output_type": "display_data"
    }
   ],
   "source": [
    "# setup\n",
    "from IPython.display import display,HTML\n",
    "display(HTML('<style>.prompt{width: 0px; min-width: 0px; visibility: collapse}</style>'))\n",
    "display(HTML(open('../rise.css').read()))\n",
    "\n",
    "# imports\n",
    "import numpy as np\n",
    "import matplotlib.pyplot as plt\n",
    "import seaborn as sns\n",
    "import random\n",
    "import time\n",
    "%matplotlib inline\n",
    "sns.set(style=\"whitegrid\", font_scale=1.5, rc={'figure.figsize':(12, 6)})"
   ]
  },
  {
   "cell_type": "markdown",
   "metadata": {},
   "source": [
    "<h1>Sorting</h1>\n",
    "\n",
    "We have seen binary search, which allows us to search a sorted list much faster than we can search an unsorted list. Now, we describe the process of sorting the list in the first place.\n",
    "\n",
    "We first formalize the problem so that we have a clear understanding of what is allowed.\n",
    "\n",
    "Assume that the input is given as items on a RAM machine in the cells indexed by $0,1,...,n-1$. Often, these items are integers, but they could be more complicated, like students' names. Items can have the same value but be different. For example, two students may have the same name.\n",
    "\n",
    "\n",
    "In any step, we are allowed to read the item at an index, overwrite the item at an index or compare two items to see which one is greater.\n",
    "\n",
    "By using an additional memory cell, we can swap items using $3$ steps. Since $3\\in O(1)$, we can consider swapping to be a single operation without affecting the asymptotic runtime analysis.\n",
    "\n",
    "At the end of the algorithm, we should have a sorted list of the items in the cells $0,\\dots,n-1$.\n",
    "\n",
    "Example: Suppose that we want to sort the list $1,2,3,4,5,\\dots,n-2, n-1,0$. We can almost do this in a single step: move the item $0$ to the index $-1$. This is an $O(1)$ algorithm. Except this is not the desired output, because $0$ is at index $-1$, not at index $0$. To correctly solve the problem, each item will need to be moved. For example $1$ is currently at index $0$, so it will need to be moved. This means that we require at least $n$ operations to sort this list, and would have an algorithm with $\\Omega(n)$ work."
   ]
  },
  {
   "cell_type": "markdown",
   "metadata": {},
   "source": [
    "Some vocabulary related to sorting:\n",
    "\n",
    "- In-place: Uses a constant amount of extra space. All sorting methods based on comparing and swapping are in-place.\n",
    "- Stable: If two items have the same value, they should be in the same order after the sorting as before."
   ]
  },
  {
   "cell_type": "markdown",
   "metadata": {},
   "source": [
    "<h3>Three basic sorting algorithms</h3>\n",
    "\n",
    "Below we describe the three basic sorting algorithms. These are not fast or practical at scale. They can be useful to sort small lists because they are simple to implement. They are important because many CS concepts are explained in terms of these basic algorithms.\n",
    "\n",
    "These three algorithms are just general ideas. You might find slightly different implementations of these ideas, and the different implementation could affect runtime.\n",
    "\n",
    "1. Bubble Sort:\n",
    "    - This sorting method compares and swaps the first two items, then the second two items, etc. Lastly, it compares the item at index $n-2$ the item at $n-1$, swapping them if they are out of order. After this, the largest item is on bottom. It sinks like a stone, while the other items \"bubble\" up to the top. Then, we repeat again on the other $n-1$ items.\n",
    "    - Bubble sort is the most important sorting method to know, because everyone knows it, and it provides a common example.\n",
    "2. Selection Sort:\n",
    "    - This sorting method steps through the list to \"select\" the smallest element. Then it puts the smallest element first. Then it repeats on the other $n-1$ elements that are not first.\n",
    "    - Selection sort is almost the reverse of Bubble sort. Bubble sort puts the largest item last, then repeats. Selection sort puts the smallest item first then repeats.\n",
    "3. Insertion Sort:\n",
    "    - Insertion sort is the method that contract bridge players use to organize their hands. It consists of a loop from $0$ to $n-1$. At stage $k$ of the loop, the first $k$ items are sorted. The algorithm investigates the item at index $k+1$ and determines where to put it so that the first $k+1$ items are sorted."
   ]
  },
  {
   "cell_type": "code",
   "execution_count": 14,
   "metadata": {},
   "outputs": [],
   "source": [
    "#copied from https://www.geeksforgeeks.org/comparison-among-bubble-sort-selection-sort-and-insertion-sort/\n",
    "def bubble_sort(arr):\n",
    "    n = len(arr)\n",
    "    for i in range(n):\n",
    "        for j in range(n - i - 1):\n",
    "            if arr[j] > arr[j + 1]:\n",
    "                arr[j], arr[j + 1] = arr[j + 1], arr[j]\n",
    "        print(arr)\n",
    "\n",
    "def selection_sort(arr):\n",
    "    n = len(arr)\n",
    "    for i in range(n):\n",
    "        min_index = i\n",
    "        for j in range(i + 1, n):\n",
    "            if arr[j] < arr[min_index]:\n",
    "                min_index = j\n",
    "        arr[i], arr[min_index] = arr[min_index], arr[i]\n",
    "        print(arr)\n",
    "\n",
    "def insertion_sort(arr):\n",
    "    n = len(arr)\n",
    "    for i in range(1, n):\n",
    "        key = arr[i]\n",
    "        j = i - 1\n",
    "        while j >= 0 and arr[j] > key:\n",
    "            arr[j + 1] = arr[j]\n",
    "            j -= 1\n",
    "        arr[j + 1] = key\n",
    "        print(arr)\n",
    "\n",
    "def time_functions():\n",
    "    # Generate a list of 10000 random integers\n",
    "    arr = [random.randint(1, 10000) for i in range(10000)]\n",
    "\n",
    "    # Sort the list using each algorithm and time it\n",
    "    start_time = time.time()\n",
    "    bubble_sort(arr.copy())\n",
    "    bubble_sort_time = time.time() - start_time\n",
    "\n",
    "    start_time = time.time()\n",
    "    selection_sort(arr.copy())\n",
    "    selection_sort_time = time.time() - start_time\n",
    "\n",
    "    start_time = time.time()\n",
    "    insertion_sort(arr.copy())\n",
    "    insertion_sort_time = time.time() - start_time\n",
    "\n",
    "    print(\"Bubble Sort time:\", bubble_sort_time)\n",
    "    print(\"Selection Sort time:\", selection_sort_time)\n",
    "    print(\"Insertion Sort time:\", insertion_sort_time)\n"
   ]
  },
  {
   "cell_type": "code",
   "execution_count": 15,
   "metadata": {},
   "outputs": [
    {
     "name": "stdout",
     "output_type": "stream",
     "text": [
      "[8, 9, 10, 2, 3, 0, 1, 9, 8, 3, 19]\n",
      "[8, 9, 10, 2, 3, 0, 1, 9, 8, 3, 19]\n",
      "[2, 8, 9, 10, 3, 0, 1, 9, 8, 3, 19]\n",
      "[2, 3, 8, 9, 10, 0, 1, 9, 8, 3, 19]\n",
      "[0, 2, 3, 8, 9, 10, 1, 9, 8, 3, 19]\n",
      "[0, 1, 2, 3, 8, 9, 10, 9, 8, 3, 19]\n",
      "[0, 1, 2, 3, 8, 9, 9, 10, 8, 3, 19]\n",
      "[0, 1, 2, 3, 8, 8, 9, 9, 10, 3, 19]\n",
      "[0, 1, 2, 3, 3, 8, 8, 9, 9, 10, 19]\n",
      "[0, 1, 2, 3, 3, 8, 8, 9, 9, 10, 19]\n"
     ]
    }
   ],
   "source": [
    "#bubble_sort([8,9,10,2,3,0,1,9,8,3,19])\n",
    "#selection_sort([8,9,10,2,3,0,1,9,8,3,19])\n",
    "insertion_sort([8,9,10,2,3,0,1,9,8,3,19])"
   ]
  },
  {
   "cell_type": "markdown",
   "metadata": {},
   "source": [
    "<h3>Analysis of basic sorting algorithms</h3>\n",
    "\n",
    "All of the basic sorting algorithms have worst-case and average-case runtime $O(n^2)$.\n",
    "\n",
    "The source Geeks for Geeks incorrectly claims that the best-case runtime for Bubble Sort is $O(n)$, and that this occurs when the list is already sorted. It might be possible to implement Bubble Sort like this, but as implemented above, Bubble Sort involves $n(n-1)$ comparisons for every list of length $n$.\n",
    "\n",
    "We can analyze these runtimes more cleanly by implementing the algorithms recursively and deriving recursive equations for the runtime.\n",
    "\n",
    "For Bubble Sort, this becomes $Bubble(n)=Bubble(n-1)+O(n) \\in \\Theta(n^2)$.\n",
    "\n",
    "Selection Sort obeys the same recursive equation, $Selection(n)=Selection(n-1)+O(n)$, and so\n",
    "\n",
    "(comes with a catch) Insertion sort with binary search obeys the recursive equation $Insertion(n) = Insertion(n-1) + O(\\log(n)) = O(n\\log(n))$. But it is well-known that Insertion Sort is an $O(n^2)$ algorithm. Where does this discrepancy come from? \n",
    "\n"
   ]
  }
 ],
 "metadata": {
  "kernelspec": {
   "display_name": "Python 3",
   "language": "python",
   "name": "python3"
  },
  "language_info": {
   "codemirror_mode": {
    "name": "ipython",
    "version": 3
   },
   "file_extension": ".py",
   "mimetype": "text/x-python",
   "name": "python",
   "nbconvert_exporter": "python",
   "pygments_lexer": "ipython3",
   "version": "3.10.12"
  }
 },
 "nbformat": 4,
 "nbformat_minor": 2
}
