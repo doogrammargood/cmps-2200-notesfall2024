{
 "cells": [
  {
   "cell_type": "code",
   "execution_count": null,
   "metadata": {},
   "outputs": [],
   "source": [
    "# setup\n",
    "from IPython.display import display,HTML\n",
    "display(HTML('<style>.prompt{width: 0px; min-width: 0px; visibility: collapse}</style>'))\n",
    "display(HTML(open('../rise.css').read()))\n",
    "\n",
    "# imports\n",
    "import numpy as np\n",
    "import matplotlib.pyplot as plt\n",
    "import seaborn as sns\n",
    "import random\n",
    "import time\n",
    "%matplotlib inline\n",
    "sns.set(style=\"whitegrid\", font_scale=1.5, rc={'figure.figsize':(12, 6)})"
   ]
  },
  {
   "cell_type": "markdown",
   "metadata": {},
   "source": [
    "<h1>Functional Programming</h1>\n",
    "\n",
    "Last time: We described mergesort and quicksort, and claimed that they could be parallelized more efficiently using techniques from functional programming.\n",
    "\n",
    "This time: We will describe the functional programming paradigm and some common patterns.\n",
    "\n",
    "<i>Functional programming</i> is a programming paradigm where \"everything is a function.\" Functional programming languages tend to be rigid and mathematical and are often favored in academic settings. The rigid rules of the functional paradigm offer the promise of \"[no runtime errors](https://softwareengineering.stackexchange.com/questions/420872/how-functional-programming-achieves-no-runtime-exceptions).\" If it compiles, it works, because the compiler checks that every function is correctly applied. "
   ]
  },
  {
   "cell_type": "markdown",
   "metadata": {},
   "source": [
    "<h3>Theoretical background: The Lambda Calculus</h3>\n",
    "\n",
    "The Turing Machine is a foundational concept in the theory of computation. A different foundation is provided by the <i>lambda calculus</i> which can be viewed as a set of re-write rules that are meant to describe functions. The original idea was to provide a foundation for mathematics. [source](https://plato.stanford.edu/entries/lambda-calculus/).\n",
    "\n",
    "The theory of sets is the standard foundation of mathematics: We take the ZFC set axioms as defining sets, then we define all other mathematical concepts in terms of sets. For example, functions are sets of ordered pairs.\n"
   ]
  },
  {
   "cell_type": "markdown",
   "metadata": {},
   "source": [
    "\n",
    "<h3>Defining the Lambda calculus</h3>\n",
    "\n",
    "We give a brief description of the $\\lambda$-calculus. Some of the details may not be accurate, due to weird edge cases.\n",
    "\n",
    "In the lambda calculus, the basic objects are <i>lambda terms</i>, which can be thought of as functions but are technically symbols with re-write rules. The allowable symbols are variables (to stand in for functions), $x,y,z,\\dots$, parenthesis and square brackets, and a special symbol $\\lambda$ that announces that a function is being defined.\n",
    "\n",
    "The $\\lambda$-terms are defined inductively:\n",
    "\n",
    "1. Every variable is a $\\lambda$-term. (Base case)\n",
    "2. If $M$ and $N$ are $\\lambda$-terms, so is $(MN)$. (Representing function application.)\n",
    "3. If $M$ is a $\\lambda$-term and $x$ is a free variable of $M$, then $\\lambda x[M]$ is a $\\lambda$-term. (Representing the function that on input $x$ returns the $\\lambda$-term $M$).\n",
    "\n",
    "Every $\\lambda$-term is composed of variables that can be one of two types. Roughly speaking, The <i>bound variables</i> are the variables imediately to the right of $\\lambda$. The <i>free variables</i> are the variables that are not bound. For example, in $\\lambda x[xy]$, the variable $x$ is bound and $y$ is free.\n",
    "\n",
    "We denote substutiting the free variable $x$ of the $\\lambda$-term $M$ with the $\\lambda$-term $N$ by $M[x\\coloneqq N]$.\n",
    "\n",
    "We say that two $\\lambda$-terms are equivalent if they can be transformed into the same $\\lambda$-term using the rules below.\n",
    "\n",
    "1. ($\\alpha$ conversion) If the variable $x$ is free in the $\\lambda$-term $M$ and $y$ does not occur in $M$, then $M$ is equivalent to $M[x\\coloneqq y]$. (The names of the free variables don't matter.)\n",
    "2. ($\\beta$ reduction) $(\\lambda x[M])N = M[x\\coloneqq N]$. (You apply a function by \"plugging in.\")\n"
   ]
  },
  {
   "cell_type": "markdown",
   "metadata": {},
   "source": [
    "\n",
    "<h3>Lambda calculus as a foundational theory</h3>\n",
    "\n",
    "We can define the natural numbers as sets, i.e. $2 = \\{\\emptyset, \\{\\emptyset\\}\\}$ to illustrate the foundations of mathematics based on sets. Alternatively, we can define the natural numbers using the $\\lambda$-calculus to illustrate how it can provide a foundation to mathematics. [source](https://sskelkar.github.io/representing-natural-numbers-in-lambda-calculus/). The number $2$ is represented by $\\lambda f[\\lambda z[f(f(z))]]$. This function takes two functions $f$ and $z$ and appplies $f$ twice to $z$. We can build up all of mathematics based on the $\\lambda$-calculus.\n",
    "\n",
    "Turing machines are mathematical constructions, so there is [some way](https://eitca.org/cybersecurity/eitc-is-cctf-computational-complexity-theory-fundamentals/turing-machines/definition-of-tms-and-related-language-classes/are-turing-machines-and-lambda-calculus-equivalent-in-computational-power/) to encode a Turing machine as a $\\lambda$-expression so that $\\beta$-reduction corresponds to the machine's transition function. This is one way to understand the fact the problem of whether two $\\lambda$-expressions are equal is undecidable. But the silver lining to undecidability is Turing completeness: every program can be expressed as a $\\lambda$-expression. The $\\lambda$-calculus is the simplest programming language.\n"
   ]
  },
  {
   "cell_type": "markdown",
   "metadata": {},
   "source": [
    "\n",
    "<h3>Types</h3>\n",
    "\n",
    "The usual $\\lambda$-calculus does not have a notion of types. Any $\\lambda$-term can be applied to any other $\\lambda$-term freely. We often add <i>types</i> to the $\\lambda$-calculus that specify the allowed inputs and outputs for each lambda term. The added restriction provides more support for programming: The compiler checks that the input/output types are correct for each function application. If so, then the composition of the functions is well-defined, and will run without error.\n",
    "\n",
    "The <i>Curry-Howard-Lambek Correspondence</i> relates the typed $\\lambda$-calculus to proofs via the mathematics of <i>category theory</i>. We can encode logic into the types, so that checking that the composition of functions in a functional program is tantamount to checking that the steps of the corresponding proof are correct. In this view, the program is a proof of its own validity. Compiling the program amounts to checking the proof: If it compiles, there will be no runtime errors. It is possible to encode logic into the types to verify properties of the program during the compiling phase so that you can have guarantees about the resulting program.\n",
    "\n",
    "Functional programming languages like Haskell and SPARC are designed to take advantage of this correspondence. In these languages, \"everything is a function' and every function has a type that specifies its allowed inputs and outputs.\n"
   ]
  },
  {
   "cell_type": "markdown",
   "metadata": {},
   "source": [
    "<h3>Benefits of Functional Programming</h3>\n",
    "\n",
    "Here is a list of some of the benefits of the functional paradigm.\n",
    "\n",
    "1. We can describe the desired output mathematically, without worrying about implementation. \n",
    "2. Functional programs are easily composible: We only need check that inputs are the correct types. \n",
    "3. There are no variables to worry about. Every function can be analyzed by itself, without worrying about the behavior of other functions or the context in which it will be used.\n",
    "4. Functions are immutable. You don't have to worry about the function being changed later in the code.\n",
    "5. Concurrency/Parallelism: Functional programs use recursion instead of loops. We can easily make the recursive calls in parallel.\n",
    "6. Lazy evaluation: Functions are only evaluated when their outputs are needed, improving performance."
   ]
  },
  {
   "cell_type": "markdown",
   "metadata": {},
   "source": [
    "<h3>Category Theory</h3>\n",
    "\n",
    "We mentioned the Curry-Howard-Lambek Correspondence, which explains the power of types in functional programming to provide guarantees at compile time. The correspondence relates functional programs to proofs via Category Theory, which we now describe.\n",
    "\n",
    "Category theory is a general framework for mathematics. A category consists of\n",
    "\n",
    "1. Objects (For example, sets)\n",
    "2. Morphisms (For example, functions)\n",
    "\n",
    "Each morphism has a target object and a source object (like the domain and codomain of functions).\n",
    "\n",
    "If we have two morphisms, $f:B\\to C$ and $g:A\\to B$ so that the source of $f$ is the target of $g$, then we also have the composition morphism, $f\\circ g:A \\to C$.\n",
    "\n",
    "Each object is assumed to come equipped with a special morphism, which is the identity on that object.\n"
   ]
  },
  {
   "cell_type": "markdown",
   "metadata": {},
   "source": [
    "<h3>Category Theory Examples</h3>\n",
    "\n",
    "1. The category Set, has sets as its objects and functions as its morphisms. Note that the collection of objects does not need to be a set. The collection of all sets is not a set, according to the ZFC axioms.\n",
    "\n",
    "2. Let $P$ be a partially ordered set. We can turn $P$ into a category, whose objects are the elements of $P$. The morphisms of $P$ are the partial order relations. The transitivity of the partial order translates to the fact that morphisms compose.\n",
    "\n",
    "3. Suppose that we have a functional programming language with a type system. Then the types can be viewed as objects and the functions can be viewed as morphisms.\n",
    "\n",
    "4. Suppose we have a system of axioms and propositions. We can construct a category whose objects are propositions, and whose morphisms are proofs. The source of the morphism is the assumptions, and the target is the claim to be proven.\n",
    "\n",
    "5. The category of categories has categories as objects, and <i>functors</i> as morphisms.\n",
    "\n",
    "The Curry-Howard-Lambek correspondence asserts that categories of type $3$ are the same as categories of type $4$. These are the <i>Cartesian Closed Categories</i>, which are categories that have product and function objects."
   ]
  },
  {
   "cell_type": "markdown",
   "metadata": {},
   "source": [
    "<h3>Ideas from functional programming in Python</h3>\n",
    "\n",
    "Functional programming has influenced other languages, like Python, even though Python is not a functional programming language.\n",
    "\n",
    "One example of this influence is in Python's lambda expressions, which are similar to the lambda calculus."
   ]
  },
  {
   "cell_type": "code",
   "execution_count": 6,
   "metadata": {},
   "outputs": [
    {
     "name": "stdout",
     "output_type": "stream",
     "text": [
      "2\n",
      "4\n"
     ]
    }
   ],
   "source": [
    "lambda_2 = lambda f: lambda x: f(f(x))\n",
    "lambda_add_one = lambda x: x+1\n",
    "print(lambda_2(lambda_add_one)(0)) #lambda 2 adds 1 twice. \n",
    "\n",
    "lambda_4 = lambda_2(lambda_2) #Function application encodes addition of the corresponding numbers.\n",
    "print(lambda_4(lambda_add_one)(0)) #"
   ]
  },
  {
   "cell_type": "markdown",
   "metadata": {},
   "source": [
    "The lambda expressions of Python are different from the true lambda calculus, because Python's lambda expressions are objects that can be mutated. The lambda expressions of Python are not necessarily <i>pure functions</i>, meaning that they can have side-effects.\n",
    "\n",
    "Lambda expressions are useful because they facilitate higher-order functions: We can treat lambda expressions as objects and define functions that act on them. This is one way to achieve abstraction.\n",
    "\n"
   ]
  },
  {
   "cell_type": "code",
   "execution_count": 23,
   "metadata": {},
   "outputs": [
    {
     "name": "stdout",
     "output_type": "stream",
     "text": [
      "[1, 2, 3, 4]\n"
     ]
    }
   ],
   "source": [
    "#example from ChatGPT\n",
    "my_list = [1, 2, 3]\n",
    "# Lambda expression with a side effect: mutating the list\n",
    "add_to_list = lambda x: my_list.append(x)\n",
    "# Call the lambda, which mutates the list\n",
    "add_to_list(4)\n",
    "print(my_list)  # Output: [1, 2, 3, 4]\n",
    "#This shows that Python's lambda expressions are not necessarily pure functions.\n"
   ]
  },
  {
   "cell_type": "markdown",
   "metadata": {},
   "source": [
    "<h3>Map, Filter, Reduce</h3>\n",
    "\n",
    "Another example of functional programming on Python is in list comprehensions, which allow an easy syntax to perform map and filter.\n",
    "\n",
    "Here are some examples: See Chapter 18 of Parallel and Sequential Algorithms.\n",
    "\n",
    "1. Map: Takes a list and a function. Returns a list by applying the function to every element\n",
    "2. Filter: Takes a list and a function that returns a boolean. Returns the list of items that the function evaluates to True.\n",
    "3. Reduce: Takes a list, an associative function of two variables, and the identity of the function. Returns the result of appyling reduce to all of the elements of the list."
   ]
  },
  {
   "cell_type": "code",
   "execution_count": 10,
   "metadata": {},
   "outputs": [
    {
     "name": "stdout",
     "output_type": "stream",
     "text": [
      "[1, 6, -1, 11, 6, 10, 7, 9, 1, 9]\n",
      "[0, -2, 10, 6, 8, 0, 8]\n",
      "49\n"
     ]
    }
   ],
   "source": [
    "def map(f,list_of_items):\n",
    "    return [f(item) for item in list_of_items]\n",
    "def filter(b,list_of_items):\n",
    "    return [item for item in list_of_items if b(item)]\n",
    "#Map and filter are bulitin with list comprehensions.\n",
    "def reduce(f,id,list_of_items):#Assumes that f is associative\n",
    "    if len(list_of_items)==0:\n",
    "        return id\n",
    "    if len(list_of_items)==1:\n",
    "        return list_of_items[0]\n",
    "    mid = len(list_of_items)//2\n",
    "    return f(reduce(f, id, list_of_items[:mid]), reduce(f, id, list_of_items[mid:]))\n",
    "#Reduce can be found in functools.reduce.\n",
    "\n",
    "def examples_of_map_filter_reduce():\n",
    "    list_of_items = [0,5,-2,10,5,9,6,8,0,8]\n",
    "    print(map(lambda x: x+1,list_of_items))\n",
    "    print(filter(lambda x: x%2==0, list_of_items))\n",
    "    print(reduce(lambda x,y: x+y, 0, list_of_items ))\n",
    "examples_of_map_filter_reduce()"
   ]
  },
  {
   "cell_type": "markdown",
   "metadata": {},
   "source": [
    "Map/Filter/Reduce (aka list comprehensions) can be an alternative to loops. Because map/filter/reduce is functional, it can be easier to read than loops, where there may be variables that change throughout the loop so that each line of code behaves differently each time it's run. Map/Filter/Reduce is also easily parallelizable, as we now describe (See page 134 of Parallel and Sequential Algorithms). We assume that the list has length $n$ and each function can be applied in $O(1)$ time.\n",
    "\n",
    "1. Map: Work is $O(n)$, Span is $O(1)$.\n",
    "2. Filter: Work is $O(n)$, Span is $O(\\log(n))$.\n",
    "3. Reduce: Work is $O(n)$, Span is $O(\\log(n))$.\n",
    "\n",
    "The work for each function is $O(n)$, because we can implement these functions simply by looping through the item list. The Span of map is $O(1)$ because each item in the list can be transformed in parallel. \n",
    "\n",
    "It may seem surprising that the span of filter is $O(\\log(n))$. We can mark whether to keep or delete each item in $O(1)$ span. The $O(\\log(n))$ span is the span associated with moving the items that should be kept into a new list. We will have to explain exactly how this works on Friday.\n",
    "\n",
    "The span of reduce is $O(\\log(n))$, because we make the recursive calls to reduce the left and right halves of the list in parallel.\n",
    "\n",
    "Several other functions are listed in the textbook. The function Scan is the missing piece that will explain how to pararellize filter and the combine steps for mergesort and quicksort."
   ]
  },
  {
   "cell_type": "markdown",
   "metadata": {},
   "source": [
    "<h3>Scan</h3>\n",
    "\n",
    "Scan is similar to reduce, but it returns a list of the partial applications of the associative function. Usually the function is addition, this means the partial sums."
   ]
  },
  {
   "cell_type": "code",
   "execution_count": 13,
   "metadata": {},
   "outputs": [
    {
     "name": "stdout",
     "output_type": "stream",
     "text": [
      "[0, 0, 5, 3, 13, 18, 27, 33, 41, 41, 49]\n"
     ]
    }
   ],
   "source": [
    "def scan(f,id,list_of_items):\n",
    "    #Assumes that f is an associative function with identity id.\n",
    "    if len(list_of_items)==0:\n",
    "        return id\n",
    "    elif len(list_of_items)==1:\n",
    "        return list_of_items[1]\n",
    "    else:\n",
    "        return [reduce(f,id,list_of_items[:i]) for i in range(len(list_of_items)+1)]\n",
    "def scan_example():\n",
    "    list_of_items = [0,5,-2,10,5,9,6,8,0,8]\n",
    "    print(scan(lambda x,y: x+y,0, list_of_items))\n",
    "scan_example()\n",
    "#In pyton, scan is builtin as itertools.accumulate See https://www.geeksforgeeks.org/reduce-in-python/"
   ]
  },
  {
   "cell_type": "markdown",
   "metadata": {},
   "source": [
    "The key trick to parallelizing filter and the combination steps of mergesort and quicksort is to parallelize scan. This is because scan allows us to count!"
   ]
  },
  {
   "cell_type": "code",
   "execution_count": 16,
   "metadata": {},
   "outputs": [
    {
     "name": "stdout",
     "output_type": "stream",
     "text": [
      "[0, 1, 0, 0, 1, 1, 0, 0, 0, 0]\n",
      "[0, 0, 1, 1, 1, 2, 3, 3, 3, 3, 3]\n"
     ]
    }
   ],
   "source": [
    "list_of_items = [0,5,-2,10,5,9,6,8,0,8]\n",
    "def example_of_counting_by_scan(list_of_items):\n",
    "    #We will count the number of odd numbers in list_of_items using scan.\n",
    "    list_of_items = map(lambda x: x%2,list_of_items) #Mark the items to be counted using map.\n",
    "    print(scan(lambda x,y: x+y,0,list_of_items ) ) #Add up the number of marked items.\n",
    "example_of_counting_by_scan(list_of_items) #the output list counts the number of odd numbers to the left of the number at that index."
   ]
  },
  {
   "cell_type": "code",
   "execution_count": null,
   "metadata": {},
   "outputs": [],
   "source": []
  }
 ],
 "metadata": {
  "kernelspec": {
   "display_name": "Python 3",
   "language": "python",
   "name": "python3"
  },
  "language_info": {
   "codemirror_mode": {
    "name": "ipython",
    "version": 3
   },
   "file_extension": ".py",
   "mimetype": "text/x-python",
   "name": "python",
   "nbconvert_exporter": "python",
   "pygments_lexer": "ipython3",
   "version": "3.10.12"
  }
 },
 "nbformat": 4,
 "nbformat_minor": 2
}
