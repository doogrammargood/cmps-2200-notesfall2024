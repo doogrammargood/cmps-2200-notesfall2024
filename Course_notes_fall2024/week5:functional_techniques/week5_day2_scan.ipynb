{
 "cells": [
  {
   "cell_type": "code",
   "execution_count": 19,
   "metadata": {
    "code_folding": [],
    "slideshow": {
     "slide_type": "skip"
    }
   },
   "outputs": [
    {
     "name": "stderr",
     "output_type": "stream",
     "text": [
      "/tmp/ipykernel_639716/1251851185.py:2: DeprecationWarning: Importing display from IPython.core.display is deprecated since IPython 7.14, please import from IPython display\n",
      "  from IPython.core.display import display,HTML\n"
     ]
    },
    {
     "data": {
      "text/html": [
       "<style>.prompt{width: 0px; min-width: 0px; visibility: collapse}</style>"
      ],
      "text/plain": [
       "<IPython.core.display.HTML object>"
      ]
     },
     "metadata": {},
     "output_type": "display_data"
    },
    {
     "data": {
      "text/html": [
       "<style>\n",
       "div#notebook {\n",
       " font-family: \"Exo_2\", sans-serif;\n",
       "}\n",
       "\n",
       ".rendered_html h1,\n",
       ".text_cell_render h1 {\n",
       " color: #126dce;\n",
       " font-size: 220%;\n",
       " text-align: center;\n",
       " font-weight: lighter;\n",
       "}\n",
       ".rendered_html h2,\n",
       ".text_cell_render h2 {\n",
       " text-align: center;\n",
       " font-size: 170%;\n",
       " color: #126dce;\n",
       " font-style: normal;\n",
       " font-weight: lighter;\n",
       "}\n",
       ".rendered_html h3,\n",
       ".text_cell_render h3 {\n",
       " font-size: 150%;\n",
       " color: #126dce;\n",
       " font-weight: lighter;\n",
       " text-decoration: italic;\n",
       " font-style: normal;\n",
       "}\n",
       ".rendered_html h4,\n",
       ".text_cell_render h4 {\n",
       " font-size: 120%;\n",
       " color: #126dce;\n",
       " font-weight: underline;\n",
       " font-style: normal;\n",
       "}\n",
       ".rendered_html h5,\n",
       ".text_cell_render h5 {\n",
       " font-size: 100%;\n",
       " color: #2f2f2f;\n",
       " font-weight: lighter;\n",
       " text-decoration: underline;\n",
       "}\n",
       "</style>\n"
      ],
      "text/plain": [
       "<IPython.core.display.HTML object>"
      ]
     },
     "metadata": {},
     "output_type": "display_data"
    }
   ],
   "source": [
    "# setup\n",
    "from IPython.core.display import display,HTML\n",
    "display(HTML('<style>.prompt{width: 0px; min-width: 0px; visibility: collapse}</style>'))\n",
    "display(HTML(open('../rise.css').read()))\n",
    "\n",
    "# imports\n",
    "import numpy as np\n",
    "import matplotlib.pyplot as plt\n",
    "import seaborn as sns\n",
    "%matplotlib inline\n",
    "sns.set(style=\"whitegrid\", font_scale=1.5, rc={'figure.figsize':(12, 6)})\n"
   ]
  },
  {
   "attachments": {},
   "cell_type": "markdown",
   "metadata": {
    "slideshow": {
     "slide_type": "slide"
    }
   },
   "source": [
    "# CMPS 2200\n",
    "# Introduction to Algorithms\n",
    "\n",
    "<h3> Last Time</h3>\n",
    "\n",
    "We introduce the Map/Filter/Reduce paradigm and explained the functions that inspire the name. Some of this is included in Chapter 5 of the textbook \"Parallel and Sequential Algorithms\" under the name \"sequences.\"\n",
    "\n",
    "Here is a larger list of functions that fit into the paradigm. We assume the items in the list all have the same type. For this list, we assume that each function that is an agument to a map/filter/reduce function can be applied in constant time. We assume the input list has length $n$.\n",
    "1. Map:\n",
    "    - Expects a list and a function\n",
    "    - Returns a new list by applying the function to each item.\n",
    "    - Work: $\\Theta(n)$\n",
    "    - Span: $\\Theta(1)$\n",
    "    - Example: $Map([1,5,6,3], x+2) = [3,7,8,5]$\n",
    "2. Filter:\n",
    "    - Expects a list and a function that returns a Boolean.\n",
    "    - Returns a new list by removing the items where the function evaluates to False.\n",
    "    - Work: $\\Theta(n)$\n",
    "    - Span: $\\Theta(\\log(n))$\n",
    "    - Example: $Filter([1,5,6,3], x\\%2==1) = [1,5,3]$\n",
    "3. Reduce:\n",
    "    - Expects a list and a binary associative function whose output type is the same as the elements of the list.\n",
    "    - Returns the result of applying the binary associative function until only $1$ item remains.\n",
    "    - Work: $\\Theta(n)$\n",
    "    - Span: $\\Theta(\\log(n))$\n",
    "    - Example: $Reduce([1,5,6,3], x+y) = 15$\n",
    "4. Scan (Accumulate):\n",
    "    - Expects a list (my_list) and a binary associative function (f) whose output type is the same as the elements of the list.\n",
    "    - Returns a list of applications of the binary associative function to the prefixes of the list.\n",
    "    - Can be implemented with Reduce: Returns [reduce(my_list[:i],f) for i in range(len(my_list)+1)]\n",
    "    - Work $\\Theta(n)$\n",
    "    - Span $\\Theta(\\log(n))$\n",
    "    - Example: $Scan([1,5,6,3], x+y) = [1,6,12,15]$\n",
    "5. Zip:\n",
    "    - Expects two lists. We assume both are length $n$.\n",
    "    - Returns a new list whose $i^{th}$ element is the pair of $i^{th}$ elements of the input lists.\n",
    "    - If the lists are different lengths, then Zip first truncates the longer list so that they have the same length.\n",
    "    - Work $\\Theta(n)$\n",
    "    - Span $\\Theta(1)$\n",
    "    - Example: $Zip([1,5,6,3], [8,7,1,4]) = [(1,8),(5,7),(6,1),(3,4)]$\n",
    "6. Enumerate:\n",
    "    - Expects a list. \n",
    "    - Returns a list of pairs, where the first pair is the index.\n",
    "    - Can be implemented with Zip(my_list, range(len(my_list))).\n",
    "    - Work: $\\Theta(n)$\n",
    "    - Span: $\\Theta(\\log(n))$\n",
    "    - Example: $Enumerate([8,7,1,4]) = [(0,8), (1,7),(2,1),(3,4)]$\n",
    "7. Collect (Groupby):\n",
    "    - Expects a list of pairs.\n",
    "    - Returns a list of pairs. The second element of each pair is a list.\n",
    "    - The first coordinates of the return pairs are the unique first coordinates of my_list.\n",
    "    - The second coordinates are the list of second coordinates that are associated with the first coordinate.\n",
    "    - Example: $Collect([(1,``a\"),(5,``b\"),(1,``c\"),(5,``d\")]) = [(1,[``a\",``c\"]), (2,[``b\",``d\"])]$\n",
    "8. Chain: \n",
    "    - Expects two lists.\n",
    "    - Returns the concatenation of both lists.\n",
    "    - Work: $\\Theta(1)$\n",
    "    - Span: $\\Theta(1)$\n",
    "    - Example: $Chain([8,7,1,4], [8,4,5]) = [8,7,1,4,8,4,5]$\n",
    "9. Flatten:\n",
    "    - Expects a list of lists.\n",
    "    - Returns a list by concatenating all of the given lists.\n",
    "    - Can be implemented with Chain and Reduce.\n",
    "    - Work: $\\Theta(n)$\n",
    "    - Span: $\\Theta(\\log(n))$\n",
    "    - Example: $Flatten([[8,7,1,4],[8,4,5],[6,6,5]]) = [8,7,1,4,8,4,5,6,6,5]$\n",
    "10. Length:\n",
    "    - Expects a list\n",
    "    - Returns a natural number, the length of the list.\n",
    "    - Work: $O(1)$\n",
    "    - Span: $O(1)$\n",
    "    - Example: $length([1,6,7])=3$\n",
    "    - Note: We assume the list data structure stores its length. This is [true](https://www.geeksforgeeks.org/internal-working-of-list-in-python/) for lists in python.\n",
    "\n",
    "There are other higher-order functions that operate on lists. I don't have a complete list, and different sources seem to have different standard functions and different assumptions as to what constitutes a list. For example, the textbook does not mention zip. \n",
    "\n",
    "By the \"map/filter/Reduce\" paradigm, we basically mean the collection of functions on lists that do not refer specifically to looping through the list."
   ]
  },
  {
   "attachments": {},
   "cell_type": "markdown",
   "metadata": {
    "slideshow": {
     "slide_type": "slide"
    }
   },
   "source": [
    "## Scan\n",
    "\n",
    "To analyze the span of the map/filter/reduce functions listed above, we analyze Scan and explain that Scan can be used as a key step to implement the other functions.\n",
    "\n",
    "$Scan:(\\alpha \\times \\alpha \\rightarrow \\alpha) (id : \\alpha) (a : \\mathbb{S}_\\alpha) : (S_\\alpha * \\alpha)$\n",
    "\n",
    "\n",
    "Input of Scan is:\n",
    "- $f$: an associative binary function\n",
    "- $a$ is the list\n",
    "- $id$ is the **left identity** of $f$ $\\:\\: \\equiv \\:\\:$ $f(id, x) = x$ for all $x \\in \\alpha$\n",
    "\n",
    "Returns:\n",
    "  - a value of type $S_\\alpha$, the sequence of repeated applications of $f$ to the prefixes of $a$\n",
    "\n",
    "\n",
    "Here, $f$ can be any associative binary function with the correct types. Some useful examples:\n",
    "- Sum (We will explain most things in terms of sum)\n",
    "- Max\n",
    "\n",
    "The textbook has Scan return 2 things, a list and a value. Essentially we just add the value into the list to have a single output."
   ]
  },
  {
   "cell_type": "code",
   "execution_count": 30,
   "metadata": {
    "slideshow": {
     "slide_type": "fragment"
    }
   },
   "outputs": [
    {
     "data": {
      "text/plain": [
       "[0, 2, 3, 6, 8, 10, 15, 19, 20]"
      ]
     },
     "execution_count": 30,
     "metadata": {},
     "output_type": "execute_result"
    }
   ],
   "source": [
    "def reduce(f, id_, a):\n",
    "    if len(a) == 0:\n",
    "        return id_\n",
    "    elif len(a) == 1:\n",
    "        return a[0]\n",
    "    else:\n",
    "        # can call these in parallel\n",
    "        return f(reduce(f, id_, a[:len(a)//2]),\n",
    "                  reduce(f, id_, a[len(a)//2:]))\n",
    "        \n",
    "def add(x, y):\n",
    "    return x + y\n",
    "\n",
    "def scan(f, id_, a):\n",
    "    \"\"\"\n",
    "    This is a horribly inefficient implementation of scan\n",
    "    only to understand what it does.\n",
    "    We'll discuss how to make it more efficient later.\n",
    "    \"\"\"\n",
    "    return [reduce(f, id_, a[:i]) for i in range(len(a)+1)]\n",
    "\n",
    "scan(add, 0, [2,1,3,2,2,5,4,1])"
   ]
  },
  {
   "attachments": {},
   "cell_type": "markdown",
   "metadata": {
    "slideshow": {
     "slide_type": "subslide"
    }
   },
   "source": [
    "`scan` is sometimes called `prefix sum`, as in the previous example it computes the sum of every prefix of a list. But it doesn't necessarily need to be applied with summation."
   ]
  },
  {
   "cell_type": "code",
   "execution_count": 21,
   "metadata": {},
   "outputs": [
    {
     "data": {
      "text/plain": [
       "([10, 10, 10, 12, 12, 16, 16], 16)"
      ]
     },
     "execution_count": 21,
     "metadata": {},
     "output_type": "execute_result"
    }
   ],
   "source": [
    "# what does this do?\n",
    "import math\n",
    "def gt(x,y):\n",
    "    return x if x > y else y\n",
    "\n",
    "scan(gt, -math.inf, [10,4,5,12,3,16,5]) "
   ]
  },
  {
   "attachments": {},
   "cell_type": "markdown",
   "metadata": {
    "slideshow": {
     "slide_type": "slide"
    }
   },
   "source": [
    "e.g., recall **Rightmost Positive**\n",
    "\n",
    "> Given a sequence of integers $a$, for each element in $a$ find the rightmost positive number to its left.\n",
    "\n",
    "E.g., \n",
    "\n",
    "$rpos \\: \\langle 1, 0, -1, 2, 3, 0, -5, 7 \\rangle \\Rightarrow \\langle -\\infty, 1, 1, 1, 2, 3, 3, 3 \\rangle$\n",
    "\n",
    "We solved with `iterate`, but we can also solve with `scan`."
   ]
  },
  {
   "cell_type": "code",
   "execution_count": 22,
   "metadata": {
    "slideshow": {
     "slide_type": "subslide"
    }
   },
   "outputs": [
    {
     "data": {
      "text/plain": [
       "([1, 1, 1, 2, 3, 3, 3, 7], 7)"
      ]
     },
     "execution_count": 22,
     "metadata": {},
     "output_type": "execute_result"
    }
   ],
   "source": [
    "def select_positive(last_positive_value, next_element):\n",
    "    \"\"\"\n",
    "    Params:\n",
    "      last_positive_value...the last positive value seen\n",
    "      next_element..........next element from input list\n",
    "      \n",
    "    Returns:\n",
    "      the element to be remembered going forward\n",
    "    \"\"\"\n",
    "    if next_element > 0:        # remember this new value\n",
    "        return next_element\n",
    "    else:                       # reuse the old value\n",
    "        return last_positive_value\n",
    "    \n",
    "scan(select_positive, -math.inf, [1,0,-1,2,3,0,-5,7])"
   ]
  },
  {
   "attachments": {},
   "cell_type": "markdown",
   "metadata": {
    "slideshow": {
     "slide_type": "subslide"
    }
   },
   "source": [
    "\n",
    "But, because our `scan` implementation is currently slow, this doesn't gain us anything.\n",
    "\n",
    "Surprisingly, we can reduce the work and span of scan, even though it looks \"hopelessly serial.\"\n",
    "\n",
    "```python\n",
    "def scan(f, id_, a):\n",
    "    \"\"\"\n",
    "    This is a horribly inefficient implementation of scan\n",
    "    only to understand what it does.\n",
    "    We'll discuss how to make it more efficient later.\n",
    "    \"\"\"\n",
    "    return [reduce(f, id_, a[:i]) for i in range(len(a)+1)]\n",
    "\n",
    "```"
   ]
  },
  {
   "attachments": {},
   "cell_type": "markdown",
   "metadata": {
    "slideshow": {
     "slide_type": "slide"
    }
   },
   "source": [
    "## Improving Scan\n",
    "\n",
    "We will look at how to improve `scan` approach using `prefix_sum` as an example.\n",
    "\n",
    "$\\text{prefix\\_sum}([2,1,3,2,2,5,4,1]) \\rightarrow ([0, 2, 3, 6, 8, 10, 15, 19, 20])$\n",
    "\n",
    "\n",
    "Divide and conquer works, but is not the most efficient.\n",
    "\n",
    "TODO: explain details. See Textbook.\n",
    "\n"
   ]
  },
  {
   "attachments": {},
   "cell_type": "markdown",
   "metadata": {
    "slideshow": {
     "slide_type": "fragment"
    }
   },
   "source": [
    "Instead, we use an idea called **contraction** that is like divide and conquer, but doesn't require subproblems to be independent. Yet it still allows some parallelism.\n"
   ]
  },
  {
   "attachments": {},
   "cell_type": "markdown",
   "metadata": {
    "slideshow": {
     "slide_type": "slide"
    }
   },
   "source": [
    "**Key observation:**\n",
    "\n",
    "Given input $[2,1,3,2,2,5,4,1]$ we can compute pairwise addition on each adjacent pairs of numbers:\n"
   ]
  },
  {
   "attachments": {},
   "cell_type": "markdown",
   "metadata": {
    "slideshow": {
     "slide_type": "fragment"
    }
   },
   "source": [
    "\n",
    "$[2,1,3,2,2,5,4,1] \\rightarrow$\n",
    "\n",
    "$[(2+1), (3+2), (2+5), (4+1)] \\rightarrow$\n",
    "\n",
    "$[3, 5, 7, 5]$\n",
    "\n",
    "<br>"
   ]
  },
  {
   "attachments": {},
   "cell_type": "markdown",
   "metadata": {
    "slideshow": {
     "slide_type": "fragment"
    }
   },
   "source": [
    "\n",
    "These four additions can be done in parallel."
   ]
  },
  {
   "attachments": {},
   "cell_type": "markdown",
   "metadata": {
    "slideshow": {
     "slide_type": "subslide"
    }
   },
   "source": [
    "> Contraction:\n",
    ">\n",
    "> $[2,1,3,2,2,5,4,1] \\rightarrow [(2+1), (3+2), (2+5), (4+1)] \\rightarrow \\pmb{[3, 5, 7, 5]}$\n",
    "\n",
    "This is a *partial* output. How do we modify this to get the final output?\n",
    "<br>\n"
   ]
  },
  {
   "attachments": {},
   "cell_type": "markdown",
   "metadata": {},
   "source": [
    "\n",
    "If we run prefix sum on this, we get:\n",
    "\n",
    "$\\text{prefix\\_sum}([3, 5, 7, 5]) \\rightarrow ([0, 3, 8, 15, 20])$\n"
   ]
  },
  {
   "attachments": {},
   "cell_type": "markdown",
   "metadata": {
    "slideshow": {
     "slide_type": "fragment"
    }
   },
   "source": [
    "\n",
    "We want to end up with:\n",
    "\n",
    "$\\text{prefix\\_sum}([2,1,3,2,2,5,4,1]) \\rightarrow ([\\mathbf{0}, 2, \\mathbf{3}, 6, \\mathbf{8}, 10, \\mathbf{15}, 19, 20])$\n"
   ]
  },
  {
   "attachments": {},
   "cell_type": "markdown",
   "metadata": {
    "slideshow": {
     "slide_type": "fragment"
    }
   },
   "source": [
    "\n",
    "How can we combine this partial solution with the original input $[2,1,3,2,2,5,4,1]$ to get the right answer?\n"
   ]
  },
  {
   "attachments": {},
   "cell_type": "markdown",
   "metadata": {
    "slideshow": {
     "slide_type": "subslide"
    }
   },
   "source": [
    "![figures/scan.png](figures/scan.png)\n",
    "\n",
    "> Sum together the partial output at position $i$ with the original input at $i+1$."
   ]
  },
  {
   "cell_type": "code",
   "execution_count": 23,
   "metadata": {
    "slideshow": {
     "slide_type": "subslide"
    }
   },
   "outputs": [],
   "source": [
    "num_compositions = 0\n",
    "def fastscan(f, id_, a):\n",
    "    '''Input: f ....a binary, associative function.\n",
    "              id_ ....The left identity of the function\n",
    "              a ......A list, all of the same type.\n",
    "              f must be a function of type l x r -> l where l is the type of id_, r is the type of elements of a.\n",
    "        Returns:\n",
    "            A list of reductions by f to the prefixes of a. When f is +, this amounts to partial sums of a.       \n",
    "    '''\n",
    "    # base cases\n",
    "    if len(a) == 0:\n",
    "        return [id_]\n",
    "    elif len(a) == 1:\n",
    "        return [id_, a[0]]\n",
    "    else:\n",
    "        # compute the \"partial solution\" by\n",
    "        # applying f to each adjacent pair of numbers \n",
    "        # e.g., [2, 1, 3, 2, 2, 5, 4, 1] -> [3, 5, 7, 5]\n",
    "        # this can be done in parallel\n",
    "\n",
    "        partial_solution = [f(a[i], a[i+1]) for i in range(len(a))[:-1:2]] #i runs through every-other element, except the last to avoid IndexError.\n",
    "        if len(a)%2==1:\n",
    "            partial_solution.append(a[-1])#If the length is odd, append the last number.\n",
    "\n",
    "\n",
    "        # recursively apply fastscan to the partial solution\n",
    "        partial_output = fastscan(f, id_, partial_solution)\n",
    "        \n",
    "        # combine partial_output with input to get desired output\n",
    "        ret = (\n",
    "            [partial_output[i//2] if i%2==0 else   # use partial output\n",
    "             f(partial_output[i//2], a[i-1])       # combine partial output with next value\n",
    "             for i in range(len(a)+1)]\n",
    "        )\n",
    "        return ret"
   ]
  },
  {
   "cell_type": "code",
   "execution_count": 31,
   "metadata": {
    "slideshow": {
     "slide_type": "subslide"
    }
   },
   "outputs": [
    {
     "name": "stdout",
     "output_type": "stream",
     "text": [
      "[0, 2, 3, 6, 8, 10, 15, 19, 20, 20]\n",
      "[0, 2, 3, 6, 8, 10, 15, 19, 20, 20]\n"
     ]
    }
   ],
   "source": [
    "def add(x,y):\n",
    "    return x + y\n",
    "\n",
    "print( fastscan(add, 0, [2,1,3,2,2,5,4,1,0])) \n",
    "print( scan(add, 0, [2,1,3,2,2,5,4,1,0]) )"
   ]
  },
  {
   "cell_type": "code",
   "execution_count": 26,
   "metadata": {
    "slideshow": {
     "slide_type": "fragment"
    }
   },
   "outputs": [
    {
     "data": {
      "text/plain": [
       "[-inf, 1, 1, 1, 2, 3, 3, 3, 7]"
      ]
     },
     "execution_count": 26,
     "metadata": {},
     "output_type": "execute_result"
    }
   ],
   "source": [
    "# also works for other operators.\n",
    "fastscan(select_positive, -math.inf, [1,0,-1,2,3,0,-5,7])"
   ]
  },
  {
   "attachments": {},
   "cell_type": "markdown",
   "metadata": {
    "slideshow": {
     "slide_type": "slide"
    }
   },
   "source": [
    "### Analysis of the Work of `scan` \n",
    "\n",
    "Assume that function `f` is constant time. Then\n",
    "\n",
    "```python\n",
    "    subproblem = [f(a[i], a[i+1]) for i in range(len(a))[::2]]\n",
    "```\n"
   ]
  },
  {
   "attachments": {},
   "cell_type": "markdown",
   "metadata": {
    "slideshow": {
     "slide_type": "fragment"
    }
   },
   "source": [
    "takes $O(n)$ time. And"
   ]
  },
  {
   "attachments": {},
   "cell_type": "markdown",
   "metadata": {
    "slideshow": {
     "slide_type": "fragment"
    }
   },
   "source": [
    "\n",
    "```python\n",
    "        ret = (\n",
    "            [partial_output[i//2] if i%2==0 else\n",
    "             f(partial_output[i//2], a[i-1])  \n",
    "             for i in range(len(a)+1)]\n",
    "        )\n",
    "```"
   ]
  },
  {
   "attachments": {},
   "cell_type": "markdown",
   "metadata": {
    "slideshow": {
     "slide_type": "fragment"
    }
   },
   "source": [
    "takes $O(n)$ time. Therefore,"
   ]
  },
  {
   "attachments": {},
   "cell_type": "markdown",
   "metadata": {
    "slideshow": {
     "slide_type": "fragment"
    }
   },
   "source": [
    "```python\n",
    "    partial_output = fastscan(f, id_, subproblem)\n",
    "```\n"
   ]
  },
  {
   "attachments": {},
   "cell_type": "markdown",
   "metadata": {
    "slideshow": {
     "slide_type": "fragment"
    }
   },
   "source": [
    "reduces problem by half on each recursive call,\n",
    "\n",
    "but there is only one recursive call, instead of two for, e.g., `merge sort`. So the work of fast scan is\n",
    "\n"
   ]
  },
  {
   "attachments": {},
   "cell_type": "markdown",
   "metadata": {
    "slideshow": {
     "slide_type": "fragment"
    }
   },
   "source": [
    "$$W(n) = W(n/2) + n$$"
   ]
  },
  {
   "attachments": {},
   "cell_type": "markdown",
   "metadata": {
    "slideshow": {
     "slide_type": "fragment"
    }
   },
   "source": [
    "$$W(n) \\in O(n)$$"
   ]
  },
  {
   "cell_type": "markdown",
   "metadata": {},
   "source": [
    "This is the same amount of work required to calculate Scan directly by sequentially through $a$. When the parallel implementation of an algorithm requires the same amount of work as the sequential implementation, the parallel implementation is called <i>work efficient</i>. The advantage of this implementation of fastscan, based on contraction, is that it is work efficient, in contrast to the divide-and-conquer approach, which requries $O(n\\log(n))$ work."
   ]
  },
  {
   "attachments": {},
   "cell_type": "markdown",
   "metadata": {
    "slideshow": {
     "slide_type": "slide"
    }
   },
   "source": [
    "### Analysis of the Span of `scan` \n",
    "\n",
    "Assume that function `f` is constant time.\n",
    "\n",
    "\n",
    "```python\n",
    "    subproblem = [f(a[i], a[i+1]) for i in range(len(a))[::2]]\n",
    "```\n"
   ]
  },
  {
   "attachments": {},
   "cell_type": "markdown",
   "metadata": {
    "slideshow": {
     "slide_type": "fragment"
    }
   },
   "source": [
    "\n",
    "With infinite processors, this can be done in constant span.\n",
    "\n"
   ]
  },
  {
   "attachments": {},
   "cell_type": "markdown",
   "metadata": {
    "slideshow": {
     "slide_type": "fragment"
    }
   },
   "source": [
    "\n",
    "```python\n",
    "    ret = (\n",
    "        [partial_output[i//2] if i%2==0 else\n",
    "            f(partial_output[i//2], a[i-1])  \n",
    "            for i in range(len(a))]\n",
    "    )\n",
    "```\n"
   ]
  },
  {
   "attachments": {},
   "cell_type": "markdown",
   "metadata": {
    "slideshow": {
     "slide_type": "fragment"
    }
   },
   "source": [
    "With infinite processors, this can also be done in constant span. The line"
   ]
  },
  {
   "attachments": {},
   "cell_type": "markdown",
   "metadata": {
    "slideshow": {
     "slide_type": "fragment"
    }
   },
   "source": [
    "```python\n",
    "    partial_output = fastscan(f, id_, subproblem)\n",
    "```\n"
   ]
  },
  {
   "attachments": {},
   "cell_type": "markdown",
   "metadata": {
    "slideshow": {
     "slide_type": "fragment"
    }
   },
   "source": [
    "\n",
    "reduces problem in half with a recursive call, so the span satisfies the recursive equation"
   ]
  },
  {
   "attachments": {},
   "cell_type": "markdown",
   "metadata": {
    "slideshow": {
     "slide_type": "fragment"
    }
   },
   "source": [
    "$$S(n) = S(n/2) + 1$$\n",
    "\n",
    "Therefore, we have a span of\n",
    "$$S(n) \\in O(\\log n)$$"
   ]
  },
  {
   "attachments": {},
   "cell_type": "markdown",
   "metadata": {
    "slideshow": {
     "slide_type": "slide"
    }
   },
   "source": [
    "## Runtime Analysis Results\n",
    "\n",
    "$$W(n) \\in O(n)$$\n",
    "\n",
    "$$S(n) \\in O(\\log n)$$\n",
    "\n",
    "- surprisingly the *same* work and span of `reduce`\n",
    "- even though we're keeping track of output for all prefixes.\n"
   ]
  },
  {
   "attachments": {},
   "cell_type": "markdown",
   "metadata": {
    "slideshow": {
     "slide_type": "fragment"
    }
   },
   "source": [
    "\n",
    "<br><br>\n",
    "`scan` is a popular primitive in parallel programming, used to solve many problems, including:\n",
    "\n",
    "- evaluating polynomials\n",
    "- quicksort\n",
    "- search for regular expressions (See homework)"
   ]
  },
  {
   "cell_type": "markdown",
   "metadata": {},
   "source": []
  }
 ],
 "metadata": {
  "celltoolbar": "Slideshow",
  "kernelspec": {
   "display_name": "Python 3.9.6 64-bit",
   "language": "python",
   "name": "python3"
  },
  "language_info": {
   "codemirror_mode": {
    "name": "ipython",
    "version": 3
   },
   "file_extension": ".py",
   "mimetype": "text/x-python",
   "name": "python",
   "nbconvert_exporter": "python",
   "pygments_lexer": "ipython3",
   "version": "3.10.12"
  },
  "rise": {
   "autolaunch": true,
   "controls": false,
   "enable_chalkboard": true,
   "scroll": true,
   "theme": "simple",
   "transition": "fade"
  },
  "toc": {
   "base_numbering": 1,
   "nav_menu": {},
   "number_sections": true,
   "sideBar": true,
   "skip_h1_title": true,
   "title_cell": "Table of Contents",
   "title_sidebar": "Contents",
   "toc_cell": true,
   "toc_position": {},
   "toc_section_display": true,
   "toc_window_display": false
  },
  "vscode": {
   "interpreter": {
    "hash": "aee8b7b246df8f9039afb4144a1f6fd8d2ca17a180786b69acc140d282b71a49"
   }
  }
 },
 "nbformat": 4,
 "nbformat_minor": 4
}
