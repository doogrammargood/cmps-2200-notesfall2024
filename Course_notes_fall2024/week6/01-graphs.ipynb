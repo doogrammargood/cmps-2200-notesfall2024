{
 "cells": [
  {
   "cell_type": "code",
   "execution_count": 3,
   "metadata": {
    "code_folding": [],
    "slideshow": {
     "slide_type": "skip"
    }
   },
   "outputs": [
    {
     "data": {
      "text/html": [
       "<style>.prompt{width: 0px; min-width: 0px; visibility: collapse}</style>"
      ],
      "text/plain": [
       "<IPython.core.display.HTML object>"
      ]
     },
     "metadata": {},
     "output_type": "display_data"
    },
    {
     "data": {
      "text/html": [
       "<style>\n",
       "div#notebook {\n",
       " font-family: \"Exo_2\", sans-serif;\n",
       "}\n",
       "\n",
       ".rendered_html h1,\n",
       ".text_cell_render h1 {\n",
       " color: #126dce;\n",
       " font-size: 220%;\n",
       " text-align: center;\n",
       " font-weight: lighter;\n",
       "}\n",
       ".rendered_html h2,\n",
       ".text_cell_render h2 {\n",
       " text-align: center;\n",
       " font-size: 170%;\n",
       " color: #126dce;\n",
       " font-style: normal;\n",
       " font-weight: lighter;\n",
       "}\n",
       ".rendered_html h3,\n",
       ".text_cell_render h3 {\n",
       " font-size: 150%;\n",
       " color: #126dce;\n",
       " font-weight: lighter;\n",
       " text-decoration: italic;\n",
       " font-style: normal;\n",
       "}\n",
       ".rendered_html h4,\n",
       ".text_cell_render h4 {\n",
       " font-size: 120%;\n",
       " color: #126dce;\n",
       " font-weight: underline;\n",
       " font-style: normal;\n",
       "}\n",
       ".rendered_html h5,\n",
       ".text_cell_render h5 {\n",
       " font-size: 100%;\n",
       " color: #2f2f2f;\n",
       " font-weight: lighter;\n",
       " text-decoration: underline;\n",
       "}\n",
       "</style>\n"
      ],
      "text/plain": [
       "<IPython.core.display.HTML object>"
      ]
     },
     "metadata": {},
     "output_type": "display_data"
    }
   ],
   "source": [
    "from IPython.display import display,HTML\n",
    "display(HTML('<style>.prompt{width: 0px; min-width: 0px; visibility: collapse}</style>'))\n",
    "display(HTML(open('../rise.css').read()))\n",
    "\n",
    "# imports\n",
    "import numpy as np\n",
    "import matplotlib.pyplot as plt\n",
    "import seaborn as sns\n",
    "%matplotlib inline\n",
    "sns.set(style=\"whitegrid\", font_scale=1.5, rc={'figure.figsize':(12, 6)})\n"
   ]
  },
  {
   "attachments": {},
   "cell_type": "markdown",
   "metadata": {
    "slideshow": {
     "slide_type": "slide"
    }
   },
   "source": [
    "# CMPS 2200\n",
    "# Introduction to Algorithms\n",
    "\n",
    "## Introduction to Graphs\n"
   ]
  },
  {
   "attachments": {},
   "cell_type": "markdown",
   "metadata": {
    "slideshow": {
     "slide_type": "slide"
    }
   },
   "source": [
    "Agenda:\n",
    "\n",
    "- Overview of graphs"
   ]
  },
  {
   "attachments": {},
   "cell_type": "markdown",
   "metadata": {
    "slideshow": {
     "slide_type": "slide"
    }
   },
   "source": [
    "## Terminology\n",
    "\n",
    "A graph $G$ consists of\n",
    "- a set of $n$ vertices/nodes $V$ \n",
    "- a set of $m$ edges $E \\subseteq V \\times V$\n"
   ]
  },
  {
   "cell_type": "markdown",
   "metadata": {
    "slideshow": {
     "slide_type": "subslide"
    }
   },
   "source": [
    "\n",
    "A **graph** is way to represent objects and their relations.\n",
    "  - **Node:** represents an object\n",
    "  - **Edge:** represents a relation between two nodes \n",
    "  - **Neighbor:** Two nodes are *neighbors* if they are connected by an edge.\n",
    "- **Directed Graph:** Represents asymmetric (one-way) relationships (John is friends with Sally)\n",
    "- **Undirected Graph:** Represents symmetric relationships (John knows who Bono is.)\n",
    "- **Graph with loops** Allows nodes to be related to themselves\n",
    "- **Multipgraph** Allows multiple edges between a pair of nodes.\n",
    "\n",
    "Many other variants of graphs are possible.\n",
    "\n",
    "\n",
    "<img src=\"./figures/graph.png\" width=\"50%\"/>\n",
    "\n",
    "[Source](https://github.com/iit-cs579/main/blob/master/read/ek-02.pdf)\n"
   ]
  },
  {
   "attachments": {},
   "cell_type": "markdown",
   "metadata": {
    "slideshow": {
     "slide_type": "subslide"
    }
   },
   "source": [
    "\n",
    "- 6-degrees of Kevin Bacon\n",
    "\n",
    "<img src=\"./figures/kevin.jpg\" width=\"50%\"/>\n",
    "\n",
    "[Source](https://en.wikipedia.org/wiki/Six_Degrees_of_Kevin_Bacon)\n",
    "\n",
    "Also interesting: [Erdös-Bacon Number](https://en.wikipedia.org/wiki/Erd%C5%91s%E2%80%93Bacon_number)\n",
    "\n",
    "\n",
    "<img src=\"./figures/giant.png\" width=\"50%\"/>\n",
    "\n",
    "[Source](https://www.cis.upenn.edu/~mkearns/teaching/NetworkedLife/teensex.pdf)"
   ]
  },
  {
   "attachments": {},
   "cell_type": "markdown",
   "metadata": {
    "slideshow": {
     "slide_type": "slide"
    }
   },
   "source": [
    "## Graph examples\n",
    "\n",
    "- social networks (Twitter, Facebook, real-world)\n",
    "- web link graph\n",
    "- transportation\n",
    "- gas pipelines\n",
    "- disease spread\n",
    "- finite state machines (directed with loops)\n",
    "\n",
    "<img src=\"https://statnet.org/nme/movie.gif\"/> [source](https://statnet.org/nme/)\n"
   ]
  },
  {
   "attachments": {},
   "cell_type": "markdown",
   "metadata": {
    "slideshow": {
     "slide_type": "slide"
    }
   },
   "source": [
    "## Graphs queries\n",
    "\n",
    "What are some things you might want to know about a graph? E.g., consider social networks, transport network, etc.\n",
    "\n"
   ]
  },
  {
   "attachments": {},
   "cell_type": "markdown",
   "metadata": {
    "slideshow": {
     "slide_type": "fragment"
    }
   },
   "source": [
    "- Who is friends with Billie Eilish?\n",
    "  - find **neighbors** of a node: \n",
    "    \n",
    "    $ N(v) =\\{v_i ~ \\mid (v, v_i) \\in E ~~ \\hbox{or} ~~(v_i, v) \\in E\\}$\n",
    "  - Typically, nodes are not considered neighbors of themselves."
   ]
  },
  {
   "attachments": {},
   "cell_type": "markdown",
   "metadata": {
    "slideshow": {
     "slide_type": "fragment"
    }
   },
   "source": [
    "\n",
    "- How popular is Billie Eilish?\n",
    "  - **degree**: number of neighbors of a node:  \n",
    "    \n",
    "    $ |N(v)|$"
   ]
  },
  {
   "attachments": {},
   "cell_type": "markdown",
   "metadata": {
    "slideshow": {
     "slide_type": "subslide"
    }
   },
   "source": [
    "\n",
    "- Do I know someone who is friends with Billie Eilish?\n",
    "  - **path**: a sequence of nodes in which each consecutive pair are neighbors\n",
    "  - **reachability**: $a$ is reachable from $b$ if there is a path between them\n"
   ]
  },
  {
   "attachments": {},
   "cell_type": "markdown",
   "metadata": {
    "slideshow": {
     "slide_type": "fragment"
    }
   },
   "source": [
    "- Am I in the same clique as Billie Eilish?\n",
    "  - a graph is **connected** if there is a *path* between each pair of nodes\n",
    "  - **connected component:** A maximal subset of nodes such that each pair of nodes is connected \n",
    "\n"
   ]
  },
  {
   "attachments": {},
   "cell_type": "markdown",
   "metadata": {
    "slideshow": {
     "slide_type": "fragment"
    }
   },
   "source": [
    "\n",
    "<img src=\"./figures/components.png\" width=50%/>\n",
    "\n",
    "\n",
    "[Source](https://github.com/iit-cs579/main/blob/master/read/ek-02.pdf)"
   ]
  },
  {
   "attachments": {},
   "cell_type": "markdown",
   "metadata": {
    "slideshow": {
     "slide_type": "slide"
    }
   },
   "source": [
    "### What data structures can we use to represent a graph?"
   ]
  },
  {
   "cell_type": "markdown",
   "metadata": {
    "slideshow": {
     "slide_type": "fragment"
    }
   },
   "source": [
    "### Adjacency matrix\n",
    "\n",
    "<img src=\"./figures/graph.png\" width=\"50%\"/>\n",
    "\n",
    "$\n",
    "\\begin{bmatrix}\n",
    "  & A & B & C & D\\\\\n",
    "A & 0 & 1 & 0 & 0\\\\\n",
    "B & 1 & 0 & 1 & 1\\\\\n",
    "C & 0 & 1 & 0 & 1\\\\\n",
    "D & 0 & 1 & 1 & 0\\\\\n",
    "\\end{bmatrix}\n",
    "\\begin{bmatrix}\n",
    "  & A & B & C & D\\\\\n",
    "A & 0 & 1 & 0 & 0\\\\\n",
    "B & 0 & 0 & 1 & 0\\\\\n",
    "C & 0 & 0 & 0 & 1\\\\\n",
    "D & 0 & 1 & 0 & 0\\\\\n",
    "\\end{bmatrix}\n",
    "$"
   ]
  },
  {
   "attachments": {},
   "cell_type": "markdown",
   "metadata": {
    "slideshow": {
     "slide_type": "subslide"
    }
   },
   "source": [
    "<img src=\"./figures/graph.png\" width=\"50%\"/>"
   ]
  },
  {
   "cell_type": "code",
   "execution_count": 4,
   "metadata": {},
   "outputs": [],
   "source": [
    "import numpy as np\n",
    "from tabulate import tabulate\n",
    "labels = ['A', 'B', 'C', 'D']\n",
    "nodes = [0,1,2,3]\n",
    "edges = [(0,1), (1,2), (2, 3), (3, 1)]\n",
    "\n",
    "def make_graph(nodes, edges, directed=False):\n",
    "    graph = np.zeros((len(nodes), len(nodes)), dtype=int)\n",
    "    for e in edges:\n",
    "        graph[e[0], e[1]] = 1\n",
    "        if not directed: # add reverse direction\n",
    "            graph[e[1], e[0]] = 1\n",
    "    return graph\n"
   ]
  },
  {
   "cell_type": "code",
   "execution_count": 5,
   "metadata": {
    "slideshow": {
     "slide_type": "subslide"
    }
   },
   "outputs": [
    {
     "name": "stdout",
     "output_type": "stream",
     "text": [
      "undirected\n",
      "  A    B    C    D\n",
      "---  ---  ---  ---\n",
      "  0    1    0    0\n",
      "  1    0    1    1\n",
      "  0    1    0    1\n",
      "  0    1    1    0\n"
     ]
    }
   ],
   "source": [
    "        \n",
    "graph = make_graph(nodes, edges, directed=False)\n",
    "print('undirected')\n",
    "print(tabulate(graph, labels))\n",
    "      \n"
   ]
  },
  {
   "cell_type": "code",
   "execution_count": 6,
   "metadata": {
    "slideshow": {
     "slide_type": "fragment"
    }
   },
   "outputs": [
    {
     "name": "stdout",
     "output_type": "stream",
     "text": [
      "\n",
      "directed\n",
      "  A    B    C    D\n",
      "---  ---  ---  ---\n",
      "  0    1    0    0\n",
      "  0    0    1    0\n",
      "  0    0    0    1\n",
      "  0    1    0    0\n"
     ]
    }
   ],
   "source": [
    "digraph = make_graph(nodes, edges, directed=True)\n",
    "print('\\ndirected')\n",
    "print(tabulate(digraph, labels))"
   ]
  },
  {
   "cell_type": "code",
   "execution_count": 7,
   "metadata": {
    "slideshow": {
     "slide_type": "subslide"
    }
   },
   "outputs": [
    {
     "name": "stdout",
     "output_type": "stream",
     "text": [
      "[1 0 1 1]\n"
     ]
    },
    {
     "data": {
      "text/plain": [
       "['A', 'C', 'D']"
      ]
     },
     "execution_count": 7,
     "metadata": {},
     "output_type": "execute_result"
    }
   ],
   "source": [
    "def neighbors_adjacency(graph, node, labels):\n",
    "    result = []\n",
    "    i = labels.index(node)\n",
    "    print(graph[i])\n",
    "    for index, val in enumerate(graph[i]):\n",
    "        if val == 1:\n",
    "            result.append(labels[index])\n",
    "    return result\n",
    "    \n",
    "neighbors_adjacency(graph, 'B', labels)"
   ]
  },
  {
   "attachments": {},
   "cell_type": "markdown",
   "metadata": {
    "slideshow": {
     "slide_type": "fragment"
    }
   },
   "source": [
    "Runtime to access neighbors of a node?"
   ]
  },
  {
   "attachments": {},
   "cell_type": "markdown",
   "metadata": {
    "slideshow": {
     "slide_type": "fragment"
    }
   },
   "source": [
    "$O(|V|)$"
   ]
  },
  {
   "attachments": {},
   "cell_type": "markdown",
   "metadata": {
    "slideshow": {
     "slide_type": "slide"
    }
   },
   "source": [
    "### Why is this space inefficient?"
   ]
  },
  {
   "attachments": {},
   "cell_type": "markdown",
   "metadata": {
    "slideshow": {
     "slide_type": "fragment"
    }
   },
   "source": [
    "If there are $|V|$ nodes, what is the maximum number of edges?\n",
    "\n"
   ]
  },
  {
   "attachments": {},
   "cell_type": "markdown",
   "metadata": {
    "slideshow": {
     "slide_type": "fragment"
    }
   },
   "source": [
    "\n",
    "$$\\frac{|V|(|V|-1)}{2} \\in O(|V|^2)$$\n",
    "\n"
   ]
  },
  {
   "attachments": {},
   "cell_type": "markdown",
   "metadata": {
    "slideshow": {
     "slide_type": "fragment"
    }
   },
   "source": [
    "\n",
    "....but, if a graph is dense, then there's not really any value in representing the data as a graph.\n",
    "\n",
    "Luckily, most real-world graphs are extremely sparse.\n",
    "\n",
    "- E.g., you are probably not friends with over 1,000 people."
   ]
  },
  {
   "cell_type": "markdown",
   "metadata": {},
   "source": []
  },
  {
   "attachments": {},
   "cell_type": "markdown",
   "metadata": {
    "slideshow": {
     "slide_type": "subslide"
    }
   },
   "source": [
    "### it's a small world after all...\n",
    "\n",
    "![small](./figures/small.png)\n",
    "\n",
    "Source: [*Collective dynamics of 'small-world' networks.* Duncan J. Watts & Steven H. Strogatz](http://www.nature.com/nature/journal/v393/n6684/pdf/393440a0.pdf)"
   ]
  },
  {
   "attachments": {},
   "cell_type": "markdown",
   "metadata": {
    "slideshow": {
     "slide_type": "slide"
    }
   },
   "source": [
    "## Edge Sets\n",
    "\n",
    "We could simply store the graph as a set of edges."
   ]
  },
  {
   "cell_type": "code",
   "execution_count": 8,
   "metadata": {
    "slideshow": {
     "slide_type": "fragment"
    }
   },
   "outputs": [
    {
     "data": {
      "text/plain": [
       "{('A', 'B'), ('B', 'C'), ('C', 'D'), ('D', 'B')}"
      ]
     },
     "execution_count": 8,
     "metadata": {},
     "output_type": "execute_result"
    }
   ],
   "source": [
    "edges = set([('A', 'B'),\n",
    "             ('B', 'C'),\n",
    "             ('C', 'D'),\n",
    "             ('D', 'B')])\n",
    "edges"
   ]
  },
  {
   "attachments": {},
   "cell_type": "markdown",
   "metadata": {
    "slideshow": {
     "slide_type": "fragment"
    }
   },
   "source": [
    "What's the space requirement?"
   ]
  },
  {
   "attachments": {},
   "cell_type": "markdown",
   "metadata": {
    "slideshow": {
     "slide_type": "fragment"
    }
   },
   "source": [
    "$O(|E|)$"
   ]
  },
  {
   "attachments": {},
   "cell_type": "markdown",
   "metadata": {
    "slideshow": {
     "slide_type": "subslide"
    }
   },
   "source": [
    "How can we access the neighbors of a node?"
   ]
  },
  {
   "cell_type": "code",
   "execution_count": 9,
   "metadata": {
    "slideshow": {
     "slide_type": "fragment"
    }
   },
   "outputs": [
    {
     "data": {
      "text/plain": [
       "['C', 'D', 'A']"
      ]
     },
     "execution_count": 9,
     "metadata": {},
     "output_type": "execute_result"
    }
   ],
   "source": [
    "def neighbors_set(edges, node):    \n",
    "    # assuming an undirected graph\n",
    "    result = []\n",
    "    for e in edges:\n",
    "        if e[0] == node:\n",
    "            result.append(e[1])\n",
    "        elif e[1] == node:\n",
    "            result.append(e[0])\n",
    "    return result\n",
    "\n",
    "neighbors_set(edges, 'B')"
   ]
  },
  {
   "attachments": {},
   "cell_type": "markdown",
   "metadata": {
    "slideshow": {
     "slide_type": "fragment"
    }
   },
   "source": [
    "What is the work/span of accessing neighbors using an edge set?"
   ]
  },
  {
   "attachments": {},
   "cell_type": "markdown",
   "metadata": {
    "slideshow": {
     "slide_type": "fragment"
    }
   },
   "source": [
    "Work: $O(|E|)$\n",
    "\n",
    "Span: $O(\\lg |E|)$ (using filter)\n",
    "\n",
    "<br><br>\n",
    "\n",
    "Can we do better?\n",
    "\n"
   ]
  },
  {
   "attachments": {},
   "cell_type": "markdown",
   "metadata": {
    "slideshow": {
     "slide_type": "slide"
    }
   },
   "source": [
    "# Map of Neighbors\n",
    "\n",
    "We can use a hashmap (`dict`) to store the neighbors of each node.\n"
   ]
  },
  {
   "cell_type": "code",
   "execution_count": 10,
   "metadata": {
    "slideshow": {
     "slide_type": "fragment"
    }
   },
   "outputs": [
    {
     "data": {
      "text/plain": [
       "{'A': {'B'}, 'B': {'A', 'C', 'D'}, 'C': {'B', 'D'}, 'D': {'B', 'C'}}"
      ]
     },
     "execution_count": 10,
     "metadata": {},
     "output_type": "execute_result"
    }
   ],
   "source": [
    "graph = {\n",
    "            'A': {'B'},\n",
    "            'B': {'A', 'C', 'D'},\n",
    "            'C': {'B', 'D'},\n",
    "            'D': {'B', 'C'}\n",
    "        }\n",
    "graph"
   ]
  },
  {
   "attachments": {},
   "cell_type": "markdown",
   "metadata": {
    "slideshow": {
     "slide_type": "subslide"
    }
   },
   "source": [
    "What is work of accessing neighbors?"
   ]
  },
  {
   "cell_type": "code",
   "execution_count": 11,
   "metadata": {
    "slideshow": {
     "slide_type": "fragment"
    }
   },
   "outputs": [
    {
     "data": {
      "text/plain": [
       "{'A', 'C', 'D'}"
      ]
     },
     "execution_count": 11,
     "metadata": {},
     "output_type": "execute_result"
    }
   ],
   "source": [
    "def neighbors_map(graph, node):\n",
    "    return graph[node]\n",
    "\n",
    "neighbors_map(graph, 'B')"
   ]
  },
  {
   "attachments": {},
   "cell_type": "markdown",
   "metadata": {
    "slideshow": {
     "slide_type": "fragment"
    }
   },
   "source": [
    "Constant time to lookup the neighbors of a node."
   ]
  },
  {
   "cell_type": "markdown",
   "metadata": {},
   "source": [
    "<h2>Isomorphism</h2>\n",
    "\n",
    "Two graphs are *isomorphic* if they are the same after re-labeling the nodes. For example, the two graphs $A-B$ and $C-D$ are different, because they have different vertex sets. However, they are isomorphic under the re-labeling $A\\leftrightarrow C$, $B\\leftrightarrow D$. Usually, we will only be interested in properties of the isomorphism class of the graph rather than the graph itself. The isomorphism class describes the structure of the edges.\n",
    "\n",
    "For example, the degree list of a graph is an increasing list of the degrees of the vertices. If two graphs are isomorphic, they have the same degree list, but not conversely."
   ]
  },
  {
   "attachments": {},
   "cell_type": "markdown",
   "metadata": {
    "slideshow": {
     "slide_type": "slide"
    }
   },
   "source": [
    "## Graph Search\n",
    "\n",
    "One of the fundamental operations over graphs\n",
    "\n",
    "- Start at a *source* node *s*\n",
    "- Visit all *reachable* nodes \n",
    "  - $t$ is reachable from $s$ if there is a path between them\n",
    "- For efficiency, visit each node at most once.\n"
   ]
  },
  {
   "attachments": {},
   "cell_type": "markdown",
   "metadata": {
    "slideshow": {
     "slide_type": "fragment"
    }
   },
   "source": [
    "\n",
    "\n",
    "<br><br>\n",
    "Can be used to solve a number of problem:\n",
    "\n",
    "- Is the graph *connected*?\n",
    "- Is node $t$ reachable from node $s$\n",
    "- Shortest path from $s$ to $t$\n"
   ]
  },
  {
   "attachments": {},
   "cell_type": "markdown",
   "metadata": {
    "slideshow": {
     "slide_type": "slide"
    }
   },
   "source": [
    "## Generic Graph Search\n",
    "\n",
    "Consider the task of crawling every web page reachable from a starting page $s$.\n",
    "\n",
    "How would you do this?\n",
    "\n"
   ]
  },
  {
   "attachments": {},
   "cell_type": "markdown",
   "metadata": {
    "slideshow": {
     "slide_type": "fragment"
    }
   },
   "source": [
    "At any point in the search, a vertex can be in one of three sets:\n",
    "\n",
    "- **visited**: the set of vertices already visited\n",
    "- **frontier**: the unvisited neighbors of the visited vertices\n",
    "- **unseen**: everything else"
   ]
  },
  {
   "attachments": {},
   "cell_type": "markdown",
   "metadata": {
    "slideshow": {
     "slide_type": "fragment"
    }
   },
   "source": [
    "We can then describe a generic search algorithm as follows:\n",
    "\n",
    "> while vertices remain to be visited:\n",
    "- visit some unvisited nodes in the frontier\n",
    "- update the three sets\n"
   ]
  },
  {
   "attachments": {},
   "cell_type": "markdown",
   "metadata": {
    "slideshow": {
     "slide_type": "fragment"
    }
   },
   "source": [
    "\n",
    "<br>\n",
    "\n",
    "We'll look at two common search algorithms, **breadth-first search** and **depth-first search**."
   ]
  },
  {
   "attachments": {},
   "cell_type": "markdown",
   "metadata": {
    "slideshow": {
     "slide_type": "slide"
    }
   },
   "source": [
    "## Vertex Hopping\n",
    "\n",
    "Just to get an idea of the problem, we'll start with an inefficient way of searching called **vertex hopping**\n",
    "\n",
    "```\n",
    "until all nodes visited:\n",
    "    pick a node\n",
    "    visit all its neighbors\n",
    "```"
   ]
  },
  {
   "cell_type": "code",
   "execution_count": 12,
   "metadata": {
    "slideshow": {
     "slide_type": "subslide"
    }
   },
   "outputs": [
    {
     "name": "stdout",
     "output_type": "stream",
     "text": [
      "searching with A\n",
      "...found B\n",
      "searching with B\n",
      "...found A\n",
      "...found C\n",
      "...found D\n",
      "searching with C\n",
      "...found B\n",
      "...found D\n",
      "searching with D\n",
      "...found B\n",
      "...found C\n"
     ]
    }
   ],
   "source": [
    "def hop(graph):\n",
    "    for v in graph:\n",
    "        print('searching with %s' % v)\n",
    "        for neighbor in graph[v]:\n",
    "            print('...found %s' % neighbor)\n",
    "            \n",
    "hop(graph)"
   ]
  },
  {
   "attachments": {},
   "cell_type": "markdown",
   "metadata": {
    "slideshow": {
     "slide_type": "fragment"
    }
   },
   "source": [
    "This of course ignores the idea of **paths** in a graph.\n",
    "\n",
    "However, we could still build on this to solve the reachability problem. How? We'll address this problem in recitation."
   ]
  }
 ],
 "metadata": {
  "celltoolbar": "Slideshow",
  "kernelspec": {
   "display_name": "Python 3.9.6 64-bit",
   "language": "python",
   "name": "python3"
  },
  "language_info": {
   "codemirror_mode": {
    "name": "ipython",
    "version": 3
   },
   "file_extension": ".py",
   "mimetype": "text/x-python",
   "name": "python",
   "nbconvert_exporter": "python",
   "pygments_lexer": "ipython3",
   "version": "3.10.12"
  },
  "rise": {
   "autolaunch": true,
   "controls": false,
   "enable_chalkboard": true,
   "scroll": true,
   "theme": "simple",
   "transition": "fade"
  },
  "toc": {
   "base_numbering": 1,
   "nav_menu": {},
   "number_sections": true,
   "sideBar": true,
   "skip_h1_title": true,
   "title_cell": "Table of Contents",
   "title_sidebar": "Contents",
   "toc_cell": true,
   "toc_position": {},
   "toc_section_display": true,
   "toc_window_display": false
  },
  "vscode": {
   "interpreter": {
    "hash": "aee8b7b246df8f9039afb4144a1f6fd8d2ca17a180786b69acc140d282b71a49"
   }
  }
 },
 "nbformat": 4,
 "nbformat_minor": 4
}
