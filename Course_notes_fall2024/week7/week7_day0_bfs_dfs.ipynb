{
 "cells": [
  {
   "cell_type": "code",
   "execution_count": 54,
   "metadata": {
    "code_folding": [],
    "slideshow": {
     "slide_type": "skip"
    }
   },
   "outputs": [
    {
     "data": {
      "text/html": [
       "<style>.prompt{width: 0px; min-width: 0px; visibility: collapse}</style>"
      ],
      "text/plain": [
       "<IPython.core.display.HTML object>"
      ]
     },
     "metadata": {},
     "output_type": "display_data"
    },
    {
     "data": {
      "text/html": [
       "<style>\n",
       "div#notebook {\n",
       " font-family: \"Exo_2\", sans-serif;\n",
       "}\n",
       "\n",
       ".rendered_html h1,\n",
       ".text_cell_render h1 {\n",
       " color: #126dce;\n",
       " font-size: 220%;\n",
       " text-align: center;\n",
       " font-weight: lighter;\n",
       "}\n",
       ".rendered_html h2,\n",
       ".text_cell_render h2 {\n",
       " text-align: center;\n",
       " font-size: 170%;\n",
       " color: #126dce;\n",
       " font-style: normal;\n",
       " font-weight: lighter;\n",
       "}\n",
       ".rendered_html h3,\n",
       ".text_cell_render h3 {\n",
       " font-size: 150%;\n",
       " color: #126dce;\n",
       " font-weight: lighter;\n",
       " text-decoration: italic;\n",
       " font-style: normal;\n",
       "}\n",
       ".rendered_html h4,\n",
       ".text_cell_render h4 {\n",
       " font-size: 120%;\n",
       " color: #126dce;\n",
       " font-weight: underline;\n",
       " font-style: normal;\n",
       "}\n",
       ".rendered_html h5,\n",
       ".text_cell_render h5 {\n",
       " font-size: 100%;\n",
       " color: #2f2f2f;\n",
       " font-weight: lighter;\n",
       " text-decoration: underline;\n",
       "}\n",
       "</style>\n"
      ],
      "text/plain": [
       "<IPython.core.display.HTML object>"
      ]
     },
     "metadata": {},
     "output_type": "display_data"
    }
   ],
   "source": [
    "# setup\n",
    "from IPython.display import display,HTML\n",
    "display(HTML('<style>.prompt{width: 0px; min-width: 0px; visibility: collapse}</style>'))\n",
    "display(HTML(open('../rise.css').read()))\n",
    "\n",
    "# imports\n",
    "import numpy as np\n",
    "import matplotlib.pyplot as plt\n",
    "import seaborn as sns\n",
    "%matplotlib inline\n",
    "sns.set(style=\"whitegrid\", font_scale=1.5, rc={'figure.figsize':(12, 6)})\n"
   ]
  },
  {
   "attachments": {},
   "cell_type": "markdown",
   "metadata": {
    "slideshow": {
     "slide_type": "slide"
    }
   },
   "source": [
    "# CMPS 2200\n",
    "# Introduction to Algorithms\n",
    "\n",
    "## Graph Search\n",
    "\n",
    "### Last Time:\n",
    "\n",
    "We reviewed basic concepts related to graphs.\n",
    "\n",
    "### This Time:\n",
    "\n",
    "We will study Breadth-First Search and Depth-First Search, which are standard algorithms to examine every node in a connected graph by moving along the edges. We will assume that the graphs are connected. Otherwise, we can apply our search methods on each connected component separately. These methods are also useful because they identify the connected components of the graph."
   ]
  },
  {
   "attachments": {},
   "cell_type": "markdown",
   "metadata": {
    "slideshow": {
     "slide_type": "slide"
    }
   },
   "source": [
    "### Breadth-First Search\n",
    "\n",
    "<center>\n",
    "<img src=\"https://upload.wikimedia.org/wikipedia/commons/4/46/Animated_BFS.gif\" width=25%/>\n",
    "</center>\n",
    "\n",
    "**Input:**\n",
    "- A connected graph $G$\n",
    "- source vertex $s$\n"
   ]
  },
  {
   "attachments": {},
   "cell_type": "markdown",
   "metadata": {
    "slideshow": {
     "slide_type": "fragment"
    }
   },
   "source": [
    "\n",
    "**Process:**\n",
    "1. Visit neighbors of $s$.\n",
    "2. Visit neighbors of neighbors of $s$.\n",
    "3. Visit neighbors of neighbors of neighbors of $s$ ... (and so forth)\n",
    "\n",
    "while ensuring that each node is visited only once.\n"
   ]
  },
  {
   "attachments": {},
   "cell_type": "markdown",
   "metadata": {
    "slideshow": {
     "slide_type": "subslide"
    }
   },
   "source": [
    "\n",
    "<center>\n",
    "<img src=\"https://upload.wikimedia.org/wikipedia/commons/4/46/Animated_BFS.gif\" width=25%/>\n",
    "</center>\n",
    "\n",
    "- Nodes visited at step $i$ have graph distance of $i$ from $s$\n",
    "- BFS proceeds one step at a time, until there are no new neighbors to visit.\n"
   ]
  },
  {
   "attachments": {},
   "cell_type": "markdown",
   "metadata": {
    "slideshow": {
     "slide_type": "slide"
    }
   },
   "source": [
    "## Building BFS\n",
    "\n",
    "<center>\n",
    "<img src=\"figures/bfs_1.png\" width=30%/>\n",
    "</center>\n",
    "\n",
    "What variables will we need to keep track of?\n"
   ]
  },
  {
   "attachments": {},
   "cell_type": "markdown",
   "metadata": {
    "slideshow": {
     "slide_type": "fragment"
    }
   },
   "source": [
    "\n",
    "- `visited` $X$: the nodes already visited, so we don't visit them more than once.\n",
    "- `frontier` $F$: the nodes to visit next.\n"
   ]
  },
  {
   "attachments": {},
   "cell_type": "markdown",
   "metadata": {
    "slideshow": {
     "slide_type": "subslide"
    }
   },
   "source": [
    "<center>\n",
    "<img src=\"figures/bfs_1.png\" width=30%/>\n",
    "</center>\n",
    "\n",
    "At step $i$ of BFS:\n",
    "\n",
    "- `visited` (written $X_i$) contains all nodes with distance less than $i$ from $s$.\n",
    "- `frontier` (written $F_i$) contains all nodes with distance exactly $i$ from $s$.\n",
    "  - $F_i$ is the set of unvisited neighbors of $X_i$.\n",
    " "
   ]
  },
  {
   "attachments": {},
   "cell_type": "markdown",
   "metadata": {
    "slideshow": {
     "slide_type": "fragment"
    }
   },
   "source": [
    " \n",
    "e.g., for $i=1$:\n",
    "\n",
    "- $X_1 = \\{a\\}$\n",
    "- $F_1 = \\{b,c\\}$\n"
   ]
  },
  {
   "attachments": {},
   "cell_type": "markdown",
   "metadata": {
    "slideshow": {
     "slide_type": "subslide"
    }
   },
   "source": [
    "<center>\n",
    "<img src=\"figures/bfs_1.png\" width=30%/>\n",
    "</center>\n",
    "\n",
    "How do we update `visited` and `frontier` at each iteration?"
   ]
  },
  {
   "attachments": {},
   "cell_type": "markdown",
   "metadata": {
    "slideshow": {
     "slide_type": "fragment"
    }
   },
   "source": [
    "- To update `visited`, we add any new values encountered in the frontier:\n",
    "  - $X_{i+1} = X_i \\cup F_i$.\n",
    "\n",
    "\n",
    "- To update `frontier`, we take the neighborhood of $F_i$ and remove any vertices that have already been visited:\n",
    "  - $F_{i+1} = N(F_i) \\setminus X_{i+1}$.\n",
    "  - Here, $N(F_i)$ is the neighbors of the nodes in $F_i$.\n",
    "\n"
   ]
  },
  {
   "attachments": {},
   "cell_type": "markdown",
   "metadata": {
    "slideshow": {
     "slide_type": "subslide"
    }
   },
   "source": [
    "<center>\n",
    "<img src=\"figures/bfs_1.png\" width=30%/>\n",
    "</center>\n",
    "\n",
    "e.g. for $i=1$:\n",
    "\n",
    "$X_1 = \\{a\\}$\n",
    "\n",
    "$F_1 = \\{b,c\\}$\n"
   ]
  },
  {
   "attachments": {},
   "cell_type": "markdown",
   "metadata": {
    "slideshow": {
     "slide_type": "fragment"
    }
   },
   "source": [
    "\n",
    "update $X$ and $F$:\n"
   ]
  },
  {
   "attachments": {},
   "cell_type": "markdown",
   "metadata": {
    "slideshow": {
     "slide_type": "fragment"
    }
   },
   "source": [
    "\n",
    "- $X_2 = \\{a\\} \\cup \\{b,c\\} = \\{a,b,c\\}$\n",
    "    \n",
    "- $F_2 = \\{a, d, e, f, g\\} \\setminus \\{a,b,c\\} = \\{d,e,f,g\\}$\n",
    "    \n"
   ]
  },
  {
   "cell_type": "code",
   "execution_count": 38,
   "metadata": {
    "slideshow": {
     "slide_type": "slide"
    }
   },
   "outputs": [],
   "source": [
    "from functools import reduce\n",
    "\n",
    "def bfs_recursive(graph, source):\n",
    "    #Expects graph to be an adjacency list, and source to be a a vertex.\n",
    "    #Returns all of the nodes in the graph that are found by BFS. (the connected component containing source)\n",
    "    def bfs_helper(visited, frontier):\n",
    "        if len(frontier) == 0:\n",
    "            return visited\n",
    "        else:\n",
    "            # update visited\n",
    "            # X_{i+1} = X_i Union F_i\n",
    "            visited_new = visited | frontier\n",
    "            print('visiting', (visited_new - visited))\n",
    "            visited = visited_new\n",
    "\n",
    "            # update frontier\n",
    "            # F_{i+1} = N(F_i) \\ X_{i+1}\n",
    "            frontier_neighbors = reduce(set.union, [graph[f] for f in frontier])\n",
    "            frontier = frontier_neighbors - visited\n",
    "            return bfs_helper(visited, frontier)\n",
    "\n",
    "    visited = set()\n",
    "    frontier = set([source])        \n",
    "    return bfs_helper(visited, frontier)\n"
   ]
  },
  {
   "attachments": {},
   "cell_type": "markdown",
   "metadata": {
    "slideshow": {
     "slide_type": "subslide"
    }
   },
   "source": [
    "<center>\n",
    "<img src=\"figures/dfs-graph.jpeg\" width=\"40%\"/>\n",
    "</center>"
   ]
  },
  {
   "cell_type": "code",
   "execution_count": 55,
   "metadata": {},
   "outputs": [],
   "source": [
    "\n",
    "# same as example graph above\n",
    "graph = {\n",
    "            'A': {'B', 'C'},\n",
    "            'B': {'A', 'D', 'E'},\n",
    "            'C': {'A', 'F', 'G'},\n",
    "            'D': {'B'},\n",
    "            'E': {'B', 'H'},\n",
    "            'F': {'C'},\n",
    "            'G': {'C'},\n",
    "            'H': {'E'}\n",
    "        }"
   ]
  },
  {
   "cell_type": "code",
   "execution_count": 40,
   "metadata": {},
   "outputs": [
    {
     "name": "stdout",
     "output_type": "stream",
     "text": [
      "visiting {'A'}\n",
      "visiting {'C', 'B'}\n",
      "visiting {'F', 'G', 'E', 'D'}\n",
      "visiting {'H'}\n"
     ]
    },
    {
     "data": {
      "text/plain": [
       "{'A', 'B', 'C', 'D', 'E', 'F', 'G', 'H'}"
      ]
     },
     "execution_count": 40,
     "metadata": {},
     "output_type": "execute_result"
    }
   ],
   "source": [
    "\n",
    "bfs_recursive(graph, 'A')"
   ]
  },
  {
   "attachments": {},
   "cell_type": "markdown",
   "metadata": {
    "slideshow": {
     "slide_type": "slide"
    }
   },
   "source": [
    "## Work of BFS\n",
    "\n",
    "- We implemented BFS as a recursive function, but there is no obvious recursive equation to calculate the work.\n",
    "- Instead we add up costs of each step.\n",
    "- The number of steps is the diameter of the graph.\n",
    "- But, the work at each step varies depending on how many nodes are in the frontier of that step, $|F_i|$.\n"
   ]
  },
  {
   "attachments": {},
   "cell_type": "markdown",
   "metadata": {
    "slideshow": {
     "slide_type": "fragment"
    }
   },
   "source": [
    "\n",
    "What we do know:\n",
    "\n",
    "- Every reachable node appears in the frontier exactly **once**.\n",
    "- Likewise, each edge is processed exactly **once**."
   ]
  },
  {
   "attachments": {},
   "cell_type": "markdown",
   "metadata": {
    "slideshow": {
     "slide_type": "subslide"
    }
   },
   "source": [
    "\n",
    "How much work is done for each node/edge?\n"
   ]
  },
  {
   "attachments": {},
   "cell_type": "markdown",
   "metadata": {
    "slideshow": {
     "slide_type": "fragment"
    }
   },
   "source": [
    "\n",
    "- `visited_new = visited | frontier`\n",
    "  - Each node is added to the visited set at most once.\n"
   ]
  },
  {
   "attachments": {},
   "cell_type": "markdown",
   "metadata": {
    "slideshow": {
     "slide_type": "fragment"
    }
   },
   "source": [
    "- `frontier_neighbors = reduce(set.union, [graph[f] for f in frontier])`\n",
    "  - Each edge contributes to processing a node in `frontier_neighbors` at most twice (a->b, b->a).\n",
    "  - All edges are examined at least once, since every node is in the frontier at some point.\n"
   ]
  },
  {
   "attachments": {},
   "cell_type": "markdown",
   "metadata": {
    "slideshow": {
     "slide_type": "fragment"
    }
   },
   "source": [
    "- `frontier = frontier_neighbors - visited`\n",
    "  - Each node is removed from the `frontier` at most once.\n",
    "  - Each node $v$ is removed from `frontier_neighbors` at most $\\Delta(v)$ times.\n",
    "  - Removing a node from a list of length $n$ takes $O(n)$ work in Python.\n",
    "  - Checking if a node is in the list `visited` takes $O(|visited|)$ work in Python.\n",
    "  - By implementing `visited` as a set (hash), checking if a node has been visited can be done in $O(1)$ work.\n",
    "  - We will see that we can use doubly linked lists so that removing the first node takes constant time.\n",
    "  - So, if implemented correctly, each node $v$ contributes $O(1)+O(\\Delta(v))$ work. \n",
    "  - Summing gives $O(V+E)$ work, if everything is implemented properly.\n"
   ]
  },
  {
   "attachments": {},
   "cell_type": "markdown",
   "metadata": {
    "slideshow": {
     "slide_type": "fragment"
    }
   },
   "source": [
    "\n",
    "\n",
    "- Therefore the work of BFS is $O(|V| + |E|)$, assuming the graph is connected and we implement frontier as a doubly linked list.\n",
    "\n"
   ]
  },
  {
   "attachments": {},
   "cell_type": "markdown",
   "metadata": {
    "slideshow": {
     "slide_type": "slide"
    }
   },
   "source": [
    "## Parallelism in BFS\n",
    "\n",
    "There is some limited parallelism possible in BFS. While we must perform the steps sequentially, each step itself can be parallelized.\n",
    "\n",
    "We can represent a set as a binary search tree, which supports $O(\\log n)$ span operations for union, intersection, and difference operations. (See Vol II Ch 17 of the textbook Parallel and Sequential Algorithms for more details). Here, $n$ is the size of the set.\n",
    "\n",
    "- `visited_new = visited | frontier`\n",
    "  - $O(\\log n)$ span, where $n = \\max(|visited|,|frontier|)$.\n",
    "\n",
    "- `frontier_neighbors = reduce(set.union, [graph[f] for f in frontier])`\n",
    "  - $O(\\log(n)^2)$\n",
    "    - reduce has $O(\\log n)$ span, but the union call at each step has $O(\\log n)$ span.\n",
    "\n",
    "- `frontier = frontier_neighbors - visited`\n",
    "  - $O(\\log n)$ span\n",
    "  \n",
    "If the diameter of the graph is $d$, then the span is $O(d \\log(|V|)^2)$.\n",
    "\n",
    "What shape graph results in the worst span?\n",
    "\n",
    "\n",
    "![figures/chain.png](figures/chain.png)\n",
    "\n",
    "\n",
    "Span $O(|V| \\log(|V|)^2)$.\n",
    "\n",
    "Note that this is actually slower than $O(|E|+|V|)=O(|V|)$."
   ]
  },
  {
   "cell_type": "markdown",
   "metadata": {},
   "source": [
    "### Serial BFS\n",
    "\n",
    "**Alternatively**: represent frontier with a queue and remove one node at a time.\n",
    "\n",
    "\"first in first out\"\n",
    "\n",
    "- Add newly discovered nodes to the end of the queue.\n",
    "- At each iteration, remove the first node in the queue.\n",
    "- Queues cannot be paralellized, since parallel access to the queue would disrupt the notions of \"first in\" and \"first out\"."
   ]
  },
  {
   "cell_type": "code",
   "execution_count": 41,
   "metadata": {},
   "outputs": [
    {
     "name": "stdout",
     "output_type": "stream",
     "text": [
      "deque([1, 2, 3])\n",
      "popleft returns: 1\n",
      "deque([2, 3])\n",
      "pop returns: 3\n",
      "deque([2])\n"
     ]
    }
   ],
   "source": [
    "# deque is a double ended queue\n",
    "# a doubly linked list \n",
    "from collections import deque\n",
    "q = deque()\n",
    "q.append(1)\n",
    "q.append(2)\n",
    "q.append(3)\n",
    "print(q)\n",
    "print('popleft returns: %d' %  q.popleft())\n",
    "print(q)\n",
    "print('pop returns: %d' %  q.pop())\n",
    "print(q)"
   ]
  },
  {
   "cell_type": "code",
   "execution_count": 42,
   "metadata": {},
   "outputs": [
    {
     "name": "stdout",
     "output_type": "stream",
     "text": [
      "[1, 2, 3]\n",
      "pop returns 1\n"
     ]
    }
   ],
   "source": [
    "# compare with:\n",
    "a = [1,2,3]\n",
    "print(a)\n",
    "print('pop returns', a.pop(0))"
   ]
  },
  {
   "cell_type": "markdown",
   "metadata": {},
   "source": [
    "**What is running time to remove first item of a dynamic array of $n$ items (a list in Python)?**\n",
    "\n",
    "$O(n)$: Need to shift all elements to the left.\n",
    "\n",
    "**What is the running time to remove first item of a doubly linked list of $n$ items (a deque in Python)?**\n",
    "\n",
    "$O(1)$.\n",
    "\n",
    "See more:\n",
    "https://wiki.python.org/moin/TimeComplexity\n",
    "\n"
   ]
  },
  {
   "cell_type": "code",
   "execution_count": 43,
   "metadata": {},
   "outputs": [
    {
     "name": "stdout",
     "output_type": "stream",
     "text": [
      "visiting A\n",
      "visiting C\n",
      "visiting B\n",
      "visiting F\n",
      "visiting G\n",
      "visiting E\n",
      "visiting D\n",
      "visiting H\n"
     ]
    },
    {
     "data": {
      "text/plain": [
       "{'A', 'B', 'C', 'D', 'E', 'F', 'G', 'H'}"
      ]
     },
     "execution_count": 43,
     "metadata": {},
     "output_type": "execute_result"
    }
   ],
   "source": [
    "def bfs_serial(graph, source):\n",
    "    #Has the same behavior has bfs_recursive.\n",
    "    def bfs_serial_helper(visited, frontier):\n",
    "        if len(frontier) == 0:\n",
    "            return visited\n",
    "        else:\n",
    "            node = frontier.popleft()\n",
    "            print('visiting', node)\n",
    "            visited.add(node)\n",
    "            frontier.extend(filter(lambda n: n not in visited, graph[node]))\n",
    "            return bfs_serial_helper(visited, frontier)\n",
    "\n",
    "    frontier = deque()\n",
    "    frontier.append(source)\n",
    "    visited = set()\n",
    "    return bfs_serial_helper(visited, frontier)\n",
    "\n",
    "bfs_serial(graph, 'A')"
   ]
  },
  {
   "cell_type": "markdown",
   "metadata": {},
   "source": [
    "### Serial BFS Work/Span\n",
    "\n",
    "Work and span are $O(|V| + |E|)$, since each vertex and edge are visited once.\n"
   ]
  },
  {
   "cell_type": "markdown",
   "metadata": {},
   "source": [
    "### How can we keep track of the distance each node is from the source?"
   ]
  },
  {
   "cell_type": "code",
   "execution_count": 44,
   "metadata": {},
   "outputs": [
    {
     "name": "stdout",
     "output_type": "stream",
     "text": [
      "visiting {'A'}\n",
      "visiting {'C', 'B'}\n",
      "visiting {'F', 'G', 'E', 'D'}\n",
      "visiting {'H'}\n"
     ]
    },
    {
     "data": {
      "text/plain": [
       "{'A': 0, 'C': 1, 'B': 1, 'F': 2, 'G': 2, 'E': 2, 'D': 2, 'H': 3}"
      ]
     },
     "execution_count": 44,
     "metadata": {},
     "output_type": "execute_result"
    }
   ],
   "source": [
    "def bfs_recursive_depths(graph, source):\n",
    "    #expects graph to be an adjacency list, source is a vertex. Returns the distances of each vertex to source.\n",
    "    def bfs_helper_depths(visited, frontier, cur_depth, depths):\n",
    "        if len(frontier) == 0:\n",
    "            return depths\n",
    "        else:\n",
    "            # update visited\n",
    "            # X_{i+1} = X_i OR F_i\n",
    "            visited_new = visited | frontier\n",
    "            print('visiting', (visited_new - visited))\n",
    "            # record the depths of visited nodes\n",
    "            for v in visited_new - visited:\n",
    "                depths[v] = cur_depth\n",
    "            visited = visited_new        \n",
    "            # update frontier\n",
    "            # F_{i+1} = N(F_i) \\ X_{i+1}\n",
    "            frontier_neighbors = reduce(set.union, [graph[f] for f in frontier])\n",
    "            frontier = frontier_neighbors - visited\n",
    "            return bfs_helper_depths(visited, frontier, cur_depth+1, depths)    \n",
    "\n",
    "    depths = dict()\n",
    "    visited = set()\n",
    "    frontier = set([source])\n",
    "    return bfs_helper_depths(visited, frontier, 0, depths)\n",
    "     \n",
    "bfs_recursive_depths(graph, 'A')"
   ]
  },
  {
   "cell_type": "markdown",
   "metadata": {},
   "source": [
    "\n",
    "\n",
    "## Depth-First Search\n",
    "\n",
    "Agenda:\n",
    "\n",
    "- depth-first search\n",
    "- comparison with breadth-first search\n",
    "- cycle detection\n",
    "\n",
    "<center>\n",
    "<table border=0>\n",
    "    <tr style=\"background-color: #ffffff;\"><td><h2>DFS</h2></td><td><h2>BFS</h2></td></tr>\n",
    "    <tr style=\"background-color: #ffffff;\">\n",
    "    <td><img src=\"https://upload.wikimedia.org/wikipedia/commons/7/7f/Depth-First-Search.gif\" width=50%/></td>\n",
    "    <td><img src=\"https://upload.wikimedia.org/wikipedia/commons/4/46/Animated_BFS.gif\" width=100%/></td>\n",
    "    </tr>\n",
    "</table>\n",
    "</center>\n",
    "\n",
    "[source](https://commons.wikimedia.org/w/index.php?curid=6342841)\n"
   ]
  },
  {
   "cell_type": "markdown",
   "metadata": {},
   "source": [
    "While BFS uses a queue, we can implement DFS with a stack: **last in first out**\n"
   ]
  },
  {
   "cell_type": "code",
   "execution_count": 45,
   "metadata": {},
   "outputs": [],
   "source": [
    "from collections import deque\n",
    "\n",
    "def dfs_stack(graph, source):\n",
    "    def dfs_stack_helper(visited, frontier):\n",
    "        if len(frontier) == 0:\n",
    "            return visited\n",
    "        else:\n",
    "            node = frontier.pop()\n",
    "            print('visiting', node)\n",
    "            visited.add(node)\n",
    "            frontier.extend(filter(lambda n: n not in visited, graph[node]))\n",
    "            return dfs_stack_helper(visited, frontier)\n",
    "        \n",
    "    frontier = deque()\n",
    "    frontier.append(source)\n",
    "    visited = set()\n",
    "    return dfs_stack_helper(visited, frontier)\n",
    "  \n"
   ]
  },
  {
   "cell_type": "markdown",
   "metadata": {},
   "source": [
    "<center>\n",
    "<img src=\"figures/dfs-graph.jpeg\" width=40%/>\n",
    "</center>\n",
    "  \n"
   ]
  },
  {
   "cell_type": "code",
   "execution_count": 46,
   "metadata": {},
   "outputs": [],
   "source": [
    "graph = {\n",
    "            'A': {'B', 'C'},\n",
    "            'B': {'A', 'D', 'E'},\n",
    "            'C': {'A', 'F', 'G'},\n",
    "            'D': {'B'},\n",
    "            'E': {'B', 'H'},\n",
    "            'F': {'C'},\n",
    "            'G': {'C'},\n",
    "            'H': {'E'}\n",
    "        }\n"
   ]
  },
  {
   "cell_type": "markdown",
   "metadata": {},
   "source": [
    "\n",
    "<center>\n",
    "<img src=\"figures/dfs-graph.jpeg\" width=40%/>\n",
    "</center>\n",
    "\n",
    "dfs_stack(graph, 'A')\n",
    "### Compare with `bfs_serial`!\n"
   ]
  },
  {
   "cell_type": "code",
   "execution_count": 47,
   "metadata": {},
   "outputs": [],
   "source": [
    "\n",
    "def bfs_serial(graph, source):\n",
    "    def bfs_serial_helper(visited, frontier):\n",
    "        if len(frontier) == 0:\n",
    "            return visited\n",
    "        else:\n",
    "            node = frontier.popleft() # <==== DIFFERENCE\n",
    "            print('visiting', node)\n",
    "            visited.add(node)\n",
    "            frontier.extend(filter(lambda n: n not in visited, graph[node]))\n",
    "            return bfs_serial_helper(visited, frontier)\n",
    "    frontier = deque()\n",
    "    frontier.append(source)\n",
    "    visited = set()\n",
    "    return bfs_serial_helper(visited, frontier)\n",
    "def dfs_stack(graph, source):\n",
    "    def dfs_stack_helper(visited, frontier):\n",
    "        if len(frontier) == 0:\n",
    "            return visited\n",
    "        else:\n",
    "            node = frontier.pop() # <======== DIFFERENCE\n",
    "            print('visiting', node)\n",
    "            visited.add(node)\n",
    "            frontier.extend(filter(lambda n: n not in visited, graph[node]))\n",
    "            return dfs_stack_helper(visited, frontier)   \n",
    "    frontier = deque()\n",
    "    frontier.append(source)\n",
    "    visited = set()\n",
    "    return dfs_stack_helper(visited, frontier)\n"
   ]
  },
  {
   "cell_type": "markdown",
   "metadata": {},
   "source": [
    "\n",
    "`dfs_stack`:\n",
    "\n",
    "- `node = frontier.pop()`\n",
    "\n",
    "\n",
    "`bfs_serial`:\n",
    "\n",
    "- `node = frontier.popleft()`\n"
   ]
  },
  {
   "cell_type": "markdown",
   "metadata": {},
   "source": [
    "\n",
    "### DFS with recursion\n",
    "\n",
    "\n",
    "but wait, can't we just use recursion?\n",
    "\n",
    "recursion maintains a stack of calls automatically.\n",
    "\n",
    "<center>\n",
    "<img src=\"https://upload.wikimedia.org/wikipedia/commons/7/7f/Depth-First-Search.gif\" width=25%/>\n",
    "</center>\n",
    "\n"
   ]
  },
  {
   "cell_type": "code",
   "execution_count": 48,
   "metadata": {},
   "outputs": [],
   "source": [
    "\n",
    "def dfs_recursive(graph, source):\n",
    "    \n",
    "    def dfs_recursive_helper(visited, node):\n",
    "        if node in visited:\n",
    "            return visited\n",
    "        else:\n",
    "            print('visiting', node)\n",
    "            visited.add(node)\n",
    "            iterate(dfs_recursive_helper, visited, list(graph[node]))\n",
    "            return visited\n",
    "\n",
    "    visited = set()\n",
    "    return dfs_recursive_helper(visited, source)\n",
    "\n",
    "def iterate(f, x, a):\n",
    "    if len(a) == 0:\n",
    "        return x\n",
    "    else:\n",
    "        return iterate(f, f(x, a[0]), a[1:])\n"
   ]
  },
  {
   "cell_type": "markdown",
   "metadata": {},
   "source": [
    "\n",
    "<center>\n",
    "<img src=\"figures/dfs-graph.jpeg\" width=40%/>\n",
    "</center>\n"
   ]
  },
  {
   "cell_type": "code",
   "execution_count": 49,
   "metadata": {},
   "outputs": [
    {
     "name": "stdout",
     "output_type": "stream",
     "text": [
      "visiting A\n",
      "visiting C\n",
      "visiting F\n",
      "visiting G\n",
      "visiting B\n",
      "visiting E\n",
      "visiting H\n",
      "visiting D\n"
     ]
    },
    {
     "data": {
      "text/plain": [
       "{'A', 'B', 'C', 'D', 'E', 'F', 'G', 'H'}"
      ]
     },
     "execution_count": 49,
     "metadata": {},
     "output_type": "execute_result"
    }
   ],
   "source": [
    "dfs_recursive(graph, 'A')\n"
   ]
  },
  {
   "cell_type": "markdown",
   "metadata": {},
   "source": [
    "\n",
    "## Cost of DFS\n",
    "\n",
    "As in DFS, we add a node to the visited set exactly once ($\\Theta(|V|)$).\n",
    "\n",
    "For each edge, we do one lookup to see if it exists in the visited set ($\\Theta(|E|)$).\n",
    "\n",
    "Thus, the total work is equivalent to BFS: $\\Theta(|V| + |E|)$.\n",
    "\n",
    "\n",
    "## Parallelism in DFS?\n",
    "<center>\n",
    "<img src=\"figures/dfs_nop.jpg\" width=\"30%\"/>\n",
    "</center>\n",
    "\n",
    "Is there any opportunity for parallelism?\n",
    "\n",
    "One idea is to just run the search for each child in parallel. \n",
    "- E.g., in this example, search subtree $a$ and $b$ in parallel\n",
    "\n",
    "What potential problems arise?\n"
   ]
  },
  {
   "cell_type": "markdown",
   "metadata": {},
   "source": [
    "\n",
    "<center>\n",
    "<img src=\"figures/dfs_nop.jpg\" width=\"30%\"/>\n",
    "</center>\n",
    "\n",
    "- We may end up visiting $b$ twice (or $c$, or $f$)\n",
    "- This isn't in DFS order! We shouldn't be visiting $b$ before $e$.\n",
    "\n",
    "DFS belongs to a class of problems called **P**-complete: computations that most likely do not admit solutions with **polylogarithmic** span. \n",
    "## Cycle detection\n",
    "\n",
    "How can we modify DFS to determine if the graph has a cycle?\n"
   ]
  },
  {
   "cell_type": "markdown",
   "metadata": {},
   "source": [
    "\n",
    "**cycle**: a path in which all nodes are distinct except the first and last\n",
    "- In an undirected graph, a cycle must contain at least three nodes.\n",
    "\n",
    "\n",
    "**idea**: determine whether a vertex is visited more than once.\n",
    "\n",
    "<center>\n",
    "<img src=\"figures/triangle.png\" width=\"50%\"/>\n",
    "</center>\n",
    "\n",
    "Determine whether a vertex is visited more than once but...the second visit must be from a different source.\n"
   ]
  },
  {
   "cell_type": "code",
   "execution_count": 50,
   "metadata": {},
   "outputs": [],
   "source": [
    "\n",
    "def dfs_stack_helper(visited, frontier):\n",
    "    if len(frontier) == 0:\n",
    "        return visited\n",
    "    else:\n",
    "        node = frontier.pop()\n",
    "        print('visiting', node)\n",
    "        visited.add(node)\n",
    "        frontier.extend(filter(lambda n: n not in visited, graph[node]))\n",
    "        return dfs_stack_helper(visited, frontier)   \n"
   ]
  },
  {
   "cell_type": "markdown",
   "metadata": {},
   "source": [
    "\n",
    "e.g., if $a$ is the source, then we will see $b$ twice:\n",
    "- once when it is added to `visited`\n",
    "- once in the base case of the recursive call (`if node in visited`), with `c` as the parent.\n",
    "\n",
    "<center>\n",
    "<img src=\"figures/triangle.png\" width=\"50%\"/>\n",
    "</center>\n",
    "\n",
    "We will see $a$ three times:\n",
    "- once when it is added to `visited`\n",
    "- twice in the base case of the recursive call (`if node in visited`)\n",
    "  - with `b` as the parent\n",
    "  - with `c` as the parent\n",
    "  \n",
    "So, we need to keep track of the parent of each recursive call and make sure not to make a recursive call back to the parent.\n"
   ]
  },
  {
   "cell_type": "code",
   "execution_count": 51,
   "metadata": {},
   "outputs": [],
   "source": [
    "\n",
    "def dfs_cycle(graph, source):\n",
    "    visited = set()\n",
    "\n",
    "    def dfs_cycle_helper(result, node, parent):\n",
    "        \"\"\"\n",
    "        We pack (visited, has_cycle) variables into a single result variable,\n",
    "        so we can use iterate.\n",
    "        \"\"\"\n",
    "        visited, has_cycle = result\n",
    "        if node in visited:\n",
    "            print('found cycle from %s to %s' % (parent, node))\n",
    "            return (visited, True)\n",
    "        else:\n",
    "            print('visiting', node)\n",
    "            visited.add(node)\n",
    "            # ignore the parent!\n",
    "            neighbors = list(filter(lambda n: n != parent, graph[node]))\n",
    "            # curry the dfs_cycle_helper function to set the parent variable \n",
    "            # to be the node we are visiting now.                         \n",
    "            fn = lambda r, n: dfs_cycle_helper(r, n, node)\n",
    "            res = iterate(fn, (visited, has_cycle), neighbors)\n",
    "            return res\n",
    "    \n",
    "    return dfs_cycle_helper((visited, False), source, source)\n",
    "    \n"
   ]
  },
  {
   "cell_type": "markdown",
   "metadata": {},
   "source": [
    "<center>\n",
    "<img src=\"figures/dfs-graph.jpeg\" width=\"40%\"/>\n",
    "</center>"
   ]
  },
  {
   "cell_type": "code",
   "execution_count": 52,
   "metadata": {},
   "outputs": [
    {
     "name": "stdout",
     "output_type": "stream",
     "text": [
      "visiting A\n",
      "visiting C\n",
      "visiting F\n",
      "visiting G\n",
      "visiting B\n",
      "visiting E\n",
      "visiting H\n",
      "visiting D\n"
     ]
    }
   ],
   "source": [
    "\n",
    "dfs_cycle(graph, 'A')\n",
    "graph2 = {\n",
    "            'A': {'B', 'C'},\n",
    "            'B': {'A', 'D', 'E'},\n",
    "            'C': {'A', 'F', 'G'},\n",
    "            'D': {'B'},\n",
    "            'E': {'B', 'H'},\n",
    "            'F': {'C'},\n",
    "            'G': {'C', 'A'},  # add cycle back to A from G\n",
    "            'H': {'E'}\n",
    "        }\n"
   ]
  },
  {
   "cell_type": "markdown",
   "metadata": {},
   "source": [
    "<center>\n",
    "<img src=\"figures/dfs-graph-cycle.jpeg\" width=\"40%\"/>\n",
    "</center>"
   ]
  },
  {
   "cell_type": "code",
   "execution_count": 53,
   "metadata": {},
   "outputs": [
    {
     "name": "stdout",
     "output_type": "stream",
     "text": [
      "visiting A\n",
      "visiting C\n",
      "visiting F\n",
      "visiting G\n",
      "found cycle from G to A\n",
      "visiting B\n",
      "visiting E\n",
      "visiting H\n",
      "visiting D\n"
     ]
    },
    {
     "data": {
      "text/plain": [
       "({'A', 'B', 'C', 'D', 'E', 'F', 'G', 'H'}, True)"
      ]
     },
     "execution_count": 53,
     "metadata": {},
     "output_type": "execute_result"
    }
   ],
   "source": [
    "dfs_cycle(graph2, 'A')"
   ]
  }
 ],
 "metadata": {
  "celltoolbar": "Slideshow",
  "kernelspec": {
   "display_name": "Python 3.9.6 64-bit",
   "language": "python",
   "name": "python3"
  },
  "language_info": {
   "codemirror_mode": {
    "name": "ipython",
    "version": 3
   },
   "file_extension": ".py",
   "mimetype": "text/x-python",
   "name": "python",
   "nbconvert_exporter": "python",
   "pygments_lexer": "ipython3",
   "version": "3.10.12"
  },
  "rise": {
   "autolaunch": true,
   "controls": false,
   "enable_chalkboard": true,
   "scroll": true,
   "theme": "simple",
   "transition": "fade"
  },
  "toc": {
   "base_numbering": 1,
   "nav_menu": {},
   "number_sections": true,
   "sideBar": true,
   "skip_h1_title": true,
   "title_cell": "Table of Contents",
   "title_sidebar": "Contents",
   "toc_cell": true,
   "toc_position": {},
   "toc_section_display": true,
   "toc_window_display": false
  },
  "vscode": {
   "interpreter": {
    "hash": "aee8b7b246df8f9039afb4144a1f6fd8d2ca17a180786b69acc140d282b71a49"
   }
  }
 },
 "nbformat": 4,
 "nbformat_minor": 4
}
