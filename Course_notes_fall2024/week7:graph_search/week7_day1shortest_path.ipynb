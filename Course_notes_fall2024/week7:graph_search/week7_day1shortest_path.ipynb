{
 "cells": [
  {
   "cell_type": "code",
   "execution_count": 2,
   "metadata": {
    "code_folding": [],
    "slideshow": {
     "slide_type": "skip"
    }
   },
   "outputs": [
    {
     "data": {
      "text/html": [
       "<style>.prompt{width: 0px; min-width: 0px; visibility: collapse}</style>"
      ],
      "text/plain": [
       "<IPython.core.display.HTML object>"
      ]
     },
     "metadata": {},
     "output_type": "display_data"
    },
    {
     "data": {
      "text/html": [
       "<style>\n",
       "div#notebook {\n",
       " font-family: \"Exo_2\", sans-serif;\n",
       "}\n",
       "\n",
       ".rendered_html h1,\n",
       ".text_cell_render h1 {\n",
       " color: #126dce;\n",
       " font-size: 220%;\n",
       " text-align: center;\n",
       " font-weight: lighter;\n",
       "}\n",
       ".rendered_html h2,\n",
       ".text_cell_render h2 {\n",
       " text-align: center;\n",
       " font-size: 170%;\n",
       " color: #126dce;\n",
       " font-style: normal;\n",
       " font-weight: lighter;\n",
       "}\n",
       ".rendered_html h3,\n",
       ".text_cell_render h3 {\n",
       " font-size: 150%;\n",
       " color: #126dce;\n",
       " font-weight: lighter;\n",
       " text-decoration: italic;\n",
       " font-style: normal;\n",
       "}\n",
       ".rendered_html h4,\n",
       ".text_cell_render h4 {\n",
       " font-size: 120%;\n",
       " color: #126dce;\n",
       " font-weight: underline;\n",
       " font-style: normal;\n",
       "}\n",
       ".rendered_html h5,\n",
       ".text_cell_render h5 {\n",
       " font-size: 100%;\n",
       " color: #2f2f2f;\n",
       " font-weight: lighter;\n",
       " text-decoration: underline;\n",
       "}\n",
       "</style>\n"
      ],
      "text/plain": [
       "<IPython.core.display.HTML object>"
      ]
     },
     "metadata": {},
     "output_type": "display_data"
    }
   ],
   "source": [
    "# setup\n",
    "from IPython.display import display, HTML\n",
    "display(HTML('<style>.prompt{width: 0px; min-width: 0px; visibility: collapse}</style>'))\n",
    "display(HTML(open('../rise.css').read()))\n",
    "\n",
    "# imports\n",
    "import numpy as np\n",
    "import matplotlib.pyplot as plt\n",
    "import seaborn as sns\n",
    "%matplotlib inline\n",
    "sns.set(style=\"whitegrid\", font_scale=1.5, rc={'figure.figsize':(12, 6)})\n"
   ]
  },
  {
   "attachments": {},
   "cell_type": "markdown",
   "metadata": {
    "slideshow": {
     "slide_type": "slide"
    }
   },
   "source": [
    "# CMPS 2200\n",
    "# Introduction to Algorithms\n",
    "\n",
    "## Shortest Paths\n"
   ]
  },
  {
   "attachments": {},
   "cell_type": "markdown",
   "metadata": {
    "slideshow": {
     "slide_type": "slide"
    }
   },
   "source": [
    "## Generalizing DFS and BFS search\n",
    "\n",
    "We've now seen two types of search that are conceptually very similar.\n",
    "\n",
    "\n",
    "`dfs_stack`:\n",
    "\n",
    "- `node = frontier.pop()`\n",
    "- Stack: Last in, first out\n",
    "\n",
    "\n",
    "`bfs_serial`:\n",
    "\n",
    "- `node = frontier.popleft()`\n",
    "- Queue: First in, first out\n",
    "\n",
    "Can we generalize these?"
   ]
  },
  {
   "cell_type": "code",
   "execution_count": null,
   "metadata": {
    "slideshow": {
     "slide_type": "subslide"
    }
   },
   "outputs": [],
   "source": [
    "from collections import deque\n",
    "\n",
    "def generic_search(graph, source, get_next_node_fn):\n",
    "    #Expects graph to be an adjacency list,\n",
    "    #source is a vertex\n",
    "    #get_next_node_fn is a function that determines how to get the next node from the frontier.\n",
    "    #Returns a list of nodes in the connected component containing soruce.\n",
    "    def generic_search_helper(visited, frontier):\n",
    "        if len(frontier) == 0:\n",
    "            return visited\n",
    "        else:\n",
    "            ## pick a node\n",
    "            node = get_next_node_fn(frontier)\n",
    "            print('visiting', node)\n",
    "            visited.add(node)\n",
    "            frontier.extend(filter(lambda n: n not in visited, graph[node]))\n",
    "            return generic_search_helper(visited, frontier)\n",
    "        \n",
    "    frontier = deque()\n",
    "    frontier.append(source)\n",
    "    visited = set()\n",
    "    return generic_search_helper(visited, frontier)\n",
    "\n",
    "def bfs_fn(frontier):\n",
    "    return frontier.popleft()\n",
    "\n",
    "def dfs_fn(frontier):\n",
    "    return frontier.pop()\n"
   ]
  },
  {
   "cell_type": "code",
   "execution_count": null,
   "metadata": {
    "slideshow": {
     "slide_type": "skip"
    }
   },
   "outputs": [],
   "source": [
    "\n",
    "graph = {\n",
    "            'A': {'B', 'C'},\n",
    "            'B': {'A', 'D', 'E'},\n",
    "            'C': {'A', 'F', 'G'},\n",
    "            'D': {'B'},\n",
    "            'E': {'B', 'H'},\n",
    "            'F': {'C'},\n",
    "            'G': {'C'},\n",
    "            'H': {'E'}\n",
    "        }\n"
   ]
  },
  {
   "attachments": {},
   "cell_type": "markdown",
   "metadata": {
    "slideshow": {
     "slide_type": "subslide"
    }
   },
   "source": [
    "<center>\n",
    "<img src=\"figures/dfs-graph.jpeg\" width=\"40%\"/>\n",
    "</center>"
   ]
  },
  {
   "cell_type": "code",
   "execution_count": null,
   "metadata": {},
   "outputs": [
    {
     "name": "stdout",
     "output_type": "stream",
     "text": [
      "visiting A\n",
      "visiting C\n",
      "visiting B\n",
      "visiting G\n",
      "visiting F\n",
      "visiting E\n",
      "visiting D\n",
      "visiting H\n"
     ]
    },
    {
     "data": {
      "text/plain": [
       "{'A', 'B', 'C', 'D', 'E', 'F', 'G', 'H'}"
      ]
     },
     "execution_count": 4,
     "metadata": {},
     "output_type": "execute_result"
    }
   ],
   "source": [
    "\n",
    "generic_search(graph, 'A', bfs_fn)"
   ]
  },
  {
   "attachments": {},
   "cell_type": "markdown",
   "metadata": {
    "slideshow": {
     "slide_type": "subslide"
    }
   },
   "source": [
    "<center>\n",
    "<img src=\"figures/dfs-graph.jpeg\" width=\"40%\"/>\n",
    "</center>"
   ]
  },
  {
   "cell_type": "code",
   "execution_count": null,
   "metadata": {},
   "outputs": [
    {
     "name": "stdout",
     "output_type": "stream",
     "text": [
      "visiting A\n",
      "visiting B\n",
      "visiting D\n",
      "visiting E\n",
      "visiting H\n",
      "visiting C\n",
      "visiting F\n",
      "visiting G\n"
     ]
    },
    {
     "data": {
      "text/plain": [
       "{'A', 'B', 'C', 'D', 'E', 'F', 'G', 'H'}"
      ]
     },
     "execution_count": 5,
     "metadata": {},
     "output_type": "execute_result"
    }
   ],
   "source": [
    "generic_search(graph, 'A', dfs_fn)"
   ]
  },
  {
   "attachments": {},
   "cell_type": "markdown",
   "metadata": {
    "slideshow": {
     "slide_type": "slide"
    }
   },
   "source": [
    "## Priority First Search\n",
    "\n",
    "We could use the `get_next_node_fn` as a way to pick the **highest priority** node to visit at each iteration.\n",
    "\n",
    "E.g., consider a Web crawler that prioritizes which pages to visit first\n",
    "- more interesting pages\n",
    "- pages that update more frequently\n",
    "\n",
    "\n",
    "We'll see several algorithms that are instances of priority first search. "
   ]
  },
  {
   "attachments": {},
   "cell_type": "markdown",
   "metadata": {
    "slideshow": {
     "slide_type": "slide"
    }
   },
   "source": [
    "## Weighted graphs\n",
    "\n",
    "Up to now we have focused on unweighted graphs. \n",
    "\n",
    "For many problems, we need to associate real-valued **weights** to each edge.\n",
    "\n",
    "E.g., a graph where nodes are cities and edges represent the distance between them. \n",
    "\n",
    "<center>\n",
    "<img src=\"figures/weighted.png\" width=60%/>\n",
    "</center>\n",
    "\n",
    "The **weight of a path** in the graph is the sum of the weights of the edges along that path.\n",
    "\n",
    "The **shortest weighted path** (or just **shortest path**) between **s** and **e** is the one with minimal weight.\n"
   ]
  },
  {
   "attachments": {},
   "cell_type": "markdown",
   "metadata": {
    "slideshow": {
     "slide_type": "fragment"
    }
   },
   "source": [
    "\n",
    "**What is the shortest path from s to e**?\n",
    "\n",
    "Note that if the edges have negative weights, the shortest weighted path might not exist, since we may be able to loop forever within a negative cycle. \n",
    "\n",
    "Consider this example:\n",
    "\n",
    "<img src=\"figures/inf.png\" width=60%/>\n",
    "\n",
    "What is the shortest path from $s$ to $e$?\n",
    "\n",
    "> Infinite loop in the cycle $s \\rightarrow a \\rightarrow b \\rightarrow a$, so shortest path is $-\\infty$.\n",
    "\n",
    "To avoid this, we assume that the weights are non-negative. We will see later that the Bellman-Ford algorithm can be applied to graphs where the edges have negative weights."
   ]
  },
  {
   "attachments": {},
   "cell_type": "markdown",
   "metadata": {
    "slideshow": {
     "slide_type": "subslide"
    }
   },
   "source": [
    "## Use BFS to solve shortest path problem?\n",
    "\n",
    "We saw that we can use BFS to get the distance from the source to each node.\n",
    "\n",
    "Can we use BFS to solve the shortest path problem for weighted graphs?\n",
    "\n",
    "<img src=\"figures/bfs_fail.png\" width=50%/>"
   ]
  },
  {
   "attachments": {},
   "cell_type": "markdown",
   "metadata": {
    "slideshow": {
     "slide_type": "fragment"
    }
   },
   "source": [
    "\n",
    "BFS will:\n",
    "- visit b\n",
    "- visit a\n",
    "- but, will not traverse the path from a to b, since it doesn't visit a node more than once\n",
    "\n",
    "Thus, BFS will not discover that the shortest path from $s$ to $b$ is $s \\rightarrow a \\rightarrow b$.\n"
   ]
  },
  {
   "attachments": {},
   "cell_type": "markdown",
   "metadata": {
    "slideshow": {
     "slide_type": "subslide"
    }
   },
   "source": [
    "\n",
    "\n",
    "How could we modify the graph so we can use BFS to find the shortest path? If the edge weights are natural numbers, we can expand them into paths whose lengths are the weights."
   ]
  },
  {
   "attachments": {},
   "cell_type": "markdown",
   "metadata": {
    "slideshow": {
     "slide_type": "fragment"
    }
   },
   "source": [
    "<img src=\"figures/bfs-fix.png\" width=50%/>\n",
    "\n"
   ]
  },
  {
   "attachments": {},
   "cell_type": "markdown",
   "metadata": {
    "slideshow": {
     "slide_type": "skip"
    }
   },
   "source": [
    "\n",
    "What is work of creating this graph from the original?"
   ]
  },
  {
   "attachments": {},
   "cell_type": "markdown",
   "metadata": {
    "slideshow": {
     "slide_type": "skip"
    }
   },
   "source": [
    "BFS takes $O(|V|+|E|)$ time, but the number of edges in the new graph will equal to the sum of weights of all edges, say $W$. (Consider a simple chain.)\n",
    "\n",
    "The input size is $O(|V| + |E| + \\log W)$, because the input size of a number $W$ is the number of digits of $W$ which is $\\log(W)$. The work is $O(W)$ in the worst case. Thus reducing shortest paths to BFS requires work that is exponential in input size!"
   ]
  },
  {
   "attachments": {},
   "cell_type": "markdown",
   "metadata": {
    "slideshow": {
     "slide_type": "slide"
    }
   },
   "source": [
    "## SSSP: Single-Source Shortest Path\n",
    "\n",
    "Given a weighted graph $G=(V,E,w)$ and a source vertex $s$, the single-source shortest path (SSSP) problem is to find a shortest weighted path from $s$ to every other vertex in $V$.\n",
    "\n",
    "What would be a brute-force solution to this problem?\n",
    "\n",
    "Is there anything we could reuse to improve the brute-force solution?\n"
   ]
  },
  {
   "attachments": {},
   "cell_type": "markdown",
   "metadata": {
    "slideshow": {
     "slide_type": "subslide"
    }
   },
   "source": [
    "Consider this figure:\n",
    "\n",
    "<center>\n",
    "<img src=\"figures/subpaths.png\" width=\"60%\"/>\n",
    "</center>\n",
    "\n",
    "Suppose that an oracle has told us the shortest paths from $s$ to all vertices except for the vertex $v$, shown in red squares. How can we find the shortest path to $v$?\n",
    "\n"
   ]
  },
  {
   "attachments": {},
   "cell_type": "markdown",
   "metadata": {
    "slideshow": {
     "slide_type": "fragment"
    }
   },
   "source": [
    "Let $\\delta_G(i,j)$ be the weight of shortest path from $i$ to $j$ in graph $G$. Then:\n",
    "\n",
    "$$\n",
    "\\begin{align}\n",
    "\\delta_G(s,v) = \\min(&\\delta_G(s,a)+3,\\\\\n",
    "&\\delta_G(s,b)+6,\\\\\n",
    "&\\delta_G(s,c)+5 )\n",
    "\\end{align}\n",
    "$$\n"
   ]
  },
  {
   "attachments": {},
   "cell_type": "markdown",
   "metadata": {
    "slideshow": {
     "slide_type": "subslide"
    }
   },
   "source": [
    "\n",
    "### sub-paths property\n",
    "> any sub-path of a shortest path is itself a shortest path. \n",
    "\n",
    "The sub-paths property makes it possible to construct shortest paths from smaller shortest paths. \n",
    "\n",
    "> If a shortest path from New Orleans to Boston goes through Atlanta, then that path is built from shortest path from New Orleans to Atlanta, and from Atlanta to Boston."
   ]
  },
  {
   "attachments": {},
   "cell_type": "markdown",
   "metadata": {
    "slideshow": {
     "slide_type": "slide"
    }
   },
   "source": [
    "## Dijkstra's property\n",
    "\n",
    "Suppose we have a set of vertices $X$ whose shortest paths are known. Can we efficiently determine the shortest path to any of the vertices in its frontier? \n",
    "\n",
    "For any partitioning of vertices $V$ into $V=X\\cup Y$ where\n",
    "\n",
    "- $X$\n",
    "    - The set of vertices that we know the shortest paths to\n",
    "- $Y = V \\setminus X$\n",
    "    - everything else\n",
    "\n",
    "Given a source vertex $s \\in X$ and a vertex $v\\in Y$, by the sub-paths property:\n",
    "\n",
    "$$\\delta_G(s,v) = \\min_{v^\\prime \\in V(G)} (\\delta_G(s,v^\\prime) + w(v^\\prime, v)) \\geq \\min_{x \\in X} (\\delta_G(s,x) + w(x,v))$$\n",
    "\n",
    ">The rightmost expression is the length of the shortest path to $v$, assuming the rest of the path is in $X$.\n"
   ]
  },
  {
   "cell_type": "markdown",
   "metadata": {},
   "source": [
    "Now, assume that $y$ is the closest vertex in $Y$ to $s$. By this assumption, the fact that $w(v^\\prime,v)\\geq 0$, and the sub-paths property, we must have $v^\\prime\\in X$ when the minimum is achieved and the inequality above becomes an equality."
   ]
  },
  {
   "attachments": {},
   "cell_type": "markdown",
   "metadata": {
    "slideshow": {
     "slide_type": "subslide"
    }
   },
   "source": [
    "Thus, we have found $\\delta_G(s,v)$ and can add $v$ to $X$. We can use this reasoning to iteratively add vertices to $X$."
   ]
  },
  {
   "attachments": {},
   "cell_type": "markdown",
   "metadata": {},
   "source": [
    "\n",
    "<center>\n",
    "<img src=\"figures/dijkstra_example.jpg\" width=50%/>\n",
    "</center>"
   ]
  },
  {
   "attachments": {},
   "cell_type": "markdown",
   "metadata": {
    "slideshow": {
     "slide_type": "fragment"
    }
   },
   "source": [
    "Which vertex will be added to $X$ next?\n",
    "\n"
   ]
  },
  {
   "attachments": {},
   "cell_type": "markdown",
   "metadata": {
    "slideshow": {
     "slide_type": "fragment"
    }
   },
   "source": [
    "By going through vertex $d$, a path exists to get to $u$ with a cost of $9$.\n",
    "\n",
    "$~~~~~\\delta_G(s,u) = \\delta_G(s,d) + w(d,u) = 5 + 4 = 9$\n",
    "\n",
    "The shortest path to vertex $v$ is through $b$ with a cost of 10.\n",
    "\n",
    "$~~~~~\\delta_G(s,v) = \\delta_G(s,b) + w(b,v) = 4 + 6 = 10$\n",
    "\n",
    "\n"
   ]
  },
  {
   "attachments": {},
   "cell_type": "markdown",
   "metadata": {
    "slideshow": {
     "slide_type": "subslide"
    }
   },
   "source": [
    "### Full details\n",
    "\n",
    "<center>\n",
    "<img src=\"figures/dijkstra_example.jpg\" width=45%/>\n",
    "</center>"
   ]
  },
  {
   "attachments": {},
   "cell_type": "markdown",
   "metadata": {},
   "source": [
    "$$\n",
    "\\begin{align}\n",
    "\\delta_G(s,v) = \\min(&\\delta_G(s,a) + w(a,v) = 8 + 3 = 11,\\\\\n",
    "&\\pmb{\\delta_G(s,b) + w(b,v) = 4 + 6 = 10}, \\\\\n",
    "&\\delta_G(s,c) + w(c,v) = 7 + 5 = 12) \\\\\n",
    "\\end{align}\n",
    "$$\n",
    "\n",
    "$$\n",
    "\\begin{align}\n",
    "\\delta_G(s,u) = \n",
    "\\min(&\\delta_G(s,c) + w(c,u) = 7 + 3 = 10, \\\\\n",
    "&\\pmb{\\delta_G(s,d) + w(d,u) = 5 + 4 = 9}\n",
    ")\n",
    "\\end{align}\n",
    "$$\n",
    "\n",
    "$\\texttt{Vertex } \\pmb{u}$ will be added to $X$ next."
   ]
  },
  {
   "attachments": {},
   "cell_type": "markdown",
   "metadata": {
    "slideshow": {
     "slide_type": "slide"
    }
   },
   "source": [
    "## Iteratively expanding our known vertices\n",
    "\n",
    "The sub-paths property suggests that we can continue to expand the set of our \"known\" vertices by identifing and adding the the frontier vertex at the shortest distance from $s$.\n"
   ]
  },
  {
   "attachments": {},
   "cell_type": "markdown",
   "metadata": {
    "slideshow": {
     "slide_type": "fragment"
    }
   },
   "source": [
    "\n",
    "This will ensure that we visit nodes in an order to identify actual shortest paths.\n",
    "\n",
    "<center>\n",
    "<img src=\"figures/bfs_fail.png\" width=50%/>\n",
    "</center>\n",
    "\n",
    "By visiting nodes in order of increasing distance from the source, we will find the shortest path from $a \\rightarrow c$.\n"
   ]
  },
  {
   "attachments": {},
   "cell_type": "markdown",
   "metadata": {
    "slideshow": {
     "slide_type": "skip"
    }
   },
   "source": [
    "\n",
    "In the following figure, assume we know the shortest paths to $\\{a,b,c,e\\}$. We can then use these to determine which of $u$ or $v$ is closer to $s$.\n",
    "\n",
    "<center>\n",
    "<img src=\"figures/distance.png\" width=50%/>\n",
    "</center>\n",
    "\n",
    "\n",
    "The idea of Dijkstra's algorithm is:\n",
    "- Maintain a visited set of vertices whose distances have already been computed correctly.\n",
    "- Calculate distances to each node in the frontier.\n",
    "- Extend the frontier by visiting the closest vertex.\n"
   ]
  },
  {
   "attachments": {},
   "cell_type": "markdown",
   "metadata": {
    "slideshow": {
     "slide_type": "slide"
    }
   },
   "source": [
    "## Dijkstra's Algorithm\n",
    "\n",
    "The final algorithm can be viewed as an instance of **priority-first search**, using the path length as the priority criterion.\n",
    "\n",
    "1. Initialize frontier to $(s, 0)$\n",
    "2. While frontier not empty:\n",
    "  - pop from the frontier the node $\\pmb{v}$ with minimum distance $\\pmb{d}$ from the source. (You can break ties arbitrarily.)\n",
    "  - set $\\texttt{result}(v) = d$\n",
    "    - This is the weight of the shortest path from $\\pmb{s}$ to $\\pmb{v}$.\n",
    "  - For each neighbor $\\pmb{n}$ of $\\pmb{v}$ with edge weight $\\pmb{w}$, add $\\pmb{n}$ to frontier with distance $\\pmb{d} + \\pmb{w}$. Note $\\pmb{n}$ may already be in the frontier, so it might be in the frontier multiple times.\n",
    "3. return $\\texttt{result}$"
   ]
  },
  {
   "attachments": {},
   "cell_type": "markdown",
   "metadata": {
    "slideshow": {
     "slide_type": "slide"
    }
   },
   "source": [
    "## Example by hand\n",
    "\n",
    "<center>\n",
    "    <img src=\"figures/dijkstra-0.jpg\" width=50%/>\n",
    "</center>"
   ]
  },
  {
   "attachments": {},
   "cell_type": "markdown",
   "metadata": {
    "slideshow": {
     "slide_type": "fragment"
    }
   },
   "source": [
    "<center>\n",
    "    <img src=\"figures/dijkstra-1.jpg\" width=50%/>\n",
    "</center>"
   ]
  },
  {
   "attachments": {},
   "cell_type": "markdown",
   "metadata": {
    "slideshow": {
     "slide_type": "subslide"
    }
   },
   "source": [
    "<center>\n",
    "    <img src=\"figures/dijkstra-2.jpg\" width=50%/>\n",
    "</center>"
   ]
  },
  {
   "attachments": {},
   "cell_type": "markdown",
   "metadata": {
    "slideshow": {
     "slide_type": "fragment"
    }
   },
   "source": [
    "<center>\n",
    "    <img src=\"figures/dijkstra-3.jpg\" width=50%/>\n",
    "</center>"
   ]
  },
  {
   "attachments": {},
   "cell_type": "markdown",
   "metadata": {
    "slideshow": {
     "slide_type": "subslide"
    }
   },
   "source": [
    "<center>\n",
    "    <img src=\"figures/dijkstra-4.jpg\" width=50%/>\n",
    "</center>"
   ]
  },
  {
   "attachments": {},
   "cell_type": "markdown",
   "metadata": {
    "slideshow": {
     "slide_type": "fragment"
    }
   },
   "source": [
    "<center>\n",
    "    <img src=\"figures/dijkstra-5.jpg\" width=50%/>\n",
    "</center>"
   ]
  },
  {
   "attachments": {},
   "cell_type": "markdown",
   "metadata": {
    "slideshow": {
     "slide_type": "subslide"
    }
   },
   "source": [
    "<center>\n",
    "    <img src=\"figures/dijkstra-6.jpg\" width=50%/>\n",
    "</center>"
   ]
  },
  {
   "attachments": {},
   "cell_type": "markdown",
   "metadata": {
    "slideshow": {
     "slide_type": "fragment"
    }
   },
   "source": [
    "<center>\n",
    "    <img src=\"figures/dijkstra-7.jpg\" width=50%/>\n",
    "</center>"
   ]
  },
  {
   "cell_type": "markdown",
   "metadata": {},
   "source": [
    "## Implementing priority queues via heaps.\n",
    "\n",
    "A heap is a binary tree where parent nodes are smaller than the child nodes. This means that the smallest node is the root, and we can sort the nodes by continually extracting the root. Heaps come with the operations push and pop, which add and remove nodes from the heap respectively. By continually popping, we can sort the nodes in the heap."
   ]
  },
  {
   "cell_type": "code",
   "execution_count": 3,
   "metadata": {
    "slideshow": {
     "slide_type": "skip"
    }
   },
   "outputs": [
    {
     "name": "stdout",
     "output_type": "stream",
     "text": [
      "Head value of heap : (10, 'a')\n",
      "Head value of heap : (20, 'c')\n",
      "Head value of heap : (30, 'b')\n",
      "Head value of heap : (400, 'd')\n"
     ]
    }
   ],
   "source": [
    "# Heaps in Python\n",
    "from heapq import heappush, heappop \n",
    "  \n",
    "# Creating empty heap \n",
    "heap = [] \n",
    "  \n",
    "# Adding items to the heap using heappush function \n",
    "heappush(heap, (10, 'a')) \n",
    "heappush(heap, (30, 'b')) \n",
    "heappush(heap, (20, 'c')) #We put b and c into the heap out of order.\n",
    "heappush(heap, (400, 'd')) \n",
    "print(\"Head value of heap : \"+str(heappop(heap)))\n",
    "print(\"Head value of heap : \"+str(heappop(heap)))\n",
    "print(\"Head value of heap : \"+str(heappop(heap))) #b and c come out of the heap in order.\n",
    "print(\"Head value of heap : \"+str(heappop(heap)))"
   ]
  },
  {
   "cell_type": "code",
   "execution_count": null,
   "metadata": {
    "slideshow": {
     "slide_type": "slide"
    }
   },
   "outputs": [],
   "source": [
    "def dijkstra(graph, source):\n",
    "    def dijkstra_helper(visited, frontier):\n",
    "        if len(frontier) == 0:\n",
    "            return visited\n",
    "        else:\n",
    "            # Pick next closest node from heap\n",
    "            distance, node = heappop(frontier)\n",
    "            print('visiting', node)\n",
    "            if node in visited:\n",
    "                # Already visited, so ignore this longer path\n",
    "                return dijkstra_helper(visited, frontier)\n",
    "            else:\n",
    "                # We now know the shortest path from source to node.\n",
    "                # insert into visited dict.\n",
    "                visited[node] = distance\n",
    "                print('...distance=', distance)\n",
    "                # Visit each neighbor of node and insert into heap.\n",
    "                # We may add same node more than once, heap\n",
    "                # will keep shortest distance prioritized.\n",
    "                for neighbor, weight in graph[node]:\n",
    "                    heappush(frontier, (distance + weight, neighbor))                \n",
    "                return dijkstra_helper(visited, frontier)\n",
    "        \n",
    "    frontier = []\n",
    "    heappush(frontier, (0, source))\n",
    "    visited = dict()  # store the final shortest paths for each node.\n",
    "    return dijkstra_helper(visited, frontier)\n"
   ]
  },
  {
   "attachments": {},
   "cell_type": "markdown",
   "metadata": {
    "slideshow": {
     "slide_type": "subslide"
    }
   },
   "source": [
    "<center>\n",
    "    <img src=\"figures/dijkstra-0.jpg\" width=50%/>\n",
    "</center>"
   ]
  },
  {
   "cell_type": "code",
   "execution_count": null,
   "metadata": {},
   "outputs": [],
   "source": [
    "\n",
    "graph = {\n",
    "            's': {('a', 1), ('c', 5)},\n",
    "            'a': {('b', 2)},\n",
    "            'b': {('c', 1), ('d', 5)}, \n",
    "            'c': {('a', 2), ('d', 3)},\n",
    "            'd': {},\n",
    "            'e': {('d', 0)}\n",
    "        }\n",
    "        \n"
   ]
  },
  {
   "attachments": {},
   "cell_type": "markdown",
   "metadata": {
    "slideshow": {
     "slide_type": "subslide"
    }
   },
   "source": [
    "<center>\n",
    "    <img src=\"figures/dijkstra-7.jpg\" width=50%/>\n",
    "</center>"
   ]
  },
  {
   "cell_type": "code",
   "execution_count": null,
   "metadata": {},
   "outputs": [
    {
     "name": "stdout",
     "output_type": "stream",
     "text": [
      "visiting s\n",
      "...distance= 0\n",
      "visiting a\n",
      "...distance= 1\n",
      "visiting b\n",
      "...distance= 3\n",
      "visiting c\n",
      "...distance= 4\n",
      "visiting c\n",
      "visiting a\n",
      "visiting d\n",
      "...distance= 7\n",
      "visiting d\n"
     ]
    },
    {
     "data": {
      "text/plain": [
       "{'s': 0, 'a': 1, 'b': 3, 'c': 4, 'd': 7}"
      ]
     },
     "execution_count": 11,
     "metadata": {},
     "output_type": "execute_result"
    }
   ],
   "source": [
    "dijkstra(graph, 's')"
   ]
  },
  {
   "attachments": {},
   "cell_type": "markdown",
   "metadata": {
    "slideshow": {
     "slide_type": "slide"
    }
   },
   "source": [
    "### Correctness of Dijkstra's Algorithm\n",
    "\n",
    "The algorithm maintains an invariant that each visited element $x \\in X$ contains the shortest path from $s$ to $x$.\n",
    "- That is, `visited[x]` $=\\delta_G(s,x)$\n",
    "\n",
    "\n",
    "- We know this is true after visiting the source, since $\\delta_G(s,x)=$ `visited[x]` $=0$\n",
    "- Dijkstra's property ensures that each element we remove from the heap also maintains this property\n",
    "- Like most invariants, this can be proven through induction."
   ]
  },
  {
   "attachments": {},
   "cell_type": "markdown",
   "metadata": {
    "slideshow": {
     "slide_type": "slide"
    }
   },
   "source": [
    "## Work of Dijkstra's Algorithm\n",
    "\n",
    "The two key lines are:\n",
    "\n",
    "```python\n",
    "distance, node = heappop(frontier)\n",
    "```\n",
    "\n",
    "and\n",
    "\n",
    "\n",
    "```python\n",
    "for neighbor, weight in graph[node]:\n",
    "    heappush(frontier, (distance + weight, neighbor))\n",
    "```    \n",
    "\n",
    "<br>\n",
    "\n",
    "What is work and span of `heappop` and `heappush`?"
   ]
  },
  {
   "attachments": {},
   "cell_type": "markdown",
   "metadata": {
    "slideshow": {
     "slide_type": "fragment"
    }
   },
   "source": [
    "The worst case is $O(\\log n)$ work and span for both push and pop, where $n$ is the number of elements in the heap. Heaps maintain a balanced structure, so there is no linear-time worst case, unlike binary search trees."
   ]
  },
  {
   "attachments": {},
   "cell_type": "markdown",
   "metadata": {
    "slideshow": {
     "slide_type": "fragment"
    }
   },
   "source": [
    "<br>\n",
    "\n",
    "How many times will we call these functions?\n"
   ]
  },
  {
   "attachments": {},
   "cell_type": "markdown",
   "metadata": {
    "slideshow": {
     "slide_type": "fragment"
    }
   },
   "source": [
    "\n",
    "Once per edge, since a node may be added to the heap multiple times for each edge.\n"
   ]
  },
  {
   "attachments": {},
   "cell_type": "markdown",
   "metadata": {
    "slideshow": {
     "slide_type": "fragment"
    }
   },
   "source": [
    "<br>\n",
    "\n",
    "Total work?"
   ]
  },
  {
   "attachments": {},
   "cell_type": "markdown",
   "metadata": {
    "slideshow": {
     "slide_type": "fragment"
    }
   },
   "source": [
    "\n",
    "$O(|E| \\log |E|)$\n"
   ]
  },
  {
   "attachments": {},
   "cell_type": "markdown",
   "metadata": {
    "slideshow": {
     "slide_type": "subslide"
    }
   },
   "source": [
    "\n",
    "\n",
    "Note that we assume constant time `dict` operations:\n",
    "- `visited[node] = distance`\n",
    "- `for neighbor, weight in graph[node]:`\n",
    "- These result in an additional $O(|V| + |E|)$ work, but are dominated by the above.\n",
    "\n",
    "Because this is a serial algorithm, the span is also $O(|E| \\log |E|)$"
   ]
  },
  {
   "attachments": {},
   "cell_type": "markdown",
   "metadata": {
    "slideshow": {
     "slide_type": "subslide"
    }
   },
   "source": [
    "### Potential Optimization\n",
    "\n"
   ]
  },
  {
   "attachments": {},
   "cell_type": "markdown",
   "metadata": {},
   "source": [
    "<center>\n",
    "    <img src=\"figures/dijkstra-2.jpg\" width=40%/>\n",
    "</center>"
   ]
  },
  {
   "attachments": {},
   "cell_type": "markdown",
   "metadata": {},
   "source": [
    "<center>\n",
    "    <img src=\"figures/dijkstra-3.jpg\" width=40%/>\n",
    "</center>"
   ]
  },
  {
   "attachments": {},
   "cell_type": "markdown",
   "metadata": {},
   "source": [
    "When we visit vertex $b$, we add $c$ to the queue a second time.\n"
   ]
  },
  {
   "attachments": {},
   "cell_type": "markdown",
   "metadata": {
    "slideshow": {
     "slide_type": "subslide"
    }
   },
   "source": [
    "\n",
    "Alternatively, we could update the existing value and reheap up or down as necessary.\n",
    "\n",
    "This would ensure that our heap is never larger than $|V|$, giving us $O(\\log |V|)$ `heappush` and `heappop` operations rather than $O(\\log |E|)$ ones."
   ]
  },
  {
   "attachments": {},
   "cell_type": "markdown",
   "metadata": {
    "slideshow": {
     "slide_type": "fragment"
    }
   },
   "source": [
    "With this optimization, we can get a runtime for Dijkstra's of:\n",
    "\n",
    "$O(|E| \\log |V|)$"
   ]
  },
  {
   "attachments": {},
   "cell_type": "markdown",
   "metadata": {
    "slideshow": {
     "slide_type": "subslide"
    }
   },
   "source": [
    "> What is the shortest way to travel from Rotterdam to Groningen, in general: from given city to given city. It is the algorithm for the shortest path, which I designed in about twenty minutes. One morning I was shopping in Amsterdam with my young fiancée, and tired, we sat down on the café terrace to drink a cup of coffee and I was just thinking about whether I could do this, and I then designed the algorithm for the shortest path. \n",
    "> \n",
    "> As I said, it was a twenty-minute invention. In fact, it was published in '59, three years later. The publication is still readable, it is, in fact, quite nice. One of the reasons that it is so nice was that I designed it without pencil and paper. I learned later that one of the advantages of designing without pencil and paper is that you are almost forced to avoid all avoidable complexities. Eventually, that algorithm became to my great amazement, one of the cornerstones of my fame.\n",
    "\n",
    "— Edsger Dijkstra, in an interview with Philip L. Frana, Communications of the ACM, 2001"
   ]
  }
 ],
 "metadata": {
  "celltoolbar": "Slideshow",
  "kernelspec": {
   "display_name": "Python 3.9.6 64-bit",
   "language": "python",
   "name": "python3"
  },
  "language_info": {
   "codemirror_mode": {
    "name": "ipython",
    "version": 3
   },
   "file_extension": ".py",
   "mimetype": "text/x-python",
   "name": "python",
   "nbconvert_exporter": "python",
   "pygments_lexer": "ipython3",
   "version": "3.10.12"
  },
  "rise": {
   "autolaunch": true,
   "controls": false,
   "enable_chalkboard": true,
   "scroll": true,
   "theme": "simple",
   "transition": "fade"
  },
  "toc": {
   "base_numbering": 1,
   "nav_menu": {},
   "number_sections": true,
   "sideBar": true,
   "skip_h1_title": true,
   "title_cell": "Table of Contents",
   "title_sidebar": "Contents",
   "toc_cell": true,
   "toc_position": {},
   "toc_section_display": true,
   "toc_window_display": false
  },
  "vscode": {
   "interpreter": {
    "hash": "aee8b7b246df8f9039afb4144a1f6fd8d2ca17a180786b69acc140d282b71a49"
   }
  }
 },
 "nbformat": 4,
 "nbformat_minor": 4
}
