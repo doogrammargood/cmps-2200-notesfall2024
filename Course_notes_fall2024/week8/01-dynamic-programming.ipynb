{
 "cells": [
  {
   "cell_type": "code",
   "execution_count": 3,
   "metadata": {
    "code_folding": [],
    "slideshow": {
     "slide_type": "skip"
    }
   },
   "outputs": [
    {
     "data": {
      "text/html": [
       "<style>.prompt{width: 0px; min-width: 0px; visibility: collapse}</style>"
      ],
      "text/plain": [
       "<IPython.core.display.HTML object>"
      ]
     },
     "metadata": {},
     "output_type": "display_data"
    },
    {
     "data": {
      "text/html": [
       "<style>\n",
       "div#notebook {\n",
       " font-family: \"Exo_2\", sans-serif;\n",
       "}\n",
       "\n",
       ".rendered_html h1,\n",
       ".text_cell_render h1 {\n",
       " color: #126dce;\n",
       " font-size: 220%;\n",
       " text-align: center;\n",
       " font-weight: lighter;\n",
       "}\n",
       ".rendered_html h2,\n",
       ".text_cell_render h2 {\n",
       " text-align: center;\n",
       " font-size: 170%;\n",
       " color: #126dce;\n",
       " font-style: normal;\n",
       " font-weight: lighter;\n",
       "}\n",
       ".rendered_html h3,\n",
       ".text_cell_render h3 {\n",
       " font-size: 150%;\n",
       " color: #126dce;\n",
       " font-weight: lighter;\n",
       " text-decoration: italic;\n",
       " font-style: normal;\n",
       "}\n",
       ".rendered_html h4,\n",
       ".text_cell_render h4 {\n",
       " font-size: 120%;\n",
       " color: #126dce;\n",
       " font-weight: underline;\n",
       " font-style: normal;\n",
       "}\n",
       ".rendered_html h5,\n",
       ".text_cell_render h5 {\n",
       " font-size: 100%;\n",
       " color: #2f2f2f;\n",
       " font-weight: lighter;\n",
       " text-decoration: underline;\n",
       "}\n",
       "</style>\n"
      ],
      "text/plain": [
       "<IPython.core.display.HTML object>"
      ]
     },
     "metadata": {},
     "output_type": "display_data"
    }
   ],
   "source": [
    "# setup\n",
    "from IPython.display import display,HTML\n",
    "display(HTML('<style>.prompt{width: 0px; min-width: 0px; visibility: collapse}</style>'))\n",
    "display(HTML(open('../rise.css').read()))\n",
    "\n",
    "# imports\n",
    "import numpy as np\n",
    "import random\n",
    "import matplotlib.pyplot as plt\n",
    "import seaborn as sns\n",
    "import time\n",
    "import functools\n",
    "%matplotlib inline\n",
    "sns.set(style=\"whitegrid\", font_scale=1.5, rc={'figure.figsize':(12, 6)})\n"
   ]
  },
  {
   "attachments": {},
   "cell_type": "markdown",
   "metadata": {
    "slideshow": {
     "slide_type": "slide"
    }
   },
   "source": [
    "<style>.jp-RenderedHTMLCommon table {\n",
    "  border-collapse: collapse;\n",
    "  border-spacing: 0;\n",
    "  border: none;\n",
    "  color: var(--jp-ui-font-color1);\n",
    "  font-size: 20px;\n",
    "  table-layout: fixed;\n",
    "  margin-left: auto;\n",
    "  margin-right: auto;\n",
    "}</style>\n",
    "\n",
    "# CMPS 2200\n",
    "# Introduction to Algorithms\n",
    "\n",
    "## Dynamic Programming\n"
   ]
  },
  {
   "attachments": {},
   "cell_type": "markdown",
   "metadata": {
    "slideshow": {
     "slide_type": "slide"
    }
   },
   "source": [
    "Agenda:\n",
    "\n",
    "- \"Dynamic Programming\" Paradigm"
   ]
  },
  {
   "cell_type": "markdown",
   "metadata": {},
   "source": [
    "Dynamic programming is the technique of remembering previous calculations to avoid recalculating."
   ]
  },
  {
   "cell_type": "markdown",
   "metadata": {},
   "source": [
    "<h3>Example: Fibbonaci Numbers</h3> \n",
    "\n",
    "Problem: Calculate the $n^{th}$ Fibonacci number using the recurrence $F(n)=F(n-1)+F(n-2)$ and the base cases $F(0)=F(1)=1$.\n",
    "\n",
    "The naive calculation has the following recursive equation for its work:\n",
    "\n",
    "$W(n)=W(n-1)+W(n-2) \\geq 2W(n-2)$.\n",
    "\n",
    "This recurrence solves to $W(n)\\geq 2^{\\frac{n}{2}}$, which increases exponentially. But there is wasted work, because in calculating $F(n-1)$, we use the recurrence $F(n-2)+F(n-3)$. So we are calculating $F(n-2)$ twice!\n",
    "\n",
    "Dynamic programming is the technique of remembering which calculations were performed to avoid duplicating efforts. Using dynamic programming, we will only cacluate $F(k)$ once for each $k<n$. So our recurrence equation become $W(n)=W(n-1)+\\Theta(1)$, since, in calculating $F(n-1)$ we will have also calculated $F(n-2)$, and it only takes $\\Theta(1)$ work to retrieve the stored outcome of that calculation. Therefore $W(n)\\in \\Theta(n)$ when dynamic programming is used. This is an exponential speedup."
   ]
  },
  {
   "cell_type": "markdown",
   "metadata": {},
   "source": [
    "<h3>Two methods of dynamic programming: going up or going down </h3>\n",
    "\n",
    "Dynamic programming can be done in two ways.\n",
    "\n",
    "- Going down: When calculating $F(n)$, we go to calculate $F(n-1)$ and $F(n-2)$. Then we recurse and calculate $F(n-1)$. Each time we encounter a subproblem that has been solved, we just use the remembered solution.\n",
    "\n",
    "- Going up: We can calculate $F(n)$ by first calculating $F(1)$, then $F(2)$, and so forth until we reach $F(n)$. When calculating $F(k)$, we can use the fact that $F(k^\\prime)$ has already been calculated for $k^\\prime <k$.\n",
    "\n",
    "Sometimes, \"going down\" is called \"memoization\" and the term \"dynamic programming\" is reserved for \"going up.\""
   ]
  },
  {
   "cell_type": "markdown",
   "metadata": {},
   "source": [
    "<h3>Another Example: Taking powers by repeated squaring.</h3>\n",
    "\n",
    "We have seen (see Recitation 2) that to calculate $a^b$ we can use repeated squaring. If $b$ is even, we calculate $a^b=(a^{\\frac{b}{2}})(a^{\\frac{b}{2}})$ and if $b$ is odd, we calculate $a^b=a(a^{\\frac{b-\n",
    "1}{2}})(a^{\\frac{b-1}{2}})$.\n",
    "\n",
    "The work is $W(a,b)= 2W(a,\\frac{b}{2})+\\Theta(1)$, which solves to $W(a,b)=\\Theta(b)$. Using dynamic programming, the recurrence becomes $W(a,b)=W(a,\\frac{b}{2})+O(1)$, which solves to $W(a,b)=\\Theta(\\log(b))$. Again, we get an expotential speedup.\n",
    "\n",
    "For this algorithm, you can also avoid dynamic programming by calculating $a^b=(a^2)^{\\frac{b}{2}}$ when $b$ is even and $a^b=a(a^2)^{\\frac{b-1}{2}}$ when $b$ is odd."
   ]
  },
  {
   "cell_type": "markdown",
   "metadata": {},
   "source": [
    "<h3>Dijkstra's Algorithm</h3>\n",
    "\n",
    "We just saw a third example of dynamic programming: Dijkstra's algorithm.\n",
    "\n",
    "Recall that Dijkstra's algorithm calculates the shortest path from a source vertex $s$ to all other vertices in an edge-weighted graph $G$, assuming the edge-weights are nonnegative. The algorithm operates by maintaining a set $X$ of vertices for which the shortest path from $s$ has already been calculated. It iteratively adds the closest vertex to $X$.\n",
    "\n",
    "The usual formulation of Dijkstra's algorithm uses the going-up version of dynamic programming. We start with the source vertex $\\delta_G(s,s)=0$ and continually add the nearest vertex in the frontier to $X$, noting the length of the shortest path from $s$. When adding the next vertex to $X$, we rely on these previous stored calculations, which is the essence of dynamic programming."
   ]
  },
  {
   "cell_type": "markdown",
   "metadata": {},
   "source": [
    "<h3>Finding the shortest path</h3>\n",
    "\n",
    "When dynamic programming is applied to optimization problems, as in Dijkstra's algorithm, it usually gives more than the optimal value. We can modify it to provide the solution that attains that optimal value. In the case of Dijkstra's algorithm, we can remember not just the length of the shortest path from $s$, but what that path actually is."
   ]
  },
  {
   "cell_type": "markdown",
   "metadata": {},
   "source": [
    "<h3>Return of Knuth-Morris-Pratt</h3>\n",
    "\n",
    "We have already seen yet another application of dynamic programming: the Knuth-Morris-Pratt string matching algorithm.\n",
    "\n",
    "Recall that the algorithm takes two strings $gene$ (of length $m$) and $genome$ (of length $n$). It determines whether $gene$ is a substring of $genome$ in worst-case linear time by using a table to shift the gene whenever a mismatch is found.\n",
    "\n",
    "We did not discuss constructing the table that determines how much to shift $gene$ whenever a mismatch is found. Instead, we implemented a naive $\\Theta(m^3)$ algorithm to do this. Here, we will explain how to use dynamic programming to calculate this table in $O(m)$ time.\n",
    "\n",
    "First, recall the straightforward implementation that was included in Recitation 0. When there is a mismatch at position $j$, the function finds the smallest shift $s$ such that $gene[j] \\neq gene[j-s]$ but the other letters match: $gene[:j-1]==gene[s:j]$. The straightforward implementation expresses this directly using list comprehensions."
   ]
  },
  {
   "cell_type": "code",
   "execution_count": 1,
   "metadata": {},
   "outputs": [
    {
     "name": "stdout",
     "output_type": "stream",
     "text": [
      "[1, 1, 2, 4, 4, 5, 7, 3, 9, 9]\n",
      "[1, 1, 2, 4, 4, 5, 7, 3, 9, 9]\n"
     ]
    }
   ],
   "source": [
    "\n",
    "def compute_table(gene):\n",
    "    '''Expect that gene is a string of length m.\n",
    "    returns a list of indices. The jth index in the list indicates how many places to move the pattern if a mismatch occurs at position j.\n",
    "    This is not the most efficient way to do this. This is an O(m^3) algorithm, where m is the length of gene.\n",
    "    I've written it this way because this is the most direct way to describe how the table is defined.\n",
    "    A better implementation can run in linear time, O(m).\n",
    "    '''\n",
    "    table = []\n",
    "    for j,g in enumerate(gene):\n",
    "        shift_when_mismatch_at_j = min([s for s in range(j+1) if gene[:j-s]==gene[s:j] and gene[j]!= gene[j-s]], default = j+1)\n",
    "        table.append(shift_when_mismatch_at_j)\n",
    "    return table\n",
    "\n",
    "def test_compute_table():\n",
    "    gene = \"abcabcacab\"\n",
    "    print(compute_table(gene))\n",
    "    ideal_answer=  [ j - i +1 for j,i in enumerate([0,1,1,0,1,1,0,5,0,1])] #See Knuth's paper, keep in mind he starts indexing at 1 instead of 0.\n",
    "    assert compute_table(gene)== ideal_answer\n",
    "test_compute_table()\n",
    "print(compute_table(\"abcabcacab\"))\n"
   ]
  },
  {
   "cell_type": "markdown",
   "metadata": {},
   "source": [
    "Now let's implement the same function using dynamic programming. First, we remove the condition that $gene[j] \\neq gene[s-j]$. A shift $s$ such that $gene[:j-s]==gene[s:j]$ will also satisfy the less stringent condition that $gene[:(j-1)-s]==gene[s:j-1]$. We can use dynamic programming to find this shift based on the computation for the mismatch at position $j-1$."
   ]
  },
  {
   "cell_type": "code",
   "execution_count": 53,
   "metadata": {},
   "outputs": [],
   "source": [
    "\n",
    "def compute_table_relaxed(gene):\n",
    "    #Like compute_table, but without the condition that gene[j]!=gene[j-s]\n",
    "        shifts = []\n",
    "        for j in range(len(gene)):\n",
    "            if j==0: #The first shift is always 1.\n",
    "                shifts.append(1)\n",
    "            else:\n",
    "                shift = shifts[j-1] #find the shift for a mismatch at the previous position. This is dynamic programming!\n",
    "                while j-1-shift>=0 and gene[j-1-shift]!=gene[j-1]: #While there's a mismatch at position j-1,\n",
    "                    shift += shifts[j-1-shift] #shift again.\n",
    "                shifts.append(shift)\n",
    "        return shifts\n",
    "\n",
    "def compute_table_dynamic_programming(gene):\n",
    "    #Should have the same behavior as compute_table but will run faster.\n",
    "    relaxed_shifts = compute_table_relaxed(gene)\n",
    "    table = []\n",
    "    for j in range(len(gene)):\n",
    "        shift = relaxed_shifts[j]\n",
    "        while shift<=j and gene[j]==gene[j-shift]: #Continually shift until gene[j]!=gene[j-shift]\n",
    "            shift += relaxed_shifts[j-shift]\n",
    "        table.append(shift)\n",
    "    return table\n",
    "\n",
    "def test_compute_table_dynamic_programming():   \n",
    "    gene = \"abcabcacab\"\n",
    "    assert compute_table_dynamic_programming(gene)==compute_table(gene)\n",
    "test_compute_table_dynamic_programming()"
   ]
  },
  {
   "cell_type": "markdown",
   "metadata": {},
   "source": [
    "<h3>Runtime of Knuth-Morris-Pratt</h3>\n",
    "\n",
    "The dynamic programming method to compute the shift table runs in $O(2m)=O(m)$ time for the same reason that the Knuth-Morris-Pratt algorithm runs in $O(n)$ times. At each step, we either increment $j$ or shift the gene over itself. This argument is a bit tricky, so we check it by timing the functions and plotting their runtimes."
   ]
  },
  {
   "cell_type": "code",
   "execution_count": 59,
   "metadata": {},
   "outputs": [
    {
     "data": {
      "image/png": "[encoded data removed]",
      "text/plain": [
       "<Figure size 1200x600 with 2 Axes>"
      ]
     },
     "metadata": {},
     "output_type": "display_data"
    }
   ],
   "source": [
    "def time_function(f,arg):\n",
    "    start_time = time.time()\n",
    "    f(arg)\n",
    "    end_time = time.time()\n",
    "    return end_time-start_time\n",
    "def time_compute_table_functions():\n",
    "    letters = ['a', 't', 'g', 'c']\n",
    "    gene = ''.join(random.choices(letters, k=5000))\n",
    "    inputs = range(1,5001,500)\n",
    "    outputs_create_table = [time_function(compute_table, gene[:input]) for input in inputs]\n",
    "    outputs_dynamic_create_table = [time_function(compute_table_dynamic_programming, gene[:input]) for input in inputs]\n",
    "    plt.subplot(1,2,1)\n",
    "    plt.plot(inputs, outputs_create_table, label='Runtime of compute_table')\n",
    "\n",
    "    plt.xlabel(\"gene length\")\n",
    "    plt.ylabel('runtime (seconds)')\n",
    "    plt.legend()\n",
    "\n",
    "    plt.subplot(1,2,2)\n",
    "    plt.plot(inputs, outputs_dynamic_create_table, label='Runtime of compute_table_dynamic_programming')\n",
    "\n",
    "    plt.xlabel(\"gene length\")\n",
    "    plt.ylabel('runtime (seconds)')\n",
    "    plt.legend()\n",
    "    plt.show()\n",
    "time_compute_table_functions()"
   ]
  },
  {
   "attachments": {},
   "cell_type": "markdown",
   "metadata": {
    "slideshow": {
     "slide_type": "slide"
    }
   },
   "source": [
    "### 0-1 Knapsack\n",
    "\n",
    "Another standard application of dynamic programming is the $0-1$ knapsack problem, which we now describe.\n",
    "\n",
    "Suppose there are $n$ objects, each with a *value* $v_i$ and *weight* $w_i$. You have a \"knapsack\" of capacity $W$ and want to fill it with a set of objects $X \\subseteq [n]$ so that $w(X) \\leq W$ and $v(X)$ is maximized. "
   ]
  },
  {
   "attachments": {},
   "cell_type": "markdown",
   "metadata": {
    "slideshow": {
     "slide_type": "slide"
    }
   },
   "source": [
    "We can give a simple counterexample with 2 objects that have values/weights $(10, 5), (9, 3)$ with $W=5$ that shows that the optimal solution is not necessarily achieved by choosing the items with the largest value/weight ratio.\n",
    "\n",
    "|index |value|weight|\n",
    "|------|------|-----|\n",
    "|0     | 10    |5    |\n",
    "|1     | 9     |3    |\n",
    "    \n",
    "Item $1$ has the largest value/weight ratio, but when we put it in the knapsack, we are stuck with a value of $9$. The optimal solution is clearly to take item $0$ to attain a value of $10$. The problem is that the greedy choice to maximize value/weight is incorrect because we can have leftover capacity. We really need to look at *all possible* choices of objects and their associated optimal solutions. \n"
   ]
  },
  {
   "attachments": {},
   "cell_type": "markdown",
   "metadata": {
    "slideshow": {
     "slide_type": "subslide"
    }
   },
   "source": [
    "### Exploring Multiple Solutions\n",
    "\n",
    "|index |value|weight|\n",
    "|------|------|-----|\n",
    "|0     | 10    |5    |\n",
    "|1     | 9     |3    |\n",
    "\n",
    "Let $OPT(n, W)$ be an optimal solution to the Knapsack problem for a set of objects $S$ where we are choosing whether to take the object at index $n$ and we have a current capacity of $W$.\n",
    "\n"
   ]
  },
  {
   "attachments": {},
   "cell_type": "markdown",
   "metadata": {
    "slideshow": {
     "slide_type": "fragment"
    }
   },
   "source": [
    "<br>\n",
    "\n",
    "Now, we can make the following simple observation: \n",
    "\n",
    "If object $n$ is in the optimal solution, then \n",
    "\n",
    "$OPT(n, W)= \\{n\\} \\cup OPT(n-1, W-w(n)).$ \n",
    "\n",
    "else $n$ is not in the optimal solution and\n",
    "\n",
    "$OPT(n, W) = OPT(n-1, W)$."
   ]
  },
  {
   "attachments": {},
   "cell_type": "markdown",
   "metadata": {
    "slideshow": {
     "slide_type": "slide"
    }
   },
   "source": [
    "## Optimal Substructure for Knapsack \n",
    "\n",
    "For any set $S$ of $n$ objects and $W>0$, we have\n",
    "\n",
    "$\\begin{align}\n",
    "v(OPT(n, W)) = \\max \\{&v(n) + v(OPT(n-1, W - w(n))), \\\\\n",
    "&v(OPT(n-1, W))\\}\n",
    "\\end{align}$\n",
    "\n",
    "with respect to choosing some object $n$.\n"
   ]
  },
  {
   "attachments": {},
   "cell_type": "markdown",
   "metadata": {
    "slideshow": {
     "slide_type": "fragment"
    }
   },
   "source": [
    "\n",
    "In a way, this really isn't saying much. Put plainly we're just saying that the optimal solution either contains object $n$ or it doesn't.\n",
    "\n"
   ]
  },
  {
   "attachments": {},
   "cell_type": "markdown",
   "metadata": {
    "slideshow": {
     "slide_type": "fragment"
    }
   },
   "source": [
    "Note that our optimal substructure recurrence depends both on the number of objects as well as their weights. "
   ]
  },
  {
   "attachments": {},
   "cell_type": "markdown",
   "metadata": {
    "slideshow": {
     "slide_type": "subslide"
    }
   },
   "source": [
    "\n",
    "From our example:\n",
    "\n",
    "|index |value|weight|\n",
    "|------|------|-----|\n",
    "|0     | 10    |5    |\n",
    "|1     | 9     |3    |\n",
    "\n",
    "For choosing object $1$, we have that:\n",
    "\n",
    "$\\begin{align}\n",
    "v(OPT(1, 5)) &=& \\max\\{v(1) + v(OPT(0, 2)), v(OPT(0, 5))\\} \\\\\n",
    "&=& \\max\\{9, 10\\} \\\\\n",
    "&=& 10. \\\\\n",
    "\\end{align}$\n"
   ]
  },
  {
   "attachments": {},
   "cell_type": "markdown",
   "metadata": {
    "slideshow": {
     "slide_type": "fragment"
    }
   },
   "source": [
    "\n",
    "Does this give us an algorithm?\n"
   ]
  },
  {
   "attachments": {},
   "cell_type": "markdown",
   "metadata": {
    "slideshow": {
     "slide_type": "subslide"
    }
   },
   "source": [
    "\n",
    "$$\\begin{array}{ll}\n",
    "\\mathit{knapsack~~n~~W} = \\\\\n",
    "~~~~~\\mathtt{if}~~~n = 0\\\\\n",
    "~~~~~~~~~~0 \\\\\n",
    "~~~~~\\mathtt{if}~~~n = 1 \\\\\n",
    "~~~~~~~~~~\\mathtt{if}~~~w(1) \\leq W\\\\\n",
    "~~~~~~~~~~~~~~~v(1) \\\\\n",
    "~~~~~~~~~~\\mathtt{else}~~~0 \\\\\n",
    "~~~~~\\mathtt{else} \\\\\n",
    "~~~~~~~~~~\\mathtt{if}~~~w(n) \\geq W\\\\\n",
    "~~~~~~~~~~~~~~~~~~~~\\mathit{knapsack ~~n-1 ~~ W}\\\\\n",
    "~~~~~~~~~~\\mathtt{else}\\\\\n",
    "~~~~~~~~~~~~~~~~~~~~\\max\\{\\mathit{v(i)+knapsack~~n-1~~W-w(n)},~~\\mathit{knapsack~~n-1~~W}\\} \\\\\n",
    "\\end{array}$$\n"
   ]
  },
  {
   "attachments": {},
   "cell_type": "markdown",
   "metadata": {
    "slideshow": {
     "slide_type": "slide"
    }
   },
   "source": [
    "\n",
    "### The recurrence\n",
    "\n",
    "$\\begin{align}\n",
    "v(OPT(n, W)) = \\max \\{&v(n) + v(OPT(n-1, W - w(n))), \\\\\n",
    "&v(OPT(n-1, W))\\}\n",
    "\\end{align}$\n",
    "\n",
    "The number of recursive calls doubles in every recursion. But suppose all items have weight 1, is there a glaring inefficiency we can fix? Let's consider the recursion tree:\n",
    "\n",
    "<img src=\"figures/knapsack_recursion_tree.jpg\" width=\"70%\">\n"
   ]
  },
  {
   "attachments": {},
   "cell_type": "markdown",
   "metadata": {
    "slideshow": {
     "slide_type": "fragment"
    }
   },
   "source": [
    "\n",
    "If we blindly recompute the redundant calls when they are encountered, then we will do $\\Omega(2^n)$ work and $O(n)$ span even if we can take all the items.  \n"
   ]
  },
  {
   "attachments": {},
   "cell_type": "markdown",
   "metadata": {
    "slideshow": {
     "slide_type": "subslide"
    }
   },
   "source": [
    "\n",
    "However, suppose that whenever we need to compute $v(OPT(i, w))$, we compute it once and save the result for later use (e.g., in a suitable data structure) -- this is called *memoization*. Then, we no longer have a binary tree but rather a **directed acyclic graph** or **DAG**.\n",
    "\n",
    "\n",
    "<img src=\"figures/knapsack_recursion_dag.jpg\" width=\"70%\">\n",
    "\n",
    "\n",
    "\n",
    "The number of nodes in this DAG will allow us to determine the work of this algorithm, and the longest path in the DAG will allow us to determine the span. \n"
   ]
  },
  {
   "attachments": {},
   "cell_type": "markdown",
   "metadata": {
    "slideshow": {
     "slide_type": "slide"
    }
   },
   "source": [
    "## Bottom-up Memoization Example\n",
    "\n",
    "Suppose we have the following items for the 0-1 knapsack problem.\n",
    "\n",
    "|index |value|weight|\n",
    "|------|------|-----|\n",
    "| 0    | 10   | 5   |\n",
    "| 1    | 6    | 3   |\n",
    "| 2    | 7    | 2   |\n",
    "\n",
    "We can use our recurrence to build and fill in a table.\n",
    "\n",
    "$\\begin{align}\n",
    "v(OPT(n, W)) = \\max \\{&v(n) + v(OPT(n-1, W - w(n))), \\\\\n",
    "&v(OPT(n-1, W))\\}\n",
    "\\end{align}$"
   ]
  },
  {
   "attachments": {},
   "cell_type": "markdown",
   "metadata": {},
   "source": [
    "<style type=\"text/css\">\n",
    ".tg  {border-collapse:collapse;border-spacing:0;}\n",
    ".tg td{border-color:black;border-style:solid;border-width:1px;font-family:Arial, sans-serif;font-size:14px;\n",
    "  overflow:hidden;padding:4px 10px;word-break:normal;}\n",
    ".tg th{border-color:black;border-style:solid;border-width:1px;font-family:Arial, sans-serif;font-size:14px;\n",
    "  font-weight:normal;overflow:hidden;padding:4px 10px;word-break:normal;}\n",
    ".tg .tg-t6ha{border-color:#000000;font-size:20px;font-weight:bold;text-align:left;vertical-align:top}\n",
    ".tg .tg-on5d{border-color:#ffffff;font-size:20px;text-align:center;vertical-align:middle}\n",
    ".tg .tg-b8y7{border-color:#ffffff;font-size:20px;text-align:center;vertical-align:top}\n",
    ".tg .tg-418g{border-color:#000000;font-size:20px;font-weight:bold;text-align:center;vertical-align:top}\n",
    ".tg .tg-l4pv{border-color:#000000;font-size:20px;text-align:left;vertical-align:top}\n",
    ".tg .tg-4n8x{border-color:#000000;font-size:20px;text-align:center;vertical-align:top}\n",
    "</style>\n",
    "<table class=\"tg\">\n",
    "<thead>\n",
    "  <tr>\n",
    "    <th class=\"tg-b8y7\"></th>\n",
    "    <th class=\"tg-b8y7\" colspan=\"7\">W<br>&nbsp;&nbsp;&nbsp;&nbsp;&nbsp;</th>\n",
    "  </tr>\n",
    "</thead>\n",
    "<tbody>\n",
    "  <tr>\n",
    "    <td class=\"tg-on5d\" rowspan=\"4\">n<br></td>\n",
    "    <td class=\"tg-l4pv\"></td>\n",
    "    <td class=\"tg-418g\">0</td>\n",
    "    <td class=\"tg-418g\">1</td>\n",
    "    <td class=\"tg-418g\">2</td>\n",
    "    <td class=\"tg-418g\">3</td>\n",
    "    <td class=\"tg-418g\">4</td>\n",
    "    <td class=\"tg-418g\">5</td>\n",
    "  </tr>\n",
    "  <tr>\n",
    "    <td class=\"tg-t6ha\">0</td>\n",
    "    <td class=\"tg-4n8x\"></td>\n",
    "    <td class=\"tg-4n8x\"></td>\n",
    "    <td class=\"tg-4n8x\"></td>\n",
    "    <td class=\"tg-4n8x\"></td>\n",
    "    <td class=\"tg-4n8x\"></td>\n",
    "    <td class=\"tg-4n8x\"></td>\n",
    "  </tr>\n",
    "  <tr>\n",
    "    <td class=\"tg-t6ha\">1</td>\n",
    "    <td class=\"tg-4n8x\"></td>\n",
    "    <td class=\"tg-4n8x\"></td>\n",
    "    <td class=\"tg-4n8x\"></td>\n",
    "    <td class=\"tg-4n8x\"></td>\n",
    "    <td class=\"tg-4n8x\"></td>\n",
    "    <td class=\"tg-4n8x\"></td>\n",
    "  </tr>\n",
    "  <tr>\n",
    "    <td class=\"tg-t6ha\">2</td>\n",
    "    <td class=\"tg-4n8x\"></td>\n",
    "    <td class=\"tg-4n8x\"></td>\n",
    "    <td class=\"tg-4n8x\"></td>\n",
    "    <td class=\"tg-4n8x\"></td>\n",
    "    <td class=\"tg-4n8x\"></td>\n",
    "    <td class=\"tg-4n8x\"></td>\n",
    "  </tr>\n",
    "</tbody>\n",
    "</table>"
   ]
  },
  {
   "attachments": {},
   "cell_type": "markdown",
   "metadata": {
    "slideshow": {
     "slide_type": "subslide"
    }
   },
   "source": [
    "First we fill in item $0$ by simply considering it. For each capacity, can it fit in a bag of that capacity?\n"
   ]
  },
  {
   "attachments": {},
   "cell_type": "markdown",
   "metadata": {
    "slideshow": {
     "slide_type": "fragment"
    }
   },
   "source": [
    "<style type=\"text/css\">\n",
    ".tg  {border-collapse:collapse;border-spacing:0;}\n",
    ".tg td{border-color:black;border-style:solid;border-width:1px;font-family:Arial, sans-serif;font-size:14px;\n",
    "  overflow:hidden;padding:4px 10px;word-break:normal;}\n",
    ".tg th{border-color:black;border-style:solid;border-width:1px;font-family:Arial, sans-serif;font-size:14px;\n",
    "  font-weight:normal;overflow:hidden;padding:4px 10px;word-break:normal;}\n",
    ".tg .tg-t6ha{border-color:#000000;font-size:20px;font-weight:bold;text-align:left;vertical-align:top}\n",
    ".tg .tg-on5d{border-color:#ffffff;font-size:20px;text-align:center;vertical-align:middle}\n",
    ".tg .tg-b8y7{border-color:#ffffff;font-size:20px;text-align:center;vertical-align:top}\n",
    ".tg .tg-418g{border-color:#000000;font-size:20px;font-weight:bold;text-align:center;vertical-align:top}\n",
    ".tg .tg-l4pv{border-color:#000000;font-size:20px;text-align:left;vertical-align:top}\n",
    ".tg .tg-4n8x{border-color:#000000;font-size:20px;text-align:center;vertical-align:top}\n",
    "</style>\n",
    "<table class=\"tg\">\n",
    "<thead>\n",
    "  <tr>\n",
    "    <th class=\"tg-b8y7\"></th>\n",
    "    <th class=\"tg-b8y7\" colspan=\"7\">W<br>&nbsp;&nbsp;&nbsp;&nbsp;&nbsp;</th>\n",
    "  </tr>\n",
    "</thead>\n",
    "<tbody>\n",
    "  <tr>\n",
    "    <td class=\"tg-on5d\" rowspan=\"4\">n<br></td>\n",
    "    <td class=\"tg-l4pv\"></td>\n",
    "    <td class=\"tg-418g\">0</td>\n",
    "    <td class=\"tg-418g\">1</td>\n",
    "    <td class=\"tg-418g\">2</td>\n",
    "    <td class=\"tg-418g\">3</td>\n",
    "    <td class=\"tg-418g\">4</td>\n",
    "    <td class=\"tg-418g\">5</td>\n",
    "  </tr>\n",
    "  <tr>\n",
    "    <td class=\"tg-t6ha\">0</td>\n",
    "    <td class=\"tg-4n8x\">0</td>\n",
    "    <td class=\"tg-4n8x\">0</td>\n",
    "    <td class=\"tg-4n8x\">0</td>\n",
    "    <td class=\"tg-4n8x\">0</td>\n",
    "    <td class=\"tg-4n8x\">0</td>\n",
    "    <td class=\"tg-4n8x\">10<br></td>\n",
    "  </tr>\n",
    "  <tr>\n",
    "    <td class=\"tg-t6ha\">1</td>\n",
    "    <td class=\"tg-4n8x\"></td>\n",
    "    <td class=\"tg-4n8x\"></td>\n",
    "    <td class=\"tg-4n8x\"></td>\n",
    "    <td class=\"tg-4n8x\"></td>\n",
    "    <td class=\"tg-4n8x\"></td>\n",
    "    <td class=\"tg-4n8x\"></td>\n",
    "  </tr>\n",
    "  <tr>\n",
    "    <td class=\"tg-t6ha\">2</td>\n",
    "    <td class=\"tg-4n8x\"></td>\n",
    "    <td class=\"tg-4n8x\"></td>\n",
    "    <td class=\"tg-4n8x\"></td>\n",
    "    <td class=\"tg-4n8x\"></td>\n",
    "    <td class=\"tg-4n8x\"></td>\n",
    "    <td class=\"tg-4n8x\"></td>\n",
    "  </tr>\n",
    "</tbody>\n",
    "</table>"
   ]
  },
  {
   "attachments": {},
   "cell_type": "markdown",
   "metadata": {
    "slideshow": {
     "slide_type": "subslide"
    }
   },
   "source": [
    "Then we use the recurrence together with previously calculated values to complete the subsequent rows."
   ]
  },
  {
   "attachments": {},
   "cell_type": "markdown",
   "metadata": {
    "slideshow": {
     "slide_type": "fragment"
    }
   },
   "source": [
    "<style type=\"text/css\">\n",
    ".tg  {border-collapse:collapse;border-spacing:0;}\n",
    ".tg td{border-color:black;border-style:solid;border-width:1px;font-family:Arial, sans-serif;font-size:14px;\n",
    "  overflow:hidden;padding:4px 10px;word-break:normal;}\n",
    ".tg th{border-color:black;border-style:solid;border-width:1px;font-family:Arial, sans-serif;font-size:14px;\n",
    "  font-weight:normal;overflow:hidden;padding:4px 10px;word-break:normal;}\n",
    ".tg .tg-t6ha{border-color:#000000;font-size:20px;font-weight:bold;text-align:left;vertical-align:top}\n",
    ".tg .tg-on5d{border-color:#ffffff;font-size:20px;text-align:center;vertical-align:middle}\n",
    ".tg .tg-b8y7{border-color:#ffffff;font-size:20px;text-align:center;vertical-align:top}\n",
    ".tg .tg-418g{border-color:#000000;font-size:20px;font-weight:bold;text-align:center;vertical-align:top}\n",
    ".tg .tg-l4pv{border-color:#000000;font-size:20px;text-align:left;vertical-align:top}\n",
    ".tg .tg-4n8x{border-color:#000000;font-size:20px;text-align:center;vertical-align:top}\n",
    "</style>\n",
    "<table class=\"tg\">\n",
    "<thead>\n",
    "  <tr>\n",
    "    <th class=\"tg-b8y7\"></th>\n",
    "    <th class=\"tg-b8y7\" colspan=\"7\">W<br>&nbsp;&nbsp;&nbsp;&nbsp;&nbsp;</th>\n",
    "  </tr>\n",
    "</thead>\n",
    "<tbody>\n",
    "  <tr>\n",
    "    <td class=\"tg-on5d\" rowspan=\"4\">n<br></td>\n",
    "    <td class=\"tg-l4pv\"></td>\n",
    "    <td class=\"tg-418g\">0</td>\n",
    "    <td class=\"tg-418g\">1</td>\n",
    "    <td class=\"tg-418g\">2</td>\n",
    "    <td class=\"tg-418g\">3</td>\n",
    "    <td class=\"tg-418g\">4</td>\n",
    "    <td class=\"tg-418g\">5</td>\n",
    "  </tr>\n",
    "  <tr>\n",
    "    <td class=\"tg-t6ha\">0</td>\n",
    "    <td class=\"tg-418g\">0</td>\n",
    "    <td class=\"tg-4n8x\">0</td>\n",
    "    <td class=\"tg-4n8x\">0</td>\n",
    "    <td class=\"tg-418g\">0</td>\n",
    "    <td class=\"tg-4n8x\">0</td>\n",
    "    <td class=\"tg-4n8x\">10<br></td>\n",
    "  </tr>\n",
    "  <tr>\n",
    "    <td class=\"tg-t6ha\">1</td>\n",
    "    <td class=\"tg-4n8x\">0</td>\n",
    "    <td class=\"tg-4n8x\">0</td>\n",
    "    <td class=\"tg-4n8x\">0</td>\n",
    "    <td class=\"tg-418g\">6</td>\n",
    "    <td class=\"tg-4n8x\"></td>\n",
    "    <td class=\"tg-4n8x\"></td>\n",
    "  </tr>\n",
    "  <tr>\n",
    "    <td class=\"tg-t6ha\">2</td>\n",
    "    <td class=\"tg-4n8x\"></td>\n",
    "    <td class=\"tg-4n8x\"></td>\n",
    "    <td class=\"tg-4n8x\"></td>\n",
    "    <td class=\"tg-4n8x\"></td>\n",
    "    <td class=\"tg-4n8x\"></td>\n",
    "    <td class=\"tg-4n8x\"></td>\n",
    "  </tr>\n",
    "</tbody>\n",
    "</table>"
   ]
  },
  {
   "attachments": {},
   "cell_type": "markdown",
   "metadata": {
    "slideshow": {
     "slide_type": "fragment"
    }
   },
   "source": [
    "$\\begin{align}\n",
    "v(OPT(1, 3)) &= \\max \\{6 + v(OPT(0, 3-3)),v(OPT(0, 3)) \\}\\\\\n",
    "&=\\max\\{6+0, 0\\}=6\n",
    "\\end{align}$"
   ]
  },
  {
   "attachments": {},
   "cell_type": "markdown",
   "metadata": {},
   "source": [
    "<style type=\"text/css\">\n",
    ".tg  {border-collapse:collapse;border-spacing:0;}\n",
    ".tg td{border-color:black;border-style:solid;border-width:1px;font-family:Arial, sans-serif;font-size:14px;\n",
    "  overflow:hidden;padding:4px 10px;word-break:normal;}\n",
    ".tg th{border-color:black;border-style:solid;border-width:1px;font-family:Arial, sans-serif;font-size:14px;\n",
    "  font-weight:normal;overflow:hidden;padding:4px 10px;word-break:normal;}\n",
    ".tg .tg-t6ha{border-color:#000000;font-size:20px;font-weight:bold;text-align:left;vertical-align:top}\n",
    ".tg .tg-on5d{border-color:#ffffff;font-size:20px;text-align:center;vertical-align:middle}\n",
    ".tg .tg-b8y7{border-color:#ffffff;font-size:20px;text-align:center;vertical-align:top}\n",
    ".tg .tg-418g{border-color:#000000;font-size:20px;font-weight:bold;text-align:center;vertical-align:top}\n",
    ".tg .tg-l4pv{border-color:#000000;font-size:20px;text-align:left;vertical-align:top}\n",
    ".tg .tg-4n8x{border-color:#000000;font-size:20px;text-align:center;vertical-align:top}\n",
    "</style>\n",
    "<table class=\"tg\">\n",
    "<thead>\n",
    "  <tr>\n",
    "    <th class=\"tg-b8y7\"></th>\n",
    "    <th class=\"tg-b8y7\" colspan=\"7\">W<br>&nbsp;&nbsp;&nbsp;&nbsp;&nbsp;</th>\n",
    "  </tr>\n",
    "</thead>\n",
    "<tbody>\n",
    "  <tr>\n",
    "    <td class=\"tg-on5d\" rowspan=\"4\">n<br></td>\n",
    "    <td class=\"tg-l4pv\"></td>\n",
    "    <td class=\"tg-418g\">0</td>\n",
    "    <td class=\"tg-418g\">1</td>\n",
    "    <td class=\"tg-418g\">2</td>\n",
    "    <td class=\"tg-418g\">3</td>\n",
    "    <td class=\"tg-418g\">4</td>\n",
    "    <td class=\"tg-418g\">5</td>\n",
    "  </tr>\n",
    "  <tr>\n",
    "    <td class=\"tg-t6ha\">0</td>\n",
    "    <td class=\"tg-4n8x\">0</td>\n",
    "    <td class=\"tg-4n8x\">0</td>\n",
    "    <td class=\"tg-418g\">0</td>\n",
    "    <td class=\"tg-4n8x\">0</td>\n",
    "    <td class=\"tg-4n8x\">0</td>\n",
    "    <td class=\"tg-418g\">10<br></td>\n",
    "  </tr>\n",
    "  <tr>\n",
    "    <td class=\"tg-t6ha\">1</td>\n",
    "    <td class=\"tg-4n8x\">0</td>\n",
    "    <td class=\"tg-4n8x\">0</td>\n",
    "    <td class=\"tg-4n8x\">0</td>\n",
    "    <td class=\"tg-4n8x\">6</td>\n",
    "    <td class=\"tg-4n8x\">6</td>\n",
    "    <td class=\"tg-418g\">10</td>\n",
    "  </tr>\n",
    "  <tr>\n",
    "    <td class=\"tg-t6ha\">2</td>\n",
    "    <td class=\"tg-4n8x\"></td>\n",
    "    <td class=\"tg-4n8x\"></td>\n",
    "    <td class=\"tg-4n8x\"></td>\n",
    "    <td class=\"tg-4n8x\"></td>\n",
    "    <td class=\"tg-4n8x\"></td>\n",
    "    <td class=\"tg-4n8x\"></td>\n",
    "  </tr>\n",
    "</tbody>\n",
    "</table>"
   ]
  },
  {
   "attachments": {},
   "cell_type": "markdown",
   "metadata": {
    "slideshow": {
     "slide_type": "fragment"
    }
   },
   "source": [
    "$\\begin{align}\n",
    "v(OPT(1, 5)) &= \\max \\{6 + v(OPT(0, 5-3)), v(OPT(0, 5)) \\}\\\\\n",
    "&=\\max\\{6+0,10\\}=10\n",
    "\\end{align}$\n"
   ]
  },
  {
   "attachments": {},
   "cell_type": "markdown",
   "metadata": {},
   "source": [
    "<style type=\"text/css\">\n",
    ".tg  {border-collapse:collapse;border-spacing:0;}\n",
    ".tg td{border-color:black;border-style:solid;border-width:1px;font-family:Arial, sans-serif;font-size:14px;\n",
    "  overflow:hidden;padding:4px 10px;word-break:normal;}\n",
    ".tg th{border-color:black;border-style:solid;border-width:1px;font-family:Arial, sans-serif;font-size:14px;\n",
    "  font-weight:normal;overflow:hidden;padding:4px 10px;word-break:normal;}\n",
    ".tg .tg-t6ha{border-color:#000000;font-size:20px;font-weight:bold;text-align:left;vertical-align:top}\n",
    ".tg .tg-on5d{border-color:#ffffff;font-size:20px;text-align:center;vertical-align:middle}\n",
    ".tg .tg-b8y7{border-color:#ffffff;font-size:20px;text-align:center;vertical-align:top}\n",
    ".tg .tg-418g{border-color:#000000;font-size:20px;font-weight:bold;text-align:center;vertical-align:top}\n",
    ".tg .tg-l4pv{border-color:#000000;font-size:20px;text-align:left;vertical-align:top}\n",
    ".tg .tg-4n8x{border-color:#000000;font-size:20px;text-align:center;vertical-align:top}\n",
    "</style>\n",
    "<table class=\"tg\">\n",
    "<thead>\n",
    "  <tr>\n",
    "    <th class=\"tg-b8y7\"></th>\n",
    "    <th class=\"tg-b8y7\" colspan=\"7\">W<br>&nbsp;&nbsp;&nbsp;&nbsp;&nbsp;</th>\n",
    "  </tr>\n",
    "</thead>\n",
    "<tbody>\n",
    "  <tr>\n",
    "    <td class=\"tg-on5d\" rowspan=\"4\">n<br></td>\n",
    "    <td class=\"tg-l4pv\"></td>\n",
    "    <td class=\"tg-418g\">0</td>\n",
    "    <td class=\"tg-418g\">1</td>\n",
    "    <td class=\"tg-418g\">2</td>\n",
    "    <td class=\"tg-418g\">3</td>\n",
    "    <td class=\"tg-418g\">4</td>\n",
    "    <td class=\"tg-418g\">5</td>\n",
    "  </tr>\n",
    "  <tr>\n",
    "    <td class=\"tg-t6ha\">0</td>\n",
    "    <td class=\"tg-4n8x\">0</td>\n",
    "    <td class=\"tg-4n8x\">0</td>\n",
    "    <td class=\"tg-4n8x\">0</td>\n",
    "    <td class=\"tg-4n8x\">0</td>\n",
    "    <td class=\"tg-4n8x\">0</td>\n",
    "    <td class=\"tg-4n8x\">10<br></td>\n",
    "  </tr>\n",
    "  <tr>\n",
    "    <td class=\"tg-t6ha\">1</td>\n",
    "    <td class=\"tg-4n8x\">0</td>\n",
    "    <td class=\"tg-4n8x\">0</td>\n",
    "    <td class=\"tg-4n8x\">0</td>\n",
    "    <td class=\"tg-418g\">6</td>\n",
    "    <td class=\"tg-4n8x\">6</td>\n",
    "    <td class=\"tg-418g\">10</td>\n",
    "  </tr>\n",
    "  <tr>\n",
    "    <td class=\"tg-t6ha\">2</td>\n",
    "    <td class=\"tg-4n8x\">0</td>\n",
    "    <td class=\"tg-4n8x\">0</td>\n",
    "    <td class=\"tg-4n8x\">7</td>\n",
    "    <td class=\"tg-4n8x\">7</td>\n",
    "    <td class=\"tg-4n8x\">7</td>\n",
    "    <td class=\"tg-418g\">13</td>\n",
    "  </tr>\n",
    "</tbody>\n",
    "</table>"
   ]
  },
  {
   "attachments": {},
   "cell_type": "markdown",
   "metadata": {
    "slideshow": {
     "slide_type": "fragment"
    }
   },
   "source": [
    "$\\begin{align}\n",
    "v(OPT(2, 5)) &= \\max \\{7 + v(OPT(1, 5-2)),v(OPT(1, 5)) \\}\\\\\n",
    "&= \\max \\{7 + 6, 10 \\} = 13\n",
    "\\end{align}$\n"
   ]
  },
  {
   "cell_type": "markdown",
   "metadata": {},
   "source": [
    "<h3>Memoization in Python</h3>\n",
    "\n",
    "ChatGPT explains exactly how to implement memoization using decorators/metaprogramming after given the prompt \"I want to use metaprogramming to add memoization to an already-written function in Python. How do I do it?\"\n",
    "\n",
    "The solution is a bit unsatisfying because it requires the arguments of func to be immutable."
   ]
  },
  {
   "cell_type": "code",
   "execution_count": 18,
   "metadata": {
    "slideshow": {
     "slide_type": "slide"
    }
   },
   "outputs": [],
   "source": [
    "def memoize(func):\n",
    "    #This higher-order function that modifies func.\n",
    "    #The arguments of func need to an immutable type.\n",
    "    cache = {} #This is where we store previous calculations.\n",
    "    \n",
    "    @functools.wraps(func) \n",
    "    def wrapper(*args):\n",
    "        if args in cache: #If we already computed the result,\n",
    "            return cache[args] #look up that result\n",
    "        else: #Otherwise,\n",
    "            result = func(*args) #compute the result\n",
    "            cache[args] = result #save the result\n",
    "            return result #return the result\n",
    "        \n",
    "    return wrapper\n",
    "\n",
    "@memoize\n",
    "def recursive_knapsack(objects, i, W):\n",
    "    #This is the slow version, without dynamic programming.\n",
    "    #But the decorator makes it memoized.\n",
    "    v, w = objects[i]\n",
    "    if (i == 0):\n",
    "        if (w <= W):\n",
    "            return v\n",
    "        else:\n",
    "            return 0\n",
    "    else:\n",
    "        if (w <= W):\n",
    "            take = v + recursive_knapsack(objects, i-1, max(W-w, 0))\n",
    "            dont_take = recursive_knapsack(objects, i-1, W)\n",
    "            return(max(take, dont_take))\n",
    "        elif (W == 0):\n",
    "            return 0\n",
    "        else:\n",
    "            return(recursive_knapsack(objects, i-1, W))\n"
   ]
  },
  {
   "cell_type": "code",
   "execution_count": 15,
   "metadata": {
    "slideshow": {
     "slide_type": "subslide"
    }
   },
   "outputs": [
    {
     "name": "stdout",
     "output_type": "stream",
     "text": [
      "[[0, 0, 0, 0, 0, 10], [0, 0, 0, 6, 6, 10], [0, 0, 7, 7, 7, 13]]\n",
      "13\n"
     ]
    }
   ],
   "source": [
    "\n",
    "def tabular_knapsack(objects, W):\n",
    "    #Expects objects to be a list of pairs of the form (value,weight)\n",
    "    n = len(objects)\n",
    "    # we'll rely on indices to also represent weights, so we'll index from 1...W \n",
    "    # in the weight dimension of the table\n",
    "    OPT = [[0]*(W+1)]#Temporarily fill in the row with 0's.\n",
    "    \n",
    "    # initialize the first row of the table\n",
    "    for w in range(W+1):\n",
    "        if objects[0][1] <= w:\n",
    "            OPT[0][w] = objects[0][0]\n",
    "        else:\n",
    "            OPT[0][w] = 0\n",
    "    \n",
    "    # use the optimal substructure property to compute increasingly larger solutions\n",
    "    for i in range(1,n):\n",
    "        OPT.append([0]*(W+1)) #Temporarily fill in the row with 0's.\n",
    "        v_i, w_i = objects[i]\n",
    "        for w in range(W+1):\n",
    "            if (w_i <= w):\n",
    "                OPT[i][w] = max(v_i + OPT[i-1][w-w_i], OPT[i-1][w])\n",
    "            else:\n",
    "                OPT[i][w] = OPT[i-1][w]\n",
    "               \n",
    "    print(OPT)\n",
    "    return(OPT[n-1][W])\n",
    "\n",
    "W = 5\n",
    "objects = ((10,5), (6,3), (7,2))\n",
    "print(tabular_knapsack(objects, W))"
   ]
  },
  {
   "cell_type": "code",
   "execution_count": 17,
   "metadata": {
    "slideshow": {
     "slide_type": "skip"
    }
   },
   "outputs": [
    {
     "name": "stdout",
     "output_type": "stream",
     "text": [
      "10\n",
      "10\n",
      "[[0, 0, 0, 0, 0, 10], [0, 0, 0, 9, 9, 10]]\n",
      "10\n"
     ]
    }
   ],
   "source": [
    "print(recursive_knapsack(objects, len(objects)-1, W))\n",
    "\n",
    "W = 5\n",
    "objects = ((10, 5), (9, 3))\n",
    "n = len(objects)-1\n",
    "print(recursive_knapsack(objects, n, W))\n",
    "print(tabular_knapsack(objects, W))\n"
   ]
  },
  {
   "attachments": {},
   "cell_type": "markdown",
   "metadata": {
    "slideshow": {
     "slide_type": "skip"
    }
   },
   "source": [
    "There are at most $O(nW)$ nodes in this DAG, and the longest path is $O(n)$. Each node requires $O(1)$ work/span, so the work is $O(nW)$ and the span is $O(n)$. Is this efficient?\n",
    "\n",
    "Well, not really. We need exponential time in the input size of $W$. We get only $\\log_2(W)$ bits as input, but take time proportional to $W$. \n",
    "\n",
    "This isn't completely satisfying, but if it makes you feel better we do not know of any efficient algorithm for the 0-1 Knapsack problem (more on this at the end of the semester). Also, the algorithm is efficient if we consider $W$ to be fixed."
   ]
  },
  {
   "attachments": {},
   "cell_type": "markdown",
   "metadata": {
    "slideshow": {
     "slide_type": "slide"
    }
   },
   "source": [
    "### Elements of Dynamic Programming\n",
    "\n",
    "This is what we call **dynamic programming**. The elements of a dynamic programming algorithm are:\n",
    "\n",
    "- Optimal Substructure\n",
    "- Recursion DAG\n"
   ]
  },
  {
   "attachments": {},
   "cell_type": "markdown",
   "metadata": {
    "slideshow": {
     "slide_type": "fragment"
    }
   },
   "source": [
    "\n",
    "The correctness of the dynamic programming approach follows from the optimal substructure property (i.e., induction). If we can prove that the optimal substructure property holds, and that we compute a solution by correctly implementing this property then our solution is optimal.\n"
   ]
  },
  {
   "attachments": {},
   "cell_type": "markdown",
   "metadata": {
    "slideshow": {
     "slide_type": "fragment"
    }
   },
   "source": [
    "\n",
    "As with divide and conquer algorithms, achieving a good work/span can be tricky. We can minimize redundant computation by memoizing solutions to all subproblems, which we can do: \n",
    "\n",
    "- *top-down* by saving the result of a recursive call the first time we encounter it. \n",
    "\n",
    "- *bottom-up* by filling in a table using the recurrence as a guide.\n"
   ]
  },
  {
   "attachments": {},
   "cell_type": "markdown",
   "metadata": {
    "slideshow": {
     "slide_type": "skip"
    }
   },
   "source": [
    "\n",
    "Can we derive the number of nodes in the DAG using the optimal substructure property?\n"
   ]
  },
  {
   "attachments": {},
   "cell_type": "markdown",
   "metadata": {
    "slideshow": {
     "slide_type": "slide"
    }
   },
   "source": [
    "### Work and Span in Dynamic Programming\n",
    "\n",
    "Since we memoize the solution to every distinct subproblem, the number of nodes in the DAG is equal to the number of distinct subproblems considered, that is, the number of cells in the table.. \n",
    "\n",
    "There are at most $O(nW)$ nodes in the table, and the longest path in the DAG is $O(n)$. \n",
    "\n",
    "The longest path in the DAG represents the span of our dynamic programming algorithm.\n",
    "\n",
    "Each node requires $O(1)$ work/span, so the work is $O(nW)$ and the span is $O(n)$."
   ]
  },
  {
   "attachments": {},
   "cell_type": "markdown",
   "metadata": {
    "slideshow": {
     "slide_type": "slide"
    }
   },
   "source": [
    "### Why \"Dynamic Programming\"?\n",
    "\n",
    "The mathematician Richard Bellman coined the term [\"dynamic programming\"](https://en.wikipedia.org/wiki/Dynamic_programming) to describe the recursive approach we just showed. The optimal substructure property is sometimes referred to as a \"Bellman equation.\" But why did he call it dynamic programming?\n",
    "\n",
    "There is some [folklore](https://en.wikipedia.org/wiki/Dynamic_programming#History) around the exact reason. But it could possibly be because \"dynamic\" is a really dramatic way to describe the search weaving through the DAG. The term \"programming\" was used in the field of optimization in the 1950s to describe an optimization approach (e.g., linear programming, quadratic programming, mathematical programming). \n",
    "\n"
   ]
  }
 ],
 "metadata": {
  "celltoolbar": "Slideshow",
  "kernelspec": {
   "display_name": "Python 3.9.6 64-bit",
   "language": "python",
   "name": "python3"
  },
  "language_info": {
   "codemirror_mode": {
    "name": "ipython",
    "version": 3
   },
   "file_extension": ".py",
   "mimetype": "text/x-python",
   "name": "python",
   "nbconvert_exporter": "python",
   "pygments_lexer": "ipython3",
   "version": "3.10.12"
  },
  "rise": {
   "autolaunch": true,
   "controls": false,
   "enable_chalkboard": true,
   "scroll": true,
   "theme": "simple",
   "transition": "fade"
  },
  "toc": {
   "base_numbering": 1,
   "nav_menu": {},
   "number_sections": true,
   "sideBar": true,
   "skip_h1_title": true,
   "title_cell": "Table of Contents",
   "title_sidebar": "Contents",
   "toc_cell": true,
   "toc_position": {},
   "toc_section_display": true,
   "toc_window_display": false
  },
  "vscode": {
   "interpreter": {
    "hash": "aee8b7b246df8f9039afb4144a1f6fd8d2ca17a180786b69acc140d282b71a49"
   }
  }
 },
 "nbformat": 4,
 "nbformat_minor": 4
}
