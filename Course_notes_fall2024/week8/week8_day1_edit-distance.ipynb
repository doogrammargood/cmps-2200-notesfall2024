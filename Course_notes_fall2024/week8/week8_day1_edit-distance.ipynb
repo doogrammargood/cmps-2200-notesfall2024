{
 "cells": [
  {
   "cell_type": "code",
   "execution_count": 1,
   "metadata": {
    "code_folding": [],
    "slideshow": {
     "slide_type": "skip"
    }
   },
   "outputs": [
    {
     "name": "stderr",
     "output_type": "stream",
     "text": [
      "/var/folders/__/hfpddksj4qv77pfl3q8kzhw80000gn/T/ipykernel_63291/1251851185.py:2: DeprecationWarning: Importing display from IPython.core.display is deprecated since IPython 7.14, please import from IPython display\n",
      "  from IPython.core.display import display,HTML\n"
     ]
    },
    {
     "data": {
      "text/html": [
       "<style>.prompt{width: 0px; min-width: 0px; visibility: collapse}</style>"
      ],
      "text/plain": [
       "<IPython.core.display.HTML object>"
      ]
     },
     "metadata": {},
     "output_type": "display_data"
    },
    {
     "data": {
      "text/html": [
       "<style>\n",
       "div#notebook {\n",
       " font-family: \"Exo_2\", sans-serif;\n",
       "}\n",
       "\n",
       ".rendered_html h1,\n",
       ".text_cell_render h1 {\n",
       " color: #126dce;\n",
       " font-size: 220%;\n",
       " text-align: center;\n",
       " font-weight: lighter;\n",
       "}\n",
       ".rendered_html h2,\n",
       ".text_cell_render h2 {\n",
       " text-align: center;\n",
       " font-size: 170%;\n",
       " color: #126dce;\n",
       " font-style: normal;\n",
       " font-weight: lighter;\n",
       "}\n",
       ".rendered_html h3,\n",
       ".text_cell_render h3 {\n",
       " font-size: 150%;\n",
       " color: #126dce;\n",
       " font-weight: lighter;\n",
       " text-decoration: italic;\n",
       " font-style: normal;\n",
       "}\n",
       ".rendered_html h4,\n",
       ".text_cell_render h4 {\n",
       " font-size: 120%;\n",
       " color: #126dce;\n",
       " font-weight: underline;\n",
       " font-style: normal;\n",
       "}\n",
       ".rendered_html h5,\n",
       ".text_cell_render h5 {\n",
       " font-size: 100%;\n",
       " color: #2f2f2f;\n",
       " font-weight: lighter;\n",
       " text-decoration: underline;\n",
       "}\n",
       "</style>\n"
      ],
      "text/plain": [
       "<IPython.core.display.HTML object>"
      ]
     },
     "metadata": {},
     "output_type": "display_data"
    }
   ],
   "source": [
    "# setup\n",
    "from IPython.core.display import display,HTML\n",
    "display(HTML('<style>.prompt{width: 0px; min-width: 0px; visibility: collapse}</style>'))\n",
    "display(HTML(open('../rise.css').read()))\n",
    "\n",
    "# imports\n",
    "import numpy as np\n",
    "import matplotlib.pyplot as plt\n",
    "import seaborn as sns\n",
    "%matplotlib inline\n",
    "sns.set(style=\"whitegrid\", font_scale=1.5, rc={'figure.figsize':(12, 6)})\n"
   ]
  },
  {
   "attachments": {},
   "cell_type": "markdown",
   "metadata": {
    "slideshow": {
     "slide_type": "skip"
    }
   },
   "source": [
    "<style>.jp-RenderedHTMLCommon table {\n",
    "  border-collapse: collapse;\n",
    "  border-spacing: 0;\n",
    "  border: none;\n",
    "  color: var(--jp-ui-font-color1);\n",
    "  font-size: 20px;\n",
    "  table-layout: fixed;\n",
    "  margin-left: auto;\n",
    "  margin-right: auto;\n",
    "}</style>"
   ]
  },
  {
   "attachments": {},
   "cell_type": "markdown",
   "metadata": {
    "slideshow": {
     "slide_type": "slide"
    }
   },
   "source": [
    "# CMPS 2200\n",
    "# Introduction to Algorithms\n",
    "\n",
    "## Longest Increasing Subsequence, Edit Distance\n"
   ]
  },
  {
   "attachments": {},
   "cell_type": "markdown",
   "metadata": {
    "slideshow": {
     "slide_type": "slide"
    }
   },
   "source": [
    "Agenda:\n",
    "\n",
    "- Longest Increasing Subsequence\n",
    "- Edit Distance"
   ]
  },
  {
   "attachments": {},
   "cell_type": "markdown",
   "metadata": {
    "slideshow": {
     "slide_type": "slide"
    }
   },
   "source": [
    "## Longest Increasing Subsequence \n",
    "\n",
    "Given a sequence $S = \\langle s_0, s_1, \\ldots, s_{n-1} \\rangle$, what is the longest increasing subsequence? \n",
    "\n",
    "> Note that subsequences don't need to be contiguous.\n",
    "\n",
    "A subsequence is $s_{i_1}, s_{i_2},\\dots, s_{i_k}$ where $0\\leq i_1<i_2,\\dots,<i_k\\leq n-1$. An increasing subsequence is one where the numbers are getting strictly larger, such as $s_{i_1}<s_{i_2}$.\n"
   ]
  },
  {
   "attachments": {},
   "cell_type": "markdown",
   "metadata": {
    "slideshow": {
     "slide_type": "subslide"
    }
   },
   "source": [
    "\n",
    "Example: $S=\\langle 5, 2, 8, 6, 3, 6, 9, 7\\rangle$. \n",
    "\n",
    "Every subsequence of length 1 is trivially increasing. \n"
   ]
  },
  {
   "attachments": {},
   "cell_type": "markdown",
   "metadata": {
    "slideshow": {
     "slide_type": "fragment"
    }
   },
   "source": [
    "\n",
    "Increasing subsequences include:\n",
    "\n",
    "- $\\langle 2, 6, 9 \\rangle$\n",
    "\n",
    "- $\\langle 2, 8, 9 \\rangle$\n",
    "\n",
    "- $\\langle 5, 6, 7\\rangle$ \n"
   ]
  },
  {
   "attachments": {},
   "cell_type": "markdown",
   "metadata": {
    "slideshow": {
     "slide_type": "fragment"
    }
   },
   "source": [
    "\n",
    "What is the longest?\n"
   ]
  },
  {
   "attachments": {},
   "cell_type": "markdown",
   "metadata": {
    "slideshow": {
     "slide_type": "fragment"
    }
   },
   "source": [
    "\n",
    "- $\\langle 2, 3, 6, 9 \\rangle$\n",
    "\n",
    "- $\\langle 2, 3, 6, 7 \\rangle$"
   ]
  },
  {
   "attachments": {},
   "cell_type": "markdown",
   "metadata": {
    "slideshow": {
     "slide_type": "slide"
    }
   },
   "source": [
    "## Solving LIS\n",
    "\n",
    "$$S=\\langle 5, 2, 8, 6, 3, 6, 9, 7\\rangle$$\n",
    "\n",
    "Let's reduce this problem to something slightly simpler with the observation that the longest increasing subsequence must start somewhere in $S$.\n"
   ]
  },
  {
   "attachments": {},
   "cell_type": "markdown",
   "metadata": {
    "slideshow": {
     "slide_type": "fragment"
    }
   },
   "source": [
    "\n",
    "Let $\\mathit{LIS}(S, i)$ be the longest increasing subsequence for $S$ that starts with $S[i]$ as the first element. \n"
   ]
  },
  {
   "attachments": {},
   "cell_type": "markdown",
   "metadata": {
    "slideshow": {
     "slide_type": "fragment"
    }
   },
   "source": [
    "\n",
    "How can we use the function $\\mathit{LIS}(S, i)$ to solve the original problem?\n",
    "\n"
   ]
  },
  {
   "attachments": {},
   "cell_type": "markdown",
   "metadata": {
    "slideshow": {
     "slide_type": "fragment"
    }
   },
   "source": [
    "<br>\n",
    "\n",
    "If we can compute $LIS(S, i)$ then we can compute $ \\mathit{LIS}(S) = \\max_{0\\leq i < n} \\mathit{LIS}(S, i).$\n",
    "\n",
    "\n",
    "- If $S[i]$ is the first element, then the next element $j$ in the longest increasing subsequence must have $j>i$ and $S[j] > S[i]$. \n",
    "- Whichever element is next, we must have $\\mathit{LIS}(S, i) = 1 + \\max_{j: S[j] > S[i]} \\mathit{LIS}(S,j).$\n",
    "\n",
    "\n"
   ]
  },
  {
   "attachments": {},
   "cell_type": "markdown",
   "metadata": {
    "slideshow": {
     "slide_type": "slide"
    }
   },
   "source": [
    "## Optimal Substructure\n",
    "\n",
    "**Optimal Substructure for Longest Increasing Subsequence**: Given a sequence $S$, we have that the longest increasing subesquence of $S$ is $ \\mathit{LIS}(S) = \\max_{0\\leq i < n} \\mathit{LIS}(S, i)$ where\n",
    "$$\\mathit{LIS}(S, i) = 1 + \\max_{j: S[j] > S[i]} \\mathit{LIS}(S, j).$$\n"
   ]
  },
  {
   "attachments": {},
   "cell_type": "markdown",
   "metadata": {
    "slideshow": {
     "slide_type": "fragment"
    }
   },
   "source": [
    "\n",
    "To compute this optimal substructure property, how many distinct subproblems must be computed from scratch? \n"
   ]
  },
  {
   "attachments": {},
   "cell_type": "markdown",
   "metadata": {
    "slideshow": {
     "slide_type": "fragment"
    }
   },
   "source": [
    "\n",
    "There are only a linear number of starting points for an optimal solution. \n",
    "\n",
    "But for each subproblem, the work to compute an optimal solution, even if we have computed all subproblems already, is actually linear in the size of the sequence we consider. \n"
   ]
  },
  {
   "attachments": {},
   "cell_type": "markdown",
   "metadata": {
    "slideshow": {
     "slide_type": "fragment"
    }
   },
   "source": [
    "\n",
    "This optimal substructure property is little different than what we saw in Knapsack where every subproblem depended on two subproblems which could be solved in $O(1)$ time.\n"
   ]
  },
  {
   "attachments": {},
   "cell_type": "markdown",
   "metadata": {
    "slideshow": {
     "slide_type": "slide"
    }
   },
   "source": [
    "## Implementation: Top-down w/out memoization"
   ]
  },
  {
   "cell_type": "code",
   "execution_count": 2,
   "metadata": {},
   "outputs": [
    {
     "name": "stdout",
     "output_type": "stream",
     "text": [
      "4\n"
     ]
    }
   ],
   "source": [
    "# longest increasing subsequence starting at position 0\n",
    "def LIS_helper(S):\n",
    "    if (S == []):\n",
    "        return(0)\n",
    "    else:\n",
    "        # find elements in the sequence that are larger than S[0]\n",
    "        rest = [j for j in range(1,len(S)) if S[j]>S[0]]\n",
    "        if (rest == []):\n",
    "            return(1)\n",
    "        else:\n",
    "            results = [LIS_helper(S[i:]) for i in rest]\n",
    "            if (results == []):\n",
    "                return(1)\n",
    "            else:\n",
    "                return(1 + max(results))\n",
    "    \n",
    "def LIS(S):\n",
    "    return(max([LIS_helper(L[i:]) for i in range(len(L))]))\n",
    "\n",
    "L = [5,2,8,6,3,6,9,7]\n",
    "print(LIS(L))\n"
   ]
  },
  {
   "attachments": {},
   "cell_type": "markdown",
   "metadata": {
    "slideshow": {
     "slide_type": "slide"
    }
   },
   "source": [
    "## Runtime\n",
    "\n",
    "<img src=\"figures/lis_dag.png\" width=\"70%\">\n",
    "\n",
    "Picture the DAG (directed acyclic graph). The solution is then the longest path in the DAG.\n",
    "\n",
    "We have to traverse all edges and $|E|$ is at most $n^2$ so our work is $O(n^2)$.\n",
    "\n",
    "The longest path in the DAG is at most $n$.\n",
    "\n",
    "$W(n) \\in O(n^2)$\n",
    "\n",
    "$S(n) \\in O(n)$\n"
   ]
  },
  {
   "attachments": {},
   "cell_type": "markdown",
   "metadata": {
    "slideshow": {
     "slide_type": "slide"
    }
   },
   "source": [
    "# Edit Distance\n",
    "\n",
    "Given two strings $S, T \\in \\Sigma^*$, how similar are they?\n",
    "\n",
    "We can measure this using *edit distance*, which is the number of insertions and deletions needed to turn $S$ into $T$. Note that we can also go from $T$ to $S$ if we just reverse the edits (by turning insertions into deletions)\n",
    "\n",
    "Example: \n",
    "\n",
    "$S$ = `abcdefghijkl`<br>\n",
    "$T$ = `abcdghikjl` \n",
    "\n",
    "How many edits are needed?"
   ]
  },
  {
   "attachments": {},
   "cell_type": "markdown",
   "metadata": {
    "slideshow": {
     "slide_type": "fragment"
    }
   },
   "source": [
    "> This might seem like a toy problem, but it is a critical problem in comparing gene and protein sequences. By attaching weights to insertions and deletions, we can assess the evolutionary distance between two sequences."
   ]
  },
  {
   "attachments": {},
   "cell_type": "markdown",
   "metadata": {
    "slideshow": {
     "slide_type": "subslide"
    }
   },
   "source": [
    "\n",
    "**Notation Note**: \n",
    "\n",
    "We will represent insertions and deletions using dashes. All insertions and deletions refer to modifying the top string.\n",
    "\n",
    "A dash in the bottom string means delete the character above it. \n",
    "\n",
    "E.g.,\n",
    "\n",
    "`abc`<br>\n",
    "`a-c`\n"
   ]
  },
  {
   "attachments": {},
   "cell_type": "markdown",
   "metadata": {
    "slideshow": {
     "slide_type": "fragment"
    }
   },
   "source": [
    "\n",
    "A dash in the top string means insert a character here to match the character below.\n",
    "\n",
    "E.g.,\n",
    "\n",
    "`jkl-l`<br>\n",
    "`jklol`"
   ]
  },
  {
   "attachments": {},
   "cell_type": "markdown",
   "metadata": {
    "slideshow": {
     "slide_type": "subslide"
    }
   },
   "source": [
    "**Consider following edit sequence:**\n",
    "\n",
    "$S$: `abcdefghijkl---`<br>\n",
    "$T$: `abcd--ghi---kjl`\n",
    "\n",
    "This has 5 deletions and 3 insertions, for a total of 8 edits. \n"
   ]
  },
  {
   "attachments": {},
   "cell_type": "markdown",
   "metadata": {
    "slideshow": {
     "slide_type": "fragment"
    }
   },
   "source": [
    "\n",
    "What about this one:\n",
    "\n",
    "$S$: `abcdefghijk-l`<br>\n",
    "$T$: `abcd--ghi-kjl`\n"
   ]
  },
  {
   "attachments": {},
   "cell_type": "markdown",
   "metadata": {
    "slideshow": {
     "slide_type": "fragment"
    }
   },
   "source": [
    "\n",
    "We have 3 deletions and 1 insertion for a total of 4 edits.\n"
   ]
  },
  {
   "attachments": {},
   "cell_type": "markdown",
   "metadata": {
    "slideshow": {
     "slide_type": "fragment"
    }
   },
   "source": [
    "\n",
    "Our goal is to compute the **minimum edit distance** between two strings $S$ and $T$ of lengths $m$ and $n$, respectively.\n",
    "\n",
    "\n"
   ]
  },
  {
   "attachments": {},
   "cell_type": "markdown",
   "metadata": {
    "slideshow": {
     "slide_type": "slide"
    }
   },
   "source": [
    "# Greedy Solution?\n",
    "\n",
    "Suppose we had the following two strings\n",
    "\n",
    "<br>\n",
    "$S=$`relevant`\n",
    "\n",
    "$T=$`elephant`\n",
    "\n",
    "and suppose we had a greedy choice: \n"
   ]
  },
  {
   "attachments": {},
   "cell_type": "markdown",
   "metadata": {
    "slideshow": {
     "slide_type": "fragment"
    }
   },
   "source": [
    "**If the characters match, do nothing, else insert into $S$**.\n"
   ]
  },
  {
   "attachments": {},
   "cell_type": "markdown",
   "metadata": {
    "slideshow": {
     "slide_type": "fragment"
    }
   },
   "source": [
    "<br>\n",
    "$S=$`--------relevant`\n",
    "\n",
    "$T=$`elephant`\n",
    "\n",
    "Clearly not ideal, need to follow it up to delete all extra characters in $S$ past the end of $T$. \n"
   ]
  },
  {
   "attachments": {},
   "cell_type": "markdown",
   "metadata": {
    "slideshow": {
     "slide_type": "fragment"
    }
   },
   "source": [
    "\n",
    "Runtime: S+T, literally the worst!\n"
   ]
  },
  {
   "attachments": {},
   "cell_type": "markdown",
   "metadata": {
    "slideshow": {
     "slide_type": "fragment"
    }
   },
   "source": [
    "Greedy choice 2: \n",
    "**If the characters match, do nothing, else delete from $S$**.\n"
   ]
  },
  {
   "attachments": {},
   "cell_type": "markdown",
   "metadata": {
    "slideshow": {
     "slide_type": "fragment"
    }
   },
   "source": [
    "<br>\n",
    "$S=$`relevant`\n",
    "\n",
    "$T=$`-ele----phant`\n",
    "\n",
    "Also not ideal."
   ]
  },
  {
   "attachments": {},
   "cell_type": "markdown",
   "metadata": {
    "slideshow": {
     "slide_type": "subslide"
    }
   },
   "source": [
    "\n",
    "### Why isn't greedy working?\n"
   ]
  },
  {
   "attachments": {},
   "cell_type": "markdown",
   "metadata": {
    "slideshow": {
     "slide_type": "fragment"
    }
   },
   "source": [
    "\n",
    "The choice we make at any particular position should depend on how it effects the rest of the problem. \n"
   ]
  },
  {
   "attachments": {},
   "cell_type": "markdown",
   "metadata": {
    "slideshow": {
     "slide_type": "fragment"
    }
   },
   "source": [
    "\n",
    "We should examine both options, delete and insert, to decide what to do with respect to how that choice affects everything after.\n"
   ]
  },
  {
   "attachments": {},
   "cell_type": "markdown",
   "metadata": {
    "slideshow": {
     "slide_type": "fragment"
    }
   },
   "source": [
    "\n",
    "Here is an optimal set of edits for \"relevant elephant\"\n",
    "\n",
    "$S=$`relev--ant`<br>\n",
    "$T=$`-ele-phant`"
   ]
  },
  {
   "attachments": {},
   "cell_type": "markdown",
   "metadata": {
    "slideshow": {
     "slide_type": "slide"
    }
   },
   "source": [
    "## Optimal substructure?\n",
    "\n",
    "Let's use case-based reasoning about the optimal solution as we did for Knapsack. \n",
    "\n",
    "Let $\\mathit{MED}(S, T)$ be the optimal number of edits between $S$ and $T$. \n",
    "\n",
    "In an optimal sequence of edits, how would we deal with the first two characters of $S$ and $T$, respectively?\n",
    "\n",
    "**Three cases:**\n",
    "\n",
    "$~~$ 1) $~~S$ or $T$ is empty\n",
    "\n",
    "$~~$ 2) $~~S[0]=T[0]$\n",
    "\n",
    "$~~$ 3) $~~S[0] \\neq T[0]$\n"
   ]
  },
  {
   "attachments": {},
   "cell_type": "markdown",
   "metadata": {
    "slideshow": {
     "slide_type": "subslide"
    }
   },
   "source": [
    "### 1) $S$ or $T$ is empty\n",
    "\n",
    "If $S$ is empty and $T$ is not, what is the edit cost?  \n",
    "\n",
    "S=`''`<br>\n",
    "T=`'abcde'`\n"
   ]
  },
  {
   "attachments": {},
   "cell_type": "markdown",
   "metadata": {
    "slideshow": {
     "slide_type": "fragment"
    }
   },
   "source": [
    "\n",
    "If either string is empty, then the edit cost is simply the length of the other string.\n"
   ]
  },
  {
   "attachments": {},
   "cell_type": "markdown",
   "metadata": {
    "slideshow": {
     "slide_type": "fragment"
    }
   },
   "source": [
    "\n",
    "<br>\n",
    "\n",
    "### 2) $S[0] = T[0]$ \n",
    "\n",
    "S=`'abc'`<br>\n",
    "T=`'ade'`\n"
   ]
  },
  {
   "attachments": {},
   "cell_type": "markdown",
   "metadata": {
    "slideshow": {
     "slide_type": "fragment"
    }
   },
   "source": [
    "\n",
    "There is no benefit to editing position $0$. The edit distance is the edit distance of the tails of these strings.\n"
   ]
  },
  {
   "attachments": {},
   "cell_type": "markdown",
   "metadata": {
    "slideshow": {
     "slide_type": "fragment"
    }
   },
   "source": [
    "\n",
    "$\\mathit{MED}(S, T) = \\mathit{MED}(S[1:], T[1:])$\n",
    "\n",
    "e.g, \n",
    "\n",
    "$\\mathit{MED}(S, T) = \\mathit{MED}($`'bc'`$, $`'de'`$)$. \n"
   ]
  },
  {
   "attachments": {},
   "cell_type": "markdown",
   "metadata": {
    "slideshow": {
     "slide_type": "subslide"
    }
   },
   "source": [
    "\n",
    "### 3) $S[0] \\neq T[0]$\n",
    "\n",
    "S=`'abc'`<br>\n",
    "T=`'bde'`\n",
    "\n",
    "We must either perform a deletion or insertion, whichever is less costly"
   ]
  },
  {
   "attachments": {},
   "cell_type": "markdown",
   "metadata": {
    "slideshow": {
     "slide_type": "fragment"
    }
   },
   "source": [
    "**Deleting from $S$**. The cost is 1 (the cost of the deletion) plus the $\\mathit{MED}$ of the tail of $S$ with all of $T$.\n",
    "\n",
    "S=`'abc'`<br>\n",
    "T=`'-bde'`\n",
    "\n",
    "$\\mathit{MED}(S, T) = 1+\\mathit{MED}($`'bc'`,`'bde'`$)$ \n",
    "\n",
    "$\\mathit{MED}(S, T) = 1+\\mathit{MED}(S[1:], T)$  \n"
   ]
  },
  {
   "attachments": {},
   "cell_type": "markdown",
   "metadata": {
    "slideshow": {
     "slide_type": "fragment"
    }
   },
   "source": [
    "**Inserting into $S$**. If we insert into $S$, we have to match up all of $S$, which still remains, with the tail of T since we've ensured its first character matches.\n",
    "\n",
    "S=`'-abc'`<br>\n",
    "T=`'bde'`\n",
    "\n",
    "$\\mathit{MED}(S, T) = 1+\\mathit{MED}($`'abc'`,`'de'`$)$;\n",
    "$\\mathit{MED}(S, T) = 1+\\mathit{MED}(S, T[1:])$  "
   ]
  },
  {
   "attachments": {},
   "cell_type": "markdown",
   "metadata": {
    "slideshow": {
     "slide_type": "slide"
    }
   },
   "source": [
    "## Optimal Substructure\n",
    "\n",
    "**Optimal Substructure for Edit Distance**: Let $S$ and $T$ be strings of length $m$ and $n$. Then,\n",
    "\n",
    "$$\n",
    "\\mathit{MED}(S, T) = \n",
    "\\begin{cases}\n",
    "\\mathit{MED}(S[1:], T[1:]), ~~~~~~~~~~~~~~~~~~~~~~~~~~~~~~~~~~~~~~~~~~~~\\texttt{if}~~S[0]=T[0] \\\\\n",
    "1+\\min\\{\\mathit{MED}(S[1:], T),\\mathit{MED}(S, T[1:])\\}, ~~~~~\\texttt{otherwise} \\\\\n",
    "\\end{cases}\n",
    "$$\n",
    "\n",
    "<br>\n"
   ]
  },
  {
   "attachments": {},
   "cell_type": "markdown",
   "metadata": {
    "slideshow": {
     "slide_type": "subslide"
    }
   },
   "source": [
    "### Problem Size\n",
    "\n",
    "Just as with Knapsack, this recursion tree for this recurrence yields an exponential number of nodes. How many nodes are there, and what is the depth? "
   ]
  },
  {
   "attachments": {},
   "cell_type": "markdown",
   "metadata": {
    "slideshow": {
     "slide_type": "fragment"
    }
   },
   "source": [
    "The recursion tree has $O(2^{m+n})$ nodes and depth $O(m+n)$. Are there shared subproblems?\n",
    "\n",
    "For $S$=`ABC` and $T$=`DBC` we have the following DAG:\n",
    "\n",
    "<img src=\"figures/edit_distance_dag.jpg\" width=\"80%\">\n",
    "\n",
    "How much sharing is possible? In other words, how many distinct subproblems are there?"
   ]
  },
  {
   "attachments": {},
   "cell_type": "markdown",
   "metadata": {
    "slideshow": {
     "slide_type": "subslide"
    }
   },
   "source": [
    "<img src=\"figures/edit_distance_dag.jpg\" width=\"80%\">\n",
    "\n",
    "In any recursive call, the subproblems we consider consist of strings with one less character. So there are $O(mn)$ subproblems, each of which can each be computed in $O(1)$ time. The longest path in the recursion DAG is $O(m+n)$.\n"
   ]
  },
  {
   "attachments": {},
   "cell_type": "markdown",
   "metadata": {
    "slideshow": {
     "slide_type": "slide"
    }
   },
   "source": [
    "## Implementation: Top-down w/out memoization "
   ]
  },
  {
   "cell_type": "code",
   "execution_count": 3,
   "metadata": {},
   "outputs": [
    {
     "name": "stdout",
     "output_type": "stream",
     "text": [
      "4\n"
     ]
    }
   ],
   "source": [
    "def MED(S, T):\n",
    "    #print(\"S:%s, T:%s\" % (S, T))\n",
    "    if (S == \"\"):\n",
    "        return(len(T))\n",
    "    elif (T == \"\"):\n",
    "        return(len(S))\n",
    "    else:\n",
    "        if (S[0] == T[0]):\n",
    "            return(MED(S[1:], T[1:]))\n",
    "        else:\n",
    "            return(1 + min(MED(S, T[1:]), MED(S[1:], T)))\n",
    "        \n",
    "S= 'abcdefghijkl'\n",
    "T= 'abcdghikjl'\n",
    "#   abcdefghijk-l\n",
    "#   abcd--ghi-kjl\n",
    "print(MED(S, T))"
   ]
  },
  {
   "cell_type": "code",
   "execution_count": 4,
   "metadata": {
    "slideshow": {
     "slide_type": "fragment"
    }
   },
   "outputs": [
    {
     "name": "stdout",
     "output_type": "stream",
     "text": [
      "4\n"
     ]
    }
   ],
   "source": [
    "S = 'relevant'\n",
    "T = 'elephant'\n",
    "#    relev--ant\n",
    "#    -ele-phant\n",
    "print(MED(S, T))"
   ]
  },
  {
   "attachments": {},
   "cell_type": "markdown",
   "metadata": {
    "slideshow": {
     "slide_type": "slide"
    }
   },
   "source": [
    "## Solving MED using a Bottom-Up Approach\n",
    "\n",
    "As we did for knapsack, we can use a table to calculate and store solutions to subproblems.\n",
    "\n"
   ]
  },
  {
   "attachments": {},
   "cell_type": "markdown",
   "metadata": {},
   "source": [
    "<style type=\"text/css\">\n",
    ".tg  {border-collapse:collapse;border-spacing:0;}\n",
    ".tg td{border-color:black;border-style:solid;border-width:1px;font-family:Arial, sans-serif;font-size:14px;\n",
    "  overflow:hidden;padding:9px 16px;word-break:normal;}\n",
    ".tg th{border-color:black;border-style:solid;border-width:1px;font-family:Arial, sans-serif;font-size:14px;\n",
    "  font-weight:normal;overflow:hidden;padding:9px 16px;word-break:normal;}\n",
    ".tg .tg-0alu{border-color:#ffffff;color:#036400;font-size:20px;font-style:italic;text-align:center;vertical-align:middle;writing-mode:vertical-lr;transform:rotate(-90deg);}\n",
    ".tg .tg-trnk{border-color:#ffffff;color:#cb0000;font-size:20px;font-style:italic;text-align:center;vertical-align:middle}\n",
    ".tg .tg-re03{border-color:#000000;font-size:20px;text-align:left;vertical-align:middle}\n",
    ".tg .tg-d999{border-color:#ffffff;font-size:20px;text-align:left;vertical-align:middle}\n",
    ".tg .tg-1e1z{border-color:#c0c0c0;font-size:20px;font-weight:bold;text-align:left;vertical-align:middle}\n",
    "</style>\n",
    "<table class=\"tg\">\n",
    "<thead>\n",
    "  <tr>\n",
    "    <th class=\"tg-d999\"></th>\n",
    "    <th class=\"tg-trnk\" colspan=\"8\">Cost to Delete</th>\n",
    "  </tr>\n",
    "</thead>\n",
    "<tbody>\n",
    "  <tr>\n",
    "    <td class=\"tg-0alu\" rowspan=\"9\">Cost to Insert</td>\n",
    "    <td class=\"tg-1e1z\"></td>\n",
    "    <td class=\"tg-1e1z\">''</td>\n",
    "    <td class=\"tg-1e1z\">k</td>\n",
    "    <td class=\"tg-1e1z\">i</td>\n",
    "    <td class=\"tg-1e1z\">t</td>\n",
    "    <td class=\"tg-1e1z\">t</td>\n",
    "    <td class=\"tg-1e1z\">e</td>\n",
    "    <td class=\"tg-1e1z\">n</td>\n",
    "  </tr>\n",
    "  <tr>\n",
    "    <td class=\"tg-1e1z\">''</td>\n",
    "    <td class=\"tg-re03\"></td>\n",
    "    <td class=\"tg-re03\"></td>\n",
    "    <td class=\"tg-re03\"></td>\n",
    "    <td class=\"tg-re03\"></td>\n",
    "    <td class=\"tg-re03\"></td>\n",
    "    <td class=\"tg-re03\"></td>\n",
    "    <td class=\"tg-re03\"></td>\n",
    "  </tr>\n",
    "  <tr>\n",
    "    <td class=\"tg-1e1z\">s</td>\n",
    "    <td class=\"tg-re03\"></td>\n",
    "    <td class=\"tg-re03\"></td>\n",
    "    <td class=\"tg-re03\"></td>\n",
    "    <td class=\"tg-re03\"></td>\n",
    "    <td class=\"tg-re03\"></td>\n",
    "    <td class=\"tg-re03\"></td>\n",
    "    <td class=\"tg-re03\"></td>\n",
    "  </tr>\n",
    "  <tr>\n",
    "    <td class=\"tg-1e1z\">i</td>\n",
    "    <td class=\"tg-re03\"></td>\n",
    "    <td class=\"tg-re03\"></td>\n",
    "    <td class=\"tg-re03\"></td>\n",
    "    <td class=\"tg-re03\"></td>\n",
    "    <td class=\"tg-re03\"></td>\n",
    "    <td class=\"tg-re03\"></td>\n",
    "    <td class=\"tg-re03\"></td>\n",
    "  </tr>\n",
    "  <tr>\n",
    "    <td class=\"tg-1e1z\">t</td>\n",
    "    <td class=\"tg-re03\"></td>\n",
    "    <td class=\"tg-re03\"></td>\n",
    "    <td class=\"tg-re03\"></td>\n",
    "    <td class=\"tg-re03\"></td>\n",
    "    <td class=\"tg-re03\"></td>\n",
    "    <td class=\"tg-re03\"></td>\n",
    "    <td class=\"tg-re03\"></td>\n",
    "  </tr>\n",
    "  <tr>\n",
    "    <td class=\"tg-1e1z\">t</td>\n",
    "    <td class=\"tg-re03\"></td>\n",
    "    <td class=\"tg-re03\"></td>\n",
    "    <td class=\"tg-re03\"></td>\n",
    "    <td class=\"tg-re03\"></td>\n",
    "    <td class=\"tg-re03\"></td>\n",
    "    <td class=\"tg-re03\"></td>\n",
    "    <td class=\"tg-re03\"></td>\n",
    "  </tr>\n",
    "  <tr>\n",
    "    <td class=\"tg-1e1z\">i</td>\n",
    "    <td class=\"tg-re03\"></td>\n",
    "    <td class=\"tg-re03\"></td>\n",
    "    <td class=\"tg-re03\"></td>\n",
    "    <td class=\"tg-re03\"></td>\n",
    "    <td class=\"tg-re03\"></td>\n",
    "    <td class=\"tg-re03\"></td>\n",
    "    <td class=\"tg-re03\"></td>\n",
    "  </tr>\n",
    "  <tr>\n",
    "    <td class=\"tg-1e1z\">n</td>\n",
    "    <td class=\"tg-re03\"></td>\n",
    "    <td class=\"tg-re03\"></td>\n",
    "    <td class=\"tg-re03\"></td>\n",
    "    <td class=\"tg-re03\"></td>\n",
    "    <td class=\"tg-re03\"></td>\n",
    "    <td class=\"tg-re03\"></td>\n",
    "    <td class=\"tg-re03\"></td>\n",
    "  </tr>\n",
    "  <tr>\n",
    "    <td class=\"tg-1e1z\">g</td>\n",
    "    <td class=\"tg-re03\"></td>\n",
    "    <td class=\"tg-re03\"></td>\n",
    "    <td class=\"tg-re03\"></td>\n",
    "    <td class=\"tg-re03\"></td>\n",
    "    <td class=\"tg-re03\"></td>\n",
    "    <td class=\"tg-re03\"></td>\n",
    "    <td class=\"tg-re03\"></td>\n",
    "  </tr>\n",
    "</tbody>\n",
    "</table>"
   ]
  },
  {
   "attachments": {},
   "cell_type": "markdown",
   "metadata": {
    "slideshow": {
     "slide_type": "subslide"
    }
   },
   "source": [
    "<br>\n",
    "\n",
    "We fill in the values in the first row to give the cost of deleting characters from `'kitten'` to match the empty string `''` to the left.\n"
   ]
  },
  {
   "attachments": {},
   "cell_type": "markdown",
   "metadata": {},
   "source": [
    "<style type=\"text/css\">\n",
    "    .tg  {border-collapse:collapse;border-spacing:0;}\n",
    ".tg td{border-color:black;border-style:solid;border-width:1px;font-family:Arial, sans-serif;font-size:14px;\n",
    "  overflow:hidden;padding:9px 16px;word-break:normal;}\n",
    ".tg th{border-color:black;border-style:solid;border-width:1px;font-family:Arial, sans-serif;font-size:14px;\n",
    "  font-weight:normal;overflow:hidden;padding:9px 16px;word-break:normal;}\n",
    ".tg .tg-0alu{border-color:#ffffff;color:#036400;font-size:20px;font-style:italic;text-align:center;vertical-align:middle;writing-mode:vertical-lr;transform:rotate(-90deg);}\n",
    ".tg .tg-trnk{border-color:#ffffff;color:#cb0000;font-size:20px;font-style:italic;text-align:center;vertical-align:middle}\n",
    ".tg .tg-re03{border-color:#000000;font-size:20px;text-align:left;vertical-align:middle}\n",
    ".tg .tg-d999{border-color:#ffffff;font-size:20px;text-align:left;vertical-align:middle}\n",
    ".tg .tg-1e1z{border-color:#c0c0c0;font-size:20px;font-weight:bold;text-align:left;vertical-align:middle}\n",
    "\n",
    "</style>\n",
    "<table class=\"tg\">\n",
    "<thead>\n",
    "  <tr>\n",
    "    <th class=\"tg-d999\"></th>\n",
    "    <th class=\"tg-trnk\" colspan=\"8\">Cost to Delete</th>\n",
    "  </tr>\n",
    "</thead>\n",
    "<tbody>\n",
    "  <tr>\n",
    "    <td class=\"tg-0alu\" rowspan=\"9\">Cost to Insert</td>\n",
    "    <td class=\"tg-1e1z\"></td>\n",
    "    <td class=\"tg-1e1z\">''</td>\n",
    "    <td class=\"tg-1e1z\">k</td>\n",
    "    <td class=\"tg-1e1z\">i</td>\n",
    "    <td class=\"tg-1e1z\">t</td>\n",
    "    <td class=\"tg-1e1z\">t</td>\n",
    "    <td class=\"tg-1e1z\">e</td>\n",
    "    <td class=\"tg-1e1z\">n</td>\n",
    "  </tr>\n",
    "  <tr>\n",
    "    <td class=\"tg-1e1z\">''</td>\n",
    "    <td class=\"tg-re02\">0</td>\n",
    "    <td class=\"tg-re06\">1</td>\n",
    "    <td class=\"tg-re06\">2</td>\n",
    "    <td class=\"tg-re06\">3</td>\n",
    "    <td class=\"tg-re06\">4</td>\n",
    "    <td class=\"tg-re06\">5</td>\n",
    "    <td class=\"tg-re06\">6</td>\n",
    "  </tr>\n",
    "  <tr>\n",
    "    <td class=\"tg-1e1z\">s</td>\n",
    "    <td class=\"tg-re03\"></td>\n",
    "    <td class=\"tg-re03\"></td>\n",
    "    <td class=\"tg-re03\"></td>\n",
    "    <td class=\"tg-re03\"></td>\n",
    "    <td class=\"tg-re03\"></td>\n",
    "    <td class=\"tg-re03\"></td>\n",
    "    <td class=\"tg-re03\"></td>\n",
    "  </tr>\n",
    "  <tr>\n",
    "    <td class=\"tg-1e1z\">i</td>\n",
    "    <td class=\"tg-re03\"></td>\n",
    "    <td class=\"tg-re03\"></td>\n",
    "    <td class=\"tg-re03\"></td>\n",
    "    <td class=\"tg-re03\"></td>\n",
    "    <td class=\"tg-re03\"></td>\n",
    "    <td class=\"tg-re03\"></td>\n",
    "    <td class=\"tg-re03\"></td>\n",
    "  </tr>\n",
    "  <tr>\n",
    "    <td class=\"tg-1e1z\">t</td>\n",
    "    <td class=\"tg-re03\"></td>\n",
    "    <td class=\"tg-re03\"></td>\n",
    "    <td class=\"tg-re03\"></td>\n",
    "    <td class=\"tg-re03\"></td>\n",
    "    <td class=\"tg-re03\"></td>\n",
    "    <td class=\"tg-re03\"></td>\n",
    "    <td class=\"tg-re03\"></td>\n",
    "  </tr>\n",
    "  <tr>\n",
    "    <td class=\"tg-1e1z\">t</td>\n",
    "    <td class=\"tg-re03\"></td>\n",
    "    <td class=\"tg-re03\"></td>\n",
    "    <td class=\"tg-re03\"></td>\n",
    "    <td class=\"tg-re03\"></td>\n",
    "    <td class=\"tg-re03\"></td>\n",
    "    <td class=\"tg-re03\"></td>\n",
    "    <td class=\"tg-re03\"></td>\n",
    "  </tr>\n",
    "  <tr>\n",
    "    <td class=\"tg-1e1z\">i</td>\n",
    "    <td class=\"tg-re03\"></td>\n",
    "    <td class=\"tg-re03\"></td>\n",
    "    <td class=\"tg-re03\"></td>\n",
    "    <td class=\"tg-re03\"></td>\n",
    "    <td class=\"tg-re03\"></td>\n",
    "    <td class=\"tg-re03\"></td>\n",
    "    <td class=\"tg-re03\"></td>\n",
    "  </tr>\n",
    "  <tr>\n",
    "    <td class=\"tg-1e1z\">n</td>\n",
    "    <td class=\"tg-re03\"></td>\n",
    "    <td class=\"tg-re03\"></td>\n",
    "    <td class=\"tg-re03\"></td>\n",
    "    <td class=\"tg-re03\"></td>\n",
    "    <td class=\"tg-re03\"></td>\n",
    "    <td class=\"tg-re03\"></td>\n",
    "    <td class=\"tg-re03\"></td>\n",
    "  </tr>\n",
    "  <tr>\n",
    "    <td class=\"tg-1e1z\">g</td>\n",
    "    <td class=\"tg-re03\"></td>\n",
    "    <td class=\"tg-re03\"></td>\n",
    "    <td class=\"tg-re03\"></td>\n",
    "    <td class=\"tg-re03\"></td>\n",
    "    <td class=\"tg-re03\"></td>\n",
    "    <td class=\"tg-re03\"></td>\n",
    "    <td class=\"tg-re03\"></td>\n",
    "  </tr>\n",
    "</tbody>\n",
    "</table>"
   ]
  },
  {
   "attachments": {},
   "cell_type": "markdown",
   "metadata": {
    "slideshow": {
     "slide_type": "subslide"
    }
   },
   "source": [
    "\n",
    "We fill in the values in the first column to give the cost of inserting characters from `'sitting'` to match the empty string above."
   ]
  },
  {
   "attachments": {},
   "cell_type": "markdown",
   "metadata": {},
   "source": [
    "<style type=\"text/css\">\n",
    ".tg  {border-collapse:collapse;border-spacing:0;}\n",
    ".tg td{border-color:black;border-style:solid;border-width:1px;font-family:Arial, sans-serif;font-size:14px;\n",
    "  overflow:hidden;padding:9px 16px;word-break:normal;}\n",
    ".tg th{border-color:black;border-style:solid;border-width:1px;font-family:Arial, sans-serif;font-size:14px;\n",
    "  font-weight:normal;overflow:hidden;padding:9px 16px;word-break:normal;}\n",
    ".tg .tg-0alu{border-color:#ffffff;color:#036400;font-size:20px;font-style:italic;text-align:center;vertical-align:middle;writing-mode:vertical-lr;transform:rotate(-90deg);}\n",
    ".tg .tg-trnk{border-color:#ffffff;color:#cb0000;font-size:20px;font-style:italic;text-align:center;vertical-align:middle}\n",
    ".tg .tg-re03{border-color:#000000;font-size:20px;text-align:left;vertical-align:middle}\n",
    ".tg .tg-d999{border-color:#ffffff;font-size:20px;text-align:left;vertical-align:middle}\n",
    ".tg .tg-1e1z{border-color:#c0c0c0;font-size:20px;font-weight:bold;text-align:left;vertical-align:middle}\n",
    "</style>\n",
    "<table class=\"tg\">\n",
    "<thead>\n",
    "  <tr>\n",
    "    <th class=\"tg-d999\"></th>\n",
    "    <th class=\"tg-trnk\" colspan=\"8\">Cost to Delete</th>\n",
    "  </tr>\n",
    "</thead>\n",
    "<tbody>\n",
    "  <tr>\n",
    "    <td class=\"tg-0alu\" rowspan=\"9\">Cost to Insert</td>\n",
    "    <td class=\"tg-1e1z\"></td>\n",
    "    <td class=\"tg-1e1z\">''</td>\n",
    "    <td class=\"tg-1e1z\">k</td>\n",
    "    <td class=\"tg-1e1z\">i</td>\n",
    "    <td class=\"tg-1e1z\">t</td>\n",
    "    <td class=\"tg-1e1z\">t</td>\n",
    "    <td class=\"tg-1e1z\">e</td>\n",
    "    <td class=\"tg-1e1z\">n</td>\n",
    "  </tr>\n",
    "  <tr>\n",
    "    <td class=\"tg-1e1z\">''</td>\n",
    "    <td class=\"tg-re02\">0</td>\n",
    "    <td class=\"tg-re03\">1</td>\n",
    "    <td class=\"tg-re03\">2</td>\n",
    "    <td class=\"tg-re03\">3</td>\n",
    "    <td class=\"tg-re03\">4</td>\n",
    "    <td class=\"tg-re03\">5</td>\n",
    "    <td class=\"tg-re03\">6</td>\n",
    "  </tr>\n",
    "  <tr>\n",
    "    <td class=\"tg-1e1z\">s</td>\n",
    "    <td class=\"tg-re07\">1</td>\n",
    "    <td class=\"tg-re03\"></td>\n",
    "    <td class=\"tg-re03\"></td>\n",
    "    <td class=\"tg-re03\"></td>\n",
    "    <td class=\"tg-re03\"></td>\n",
    "    <td class=\"tg-re03\"></td>\n",
    "    <td class=\"tg-re03\"></td>\n",
    "  </tr>\n",
    "  <tr>\n",
    "    <td class=\"tg-1e1z\">i</td>\n",
    "    <td class=\"tg-re07\">2</td>\n",
    "    <td class=\"tg-re03\"></td>\n",
    "    <td class=\"tg-re03\"></td>\n",
    "    <td class=\"tg-re03\"></td>\n",
    "    <td class=\"tg-re03\"></td>\n",
    "    <td class=\"tg-re03\"></td>\n",
    "    <td class=\"tg-re03\"></td>\n",
    "  </tr>\n",
    "  <tr>\n",
    "    <td class=\"tg-1e1z\">t</td>\n",
    "    <td class=\"tg-re07\">3</td>\n",
    "    <td class=\"tg-re03\"></td>\n",
    "    <td class=\"tg-re03\"></td>\n",
    "    <td class=\"tg-re03\"></td>\n",
    "    <td class=\"tg-re03\"></td>\n",
    "    <td class=\"tg-re03\"></td>\n",
    "    <td class=\"tg-re03\"></td>\n",
    "  </tr>\n",
    "  <tr>\n",
    "    <td class=\"tg-1e1z\">t</td>\n",
    "    <td class=\"tg-re07\">4</td>\n",
    "    <td class=\"tg-re03\"></td>\n",
    "    <td class=\"tg-re03\"></td>\n",
    "    <td class=\"tg-re03\"></td>\n",
    "    <td class=\"tg-re03\"></td>\n",
    "    <td class=\"tg-re03\"></td>\n",
    "    <td class=\"tg-re03\"></td>\n",
    "  </tr>\n",
    "  <tr>\n",
    "    <td class=\"tg-1e1z\">i</td>\n",
    "    <td class=\"tg-re07\">5</td>\n",
    "    <td class=\"tg-re03\"></td>\n",
    "    <td class=\"tg-re03\"></td>\n",
    "    <td class=\"tg-re03\"></td>\n",
    "    <td class=\"tg-re03\"></td>\n",
    "    <td class=\"tg-re03\"></td>\n",
    "    <td class=\"tg-re03\"></td>\n",
    "  </tr>\n",
    "  <tr>\n",
    "    <td class=\"tg-1e1z\">n</td>\n",
    "    <td class=\"tg-re07\">6</td>\n",
    "    <td class=\"tg-re03\"></td>\n",
    "    <td class=\"tg-re03\"></td>\n",
    "    <td class=\"tg-re03\"></td>\n",
    "    <td class=\"tg-re03\"></td>\n",
    "    <td class=\"tg-re03\"></td>\n",
    "    <td class=\"tg-re03\"></td>\n",
    "  </tr>\n",
    "  <tr>\n",
    "    <td class=\"tg-1e1z\">g</td>\n",
    "    <td class=\"tg-re07\">7</td>\n",
    "    <td class=\"tg-re03\"></td>\n",
    "    <td class=\"tg-re03\"></td>\n",
    "    <td class=\"tg-re03\"></td>\n",
    "    <td class=\"tg-re03\"></td>\n",
    "    <td class=\"tg-re03\"></td>\n",
    "    <td class=\"tg-re03\"></td>\n",
    "  </tr>\n",
    "</tbody>\n",
    "</table>"
   ]
  },
  {
   "attachments": {},
   "cell_type": "markdown",
   "metadata": {
    "slideshow": {
     "slide_type": "subslide"
    }
   },
   "source": [
    "We fill in the rest using our recurrence:\n",
    "\n",
    "$$\n",
    "\\mathit{MED}(S, T) = \n",
    "\\begin{cases}\n",
    "\\mathit{MED}(S[1:], T[1:]), ~~~~~~~~~~~~~~~~~~~~~~~~~~~~~~~~~~~~~~~~~~~~\\texttt{if}~~S[0]=T[0] \\\\\n",
    "1+\\min\\{\\mathit{MED}(S[1:], T),\\mathit{MED}(S, T[1:])\\}, ~~~~~\\texttt{otherwise} \\\\\n",
    "\\end{cases}\n",
    "$$"
   ]
  },
  {
   "attachments": {},
   "cell_type": "markdown",
   "metadata": {},
   "source": [
    "<style type=\"text/css\">\n",
    ".tg .tg-6zma{border-color:#000000;color:#f56b00;font-size:20px;font-weight:bold;text-align:left;vertical-align:middle}\n",
    ".tg .tg-409p{border-color:#ffffff;color:#cb0000;font-size:20px;font-style:italic;text-align:center;vertical-align:middle}\n",
    ".tg .tg-1um3{border-color:#ffffff;color:#036400;font-size:20px;font-style:italic;text-align:center;vertical-align:middle;writing-mode:vertical-lr;transform:rotate(-90deg);}\n",
    ".tg .tg-re03{border-color:#000000;font-size:20px;text-align:left;vertical-align:middle}\n",
    ".tg .tg-re08{border-color:#000000;color:#000000;font-size:20px;font-weight:bold;text-align:left;vertical-align:middle}\n",
    ".tg .tg-re09{border-color:#000000;color:#f56b00;font-size:20px;font-weight:bold;text-align:left;vertical-align:middle}\n",
    ".tg .tg-d999{border-color:#ffffff;font-size:20px;text-align:left;vertical-align:middle}\n",
    ".tg .tg-1e1z{border-color:#c0c0c0;font-size:20px;font-weight:bold;text-align:left;vertical-align:middle}\n",
    ".tg .tg-6j81{border-color:#000000;color:#cb0000;font-size:20px;font-weight:bold;text-align:left;vertical-align:middle;text-decoration:underline;}\n",
    ".tg .tg-4qyb{border-color:#000000;color:#036400;font-size:20px;font-weight:bold;text-align:left;vertical-align:middle;text-decoration:underline;}\n",
    "</style>\n",
    "<table class=\"tg\">\n",
    "<thead>\n",
    "  <tr>\n",
    "    <th class=\"tg-d999\"></th>\n",
    "    <th class=\"tg-409p\" colspan=\"8\">Cost to Delete</th>\n",
    "  </tr>\n",
    "</thead>\n",
    "<tbody>\n",
    "  <tr>\n",
    "    <td class=\"tg-1um3\" rowspan=\"9\">Cost to Insert</td>\n",
    "    <td class=\"tg-1e1z\"></td>\n",
    "    <td class=\"tg-1e1z\">''</td>\n",
    "    <td class=\"tg-1e1z\">k</td>\n",
    "    <td class=\"tg-1e1z\">i</td>\n",
    "    <td class=\"tg-1e1z\">t</td>\n",
    "    <td class=\"tg-1e1z\">t</td>\n",
    "    <td class=\"tg-1e1z\">e</td>\n",
    "    <td class=\"tg-1e1z\">n</td>\n",
    "  </tr>\n",
    "  <tr>\n",
    "    <td class=\"tg-1e1z\">''</td>\n",
    "    <td class=\"tg-re09\">0</td>\n",
    "    <td class=\"tg-6j81\">1</td>\n",
    "    <td class=\"tg-re03\">2</td>\n",
    "    <td class=\"tg-re03\">3</td>\n",
    "    <td class=\"tg-re03\">4</td>\n",
    "    <td class=\"tg-re03\">5</td>\n",
    "    <td class=\"tg-re03\">6</td>\n",
    "  </tr>\n",
    "  <tr>\n",
    "    <td class=\"tg-1e1z\">s</td>\n",
    "    <td class=\"tg-4qyb\">1</td>\n",
    "    <td class=\"tg-re08\">2</td>\n",
    "    <td class=\"tg-re03\"></td>\n",
    "    <td class=\"tg-re03\"></td>\n",
    "    <td class=\"tg-re03\"></td>\n",
    "    <td class=\"tg-re03\"></td>\n",
    "    <td class=\"tg-re03\"></td>\n",
    "  </tr>\n",
    "  <tr>\n",
    "    <td class=\"tg-1e1z\">i</td>\n",
    "    <td class=\"tg-re03\">2</td>\n",
    "    <td class=\"tg-re03\"></td>\n",
    "    <td class=\"tg-re03\"></td>\n",
    "    <td class=\"tg-re03\"></td>\n",
    "    <td class=\"tg-re03\"></td>\n",
    "    <td class=\"tg-re03\"></td>\n",
    "    <td class=\"tg-re03\"></td>\n",
    "  </tr>\n",
    "  <tr>\n",
    "    <td class=\"tg-1e1z\">t</td>\n",
    "    <td class=\"tg-re03\">3</td>\n",
    "    <td class=\"tg-re03\"></td>\n",
    "    <td class=\"tg-re03\"></td>\n",
    "    <td class=\"tg-re03\"></td>\n",
    "    <td class=\"tg-re03\"></td>\n",
    "    <td class=\"tg-re03\"></td>\n",
    "    <td class=\"tg-re03\"></td>\n",
    "  </tr>\n",
    "  <tr>\n",
    "    <td class=\"tg-1e1z\">t</td>\n",
    "    <td class=\"tg-re03\">4</td>\n",
    "    <td class=\"tg-re03\"></td>\n",
    "    <td class=\"tg-re03\"></td>\n",
    "    <td class=\"tg-re03\"></td>\n",
    "    <td class=\"tg-re03\"></td>\n",
    "    <td class=\"tg-re03\"></td>\n",
    "    <td class=\"tg-re03\"></td>\n",
    "  </tr>\n",
    "  <tr>\n",
    "    <td class=\"tg-1e1z\">i</td>\n",
    "    <td class=\"tg-re03\">5</td>\n",
    "    <td class=\"tg-re03\"></td>\n",
    "    <td class=\"tg-re03\"></td>\n",
    "    <td class=\"tg-re03\"></td>\n",
    "    <td class=\"tg-re03\"></td>\n",
    "    <td class=\"tg-re03\"></td>\n",
    "    <td class=\"tg-re03\"></td>\n",
    "  </tr>\n",
    "  <tr>\n",
    "    <td class=\"tg-1e1z\">n</td>\n",
    "    <td class=\"tg-re03\">6</td>\n",
    "    <td class=\"tg-re03\"></td>\n",
    "    <td class=\"tg-re03\"></td>\n",
    "    <td class=\"tg-re03\"></td>\n",
    "    <td class=\"tg-re03\"></td>\n",
    "    <td class=\"tg-re03\"></td>\n",
    "    <td class=\"tg-re03\"></td>\n",
    "  </tr>\n",
    "  <tr>\n",
    "    <td class=\"tg-1e1z\">g</td>\n",
    "    <td class=\"tg-re03\">7</td>\n",
    "    <td class=\"tg-re03\"></td>\n",
    "    <td class=\"tg-re03\"></td>\n",
    "    <td class=\"tg-re03\"></td>\n",
    "    <td class=\"tg-re03\"></td>\n",
    "    <td class=\"tg-re03\"></td>\n",
    "    <td class=\"tg-re03\"></td>\n",
    "  </tr>\n",
    "</tbody>\n",
    "</table>"
   ]
  },
  {
   "attachments": {},
   "cell_type": "markdown",
   "metadata": {
    "slideshow": {
     "slide_type": "subslide"
    }
   },
   "source": [
    "<style type=\"text/css\">\n",
    "</style>\n",
    "<table class=\"tg\">\n",
    "<thead>\n",
    "  <tr>\n",
    "    <th class=\"tg-d999\"></th>\n",
    "    <th class=\"tg-409p\" colspan=\"8\">Cost to Delete</th>\n",
    "  </tr>\n",
    "</thead>\n",
    "<tbody>\n",
    "  <tr>\n",
    "    <td class=\"tg-1um3\" rowspan=\"9\">Cost to Insert</td>\n",
    "    <td class=\"tg-1e1z\"></td>\n",
    "    <td class=\"tg-1e1z\">''</td>\n",
    "    <td class=\"tg-1e1z\">k</td>\n",
    "    <td class=\"tg-1e1z\">i</td>\n",
    "    <td class=\"tg-1e1z\">t</td>\n",
    "    <td class=\"tg-1e1z\">t</td>\n",
    "    <td class=\"tg-1e1z\">e</td>\n",
    "    <td class=\"tg-1e1z\">n</td>\n",
    "  </tr>\n",
    "  <tr>\n",
    "    <td class=\"tg-1e1z\">''</td>\n",
    "    <td class=\"tg-ve0v\">0</td>\n",
    "    <td class=\"tg-ve0v\">1</td>\n",
    "    <td class=\"tg-re03\">2</td>\n",
    "    <td class=\"tg-re03\">3</td>\n",
    "    <td class=\"tg-re03\">4</td>\n",
    "    <td class=\"tg-re03\">5</td>\n",
    "    <td class=\"tg-re03\">6</td>\n",
    "  </tr>\n",
    "  <tr>\n",
    "    <td class=\"tg-1e1z\">s</td>\n",
    "    <td class=\"tg-ve0v\">1</td>\n",
    "    <td class=\"tg-xmct\">2</td>\n",
    "    <td class=\"tg-41fk\">3</td>\n",
    "    <td class=\"tg-re03\">4</td>\n",
    "    <td class=\"tg-re03\">5</td>\n",
    "    <td class=\"tg-re03\">6</td>\n",
    "    <td class=\"tg-re03\">7</td>\n",
    "  </tr>\n",
    "  <tr>\n",
    "    <td class=\"tg-1e1z\">i</td>\n",
    "    <td class=\"tg-re03\">2</td>\n",
    "    <td class=\"tg-295u\">3</td>\n",
    "    <td class=\"tg-re04\">2</td>\n",
    "    <td class=\"tg-re03\"></td>\n",
    "    <td class=\"tg-re03\"></td>\n",
    "    <td class=\"tg-re03\"></td>\n",
    "    <td class=\"tg-re03\"></td>\n",
    "  </tr>\n",
    "  <tr>\n",
    "    <td class=\"tg-1e1z\">t</td>\n",
    "    <td class=\"tg-re03\">3</td>\n",
    "    <td class=\"tg-re03\"></td>\n",
    "    <td class=\"tg-re03\"></td>\n",
    "    <td class=\"tg-re03\"></td>\n",
    "    <td class=\"tg-re03\"></td>\n",
    "    <td class=\"tg-re03\"></td>\n",
    "    <td class=\"tg-re03\"></td>\n",
    "  </tr>\n",
    "  <tr>\n",
    "    <td class=\"tg-1e1z\">t</td>\n",
    "    <td class=\"tg-re03\">4</td>\n",
    "    <td class=\"tg-re03\"></td>\n",
    "    <td class=\"tg-re03\"></td>\n",
    "    <td class=\"tg-re03\"></td>\n",
    "    <td class=\"tg-re03\"></td>\n",
    "    <td class=\"tg-re03\"></td>\n",
    "    <td class=\"tg-re03\"></td>\n",
    "  </tr>\n",
    "  <tr>\n",
    "    <td class=\"tg-1e1z\">i</td>\n",
    "    <td class=\"tg-re03\">5</td>\n",
    "    <td class=\"tg-re03\"></td>\n",
    "    <td class=\"tg-re03\"></td>\n",
    "    <td class=\"tg-re03\"></td>\n",
    "    <td class=\"tg-re03\"></td>\n",
    "    <td class=\"tg-re03\"></td>\n",
    "    <td class=\"tg-re03\"></td>\n",
    "  </tr>\n",
    "  <tr>\n",
    "    <td class=\"tg-1e1z\">n</td>\n",
    "    <td class=\"tg-re03\">6</td>\n",
    "    <td class=\"tg-re03\"></td>\n",
    "    <td class=\"tg-re03\"></td>\n",
    "    <td class=\"tg-re03\"></td>\n",
    "    <td class=\"tg-re03\"></td>\n",
    "    <td class=\"tg-re03\"></td>\n",
    "    <td class=\"tg-re03\"></td>\n",
    "  </tr>\n",
    "  <tr>\n",
    "    <td class=\"tg-1e1z\">g</td>\n",
    "    <td class=\"tg-re03\">7</td>\n",
    "    <td class=\"tg-re03\"></td>\n",
    "    <td class=\"tg-re03\"></td>\n",
    "    <td class=\"tg-re03\"></td>\n",
    "    <td class=\"tg-re03\"></td>\n",
    "    <td class=\"tg-re03\"></td>\n",
    "    <td class=\"tg-re03\"></td>\n",
    "  </tr>\n",
    "</tbody>\n",
    "</table>"
   ]
  },
  {
   "attachments": {},
   "cell_type": "markdown",
   "metadata": {
    "slideshow": {
     "slide_type": "subslide"
    }
   },
   "source": [
    "<style type=\"text/css\">\n",
    "</style>\n",
    "<table class=\"tg\">\n",
    "<thead>\n",
    "  <tr>\n",
    "    <th class=\"tg-d999\"></th>\n",
    "    <th class=\"tg-409p\" colspan=\"8\">Cost to Delete</th>\n",
    "  </tr>\n",
    "</thead>\n",
    "<tbody>\n",
    "  <tr>\n",
    "    <td class=\"tg-1um3\" rowspan=\"9\">Cost to Insert</td>\n",
    "    <td class=\"tg-1e1z\"></td>\n",
    "    <td class=\"tg-1e1z\">''</td>\n",
    "    <td class=\"tg-1e1z\">k</td>\n",
    "    <td class=\"tg-1e1z\">i</td>\n",
    "    <td class=\"tg-1e1z\">t</td>\n",
    "    <td class=\"tg-1e1z\">t</td>\n",
    "    <td class=\"tg-1e1z\">e</td>\n",
    "    <td class=\"tg-1e1z\">n</td>\n",
    "  </tr>\n",
    "  <tr>\n",
    "    <td class=\"tg-1e1z\">''</td>\n",
    "    <td class=\"tg-ve0v\">0</td>\n",
    "    <td class=\"tg-ve0v\">1</td>\n",
    "    <td class=\"tg-re03\">2</td>\n",
    "    <td class=\"tg-re03\">3</td>\n",
    "    <td class=\"tg-re03\">4</td>\n",
    "    <td class=\"tg-re03\">5</td>\n",
    "    <td class=\"tg-re03\">6</td>\n",
    "  </tr>\n",
    "  <tr>\n",
    "    <td class=\"tg-1e1z\">s</td>\n",
    "    <td class=\"tg-ve0v\">1</td>\n",
    "    <td class=\"tg-ve0v\">2</td>\n",
    "    <td class=\"tg-8xes\">3</td>\n",
    "    <td class=\"tg-41fk\">4</td>\n",
    "    <td class=\"tg-re03\">5</td>\n",
    "    <td class=\"tg-re03\">6</td>\n",
    "    <td class=\"tg-re03\">7</td>\n",
    "  </tr>\n",
    "  <tr>\n",
    "    <td class=\"tg-1e1z\">i</td>\n",
    "    <td class=\"tg-re03\">2</td>\n",
    "    <td class=\"tg-ve0v\">3</td>\n",
    "    <td class=\"tg-drif\">2</td>\n",
    "    <td class=\"tg-6zmb\">3</td>\n",
    "    <td class=\"tg-re03\"></td>\n",
    "    <td class=\"tg-re03\"></td>\n",
    "    <td class=\"tg-re03\"></td>\n",
    "  </tr>\n",
    "  <tr>\n",
    "    <td class=\"tg-1e1z\">t</td>\n",
    "    <td class=\"tg-re03\">3</td>\n",
    "    <td class=\"tg-re03\"></td>\n",
    "    <td class=\"tg-re03\"></td>\n",
    "    <td class=\"tg-re03\"></td>\n",
    "    <td class=\"tg-re03\"></td>\n",
    "    <td class=\"tg-re03\"></td>\n",
    "    <td class=\"tg-re03\"></td>\n",
    "  </tr>\n",
    "  <tr>\n",
    "    <td class=\"tg-1e1z\">t</td>\n",
    "    <td class=\"tg-re03\">4</td>\n",
    "    <td class=\"tg-re03\"></td>\n",
    "    <td class=\"tg-re03\"></td>\n",
    "    <td class=\"tg-re03\"></td>\n",
    "    <td class=\"tg-re03\"></td>\n",
    "    <td class=\"tg-re03\"></td>\n",
    "    <td class=\"tg-re03\"></td>\n",
    "  </tr>\n",
    "  <tr>\n",
    "    <td class=\"tg-1e1z\">i</td>\n",
    "    <td class=\"tg-re03\">5</td>\n",
    "    <td class=\"tg-re03\"></td>\n",
    "    <td class=\"tg-re03\"></td>\n",
    "    <td class=\"tg-re03\"></td>\n",
    "    <td class=\"tg-re03\"></td>\n",
    "    <td class=\"tg-re03\"></td>\n",
    "    <td class=\"tg-re03\"></td>\n",
    "  </tr>\n",
    "  <tr>\n",
    "    <td class=\"tg-1e1z\">n</td>\n",
    "    <td class=\"tg-re03\">6</td>\n",
    "    <td class=\"tg-re03\"></td>\n",
    "    <td class=\"tg-re03\"></td>\n",
    "    <td class=\"tg-re03\"></td>\n",
    "    <td class=\"tg-re03\"></td>\n",
    "    <td class=\"tg-re03\"></td>\n",
    "    <td class=\"tg-re03\"></td>\n",
    "  </tr>\n",
    "  <tr>\n",
    "    <td class=\"tg-1e1z\">g</td>\n",
    "    <td class=\"tg-re03\">7</td>\n",
    "    <td class=\"tg-re03\"></td>\n",
    "    <td class=\"tg-re03\"></td>\n",
    "    <td class=\"tg-re03\"></td>\n",
    "    <td class=\"tg-re03\"></td>\n",
    "    <td class=\"tg-re03\"></td>\n",
    "    <td class=\"tg-re03\"></td>\n",
    "  </tr>\n",
    "</tbody>\n",
    "</table>"
   ]
  },
  {
   "attachments": {},
   "cell_type": "markdown",
   "metadata": {
    "slideshow": {
     "slide_type": "subslide"
    }
   },
   "source": [
    "<style type=\"text/css\">\n",
    "</style>\n",
    "<table class=\"tg\">\n",
    "<thead>\n",
    "  <tr>\n",
    "    <th class=\"tg-d999\"></th>\n",
    "    <th class=\"tg-409p\" colspan=\"8\">Cost to Delete</th>\n",
    "  </tr>\n",
    "</thead>\n",
    "<tbody>\n",
    "  <tr>\n",
    "    <td class=\"tg-1um3\" rowspan=\"9\">Cost to Insert</td>\n",
    "    <td class=\"tg-1e1z\"></td>\n",
    "    <td class=\"tg-1e1z\">''</td>\n",
    "    <td class=\"tg-1e1z\">k</td>\n",
    "    <td class=\"tg-1e1z\">i</td>\n",
    "    <td class=\"tg-1e1z\">t</td>\n",
    "    <td class=\"tg-1e1z\">t</td>\n",
    "    <td class=\"tg-1e1z\">e</td>\n",
    "    <td class=\"tg-1e1z\">n</td>\n",
    "  </tr>\n",
    "  <tr>\n",
    "    <td class=\"tg-1e1z\">''</td>\n",
    "    <td class=\"tg-ve0v\">0</td>\n",
    "    <td class=\"tg-ve0v\">1</td>\n",
    "    <td class=\"tg-re03\">2</td>\n",
    "    <td class=\"tg-re03\">3</td>\n",
    "    <td class=\"tg-re03\">4</td>\n",
    "    <td class=\"tg-re03\">5</td>\n",
    "    <td class=\"tg-re03\">6</td>\n",
    "  </tr>\n",
    "  <tr>\n",
    "    <td class=\"tg-1e1z\">s</td>\n",
    "    <td class=\"tg-ve0v\">1</td>\n",
    "    <td class=\"tg-ve0v\">2</td>\n",
    "    <td class=\"tg-wo5g\">3</td>\n",
    "    <td class=\"tg-ve0v\">4</td>\n",
    "    <td class=\"tg-re03\">5</td>\n",
    "    <td class=\"tg-re03\">6</td>\n",
    "    <td class=\"tg-re03\">7</td>\n",
    "  </tr>\n",
    "  <tr>\n",
    "    <td class=\"tg-1e1z\">i</td>\n",
    "    <td class=\"tg-re03\">2</td>\n",
    "    <td class=\"tg-ve0v\">3</td>\n",
    "    <td class=\"tg-ve0v\">2</td>\n",
    "    <td class=\"tg-re03\">3</td>\n",
    "    <td class=\"tg-re03\">4</td>\n",
    "    <td class=\"tg-re03\">5</td>\n",
    "    <td class=\"tg-re03\">6</td>\n",
    "  </tr>\n",
    "  <tr>\n",
    "    <td class=\"tg-1e1z\">t</td>\n",
    "    <td class=\"tg-re03\">3</td>\n",
    "    <td class=\"tg-re03\">4</td>\n",
    "    <td class=\"tg-re03\">3</td>\n",
    "    <td class=\"tg-re03\">2</td>\n",
    "    <td class=\"tg-re03\">3</td>\n",
    "    <td class=\"tg-re03\">4</td>\n",
    "    <td class=\"tg-re03\">5</td>\n",
    "  </tr>\n",
    "  <tr>\n",
    "    <td class=\"tg-1e1z\">t</td>\n",
    "    <td class=\"tg-re03\">4</td>\n",
    "    <td class=\"tg-re03\">5</td>\n",
    "    <td class=\"tg-re03\">4</td>\n",
    "    <td class=\"tg-re03\">3</td>\n",
    "    <td class=\"tg-re03\">2</td>\n",
    "    <td class=\"tg-re03\">3</td>\n",
    "    <td class=\"tg-re03\">4</td>\n",
    "  </tr>\n",
    "  <tr>\n",
    "    <td class=\"tg-1e1z\">i</td>\n",
    "    <td class=\"tg-re03\">5</td>\n",
    "    <td class=\"tg-re03\">6</td>\n",
    "    <td class=\"tg-re03\">5</td>\n",
    "    <td class=\"tg-re03\">4</td>\n",
    "    <td class=\"tg-re03\">3</td>\n",
    "    <td class=\"tg-re03\">4</td>\n",
    "    <td class=\"tg-re03\">5</td>\n",
    "  </tr>\n",
    "  <tr>\n",
    "    <td class=\"tg-1e1z\">n</td>\n",
    "    <td class=\"tg-re03\">6</td>\n",
    "    <td class=\"tg-re03\">7</td>\n",
    "    <td class=\"tg-re03\">6</td>\n",
    "    <td class=\"tg-re03\">5</td>\n",
    "    <td class=\"tg-re03\">4</td>\n",
    "    <td class=\"tg-8xes\">5</td>\n",
    "    <td class=\"tg-6ua1\">4</td>\n",
    "  </tr>\n",
    "  <tr>\n",
    "    <td class=\"tg-1e1z\">g</td>\n",
    "    <td class=\"tg-re03\">7</td>\n",
    "    <td class=\"tg-re03\">8</td>\n",
    "    <td class=\"tg-re03\">7</td>\n",
    "    <td class=\"tg-re03\">6</td>\n",
    "    <td class=\"tg-re03\">5</td>\n",
    "    <td class=\"tg-295u\">6</td>\n",
    "    <td class=\"tg-6zma\">5</td>\n",
    "  </tr>\n",
    "</tbody>\n",
    "</table>"
   ]
  },
  {
   "attachments": {},
   "cell_type": "markdown",
   "metadata": {
    "slideshow": {
     "slide_type": "slide"
    }
   },
   "source": [
    "### Tracing back the edits\n",
    "\n",
    "<img src=\"figures/edit-trace-1.jpeg\" width=\"80%\">"
   ]
  },
  {
   "attachments": {},
   "cell_type": "markdown",
   "metadata": {
    "slideshow": {
     "slide_type": "subslide"
    }
   },
   "source": [
    "<img src=\"figures/edit-trace-2.jpeg\" width=\"80%\">"
   ]
  },
  {
   "attachments": {},
   "cell_type": "markdown",
   "metadata": {
    "slideshow": {
     "slide_type": "subslide"
    }
   },
   "source": [
    "<img src=\"figures/edit-trace-3.jpeg\" width=\"80%\">"
   ]
  },
  {
   "attachments": {},
   "cell_type": "markdown",
   "metadata": {
    "slideshow": {
     "slide_type": "fragment"
    }
   },
   "source": [
    "**Alignments:**\n",
    "\n",
    "`k-itte-n-` $~~~~~~~$ `-kitt-en-`<br>\n",
    "`-sitt-ing` $~~~~~~~$ `s-itti-ng`\n"
   ]
  },
  {
   "attachments": {},
   "cell_type": "markdown",
   "metadata": {
    "slideshow": {
     "slide_type": "skip"
    }
   },
   "source": [
    "<style type=\"text/css\">\n",
    ".tg  {border-collapse:collapse;border-spacing:0;}\n",
    ".tg td{border-color:black;border-style:solid;border-width:1px;font-family:Arial, sans-serif;font-size:14px;\n",
    "  overflow:hidden;padding:9px 16px;word-break:normal;}\n",
    ".tg th{border-color:black;border-style:solid;border-width:1px;font-family:Arial, sans-serif;font-size:14px;\n",
    "  font-weight:normal;overflow:hidden;padding:9px 16px;word-break:normal;}\n",
    ".tg .tg-0alu{border-color:#ffffff;font-size:20px;font-style:italic;text-align:center;vertical-align:middle;writing-mode:vertical-lr;transform:rotate(-180deg);}\n",
    ".tg .tg-trnk{border-color:#ffffff;font-size:20px;font-style:italic;text-align:center;vertical-align:middle}\n",
    ".tg .tg-re03{border-color:#000000;font-size:20px;text-align:left;vertical-align:middle}\n",
    ".tg .tg-d999{border-color:#ffffff;font-size:20px;text-align:left;vertical-align:middle}\n",
    ".tg .tg-1e1z{border-color:#c0c0c0;font-size:20px;font-weight:bold;text-align:left;vertical-align:middle}\n",
    "</style>\n",
    "<table class=\"tg\">\n",
    "<thead>\n",
    "  <tr>\n",
    "    <th class=\"tg-d999\"></th>\n",
    "    <th class=\"tg-trnk\" colspan=\"8\">Cost to Delete</th>\n",
    "  </tr>\n",
    "</thead>\n",
    "<tbody>\n",
    "  <tr>\n",
    "    <td class=\"tg-0alu\" rowspan=\"9\">Cost to Insert</td>\n",
    "    <td class=\"tg-1e1z\"></td>\n",
    "    <td class=\"tg-1e1z\">''</td>\n",
    "    <td class=\"tg-1e1z\">k</td>\n",
    "    <td class=\"tg-1e1z\">i</td>\n",
    "    <td class=\"tg-1e1z\">t</td>\n",
    "    <td class=\"tg-1e1z\">t</td>\n",
    "    <td class=\"tg-1e1z\">e</td>\n",
    "    <td class=\"tg-1e1z\">n</td>\n",
    "  </tr>\n",
    "  <tr>\n",
    "    <td class=\"tg-1e1z\">''</td>\n",
    "    <td class=\"tg-re03\">0</td>\n",
    "    <td class=\"tg-re03\">1</td>\n",
    "    <td class=\"tg-re03\">2</td>\n",
    "    <td class=\"tg-re03\">3</td>\n",
    "    <td class=\"tg-re03\">4</td>\n",
    "    <td class=\"tg-re03\">5</td>\n",
    "    <td class=\"tg-re03\">6</td>\n",
    "  </tr>\n",
    "  <tr>\n",
    "    <td class=\"tg-1e1z\">s</td>\n",
    "    <td class=\"tg-re03\">1</td>\n",
    "    <td class=\"tg-re03\"></td>\n",
    "    <td class=\"tg-re03\"></td>\n",
    "    <td class=\"tg-re03\"></td>\n",
    "    <td class=\"tg-re03\"></td>\n",
    "    <td class=\"tg-re03\"></td>\n",
    "    <td class=\"tg-re03\"></td>\n",
    "  </tr>\n",
    "  <tr>\n",
    "    <td class=\"tg-1e1z\">i</td>\n",
    "    <td class=\"tg-re03\">2</td>\n",
    "    <td class=\"tg-re03\"></td>\n",
    "    <td class=\"tg-re03\"></td>\n",
    "    <td class=\"tg-re03\"></td>\n",
    "    <td class=\"tg-re03\"></td>\n",
    "    <td class=\"tg-re03\"></td>\n",
    "    <td class=\"tg-re03\"></td>\n",
    "  </tr>\n",
    "  <tr>\n",
    "    <td class=\"tg-1e1z\">t</td>\n",
    "    <td class=\"tg-re03\">3</td>\n",
    "    <td class=\"tg-re03\"></td>\n",
    "    <td class=\"tg-re03\"></td>\n",
    "    <td class=\"tg-re03\"></td>\n",
    "    <td class=\"tg-re03\"></td>\n",
    "    <td class=\"tg-re03\"></td>\n",
    "    <td class=\"tg-re03\"></td>\n",
    "  </tr>\n",
    "  <tr>\n",
    "    <td class=\"tg-1e1z\">t</td>\n",
    "    <td class=\"tg-re03\">4</td>\n",
    "    <td class=\"tg-re03\"></td>\n",
    "    <td class=\"tg-re03\"></td>\n",
    "    <td class=\"tg-re03\"></td>\n",
    "    <td class=\"tg-re03\"></td>\n",
    "    <td class=\"tg-re03\"></td>\n",
    "    <td class=\"tg-re03\"></td>\n",
    "  </tr>\n",
    "  <tr>\n",
    "    <td class=\"tg-1e1z\">i</td>\n",
    "    <td class=\"tg-re03\">5</td>\n",
    "    <td class=\"tg-re03\"></td>\n",
    "    <td class=\"tg-re03\"></td>\n",
    "    <td class=\"tg-re03\"></td>\n",
    "    <td class=\"tg-re03\"></td>\n",
    "    <td class=\"tg-re03\"></td>\n",
    "    <td class=\"tg-re03\"></td>\n",
    "  </tr>\n",
    "  <tr>\n",
    "    <td class=\"tg-1e1z\">n</td>\n",
    "    <td class=\"tg-re03\">6</td>\n",
    "    <td class=\"tg-re03\"></td>\n",
    "    <td class=\"tg-re03\"></td>\n",
    "    <td class=\"tg-re03\"></td>\n",
    "    <td class=\"tg-re03\"></td>\n",
    "    <td class=\"tg-re03\"></td>\n",
    "    <td class=\"tg-re03\"></td>\n",
    "  </tr>\n",
    "  <tr>\n",
    "    <td class=\"tg-1e1z\">g</td>\n",
    "    <td class=\"tg-re03\">7</td>\n",
    "    <td class=\"tg-re03\"></td>\n",
    "    <td class=\"tg-re03\"></td>\n",
    "    <td class=\"tg-re03\"></td>\n",
    "    <td class=\"tg-re03\"></td>\n",
    "    <td class=\"tg-re03\"></td>\n",
    "    <td class=\"tg-re03\"></td>\n",
    "  </tr>\n",
    "</tbody>\n",
    "</table>"
   ]
  },
  {
   "cell_type": "code",
   "execution_count": 5,
   "metadata": {
    "slideshow": {
     "slide_type": "subslide"
    }
   },
   "outputs": [
    {
     "name": "stdout",
     "output_type": "stream",
     "text": [
      "5\n"
     ]
    }
   ],
   "source": [
    "\n",
    "S = 'kitten'\n",
    "T = 'sitting'\n",
    "#    -kitt-en-\n",
    "#    s-itti-ng\n",
    "print(MED(S, T))"
   ]
  },
  {
   "cell_type": "markdown",
   "metadata": {},
   "source": [
    "<h3>Edit distance variants</h3>\n",
    "\n",
    "We can create variants on the edit distance that allow more operations than just insertion and substitution. These edit operations should maintain the property that if the zeroth letters of $S$ and $T$ match, then the minimal edit distance can be obtained by calculating the minimial edit distance of $S[1:]$ and $T[1:]$. Otherwise, if the zeroth characters do not match, the minimal edit distance must be obtained by first performing an edit to make the zeroth characters match. Some edits to consider:\n",
    "\n",
    "- Insertions\n",
    "- Deletions\n",
    "- Substitutions\n",
    "- Transpositions (either of adjacent characters or arbitrary transpositions)"
   ]
  },
  {
   "cell_type": "markdown",
   "metadata": {},
   "source": []
  }
 ],
 "metadata": {
  "celltoolbar": "Slideshow",
  "kernelspec": {
   "display_name": "Python 3 (ipykernel)",
   "language": "python",
   "name": "python3"
  },
  "language_info": {
   "codemirror_mode": {
    "name": "ipython",
    "version": 3
   },
   "file_extension": ".py",
   "mimetype": "text/x-python",
   "name": "python",
   "nbconvert_exporter": "python",
   "pygments_lexer": "ipython3",
   "version": "3.10.13"
  },
  "rise": {
   "autolaunch": true,
   "controls": false,
   "enable_chalkboard": true,
   "scroll": true,
   "theme": "simple",
   "transition": "fade"
  },
  "toc": {
   "base_numbering": 1,
   "nav_menu": {},
   "number_sections": true,
   "sideBar": true,
   "skip_h1_title": true,
   "title_cell": "Table of Contents",
   "title_sidebar": "Contents",
   "toc_cell": true,
   "toc_position": {},
   "toc_section_display": true,
   "toc_window_display": false
  },
  "vscode": {
   "interpreter": {
    "hash": "aee8b7b246df8f9039afb4144a1f6fd8d2ca17a180786b69acc140d282b71a49"
   }
  }
 },
 "nbformat": 4,
 "nbformat_minor": 4
}
