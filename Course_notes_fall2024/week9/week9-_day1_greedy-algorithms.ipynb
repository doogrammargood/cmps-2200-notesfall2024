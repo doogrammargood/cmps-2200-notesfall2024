{
 "cells": [
  {
   "cell_type": "code",
   "execution_count": 19,
   "metadata": {
    "code_folding": [],
    "slideshow": {
     "slide_type": "skip"
    }
   },
   "outputs": [
    {
     "data": {
      "text/html": [
       "<style>.prompt{width: 0px; min-width: 0px; visibility: collapse}</style>"
      ],
      "text/plain": [
       "<IPython.core.display.HTML object>"
      ]
     },
     "metadata": {},
     "output_type": "display_data"
    },
    {
     "data": {
      "text/html": [
       "<style>\n",
       "div#notebook {\n",
       " font-family: \"Exo_2\", sans-serif;\n",
       "}\n",
       "\n",
       ".rendered_html h1,\n",
       ".text_cell_render h1 {\n",
       " color: #126dce;\n",
       " font-size: 220%;\n",
       " text-align: center;\n",
       " font-weight: lighter;\n",
       "}\n",
       ".rendered_html h2,\n",
       ".text_cell_render h2 {\n",
       " text-align: center;\n",
       " font-size: 170%;\n",
       " color: #126dce;\n",
       " font-style: normal;\n",
       " font-weight: lighter;\n",
       "}\n",
       ".rendered_html h3,\n",
       ".text_cell_render h3 {\n",
       " font-size: 150%;\n",
       " color: #126dce;\n",
       " font-weight: lighter;\n",
       " text-decoration: italic;\n",
       " font-style: normal;\n",
       "}\n",
       ".rendered_html h4,\n",
       ".text_cell_render h4 {\n",
       " font-size: 120%;\n",
       " color: #126dce;\n",
       " font-weight: underline;\n",
       " font-style: normal;\n",
       "}\n",
       ".rendered_html h5,\n",
       ".text_cell_render h5 {\n",
       " font-size: 100%;\n",
       " color: #2f2f2f;\n",
       " font-weight: lighter;\n",
       " text-decoration: underline;\n",
       "}\n",
       "</style>\n"
      ],
      "text/plain": [
       "<IPython.core.display.HTML object>"
      ]
     },
     "metadata": {},
     "output_type": "display_data"
    }
   ],
   "source": [
    "# setup\n",
    "from IPython.display import display,HTML\n",
    "display(HTML('<style>.prompt{width: 0px; min-width: 0px; visibility: collapse}</style>'))\n",
    "display(HTML(open('../rise.css').read()))\n",
    "\n",
    "# imports\n",
    "import numpy as np\n",
    "import matplotlib.pyplot as plt\n",
    "import seaborn as sns\n",
    "%matplotlib inline\n",
    "sns.set(style=\"whitegrid\", font_scale=1.5, rc={'figure.figsize':(12, 6)})\n"
   ]
  },
  {
   "attachments": {},
   "cell_type": "markdown",
   "metadata": {
    "slideshow": {
     "slide_type": "slide"
    }
   },
   "source": [
    "# CMPS 2200\n",
    "# Introduction to Algorithms\n",
    "\n",
    "## Greedy Algorithms, Unit-Task Scheduling, Knapsack\n"
   ]
  },
  {
   "attachments": {},
   "cell_type": "markdown",
   "metadata": {
    "slideshow": {
     "slide_type": "slide"
    }
   },
   "source": [
    "Agenda:\n",
    "\n",
    "- Framework for Greedy algorithms\n",
    "- Unit-task Scheduling\n",
    "- The Knapsack problem\n",
    "\n",
    "Resources: This information comes from Cormen et al. [introduction to algorithms](https://monet.en.kku.ac.th/courses/EN812303/book/Introduction.to.Algorithms.4th.Edition.pdf).\n"
   ]
  },
  {
   "attachments": {},
   "cell_type": "markdown",
   "metadata": {
    "slideshow": {
     "slide_type": "slide"
    }
   },
   "source": [
    "## The Greedy Paradigm\n",
    "\n",
    "We previously looked at dynamic programming, where we solved a problem optimally by considering every subproblem generated from every possible choice.\n",
    "\n",
    "We will now look at *Greedy* algorithms that save us from having to consider every possible subproblem when our problem comes with a special structure.\n",
    "\n",
    "The greedy framework is very simple: \n",
    "\n",
    "- Let $\\mathcal{X}$ be possible choices for the solution. Initialize solution $S=\\emptyset$. \n",
    "- Select $x\\in\\mathcal{X}$ according to a greedy criterion $C(x)$ and set $S := S \\cup \\{x\\}, \\mathcal{X} := \\mathcal{X} - \\{x\\}$.\n",
    "- Repeat until solution is complete.\n",
    "\n",
    "Selection Sort was an example of a greedy strategy. What was the greedy criterion? Why was our algorithm correct?\n",
    "\n"
   ]
  },
  {
   "attachments": {},
   "cell_type": "markdown",
   "metadata": {
    "slideshow": {
     "slide_type": "subslide"
    }
   },
   "source": [
    "For selection sort, we can see that swapping minimum element into the current position is a correct choice for the \"optimal\" solution. Moreover, selecting a minimum and sorting the rest of the list recursively is also correct."
   ]
  },
  {
   "cell_type": "code",
   "execution_count": 20,
   "metadata": {
    "slideshow": {
     "slide_type": "fragment"
    }
   },
   "outputs": [
    {
     "name": "stdout",
     "output_type": "stream",
     "text": [
      "selecting minimum 1\n",
      "recursively sorting L=[2, 999, 4, 3]\n",
      "\n",
      "selecting minimum 2\n",
      "recursively sorting L=[999, 4, 3]\n",
      "\n",
      "selecting minimum 3\n",
      "recursively sorting L=[4, 999]\n",
      "\n",
      "selecting minimum 4\n",
      "recursively sorting L=[999]\n",
      "\n"
     ]
    },
    {
     "data": {
      "text/plain": [
       "[1, 2, 3, 4, 999]"
      ]
     },
     "execution_count": 20,
     "metadata": {},
     "output_type": "execute_result"
    }
   ],
   "source": [
    "def selection_sort(L):\n",
    "    if (len(L) == 1):\n",
    "        return(L)\n",
    "    else:\n",
    "        m = L.index(min(L))\n",
    "        print('selecting minimum %s' % L[m])       \n",
    "        L[0], L[m] = L[m], L[0]\n",
    "        print('recursively sorting L=%s\\n' % L[1:])\n",
    "        return [L[0]] + selection_sort(L[1:])\n",
    "    \n",
    "selection_sort([2, 1, 999, 4, 3])"
   ]
  },
  {
   "cell_type": "markdown",
   "metadata": {},
   "source": [
    "<h3>Dijkstra's Revisited</h3>\n",
    "\n",
    "Recall Dijkstra's algorithm: To find the shortest paths between a source vertex and all other reachable vertices in an edge-weighted graph, we greedily choose the closest vertex on the frontier and expand the frontier. It can be considered as a greedy algorithm because there is a sequence of choices (which vertex to visit next) and we choose by minimizing the distance to the source. We have already proven the correctness of Dijkstra's algorithm. Later, we will generalize the argument using Greedoids/Matroids."
   ]
  },
  {
   "attachments": {},
   "cell_type": "markdown",
   "metadata": {
    "slideshow": {
     "slide_type": "slide"
    }
   },
   "source": [
    "## When is it correct to be Greedy?\n",
    "\n",
    "When would the greedy strategy yield the correct solution?\n",
    "\n",
    "1. **Optimal substructure**: An optimal solution can be constructed from optimal solutions of successively smaller subproblems.\n",
    "2. **Greedy choice**: A greedy choice must be in some optimal solution. In other words, at every step, by making the greedy choice, we are building up an optimal solution.\n"
   ]
  },
  {
   "attachments": {},
   "cell_type": "markdown",
   "metadata": {
    "slideshow": {
     "slide_type": "fragment"
    }
   },
   "source": [
    "\n",
    "Put together, these two properties yield that the iterative strategy above constructs an optimal solution.\n"
   ]
  },
  {
   "attachments": {},
   "cell_type": "markdown",
   "metadata": {
    "slideshow": {
     "slide_type": "fragment"
    }
   },
   "source": [
    "\n",
    "Due to their simplicity greedy algorithms are easy to implement. However proving the optimal substructure and greedy choice properties requires a problem-specific approach and can be tricky. "
   ]
  },
  {
   "cell_type": "markdown",
   "metadata": {},
   "source": [
    "We will see that many greedy algorithms can be identified by the existence of a <i>matroid</i> structure. A common [misconception](https://nor-blog.codeberg.page/posts/2023-01-04-greedoids/) is that every greedy algorithm comes from a matroid (or the related greedoid) structure. The next example demonstrates that this is not necessarily the case.\n",
    "\n",
    "But we will see that most greedy algorithms do have such a structure. In later classes, we will explore this further."
   ]
  },
  {
   "attachments": {},
   "cell_type": "markdown",
   "metadata": {
    "slideshow": {
     "slide_type": "slide"
    }
   },
   "source": [
    "### Unit Task Scheduling\n",
    "\n",
    "Consider the **unit task scheduling problem** where we are given a set of $n$ tasks $A = \\{a_0, \\ldots, a_{n-1}\\}$. Each task $a_i$ has start and finish times $(s_i, f_i)$. The goal is to select a subset $S$ of tasks with no overlaps that is as large as possible."
   ]
  },
  {
   "attachments": {},
   "cell_type": "markdown",
   "metadata": {
    "slideshow": {
     "slide_type": "fragment"
    }
   },
   "source": [
    "\n",
    "<br>\n",
    "\n",
    "**Example**: Let the tasks be $a_0=(0, 2), a_1=(2, 4), a_2=(4, 6), a_3=(2, 8)$. \n",
    "\n",
    "What is the largest set of non-overlapping tasks?\n"
   ]
  },
  {
   "attachments": {},
   "cell_type": "markdown",
   "metadata": {
    "slideshow": {
     "slide_type": "fragment"
    }
   },
   "source": [
    "\n",
    "<img src=\"figures/simple_unit_task.jpg\" width=\"30%\">\n"
   ]
  },
  {
   "attachments": {},
   "cell_type": "markdown",
   "metadata": {
    "slideshow": {
     "slide_type": "fragment"
    }
   },
   "source": [
    "We should choose $S = \\{a_0, a_1, a_2\\}$ since choosing $a_3$ \"blocks\" a large part of the solution.\n"
   ]
  },
  {
   "attachments": {},
   "cell_type": "markdown",
   "metadata": {
    "slideshow": {
     "slide_type": "slide"
    }
   },
   "source": [
    "## A greedy solution?\n",
    "\n",
    "Is there a greedy algorithm for the unit task scheduling problem?\n",
    "\n",
    "Does this problem have optimal substructure? What should the greedy choice be?\n"
   ]
  },
  {
   "attachments": {},
   "cell_type": "markdown",
   "metadata": {
    "slideshow": {
     "slide_type": "fragment"
    }
   },
   "source": [
    "<br>\n",
    "\n",
    "**Optimal Substructure:** Since the tasks are nonoverlapping, if we identify one task in the optimal solution we can eliminate the tasks overlapping it and recursively solve for the remaining tasks.\n",
    "\n",
    "<br>"
   ]
  },
  {
   "attachments": {},
   "cell_type": "markdown",
   "metadata": {
    "slideshow": {
     "slide_type": "fragment"
    }
   },
   "source": [
    "\n",
    "Is there a greedy criterion with the greedy choice property?"
   ]
  },
  {
   "attachments": {},
   "cell_type": "markdown",
   "metadata": {
    "slideshow": {
     "slide_type": "subslide"
    }
   },
   "source": [
    "### Greedy Criteria\n",
    "\n",
    "What if we chose the shortest task first?\n"
   ]
  },
  {
   "attachments": {},
   "cell_type": "markdown",
   "metadata": {
    "slideshow": {
     "slide_type": "fragment"
    }
   },
   "source": [
    "Counterexample:\n",
    "<img src=\"./figures/shortest_first_counterexample.jpg\" width=30%>\n"
   ]
  },
  {
   "attachments": {},
   "cell_type": "markdown",
   "metadata": {
    "slideshow": {
     "slide_type": "fragment"
    }
   },
   "source": [
    "What if we chose the task that started earliest? \n"
   ]
  },
  {
   "attachments": {},
   "cell_type": "markdown",
   "metadata": {
    "slideshow": {
     "slide_type": "fragment"
    }
   },
   "source": [
    "Counterexample:\n",
    "<img src=\"./figures/earliest_first_counterexample.jpg\" width=30%>\n"
   ]
  },
  {
   "attachments": {},
   "cell_type": "markdown",
   "metadata": {
    "slideshow": {
     "slide_type": "fragment"
    }
   },
   "source": [
    "What if we successively chose the task with fewest overlaps?\n"
   ]
  },
  {
   "attachments": {},
   "cell_type": "markdown",
   "metadata": {
    "slideshow": {
     "slide_type": "fragment"
    }
   },
   "source": [
    "Counterexample:\n",
    "<img src=\"./figures/minimum_overlap_counterexample.jpg\" width=30%>\n"
   ]
  },
  {
   "attachments": {},
   "cell_type": "markdown",
   "metadata": {
    "slideshow": {
     "slide_type": "subslide"
    }
   },
   "source": [
    "What if we chose the task that finished earliest?\n",
    "\n",
    "Counterexample:\n",
    "<img src=\"figures/unit-task-all.png\" width=\"60%\">\n"
   ]
  },
  {
   "attachments": {},
   "cell_type": "markdown",
   "metadata": {
    "slideshow": {
     "slide_type": "fragment"
    }
   },
   "source": [
    "\n",
    "This works on all of our counterexamples.\n"
   ]
  },
  {
   "attachments": {},
   "cell_type": "markdown",
   "metadata": {
    "slideshow": {
     "slide_type": "fragment"
    }
   },
   "source": [
    "\n",
    "From our original example:\n",
    "\n",
    "$\\pmb{a_0=(0, 2), a_1=(2, 4), a_2=(4, 6)}, a_3=(2, 8)$\n"
   ]
  },
  {
   "attachments": {},
   "cell_type": "markdown",
   "metadata": {
    "slideshow": {
     "slide_type": "fragment"
    }
   },
   "source": [
    "<br>\n",
    "\n",
    "\n",
    "What would the greedy choice property say here?\n"
   ]
  },
  {
   "attachments": {},
   "cell_type": "markdown",
   "metadata": {
    "slideshow": {
     "slide_type": "fragment"
    }
   },
   "source": [
    "\n",
    "**Greedy Choice Property**: For any set of tasks, the task with earliest finish time is in some optimal solution.\n",
    " "
   ]
  },
  {
   "attachments": {},
   "cell_type": "markdown",
   "metadata": {
    "slideshow": {
     "slide_type": "slide"
    }
   },
   "source": [
    "## Proof\n",
    "\n",
    "**Greedy Choice Property**: For any set of tasks, the task with earliest finish time is in some optimal solution.\n",
    "\n",
    "**Proof**: Given a set of tasks $A$, let $G$ be the greedy solution and let $O$ be an optimal solution. \n"
   ]
  },
  {
   "attachments": {},
   "cell_type": "markdown",
   "metadata": {
    "slideshow": {
     "slide_type": "fragment"
    }
   },
   "source": [
    "\n",
    "<img src=\"./figures/greedy_choice_unit_task_proof.jpg\" width=\"60%\">\n"
   ]
  },
  {
   "attachments": {},
   "cell_type": "markdown",
   "metadata": {
    "slideshow": {
     "slide_type": "fragment"
    }
   },
   "source": [
    "Now, suppose that $G\\neq O$. Sort the tasks by finish time, and let tasks $a\\in G$ and $a'\\in O$ be the first pair of corresponding tasks with $a\\neq a'$.\n",
    "\n",
    "If such a pair does not exist, there are a few options:\n",
    "1. $G=O$ (We are done)\n",
    "2. $G\\subset O$ (Then add $a'$ to $G$)\n",
    "3. $O\\subset G$ (This can't happen because $O$ is optimal)\n",
    "\n",
    "By the definition of our greedy choice, this implies that $a$ finishes before $a'$.\n",
    "\n"
   ]
  },
  {
   "attachments": {},
   "cell_type": "markdown",
   "metadata": {
    "slideshow": {
     "slide_type": "fragment"
    }
   },
   "source": [
    "\n",
    "So we have that $G = \\langle G_1, a, G_2\\rangle$ and $O = \\langle O_1, a', O_2\\rangle$."
   ]
  },
  {
   "attachments": {},
   "cell_type": "markdown",
   "metadata": {
    "slideshow": {
     "slide_type": "fragment"
    }
   },
   "source": [
    "\n",
    "Consider the solution $X = \\langle O_1, a, O_2\\rangle$. \n",
    "\n",
    "Since $a$ and $a^\\prime$ are the first pair of tasks that differ, $G_1=O_1$, and because $a$ is compatible with $G_1$, $a$ must also be compatible with $O_1$.\n"
   ]
  },
  {
   "attachments": {},
   "cell_type": "markdown",
   "metadata": {
    "slideshow": {
     "slide_type": "fragment"
    }
   },
   "source": [
    "\n",
    "Since $O$ is a valid solution and $a$ has earlier finish time than $a'$, all the tasks in $O_2$ are compatible with $\\langle G_1, a\\rangle$. This demonstrates that $X$ is a valid solution.\n"
   ]
  },
  {
   "attachments": {},
   "cell_type": "markdown",
   "metadata": {
    "slideshow": {
     "slide_type": "fragment"
    }
   },
   "source": [
    "The value of $X$ is $|X| = |O_1|+ |O_2| +1 = |O|$ so $X$ is also an optimal solution. Moreover, $X$ and $G$ agree on one more task than $O$ and $G$. This means that we can repeat this procedure after setting $O=X$. If we repeat $|O|$ times, we will find that $G=X$, so $G$ is optimal. \n",
    "\n",
    "$\\blacksquare$\n"
   ]
  },
  {
   "cell_type": "code",
   "execution_count": 28,
   "metadata": {},
   "outputs": [
    {
     "name": "stdout",
     "output_type": "stream",
     "text": [
      "==\n",
      "  ==\n",
      "    ==\n",
      "  ------\n",
      " --\n"
     ]
    }
   ],
   "source": [
    "objects = [(0,2),(2,4),(4,6),(2,8)]\n",
    "tasks_sched=[]#Will hold our solution. \n",
    "def schedule_tasks(objects):\n",
    "    sorted_objects= sorted(objects, key=lambda obj: obj[1])#Sort by second coordinate.\n",
    "    last_end_time = -1\n",
    "    for obj in sorted_objects:\n",
    "        if obj[0] >= last_end_time:\n",
    "            last_end_time = obj[1]\n",
    "            tasks_sched.append(obj)\n",
    "    #ASCII printout:\n",
    "    for obj in objects:\n",
    "        if obj in tasks_sched:\n",
    "            line = \" \"*obj[0]+\"=\"*(obj[1]-obj[0])\n",
    "        else:\n",
    "            line = \" \"*obj[0]+\"-\"*(obj[1]-obj[0])\n",
    "        print(line)\n",
    "schedule_tasks(objects)"
   ]
  },
  {
   "attachments": {},
   "cell_type": "markdown",
   "metadata": {
    "slideshow": {
     "slide_type": "slide"
    }
   },
   "source": [
    "## Runtime Analysis\n",
    "\n",
    "So we've proven that the earliest finish time first strategy produces the optimal solution. What about work/span?\n",
    " \n",
    "\n"
   ]
  },
  {
   "attachments": {},
   "cell_type": "markdown",
   "metadata": {
    "slideshow": {
     "slide_type": "fragment"
    }
   },
   "source": [
    "\n",
    "Given a set of tasks, we can sort by earliest finish time in $O(n\\log n)$ work and $O(\\log n)$ span. \n"
   ]
  },
  {
   "attachments": {},
   "cell_type": "markdown",
   "metadata": {
    "slideshow": {
     "slide_type": "fragment"
    }
   },
   "source": [
    "\n",
    "Then, we sequentially step through the tasks, adding a task to the solution if it doesn't overlap with a task that is already chosen. This takes $O(n)$ work/span. Generally speaking, greedy algorithms cannot be parallelized easily because they require sequential choices."
   ]
  },
  {
   "attachments": {},
   "cell_type": "markdown",
   "metadata": {
    "slideshow": {
     "slide_type": "fragment"
    }
   },
   "source": [
    "$$W(n) \\in O(n \\log n)$$\n",
    "\n",
    "$$S(n) \\in O(n)$$\n",
    "\n",
    "Greedy algorithms are typically very fast. Generally speaking, they should take linear or nearly linear work and span as in this case. For comparison, observe that the scheduling problem is a special case of calculating the independence number of a graph, for which no polynomial-time algorithm is known. When greedy algorithms apply, they are typically very fast."
   ]
  },
  {
   "cell_type": "markdown",
   "metadata": {},
   "source": []
  },
  {
   "attachments": {},
   "cell_type": "markdown",
   "metadata": {
    "slideshow": {
     "slide_type": "slide"
    }
   },
   "source": [
    "### The Knapsack Problem Revisited\n",
    "\n",
    "Let's look another optimization problem. Suppose there are $n$ objects, each with a *value* $v_i>0$ and *weight* $w_i>0$. You have a \"knapsack\" of capacity $W\\geq 0$ and want to fill it with a set of objects $X \\subseteq [n]$ so that $w(X) \\leq W$ and $v(X)$ is maximized. \n"
   ]
  },
  {
   "attachments": {},
   "cell_type": "markdown",
   "metadata": {
    "slideshow": {
     "slide_type": "fragment"
    }
   },
   "source": [
    "\n",
    "Example: Suppose you have 3 objects with values/weights $(10, 5), (6, 3), (6, 2)$ and $W=5$. \n"
   ]
  },
  {
   "attachments": {},
   "cell_type": "markdown",
   "metadata": {
    "slideshow": {
     "slide_type": "fragment"
    }
   },
   "source": [
    "<style>.jp-RenderedHTMLCommon table {\n",
    "  border-collapse: collapse;\n",
    "  border-spacing: 0;\n",
    "  border: none;\n",
    "  color: var(--jp-ui-font-color1);\n",
    "  font-size: 20px;\n",
    "  table-layout: fixed;\n",
    "  margin-left: auto;\n",
    "  margin-right: auto;\n",
    "}</style>\n",
    "\n",
    "|item  |value |weight|\n",
    "|------|------|-----|\n",
    "|$a_0$ | 10   | 5   |\n",
    "|$a_1$ | 6    | 3   |\n",
    "|$a_2$ | 6    | 2   |\n"
   ]
  },
  {
   "attachments": {},
   "cell_type": "markdown",
   "metadata": {
    "slideshow": {
     "slide_type": "fragment"
    }
   },
   "source": [
    "\n",
    "How can we fill our knapsack to maximize its value?\n"
   ]
  },
  {
   "attachments": {},
   "cell_type": "markdown",
   "metadata": {
    "slideshow": {
     "slide_type": "slide"
    }
   },
   "source": [
    "\n",
    "## Greedy Choices\n",
    "\n",
    "> **Example Problem**\n",
    ">\n",
    "> |item|value|weight|\n",
    "> |------|------|-----|\n",
    "> |$a_0$ |10    |5    |\n",
    "> |$a_1$ |6     |3    |\n",
    "> |$a_2$ |6     | 2   |\n",
    ">\n",
    "> Knapsack Capacity: $W=5$\n",
    ">\n",
    "> Optimal Choices: $X = [a_1, a_2]$, $v(X) = 12$ \n",
    "\n"
   ]
  },
  {
   "attachments": {},
   "cell_type": "markdown",
   "metadata": {
    "slideshow": {
     "slide_type": "fragment"
    }
   },
   "source": [
    "<br>\n",
    "\n",
    "What if we greedily took the **most valuable** object first?"
   ]
  },
  {
   "attachments": {},
   "cell_type": "markdown",
   "metadata": {
    "slideshow": {
     "slide_type": "fragment"
    }
   },
   "source": [
    "We would select item $a_0$ for a total value of $10$."
   ]
  },
  {
   "attachments": {},
   "cell_type": "markdown",
   "metadata": {
    "slideshow": {
     "slide_type": "fragment"
    }
   },
   "source": [
    "\n",
    "What if we greedily took the object with **highest per unit value** (i.e., maximum value/weight ratio)?\n"
   ]
  },
  {
   "attachments": {},
   "cell_type": "markdown",
   "metadata": {
    "slideshow": {
     "slide_type": "fragment"
    }
   },
   "source": [
    "\n",
    "In the example above, we'd achieve a value of $12$, which is optimal. Does this always work?"
   ]
  },
  {
   "attachments": {},
   "cell_type": "markdown",
   "metadata": {
    "slideshow": {
     "slide_type": "fragment"
    }
   },
   "source": [
    "Unfortunately no. Can we come up with a counter example for this choice?\n",
    "\n"
   ]
  },
  {
   "attachments": {},
   "cell_type": "markdown",
   "metadata": {
    "slideshow": {
     "slide_type": "subslide"
    }
   },
   "source": [
    "\n",
    "\n",
    "Counterexample:\n",
    "\n",
    "|item  |value|weight|\n",
    "|------|------|-----|\n",
    "|$a_0$ | 10   | 5   |\n",
    "|$a_1$ | 9    | 3   |\n",
    "\n",
    "Knapsack Capacity: $W=5$\n",
    "\n",
    "Optimal Choices: $X = [a_1]$, $v(X) = 10$ "
   ]
  },
  {
   "attachments": {},
   "cell_type": "markdown",
   "metadata": {
    "slideshow": {
     "slide_type": "fragment"
    }
   },
   "source": [
    "$a_1$ has the highest value per weight, but it does not belong in the optimal solution."
   ]
  },
  {
   "attachments": {},
   "cell_type": "markdown",
   "metadata": {
    "slideshow": {
     "slide_type": "fragment"
    }
   },
   "source": [
    "<br>\n",
    "\n",
    "Is there another greedy criterion?\n",
    "\n",
    "Probably not, since the Knapsack problem is NP-complete, and a greedy solution would give a linear-time algorithm.\n",
    "\n"
   ]
  },
  {
   "attachments": {},
   "cell_type": "markdown",
   "metadata": {
    "slideshow": {
     "slide_type": "fragment"
    }
   },
   "source": [
    "\n",
    "The problem is that a greedy algorithm, regardless of the criterion, selects objects one at a time, without factoring in the capacity remaining into future decisions.\n"
   ]
  },
  {
   "attachments": {},
   "cell_type": "markdown",
   "metadata": {
    "slideshow": {
     "slide_type": "slide"
    }
   },
   "source": [
    "## Fractional Knapsack\n",
    "\n",
    "What if we wanted to solve the **fractional** version of the problem, where we could take fractional amounts of each item?\n"
   ]
  },
  {
   "attachments": {},
   "cell_type": "markdown",
   "metadata": {},
   "source": [
    "\n",
    "Does our weight/value greedy criterion satisfy the greedy choice property?\n"
   ]
  },
  {
   "attachments": {},
   "cell_type": "markdown",
   "metadata": {
    "slideshow": {
     "slide_type": "fragment"
    }
   },
   "source": [
    "\n",
    "**Greedy Solution for Fractional Knapsack**: Sort the items by their value-to-weight ratio, $v_i/w_i$. Take as much the first item as will fit into the sack. Then continue to the next item until all items are exhausted or the sack is full. This greedy algorithm will give an optimal solution to the fractional knapsack problem."
   ]
  },
  {
   "attachments": {},
   "cell_type": "markdown",
   "metadata": {
    "slideshow": {
     "slide_type": "fragment"
    }
   },
   "source": [
    "\n",
    "**Proof**: Suppose we were given $n$ objects and their weights/values. Sort the items by their value-to-weight ratio so that $a_0$ has the largest value-to-weight ratio.\n"
   ]
  },
  {
   "attachments": {},
   "cell_type": "markdown",
   "metadata": {
    "slideshow": {
     "slide_type": "fragment"
    }
   },
   "source": [
    "\n",
    "Let $O$ be the optimal solution, and let $G$ be the greedy solution. We denote the fraction of item $a_i$ taken in $G$ by $\\alpha_i^G\\in [0,1]$ and the fraction of $a_i$ taken in $O$ by $\\alpha_i^O\\in[0,1]$.\n"
   ]
  },
  {
   "attachments": {},
   "cell_type": "markdown",
   "metadata": {
    "slideshow": {
     "slide_type": "fragment"
    }
   },
   "source": [
    "Let item $a_j$ have the maximum value/weight ratio such that $\\alpha_j^O\\neq \\alpha_j^G$. Note that the greedy solution will either take all of $a_j$ so that $\\alpha_j^G=1$ or will exhaust the capacity of the sack using $a_j$. In the second case, no other objects after $a_j$ will be taken.\n"
   ]
  },
  {
   "attachments": {},
   "cell_type": "markdown",
   "metadata": {
    "slideshow": {
     "slide_type": "fragment"
    }
   },
   "source": [
    "Therefore, if $O\\neq G$, we may assume of $O$ that both: \n",
    "1. $\\alpha_j^O<\\alpha_j^G\\leq 1$ because: \n",
    "    - Due to the definition of the greedy algorithm, $\\alpha_j^O\\leq \\alpha_j^G$. \n",
    "    - Due to the definition of $a_j$, $\\alpha_j^O \\neq \\alpha_j^G$.\n",
    "2. For some $i>j$, $\\alpha_i^O>0$, because:\n",
    "    - Since $\\alpha_j^O<\\alpha_j^G$, there is leftover capacity in $O$ after taking items $a_0$ to $a_j$. An optimal solution should take some amount of another item, else it is not optimal."
   ]
  },
  {
   "attachments": {},
   "cell_type": "markdown",
   "metadata": {
    "slideshow": {
     "slide_type": "fragment"
    }
   },
   "source": [
    "\n",
    "Since $v_i/w_i \\leq v_j/w_j$,we can substitute some of item $a_i$ for item $a_j$ to get a solution that is at least as good.\n",
    "\n",
    "Specifically, set $\\bar{\\alpha_i^{O}} =\\max(\\alpha_i^O, (1-\\alpha_j^O)\\frac{w_j}{w_i})$. This will be the amount of $a_i$ that we give up. Set $\\bar{\\alpha_j^{O}}=\\bar{\\alpha_i^{O}}\\frac{w_i}{w_j}$. This will be the amount of $a_j$ that we gain.\n",
    "\n",
    "This definition ensures that $\\alpha_i^O-\\bar{\\alpha_i^{O}}\\geq 0$ and $\\alpha_j^O+\\bar{\\alpha_j^{O}}\\leq 1$ so the solution that comes from performing this substitution is feasible.\n",
    "\n",
    "We can also check that the weight of the new solution does not change, yet the value increases.\n",
    "\n",
    "This shows that we can get a solution that is at least as good by increasing the amount of $a_j$ taken in the optimal solution. By repeating this argument many times (at most the number of items, $n$), we will arive at an optimal solution with the same value as the greedy solution. $\\blacksquare$"
   ]
  },
  {
   "attachments": {},
   "cell_type": "markdown",
   "metadata": {
    "slideshow": {
     "slide_type": "subslide"
    }
   },
   "source": [
    "\n",
    "**Implementation:**\n",
    "\n",
    "How would we implement our solution? We sort by value/weight ratios and take successive items until we end with a possibly fractional item. The work is $O(n\\log n + n) = O(n\\log n)$ and the span is $O(\\log^2 n + n) = O(n)$."
   ]
  }
 ],
 "metadata": {
  "celltoolbar": "Slideshow",
  "kernelspec": {
   "display_name": "Python 3.9.6 64-bit",
   "language": "python",
   "name": "python3"
  },
  "language_info": {
   "codemirror_mode": {
    "name": "ipython",
    "version": 3
   },
   "file_extension": ".py",
   "mimetype": "text/x-python",
   "name": "python",
   "nbconvert_exporter": "python",
   "pygments_lexer": "ipython3",
   "version": "3.10.12"
  },
  "rise": {
   "autolaunch": true,
   "controls": false,
   "enable_chalkboard": true,
   "scroll": true,
   "theme": "simple",
   "transition": "fade"
  },
  "toc": {
   "base_numbering": 1,
   "nav_menu": {},
   "number_sections": true,
   "sideBar": true,
   "skip_h1_title": true,
   "title_cell": "Table of Contents",
   "title_sidebar": "Contents",
   "toc_cell": true,
   "toc_position": {},
   "toc_section_display": true,
   "toc_window_display": false
  },
  "vscode": {
   "interpreter": {
    "hash": "aee8b7b246df8f9039afb4144a1f6fd8d2ca17a180786b69acc140d282b71a49"
   }
  }
 },
 "nbformat": 4,
 "nbformat_minor": 4
}
