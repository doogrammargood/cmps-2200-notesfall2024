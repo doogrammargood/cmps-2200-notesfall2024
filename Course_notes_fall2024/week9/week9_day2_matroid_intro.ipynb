{
 "cells": [
  {
   "cell_type": "code",
   "execution_count": null,
   "metadata": {},
   "outputs": [],
   "source": [
    "# setup\n",
    "from IPython.core.display import display,HTML\n",
    "display(HTML('<style>.prompt{width: 0px; min-width: 0px; visibility: collapse}</style>'))\n",
    "display(HTML(open('../rise.css').read()))\n",
    "\n",
    "# imports\n",
    "import numpy as np\n",
    "import matplotlib.pyplot as plt\n",
    "import seaborn as sns\n",
    "%matplotlib inline\n",
    "sns.set(style=\"whitegrid\", font_scale=1.5, rc={'figure.figsize':(12, 6)})\n"
   ]
  },
  {
   "cell_type": "markdown",
   "metadata": {},
   "source": [
    "<h1>Enter the Matroid: Spanning Trees</h1>\n",
    "\n",
    "<h3>Last Time</h3>\n",
    "We started discussing greedy algorithms. I mentioned that there is a general (but not all-encompassing) framework for understanding them in terms of greedoids/matroids.\n",
    "\n",
    "<h3>This Time</h3>\n",
    "We will introduce Matroids and see a first example: Spanning Trees. This example demonstrates how matroids are related to greedy algorithms. Matroids generalize linear independence of vectors and spanning trees of graphs. Greedoids generalize matroids and can be used to understand the behavior of many greedy algorithms, such as Dijkstra's algorithm.\n",
    "\n",
    "The main reference for this is Greedoids by Lovasz, Korte and Schrader, 1991. This [blog post](https://nor-blog.codeberg.page/posts/2023-01-04-greedoids/) is a short summary."
   ]
  },
  {
   "cell_type": "markdown",
   "metadata": {},
   "source": [
    "<h3>Matroids</h3>\n",
    "\n",
    "Matroids generalize linear independent sets and spanning trees.\n",
    "\n",
    "Linear Independence:\n",
    "- Let $E$ be a set of vectors. For example, $E=\\{(0,1,1), (1,0,0), (1,1,1), (2,0,0)\\}$\n",
    "- The set is linearly independent if no vector in the set can be written as a linear combination of the other vectors in the set. For example, $\\{(0,1,1),(1,0,0)\\}$ is linearly independent but $\\{(0,1,1),(1,0,0),(1,1,1)\\}$ is not.\n",
    "- The collection of linearly independent subsets of $E$ is an example of a matroid. (A vector matroid)\n",
    "\n",
    "Spanning Trees:\n",
    "- Let $G$ be a connected graph.\n",
    "- A subforest subgraph $S\\subset G$ such that $V(S)=V(G)$ and $S$ does not have cycles.\n",
    "- The collection of subforests of $G$ is an example of a matroid. (A graphic matroid)"
   ]
  },
  {
   "cell_type": "markdown",
   "metadata": {},
   "source": [
    "<h3>Matroid axioms</h3>\n",
    "\n",
    "A set system $(E,\\mathcal{M})$ is a finite set $E$ and a collection of subsets, $\\mathcal{M}\\subset 2^E$.\n",
    "\n",
    "A matroid is a set system that satisfies the axioms:\n",
    "1. (Nontrivial) $\\emptyset \\in \\mathcal{M}$.\n",
    "2. (Downward closed) If $X\\in \\mathcal{M}$ and $Y\\subset X$, then $Y\\in \\mathcal{M}$.\n",
    "3. (Augmentation) If $X,Y\\in \\mathcal{M}$ and $|X|=|Y|+1$, then there exists $x\\in X-Y$ such that $Y\\cup\\{x\\}\\in \\mathcal{M}$.\n",
    "\n",
    "Check that linearly independent sets and subgraphs without cycles both satisfy these axioms.\n",
    "The main property to check is exchange.\n",
    "<details>\n",
    "<summary>Verifying the exchange property for vector and graphic matroids.</summary>\n",
    "\n",
    "Vector Matroids:\n",
    "If $X,Y$ both sets of independent vectors with $|X|=|Y|+1$, then $X$ spans a space of dimension $|Y|+1$, so there is some $x\\in X$ that is outside the span of $Y$. The set $Y\\cup \\{x\\}$ is linearly independent.\n",
    "\n",
    "Graphic Matroids:\n",
    "Suppose that $X,Y$ are both subgraphs of a graph $G$ without cycles and that $|E(X)|=|E(Y)|+1$. If $x\\in E(X)$ does not have both endpoints in the same connected component as $Y$, then we can add $x$ to $Y$ without creating a cycle. So suppose no $x$ exists. Thus, each edge of $X$ has both endpoints in a connected component of $Y$. Each connected component $C$ of $Y$ can only hold at most $|V(C)|-1$ edges of $X$ and holds exactly $|V(C)|-1$ edges of $Y$. But this means that $|E(X)|\\leq |E(Y)|$, which contradicts our assumption.\n",
    "\n",
    "</details>"
   ]
  },
  {
   "cell_type": "markdown",
   "metadata": {},
   "source": [
    "<h3>Matroids and greedy algorithms</h3>\n",
    "\n",
    "Whenever there is a matroid, there is a problem that admits a greedy algorithm.\n",
    "\n",
    "Let $(E,\\mathcal{M})$ be a matroid. Let $w:E\\to \\mathbb{R}_+$ be a weight function. Find $\\max(\\{\\sum_{v\\in M }w(v) :M\\in \\mathcal{M}\\})$.\n",
    "\n",
    "The greedy algorithm finds a maximal element of $B$ by greedily choosing the element with the largest $w$.\n",
    "\n",
    "1. Initialize $M=\\emptyset$.\n",
    "2. While $M$ is not maximal in $\\mathcal{M}$ with respect to inclusion:\n",
    "    1. $v \\coloneqq argmax(\\{w(v): v\\in E-M, M\\cup\\{v\\}\\in \\mathcal{M}\\})$\n",
    "    2. $M\\coloneqq M\\cup\\{v\\}$\n",
    "3. Return $M$."
   ]
  },
  {
   "cell_type": "markdown",
   "metadata": {},
   "source": [
    "By replacing $w(v)$ with $w^\\prime(v) = A-w(v)$, our greedy algorithm also works on the associated minimization problem."
   ]
  },
  {
   "cell_type": "markdown",
   "metadata": {},
   "source": [
    "<h3>Proof of matroid greedy strategy</h3>\n",
    "\n",
    "The proof operates by induction on the size of $M$.\n",
    "\n",
    "1. Let $M$ be the partial solution given by the greedy strategy. Assume that $M$ is optimal for its size: $|M^\\prime|= |M| \\implies w(M^\\prime)\\leq w(M)$.\n",
    "    - This is the inductive hypothesis. (What's the base case?)\n",
    "2. Suppose that $X\\in \\mathcal{M}$ satisfies $|X|=|M|+1$ and $X$ is optimal for its size.\n",
    "3. There exists $x\\in X$ such that $M\\cup \\{x\\}\\in \\mathcal{M}$.\n",
    "    - Augmentation axiom.\n",
    "4. $w(X)=\\sum_{y\\in X} w(y)\\geq w(M\\cup\\{x\\})=(\\sum_{m\\in M}w(m))+w(x)$\n",
    "    - Since by 2., $X$ is optimal for its size.\n",
    "5. $\\sum_{y \\in X-\\{x\\}} w(y)\\geq \\sum_{m\\in M} w(m)$\n",
    "    - Removing w(x) from both sums above.\n",
    "6. $\\sum_{y\\in X-\\{x\\}} w(y)=\\sum_{m\\in M}w(m)$\n",
    "    - optimality of $M$, the hereditary axiom.\n",
    "7. $\\sum_{y\\in X} w(y)=\\sum_{m\\in M\\cup \\{x\\}} w(m)$\n",
    "    - Add $w(x)$ back to both sides.\n",
    "\n",
    "This argument shows that $M\\cup \\{x\\}$ is optimal for its size. Note that the element $v$ chosen in step 2.1 of the greedy algorithm must satisfy $w(v)=w(x)$. We get the inequality $w(v)\\geq w(x)$ because $x$ is a feasible choice for the optimization problem defining $v$. If the two were not equal, then $w(v)>w(x)$ would contradict the optimality of $M\\cup \\{x\\}$. This shows that $M\\cup \\{v\\}$ is optimal for its size and re-establishes the inductive hypothesis for the next step."
   ]
  },
  {
   "cell_type": "markdown",
   "metadata": {},
   "source": [
    "<h3>Minimal Spanning Trees</h3>\n",
    "\n",
    "Let $G$ be a connected graph with non-negative edge weights. A minimal spanning tree is a subset of the edges that forms a spanning tree so that the sum of the weights is minimal.\n",
    "\n",
    "Since spanning trees are subforest and subforests form a matroid, we get a greedy algoirthm to find the minimal spanning tree. This is called Kruskal's algorithm. The idea is to greedily add the lightest edges to the spanning tree as long as the edge does not create a cycle.\n",
    "\n",
    "We need an additional datastructure to determine if an edge will create a cycle. This is the [union/find](https://en.wikipedia.org/wiki/Disjoint-set_data_structure) data structure. Maybe we should discuss this more later, but it's so fast that we can ignore its cost."
   ]
  },
  {
   "cell_type": "markdown",
   "metadata": {},
   "source": [
    "### Kruskal's Algorithm\n",
    "\n",
    "0. Initialize tree $T \\leftarrow \\emptyset$  \n",
    "\n",
    "1. For each $v \\in V$, run `make_set(v)`\n",
    "\n",
    "2. Sort edges in increasing order of weight\n",
    "\n",
    "3. For each edge $e=(u,v)$ in sorted set:\n",
    "  - if `find_set(u)` $\\ne$ `find_set(v)`:\n",
    "    - $T \\leftarrow T \\cup \\{(u,v)\\}$\n",
    "    - `union(u,v)`\n",
    "\n",
    "### Kruskal's Algorithm - work\n",
    "\n",
    "0. Initialize tree $T \\leftarrow \\emptyset$\n",
    "  - $O(1)$\n",
    "\n",
    "1. For each $v \\in V$, run `make_set(v)` \n",
    " - $O(|V|)$\n",
    "\n",
    "2. Sort edges in increasing order of weight \n",
    "  - $O(|E|\\lg |E|)$\n",
    "\n",
    "3. For each edge $e=(u,v)$ in sorted set: $O(|E|)$\n",
    "  - if `find_set(u)` $\\ne$ `find_set(v)`: $O(\\log |V|)$\n",
    "    - $T \\leftarrow T \\cup \\{(u,v)\\}$\n",
    "    - `union(u,v)`\n",
    "  - Together: $O(|E|\\log |V|)$\n",
    "\n",
    "Thus, total work is $O(|E|\\log |E|)$\n",
    "\n",
    "If the graph is dense, then we have $E \\in O(|V|^2)$, and this is equivalent to:\n",
    "\n",
    "$O(|E|\\log |V|^2) = O(2|E| \\log |V|) = O(|E| \\log |V|)$"
   ]
  },
  {
   "cell_type": "markdown",
   "metadata": {},
   "source": []
  }
 ],
 "metadata": {
  "language_info": {
   "name": "python"
  }
 },
 "nbformat": 4,
 "nbformat_minor": 2
}
