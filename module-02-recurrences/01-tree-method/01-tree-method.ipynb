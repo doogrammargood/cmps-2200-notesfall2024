{
 "cells": [
  {
   "cell_type": "code",
   "execution_count": 2,
   "metadata": {
    "code_folding": [],
    "slideshow": {
     "slide_type": "skip"
    }
   },
   "outputs": [
    {
     "data": {
      "text/html": [
       "<style>.prompt{width: 0px; min-width: 0px; visibility: collapse}</style>"
      ],
      "text/plain": [
       "<IPython.core.display.HTML object>"
      ]
     },
     "metadata": {},
     "output_type": "display_data"
    },
    {
     "data": {
      "text/html": [
       "<style>\n",
       "div#notebook {\n",
       " font-family: \"Exo_2\", sans-serif;\n",
       "}\n",
       "\n",
       ".rendered_html h1,\n",
       ".text_cell_render h1 {\n",
       " color: #126dce;\n",
       " font-size: 220%;\n",
       " text-align: center;\n",
       " font-weight: lighter;\n",
       "}\n",
       ".rendered_html h2,\n",
       ".text_cell_render h2 {\n",
       " text-align: center;\n",
       " font-size: 170%;\n",
       " color: #126dce;\n",
       " font-style: normal;\n",
       " font-weight: lighter;\n",
       "}\n",
       ".rendered_html h3,\n",
       ".text_cell_render h3 {\n",
       " font-size: 150%;\n",
       " color: #126dce;\n",
       " font-weight: lighter;\n",
       " text-decoration: italic;\n",
       " font-style: normal;\n",
       "}\n",
       ".rendered_html h4,\n",
       ".text_cell_render h4 {\n",
       " font-size: 120%;\n",
       " color: #126dce;\n",
       " font-weight: underline;\n",
       " font-style: normal;\n",
       "}\n",
       ".rendered_html h5,\n",
       ".text_cell_render h5 {\n",
       " font-size: 100%;\n",
       " color: #2f2f2f;\n",
       " font-weight: lighter;\n",
       " text-decoration: underline;\n",
       "}\n",
       "</style>\n"
      ],
      "text/plain": [
       "<IPython.core.display.HTML object>"
      ]
     },
     "metadata": {},
     "output_type": "display_data"
    }
   ],
   "source": [
    "# setup\n",
    "from IPython.display import display,HTML\n",
    "display(HTML('<style>.prompt{width: 0px; min-width: 0px; visibility: collapse}</style>'))\n",
    "display(HTML(open('../rise.css').read()))\n",
    "\n",
    "# imports\n",
    "import numpy as np\n",
    "import matplotlib.pyplot as plt\n",
    "import seaborn as sns\n",
    "%matplotlib inline\n",
    "sns.set(style=\"whitegrid\", font_scale=1.5, rc={'figure.figsize':(12, 6)})\n",
    "import time\n",
    "import tabulate\n"
   ]
  },
  {
   "attachments": {},
   "cell_type": "markdown",
   "metadata": {
    "slideshow": {
     "slide_type": "slide"
    }
   },
   "source": [
    "# CMPS 2200\n",
    "# Introduction to Algorithms\n",
    "\n",
    "## Recurrences - Intro & the Tree Method\n"
   ]
  },
  {
   "attachments": {},
   "cell_type": "markdown",
   "metadata": {
    "slideshow": {
     "slide_type": "slide"
    }
   },
   "source": [
    "## Recurrences\n",
    "\n",
    "Recurrences are a way to capture the behavior of recursive algorithms.\n",
    "\n",
    "Key ingredients: \n",
    "\n",
    "- Base case ($n = b_c$): constant time \n",
    "- Inductive case ($n > b_c$): recurse on smaller instance and use output to compute solution\n",
    "\n",
    "> $b_c$ is the size of the base case problems\n"
   ]
  },
  {
   "attachments": {},
   "cell_type": "markdown",
   "metadata": {
    "slideshow": {
     "slide_type": "fragment"
    }
   },
   "source": [
    "\n",
    "Actually recursion is a conceptual way to view algorithm execution, and we can reframe an algorithm specification to make it recursive.\n",
    "\n"
   ]
  },
  {
   "attachments": {},
   "cell_type": "markdown",
   "metadata": {
    "slideshow": {
     "slide_type": "slide"
    }
   },
   "source": [
    "## Selection Sort\n",
    "\n",
    "Consider `selection_sort`:"
   ]
  },
  {
   "cell_type": "code",
   "execution_count": null,
   "metadata": {},
   "outputs": [],
   "source": [
    "def selection_sort(L):\n",
    "    for i in range(len(L)):\n",
    "        print(L)\n",
    "        m = L.index(min(L[i:]))\n",
    "        L[i], L[m] = L[m], L[i]\n",
    "    return L\n",
    "                   \n",
    "selection_sort([2, 1, 4, 3, 9])"
   ]
  },
  {
   "attachments": {},
   "cell_type": "markdown",
   "metadata": {},
   "source": [
    "How can we reframe it recursively?"
   ]
  },
  {
   "cell_type": "code",
   "execution_count": null,
   "metadata": {
    "slideshow": {
     "slide_type": "fragment"
    }
   },
   "outputs": [],
   "source": [
    "def selection_sort_recursive(L):\n",
    "    print('L=%s' % L)\n",
    "    if (len(L) == 1):\n",
    "        return(L)\n",
    "    else:\n",
    "        m = L.index(min(L))\n",
    "        L[0], L[m] = L[m], L[0]\n",
    "        return [L[0]] + selection_sort_recursive(L[1:])\n",
    "    \n",
    "selection_sort_recursive([2, 1, 999, 4, 3])"
   ]
  },
  {
   "attachments": {},
   "cell_type": "markdown",
   "metadata": {},
   "source": []
  },
  {
   "attachments": {},
   "cell_type": "markdown",
   "metadata": {
    "slideshow": {
     "slide_type": "slide"
    }
   },
   "source": [
    "What is the running time and why?"
   ]
  },
  {
   "cell_type": "code",
   "execution_count": null,
   "metadata": {},
   "outputs": [],
   "source": [
    "def selection_sort_recursive(L):\n",
    "    print('L=%s' % L)\n",
    "    if (len(L) == 1):\n",
    "        return(L)\n",
    "    else:\n",
    "        m = L.index(min(L))\n",
    "        L[0], L[m] = L[m], L[0]\n",
    "        return [L[0]] + selection_sort_recursive(L[1:])"
   ]
  },
  {
   "attachments": {},
   "cell_type": "markdown",
   "metadata": {
    "slideshow": {
     "slide_type": "fragment"
    }
   },
   "source": [
    "$\n",
    "\\begin{align}\n",
    "W(n) &= W(n-1) + n \\\\\n",
    "&= W(n-2) + (n - 1) + n  \\\\\n",
    "&= W(n-3) + (n - 2) + (n - 1) + n \\\\\n",
    "&= ...\n",
    "\\end{align}\n",
    "$\n"
   ]
  },
  {
   "attachments": {},
   "cell_type": "markdown",
   "metadata": {
    "slideshow": {
     "slide_type": "fragment"
    }
   },
   "source": [
    "$\\begin{align}\n",
    "W(n) &=& \\sum_{i=1}^n i  \\\\\n",
    "&=& \\frac{n(n+1)}{2} \\\\\n",
    "&=& \\Theta(n^2).\n",
    "\\end{align}$\n"
   ]
  },
  {
   "attachments": {},
   "cell_type": "markdown",
   "metadata": {
    "slideshow": {
     "slide_type": "slide"
    }
   },
   "source": [
    "## Asymptotic Proof"
   ]
  },
  {
   "attachments": {},
   "cell_type": "markdown",
   "metadata": {},
   "source": [
    "Why is it true that $\\frac{n(n+1)}{2} \\in \\Theta(n^2)$?\n",
    "\n",
    "Quickly, we can see that the highest order term is $n^2$ and so this makes sense. \n",
    "\n",
    "> $ \\frac{n(n+1)}{2} = \\frac{n^2}{2}+\\frac{n}{2}$\n",
    "\n",
    "However, we can prove it rigorously.\n",
    "\n",
    "We can either use **the limit theorem** *or* prove it **directly from the asymptotic definition** by finding the necessary constants.\n",
    "\n",
    "For practice, lets do the latter."
   ]
  },
  {
   "attachments": {},
   "cell_type": "markdown",
   "metadata": {
    "slideshow": {
     "slide_type": "slide"
    }
   },
   "source": [
    "### Asymptotic Proof that $\\frac{n(n+1)}{2} \\in \\Theta(n^2)$\n",
    "\n",
    "By definition:\n",
    "\n",
    "$f(n) \\in \\Theta(g(n))$ if **there exist** positive constants $c_1$, $c_2$, and $n_0$ such that\n",
    "\n",
    "$c_1 \\cdot g(n) \\le f(n) \\le c_2 \\cdot g(n)$ **for all** $n \\ge n_0$\n",
    "\n",
    "<br>\n"
   ]
  },
  {
   "attachments": {},
   "cell_type": "markdown",
   "metadata": {
    "slideshow": {
     "slide_type": "fragment"
    }
   },
   "source": [
    "\n",
    "Thus we need $c_1$, $c_2$, and $n_0$ s.t.\n",
    "\n",
    "$$c_1 \\cdot n^2 \\le \\frac{n^2}{2}+\\frac{n}{2} \\le c_2 \\cdot n^2 \\qquad \\forall \\quad n >= n_0$$\n",
    "\n"
   ]
  },
  {
   "attachments": {},
   "cell_type": "markdown",
   "metadata": {
    "slideshow": {
     "slide_type": "subslide"
    }
   },
   "source": [
    "**Left side**\n",
    "\n",
    "$$c_1 \\cdot n^2 \\le \\frac{n^2}{2}+\\frac{n}{2} \\le c_2 \\cdot n^2 \\qquad \\forall \\quad n >= n_0$$\n",
    "\n",
    "What $c_1$ can we pick to make the left inequality true?\n",
    "\n",
    "$$c_1 \\cdot n^2 \\le \\frac{n^2}{2}+\\frac{n}{2}$$"
   ]
  },
  {
   "attachments": {},
   "cell_type": "markdown",
   "metadata": {
    "slideshow": {
     "slide_type": "fragment"
    }
   },
   "source": [
    "If we let $c_1 = 1/2$, then\n",
    "\n",
    "$$\\frac{n^2}{2} <= \\frac{n^2}{2}+\\frac{n}{2}$$\n",
    "\n",
    "This is obviously true for all $n \\ge 0$."
   ]
  },
  {
   "attachments": {},
   "cell_type": "markdown",
   "metadata": {
    "slideshow": {
     "slide_type": "subslide"
    }
   },
   "source": [
    "**Right side**\n",
    "\n",
    "What about the other side?\n",
    "\n",
    "$$\\frac{n^2}{2}+\\frac{n}{2} \\le c_2 \\cdot n^2$$\n",
    "\n",
    "What $c_2$ can we choose?"
   ]
  },
  {
   "attachments": {},
   "cell_type": "markdown",
   "metadata": {
    "slideshow": {
     "slide_type": "fragment"
    }
   },
   "source": [
    "If we let $c_2 = 1$, then\n",
    "\n",
    "$$\\frac{n^2}{2}+\\frac{n}{2} <= n^2$$\n",
    "\n",
    "Is this statement true?"
   ]
  },
  {
   "attachments": {},
   "cell_type": "markdown",
   "metadata": {
    "slideshow": {
     "slide_type": "fragment"
    }
   },
   "source": [
    "Yes! \n"
   ]
  },
  {
   "attachments": {},
   "cell_type": "markdown",
   "metadata": {
    "slideshow": {
     "slide_type": "fragment"
    }
   },
   "source": [
    "\n",
    "We have that:\n",
    "\n",
    "$\\frac{n^2}{2}+\\frac{n}{2} <= n^2 \\qquad \\forall \\; n \\ge 0$\n",
    "\n",
    "Thus $n_0 = 0$."
   ]
  },
  {
   "attachments": {},
   "cell_type": "markdown",
   "metadata": {
    "slideshow": {
     "slide_type": "subslide"
    }
   },
   "source": [
    "**Putting it all together**\n",
    "\n",
    "Finally, we have that $ \\frac{n^2}{2} \\le \\frac{n^2}{2}+\\frac{n}{2} \\le n^2$.\n",
    "\n",
    "This is true $\\forall \\; n >= 0$.\n",
    "\n",
    "We have chosen $c_1 = \\frac{1}{2}$, $c_2 = 1$, and $n_0 = 0$.\n",
    "\n",
    "Since we have found constants to satisfy the asymptotic definition, $\\frac{n(n+1)}{2} \\in \\Theta(n^2) \\quad \\blacksquare$\n"
   ]
  },
  {
   "attachments": {},
   "cell_type": "markdown",
   "metadata": {
    "slideshow": {
     "slide_type": "slide"
    }
   },
   "source": [
    "### Working towards more general recurrences\n",
    "\n",
    "The recurrence for Selection Sort is somewhat simple - what if we have multiple recursive calls and split the input? (like *divide-and-conquer* algorithms)\n",
    "\n",
    "We'll learn methods to solve recurrences for general recursive algorithms.\n",
    "\n",
    "We will:\n",
    "\n",
    "- Get intuition for recurrences by analyzing their recursion trees. \n",
    "\n",
    "- Develop the **brick** method to quickly state asymptotic bounds for many recurrences by looking at the patterns of these trees."
   ]
  },
  {
   "attachments": {},
   "cell_type": "markdown",
   "metadata": {
    "slideshow": {
     "slide_type": "slide"
    }
   },
   "source": [
    "## Merge Sort\n",
    "\n",
    "Let's look at the specification and recurrence for Merge Sort: "
   ]
  },
  {
   "cell_type": "code",
   "execution_count": null,
   "metadata": {},
   "outputs": [],
   "source": [
    "def merge_sort(lst):\n",
    "    if len(lst) <= 1:\n",
    "        return lst\n",
    "\n",
    "    mid = len(lst)//2\n",
    "    left = merge_sort(lst[:mid])\n",
    "    right = merge_sort(lst[mid:])\n",
    "\n",
    "    return merge(left, right) # implementation omitted"
   ]
  },
  {
   "attachments": {},
   "cell_type": "markdown",
   "metadata": {
    "slideshow": {
     "slide_type": "fragment"
    }
   },
   "source": [
    "`merge_sort` sorts a list by recursively sorting both halves of the list and merging the results with $\\Theta(n)$ work.\n"
   ]
  },
  {
   "attachments": {},
   "cell_type": "markdown",
   "metadata": {
    "slideshow": {
     "slide_type": "fragment"
    }
   },
   "source": [
    "\n",
    "The recurrence for the work is: \n",
    "\n",
    "$$\n",
    "\\begin{align}\n",
    "W(n) = \\begin{cases}\n",
    "  c_b, & \\text{if $n=1$} \\\\\n",
    "  2W(n/2) + c_1n + c_2, & \\text{otherwise} \n",
    "  \\end{cases}\n",
    "\\end{align}\n",
    "$$\n",
    "\n",
    "How do we solve this recurrence to obtain $W(n) = O(n\\log n)$?\n",
    "\n"
   ]
  },
  {
   "attachments": {},
   "cell_type": "markdown",
   "metadata": {
    "slideshow": {
     "slide_type": "fragment"
    }
   },
   "source": [
    "First, we draw the recursion tree for the recurrence."
   ]
  },
  {
   "attachments": {},
   "cell_type": "markdown",
   "metadata": {
    "slideshow": {
     "slide_type": "slide"
    }
   },
   "source": [
    "## Drawing the Recursion Tree\n",
    "\n",
    "<img src = \"figures/mergesort_tree_1.jpeg\" width = \"100%\" class=\"center\">"
   ]
  },
  {
   "attachments": {},
   "cell_type": "markdown",
   "metadata": {
    "slideshow": {
     "slide_type": "subslide"
    }
   },
   "source": [
    "<img src = \"figures/mergesort_tree_2.jpeg\" width = \"100%\" class=\"center\">\n"
   ]
  },
  {
   "attachments": {},
   "cell_type": "markdown",
   "metadata": {
    "slideshow": {
     "slide_type": "slide"
    }
   },
   "source": [
    "## Solving Recurrences with the Tree Method \n",
    "\n",
    "### Recipe: \n",
    "1. Expand tree for two levels.\n",
    "2. Determine the cost of each level $i$ ($i$ starts at $0$).\n",
    "3. Determine the number of levels\n",
    "4. Cost = $\\sum_{i=0}^{\\hbox{num levels}}$ cost for level $i$\n",
    "  - This last step usually involves using properties of series\n",
    "  \n",
    "<br>"
   ]
  },
  {
   "attachments": {},
   "cell_type": "markdown",
   "metadata": {
    "slideshow": {
     "slide_type": "slide"
    }
   },
   "source": [
    "## Solving the Summation\n",
    "\n",
    "$$W(n) = \\sum_{i=0}^{\\lg n} (c_1n + 2^i c_2)$$\n",
    "\n",
    "$$= \\sum_{i=0}^{\\lg n}c_1 n + \\sum_{i=0}^{\\lg n} 2^i c_2$$\n"
   ]
  },
  {
   "attachments": {},
   "cell_type": "markdown",
   "metadata": {
    "slideshow": {
     "slide_type": "fragment"
    }
   },
   "source": [
    "$$= c_1n \\sum_{i=0}^{\\lg n} 1 + c_2 \\sum_{i=0}^{\\lg n} 2^i$$"
   ]
  },
  {
   "attachments": {},
   "cell_type": "markdown",
   "metadata": {
    "slideshow": {
     "slide_type": "subslide"
    }
   },
   "source": [
    "\n",
    "To solve this, we'll make use of bounds for **geometric series**. \n",
    "\n",
    "For $\\alpha > 1$: $\\:\\:\\: \\sum_{i=0}^n \\alpha^i  < \\frac{\\alpha}{\\alpha - 1}\\cdot\\alpha^n$\n",
    "\n",
    "e.g,\n",
    "\n",
    "$\\sum_{i=0}^{\\lg n} 2^i < \\frac{2}{1} * 2^{\\lg n} = 2n$\n",
    "\n",
    "<br>\n",
    "\n",
    "For $\\alpha < 1$: $\\:\\:\\: \\sum_{i=0}^\\infty \\alpha^i  < \\frac{1}{1-\\alpha}$\n",
    "\n",
    "e.g,\n",
    "\n",
    "$\\sum_{i=0}^{\\lg n} \\frac{1}{2^i} < 2$"
   ]
  },
  {
   "attachments": {},
   "cell_type": "markdown",
   "metadata": {
    "slideshow": {
     "slide_type": "subslide"
    }
   },
   "source": [
    "\n",
    "<br> plugging in...\n",
    "\n",
    "$$= \\sum_{i=0}^{\\lg n} (c_1 n + 2^i c_2)$$\n",
    "\n",
    "$$= \\sum_{i=0}^{\\lg n}c_1 n + \\sum_{i=0}^{\\lg n} 2^i c_2$$\n",
    "\n",
    "$$= c_1n \\sum_{i=0}^{\\lg n} 1 + c_2 \\sum_{i=0}^{\\lg n} 2^i$$\n"
   ]
  },
  {
   "attachments": {},
   "cell_type": "markdown",
   "metadata": {
    "slideshow": {
     "slide_type": "fragment"
    }
   },
   "source": [
    "\n",
    "$$<c_1n \\lg n + 2 c_2 n$$\n"
   ]
  },
  {
   "attachments": {},
   "cell_type": "markdown",
   "metadata": {
    "slideshow": {
     "slide_type": "fragment"
    }
   },
   "source": [
    "\n",
    "$$\\in O(n \\lg n)$$"
   ]
  },
  {
   "attachments": {},
   "cell_type": "markdown",
   "metadata": {
    "slideshow": {
     "slide_type": "slide"
    }
   },
   "source": [
    "## What about the span?\n",
    "\n",
    "The recurrence for the span of Mergesort is:\n",
    "\n",
    "$$\n",
    "\\begin{align}\n",
    "S(n) = \\begin{cases}\n",
    "  c_3, & \\text{if $n=1$} \\\\\n",
    "  S(n/2) + c_4 \\lg n, & \\text{otherwise} \n",
    "  \\end{cases}\n",
    "\\end{align}\n",
    "$$\n",
    "\n",
    "Why?\n"
   ]
  },
  {
   "attachments": {},
   "cell_type": "markdown",
   "metadata": {
    "slideshow": {
     "slide_type": "subslide"
    }
   },
   "source": [
    "The branching factor is $1$.\n",
    "\n",
    "$S(n) = \\pmb{S(n/2)} + c_4 \\lg n$"
   ]
  },
  {
   "attachments": {},
   "cell_type": "markdown",
   "metadata": {},
   "source": [
    "<img src = \"figures/span_in_work_tree.jpeg\" width = \"100%\" class=\"center\">"
   ]
  },
  {
   "attachments": {},
   "cell_type": "markdown",
   "metadata": {
    "slideshow": {
     "slide_type": "subslide"
    }
   },
   "source": [
    "$S(n) = S(n/2) + \\pmb{c_4 \\lg n}$\n",
    "\n",
    "For span recurrences, this term represents the span of each subproblem.\n",
    "\n",
    "A sequential merge algorithm requires $O(n)$ work and span.\n",
    "\n",
    "However, there exists a [parallel merge algorithm](https://www.mcs.anl.gov/~itf/dbpp/text/node127.html) with:\n",
    "\n",
    "- $W(n) \\in O(n)$\n",
    "- $S(n) \\in O(\\lg n)$"
   ]
  },
  {
   "attachments": {},
   "cell_type": "markdown",
   "metadata": {
    "slideshow": {
     "slide_type": "subslide"
    }
   },
   "source": [
    "### Solving the Span recurrence\n",
    "\n",
    "$$\n",
    "\\begin{align}\n",
    "S(n) = \\begin{cases}\n",
    "  c_3, & \\text{if $n=1$} \\\\\n",
    "  S(n/2) + c_4 \\lg n, & \\text{otherwise} \n",
    "  \\end{cases}\n",
    "\\end{align}\n",
    "$$\n",
    "\n",
    "<img src=\"figures/span_tree.jpeg\" width=\"500\">\n"
   ]
  },
  {
   "attachments": {},
   "cell_type": "markdown",
   "metadata": {
    "slideshow": {
     "slide_type": "subslide"
    }
   },
   "source": [
    "$ \\begin{align}\n",
    "S(n) & = & \\sum_{i=0}^{\\lg n} \\lg\\frac{n}{2^i}\\\\\n",
    "& = & \\sum_{i=0}^{\\lg n} (\\lg n - i)\\\\\n",
    "& = & \\sum_{i=0}^{\\lg n} (\\lg n) - \\sum_{i=1}^{\\lg n} i\\\\\n",
    "& < & \\lg^2 n  - \\frac{1}{2}\\lg n * (\\lg n+1) \\:\\: (\\hbox{using}\\:\\:\\sum_{i=0}^n = \\frac{n(n+1)}{2})\\\\\n",
    "& < & \\lg^2n - \\frac{1}{2}\\lg^2 n - \\frac{1}{2}  \\lg n\\\\\n",
    "& \\in & O(\\lg^2 n)\\\\\n",
    "\\end{align}$"
   ]
  },
  {
   "attachments": {},
   "cell_type": "markdown",
   "metadata": {
    "slideshow": {
     "slide_type": "slide"
    }
   },
   "source": [
    "### Divide and Conquer\n",
    "\n",
    "Merge Sort is a divide-and-conquer algorithm. \n",
    "\n",
    "A divide-and-conquer algorithm, at each step, divides the problem into subproblems, solves each, then combines the results to arrive at the final solution.\n",
    "\n",
    "Recurrences can easily be written and interpretted from the perspective of divide and conquer algorithms.\n"
   ]
  },
  {
   "attachments": {},
   "cell_type": "markdown",
   "metadata": {
    "slideshow": {
     "slide_type": "fragment"
    }
   },
   "source": [
    "$$\n",
    "W(n) = \\begin{cases}\n",
    "  c_b, & \\text{if $n=1$} \\\\\n",
    "  aW(\\frac{n}{b}) + f(n), & \\text{otherwise} \n",
    "  \\end{cases}\n",
    "$$\n",
    "\n",
    "- $a$ is the branching factor.\n",
    "- $\\frac{n}{b}$ gives us the sub-problem size at the next level.\n",
    "- $f(n)$ is the cost of the work within each recursive call."
   ]
  },
  {
   "attachments": {},
   "cell_type": "markdown",
   "metadata": {
    "slideshow": {
     "slide_type": "subslide"
    }
   },
   "source": [
    "## General Recurrences\n",
    "\n",
    "<img src=\"figures/general-recursion-tree.jpeg\">"
   ]
  },
  {
   "attachments": {},
   "cell_type": "markdown",
   "metadata": {
    "slideshow": {
     "slide_type": "slide"
    }
   },
   "source": [
    "### More Practice\n",
    "\n",
    "Another recurrence:\n",
    "    \n",
    "$$\n",
    "W(n) = \\begin{cases}\n",
    "  c_b, & \\text{if $n=1$} \\\\\n",
    "  2W(n/2) + n^2, & \\text{otherwise} \n",
    "  \\end{cases}\n",
    "$$\n",
    "\n",
    "What is the asymptotic runtime?"
   ]
  },
  {
   "attachments": {},
   "cell_type": "markdown",
   "metadata": {
    "slideshow": {
     "slide_type": "slide"
    }
   },
   "source": [
    "$$W(n) = 2W(n/2) + n^2$$\n",
    "\n",
    "<img width=\"110%\" src=\"figures/quadratic-recurrence.jpeg\"/>\n",
    "\n"
   ]
  },
  {
   "attachments": {},
   "cell_type": "markdown",
   "metadata": {
    "slideshow": {
     "slide_type": "subslide"
    }
   },
   "source": [
    "$W(n) = \\sum_i^{\\lg n} (\\frac{n^2}{2^i})$\n",
    "\n",
    "$= n^2 \\sum_{i=0}^{\\lg n} \\frac{1}{2^i}$\n",
    "\n",
    "$= c_1 n^2 \\sum_{i=0}^{\\lg n} (\\frac{1}{2})^i$\n",
    "\n"
   ]
  },
  {
   "attachments": {},
   "cell_type": "markdown",
   "metadata": {
    "slideshow": {
     "slide_type": "fragment"
    }
   },
   "source": [
    "To solve this, we can again use **geometric series**.\n",
    "\n",
    "\n",
    "For $\\alpha < 1$: $\\:\\:\\: \\sum_{i=0}^\\infty \\alpha^i  < \\frac{1}{1-\\alpha}$\n",
    "\n",
    "e.g., $\\sum_{i=0}^{\\lg n} \\frac{1}{2^i} < 2$"
   ]
  },
  {
   "attachments": {},
   "cell_type": "markdown",
   "metadata": {
    "slideshow": {
     "slide_type": "fragment"
    }
   },
   "source": [
    "$< 2 n^2$\n",
    "\n",
    "$\\in O(n^2)$"
   ]
  },
  {
   "attachments": {},
   "cell_type": "markdown",
   "metadata": {
    "slideshow": {
     "slide_type": "slide"
    }
   },
   "source": [
    "So what if branching factor is not 2?\n",
    "\n",
    "<img width=\"110%\" src=\"figures/quadratic-recurrence_2.jpeg\"/>\n"
   ]
  },
  {
   "attachments": {},
   "cell_type": "markdown",
   "metadata": {
    "slideshow": {
     "slide_type": "subslide"
    }
   },
   "source": [
    "$$W(n) = \\sum_{i=0}^{\\lg n} n^2$$\n",
    "\n",
    "<br>\n",
    "\n",
    "still $\\lg n$ levels. Why?\n",
    "\n",
    "Because at every level we are dividing the problem size in half, so we still need $\\log_2 n$ levels.\n"
   ]
  },
  {
   "attachments": {},
   "cell_type": "markdown",
   "metadata": {
    "slideshow": {
     "slide_type": "fragment"
    }
   },
   "source": [
    "> If we were dividing the problem size in thirds, we would need $\\log_3 n$ levels"
   ]
  },
  {
   "attachments": {},
   "cell_type": "markdown",
   "metadata": {
    "slideshow": {
     "slide_type": "subslide"
    }
   },
   "source": [
    "$$W(n) = \\sum_{i=0}^{\\lg n} n^2$$\n",
    "\n",
    "$$W(n) = n^2 \\sum_{i=0}^{\\lg n} 1$$\n",
    "\n",
    "$$W(n) = n^2 \\lg n$$\n",
    "\n",
    "$$W(n) \\in \\Theta(n^2 \\lg n)$$"
   ]
  },
  {
   "attachments": {},
   "cell_type": "markdown",
   "metadata": {
    "slideshow": {
     "slide_type": "slide"
    }
   },
   "source": [
    "## Coming up\n",
    "\n",
    "We will general our **recurrence** solving strategies by noting common patterns in our recursion trees."
   ]
  }
 ],
 "metadata": {
  "celltoolbar": "Slideshow",
  "kernelspec": {
   "display_name": "Python 3.9.6 64-bit",
   "language": "python",
   "name": "python3"
  },
  "language_info": {
   "codemirror_mode": {
    "name": "ipython",
    "version": 3
   },
   "file_extension": ".py",
   "mimetype": "text/x-python",
   "name": "python",
   "nbconvert_exporter": "python",
   "pygments_lexer": "ipython3",
   "version": "3.10.12"
  },
  "rise": {
   "autolaunch": true,
   "controls": false,
   "enable_chalkboard": true,
   "scroll": true,
   "theme": "simple",
   "transition": "fade"
  },
  "toc": {
   "base_numbering": 1,
   "nav_menu": {},
   "number_sections": true,
   "sideBar": true,
   "skip_h1_title": true,
   "title_cell": "Table of Contents",
   "title_sidebar": "Contents",
   "toc_cell": true,
   "toc_position": {},
   "toc_section_display": true,
   "toc_window_display": false
  },
  "vscode": {
   "interpreter": {
    "hash": "aee8b7b246df8f9039afb4144a1f6fd8d2ca17a180786b69acc140d282b71a49"
   }
  }
 },
 "nbformat": 4,
 "nbformat_minor": 4
}
