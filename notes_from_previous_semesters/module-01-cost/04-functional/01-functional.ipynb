{
 "cells": [
  {
   "cell_type": "code",
   "execution_count": 1,
   "metadata": {
    "code_folding": [],
    "slideshow": {
     "slide_type": "skip"
    }
   },
   "outputs": [
    {
     "data": {
      "text/html": [
       "<style>.prompt{width: 0px; min-width: 0px; visibility: collapse}</style>"
      ],
      "text/plain": [
       "<IPython.core.display.HTML object>"
      ]
     },
     "metadata": {},
     "output_type": "display_data"
    },
    {
     "data": {
      "text/html": [
       "<style>\n",
       "div#notebook {\n",
       " font-family: \"Exo_2\", sans-serif;\n",
       "}\n",
       "\n",
       ".rendered_html h1,\n",
       ".text_cell_render h1 {\n",
       " color: #126dce;\n",
       " font-size: 220%;\n",
       " text-align: center;\n",
       " font-weight: lighter;\n",
       "}\n",
       ".rendered_html h2,\n",
       ".text_cell_render h2 {\n",
       " text-align: center;\n",
       " font-size: 170%;\n",
       " color: #126dce;\n",
       " font-style: normal;\n",
       " font-weight: lighter;\n",
       "}\n",
       ".rendered_html h3,\n",
       ".text_cell_render h3 {\n",
       " font-size: 150%;\n",
       " color: #126dce;\n",
       " font-weight: lighter;\n",
       " text-decoration: italic;\n",
       " font-style: normal;\n",
       "}\n",
       ".rendered_html h4,\n",
       ".text_cell_render h4 {\n",
       " font-size: 120%;\n",
       " color: #126dce;\n",
       " font-weight: underline;\n",
       " font-style: normal;\n",
       "}\n",
       ".rendered_html h5,\n",
       ".text_cell_render h5 {\n",
       " font-size: 100%;\n",
       " color: #2f2f2f;\n",
       " font-weight: lighter;\n",
       " text-decoration: underline;\n",
       "}\n",
       "</style>\n"
      ],
      "text/plain": [
       "<IPython.core.display.HTML object>"
      ]
     },
     "metadata": {},
     "output_type": "display_data"
    }
   ],
   "source": [
    "# setup\n",
    "from IPython.core.display import display,HTML\n",
    "display(HTML('<style>.prompt{width: 0px; min-width: 0px; visibility: collapse}</style>'))\n",
    "display(HTML(open('rise.css').read()))\n",
    "\n",
    "# imports\n",
    "import numpy as np\n",
    "import matplotlib.pyplot as plt\n",
    "import seaborn as sns\n",
    "%matplotlib inline\n",
    "sns.set(style=\"whitegrid\", font_scale=1.5, rc={'figure.figsize':(12, 6)})\n"
   ]
  },
  {
   "attachments": {},
   "cell_type": "markdown",
   "metadata": {
    "slideshow": {
     "slide_type": "slide"
    }
   },
   "source": [
    "# CMPS 2200\n",
    "# Introduction to Algorithms\n",
    "\n",
    "## Functional Programming\n"
   ]
  },
  {
   "attachments": {},
   "cell_type": "markdown",
   "metadata": {
    "slideshow": {
     "slide_type": "slide"
    }
   },
   "source": [
    "Agenda:\n",
    "\n",
    "- What is functional programming?\n",
    "- What's the connection between functional programming and parallelism?\n",
    "- How do we perform computation in functional languages?"
   ]
  },
  {
   "attachments": {},
   "cell_type": "markdown",
   "metadata": {
    "slideshow": {
     "slide_type": "slide"
    }
   },
   "source": [
    "## Specifying algorithms\n",
    "\n",
    "We need a way to specify both **what** and algorithm does and **how** it does it.\n",
    "\n",
    "**Algorithm specification**: defines what an algorithm should do.\n",
    "\n",
    "> Given a sequence $A$ of $n$ elements, return a sequence $B$ such that $B[i] \\leq B[j]$ for all $0 \\leq i \\le j \\le n$\n",
    "\n",
    "May also include **cost specification**, e.g. $O(n \\log n)$ work and. $O(\\log^2 n)$ span."
   ]
  },
  {
   "attachments": {},
   "cell_type": "markdown",
   "metadata": {
    "slideshow": {
     "slide_type": "fragment"
    }
   },
   "source": [
    "**Algorithm implementation** (or just **algorithm**): defines **how** an algorithm works.\n",
    "\n",
    "This could be real, working code, or pseudo-code.\n",
    "\n"
   ]
  },
  {
   "attachments": {},
   "cell_type": "markdown",
   "metadata": {
    "slideshow": {
     "slide_type": "fragment"
    }
   },
   "source": [
    "Our textbook uses a pseudo code language called **SPARC**\n",
    "- based on a functional language called ML.\n",
    "- suitable for parallel algorithms\n",
    "- good level of abstraction for talking about parallel algorithms\n",
    "\n",
    "As much as possible, we will also show Python versions of key algorithms."
   ]
  },
  {
   "attachments": {},
   "cell_type": "markdown",
   "metadata": {
    "slideshow": {
     "slide_type": "slide"
    }
   },
   "source": [
    "## Functional languages\n",
    "\n",
    "In functional languages, functions act like mathematical functions.\n",
    "\n",
    "Two key properties:\n",
    "\n",
    "1. function maps an input to an output $f : X \\mapsto Y$\n",
    "    - no **side effects**\n",
    "2. function can be treated as values\n",
    "    - function A can be passed to function B"
   ]
  },
  {
   "attachments": {},
   "cell_type": "markdown",
   "metadata": {
    "slideshow": {
     "slide_type": "slide"
    }
   },
   "source": [
    "## Pure function\n",
    "\n",
    "A function is **pure** if it maps an input to an output with no **side effects**. \n",
    "\n",
    "A **side effect** is any change in the state of a program outside of a function's output\n",
    "\n",
    "**Pure** functions are simple. Pure functions \n",
    "- only take input through parameters and return output calculated from that input. \n",
    "- do not depend on nor modify outside state.\n",
    "\n",
    "A computation is **pure** if all of its functions are pure.\n"
   ]
  },
  {
   "attachments": {},
   "cell_type": "markdown",
   "metadata": {
    "slideshow": {
     "slide_type": "subslide"
    }
   },
   "source": [
    "### Example"
   ]
  },
  {
   "cell_type": "code",
   "execution_count": 14,
   "metadata": {},
   "outputs": [
    {
     "data": {
      "text/plain": [
       "20"
      ]
     },
     "execution_count": 14,
     "metadata": {},
     "output_type": "execute_result"
    }
   ],
   "source": [
    "def double(value):\n",
    "    return 2 * value\n",
    "\n",
    "double(10)"
   ]
  },
  {
   "attachments": {},
   "cell_type": "markdown",
   "metadata": {},
   "source": [
    "We can view the `double` function as a mathematical function, defined by the mapping:\n",
    "\n",
    "$$ \\{(0, 0), (1, 2), (2, 4), \\ldots \\}$$\n",
    "\n",
    "versus..."
   ]
  },
  {
   "cell_type": "code",
   "execution_count": 2,
   "metadata": {
    "slideshow": {
     "slide_type": "fragment"
    }
   },
   "outputs": [
    {
     "data": {
      "text/plain": [
       "[1, 2, 3, 6]"
      ]
     },
     "execution_count": 2,
     "metadata": {},
     "output_type": "execute_result"
    }
   ],
   "source": [
    "def append_sum(mylist):\n",
    "    return mylist.append(sum(mylist))\n",
    "\n",
    "mylist = [1,2,3]\n",
    "append_sum(mylist)\n",
    "mylist"
   ]
  },
  {
   "attachments": {},
   "cell_type": "markdown",
   "metadata": {
    "slideshow": {
     "slide_type": "fragment"
    }
   },
   "source": [
    "This has the side effecet of changing (or *mutating*) `mylist`."
   ]
  },
  {
   "attachments": {},
   "cell_type": "markdown",
   "metadata": {
    "slideshow": {
     "slide_type": "subslide"
    }
   },
   "source": [
    "though compare with..."
   ]
  },
  {
   "cell_type": "code",
   "execution_count": 1,
   "metadata": {
    "slideshow": {
     "slide_type": "fragment"
    }
   },
   "outputs": [
    {
     "data": {
      "text/plain": [
       "[1, 2, 3]"
      ]
     },
     "execution_count": 1,
     "metadata": {},
     "output_type": "execute_result"
    }
   ],
   "source": [
    "def append_sum(mylist):\n",
    "    return list(mylist).append(sum(mylist))\n",
    "\n",
    "mylist = [1,2,3]\n",
    "append_sum(mylist)\n",
    "mylist"
   ]
  },
  {
   "attachments": {},
   "cell_type": "markdown",
   "metadata": {
    "slideshow": {
     "slide_type": "slide"
    }
   },
   "source": [
    "## Why is pure computation good for parallel programming?"
   ]
  },
  {
   "attachments": {},
   "cell_type": "markdown",
   "metadata": {
    "slideshow": {
     "slide_type": "fragment"
    }
   },
   "source": [
    "  Recall our **race condition** example:"
   ]
  },
  {
   "cell_type": "code",
   "execution_count": 21,
   "metadata": {
    "slideshow": {
     "slide_type": "fragment"
    }
   },
   "outputs": [
    {
     "name": "stdout",
     "output_type": "stream",
     "text": [
      "171037\n"
     ]
    }
   ],
   "source": [
    "from multiprocessing.pool import ThreadPool\n",
    "\n",
    "def in_parallel(f1, arg1, f2, arg2):\n",
    "    with ThreadPool(2) as pool:\n",
    "        result1 = pool.apply_async(f1, [arg1])  # launch f1\n",
    "        result2 = pool.apply_async(f2, [arg2])  # launch f2\n",
    "        return (result1.get(), result2.get())   # wait for both to finish\n",
    "    \n",
    "total = 0\n",
    "\n",
    "def count(size):\n",
    "    global total\n",
    "    for _ in range(size):\n",
    "        total += 1\n",
    "    \n",
    "def race_condition_example():\n",
    "    global total\n",
    "    in_parallel(count, 100000,\n",
    "                count, 100000)\n",
    "    print(total)\n",
    "    \n",
    "race_condition_example()"
   ]
  },
  {
   "attachments": {},
   "cell_type": "markdown",
   "metadata": {
    "slideshow": {
     "slide_type": "fragment"
    }
   },
   "source": [
    "The `count` function has a side-effect of changing the global variable `total`."
   ]
  },
  {
   "attachments": {},
   "cell_type": "markdown",
   "metadata": {
    "slideshow": {
     "slide_type": "slide"
    }
   },
   "source": [
    "## Heisenbugs\n",
    "\n",
    "<img src=\"figures/heisenberg.jpg\" width=\"10%\"/>\n",
    "\n",
    "- Race conditions can lead to bugs that only appear, e.g., 1 out of 1000 runs of the program.\n",
    "- Reference to Heisenberg uncertainty principal (the bug disappears when you study it, but reappears when you stop studying it)"
   ]
  },
  {
   "attachments": {},
   "cell_type": "markdown",
   "metadata": {
    "slideshow": {
     "slide_type": "fragment"
    }
   },
   "source": [
    "\n",
    "More generally, if we want to parallelize two functions $f(a)$ and $g(b)$, we want the same result **no matter which order they are run in.**\n",
    "\n",
    "> Because of the lack of side-effects, pure functions satisfy this condition."
   ]
  },
  {
   "attachments": {},
   "cell_type": "markdown",
   "metadata": {
    "slideshow": {
     "slide_type": "slide"
    }
   },
   "source": [
    "## Data Persistence\n",
    "\n",
    "In pure computation no data can ever be overwritten, only new data can be created.   \n",
    "\n",
    "Data is therefore always **persistent**\n",
    "  —if you keep a reference to a data structure, it will always be there and in the same state as it started.\n",
    "\n",
    "### Isn't this horribly space inefficient?"
   ]
  },
  {
   "attachments": {},
   "cell_type": "markdown",
   "metadata": {
    "slideshow": {
     "slide_type": "fragment"
    }
   },
   "source": [
    "> garbage collection"
   ]
  },
  {
   "attachments": {},
   "cell_type": "markdown",
   "metadata": {
    "slideshow": {
     "slide_type": "slide"
    }
   },
   "source": [
    "## Functional languages\n",
    "\n",
    "In functional languages, functions act like mathematical functions.\n",
    "\n",
    "Two key properties:\n",
    "\n",
    "1. function maps an input to an output $f : X \\mapsto Y$\n",
    "    - no side effects\n",
    "2. **function can be treated as values**\n",
    "    - **function A can be passed to function B**"
   ]
  },
  {
   "attachments": {},
   "cell_type": "markdown",
   "metadata": {
    "slideshow": {
     "slide_type": "slide"
    }
   },
   "source": [
    "## Functions as values\n",
    "\n",
    "Many languages allow functions to be passed to other functions.\n",
    "\n",
    "Functions as \"first-class values.\""
   ]
  },
  {
   "cell_type": "code",
   "execution_count": 22,
   "metadata": {
    "slideshow": {
     "slide_type": "fragment"
    }
   },
   "outputs": [
    {
     "data": {
      "text/plain": [
       "12"
      ]
     },
     "execution_count": 22,
     "metadata": {},
     "output_type": "execute_result"
    }
   ],
   "source": [
    "def double(value):\n",
    "    return 2 * value\n",
    "\n",
    "def double_and_sum(double_fn, vals):\n",
    "    total = 0\n",
    "    for v in vals:\n",
    "        total += double_fn(v)\n",
    "    return total\n",
    "\n",
    "# pass the function double to the function double_and_sum\n",
    "double_and_sum(double, [1,2,3]) \n",
    "# 1*2 + 2*2 + 3*3"
   ]
  },
  {
   "attachments": {},
   "cell_type": "markdown",
   "metadata": {
    "slideshow": {
     "slide_type": "fragment"
    }
   },
   "source": [
    "`double_and_sum` is called a **higher-order function**, since it takes another function as input."
   ]
  },
  {
   "attachments": {},
   "cell_type": "markdown",
   "metadata": {
    "slideshow": {
     "slide_type": "slide"
    }
   },
   "source": [
    "Why is this useful?"
   ]
  },
  {
   "cell_type": "code",
   "execution_count": 8,
   "metadata": {
    "slideshow": {
     "slide_type": "fragment"
    }
   },
   "outputs": [
    {
     "data": {
      "text/plain": [
       "[2, 4, 6]"
      ]
     },
     "execution_count": 8,
     "metadata": {},
     "output_type": "execute_result"
    }
   ],
   "source": [
    "def map_function(function, values):\n",
    "    for v in values:\n",
    "        yield function(v)\n",
    "\n",
    "list(map_function(double, [1,2,3]))"
   ]
  },
  {
   "attachments": {},
   "cell_type": "markdown",
   "metadata": {
    "slideshow": {
     "slide_type": "fragment"
    }
   },
   "source": [
    "`yield` turns the function into an iterable object which returns values in the order that they are yielded. For more info, see this [guru99 tutorial](https://www.guru99.com/python-yield-return-generator.html)."
   ]
  },
  {
   "cell_type": "code",
   "execution_count": 9,
   "metadata": {
    "slideshow": {
     "slide_type": "fragment"
    }
   },
   "outputs": [
    {
     "data": {
      "text/plain": [
       "[1, 4, 9]"
      ]
     },
     "execution_count": 9,
     "metadata": {},
     "output_type": "execute_result"
    }
   ],
   "source": [
    "def square(value):\n",
    "    return value * value\n",
    "\n",
    "list(map_function(square, [1,2,3]))"
   ]
  },
  {
   "cell_type": "code",
   "execution_count": 10,
   "metadata": {
    "slideshow": {
     "slide_type": "fragment"
    }
   },
   "outputs": [
    {
     "data": {
      "text/plain": [
       "[2, 8, 18]"
      ]
     },
     "execution_count": 10,
     "metadata": {},
     "output_type": "execute_result"
    }
   ],
   "source": [
    "list(map_function(double, map_function(square, [1,2,3])))"
   ]
  },
  {
   "attachments": {},
   "cell_type": "markdown",
   "metadata": {
    "slideshow": {
     "slide_type": "subslide"
    }
   },
   "source": [
    "## What's the big deal?"
   ]
  },
  {
   "cell_type": "code",
   "execution_count": null,
   "metadata": {},
   "outputs": [],
   "source": [
    "def map_function(function, values):\n",
    "    for v in values:\n",
    "        yield function(v)\n",
    "\n",
    "list(map_function(double, [1,2,3]))"
   ]
  },
  {
   "attachments": {},
   "cell_type": "markdown",
   "metadata": {},
   "source": [
    "- If we know that `function` is pure, then we can trivially parallelize `map_function` for many inputs.\n",
    "\n",
    "- By using higher-order functions, we can define a few primitive, high-order functions that will make it easier to reason about and analyze run-time of parallel computations."
   ]
  },
  {
   "attachments": {},
   "cell_type": "markdown",
   "metadata": {
    "slideshow": {
     "slide_type": "slide"
    }
   },
   "source": [
    "## Lambda Functions\n",
    "\n",
    "- Lambda functions are anonymous functions that we can quickly define and use in python\n",
    "- They come from Lambda Calculus developed by Alonso Church"
   ]
  },
  {
   "cell_type": "code",
   "execution_count": 25,
   "metadata": {
    "slideshow": {
     "slide_type": "fragment"
    }
   },
   "outputs": [
    {
     "data": {
      "text/plain": [
       "100"
      ]
     },
     "execution_count": 25,
     "metadata": {},
     "output_type": "execute_result"
    }
   ],
   "source": [
    "# lambda functions exist in Python.\n",
    "# these are anonymous functions (no names)\n",
    "# Here, e_2 is a variable.\n",
    "(lambda x: x*x)(10)"
   ]
  },
  {
   "attachments": {},
   "cell_type": "markdown",
   "metadata": {
    "slideshow": {
     "slide_type": "fragment"
    }
   },
   "source": [
    "We can also chain functions together. E.g., $e_2$ can be another function."
   ]
  },
  {
   "cell_type": "code",
   "execution_count": 12,
   "metadata": {
    "slideshow": {
     "slide_type": "fragment"
    }
   },
   "outputs": [
    {
     "data": {
      "text/plain": [
       "144"
      ]
     },
     "execution_count": 12,
     "metadata": {},
     "output_type": "execute_result"
    }
   ],
   "source": [
    "(lambda x: x*x)((lambda x: x+2)(10))\n",
    "# square(add_two(10))"
   ]
  },
  {
   "attachments": {},
   "cell_type": "markdown",
   "metadata": {
    "slideshow": {
     "slide_type": "subslide"
    }
   },
   "source": [
    "Doing computation via lambda calculus seems limiting. \n",
    "\n",
    "Can it compute everything we need?"
   ]
  },
  {
   "attachments": {},
   "cell_type": "markdown",
   "metadata": {
    "slideshow": {
     "slide_type": "fragment"
    }
   },
   "source": [
    "Surprising result:\n",
    "\n",
    "The Lambda calculus is equivalent to Turing Machines.\n",
    "\n",
    "That is...  \n",
    "\n",
    "Anything that can be computed by a Turing Machine can also be computed by the Lambda calculus, and visa versa.\n",
    "\n",
    "\n",
    "More details: \n",
    "- CMPS/MATH 3250\n",
    "- [**Church-Turing Thesis**](https://en.wikipedia.org/wiki/Church%E2%80%93Turing_thesis)\n"
   ]
  },
  {
   "attachments": {},
   "cell_type": "markdown",
   "metadata": {
    "slideshow": {
     "slide_type": "slide"
    }
   },
   "source": [
    "## Coming up\n",
    "\n",
    "Next we will learn about SPARC, the functional psuedo-language used in our book."
   ]
  }
 ],
 "metadata": {
  "celltoolbar": "Slideshow",
  "kernelspec": {
   "display_name": "Python 3 (ipykernel)",
   "language": "python",
   "name": "python3"
  },
  "language_info": {
   "codemirror_mode": {
    "name": "ipython",
    "version": 3
   },
   "file_extension": ".py",
   "mimetype": "text/x-python",
   "name": "python",
   "nbconvert_exporter": "python",
   "pygments_lexer": "ipython3",
   "version": "3.9.6"
  },
  "rise": {
   "autolaunch": true,
   "controls": false,
   "enable_chalkboard": true,
   "scroll": true,
   "theme": "simple",
   "transition": "fade"
  },
  "toc": {
   "base_numbering": 1,
   "nav_menu": {},
   "number_sections": true,
   "sideBar": true,
   "skip_h1_title": true,
   "title_cell": "Table of Contents",
   "title_sidebar": "Contents",
   "toc_cell": true,
   "toc_position": {},
   "toc_section_display": true,
   "toc_window_display": false
  },
  "vscode": {
   "interpreter": {
    "hash": "aee8b7b246df8f9039afb4144a1f6fd8d2ca17a180786b69acc140d282b71a49"
   }
  }
 },
 "nbformat": 4,
 "nbformat_minor": 4
}
