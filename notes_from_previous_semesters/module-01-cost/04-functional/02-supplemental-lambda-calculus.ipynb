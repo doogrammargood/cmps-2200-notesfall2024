{
 "cells": [
  {
   "cell_type": "code",
   "execution_count": 1,
   "metadata": {
    "code_folding": [],
    "slideshow": {
     "slide_type": "skip"
    }
   },
   "outputs": [
    {
     "data": {
      "text/html": [
       "<style>.prompt{width: 0px; min-width: 0px; visibility: collapse}</style>"
      ],
      "text/plain": [
       "<IPython.core.display.HTML object>"
      ]
     },
     "metadata": {},
     "output_type": "display_data"
    },
    {
     "data": {
      "text/html": [
       "<style>\n",
       "div#notebook {\n",
       " font-family: \"Exo_2\", sans-serif;\n",
       "}\n",
       "\n",
       ".rendered_html h1,\n",
       ".text_cell_render h1 {\n",
       " color: #126dce;\n",
       " font-size: 220%;\n",
       " text-align: center;\n",
       " font-weight: lighter;\n",
       "}\n",
       ".rendered_html h2,\n",
       ".text_cell_render h2 {\n",
       " text-align: center;\n",
       " font-size: 170%;\n",
       " color: #126dce;\n",
       " font-style: normal;\n",
       " font-weight: lighter;\n",
       "}\n",
       ".rendered_html h3,\n",
       ".text_cell_render h3 {\n",
       " font-size: 150%;\n",
       " color: #126dce;\n",
       " font-weight: lighter;\n",
       " text-decoration: italic;\n",
       " font-style: normal;\n",
       "}\n",
       ".rendered_html h4,\n",
       ".text_cell_render h4 {\n",
       " font-size: 120%;\n",
       " color: #126dce;\n",
       " font-weight: underline;\n",
       " font-style: normal;\n",
       "}\n",
       ".rendered_html h5,\n",
       ".text_cell_render h5 {\n",
       " font-size: 100%;\n",
       " color: #2f2f2f;\n",
       " font-weight: lighter;\n",
       " text-decoration: underline;\n",
       "}\n",
       "</style>\n"
      ],
      "text/plain": [
       "<IPython.core.display.HTML object>"
      ]
     },
     "metadata": {},
     "output_type": "display_data"
    }
   ],
   "source": [
    "# setup\n",
    "from IPython.core.display import display,HTML\n",
    "display(HTML('<style>.prompt{width: 0px; min-width: 0px; visibility: collapse}</style>'))\n",
    "display(HTML(open('rise.css').read()))\n",
    "\n",
    "# imports\n",
    "import numpy as np\n",
    "import matplotlib.pyplot as plt\n",
    "import seaborn as sns\n",
    "%matplotlib inline\n",
    "sns.set(style=\"whitegrid\", font_scale=1.5, rc={'figure.figsize':(12, 6)})\n"
   ]
  },
  {
   "cell_type": "markdown",
   "metadata": {
    "slideshow": {
     "slide_type": "slide"
    }
   },
   "source": [
    "# CMPS 2200\n",
    "# Introduction to Algorithms\n",
    "\n",
    "## Functional Programming\n"
   ]
  },
  {
   "cell_type": "markdown",
   "metadata": {
    "slideshow": {
     "slide_type": "slide"
    }
   },
   "source": [
    "## Lambda Calculus\n",
    "\n",
    "- pure language developed by Alonzo Church in the 1930s\n",
    "- inherently parallel"
   ]
  },
  {
   "cell_type": "markdown",
   "metadata": {
    "slideshow": {
     "slide_type": "fragment"
    }
   },
   "source": [
    "Consists of expressions $e$ in one of three forms:\n",
    "\n",
    "1. a **variable**, e.g., $x$\n",
    "2. a **lambda abstraction**, e.g., $(\\lambda \\: x \\: . \\: e)$, where $e$ is a function body.\n",
    "3. an **application**, written $(e_1, e_2)$ for expressions $e_1$, $e_2$."
   ]
  },
  {
   "cell_type": "markdown",
   "metadata": {
    "slideshow": {
     "slide_type": "slide"
    }
   },
   "source": [
    "### Beta reduction\n",
    "\n",
    "A generic way of applying a sequence of anonymous functions.\n",
    "\n",
    "$$\n",
    "(\\lambda \\: x \\: . \\: e_1) e_2 \\mapsto e_1 [x / e_2]\n",
    "$$\n",
    "\n",
    "$e_1 [x / e_2]$: for every free occurence of $x$ in $e_1$, substitute it with $e_2$.\n",
    "\n",
    "Can read as \"substitute $e_2$ for $x$ in $e_1$.\"\n",
    "\n",
    "E.g.\n"
   ]
  },
  {
   "cell_type": "code",
   "execution_count": 11,
   "metadata": {
    "slideshow": {
     "slide_type": "fragment"
    }
   },
   "outputs": [
    {
     "data": {
      "text/plain": [
       "100"
      ]
     },
     "execution_count": 11,
     "metadata": {},
     "output_type": "execute_result"
    }
   ],
   "source": [
    "# lambda functions exist in Python.\n",
    "# these are anonymous functions (no names)\n",
    "# Here, e_2 is a variable.\n",
    "(lambda x: x*x)(10)"
   ]
  },
  {
   "cell_type": "markdown",
   "metadata": {
    "slideshow": {
     "slide_type": "fragment"
    }
   },
   "source": [
    "\n",
    "$\n",
    "(\\lambda \\: x \\: . \\: x * x) \\:  10 \\mapsto 10 * 10 \\mapsto 100\n",
    "$"
   ]
  },
  {
   "cell_type": "markdown",
   "metadata": {
    "slideshow": {
     "slide_type": "slide"
    }
   },
   "source": [
    "We can also chain functions together. E.g., $e_2$ can be another function."
   ]
  },
  {
   "cell_type": "code",
   "execution_count": 12,
   "metadata": {
    "slideshow": {
     "slide_type": "fragment"
    }
   },
   "outputs": [
    {
     "data": {
      "text/plain": [
       "144"
      ]
     },
     "execution_count": 12,
     "metadata": {},
     "output_type": "execute_result"
    }
   ],
   "source": [
    "(lambda x: x*x)((lambda x: x+2)(10))"
   ]
  },
  {
   "cell_type": "markdown",
   "metadata": {
    "slideshow": {
     "slide_type": "fragment"
    }
   },
   "source": [
    "beta reduction:\n",
    "\n",
    "$ (\\lambda \\: x \\: . \\: x * x)((\\lambda \\: x \\: . \\:   x+2) \\: 10 ) \\mapsto$  \n",
    "$(\\lambda \\: x \\: . x * x) \\: (10+2) \\mapsto$  \n",
    "$(\\lambda \\: x \\: . x * x) \\: 12 \\mapsto$  \n",
    "$( 12 * 12 ) \\mapsto$  \n",
    "$ 144 $\n",
    "\n",
    "<br>\n",
    "\n",
    "**Could we have done this in any other order?**"
   ]
  },
  {
   "cell_type": "markdown",
   "metadata": {
    "slideshow": {
     "slide_type": "fragment"
    }
   },
   "source": [
    "$( (\\lambda \\: x \\: . \\: x * x) (\\lambda \\: x \\: . \\:   x+2)) \\: 10  \\mapsto$  \n",
    "$(\\lambda \\: x \\: . (x+2) * (x+2)) \\: 10 \\mapsto$  \n",
    "$(10+2) * (10+2) \\mapsto$  \n",
    "$ 144 $\n"
   ]
  },
  {
   "cell_type": "markdown",
   "metadata": {
    "slideshow": {
     "slide_type": "slide"
    }
   },
   "source": [
    "## Beta reduction order\n",
    "\n",
    "$$\n",
    "(\\lambda \\: x \\: . \\: e_1) e_2 \\mapsto e_1 [x / e_2]\n",
    "$$\n",
    "\n",
    "**call-by-value:** (first example): $e_2$ is evaluated to a value first, then reduction is applied\n",
    "- square(10+2)\n",
    "- square(12)\n",
    "- 12*12\n",
    "- 144\n",
    "- Languages that use call-by-value are called **strict**: argument is always evaluated before applying function\n",
    "\n"
   ]
  },
  {
   "cell_type": "markdown",
   "metadata": {
    "slideshow": {
     "slide_type": "fragment"
    }
   },
   "source": [
    "**call-by-need:** (second example): $e_2$ is first copied into $e_1$, then $e_1$ is evaluated.\n",
    "- square(10+2)\n",
    "- (10+2)*(10+2)\n",
    "- 144\n"
   ]
  },
  {
   "cell_type": "markdown",
   "metadata": {
    "slideshow": {
     "slide_type": "fragment"
    }
   },
   "source": [
    "We will be using call-by-value, which is more amenable to parallelism."
   ]
  },
  {
   "cell_type": "markdown",
   "metadata": {
    "slideshow": {
     "slide_type": "slide"
    }
   },
   "source": [
    "## Computation via beta reductions\n",
    "\n",
    "**Computation** in lambda calculus means to apply beta reductions until there is nothing left to reduce.\n",
    "\n",
    "When there is nothing left to reduce, the expression is in **normal form**.\n",
    "\n",
    "<br>\n",
    "\n",
    "How can we make an infinite loop in lambda computation?"
   ]
  },
  {
   "cell_type": "markdown",
   "metadata": {
    "slideshow": {
     "slide_type": "fragment"
    }
   },
   "source": [
    "$ ( (\\lambda \\: x \\: . \\: (x \\: x)) (\\lambda \\: x \\: . \\: (x \\: x))) \\mapsto$"
   ]
  },
  {
   "cell_type": "markdown",
   "metadata": {
    "slideshow": {
     "slide_type": "fragment"
    }
   },
   "source": [
    "$ ( (\\lambda \\: x \\: . \\: (x \\: x)) (\\lambda \\: x \\: . \\: (x \\: x)))$"
   ]
  },
  {
   "cell_type": "markdown",
   "metadata": {
    "slideshow": {
     "slide_type": "slide"
    }
   },
   "source": [
    "Doing computation via lambda calculus seems limiting. \n",
    "\n",
    "Can it compute everything we need?"
   ]
  },
  {
   "cell_type": "markdown",
   "metadata": {
    "slideshow": {
     "slide_type": "fragment"
    }
   },
   "source": [
    "Surprising result:\n",
    "\n",
    "The Lambda calculus is equivalent to Turing Machines.\n",
    "\n",
    "That is...  \n",
    "\n",
    "Anything that can be computed by a Turing Machine can also be computed by the Lambda calculus, and visa versa.\n",
    "\n",
    "\n",
    "More details: \n",
    "- CMPS/MATH 3250\n",
    "- [**Church-Turing Thesis**](https://en.wikipedia.org/wiki/Church%E2%80%93Turing_thesis)\n"
   ]
  }
 ],
 "metadata": {
  "celltoolbar": "Slideshow",
  "kernelspec": {
   "display_name": "Python 3.9.6 64-bit",
   "language": "python",
   "name": "python3"
  },
  "language_info": {
   "codemirror_mode": {
    "name": "ipython",
    "version": 3
   },
   "file_extension": ".py",
   "mimetype": "text/x-python",
   "name": "python",
   "nbconvert_exporter": "python",
   "pygments_lexer": "ipython3",
   "version": "3.9.6"
  },
  "rise": {
   "autolaunch": true,
   "controls": false,
   "enable_chalkboard": true,
   "scroll": true,
   "theme": "simple",
   "transition": "fade"
  },
  "toc": {
   "base_numbering": 1,
   "nav_menu": {},
   "number_sections": true,
   "sideBar": true,
   "skip_h1_title": true,
   "title_cell": "Table of Contents",
   "title_sidebar": "Contents",
   "toc_cell": true,
   "toc_position": {},
   "toc_section_display": true,
   "toc_window_display": false
  },
  "vscode": {
   "interpreter": {
    "hash": "aee8b7b246df8f9039afb4144a1f6fd8d2ca17a180786b69acc140d282b71a49"
   }
  }
 },
 "nbformat": 4,
 "nbformat_minor": 4
}
