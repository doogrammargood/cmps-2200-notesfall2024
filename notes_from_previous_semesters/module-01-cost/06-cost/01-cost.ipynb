{
 "cells": [
  {
   "cell_type": "code",
   "execution_count": 3,
   "metadata": {
    "code_folding": [],
    "slideshow": {
     "slide_type": "skip"
    }
   },
   "outputs": [
    {
     "data": {
      "text/html": [
       "<style>.prompt{width: 0px; min-width: 0px; visibility: collapse}</style>"
      ],
      "text/plain": [
       "<IPython.core.display.HTML object>"
      ]
     },
     "metadata": {},
     "output_type": "display_data"
    },
    {
     "data": {
      "text/html": [
       "<style>\n",
       "div#notebook {\n",
       " font-family: \"Exo_2\", sans-serif;\n",
       "}\n",
       "\n",
       ".rendered_html h1,\n",
       ".text_cell_render h1 {\n",
       " color: #126dce;\n",
       " font-size: 220%;\n",
       " text-align: center;\n",
       " font-weight: lighter;\n",
       "}\n",
       ".rendered_html h2,\n",
       ".text_cell_render h2 {\n",
       " text-align: center;\n",
       " font-size: 170%;\n",
       " color: #126dce;\n",
       " font-style: normal;\n",
       " font-weight: lighter;\n",
       "}\n",
       ".rendered_html h3,\n",
       ".text_cell_render h3 {\n",
       " font-size: 150%;\n",
       " color: #126dce;\n",
       " font-weight: lighter;\n",
       " text-decoration: italic;\n",
       " font-style: normal;\n",
       "}\n",
       ".rendered_html h4,\n",
       ".text_cell_render h4 {\n",
       " font-size: 120%;\n",
       " color: #126dce;\n",
       " font-weight: underline;\n",
       " font-style: normal;\n",
       "}\n",
       ".rendered_html h5,\n",
       ".text_cell_render h5 {\n",
       " font-size: 100%;\n",
       " color: #2f2f2f;\n",
       " font-weight: lighter;\n",
       " text-decoration: underline;\n",
       "}\n",
       "</style>\n"
      ],
      "text/plain": [
       "<IPython.core.display.HTML object>"
      ]
     },
     "metadata": {},
     "output_type": "display_data"
    }
   ],
   "source": [
    "# setup\n",
    "from IPython.core.display import display,HTML\n",
    "display(HTML('<style>.prompt{width: 0px; min-width: 0px; visibility: collapse}</style>'))\n",
    "display(HTML(open('rise.css').read()))\n",
    "\n",
    "# imports\n",
    "import numpy as np\n",
    "import matplotlib.pyplot as plt\n",
    "import seaborn as sns\n",
    "%matplotlib inline\n",
    "sns.set(style=\"whitegrid\", font_scale=1.5, rc={'figure.figsize':(12, 6)})\n"
   ]
  },
  {
   "attachments": {},
   "cell_type": "markdown",
   "metadata": {
    "slideshow": {
     "slide_type": "slide"
    }
   },
   "source": [
    "# CMPS 2200\n",
    "# Introduction to Algorithms\n",
    "\n",
    "## Cost models\n"
   ]
  },
  {
   "cell_type": "markdown",
   "metadata": {
    "slideshow": {
     "slide_type": "slide"
    }
   },
   "source": [
    "Agenda:\n",
    "\n",
    "- Different ways to model computational cost\n",
    "  + Random Access Machine\n",
    "  + Language Based Models\n",
    "    - SPARC's Cost Model"
   ]
  },
  {
   "attachments": {},
   "cell_type": "markdown",
   "metadata": {
    "slideshow": {
     "slide_type": "slide"
    }
   },
   "source": [
    "Recall first lecture:"
   ]
  },
  {
   "cell_type": "code",
   "execution_count": null,
   "metadata": {
    "slideshow": {
     "slide_type": "fragment"
    }
   },
   "outputs": [],
   "source": [
    "def linear_search(mylist, key):        #   cost         number of times run\n",
    "    for i,v in enumerate(mylist):      #   c1               n\n",
    "        if v == key:                   #   c2               n\n",
    "            return i                   #   c3               0\n",
    "    return -1                          #   c4               1"
   ]
  },
  {
   "attachments": {},
   "cell_type": "markdown",
   "metadata": {
    "slideshow": {
     "slide_type": "fragment"
    }
   },
   "source": [
    "$\\hbox{Cost(linear-search, } n) = c_1n + c_2n + c_4 = O(n)$"
   ]
  },
  {
   "attachments": {},
   "cell_type": "markdown",
   "metadata": {
    "slideshow": {
     "slide_type": "slide"
    }
   },
   "source": [
    "## machine-based cost model\n",
    "\n",
    "- define the cost of each instruction  \n",
    "- runtime is sum of costs of each instruction"
   ]
  },
  {
   "attachments": {},
   "cell_type": "markdown",
   "metadata": {
    "slideshow": {
     "slide_type": "slide"
    }
   },
   "source": [
    "## Random Access Machine model\n",
    "\n",
    "- \"Simple\" operations (+, *, =, if) take exactly one time step\n",
    "  - no matter the size of operands\n",
    "- loops consist of many single-step operations\n",
    "- **memory access takes one step**\n",
    "  - unbounded memory\n",
    "  - each cell holds integers of unbounded size\n",
    "- assumes sequential execution\n",
    "- one input tape, one output tape\n",
    "\n"
   ]
  },
  {
   "attachments": {},
   "cell_type": "markdown",
   "metadata": {
    "slideshow": {
     "slide_type": "slide"
    }
   },
   "source": [
    "Hypothetically, we could compute the run time of an algorithm:\n",
    "1. compute the number of steps\n",
    "2. determine the number of steps per second our machine can perform\n",
    "3. time = steps / steps per second\n",
    "\n",
    "\n",
    "All models make incorrect assumptions. What are some that the RAM model makes?"
   ]
  },
  {
   "attachments": {},
   "cell_type": "markdown",
   "metadata": {
    "slideshow": {
     "slide_type": "fragment"
    }
   },
   "source": [
    "- multiplication does not take the same time as addition\n",
    "- cache is faster than RAM\n",
    "\n",
    "<br>\n",
    "\n",
    "Not terrible assumptions since we are interested in asymptotic analysis.\n",
    "\n",
    "E.g., if cache lookup is half the time of RAM lookup, then we're \"only\" off by a factor of 2.  \n",
    "E.g. $2n \\in O(n)$\n"
   ]
  },
  {
   "attachments": {},
   "cell_type": "markdown",
   "metadata": {
    "slideshow": {
     "slide_type": "skip"
    }
   },
   "source": [
    "## PRAM: Parallel Random Access Machine\n",
    "\n",
    "- The RAM model extended to have \n",
    "  - multiple processors $P_0, P_1, P_2 \\ldots$\n",
    "  - unbounded, **shared** memory cells $M[0], M[1], M[2] \\ldots$\n",
    "  - any processor $P_i$ can access any memory cell $M[j]$ in one time step\n",
    "  \n",
    "![pram.jpg](figures/pram.jpg)  \n",
    "[source](https://www.tutorialspoint.com/parallel_algorithm/parallel_random_access_machines.htm)\n",
    "\n",
    "<br>\n",
    "Assumes some control mechanisms to deal with race conditions/synchronization.\n"
   ]
  },
  {
   "attachments": {},
   "cell_type": "markdown",
   "metadata": {
    "slideshow": {
     "slide_type": "skip"
    }
   },
   "source": [
    "To compute the runtime:\n",
    "- compute time for the slowest processor\n",
    "\n",
    "\n",
    "<br><br>\n",
    "Two drawbacks of this model:\n",
    "\n",
    "1. Mapping data to each processor can be tricky\n",
    "2. Nested parallelism is hard to specify in this model (e.g., recursive fork-join)"
   ]
  },
  {
   "attachments": {},
   "cell_type": "markdown",
   "metadata": {
    "slideshow": {
     "slide_type": "slide"
    }
   },
   "source": [
    "## Language Based Cost  Models\n",
    "\n",
    "- Define a language to specify algorithms\n",
    "- Assign a cost to each expression\n",
    "- Cost of algorithm is sum of costs for each expression"
   ]
  },
  {
   "cell_type": "markdown",
   "metadata": {
    "slideshow": {
     "slide_type": "slide"
    }
   },
   "source": [
    "## Work-Span model\n",
    "\n",
    "- We can define this model for SPARC\n",
    "\n",
    "Recall our definitions of **work** and **span**\n",
    "\n",
    "- **work**: total number of primitive operations performed by an algorithm\n",
    "\n",
    "- **span**: longest sequence of dependent operations in computation\n",
    "    - also called: *critical path length* or *computational depth*"
   ]
  },
  {
   "cell_type": "markdown",
   "metadata": {
    "slideshow": {
     "slide_type": "fragment"
    }
   },
   "source": [
    "**intuition**: \n",
    "\n",
    "**work**: total operations required by a computation  \n",
    "\n",
    "**span**: minimum possible time that the computation requires, measure of how *parallelized* and algorithm is\n",
    "\n",
    "For a given SPARC expression $e$, we will analyze the work $W(e)$ and span $S(e)$"
   ]
  },
  {
   "cell_type": "markdown",
   "metadata": {
    "slideshow": {
     "slide_type": "slide"
    }
   },
   "source": [
    "## Composition\n",
    "\n",
    "<img src=\"figures/composition.png\" width=\"50%\"/>\n",
    "\n",
    "\n",
    "-   $(e_1, e_2)$: Sequential Composition\n",
    "    - Work and span are both sum of both expression\n",
    "    - Work == Span\n",
    "\n",
    "-   $(e_1 || e_2)$: Parallel Composition\n",
    "    - Work is the sum of both expresions\n",
    "    - Span is the **max of the two**\n",
    "    \n",
    "    \n"
   ]
  },
  {
   "cell_type": "markdown",
   "metadata": {
    "slideshow": {
     "slide_type": "slide"
    }
   },
   "source": [
    "## Rules of composition\n",
    "\n",
    "\n",
    "|        $\\mathbf{e}$   |        $\\mathbf{W(e)}$         |        $\\mathbf{S(e)}$         |\n",
    "| --------------------- | ------------------------------ | ------------------------------ |\n",
    "|       $v$             |              $1$               |             $1$                |\n",
    "|$\\mathtt{lambda}\\:p\\:.\\:e$|              $1$            |             $1$                |\n",
    "|     $(e_1, e_2)$      |     $1 + W(e_1) + W(e_2)$      |     $1 + S(e_1) + S(e_2)$      |\n",
    "|    $(e_1 \\|\\| e_2)$     |     $1 + W(e_1) + W(e_2)$      |   $1 + \\max(S(e_1), S(e_2))$   |\n",
    "| $(e_1 e_2)$           |  $W(e_1) + W(e_2) + W([\\hbox{Eval}(e_2)/x]e_1) + 1$ | $S(e_1) + S(e_2) + S([\\hbox{Eval}(e_2)/x]e_1) + 1$ |\n",
    "|   `let val` $x=e_1$ `in` $e_2$ `end`  |  $1 + W(e_1) + W([\\hbox{Eval}(e_1)/x]e_2)$       |     $1 + S(e_1) +     S([\\hbox{Eval}(e_1)/x]e_2)$  |\n",
    "| $\\{f(x)\\mid x\\in A\\}$ |   $1+\\sum_{x\\in A} W(f(x))$    |   $1+\\max_{x\\in A} S(f(x))$    |\n",
    "\n"
   ]
  },
  {
   "attachments": {},
   "cell_type": "markdown",
   "metadata": {
    "slideshow": {
     "slide_type": "slide"
    }
   },
   "source": [
    "\n",
    "## Sequential composition: $e_1, e_2$\n",
    "\n",
    "$W(e_1, e_2) = 1 + W(e_1) + W(e_2)$  \n",
    "$S(e_1, e_2) = 1 + S(e_1) + S(e_2)$  "
   ]
  },
  {
   "attachments": {},
   "cell_type": "markdown",
   "metadata": {
    "slideshow": {
     "slide_type": "slide"
    }
   },
   "source": [
    "\n",
    "## Parallel composition: $e_1 || e_2$\n",
    "\n",
    "$W(e_1 || e_2) = 1 + W(e_1) + W(e_2)$  \n",
    "$S(e_1 || e_2) = 1 + \\max(S(e_1), S(e_2))$  \n",
    "\n",
    "We are making a couple of assumptions about $e_1$ and $e_2$."
   ]
  },
  {
   "attachments": {},
   "cell_type": "markdown",
   "metadata": {
    "slideshow": {
     "slide_type": "fragment"
    }
   },
   "source": [
    "In a *pure* functional language, we can run two functions in parallel if there is no explicit sequencing.\n",
    "\n",
    "- no side effects\n",
    "- data persistence\n"
   ]
  },
  {
   "cell_type": "markdown",
   "metadata": {
    "slideshow": {
     "slide_type": "slide"
    }
   },
   "source": [
    "## function application: $e_1 e_2$\n",
    "\n",
    "Apply $e_1$ using as input the result of $e_2$\n",
    "\n",
    "e.g,\n",
    "\n",
    "$\\mathtt{lambda} (\\: x \\: . ~ x * x)(6/3)$\n"
   ]
  },
  {
   "attachments": {},
   "cell_type": "markdown",
   "metadata": {
    "slideshow": {
     "slide_type": "fragment"
    }
   },
   "source": [
    "\n",
    "$W(e_1 e_2) = W(e_1) + W(e_2) + W([\\hbox{Eval}(e_2)/x]e_1) + 1$  \n",
    "\n",
    "\n",
    "\n",
    "- $\\hbox{Eval}(e)$ evaluates to be the return of expression $e$"
   ]
  },
  {
   "attachments": {},
   "cell_type": "markdown",
   "metadata": {
    "slideshow": {
     "slide_type": "fragment"
    }
   },
   "source": [
    "\n",
    "- $[v/x]e$: replace all free (unbound) occurrences of $x$ in $e$ with value $v$ \n",
    "  - e.g., $[10/x](x^2+10) \\rightarrow 110$\n"
   ]
  },
  {
   "attachments": {},
   "cell_type": "markdown",
   "metadata": {
    "slideshow": {
     "slide_type": "fragment"
    }
   },
   "source": [
    "\n",
    "- $W([\\hbox{Eval}(e_2)/x]e_1)$ is the cost of substituting the output of $e_2$ into all instances of $x$ in $e_1$\n"
   ]
  },
  {
   "attachments": {},
   "cell_type": "markdown",
   "metadata": {
    "slideshow": {
     "slide_type": "fragment"
    }
   },
   "source": [
    "\n",
    "We won't get into the weeds of calculating $W([\\hbox{Eval}(e_2)/x]e_1)$ in this course.\n",
    "\n",
    "We can simplify:\n",
    "\n",
    "$W(e_1 e_2) = W(e_1) + W(e_2)$\n",
    "\n",
    "$S(e_1 e_2) = S(e_1) + S(e_2)$\n",
    "<br>"
   ]
  },
  {
   "cell_type": "code",
   "execution_count": 1,
   "metadata": {
    "slideshow": {
     "slide_type": "skip"
    }
   },
   "outputs": [
    {
     "data": {
      "text/plain": [
       "110"
      ]
     },
     "execution_count": 1,
     "metadata": {},
     "output_type": "execute_result"
    }
   ],
   "source": [
    "e1 = lambda x: x**2 + 10\n",
    "e2 = lambda y: 5*y\n",
    "\n",
    "e1(\n",
    "    e2(2)  # evaluate e2 to a value v\n",
    "  )        # substitute v for x in e1\n",
    "           # return result of e1"
   ]
  },
  {
   "attachments": {},
   "cell_type": "markdown",
   "metadata": {
    "slideshow": {
     "slide_type": "skip"
    }
   },
   "source": [
    "\n",
    "$e_1 e_2$\n",
    "\n",
    "\n",
    "E.g., if $e_1$ is $f(x)$, we  \n",
    "1. evaluate $e_2$ to a value $v$\n",
    "2. substitute $v$ for $x$ in $f(x)$\n",
    "3. run $f(v)$\n",
    "\n",
    "\n",
    "We assume $\\hbox{Eval}(e_2) = \\hbox{lambda} \\: x \\: . \\: e_2$\n",
    "\n",
    "$[\\hbox{Eval}(e_2)/x]e_1$: all free occurrences of $x$ in $e_1$ are replaced with $\\hbox{Eval}(e_2)$"
   ]
  },
  {
   "attachments": {},
   "cell_type": "markdown",
   "metadata": {
    "slideshow": {
     "slide_type": "skip"
    }
   },
   "source": [
    "Defs: \n",
    "\n",
    "$W(e_1 e_2) = W(e_1) + W(e_2) + W([\\hbox{Eval}(e_2)/x]e_1) + 1$  \n",
    "\n",
    "$\\hbox{Eval}(e_2) = \\hbox{lambda} \\: x \\: . \\: e_2$\n",
    "\n",
    "$W(\\mathtt{lambda}\\:p\\:.\\:e) = 1$\n",
    "\n",
    "<br>\n",
    "\n",
    "Example\n",
    "\n",
    "$f(x) = \\mathtt{lambda} \\: x \\: . \\: x + 1$\n",
    "\n",
    "<br>\n",
    "\n",
    "$W(f(x)(1)) = O(1)$  "
   ]
  },
  {
   "attachments": {},
   "cell_type": "markdown",
   "metadata": {
    "slideshow": {
     "slide_type": "skip"
    }
   },
   "source": [
    "\n",
    "$S(f(x)(1)) = O(1)$"
   ]
  },
  {
   "attachments": {},
   "cell_type": "markdown",
   "metadata": {
    "slideshow": {
     "slide_type": "skip"
    }
   },
   "source": [
    "**serial composition:**\n",
    "\n",
    "$W(f(x)(1), f(x)(2)) = $\n",
    "\n",
    "$W(f(x)(1)) + W(f(x)(2)) + 1 = $\n",
    "\n",
    "$O(1) + O(1) + 1 = O(1)$  \n",
    "\n",
    "<br>\n",
    "\n",
    "$S(f(x)(1), f(x)(2)) = $\n",
    "\n",
    "$S(f(x)(1)) + S(f(x)(2)) + 1 = $\n",
    "\n",
    "$O(1) + O(1) + 1 = O(1)$"
   ]
  },
  {
   "attachments": {},
   "cell_type": "markdown",
   "metadata": {
    "slideshow": {
     "slide_type": "skip"
    }
   },
   "source": [
    "**parallel composition:**\n",
    "\n",
    "$W(f(x)(1) || f(x)(2)) = $\n",
    "\n",
    "$W(f(x)(1)) + W(f(x)(2)) + 1 =$\n",
    "\n",
    "$O(1) + O(1) + 1 = O(1)$  \n",
    "\n",
    "<br>\n",
    "\n",
    "$S(f(x)(1) ||  f(x)(2)) = $\n",
    "\n",
    "$\\max(S(f(x)(1)), S(f(x)(2))) + 1 =$\n",
    "\n",
    "$\\max(O(1),O(1)) + 1 = O(1)$"
   ]
  },
  {
   "cell_type": "markdown",
   "metadata": {
    "slideshow": {
     "slide_type": "slide"
    }
   },
   "source": [
    "## Parallelism, revisited\n",
    "\n",
    "how many processors can we use efficiently?\n",
    "\n",
    "\n",
    "**average parallelism**: \n",
    "\n",
    "$$\n",
    "\\overline{P} = \\frac{W}{S}\n",
    "$$\n",
    "\n",
    "\n",
    "<br><br>\n",
    "To increase parallelism, we can\n"
   ]
  },
  {
   "attachments": {},
   "cell_type": "markdown",
   "metadata": {
    "slideshow": {
     "slide_type": "fragment"
    }
   },
   "source": [
    "\n",
    "- decrease span\n",
    "- increase work (but that's not really desireable, since we want the overall cost to be low)\n",
    "\n",
    "<br>\n"
   ]
  },
  {
   "attachments": {},
   "cell_type": "markdown",
   "metadata": {
    "slideshow": {
     "slide_type": "fragment"
    }
   },
   "source": [
    "\n",
    "**work efficiency**: a parallel algorithm is *work efficient* if it performs asymptotically the same work as the best known sequential algorithm for the problem.\n",
    "\n",
    "So, we want a *work efficient* parallel algorithm with low span.\n"
   ]
  },
  {
   "attachments": {},
   "cell_type": "markdown",
   "metadata": {
    "slideshow": {
     "slide_type": "slide"
    }
   },
   "source": [
    "## Coming up\n",
    "\n",
    "We will introduce a fundamental tool in the analysis of algorithms: **recurrences**."
   ]
  }
 ],
 "metadata": {
  "celltoolbar": "Slideshow",
  "kernelspec": {
   "display_name": "Python 3 (ipykernel)",
   "language": "python",
   "name": "python3"
  },
  "language_info": {
   "codemirror_mode": {
    "name": "ipython",
    "version": 3
   },
   "file_extension": ".py",
   "mimetype": "text/x-python",
   "name": "python",
   "nbconvert_exporter": "python",
   "pygments_lexer": "ipython3",
   "version": "3.9.6"
  },
  "rise": {
   "autolaunch": true,
   "controls": false,
   "enable_chalkboard": true,
   "scroll": true,
   "theme": "simple",
   "transition": "fade"
  },
  "toc": {
   "base_numbering": 1,
   "nav_menu": {},
   "number_sections": true,
   "sideBar": true,
   "skip_h1_title": true,
   "title_cell": "Table of Contents",
   "title_sidebar": "Contents",
   "toc_cell": true,
   "toc_position": {},
   "toc_section_display": true,
   "toc_window_display": false
  },
  "vscode": {
   "interpreter": {
    "hash": "aee8b7b246df8f9039afb4144a1f6fd8d2ca17a180786b69acc140d282b71a49"
   }
  }
 },
 "nbformat": 4,
 "nbformat_minor": 4
}
