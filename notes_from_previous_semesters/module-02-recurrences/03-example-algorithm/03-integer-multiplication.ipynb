{
 "cells": [
  {
   "cell_type": "code",
   "execution_count": 2,
   "metadata": {
    "code_folding": [],
    "slideshow": {
     "slide_type": "skip"
    }
   },
   "outputs": [
    {
     "data": {
      "text/html": [
       "<style>.prompt{width: 0px; min-width: 0px; visibility: collapse}</style>"
      ],
      "text/plain": [
       "<IPython.core.display.HTML object>"
      ]
     },
     "metadata": {},
     "output_type": "display_data"
    },
    {
     "data": {
      "text/html": [
       "<style>\n",
       "div#notebook {\n",
       " font-family: \"Exo_2\", sans-serif;\n",
       "}\n",
       "\n",
       ".rendered_html h1,\n",
       ".text_cell_render h1 {\n",
       " color: #126dce;\n",
       " font-size: 220%;\n",
       " text-align: center;\n",
       " font-weight: lighter;\n",
       "}\n",
       ".rendered_html h2,\n",
       ".text_cell_render h2 {\n",
       " text-align: center;\n",
       " font-size: 170%;\n",
       " color: #126dce;\n",
       " font-style: normal;\n",
       " font-weight: lighter;\n",
       "}\n",
       ".rendered_html h3,\n",
       ".text_cell_render h3 {\n",
       " font-size: 150%;\n",
       " color: #126dce;\n",
       " font-weight: lighter;\n",
       " text-decoration: italic;\n",
       " font-style: normal;\n",
       "}\n",
       ".rendered_html h4,\n",
       ".text_cell_render h4 {\n",
       " font-size: 120%;\n",
       " color: #126dce;\n",
       " font-weight: underline;\n",
       " font-style: normal;\n",
       "}\n",
       ".rendered_html h5,\n",
       ".text_cell_render h5 {\n",
       " font-size: 100%;\n",
       " color: #2f2f2f;\n",
       " font-weight: lighter;\n",
       " text-decoration: underline;\n",
       "}\n",
       "</style>\n"
      ],
      "text/plain": [
       "<IPython.core.display.HTML object>"
      ]
     },
     "metadata": {},
     "output_type": "display_data"
    }
   ],
   "source": [
    "# setup\n",
    "from IPython.display import display,HTML\n",
    "display(HTML('<style>.prompt{width: 0px; min-width: 0px; visibility: collapse}</style>'))\n",
    "display(HTML(open('../rise.css').read()))\n",
    "\n",
    "# imports\n",
    "import numpy as np\n",
    "import matplotlib.pyplot as plt\n",
    "import seaborn as sns\n",
    "%matplotlib inline\n",
    "sns.set(style=\"whitegrid\", font_scale=1.5, rc={'figure.figsize':(12, 6)})\n",
    "import time\n"
   ]
  },
  {
   "attachments": {},
   "cell_type": "markdown",
   "metadata": {
    "slideshow": {
     "slide_type": "slide"
    }
   },
   "source": [
    "# CMPS 2200\n",
    "# Introduction to Algorithms\n",
    "\n",
    "## Recurrences - Example Recursive Algorithm\n"
   ]
  },
  {
   "attachments": {},
   "cell_type": "markdown",
   "metadata": {
    "slideshow": {
     "slide_type": "slide"
    }
   },
   "source": [
    "### Recap\n",
    "\n",
    "We've been discussing Divide and Conquer algorithms.\n",
    "\n",
    "- Split Sum\n",
    "- Merge Sort\n",
    "- Longest Run Recursive\n",
    "\n",
    "A divide-and-conquer algorithm, at each step, divides the problem into subproblems, solves each, then combines the results to arrive at the final solution.\n",
    "\n",
    "Recurrences can easily be written and interpretted from the perspective of divide and conquer algorithms."
   ]
  },
  {
   "attachments": {},
   "cell_type": "markdown",
   "metadata": {
    "slideshow": {
     "slide_type": "subslide"
    }
   },
   "source": [
    "## General Recurrences\n",
    "\n",
    "$$ \n",
    "\\begin{equation}\n",
    "W(n) = \\begin{cases}\n",
    "  c_b, & \\text{if $n=1$} \\\\\n",
    "  aW(\\frac{n}{b}) + f(n), & \\text{otherwise} \n",
    "  \\end{cases}\n",
    "\\end{equation}\n",
    "$$\n",
    "\n",
    "- $a$ is the branching factor, how many subproblems every problem generates.\n",
    "- $\\frac{n}{b}$ gives us the sub-problem size at the next level.\n",
    "- $f(n)$ is the cost of the combining step."
   ]
  },
  {
   "attachments": {},
   "cell_type": "markdown",
   "metadata": {
    "slideshow": {
     "slide_type": "slide"
    }
   },
   "source": [
    "## Tree Method\n",
    "\n",
    "We can solve recurrences by drawing and analyzing the Recursion Trees that result from them.\n",
    "\n",
    "- The root node is the instance of the whole problem. \n",
    "- Children are subproblems resulting from the divide step.\n",
    "- The cost of every node is the cost to perform the combine step for that subproblem.\n",
    "\n",
    "The cost of the entire tree is then the cost of all of the levels of the tree.\n"
   ]
  },
  {
   "attachments": {},
   "cell_type": "markdown",
   "metadata": {
    "slideshow": {
     "slide_type": "subslide"
    }
   },
   "source": [
    "\n",
    "In the tree method, we generalize the cost of every level as a function of that level, $C(i)$. E.g,\n",
    "\n",
    "\n",
    "$$C(i) = \\frac{n^2}{2^i},\\quad 3^in,\\quad n,\\quad \\lg{\\frac{3n}{2^i}},\\quad 1, etc...$$\n",
    "\n",
    "And sum up over all levels:\n",
    "\n",
    "$$\\sum_{i=0}^{\\log n} C(i)$$\n",
    "\n",
    "We solve the summation through simplification and by using properities of series to arrive as a final runtime."
   ]
  },
  {
   "attachments": {},
   "cell_type": "markdown",
   "metadata": {
    "slideshow": {
     "slide_type": "slide"
    }
   },
   "source": [
    "## The Brick Method\n",
    "\n",
    "The tree method is tedious, but it works. Often, we can exploit patterns to perform our analysis more quickly.\n",
    "\n",
    "**Brick method:**\n",
    "\n",
    "- **Root dominated**: cost *decreases* geometrically as we descend the tree\n",
    "  $$W(n) \\in O(\\hbox{root})$$\n",
    "  - e.g., $W(n) = 2 W(\\frac{n}{2}) + n^2$\n",
    "\n"
   ]
  },
  {
   "attachments": {},
   "cell_type": "markdown",
   "metadata": {
    "slideshow": {
     "slide_type": "fragment"
    }
   },
   "source": [
    "\n",
    "- **Leaf dominated**: cost *increases* geometrically as we descend the tree\n",
    "  $$W(n) \\in O(\\hbox{leaves})$$\n",
    "  - e.g., $W(n) = 2 W(\\frac{n}{2}) + \\sqrt{n}$\n",
    "  \n"
   ]
  },
  {
   "attachments": {},
   "cell_type": "markdown",
   "metadata": {
    "slideshow": {
     "slide_type": "fragment"
    }
   },
   "source": [
    "- **Balanced**: neither of the above is true\n",
    "  $$W(n) \\in O((\\hbox{num levels}) \\cdot (\\hbox{max cost at any level}))$$\n",
    "  - e.g., $W(n) = W(n-1) + n \\in O(n^2)$\n",
    "  - e.g., $W(n) = 2 W(\\frac{n}{2}) + n \\in O(n \\lg n)$"
   ]
  },
  {
   "attachments": {},
   "cell_type": "markdown",
   "metadata": {
    "slideshow": {
     "slide_type": "slide"
    }
   },
   "source": [
    "### Integer multiplication\n",
    "\n",
    "With our powerful ideas of divide & conquer, recurrences, and our techniques for solving recurrences, let's see how we can put them to use to make algorithmic headway on a problem where it seems there is no headway to be made!\n",
    "\n",
    "**Multiplication!**\n",
    "\n",
    "Here is an elementary school algorithm for integer multiplication:\n",
    "\n",
    "- Input: $n$ bit integers $x= \\langle x_{n-1}, \\ldots, x_0\\rangle$ and $y = \\langle y_{n-1}, \\ldots, y_0\\rangle$\n",
    "\n",
    "- Output: $x \\cdot y$\n",
    "\n",
    "- Example: '1001'$\\times$'1101'\n"
   ]
  },
  {
   "cell_type": "code",
   "execution_count": null,
   "metadata": {
    "slideshow": {
     "slide_type": "subslide"
    }
   },
   "outputs": [
    {
     "data": {
      "text/plain": [
       "['1', '1', '0', '1']"
      ]
     },
     "execution_count": 2,
     "metadata": {},
     "output_type": "execute_result"
    }
   ],
   "source": [
    "def int2binary(n):\n",
    "    return list('{0:b}'.format(n))\n",
    "int2binary(13)"
   ]
  },
  {
   "cell_type": "code",
   "execution_count": null,
   "metadata": {
    "slideshow": {
     "slide_type": "fragment"
    }
   },
   "outputs": [
    {
     "name": "stdout",
     "output_type": "stream",
     "text": [
      "['1', '0', '0', '1']\n",
      "['1', '1', '0', '1']\n"
     ]
    },
    {
     "data": {
      "text/plain": [
       "117"
      ]
     },
     "execution_count": 3,
     "metadata": {},
     "output_type": "execute_result"
    }
   ],
   "source": [
    "nine = int2binary(9)\n",
    "print(nine)\n",
    "thirteen = int2binary(13)\n",
    "print(thirteen)\n",
    "\n",
    "9*13"
   ]
  },
  {
   "attachments": {},
   "cell_type": "markdown",
   "metadata": {
    "slideshow": {
     "slide_type": "subslide"
    }
   },
   "source": [
    "```\n",
    "       1001   \n",
    "     x 1101   \n",
    "     ======\n",
    "       1001   \n",
    "      0000    \n",
    "     1001     \n",
    "  + 1001      \n",
    "  =========\n",
    "    1110101\n",
    "```"
   ]
  },
  {
   "cell_type": "code",
   "execution_count": null,
   "metadata": {
    "slideshow": {
     "slide_type": "fragment"
    }
   },
   "outputs": [
    {
     "data": {
      "text/plain": [
       "117"
      ]
     },
     "execution_count": 7,
     "metadata": {},
     "output_type": "execute_result"
    }
   ],
   "source": [
    "def binary2int(n): \n",
    "    return int(n, 2)\n",
    "binary2int('1110101')"
   ]
  },
  {
   "attachments": {},
   "cell_type": "markdown",
   "metadata": {
    "slideshow": {
     "slide_type": "subslide"
    }
   },
   "source": [
    "What is the running time of the \"elementary school\" algorithm?"
   ]
  },
  {
   "attachments": {},
   "cell_type": "markdown",
   "metadata": {
    "slideshow": {
     "slide_type": "fragment"
    }
   },
   "source": [
    ">For two $n$-digit inputs: $O(n^2)$, since for each digit of $x$ we might add a stack of $n$ bits. The total number of bits in the solution is at most $2n$."
   ]
  },
  {
   "attachments": {},
   "cell_type": "markdown",
   "metadata": {},
   "source": [
    "Can we improve on this using Divide and Conquer?\n",
    "\n",
    "How can we break our problem into smaller parts?"
   ]
  },
  {
   "attachments": {},
   "cell_type": "markdown",
   "metadata": {
    "slideshow": {
     "slide_type": "slide"
    }
   },
   "source": [
    "Instead of the elementary school algorithm, consider splitting each $n$-digit input in half. Can we multiply recursively?\n",
    "\n",
    "Let $x = \\langle x_L, x_R\\rangle$, $y = \\langle y_L, y_R\\rangle$. Then,\n",
    "\n",
    "$\\begin{align} \n",
    "x &=& 2^{n/2} x_L + x_R \\:\\:\\:\\:\\:\\: \\hbox{e.g.} \\: 1001:  2^2 (10) + (01)\\\\\n",
    "y &=& 2^{n/2} y_L + y_R \\:\\:\\:\\:\\:\\: \\hbox{e.g.} \\: 1101:  2^2 (11) + (01)\\\\\n",
    "\\end{align}\n",
    "$\n",
    "\n",
    "<br>"
   ]
  },
  {
   "attachments": {},
   "cell_type": "markdown",
   "metadata": {
    "slideshow": {
     "slide_type": "fragment"
    }
   },
   "source": [
    "**What is does multiplying by $2^{n/2}$ do, and is it efficient?**"
   ]
  },
  {
   "attachments": {},
   "cell_type": "markdown",
   "metadata": {
    "slideshow": {
     "slide_type": "fragment"
    }
   },
   "source": [
    "$2^2 [11] \\rightarrow [1100] \\:\\:$ (shift two places to the left).\n"
   ]
  },
  {
   "attachments": {},
   "cell_type": "markdown",
   "metadata": {
    "slideshow": {
     "slide_type": "subslide"
    }
   },
   "source": [
    "**Multiplication the long way**\n",
    "\n",
    "$\\begin{align} \n",
    "x &=& 2^{n/2} x_L + x_R \\:\\:\\:\\:\\:\\: \\hbox{e.g.} \\: 1001:  2^2 (10) + (01)\\\\\n",
    "y &=& 2^{n/2} y_L + y_R \\:\\:\\:\\:\\:\\: \\hbox{e.g.} \\: 1101:  2^2 (11) + (01)\\\\\n",
    "\\end{align}\n",
    "$\n",
    "\n",
    "<br>\n",
    "\n",
    "So then,\n",
    "\n",
    "$\\begin{align}\n",
    "x\\cdot y &=& (2^{n/2} x_L + x_R)(2^{n/2} y_L + y_R) \\\\\n",
    " &=& 2^n (x_L \\cdot y_L) + 2^{n/2} (x_L \\cdot y_R + x_R \\cdot y_L) + (x_R \\cdot y_R) \\\\\n",
    "\\end{align}\n",
    "$\n",
    "\n",
    "<br>\n",
    "\n",
    "We've converted one multiplication of sizes $(n,n)$ into four multiplications of size $(\\frac{n}{2}, \\frac{n}{2})$.\n",
    "\n",
    "What recursive algorithm, and recurrence is suggested by this observation?"
   ]
  },
  {
   "attachments": {},
   "cell_type": "markdown",
   "metadata": {
    "slideshow": {
     "slide_type": "fragment"
    }
   },
   "source": [
    ">$W(n) = 4W(n/2) + n$\n",
    "\n",
    "What is the solution to this recurrence using the brick method? Is it root-dominated, or leaf-dominated?"
   ]
  },
  {
   "attachments": {},
   "cell_type": "markdown",
   "metadata": {
    "slideshow": {
     "slide_type": "slide"
    }
   },
   "source": [
    "### Work of recursive multiplication\n",
    "\n",
    "<img width=\"110%\" src=\"figures/recurrence-1.jpeg\"/>\n"
   ]
  },
  {
   "attachments": {},
   "cell_type": "markdown",
   "metadata": {
    "slideshow": {
     "slide_type": "subslide"
    }
   },
   "source": [
    "\n",
    "$C(\\hbox{root}) = n$\n",
    "\n",
    "$C(\\hbox{level}\\:1) = 4(\\frac{n}{2})= 2 \\cdot n$\n",
    "\n",
    "geometrically **increasing** as we descend the recurrence tree.\n",
    "\n",
    "A recurrence is **leaf-dominated** if for all $v$, there is an $\\alpha > 1$ such that:\n",
    "\n",
    "$$C(v) \\leq \\frac{1}{\\alpha} \\sum_{u \\in D(v)} C(u)$$\n",
    "\n",
    "let $\\alpha \\leftarrow 2$\n",
    "\n",
    "$n \\le \\frac{1}{2}\\cdot 2 \\cdot n$"
   ]
  },
  {
   "attachments": {},
   "cell_type": "markdown",
   "metadata": {
    "slideshow": {
     "slide_type": "subslide"
    }
   },
   "source": [
    "### how many leaf nodes are there?\n",
    "\n",
    ">$W(n) = 4W(n/2) + n$\n",
    "\n",
    "The cost of a leaf dominated recurrence is $O(L)$, where $L$ is the number of leaves.\n"
   ]
  },
  {
   "attachments": {},
   "cell_type": "markdown",
   "metadata": {
    "slideshow": {
     "slide_type": "fragment"
    }
   },
   "source": [
    "\n",
    "<br>\n",
    "\n",
    "nodes per level: $1, 4, 64, \\ldots 4^i \\ldots 4^{\\lg n} = n^{\\lg 4} = n^2$\n",
    "\n",
    "> This is a leaf-dominated reucrrence that is $O(n^2)$ -- the same as the elementary school algorithm!\n",
    "\n",
    "Now, what is the span of this algorithm if implemented in parallel?"
   ]
  },
  {
   "attachments": {},
   "cell_type": "markdown",
   "metadata": {
    "slideshow": {
     "slide_type": "slide"
    }
   },
   "source": [
    "### Span of recursive multiplication\n",
    "\n",
    "Assuming each multiplication can be done in parallel, and that addition has span $O(n)$, we get that \n",
    "\n",
    "$$S(n) = S(n/2) + n$$ \n",
    "\n",
    "which yields a span of ...\n",
    "\n"
   ]
  },
  {
   "attachments": {},
   "cell_type": "markdown",
   "metadata": {
    "slideshow": {
     "slide_type": "fragment"
    }
   },
   "source": [
    "\n",
    "<br>\n",
    "\n",
    "**brick method**\n",
    "\n",
    "$S(\\hbox{root})=n$\n",
    "\n",
    "\n",
    "$S(\\hbox{level 1}) = \\frac{n}{2}$\n"
   ]
  },
  {
   "attachments": {},
   "cell_type": "markdown",
   "metadata": {
    "slideshow": {
     "slide_type": "fragment"
    }
   },
   "source": [
    "\n",
    "$\\rightarrow$ **root dominated** \n",
    "\n",
    "$S(n) \\in O(n)$. This is much better than the span of the grade school algorithm, which is $O(n^2)$!\n",
    "\n",
    "<br>"
   ]
  },
  {
   "attachments": {},
   "cell_type": "markdown",
   "metadata": {
    "slideshow": {
     "slide_type": "slide"
    }
   },
   "source": [
    "**What parallelism is achieved?**\n",
    "\n",
    "<br>\n",
    "\n",
    "Parallelism $= \\frac{W}{S} = \\frac{n^2}{n} = n$\n",
    "\n",
    "Can we do any better?"
   ]
  },
  {
   "attachments": {},
   "cell_type": "markdown",
   "metadata": {
    "slideshow": {
     "slide_type": "slide"
    }
   },
   "source": [
    "### Recursive multiplication with less work\n",
    "\n",
    "Recall that \n",
    "\n",
    "$\\begin{align}\n",
    "x\\cdot y &=& (2^{n/2} x_L + x_R)(2^{n/2} y_L + y_R) \\\\\n",
    " &=& 2^n (x_L \\cdot y_L) + 2^{n/2} (x_L \\cdot y_R + x_R \\cdot y_L) + (x_R \\cdot y_R) \\\\\n",
    "\\end{align}\n",
    "$\n"
   ]
  },
  {
   "attachments": {},
   "cell_type": "markdown",
   "metadata": {
    "slideshow": {
     "slide_type": "fragment"
    }
   },
   "source": [
    "Observation:\n",
    "    \n",
    "$\\begin{align} \n",
    "(x_L + x_R)\\cdot (y_L + y_R) &=& (x_L\\cdot y_L) + \\pmb{(x_L\\cdot y_R) + (x_R\\cdot y_L)} + (x_R\\cdot y_R)\\\\\n",
    "\\end{align}\n",
    "$\n"
   ]
  },
  {
   "attachments": {},
   "cell_type": "markdown",
   "metadata": {
    "slideshow": {
     "slide_type": "fragment"
    }
   },
   "source": [
    "\n",
    "$\\begin{align}\n",
    "\\pmb{(x_L\\cdot y_R) + (x_R\\cdot y_L)} = (x_L + x_R)\\cdot (y_L + y_R) - (x_L\\cdot y_L) - (x_R\\cdot y_R)\\\\\n",
    "\\end{align}$"
   ]
  },
  {
   "attachments": {},
   "cell_type": "markdown",
   "metadata": {
    "slideshow": {
     "slide_type": "fragment"
    }
   },
   "source": [
    "How does our observation help us? "
   ]
  },
  {
   "attachments": {},
   "cell_type": "markdown",
   "metadata": {
    "slideshow": {
     "slide_type": "fragment"
    }
   },
   "source": [
    "<br>\n",
    "\n",
    "If we calculate $(x_L\\cdot y_L)$, $(x_R\\cdot y_R)$, and $(x_L + x_R)\\cdot (y_L + y_R)$, that is *three* recursive multiplications. \n",
    "\n",
    "\n",
    "\n",
    "So with 3 recursive multiplications and two more \"additions\", we then get that $W(n) = 3W(n/2) + n$. What is the running time?"
   ]
  },
  {
   "attachments": {},
   "cell_type": "markdown",
   "metadata": {
    "slideshow": {
     "slide_type": "slide"
    }
   },
   "source": [
    "### Work of $W(n) = 3W(n/2) + n$\n",
    "\n",
    "**brick method**\n",
    "\n",
    "$C(\\hbox{root}) = n$\n",
    "\n",
    "$C(\\hbox{level 1}) = \\frac{3n}{2}$\n",
    "\n",
    "$\\frac{3}{2} > 1 \\Rightarrow$ **leaf dominated**.\n",
    "\n",
    "<br>\n",
    "\n",
    "But, there are fewer leaves this time. Why?"
   ]
  },
  {
   "attachments": {},
   "cell_type": "markdown",
   "metadata": {
    "slideshow": {
     "slide_type": "subslide"
    }
   },
   "source": [
    "nodes per level: $1, 3, 9, \\ldots 3^i \\ldots 3^{\\lg n}=n^{\\lg 3} \\:\\:\\:\\: (\\hbox{by}\\: a^{\\log_b c} = c^{\\log_b a})$\n",
    "\n",
    "<br>\n",
    "\n",
    "Using the brick method, this is still a leaf-dominated recurrence, and thus the running time is $O(n^{\\log_2 3}) \\:\\: $ (approximately $O(n^{1.58}$) versus of $O(n^2)$ earlier).\n",
    "\n",
    "<br>\n",
    "\n",
    "This is known as the [**Karatsuba-Ofman**](https://en.wikipedia.org/wiki/Karatsuba_algorithm) algorithm (1962), and is the earliest known divide-and-conquer algorithm for integer multiplication. It is actually implemented in Intel hardware!\n",
    "\n",
    "\n",
    "<br>\n",
    "\n",
    "So, our we've decreased work from $O(n^2)$ to $O(n^{\\lg 3})$. "
   ]
  },
  {
   "attachments": {},
   "cell_type": "markdown",
   "metadata": {
    "slideshow": {
     "slide_type": "slide"
    }
   },
   "source": [
    "Our span stays the same: $O(n)\\:\\:$  Why?\n",
    "\n",
    "<br>\n",
    "\n",
    "Parallelism $= \\frac{W}{S} = \\frac{n^{\\lg 3}}{n} \\approx n^{.58} < n$\n",
    "\n",
    "<br>\n",
    "\n",
    "So, our parallelism went down. Is that good or bad?\n",
    "\n",
    "<br>"
   ]
  },
  {
   "attachments": {},
   "cell_type": "markdown",
   "metadata": {
    "slideshow": {
     "slide_type": "fragment"
    }
   },
   "source": [
    "Schönhage and Strassen (1971) gave an algorithm that runs in $O(n\\log n \\log\\log n)$ time.\n",
    "\n",
    "In 2007, [Fürer gave an algorithm](https://ivv5hpp.uni-muenster.de/u/cl/WS2007-8/mult.pdf) that runs in $n \\log n 2^{O(\\log^* n)}$.\n",
    "\n",
    "What is the fastest possible sequential algorithm for integer multiplication? In parallel?"
   ]
  }
 ],
 "metadata": {
  "celltoolbar": "Slideshow",
  "kernelspec": {
   "display_name": "Python 3.9.6 64-bit",
   "language": "python",
   "name": "python3"
  },
  "language_info": {
   "codemirror_mode": {
    "name": "ipython",
    "version": 3
   },
   "file_extension": ".py",
   "mimetype": "text/x-python",
   "name": "python",
   "nbconvert_exporter": "python",
   "pygments_lexer": "ipython3",
   "version": "3.10.12"
  },
  "rise": {
   "autolaunch": true,
   "controls": false,
   "enable_chalkboard": true,
   "scroll": true,
   "theme": "simple",
   "transition": "fade"
  },
  "toc": {
   "base_numbering": 1,
   "nav_menu": {},
   "number_sections": true,
   "sideBar": true,
   "skip_h1_title": true,
   "title_cell": "Table of Contents",
   "title_sidebar": "Contents",
   "toc_cell": true,
   "toc_position": {},
   "toc_section_display": true,
   "toc_window_display": false
  },
  "vscode": {
   "interpreter": {
    "hash": "aee8b7b246df8f9039afb4144a1f6fd8d2ca17a180786b69acc140d282b71a49"
   }
  }
 },
 "nbformat": 4,
 "nbformat_minor": 4
}
