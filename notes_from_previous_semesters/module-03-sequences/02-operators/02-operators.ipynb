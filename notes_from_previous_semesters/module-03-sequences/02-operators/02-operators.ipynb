{
 "cells": [
  {
   "cell_type": "code",
   "execution_count": 1,
   "metadata": {
    "code_folding": [],
    "slideshow": {
     "slide_type": "skip"
    }
   },
   "outputs": [
    {
     "data": {
      "text/html": [
       "<style>.prompt{width: 0px; min-width: 0px; visibility: collapse}</style>"
      ],
      "text/plain": [
       "<IPython.core.display.HTML object>"
      ]
     },
     "metadata": {},
     "output_type": "display_data"
    },
    {
     "data": {
      "text/html": [
       "<style>\n",
       "div#notebook {\n",
       " font-family: \"Exo_2\", sans-serif;\n",
       "}\n",
       "\n",
       ".rendered_html h1,\n",
       ".text_cell_render h1 {\n",
       " color: #126dce;\n",
       " font-size: 220%;\n",
       " text-align: center;\n",
       " font-weight: lighter;\n",
       "}\n",
       ".rendered_html h2,\n",
       ".text_cell_render h2 {\n",
       " text-align: center;\n",
       " font-size: 170%;\n",
       " color: #126dce;\n",
       " font-style: normal;\n",
       " font-weight: lighter;\n",
       "}\n",
       ".rendered_html h3,\n",
       ".text_cell_render h3 {\n",
       " font-size: 150%;\n",
       " color: #126dce;\n",
       " font-weight: lighter;\n",
       " text-decoration: italic;\n",
       " font-style: normal;\n",
       "}\n",
       ".rendered_html h4,\n",
       ".text_cell_render h4 {\n",
       " font-size: 120%;\n",
       " color: #126dce;\n",
       " font-weight: underline;\n",
       " font-style: normal;\n",
       "}\n",
       ".rendered_html h5,\n",
       ".text_cell_render h5 {\n",
       " font-size: 100%;\n",
       " color: #2f2f2f;\n",
       " font-weight: lighter;\n",
       " text-decoration: underline;\n",
       "}\n",
       "</style>\n"
      ],
      "text/plain": [
       "<IPython.core.display.HTML object>"
      ]
     },
     "metadata": {},
     "output_type": "display_data"
    }
   ],
   "source": [
    "# setup\n",
    "from IPython.core.display import display,HTML\n",
    "display(HTML('<style>.prompt{width: 0px; min-width: 0px; visibility: collapse}</style>'))\n",
    "display(HTML(open('rise.css').read()))\n",
    "\n",
    "# imports\n",
    "import numpy as np\n",
    "import matplotlib.pyplot as plt\n",
    "import seaborn as sns\n",
    "%matplotlib inline\n",
    "sns.set(style=\"whitegrid\", font_scale=1.5, rc={'figure.figsize':(12, 6)})\n"
   ]
  },
  {
   "attachments": {},
   "cell_type": "markdown",
   "metadata": {
    "slideshow": {
     "slide_type": "slide"
    }
   },
   "source": [
    "# CMPS 2200\n",
    "# Introduction to Algorithms\n",
    "\n",
    "## Reduce\n"
   ]
  },
  {
   "attachments": {},
   "cell_type": "markdown",
   "metadata": {
    "slideshow": {
     "slide_type": "slide"
    }
   },
   "source": [
    "Agenda:  \n",
    "\n",
    "- `iterate` vs `reduce`\n",
    "- sorting with sequences"
   ]
  },
  {
   "attachments": {},
   "cell_type": "markdown",
   "metadata": {
    "slideshow": {
     "slide_type": "slide"
    }
   },
   "source": [
    "## Reduce\n",
    "\n",
    "\n",
    "> A function that repeatedly applies an **associative binary operation** to a collection of elements until the result is *reduced* to a single value.\n",
    "\n",
    "Associative operations can be executed in different orders over the same inputs and give the same output.\n",
    "- $plus(plus(2,3), 5) = plus(2, plus(3,5)) = 10$\n",
    "\n"
   ]
  },
  {
   "attachments": {},
   "cell_type": "markdown",
   "metadata": {
    "slideshow": {
     "slide_type": "subslide"
    }
   },
   "source": [
    "<br>\n",
    "\n",
    "**formal definition of reduce**:\n",
    "\n",
    "$reduce \\: (f : \\alpha \\times \\alpha \\rightarrow \\alpha) (id : \\alpha) (a : \\mathbb{S}_\\alpha) : \\alpha$\n",
    "\n",
    "Input is:\n",
    "- $f$: an associative binary function\n",
    "- $a$ is the sequence\n",
    "- $id$ is the **left identity** of $f$ $\\:\\: \\equiv \\:\\:$ $f(id, x) = x$ for all $x \\in \\alpha$\n",
    "\n",
    "Returns:\n",
    "- a value of type $\\alpha$ that is the result of the \"sum\" with respect to $f$ of the input sequence $a$\n",
    "\n",
    "\n"
   ]
  },
  {
   "attachments": {},
   "cell_type": "markdown",
   "metadata": {
    "slideshow": {
     "slide_type": "subslide"
    }
   },
   "source": [
    "\n",
    "\n",
    "When $f$ is associative: $reduce \\: f \\: id \\: a  \\: \\equiv \\: iterate \\: f \\: id \\: a$\n",
    "\n",
    "<br>\n",
    "\n",
    "$reduce \\: f \\: id \\: a =\n",
    "\\begin{cases}\n",
    "id & \\hbox{if} \\: |a| = 0\\\\\n",
    "a[0] & \\hbox{if} \\: |a| = 1\\\\\n",
    "f(reduce \\: f \\: id \\: (a[0 \\ldots \\lfloor \\frac{|a|}{2} \\rfloor - 1]), \\\\ \\:\\:\\:reduce \\: f \\: id \\: (a[\\lfloor \\frac{|a|}{2} \\rfloor \\ldots |a|-1])& \\hbox{otherwise}\n",
    "\\end{cases}\n",
    "$\n"
   ]
  },
  {
   "attachments": {},
   "cell_type": "markdown",
   "metadata": {
    "slideshow": {
     "slide_type": "slide"
    }
   },
   "source": [
    "\n",
    "## Reduce is a variant of iterate that allows for easier parallelism\n",
    "\n",
    "\n",
    "\n"
   ]
  },
  {
   "cell_type": "code",
   "execution_count": 4,
   "metadata": {},
   "outputs": [
    {
     "data": {
      "text/plain": [
       "384"
      ]
     },
     "execution_count": 4,
     "metadata": {},
     "output_type": "execute_result"
    }
   ],
   "source": [
    "def reduce(f, id_, a):\n",
    "    # print('a=%s' % a) # for tracing\n",
    "    if len(a) == 0:\n",
    "        return id_\n",
    "    elif len(a) == 1:\n",
    "        return a[0]\n",
    "    else:\n",
    "        # can call these in parallel\n",
    "        return f(reduce(f, id_, a[:len(a)//2]),\n",
    "                 reduce(f, id_, a[len(a)//2:]))\n",
    "        \n",
    "def times(x, y):\n",
    "    return x * y\n",
    "\n",
    "reduce(times, 1, [1,2,4,6,8])"
   ]
  },
  {
   "attachments": {},
   "cell_type": "markdown",
   "metadata": {
    "slideshow": {
     "slide_type": "slide"
    }
   },
   "source": [
    "## Work and Span of reduce?"
   ]
  },
  {
   "attachments": {},
   "cell_type": "markdown",
   "metadata": {},
   "source": [
    "Assuming that $f(n)$ has $O(1)$ work and span as `times` does above:\n",
    "\n",
    "$$W(n) = 2W(n/2) + 1$$\n",
    "\n",
    "$$S(n) = S(n/2) + 1$$\n"
   ]
  },
  {
   "attachments": {},
   "cell_type": "markdown",
   "metadata": {
    "slideshow": {
     "slide_type": "fragment"
    }
   },
   "source": [
    "\n",
    "$$W(n) \\in O(n)$$\n",
    "\n",
    "$$S(n) \\in O(\\lg n)$$"
   ]
  },
  {
   "attachments": {},
   "cell_type": "markdown",
   "metadata": {
    "slideshow": {
     "slide_type": "subslide"
    }
   },
   "source": [
    "## Compare with iterate; sometimes called \"left folding\""
   ]
  },
  {
   "cell_type": "code",
   "execution_count": 3,
   "metadata": {},
   "outputs": [
    {
     "data": {
      "text/plain": [
       "384"
      ]
     },
     "execution_count": 3,
     "metadata": {},
     "output_type": "execute_result"
    }
   ],
   "source": [
    "\n",
    "def iterate(f, x, a):\n",
    "    if len(a) == 0:\n",
    "        return x\n",
    "    else:\n",
    "        return iterate(f, f(x, a[0]), a[1:])\n",
    "    \n",
    "iterate(times, 1, [1,2,4,6,8])"
   ]
  },
  {
   "attachments": {},
   "cell_type": "markdown",
   "metadata": {
    "slideshow": {
     "slide_type": "fragment"
    }
   },
   "source": [
    "Work and Span of iterate?\n",
    "\n",
    "$$W(n) = W(n-1) + 1$$\n",
    "\n",
    "$$S(n) = S(n-1) + 1$$\n"
   ]
  },
  {
   "attachments": {},
   "cell_type": "markdown",
   "metadata": {
    "slideshow": {
     "slide_type": "fragment"
    }
   },
   "source": [
    "\n",
    "$$W(n), S(n) \\in O(n)$$"
   ]
  },
  {
   "attachments": {},
   "cell_type": "markdown",
   "metadata": {
    "slideshow": {
     "slide_type": "slide"
    }
   },
   "source": [
    "## Does order matter?\n",
    "\n",
    "<img src=\"figures/iterate-reduce-plus.jpeg\" width=\"110%\"/>\n",
    "\n",
    "For what function $f$ would $iterate$ and $reduce$ return different answers?\n",
    "\n",
    "```python\n",
    "return iterate(f, f(x, a[0]), a[1:])\n",
    "```\n",
    "\n",
    "vs\n",
    "\n",
    "\n",
    "```python\n",
    "return f(reduce(f, id_, a[:len(a)//2]),\n",
    "         reduce(f, id_, a[len(a)//2:])\n",
    "```      \n",
    "\n"
   ]
  },
  {
   "attachments": {},
   "cell_type": "markdown",
   "metadata": {
    "slideshow": {
     "slide_type": "subslide"
    }
   },
   "source": [
    "<img src=\"figures/iterate-reduce-minus.jpeg\" width=\"110%\"/>"
   ]
  },
  {
   "cell_type": "code",
   "execution_count": 19,
   "metadata": {},
   "outputs": [
    {
     "name": "stdout",
     "output_type": "stream",
     "text": [
      "-18\n",
      "4\n"
     ]
    }
   ],
   "source": [
    "def subtract(x, y):\n",
    "    return x - y\n",
    "\n",
    "print(iterate(subtract, 0, [10,5,2,1]))\n",
    "\n",
    "print(reduce(subtract, 0, [10,5,2,1]))"
   ]
  },
  {
   "attachments": {},
   "cell_type": "markdown",
   "metadata": {
    "slideshow": {
     "slide_type": "slide"
    }
   },
   "source": [
    "So, why use *reduce*?\n",
    "\n",
    "- Unlike *iterate*, which is strictly sequential, *reduce* is parallel.\n",
    "  - Span of *iterate* is **linear**; span of *reduce* is **logarithmic**. \n",
    "  - (we'll cover this later)"
   ]
  },
  {
   "attachments": {},
   "cell_type": "markdown",
   "metadata": {
    "slideshow": {
     "slide_type": "slide"
    }
   },
   "source": [
    "Many divide and conquer algorithms can be expressed with reduce.\n",
    "\n",
    "<br>\n",
    "\n",
    "Recall `sum_list_recursive`:"
   ]
  },
  {
   "cell_type": "code",
   "execution_count": 5,
   "metadata": {
    "slideshow": {
     "slide_type": "fragment"
    }
   },
   "outputs": [
    {
     "data": {
      "text/plain": [
       "45"
      ]
     },
     "execution_count": 5,
     "metadata": {},
     "output_type": "execute_result"
    }
   ],
   "source": [
    "# recursive, serial\n",
    "def sum_list_recursive(mylist):    \n",
    "    if len(mylist) == 1:\n",
    "        return mylist[0]\n",
    "    return (\n",
    "        sum_list_recursive(mylist[:len(mylist)//2]) +\n",
    "        sum_list_recursive(mylist[len(mylist)//2:])\n",
    "    )\n",
    "\n",
    "sum_list_recursive(range(10))\n",
    "\n",
    "plus = lambda x,y: x+y\n",
    "reduce(plus, 0, range(10))"
   ]
  },
  {
   "attachments": {},
   "cell_type": "markdown",
   "metadata": {
    "slideshow": {
     "slide_type": "fragment"
    }
   },
   "source": [
    "How can we specify this with reduce?"
   ]
  },
  {
   "cell_type": "code",
   "execution_count": 11,
   "metadata": {
    "slideshow": {
     "slide_type": "fragment"
    }
   },
   "outputs": [
    {
     "data": {
      "text/plain": [
       "45"
      ]
     },
     "execution_count": 11,
     "metadata": {},
     "output_type": "execute_result"
    }
   ],
   "source": [
    "def plus(x, y):\n",
    "    return x + y\n",
    "\n",
    "reduce(plus, 0, range(10))"
   ]
  },
  {
   "attachments": {},
   "cell_type": "markdown",
   "metadata": {
    "slideshow": {
     "slide_type": "slide"
    }
   },
   "source": [
    "For more complicated combination functions, we can define a generic version of most divide and conquer algorithms and show that it can be implemented with `reduce` and `map`."
   ]
  },
  {
   "cell_type": "code",
   "execution_count": null,
   "metadata": {
    "slideshow": {
     "slide_type": "fragment"
    }
   },
   "outputs": [],
   "source": [
    "## Generic divide and conquer algorithm.\n",
    "\n",
    "def my_divide_n_conquer_alg(mylist):    \n",
    "    if len(mylist) == 0:\n",
    "        return LEFT_IDENTITY# <identity>\n",
    "    elif len(mylist) == 1:\n",
    "        return BASECASE(mylist[0]) # basecase for 1\n",
    "    else:\n",
    "        return COMBINE_FUNCTION(\n",
    "            my_divide_n_conquer_alg(mylist[:len(mylist)//2]),\n",
    "            my_divide_n_conquer_alg(mylist[len(mylist)//2:])\n",
    "        )\n",
    "\n",
    "def COMBINE_FUNCTION(solution1, solution2):\n",
    "    \"\"\" return the combination of two recursive solutions\"\"\"\n",
    "    pass\n",
    "\n",
    "def BASECASE(value):\n",
    "    \"\"\" return the basecase value for a single input\"\"\"\n",
    "    pass\n",
    "\n",
    "### is equivalent to\n",
    "reduce(COMBINE_FUNCTION, LEFT_IDENTITY, (map(BASECASE, mylist)))"
   ]
  },
  {
   "attachments": {},
   "cell_type": "markdown",
   "metadata": {
    "slideshow": {
     "slide_type": "slide"
    }
   },
   "source": [
    "### Example: Sorting with Reduce"
   ]
  },
  {
   "cell_type": "code",
   "execution_count": 3,
   "metadata": {
    "slideshow": {
     "slide_type": "fragment"
    }
   },
   "outputs": [
    {
     "data": {
      "text/plain": [
       "[1, 2, 3, 4, 8, 10]"
      ]
     },
     "execution_count": 3,
     "metadata": {},
     "output_type": "execute_result"
    }
   ],
   "source": [
    "def merge(left, right):\n",
    "    \"\"\"\n",
    "    Takes in two sorted lists and returns a sorted list that combines them both.\n",
    "    \"\"\"\n",
    "    i = j = 0\n",
    "    result = []\n",
    "    while i < len(left) and j < len(right):\n",
    "        if right[j] < left[i]:   # out of order: e.g., left=[4], right=[3]\n",
    "            result.append(right[j])\n",
    "            j += 1\n",
    "        else:                   # in order: e.g., left=[1], right=[2]\n",
    "            result.append(left[i])\n",
    "            i += 1    \n",
    "    # append any remaining items (at most one list will have items left)\n",
    "    result.extend(left[i:])\n",
    "    result.extend(right[j:])\n",
    "    return result\n",
    "\n",
    "merge([1,4,8], [2,3,10])"
   ]
  },
  {
   "attachments": {},
   "cell_type": "markdown",
   "metadata": {
    "slideshow": {
     "slide_type": "fragment"
    }
   },
   "source": [
    "What is base case and left identity? "
   ]
  },
  {
   "cell_type": "code",
   "execution_count": 5,
   "metadata": {
    "slideshow": {
     "slide_type": "subslide"
    }
   },
   "outputs": [
    {
     "data": {
      "text/plain": [
       "[1, 2, 3, 4, 5, 6, 7, 8]"
      ]
     },
     "execution_count": 5,
     "metadata": {},
     "output_type": "execute_result"
    }
   ],
   "source": [
    "def singleton(value):\n",
    "    \"\"\" create a list with one element. \"\"\"\n",
    "    return [value]\n",
    "\n",
    "## reduce(COMBINE_FUNCTION, LEFT_IDENTITY, (map(BASECASE, mylist)))\n",
    "reduce(merge, [], list(map(singleton, [1,3,6,4,8,7,5,2])))"
   ]
  },
  {
   "cell_type": "code",
   "execution_count": 6,
   "metadata": {
    "slideshow": {
     "slide_type": "fragment"
    }
   },
   "outputs": [
    {
     "data": {
      "text/plain": [
       "[[1], [3], [6], [4], [8], [7], [5], [2]]"
      ]
     },
     "execution_count": 6,
     "metadata": {},
     "output_type": "execute_result"
    }
   ],
   "source": [
    "list(map(singleton, [1,3,6,4,8,7,5,2]))\n",
    "\n",
    "#[[val] for val in [1,3,6,4,8,7,5,1]]"
   ]
  },
  {
   "attachments": {},
   "cell_type": "markdown",
   "metadata": {
    "slideshow": {
     "slide_type": "subslide"
    }
   },
   "source": [
    "What if we use `iterate` instead of `reduce`?"
   ]
  },
  {
   "cell_type": "code",
   "execution_count": 30,
   "metadata": {
    "slideshow": {
     "slide_type": "fragment"
    }
   },
   "outputs": [
    {
     "data": {
      "text/plain": [
       "[1, 2, 3, 4, 5, 6, 7, 8]"
      ]
     },
     "execution_count": 30,
     "metadata": {},
     "output_type": "execute_result"
    }
   ],
   "source": [
    "iterate(merge, [], list(map(singleton, [1,3,6,4,8,7,5,2])))"
   ]
  },
  {
   "attachments": {},
   "cell_type": "markdown",
   "metadata": {
    "slideshow": {
     "slide_type": "slide"
    }
   },
   "source": [
    "### Order matters\n",
    "\n",
    "![order](figures/order.png)\n",
    "\n",
    "\n"
   ]
  },
  {
   "attachments": {},
   "cell_type": "markdown",
   "metadata": {
    "slideshow": {
     "slide_type": "slide"
    }
   },
   "source": [
    "### Analysis\n",
    "\n",
    "`iterate(merge, [], list(map(singleton, [1,3,6,4,8,7,5,2])))`\n",
    "\n",
    "This is **insertion sort**!\n",
    "\n",
    "- We iterate from left to right.\n",
    "- At each step we insert the next element into the appropriate place in the sorted list.\n",
    "\n",
    "$[1] \\rightarrow [1,3] \\rightarrow [1,3,6] \\rightarrow [1,3,4,6] \\ldots$\n",
    "\n",
    "<br><br>\n"
   ]
  },
  {
   "attachments": {},
   "cell_type": "markdown",
   "metadata": {
    "slideshow": {
     "slide_type": "fragment"
    }
   },
   "source": [
    "\n",
    "Assuming the `merge` function has **work** $O(n)$.\n",
    "\n",
    "$$W(n) = W(n-1) + n \\in O(n^2)$$\n",
    "\n",
    "<br><br>\n"
   ]
  },
  {
   "attachments": {},
   "cell_type": "markdown",
   "metadata": {
    "slideshow": {
     "slide_type": "fragment"
    }
   },
   "source": [
    "\n",
    "Assuming the `merge` function has **span** $O(\\lg n)$ (note our implementation above doesn't do this).\n",
    "\n",
    "$$S(n) = S(n-1) + \\lg n \\in O(n \\lg n)$$\n"
   ]
  },
  {
   "attachments": {},
   "cell_type": "markdown",
   "metadata": {
    "slideshow": {
     "slide_type": "subslide"
    }
   },
   "source": [
    "\n",
    "\n",
    "`reduce(merge, [], list(map(singleton, [1,3,6,4,8,7,5,2])))`\n",
    "\n",
    "This is **merge sort**!\n",
    "\n",
    "<br><br>\n"
   ]
  },
  {
   "attachments": {},
   "cell_type": "markdown",
   "metadata": {
    "slideshow": {
     "slide_type": "fragment"
    }
   },
   "source": [
    "\n",
    "Assuming the `merge` function has **work** $O(n)$.\n",
    "\n",
    "$$W(n) = 2W(n/2) + n \\in O(n \\lg n)$$\n",
    "\n",
    "Assuming the `merge` function has **span** $O(\\lg n)$.\n",
    "\n",
    "$$S(n) = S(n/2) + \\lg n \\in O(\\lg^2 n)$$"
   ]
  },
  {
   "attachments": {},
   "cell_type": "markdown",
   "metadata": {
    "slideshow": {
     "slide_type": "slide"
    }
   },
   "source": [
    "### Map-Reduce\n",
    "\n",
    "Scalable, parallel programming model popularized by Google.\n",
    "\n",
    "It is used to parallelize the processing of large datasets across clusters of computers.\n",
    "\n",
    "It consists of four basic steps:\n",
    "\n",
    "1. Split the data in trivial key-value pairs, somewhat analogous to base cases\n",
    "    - In this step we are mapping each piece of data to some value, returning a list of all key-value pairs.\n",
    "2. Collect all values for the same keys into lists.\n",
    "    - Results in a collection of tuples, one for each key. The value for each key is now a list of all the values for that key from the previous step\n",
    "3. Reduce the values for each key into a single data point\n",
    "    - this can be in parallel\n",
    "4. Return a list of all processed key value pairs"
   ]
  },
  {
   "cell_type": "code",
   "execution_count": null,
   "metadata": {
    "slideshow": {
     "slide_type": "subslide"
    }
   },
   "outputs": [],
   "source": [
    "def run_map_reduce(map_f, reduce_f, docs):\n",
    "    \"\"\"    \n",
    "    The main map reduce logic.\n",
    "    \n",
    "    Params:\n",
    "      map_f......the mapping function\n",
    "      reduce_f...the reduce function\n",
    "      docs.......list of input records\n",
    "    \"\"\"\n",
    "    # 1. call map_f on each element of docs and flatten the results\n",
    "    # e.g., [('i', 1), ('am', 1), ('sam', 1), ('i', 1), ('am', 1), ('sam', 1), ('is', 1), ('ham', 1)]\n",
    "    pairs = flatten(list(map(map_f, docs)))\n",
    "    # 2. group all pairs by their key\n",
    "    # e.g., [('am', [1, 1]), ('ham', [1]), ('i', [1, 1]), ('is', [1]), ('sam', [1, 1])]\n",
    "    groups = collect(pairs)\n",
    "    # 3. reduce each group to the final answer\n",
    "    # e.g., [('am', 2), ('ham', 1), ('i', 2), ('is', 1), ('sam', 2)]\n",
    "    return [reduce_f(g) for g in groups]"
   ]
  },
  {
   "attachments": {},
   "cell_type": "markdown",
   "metadata": {
    "slideshow": {
     "slide_type": "slide"
    }
   },
   "source": [
    "#### Example\n",
    "\n",
    "Suppose we are counting the frequencies of words in some text. This is a common task in the field of natural language processing.\n",
    "\n",
    "Here is our corpus:\n",
    "\n",
    "```\n",
    "\"left foot left foot\"\n",
    "\"right foot right\"\n",
    "\"wet foot dry foot\"\n",
    "\"high foot low foot\"\n",
    "```\n"
   ]
  },
  {
   "attachments": {},
   "cell_type": "markdown",
   "metadata": {
    "slideshow": {
     "slide_type": "subslide"
    }
   },
   "source": [
    "\n",
    "**Step 1**: Split it into all words, mapping each to a frequency of 1. There will be repeated words.\n",
    "\n",
    "    [('left', 1), ('foot', 1), ('left', 1), ('foot', 1), ('right', 1), ('foot', 1), ('right', 1), ('wet', 1), ('foot', 1), ('dry', 1), ('foot', 1), ('high', 1), ('foot', 1), ('low', 1), ('foot', 1)]\n"
   ]
  },
  {
   "attachments": {},
   "cell_type": "markdown",
   "metadata": {
    "slideshow": {
     "slide_type": "fragment"
    }
   },
   "source": [
    "\n",
    "**Step 2**: Collect all values for the same word into individual lists.\n",
    "\n",
    "    [('dry', [1]), ('foot', [1, 1, 1, 1, 1, 1, 1]), ('high', [1]), ('left', [1, 1]), ('low', [1]), ('right', [1, 1]), ('wet', [1])]\n"
   ]
  },
  {
   "attachments": {},
   "cell_type": "markdown",
   "metadata": {
    "slideshow": {
     "slide_type": "fragment"
    }
   },
   "source": [
    "\n",
    "**Step 3**: Run reduce on every tuple above to sum all counts into a final frequency.\n",
    "\n",
    "    [('dry', 1), ('foot', 7), ('high', 1), ('left', 2), ('low', 1), ('right', 2), ('wet', 1)]\n"
   ]
  },
  {
   "attachments": {},
   "cell_type": "markdown",
   "metadata": {
    "slideshow": {
     "slide_type": "fragment"
    }
   },
   "source": [
    "\n",
    "**Step 4**: Return a list of all word frequencies\n",
    "\n",
    "    [('dry', 1), ('foot', 7), ('high', 1), ('left', 2), ('low', 1), ('right', 2), ('wet', 1)]"
   ]
  }
 ],
 "metadata": {
  "celltoolbar": "Slideshow",
  "kernelspec": {
   "display_name": "Python 3.9.6 64-bit",
   "language": "python",
   "name": "python3"
  },
  "language_info": {
   "codemirror_mode": {
    "name": "ipython",
    "version": 3
   },
   "file_extension": ".py",
   "mimetype": "text/x-python",
   "name": "python",
   "nbconvert_exporter": "python",
   "pygments_lexer": "ipython3",
   "version": "3.9.6"
  },
  "rise": {
   "autolaunch": true,
   "controls": false,
   "enable_chalkboard": true,
   "scroll": true,
   "theme": "simple",
   "transition": "fade"
  },
  "toc": {
   "base_numbering": 1,
   "nav_menu": {},
   "number_sections": true,
   "sideBar": true,
   "skip_h1_title": true,
   "title_cell": "Table of Contents",
   "title_sidebar": "Contents",
   "toc_cell": true,
   "toc_position": {},
   "toc_section_display": true,
   "toc_window_display": false
  },
  "vscode": {
   "interpreter": {
    "hash": "aee8b7b246df8f9039afb4144a1f6fd8d2ca17a180786b69acc140d282b71a49"
   }
  }
 },
 "nbformat": 4,
 "nbformat_minor": 4
}
