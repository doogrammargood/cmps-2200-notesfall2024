{
 "cells": [
  {
   "cell_type": "code",
   "execution_count": 1,
   "metadata": {
    "code_folding": [],
    "slideshow": {
     "slide_type": "skip"
    }
   },
   "outputs": [
    {
     "data": {
      "text/html": [
       "<style>.prompt{width: 0px; min-width: 0px; visibility: collapse}</style>"
      ],
      "text/plain": [
       "<IPython.core.display.HTML object>"
      ]
     },
     "metadata": {},
     "output_type": "display_data"
    },
    {
     "data": {
      "text/html": [
       "<style>\n",
       "div#notebook {\n",
       " font-family: \"Exo_2\", sans-serif;\n",
       "}\n",
       "\n",
       ".rendered_html h1,\n",
       ".text_cell_render h1 {\n",
       " color: #126dce;\n",
       " font-size: 220%;\n",
       " text-align: center;\n",
       " font-weight: lighter;\n",
       "}\n",
       ".rendered_html h2,\n",
       ".text_cell_render h2 {\n",
       " text-align: center;\n",
       " font-size: 170%;\n",
       " color: #126dce;\n",
       " font-style: normal;\n",
       " font-weight: lighter;\n",
       "}\n",
       ".rendered_html h3,\n",
       ".text_cell_render h3 {\n",
       " font-size: 150%;\n",
       " color: #126dce;\n",
       " font-weight: lighter;\n",
       " text-decoration: italic;\n",
       " font-style: normal;\n",
       "}\n",
       ".rendered_html h4,\n",
       ".text_cell_render h4 {\n",
       " font-size: 120%;\n",
       " color: #126dce;\n",
       " font-weight: underline;\n",
       " font-style: normal;\n",
       "}\n",
       ".rendered_html h5,\n",
       ".text_cell_render h5 {\n",
       " font-size: 100%;\n",
       " color: #2f2f2f;\n",
       " font-weight: lighter;\n",
       " text-decoration: underline;\n",
       "}\n",
       "</style>\n"
      ],
      "text/plain": [
       "<IPython.core.display.HTML object>"
      ]
     },
     "metadata": {},
     "output_type": "display_data"
    }
   ],
   "source": [
    "# setup\n",
    "from IPython.core.display import display,HTML\n",
    "display(HTML('<style>.prompt{width: 0px; min-width: 0px; visibility: collapse}</style>'))\n",
    "display(HTML(open('rise.css').read()))\n",
    "\n",
    "# imports\n",
    "import numpy as np\n",
    "import matplotlib.pyplot as plt\n",
    "import seaborn as sns\n",
    "%matplotlib inline\n",
    "sns.set(style=\"whitegrid\", font_scale=1.5, rc={'figure.figsize':(12, 6)})\n"
   ]
  },
  {
   "attachments": {},
   "cell_type": "markdown",
   "metadata": {
    "slideshow": {
     "slide_type": "slide"
    }
   },
   "source": [
    "# CMPS 2200\n",
    "# Introduction to Algorithms\n",
    "\n",
    "## Cost of sequence functions\n"
   ]
  },
  {
   "attachments": {},
   "cell_type": "markdown",
   "metadata": {
    "slideshow": {
     "slide_type": "slide"
    }
   },
   "source": [
    "Today's agenda:  \n",
    "\n",
    "- Review of subsequence functions\n",
    "- Work/Span of functions\n"
   ]
  },
  {
   "cell_type": "code",
   "execution_count": 1,
   "metadata": {
    "slideshow": {
     "slide_type": "slide"
    }
   },
   "outputs": [],
   "source": [
    "# Review of primitive functions.\n",
    "from collections import defaultdict\n",
    "\n",
    "def tabulate(f, n):\n",
    "    return [f(i) for i in range(n)]\n",
    "\n",
    "def my_map(f, a):\n",
    "    return [f(x) for x in a]\n",
    "\n",
    "def my_filter(f, a):\n",
    "    return [x for x in a if f(x)]\n",
    "\n",
    "def iterate(f, x, a):\n",
    "    if len(a) == 0:\n",
    "        return x\n",
    "    else:\n",
    "        return iterate(f, f(x, a[0]), a[1:])\n",
    "\n",
    "def flatten(sequences):\n",
    "    return iterate(plus, [], sequences)\n",
    "\n",
    "def collect(pairs):\n",
    "    result = defaultdict(list)\n",
    "    for pair in sorted(pairs):\n",
    "        result[pair[0]].append(pair[1])\n",
    "    return list(result.items())\n",
    "\n",
    "def plus(x, y):\n",
    "    return x + y\n",
    "\n",
    "# cont..."
   ]
  },
  {
   "cell_type": "code",
   "execution_count": 2,
   "metadata": {
    "slideshow": {
     "slide_type": "subslide"
    }
   },
   "outputs": [],
   "source": [
    "\n",
    "def reduce(f, id_, a):\n",
    "    if len(a) == 0:\n",
    "        return id_\n",
    "    elif len(a) == 1:\n",
    "        return a[0]\n",
    "    else:\n",
    "        return f(reduce(f, id_, a[:len(a)//2]),\n",
    "                 reduce(f, id_, a[len(a)//2:]))\n",
    "\n",
    "def scan(f, id_, a):\n",
    "    if len(a) == 0:\n",
    "        return [], id_\n",
    "    elif len(a) == 1:\n",
    "        return [id_], a[0]\n",
    "    else:\n",
    "        subproblem = [f(a[i], a[i+1]) for i in range(len(a))[::2]]\n",
    "\n",
    "        partial_output, total = scan(f, id_, subproblem)\n",
    "\n",
    "        ret = (\n",
    "            [partial_output[i//2] if i%2==0 else\n",
    "             f(partial_output[i//2], a[i-1])\n",
    "             for i in range(len(a))],\n",
    "            total\n",
    "        )\n",
    "        return ret\n"
   ]
  },
  {
   "attachments": {},
   "cell_type": "markdown",
   "metadata": {
    "slideshow": {
     "slide_type": "slide"
    }
   },
   "source": [
    "## Costs\n",
    "\n",
    "The cost of these functions depends on the concrete data structure used to represent the sequence. E.g., for an **array**:"
   ]
  },
  {
   "attachments": {},
   "cell_type": "markdown",
   "metadata": {
    "slideshow": {
     "slide_type": "fragment"
    }
   },
   "source": [
    "$\n",
    "\\begin{array}{lcc}\n",
    "\\text{Operation} & \\text{Work} & \\text{Span}  \n",
    "\\\\  \n",
    "\\mathit{length}~a  \n",
    "&\n",
    "1  \n",
    "&\n",
    "1  \n",
    "\\\\  \n",
    "\\mathit{nth}~a~i  \n",
    "& 1  \n",
    "& 1  \n",
    "\\\\   \n",
    "\\mathit{singleton}~x  \n",
    "&  \n",
    "1  \n",
    "&   \n",
    "1  \n",
    "\\\\  \n",
    "\\mathit{empty}  \n",
    "&  \n",
    "1  \n",
    "&   \n",
    "1  \n",
    "\\\\  \n",
    "\\mathit{isSingleton}~x  \n",
    "&  \n",
    "1  \n",
    "&   \n",
    "1  \n",
    "\\\\  \n",
    "\\mathit{isEmpty}~x  \n",
    "&  \n",
    "1  \n",
    "&   \n",
    "1  \n",
    "\\\\\n",
    "\\mathit{subseq}~a~(i,j)  \n",
    "& 1  \n",
    "& 1   \n",
    "\\\\   \n",
    "\\mathit{tabulate}~f~n  \n",
    "& 1 + \\displaystyle\\sum_{i=0}^n W\\left({f(i)}\\right)  \n",
    "& 1 + \\displaystyle\\max_{i=0}^n S\\left({f(i)}\\right)   \n",
    "\\\\[2mm]  \n",
    "\\mathit{map}~f~a  \n",
    "& 1 + \\displaystyle\\sum_{x \\in a}  W\\left({f(x)}\\right)  \n",
    "& 1 + \\displaystyle\\max_{x \\in a}  S\\left({f(x)}\\right)   \n",
    "\\\\[2mm]  \n",
    "\\mathit{filter}~f~a  \n",
    "& 1 + \\displaystyle\\sum_{x \\in a} W\\left({f(x)}\\right)  \n",
    "& \\lg \\lvert a \\rvert + \\displaystyle\\max_{x \\in a} S\\left({f(x)}\\right)   \n",
    "\\\\[2mm]\n",
    "\\end{array}\n",
    "$\n"
   ]
  },
  {
   "attachments": {},
   "cell_type": "markdown",
   "metadata": {
    "slideshow": {
     "slide_type": "subslide"
    }
   },
   "source": [
    "\n",
    "$\n",
    "\\begin{array}{lcc}\n",
    "\\text{Operation} & \\text{Work} & \\text{Span}  \n",
    "\\\\   \n",
    "\\mathit{append}~a~b  \n",
    "& 1 + \\lvert a \\rvert+\\lvert b \\rvert  \n",
    "& 1   \n",
    "\\\\[2mm]  \n",
    "\\mathit{flatten}~a  \n",
    "& 1 + \\lvert a \\rvert + \\sum_{x \\in a} |x|  \n",
    "& 1 + \\lg \\lvert a \\rvert   \n",
    "\\\\[2mm]  \n",
    "\\mathit{update}~a~(i,x)   \n",
    "& 1 + \\lvert a \\rvert  \n",
    "& 1   \n",
    "\\\\[2mm]  \n",
    "\\mathit{inject}~a~b   \n",
    "& 1 + \\lvert a \\rvert + \\lvert b \\rvert  \n",
    "& \\lg(\\mathsf{degree}(b))  \n",
    "\\\\[2mm]  \n",
    "\\mathit{ninject}~a~b   \n",
    "& 1 + \\lvert a \\rvert + \\lvert b \\rvert  \n",
    "& 1   \n",
    "\\\\[2mm]  \n",
    "\\mathit{collect}~f~a  \n",
    "& 1 + W\\left({f}\\right) \\cdot \\lvert a \\rvert \\lg \\lvert a \\rvert  \n",
    "& 1 + S\\left({f}\\right) \\cdot \\lg^2 \\lvert a \\rvert  \n",
    "\\\\[2mm]  \n",
    "\\mathit{iterate}~f~x~a  \n",
    "&  \n",
    "1 + \\displaystyle\\sum_{f(y,z) \\in \\mathcal{T}(-)} W\\left({f(y,z)}\\right)  \n",
    "&  \n",
    "1 + \\displaystyle\\sum_{f(y,z) \\in \\mathcal{T}(-)} S\\left({f(y,z)}\\right)  \n",
    "\\\\[2mm]  \n",
    "\\mathit{reduce}~f~x~a   \n",
    "&   \n",
    "1 + \\displaystyle\\sum_{f(y,z) \\in \\mathcal{T}(-)} W\\left({f(y,z)}\\right)  \n",
    "&  \n",
    "\\lg \\lvert a \\rvert \\cdot  \\displaystyle\\max_{f(y,z) \\in \\mathcal{T}(-)} S\\left({f(y,z)}\\right)  \n",
    "\\\\[2mm]  \n",
    "\\mathit{scan}~f~x~a  \n",
    "& \\lvert a \\rvert  \n",
    "& \\lg \\lvert a \\rvert  \n",
    "\\end{array}\n",
    "$"
   ]
  },
  {
   "attachments": {},
   "cell_type": "markdown",
   "metadata": {
    "slideshow": {
     "slide_type": "subslide"
    }
   },
   "source": [
    "Why does filter require logarithmic span?\n",
    "\n",
    "```python\n",
    "def my_filter(f, a):\n",
    "    return [x for x in a if f(x)]\n",
    "```\n",
    "\n",
    "<br>\n",
    "\n",
    "\n",
    "$S(filter \\: f \\: a) =  \\lg \\lvert a \\rvert + \\displaystyle\\max_{x \\in a} S\\left({f(x)}\\right)$"
   ]
  },
  {
   "attachments": {},
   "cell_type": "markdown",
   "metadata": {
    "slideshow": {
     "slide_type": "fragment"
    }
   },
   "source": [
    "We need to account for the work to create the return array.\n"
   ]
  },
  {
   "attachments": {},
   "cell_type": "markdown",
   "metadata": {
    "slideshow": {
     "slide_type": "fragment"
    }
   },
   "source": [
    "\n",
    "<br>\n",
    "We can't do this in constant span, because the location of one value depends on the location of other values.\n",
    "<br><br>\n",
    "\n",
    "$filter \\:\\: positive \\:\\: [-1,3,-2,4,-5,6] \\rightarrow [3,4,6]$\n"
   ]
  },
  {
   "attachments": {},
   "cell_type": "markdown",
   "metadata": {
    "slideshow": {
     "slide_type": "fragment"
    }
   },
   "source": [
    "\n",
    "<br><br>\n",
    "**idea:** Make a first, parallel pass to map all satisfying values to singletons and everything else to empty lists:\n",
    "\n",
    "$[[],[3],[],[4],[],[6]]$\n",
    "\n",
    "Then flatten everything down:\n",
    "\n",
    "$[3,4,6]$\n"
   ]
  },
  {
   "cell_type": "code",
   "execution_count": 3,
   "metadata": {
    "slideshow": {
     "slide_type": "subslide"
    }
   },
   "outputs": [
    {
     "data": {
      "text/plain": [
       "[3, 4, 6]"
      ]
     },
     "execution_count": 3,
     "metadata": {},
     "output_type": "execute_result"
    }
   ],
   "source": [
    "def deflate(f, x):\n",
    "    return [x] if f(x) else []\n",
    "\n",
    "def my_filter(f,a):\n",
    "    return flatten(my_map(lambda element: deflate(f,element), a))\n",
    "\n",
    "def positive(x):\n",
    "    if x > 0:\n",
    "        return True\n",
    "    return False\n",
    "\n",
    "deflate(positive,-2)\n",
    "my_map(lambda element: deflate(positive,element), [-1,3,-2,4,-5,6])\n",
    "my_filter(positive, [-1,3,-2,4,-5,6])"
   ]
  },
  {
   "attachments": {},
   "cell_type": "markdown",
   "metadata": {
    "slideshow": {
     "slide_type": "slide"
    }
   },
   "source": [
    "## Example Problem: All Contiguous Subsequences\n",
    "\n",
    "Given a sequence $a$, generate all contiguous subsequences.\n",
    "\n",
    "<br>\n",
    "\n",
    "E.g,\n",
    "\n",
    "$a = [1, 3, 5, 7]$\n",
    "\n",
    "$\\texttt{all_contiguous_subsequences}(a) = $\n",
    "\n",
    "$[1], [1,3], [1,3,5], [1,3,5,7], [3], [3,5], [3,5,7], [5], [5,7], [7]$\n",
    "\n"
   ]
  },
  {
   "attachments": {},
   "cell_type": "markdown",
   "metadata": {
    "slideshow": {
     "slide_type": "skip"
    }
   },
   "source": [
    "\n",
    "$\\langle a \\langle i, \\ldots,j \\rangle : 0 \\le i < |a|, i \\le j < |a| \\rangle$\n",
    "\n",
    "$\\equiv$\n",
    "\n",
    "$\\langle a \\langle i, \\ldots,j \\rangle : 0 \\le i \\le j < |a| \\rangle$\n",
    "\n",
    "$\\equiv$\n",
    "\n",
    "$flatten \\langle \\: \\langle a[i \\ldots i+j]: i \\le j < |a| \\rangle : 0 \\le i < |a| \\rangle$\n",
    "\n",
    "$\\equiv$\n",
    "\n",
    "$flatten (tabulate (\\mathtt{lambda} \\:  i \\: . tabulate ( \\mathtt{lambda} \\: j \\: . \\: a[i \\ldots i+j])(|a| - i - 1)|a|)$\n",
    "\n"
   ]
  },
  {
   "cell_type": "code",
   "execution_count": 4,
   "metadata": {
    "slideshow": {
     "slide_type": "subslide"
    }
   },
   "outputs": [
    {
     "data": {
      "text/plain": [
       "[[1],\n",
       " [1, 2],\n",
       " [1, 2, 3],\n",
       " [1, 2, 3, 4],\n",
       " [1, 2, 3, 4, 5],\n",
       " [2],\n",
       " [2, 3],\n",
       " [2, 3, 4],\n",
       " [2, 3, 4, 5],\n",
       " [3],\n",
       " [3, 4],\n",
       " [3, 4, 5],\n",
       " [4],\n",
       " [4, 5],\n",
       " [5]]"
      ]
     },
     "execution_count": 4,
     "metadata": {},
     "output_type": "execute_result"
    }
   ],
   "source": [
    "# sequential solution\n",
    "\n",
    "def all_contiguous_subseq(a):\n",
    "    for i in range(len(a)):\n",
    "        for j in range(i+1, len(a)+1):\n",
    "            yield a[i:j]\n",
    "            \n",
    "list(all_contiguous_subseq([1,2,3,4,5]))"
   ]
  },
  {
   "attachments": {},
   "cell_type": "markdown",
   "metadata": {
    "slideshow": {
     "slide_type": "subslide"
    }
   },
   "source": [
    "Can we solve this using our primitives?"
   ]
  },
  {
   "attachments": {},
   "cell_type": "markdown",
   "metadata": {
    "slideshow": {
     "slide_type": "fragment"
    }
   },
   "source": [
    "<br>\n",
    "\n",
    "$\\texttt{tabulate}$ is our equivalent of a basic for loop."
   ]
  },
  {
   "cell_type": "code",
   "execution_count": 9,
   "metadata": {
    "slideshow": {
     "slide_type": "fragment"
    }
   },
   "outputs": [
    {
     "data": {
      "text/plain": [
       "[0, 1, 2, 3, 4, 5, 6, 7, 8, 9]"
      ]
     },
     "execution_count": 9,
     "metadata": {},
     "output_type": "execute_result"
    }
   ],
   "source": [
    "tabulate(lambda i: i, 10)"
   ]
  },
  {
   "attachments": {},
   "cell_type": "markdown",
   "metadata": {
    "slideshow": {
     "slide_type": "fragment"
    }
   },
   "source": [
    "<br>\n",
    "\n",
    "We can use $\\texttt{tabulate}$ to slice into a list:"
   ]
  },
  {
   "cell_type": "code",
   "execution_count": 10,
   "metadata": {
    "slideshow": {
     "slide_type": "fragment"
    }
   },
   "outputs": [
    {
     "data": {
      "text/plain": [
       "[[1], [1, 2], [1, 2, 3], [1, 2, 3, 4], [1, 2, 3, 4, 5]]"
      ]
     },
     "execution_count": 10,
     "metadata": {},
     "output_type": "execute_result"
    }
   ],
   "source": [
    "a = [1,2,3,4,5]\n",
    "i=0\n",
    "tabulate(lambda j: a[i:i+j+1],\n",
    "    len(a)-i)"
   ]
  },
  {
   "attachments": {},
   "cell_type": "markdown",
   "metadata": {
    "slideshow": {
     "slide_type": "subslide"
    }
   },
   "source": [
    "We can nest our $\\texttt{tabulate}$s to vary $i$ as well."
   ]
  },
  {
   "cell_type": "code",
   "execution_count": 11,
   "metadata": {
    "slideshow": {
     "slide_type": "fragment"
    }
   },
   "outputs": [
    {
     "data": {
      "text/plain": [
       "[[[1], [1, 2], [1, 2, 3], [1, 2, 3, 4], [1, 2, 3, 4, 5]],\n",
       " [[2], [2, 3], [2, 3, 4], [2, 3, 4, 5]],\n",
       " [[3], [3, 4], [3, 4, 5]],\n",
       " [[4], [4, 5]],\n",
       " [[5]]]"
      ]
     },
     "execution_count": 11,
     "metadata": {},
     "output_type": "execute_result"
    }
   ],
   "source": [
    "tabulate(lambda i: \n",
    "            tabulate(lambda j: a[i:i+j+1],\n",
    "                    len(a)-i),\n",
    "        len(a))"
   ]
  },
  {
   "attachments": {},
   "cell_type": "markdown",
   "metadata": {
    "slideshow": {
     "slide_type": "fragment"
    }
   },
   "source": [
    "<br>\n",
    "\n",
    "Last step, flatten everything together."
   ]
  },
  {
   "cell_type": "code",
   "execution_count": 12,
   "metadata": {
    "slideshow": {
     "slide_type": "subslide"
    }
   },
   "outputs": [
    {
     "data": {
      "text/plain": [
       "[[1],\n",
       " [1, 2],\n",
       " [1, 2, 3],\n",
       " [1, 2, 3, 4],\n",
       " [1, 2, 3, 4, 5],\n",
       " [2],\n",
       " [2, 3],\n",
       " [2, 3, 4],\n",
       " [2, 3, 4, 5],\n",
       " [3],\n",
       " [3, 4],\n",
       " [3, 4, 5],\n",
       " [4],\n",
       " [4, 5],\n",
       " [5]]"
      ]
     },
     "execution_count": 12,
     "metadata": {},
     "output_type": "execute_result"
    }
   ],
   "source": [
    "# all contiguous subsequences\n",
    "a = [1,2,3,4,5]\n",
    "flatten(\n",
    "    tabulate(lambda i: \n",
    "             tabulate(lambda j: a[i:i+j+1],\n",
    "                      len(a)-i),\n",
    "         len(a))\n",
    ")"
   ]
  },
  {
   "attachments": {},
   "cell_type": "markdown",
   "metadata": {
    "slideshow": {
     "slide_type": "slide"
    }
   },
   "source": [
    "## Analysis of All Contiguous Subsequences\n",
    "\n",
    "### Work\n",
    "\n",
    "```python\n",
    "flatten(\n",
    "    tabulate(lambda i: \n",
    "             tabulate(lambda j: a[i:i+j+1],\n",
    "                      len(a)-i),\n",
    "         len(a))\n",
    ")\n",
    "```\n"
   ]
  },
  {
   "attachments": {},
   "cell_type": "markdown",
   "metadata": {
    "slideshow": {
     "slide_type": "fragment"
    }
   },
   "source": [
    "\n",
    "How many calls to `a[i:i+j+1]` (i.e., `subseq`)?"
   ]
  },
  {
   "attachments": {},
   "cell_type": "markdown",
   "metadata": {
    "slideshow": {
     "slide_type": "fragment"
    }
   },
   "source": [
    "If $|a|=n$,\n",
    "\n",
    "$$ \\sum_{i=1}^n = \\frac{n(n-1)}{2}  \\in O(n^2) $$\n"
   ]
  },
  {
   "attachments": {},
   "cell_type": "markdown",
   "metadata": {
    "slideshow": {
     "slide_type": "fragment"
    }
   },
   "source": [
    "\n",
    "Work and span of `subseq` is O(1) (**why?**)\n"
   ]
  },
  {
   "attachments": {},
   "cell_type": "markdown",
   "metadata": {
    "slideshow": {
     "slide_type": "fragment"
    }
   },
   "source": [
    "\n",
    "Therefore, total work is $O(n^2)$.\n"
   ]
  },
  {
   "attachments": {},
   "cell_type": "markdown",
   "metadata": {
    "slideshow": {
     "slide_type": "subslide"
    }
   },
   "source": [
    "### Span\n",
    "\n",
    "```python\n",
    "flatten(\n",
    "    tabulate(lambda i: \n",
    "             tabulate(lambda j: a[i:i+j+1],\n",
    "                      len(a)-i),\n",
    "         len(a))\n",
    ")\n",
    "```\n"
   ]
  },
  {
   "attachments": {},
   "cell_type": "markdown",
   "metadata": {
    "slideshow": {
     "slide_type": "fragment"
    }
   },
   "source": [
    "\n",
    "Span of inner `tabulate` is $O(1)$, and outer `tabulate` is also $O(1)$.\n",
    "\n",
    "<br>\n"
   ]
  },
  {
   "attachments": {},
   "cell_type": "markdown",
   "metadata": {
    "slideshow": {
     "slide_type": "fragment"
    }
   },
   "source": [
    "\n",
    "`flatten` at the end requires $O(\\lg n)$ span.\n"
   ]
  },
  {
   "attachments": {},
   "cell_type": "markdown",
   "metadata": {
    "slideshow": {
     "slide_type": "fragment"
    }
   },
   "source": [
    "\n",
    "Therefore, total span is $O(\\lg n)$\n"
   ]
  },
  {
   "attachments": {},
   "cell_type": "markdown",
   "metadata": {
    "slideshow": {
     "slide_type": "skip"
    }
   },
   "source": [
    "### How would work/span differ using a singly linked list?\n",
    "\n",
    "E.g., accessing element $i$ costs?\n",
    "\n"
   ]
  },
  {
   "attachments": {},
   "cell_type": "markdown",
   "metadata": {
    "slideshow": {
     "slide_type": "skip"
    }
   },
   "source": [
    "$O(i)$ work to access the $i$ th element of a singly linked list.\n",
    "\n",
    "<br><br>\n",
    "\n",
    "Because of this, there is little opportunity for parallelism.\n",
    "\n",
    "E.g.\n",
    "\n",
    "$\\mathit{map}~f~a$\n",
    "\n",
    "\n",
    "span is $1 + \\displaystyle\\sum_{x \\in a}  S\\left({f(x)}\\right)   $\n",
    "\n",
    "\n",
    "<br>\n",
    "\n",
    "compared to the costs for an array implementation:\n",
    "\n",
    "span is $ 1 + \\displaystyle\\max_{x \\in a}  S\\left({f(x)}\\right)$\n"
   ]
  }
 ],
 "metadata": {
  "celltoolbar": "Slideshow",
  "kernelspec": {
   "display_name": "Python 3.9.6 64-bit",
   "language": "python",
   "name": "python3"
  },
  "language_info": {
   "codemirror_mode": {
    "name": "ipython",
    "version": 3
   },
   "file_extension": ".py",
   "mimetype": "text/x-python",
   "name": "python",
   "nbconvert_exporter": "python",
   "pygments_lexer": "ipython3",
   "version": "3.9.6"
  },
  "rise": {
   "autolaunch": true,
   "controls": false,
   "enable_chalkboard": true,
   "scroll": true,
   "theme": "simple",
   "transition": "fade"
  },
  "toc": {
   "base_numbering": 1,
   "nav_menu": {},
   "number_sections": true,
   "sideBar": true,
   "skip_h1_title": true,
   "title_cell": "Table of Contents",
   "title_sidebar": "Contents",
   "toc_cell": true,
   "toc_position": {},
   "toc_section_display": true,
   "toc_window_display": false
  },
  "vscode": {
   "interpreter": {
    "hash": "aee8b7b246df8f9039afb4144a1f6fd8d2ca17a180786b69acc140d282b71a49"
   }
  }
 },
 "nbformat": 4,
 "nbformat_minor": 4
}
