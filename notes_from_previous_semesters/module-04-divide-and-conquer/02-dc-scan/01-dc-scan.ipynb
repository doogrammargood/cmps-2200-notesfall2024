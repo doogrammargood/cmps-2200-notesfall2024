{
 "cells": [
  {
   "cell_type": "code",
   "execution_count": 6,
   "metadata": {
    "code_folding": [],
    "slideshow": {
     "slide_type": "skip"
    }
   },
   "outputs": [
    {
     "data": {
      "text/html": [
       "<style>.prompt{width: 0px; min-width: 0px; visibility: collapse}</style>"
      ],
      "text/plain": [
       "<IPython.core.display.HTML object>"
      ]
     },
     "metadata": {},
     "output_type": "display_data"
    },
    {
     "data": {
      "text/html": [
       "<style>\n",
       "div#notebook {\n",
       " font-family: \"Exo_2\", sans-serif;\n",
       "}\n",
       "\n",
       ".rendered_html h1,\n",
       ".text_cell_render h1 {\n",
       " color: #126dce;\n",
       " font-size: 220%;\n",
       " text-align: center;\n",
       " font-weight: lighter;\n",
       "}\n",
       ".rendered_html h2,\n",
       ".text_cell_render h2 {\n",
       " text-align: center;\n",
       " font-size: 170%;\n",
       " color: #126dce;\n",
       " font-style: normal;\n",
       " font-weight: lighter;\n",
       "}\n",
       ".rendered_html h3,\n",
       ".text_cell_render h3 {\n",
       " font-size: 150%;\n",
       " color: #126dce;\n",
       " font-weight: lighter;\n",
       " text-decoration: italic;\n",
       " font-style: normal;\n",
       "}\n",
       ".rendered_html h4,\n",
       ".text_cell_render h4 {\n",
       " font-size: 120%;\n",
       " color: #126dce;\n",
       " font-weight: underline;\n",
       " font-style: normal;\n",
       "}\n",
       ".rendered_html h5,\n",
       ".text_cell_render h5 {\n",
       " font-size: 100%;\n",
       " color: #2f2f2f;\n",
       " font-weight: lighter;\n",
       " text-decoration: underline;\n",
       "}\n",
       "</style>\n"
      ],
      "text/plain": [
       "<IPython.core.display.HTML object>"
      ]
     },
     "metadata": {},
     "output_type": "display_data"
    }
   ],
   "source": [
    "# setup\n",
    "from IPython.core.display import display,HTML\n",
    "display(HTML('<style>.prompt{width: 0px; min-width: 0px; visibility: collapse}</style>'))\n",
    "display(HTML(open('../rise.css').read()))\n",
    "\n",
    "# imports\n",
    "import numpy as np\n",
    "import matplotlib.pyplot as plt\n",
    "import seaborn as sns\n",
    "%matplotlib inline\n",
    "sns.set(style=\"whitegrid\", font_scale=1.5, rc={'figure.figsize':(12, 6)})\n"
   ]
  },
  {
   "attachments": {},
   "cell_type": "markdown",
   "metadata": {
    "slideshow": {
     "slide_type": "slide"
    }
   },
   "source": [
    "# CMPS 2200\n",
    "# Introduction to Algorithms\n",
    "\n",
    "## Divide and Conquer\n"
   ]
  },
  {
   "attachments": {},
   "cell_type": "markdown",
   "metadata": {
    "slideshow": {
     "slide_type": "slide"
    }
   },
   "source": [
    "Today's agenda:\n",
    "\n",
    "- Divide-and-Conquer Framework\n",
    "- Sequence Scan"
   ]
  },
  {
   "attachments": {},
   "cell_type": "markdown",
   "metadata": {
    "slideshow": {
     "slide_type": "slide"
    }
   },
   "source": [
    "We've seen a few divide-and-conquer algorithms already, so let's look at the high-level approach. For a problem $A$ and instance $\\mathcal{I}_A$:\n",
    "\n",
    "- **Base Case**: If $\\mathcal{I}_A$ is small, solve directly. \n",
    "\n",
    "- **Inductive Step**: \n",
    "    - **Divide** $\\mathcal{I}_A$ into smaller instances.\n",
    "    - **Recursively solve** smaller instances.\n",
    "    - **Combine** solutions\n",
    "\n",
    "As we'll see, each algorithmic paradigm has high-level strategies to \n",
    "\n",
    "1. *prove correctness* \n",
    "2. *determine work/span*\n",
    "\n",
    "\n"
   ]
  },
  {
   "attachments": {},
   "cell_type": "markdown",
   "metadata": {
    "slideshow": {
     "slide_type": "slide"
    }
   },
   "source": [
    "## How do we prove the correctness of a divide-and-conquer algorithm?\n",
    "\n",
    "Induction -- why and how?\n",
    "\n",
    "Induction provides a natural framework for divide-and-conquer algorithms.\n",
    "\n",
    "The **base case** of the induction requires us to prove that the algorithm works for the base case.\n",
    "\n",
    "For the **induction step**, we use the inductive hypothesis that the solutions to the smaller instances are correct. Then, we must prove that the combine step correctly produces the desired solution. "
   ]
  },
  {
   "attachments": {},
   "cell_type": "markdown",
   "metadata": {
    "slideshow": {
     "slide_type": "slide"
    }
   },
   "source": [
    "## Determining work/span?\n",
    "\n",
    "We've seen that recurrences can capture the behavior of divide-and-conquer algorithms - they simply capture the cost of recursively solving smaller instances and then combining the solutions. \n",
    "\n",
    "The general form of the work is:\n",
    "\n",
    "$$ W(n) = W_{\\mathsf{\\small divide}}(n) + \\sum_{i=1}^{k}W(n_i) + W_{\\mathsf{\\small combine}}(n) + 1 $$\n",
    "\n",
    "The general form for the span is:\n",
    "\n",
    "$$ S(n) = S_{\\mathsf{\\small divide}}(n) + \\max_{i=1}^{k}S(n_i) + S_{\\mathsf{\\small combine}}(n) + 1 $$\n",
    "\n"
   ]
  },
  {
   "attachments": {},
   "cell_type": "markdown",
   "metadata": {
    "slideshow": {
     "slide_type": "slide"
    }
   },
   "source": [
    "## High level framework through the lens of Merge Sort\n",
    "\n",
    "Let's look at how Merge Sort fits into this framework.\n",
    "\n",
    "\n",
    "$$\n",
    "\\begin{array}{l}  \n",
    "\\mathit{mergeSort}~a =  \n",
    "\\\\   \n",
    "~~~~\\texttt{if}~|a| \\leq 1~\\texttt{then}  \n",
    "\\\\   \n",
    "~~~~~~~~a  \n",
    "\\\\  \n",
    "~~~~\\texttt{else}  \n",
    "\\\\   \n",
    "~~~~~~~~\\texttt{let}  \n",
    "\\\\  \n",
    "~~~~~~~~~~~~(l,r) = \\mathit{splitMid}~a  \n",
    "\\\\   \n",
    "~~~~~~~~~~~~(l',r') = (\\mathit{mergeSort}~l \\mid\\mid{} \\mathit{mergeSort}~r)  \n",
    "\\\\  \n",
    "~~~~~~~~\\texttt{in}  \n",
    "\\\\   \n",
    "~~~~~~~~~~~~\\mathit{merge} (l',r')  \n",
    "\\\\  \n",
    "~~~~~~~~\\texttt{end}  \n",
    "\\end{array}\\\n",
    "$$\n",
    "\n",
    "\n"
   ]
  },
  {
   "attachments": {},
   "cell_type": "markdown",
   "metadata": {
    "slideshow": {
     "slide_type": "subslide"
    }
   },
   "source": [
    "For the correctness, we need to show that Merge Sort truly sorts the list. Let's perform induction:\n",
    "\n",
    "- **Base case**: We correctly sort a singleton list.\n",
    "\n",
    "- **Induction Step**: We assume that we can correctly sort the two halves of the list (by the inductive hypothesis). The final step would be to prove that the merge step works correctly to combine two sorted lists into one sorted list. \n"
   ]
  },
  {
   "attachments": {},
   "cell_type": "markdown",
   "metadata": {
    "slideshow": {
     "slide_type": "subslide"
    }
   },
   "source": [
    "For the running time, recall that we characterized the work/span of Merge Sort as:\n",
    "\n",
    "$$ W(n) = 2W(n/2) + O(n) $$\n",
    " \n",
    "and\n",
    "\n",
    "$$ S(n) = S(n/2) + O(\\log n) $$\n",
    " \n",
    "This fits into the framework above: the divide step takes $O(1)$ time, there are 2 concurrent recursive calls, and merging takes $O(n)$ work and $O(\\log n)$ span.    "
   ]
  },
  {
   "attachments": {},
   "cell_type": "markdown",
   "metadata": {
    "slideshow": {
     "slide_type": "slide"
    }
   },
   "source": [
    "## Divide and Conquer Scan\n",
    "\n",
    "We developed a contraction-based algorithm for this problem, but let's look at a divide-and-conquer strategy.\n"
   ]
  },
  {
   "attachments": {},
   "cell_type": "markdown",
   "metadata": {
    "slideshow": {
     "slide_type": "fragment"
    }
   },
   "source": [
    "\n",
    "Remember that we looked at taking prefix sums for intuition. Let's reuse that example:\n",
    "\n",
    "$\\texttt{prefix_sum}([2,1,3,2,2,5,4,1]) \\rightarrow ([0, 2, 3, 6, 8, 10, 15, 19], 20)$\n",
    "\n",
    "<br>"
   ]
  },
  {
   "attachments": {},
   "cell_type": "markdown",
   "metadata": {
    "slideshow": {
     "slide_type": "fragment"
    }
   },
   "source": [
    "**Divide and Conquer Approach**\n",
    "\n",
    "Instead of contracting pairs of entries what if we just split the list and recursively compute prefix sums?\n"
   ]
  },
  {
   "attachments": {},
   "cell_type": "markdown",
   "metadata": {
    "slideshow": {
     "slide_type": "fragment"
    }
   },
   "source": [
    "\n",
    "$\\texttt{prefix_sum}([2,1,3,2]) \\rightarrow (l, l') = (\\langle 0, 2, 3, 6\\rangle, 8)$\n"
   ]
  },
  {
   "attachments": {},
   "cell_type": "markdown",
   "metadata": {
    "slideshow": {
     "slide_type": "fragment"
    }
   },
   "source": [
    "\n",
    "$\\texttt{prefix_sum}([2,5,4,1]) \\rightarrow (r, r') = (\\langle 0, 2, 7, 11\\rangle, 12)$\n"
   ]
  },
  {
   "attachments": {},
   "cell_type": "markdown",
   "metadata": {
    "slideshow": {
     "slide_type": "fragment"
    }
   },
   "source": [
    "\n",
    " \n",
    "Now, it's easy to see that $l$ already gives us half the solution - how do we get the result by combining solutions?\n"
   ]
  },
  {
   "attachments": {},
   "cell_type": "markdown",
   "metadata": {
    "slideshow": {
     "slide_type": "fragment"
    }
   },
   "source": [
    "All we have to do is to add the sum of the first half to all of the elements of $r$ and to $r'$.\n"
   ]
  },
  {
   "attachments": {},
   "cell_type": "markdown",
   "metadata": {
    "slideshow": {
     "slide_type": "subslide"
    }
   },
   "source": [
    "### Full Example\n",
    "\n",
    "$a = [2,1,3,2,2,5,4,1]$\n",
    "\n",
    "We need to get:\n",
    "\n",
    "$\\texttt{prefix_sum}([2,1,3,2,2,5,4,1]) \\rightarrow ([0, 2, 3, 6, 8, 10, 15, 19], 20)$\n"
   ]
  },
  {
   "attachments": {},
   "cell_type": "markdown",
   "metadata": {
    "slideshow": {
     "slide_type": "fragment"
    }
   },
   "source": [
    "\n",
    "Recursively run $\\texttt{prefix_sum}$ on both halves of the list:\n",
    "\n",
    "$\\texttt{prefix_sum}([2,1,3,2]) \\rightarrow (l, l') = (\\langle 0, 2, 3, 6\\rangle, 8)$\n",
    "\n",
    "$\\texttt{prefix_sum}([2,5,4,1]) \\rightarrow (r, r') = (\\langle 0, 2, 7, 11\\rangle, 12)$\n"
   ]
  },
  {
   "attachments": {},
   "cell_type": "markdown",
   "metadata": {
    "slideshow": {
     "slide_type": "fragment"
    }
   },
   "source": [
    "\n",
    "Generate $y$, the right half of the output by adding $l'$ to every element in $r$:\n",
    "\n",
    "$y = [0+8,\\ 2+8,\\ 7+8,\\ 11+8] = [8, 10, 15, 19]$\n"
   ]
  },
  {
   "attachments": {},
   "cell_type": "markdown",
   "metadata": {
    "slideshow": {
     "slide_type": "fragment"
    }
   },
   "source": [
    "\n",
    "Append $y$ to $l$ and calculate the final sum by adding $l'$ to $r'$.\n",
    "\n",
    "$([0, 2, 3, 6, 8, 10, 15, 19], 20)$"
   ]
  },
  {
   "attachments": {},
   "cell_type": "markdown",
   "metadata": {
    "slideshow": {
     "slide_type": "subslide"
    }
   },
   "source": [
    "\n",
    "$$\n",
    "\\begin{array}{l}  \n",
    "\\mathit{scanDC}~f~\\mathit{id}~a =  \n",
    "\\\\  \n",
    "~~~~\\texttt{if}~|a| = 0~\\texttt{then}  \n",
    "\\\\  \n",
    "~~~~~~~~(\\left\\langle\\,  \\,\\right\\rangle, \\mathit{id})  \n",
    "\\\\  \n",
    "~~~~\\texttt{else if}~|a| = 1~\\texttt{then}  \n",
    "\\\\   \n",
    "~~~~~~~~(\\left\\langle\\, \\mathit{id} \\,\\right\\rangle,a[0])  \n",
    "\\\\  \n",
    "~~~~\\texttt{else}  \n",
    "\\\\   \n",
    "~~~~~~~~\\texttt{let}  \n",
    "\\\\   \n",
    "~~~~~~~~~~~~(b, c) = \\mathit{splitMid}~a  \n",
    "\\\\  \n",
    "~~~~~~~~~~~~((l,l'),(r,r')) = (\\mathit{scanDC}~f~\\mathit{id}~b \\mid\\mid{}~\\mathit{scanDC}~f~\\mathit{id}~c)  \n",
    "\\\\  \n",
    "~~~~~~~~~~~~y = \\left\\langle\\, f (l',x) : x \\in r \\,\\right\\rangle  \n",
    "\\\\  \n",
    "~~~~~~~~\\texttt{in}  \n",
    "\\\\  \n",
    "~~~~~~~~~~~~(\\mathit{append}~(l,y), f(l',r'))  \n",
    "\\\\  \n",
    "~~~~~~~~\\texttt{end}  \n",
    "\\end{array}\\\n",
    "$$\n",
    "\n"
   ]
  },
  {
   "attachments": {},
   "cell_type": "markdown",
   "metadata": {
    "slideshow": {
     "slide_type": "slide"
    }
   },
   "source": [
    "### Correctness Proof\n",
    "\n",
    "How do we prove the correctness of this algorithm?\n",
    "\n",
    "- **Base Case**: For empty and singleton lists, we compute the correct result.\n",
    "    \n",
    "- **Induction Step**: For the induction hypothesis, we assume that we correctly compute the scan results for the two halves of the list. For the combine step, we compute $f(l', x)$ for all $x\\in r$. Why is this the correct result for the right half of the list?\n"
   ]
  },
  {
   "attachments": {},
   "cell_type": "markdown",
   "metadata": {
    "slideshow": {
     "slide_type": "subslide"
    }
   },
   "source": [
    "**Example**\n",
    "\n",
    "> $\\texttt{prefix_sum}([2,1,3,2,2,5,4,1]) \\rightarrow$\n",
    ">\n",
    "> $\\texttt{prefix_sum}([2,1,3,2]) \\rightarrow (l, l') = (\\langle 0, 2, 3, 6\\rangle, 8)$\n",
    ">\n",
    "> $\\texttt{prefix_sum}([2,5,4,1]) \\rightarrow (r, r') = (\\langle 0, 2, 7, 11\\rangle, 12)$\n",
    ">\n",
    "> $y = [0+8,\\ 2+8,\\ 7+8,\\ 11+8] = [8, 10, 15, 19]$\n",
    ">\n",
    "> $l +\\!\\!+ y = ([0, 2, 3, 6, 8, 10, 15, 19], 20)$\n",
    "\n",
    "**Proof**\n",
    "\n",
    "We know that $l' = f(l[(n/2)-1], a[(n/2)-1])$. Since $l[(n/2)-1]$ is a correct scan result and $a[(n/2)-1])$ is the next element to be added, then $l'$ is the correct scan result for the left side of the list. \n"
   ]
  },
  {
   "attachments": {},
   "cell_type": "markdown",
   "metadata": {
    "slideshow": {
     "slide_type": "fragment"
    }
   },
   "source": [
    "\n",
    "Consider the first element of $y$, it is $f(l', id) = l' = f(l[(n/2)-1], a[(n/2)-1])$. \n",
    "\n",
    "This is the correct scan result for $a$ at position $n/2 + 1$. "
   ]
  },
  {
   "attachments": {},
   "cell_type": "markdown",
   "metadata": {
    "slideshow": {
     "slide_type": "fragment"
    }
   },
   "source": [
    "\n",
    "We can similarly show that each successive element in $y$ is the correct scan result for $a$ in the right half of the solution. \n"
   ]
  },
  {
   "attachments": {},
   "cell_type": "markdown",
   "metadata": {
    "slideshow": {
     "slide_type": "fragment"
    }
   },
   "source": [
    "\n",
    "Finally, since $f$ is associative we can see that $f(l', r')$ is the correct \"sum\" result as well. Therefore, $\\texttt{prefix_sum}$ is correct. $\\blacksquare$\n"
   ]
  },
  {
   "attachments": {},
   "cell_type": "markdown",
   "metadata": {
    "slideshow": {
     "slide_type": "subslide"
    }
   },
   "source": [
    "**Runtime Analysis**\n",
    "\n",
    "Assuming that $f(n)$ can be computed in constant time, we get the following recurrences for work and span:\n",
    "    \n",
    "$$ W(n) = 2W(n/2) + O(n)$$\n",
    "\n",
    "and \n",
    "\n",
    "$$ S(n) = S(n/2) + O(1) $$\n",
    "\n",
    "Thus the work is $O(n \\log n)$ and the span is $O(\\log n)$.\n",
    "\n",
    "Is this algorithm work-efficient? Why or why not?"
   ]
  },
  {
   "attachments": {},
   "cell_type": "markdown",
   "metadata": {
    "slideshow": {
     "slide_type": "slide"
    }
   },
   "source": [
    "Do you find `scanDC` more or less intuitive than the version using contract? "
   ]
  },
  {
   "cell_type": "code",
   "execution_count": 2,
   "metadata": {
    "slideshow": {
     "slide_type": "fragment"
    }
   },
   "outputs": [
    {
     "data": {
      "text/plain": [
       "([0, 2, 3, 6, 8, 10, 15, 19], 20)"
      ]
     },
     "execution_count": 2,
     "metadata": {},
     "output_type": "execute_result"
    }
   ],
   "source": [
    "def scanDC(f, id_, a):\n",
    "    # space = len(a) * '  ' # for printing\n",
    "    # print(space, 'a=', a)\n",
    "\n",
    "    if len(a) == 0:\n",
    "        return ([], id_)\n",
    "    elif len(a) == 1:\n",
    "        return ([id_], a[0])\n",
    "    else:\n",
    "        b = a[:len(a)//2]\n",
    "        c = a[len(a)//2:]\n",
    "        left, L = scanDC(f, id_, b)\n",
    "        right, R = scanDC(f, id_, c)\n",
    "        updated_right = [f(L, x) for x in right]\n",
    "        return left + updated_right, f(L, R)\n",
    "\n",
    "def add(x,y):\n",
    "    return x + y\n",
    "        \n",
    "scanDC(add, 0, [2,1,3,2,2,5,4,1])"
   ]
  },
  {
   "attachments": {},
   "cell_type": "markdown",
   "metadata": {
    "slideshow": {
     "slide_type": "slide"
    }
   },
   "source": [
    "## What if we divided into more than 2 parts?\n"
   ]
  },
  {
   "attachments": {},
   "cell_type": "markdown",
   "metadata": {
    "slideshow": {
     "slide_type": "fragment"
    }
   },
   "source": [
    "\n",
    "$$\n",
    "\\begin{array}{l}  \n",
    "\\mathit{ternaryScanDC}~f~\\mathit{id}~a =  \n",
    "\\\\  \n",
    "~~~~\\texttt{if}~|a| = 0~\\texttt{then}  \n",
    "\\\\  \n",
    "~~~~~~~~(\\left\\langle\\,  \\,\\right\\rangle, \\mathit{id})  \n",
    "\\\\  \n",
    "~~~~\\texttt{else if}~|a| = 1~\\texttt{then}  \n",
    "\\\\   \n",
    "~~~~~~~~(\\left\\langle\\, \\mathit{id} \\,\\right\\rangle,a[0])  \n",
    "\\\\  \n",
    "~~~~\\texttt{else}  \n",
    "\\\\   \n",
    "~~~~~~~~\\texttt{let}  \n",
    "\\\\   \n",
    "~~~~~~~~~~~~b = a[0 \\cdots |a|/3]  \\\\\n",
    "~~~~~~~~~~~~c = a[|a|/3 \\cdots 2|a|/3] \\\\ \n",
    "~~~~~~~~~~~~d = a[2|a|/3 \\cdots]  \\\\\n",
    "\\\\  \n",
    "~~~~~~~~~~~~((l,b'),(m,d'),(r,c') = (\\mathit{scanDC}~f~\\mathit{id}~b \\mid\\mid{}~\\mathit{scanDC}~f~\\mathit{id}~c  \\mid\\mid{}~\\mathit{scanDC}~f~\\mathit{id}~d )\n",
    "\\\\  \n",
    "~~~~~~~~~~~~r' = \\left\\langle\\, f (b',x) : x \\in m \\,\\right\\rangle  \n",
    "\\\\  \n",
    "~~~~~~~~\\texttt{in}  \n",
    "\\\\  \n",
    "~~~~~~~~~~~~(\\mathit{append}~(l,r'), f(b',c'))  \n",
    "\\\\  \n",
    "~~~~~~~~\\texttt{end}  \n",
    "\\end{array}\\\n",
    "$$\n",
    "\n"
   ]
  },
  {
   "cell_type": "code",
   "execution_count": 3,
   "metadata": {
    "slideshow": {
     "slide_type": "subslide"
    }
   },
   "outputs": [
    {
     "data": {
      "text/plain": [
       "([0, 2, 2, 3, 3, 3, 5, 5], 5)"
      ]
     },
     "execution_count": 3,
     "metadata": {},
     "output_type": "execute_result"
    }
   ],
   "source": [
    "def ternaryScanDC(f, id_, a):\n",
    "    # space = len(a) * '  ' # for printing\n",
    "    # print(space, 'a=', a)\n",
    "\n",
    "    if len(a) == 0:\n",
    "        return ([], id_)\n",
    "    elif len(a) == 1:\n",
    "        return ([id_], a[0])\n",
    "    else:\n",
    "        mid1 = len(a) // 3\n",
    "        mid2 = 2*len(a) // 3\n",
    "\n",
    "        l = a[:mid1]\n",
    "        m = a[mid1:mid2]\n",
    "        r = a[mid2:]\n",
    "\n",
    "        left, L = ternaryScanDC(f, id_, l)\n",
    "        mid, M = ternaryScanDC(f, id_, m)\n",
    "        right, R = ternaryScanDC(f, id_, r)\n",
    "\n",
    "        # assume the following is equivalent to map\n",
    "        # with work of O(n) and span of O(1)\n",
    "        updated_mid = [f(L, x) for x in mid]\n",
    "        M = f(L,M)\n",
    "        updated_right = [f(M, x) for x in right]\n",
    "\n",
    "        return left + updated_mid + updated_right, f(M, R)\n",
    "\n",
    "def gt(x,y):\n",
    "    return max(x,y)\n",
    "        \n",
    "ternaryScanDC(gt, 0, [2,1,3,2,2,5,4,1])"
   ]
  },
  {
   "attachments": {},
   "cell_type": "markdown",
   "metadata": {
    "slideshow": {
     "slide_type": "subslide"
    }
   },
   "source": [
    "Is $\\texttt{ternaryScanDC}$ any more efficient?\n",
    "\n",
    "$W(n) = 3W(n/3) + O(n)$\n"
   ]
  },
  {
   "attachments": {},
   "cell_type": "markdown",
   "metadata": {
    "slideshow": {
     "slide_type": "fragment"
    }
   },
   "source": [
    "\n",
    "This is balanced.\n"
   ]
  },
  {
   "attachments": {},
   "cell_type": "markdown",
   "metadata": {
    "slideshow": {
     "slide_type": "fragment"
    }
   },
   "source": [
    "\n",
    "$W(n) \\in O(n \\log_3 n)$\n",
    "\n",
    "<br>"
   ]
  },
  {
   "attachments": {},
   "cell_type": "markdown",
   "metadata": {
    "slideshow": {
     "slide_type": "fragment"
    }
   },
   "source": [
    "What about the span?\n",
    "\n",
    "$S(n) = S(n/3) + 1$\n"
   ]
  },
  {
   "attachments": {},
   "cell_type": "markdown",
   "metadata": {
    "slideshow": {
     "slide_type": "fragment"
    }
   },
   "source": [
    "\n",
    "Balanced.\n",
    "\n",
    "There are $\\log_3(n)$ levels.\n"
   ]
  },
  {
   "attachments": {},
   "cell_type": "markdown",
   "metadata": {
    "slideshow": {
     "slide_type": "fragment"
    }
   },
   "source": [
    "\n",
    "$S(n) \\in O(\\log_3 n)$"
   ]
  }
 ],
 "metadata": {
  "celltoolbar": "Slideshow",
  "kernelspec": {
   "display_name": "Python 3.9.6 64-bit",
   "language": "python",
   "name": "python3"
  },
  "language_info": {
   "codemirror_mode": {
    "name": "ipython",
    "version": 3
   },
   "file_extension": ".py",
   "mimetype": "text/x-python",
   "name": "python",
   "nbconvert_exporter": "python",
   "pygments_lexer": "ipython3",
   "version": "3.9.6"
  },
  "rise": {
   "autolaunch": true,
   "controls": false,
   "enable_chalkboard": true,
   "scroll": true,
   "theme": "simple",
   "transition": "fade"
  },
  "toc": {
   "base_numbering": 1,
   "nav_menu": {},
   "number_sections": true,
   "sideBar": true,
   "skip_h1_title": true,
   "title_cell": "Table of Contents",
   "title_sidebar": "Contents",
   "toc_cell": true,
   "toc_position": {},
   "toc_section_display": true,
   "toc_window_display": false
  },
  "vscode": {
   "interpreter": {
    "hash": "aee8b7b246df8f9039afb4144a1f6fd8d2ca17a180786b69acc140d282b71a49"
   }
  }
 },
 "nbformat": 4,
 "nbformat_minor": 4
}
