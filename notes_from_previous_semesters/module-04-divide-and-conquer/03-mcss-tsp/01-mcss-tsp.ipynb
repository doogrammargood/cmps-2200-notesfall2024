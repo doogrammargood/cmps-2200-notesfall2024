{
 "cells": [
  {
   "cell_type": "code",
   "execution_count": 1,
   "metadata": {
    "code_folding": [],
    "slideshow": {
     "slide_type": "skip"
    }
   },
   "outputs": [
    {
     "data": {
      "text/html": [
       "<style>.prompt{width: 0px; min-width: 0px; visibility: collapse}</style>"
      ],
      "text/plain": [
       "<IPython.core.display.HTML object>"
      ]
     },
     "metadata": {},
     "output_type": "display_data"
    },
    {
     "data": {
      "text/html": [
       "<style>\n",
       "div#notebook {\n",
       " font-family: \"Exo_2\", sans-serif;\n",
       "}\n",
       "\n",
       ".rendered_html h1,\n",
       ".text_cell_render h1 {\n",
       " color: #126dce;\n",
       " font-size: 220%;\n",
       " text-align: center;\n",
       " font-weight: lighter;\n",
       "}\n",
       ".rendered_html h2,\n",
       ".text_cell_render h2 {\n",
       " text-align: center;\n",
       " font-size: 170%;\n",
       " color: #126dce;\n",
       " font-style: normal;\n",
       " font-weight: lighter;\n",
       "}\n",
       ".rendered_html h3,\n",
       ".text_cell_render h3 {\n",
       " font-size: 150%;\n",
       " color: #126dce;\n",
       " font-weight: lighter;\n",
       " text-decoration: italic;\n",
       " font-style: normal;\n",
       "}\n",
       ".rendered_html h4,\n",
       ".text_cell_render h4 {\n",
       " font-size: 120%;\n",
       " color: #126dce;\n",
       " font-weight: underline;\n",
       " font-style: normal;\n",
       "}\n",
       ".rendered_html h5,\n",
       ".text_cell_render h5 {\n",
       " font-size: 100%;\n",
       " color: #2f2f2f;\n",
       " font-weight: lighter;\n",
       " text-decoration: underline;\n",
       "}\n",
       "</style>\n"
      ],
      "text/plain": [
       "<IPython.core.display.HTML object>"
      ]
     },
     "metadata": {},
     "output_type": "display_data"
    }
   ],
   "source": [
    "# setup\n",
    "from IPython.core.display import display,HTML\n",
    "display(HTML('<style>.prompt{width: 0px; min-width: 0px; visibility: collapse}</style>'))\n",
    "display(HTML(open('../rise.css').read()))\n",
    "\n",
    "# imports\n",
    "import numpy as np\n",
    "import matplotlib.pyplot as plt\n",
    "import seaborn as sns\n",
    "%matplotlib inline\n",
    "sns.set(style=\"whitegrid\", font_scale=1.5, rc={'figure.figsize':(12, 6)})\n"
   ]
  },
  {
   "attachments": {},
   "cell_type": "markdown",
   "metadata": {
    "slideshow": {
     "slide_type": "slide"
    }
   },
   "source": [
    "# CMPS 2200\n",
    "# Introduction to Algorithms\n",
    "\n",
    "## MCSS and Euclidean TSP\n"
   ]
  },
  {
   "attachments": {},
   "cell_type": "markdown",
   "metadata": {
    "slideshow": {
     "slide_type": "slide"
    }
   },
   "source": [
    "Agenda:\n",
    "\n",
    "- Divide-and-Conquer with `reduce`\n",
    "- Maximum Contiguous Subsequence Sum\n",
    "- Euclidean TSP\n"
   ]
  },
  {
   "attachments": {},
   "cell_type": "markdown",
   "metadata": {
    "slideshow": {
     "slide_type": "slide"
    }
   },
   "source": [
    "Recall that we gave a divide-and-conquer algorithm for `reduce`:\n",
    "\n",
    "$reduce \\: f \\: id \\: a =\n",
    "\\begin{cases}\n",
    "id & \\hbox{if} \\: |a| = 0\\\\\n",
    "a[0] & \\hbox{if} \\: |a| = 1\\\\\n",
    "f(reduce \\: f \\: id \\: (a[0 \\ldots \\lfloor \\frac{|a|}{2} \\rfloor - 1]), \\\\ \\:\\:\\:reduce \\: f \\: id \\: (a[\\lfloor \\frac{|a|}{2} \\rfloor \\ldots |a|-1])& \\hbox{otherwise}\n",
    "\\end{cases}\n",
    "$\n"
   ]
  },
  {
   "attachments": {},
   "cell_type": "markdown",
   "metadata": {},
   "source": [
    "\n",
    "For example:\n",
    "\n",
    "`reduce(merge, [], list(map(singleton, [1,3,6,4,8,7,5,2])))`\n"
   ]
  },
  {
   "attachments": {},
   "cell_type": "markdown",
   "metadata": {
    "slideshow": {
     "slide_type": "fragment"
    }
   },
   "source": [
    "<br>\n",
    "\n",
    "Can all divide-and-conquer algorithms be implemented with `reduce`?\n"
   ]
  },
  {
   "attachments": {},
   "cell_type": "markdown",
   "metadata": {
    "slideshow": {
     "slide_type": "fragment"
    }
   },
   "source": [
    "<br>\n",
    "\n",
    "The divide-and-conquer framework is more general than `reduce`. \n",
    "\n",
    "`reduce` cannot be used when, for example, we wish to split the input into 3 or more parts, or if they are of unequal size. "
   ]
  },
  {
   "attachments": {},
   "cell_type": "markdown",
   "metadata": {
    "slideshow": {
     "slide_type": "slide"
    }
   },
   "source": [
    "## Maximum Continguous Subsequence Sum\n",
    "\n",
    "Given a sequence of integers, the **Maximum Contiguous Subsequence Sum Problem** (MCSS) requires finding a contiguous subsequence with maximum total sum:\n"
   ]
  },
  {
   "attachments": {},
   "cell_type": "markdown",
   "metadata": {
    "slideshow": {
     "slide_type": "fragment"
    }
   },
   "source": [
    "E.g, \n",
    "\n",
    "For $a = \\langle 1, -2, 0, 3, -1, 0, 2, -3 \\rangle$ a maximum contiguous subsequence (MCS) is $\\langle\\, 3, -1, 0, 2 \\rangle$. Another is $\\langle 0, 3, -1, 0, 2 \\rangle.$\n"
   ]
  },
  {
   "attachments": {},
   "cell_type": "markdown",
   "metadata": {
    "slideshow": {
     "slide_type": "fragment"
    }
   },
   "source": [
    "\n",
    "$$\\textsf{MCS}{}\\,(a) = \\arg\\max_{0 \\leq i,j < |a|} \\left( {\\left( \\sum_{k=i}^j a[k]  \\right)} \\right)$$ \n",
    "    \n",
    "We define the sum of an empty sequence to $-\\infty$.\n",
    "\n",
    "\n",
    "\n",
    "<br>\n"
   ]
  },
  {
   "attachments": {},
   "cell_type": "markdown",
   "metadata": {
    "slideshow": {
     "slide_type": "fragment"
    }
   },
   "source": [
    "\n",
    "MCSS is useful for many applications, from genomics to data science and finance.\n"
   ]
  },
  {
   "attachments": {},
   "cell_type": "markdown",
   "metadata": {
    "slideshow": {
     "slide_type": "slide"
    }
   },
   "source": [
    "## Brute Force\n",
    "\n",
    "Let's first take a brute-force approach to this problem. What is the solution space, and how long does it take to evaluate it?\n",
    "\n"
   ]
  },
  {
   "attachments": {},
   "cell_type": "markdown",
   "metadata": {
    "slideshow": {
     "slide_type": "fragment"
    }
   },
   "source": [
    "- Consider every contiguous subsequence and evaluate the sum of each. \n"
   ]
  },
  {
   "attachments": {},
   "cell_type": "markdown",
   "metadata": {
    "slideshow": {
     "slide_type": "fragment"
    }
   },
   "source": [
    "\n",
    "- There are $O(n^2)$ contiguous subsequences. \n"
   ]
  },
  {
   "attachments": {},
   "cell_type": "markdown",
   "metadata": {
    "slideshow": {
     "slide_type": "fragment"
    }
   },
   "source": [
    "\n",
    "- To evaluate the sum of each contiguous subsequence we need $O(n)$ work and $O(\\log n)$ span. \n"
   ]
  },
  {
   "attachments": {},
   "cell_type": "markdown",
   "metadata": {
    "slideshow": {
     "slide_type": "fragment"
    }
   },
   "source": [
    "\n",
    "- Thus the brute-force approach takes $O(n^3)$ work and $O(\\log n)$ span.\n"
   ]
  },
  {
   "attachments": {},
   "cell_type": "markdown",
   "metadata": {
    "slideshow": {
     "slide_type": "fragment"
    }
   },
   "source": [
    "\n",
    "Can we do better using divide-and-conquer?"
   ]
  },
  {
   "attachments": {},
   "cell_type": "markdown",
   "metadata": {
    "slideshow": {
     "slide_type": "slide"
    }
   },
   "source": [
    "## Divide and Conquer\n",
    "\n",
    "$$a = \\langle 1, -2, 0, 3, -1, 0, 2, -3 \\rangle$$\n",
    "\n",
    "$$\\texttt{MCS} = \\langle\\, 0, 3, -1, 0, 2 \\rangle$$\n",
    "\n",
    "$$\\texttt{MCSS} = 4$$\n",
    "\n",
    "As usual let's start by dividing the input into two equal parts and recursively finding the solution. \n"
   ]
  },
  {
   "attachments": {},
   "cell_type": "markdown",
   "metadata": {
    "slideshow": {
     "slide_type": "fragment"
    }
   },
   "source": [
    "<br>\n",
    "\n",
    "If the $\\texttt{MCSS}$ is within either part entirely, then in the combine step we just need to return the sum. \n"
   ]
  },
  {
   "attachments": {},
   "cell_type": "markdown",
   "metadata": {
    "slideshow": {
     "slide_type": "fragment"
    }
   },
   "source": [
    "\n",
    "But what if the $\\texttt{MCS}$ spans the two halves?\n"
   ]
  },
  {
   "attachments": {},
   "cell_type": "markdown",
   "metadata": {
    "slideshow": {
     "slide_type": "fragment"
    }
   },
   "source": [
    "\n",
    "\n",
    "<img src=\"figures/mcss_combine.jpg\" alt=\"MCSS Combine Fig\" width=\"75%\"/>\n"
   ]
  },
  {
   "attachments": {},
   "cell_type": "markdown",
   "metadata": {
    "slideshow": {
     "slide_type": "subslide"
    }
   },
   "source": [
    "\n",
    "Example: $a = \\langle 1, -2, 0, 3, -1, 0, 2, -3 \\rangle$\n",
    "\n",
    "- Split into left = $\\langle 1, -2, 0, 3 \\rangle$, right = $\\langle -1, 0, 2, -3 \\rangle$\n"
   ]
  },
  {
   "attachments": {},
   "cell_type": "markdown",
   "metadata": {
    "slideshow": {
     "slide_type": "fragment"
    }
   },
   "source": [
    "\n",
    "- Left $\\texttt{MCSS}$ comes from $\\langle 0, 3 \\rangle$ (or just $\\langle 3 \\rangle$) $= 3$\n"
   ]
  },
  {
   "attachments": {},
   "cell_type": "markdown",
   "metadata": {
    "slideshow": {
     "slide_type": "fragment"
    }
   },
   "source": [
    "\n",
    "- Right $\\texttt{MCSS}$ comes from $\\langle 0, 2 \\rangle$ $= 2$ \n"
   ]
  },
  {
   "attachments": {},
   "cell_type": "markdown",
   "metadata": {
    "slideshow": {
     "slide_type": "fragment"
    }
   },
   "source": [
    "\n",
    "- But, the best $\\texttt{MCSS}$ crossing the cut comes from $\\langle 0, 3, -1, 0, 2 \\rangle$ $=4$\n"
   ]
  },
  {
   "attachments": {},
   "cell_type": "markdown",
   "metadata": {
    "slideshow": {
     "slide_type": "slide"
    }
   },
   "source": [
    "### Spanning the Middle\n",
    "\n",
    "The maximum sum spanning the cut is the sum of the largest suffix on the left plus the largest prefix on the right.\n",
    "\n",
    "<br>\n",
    "\n",
    "E.g,\n",
    "\n",
    "$$\\langle 1, -2, 0, 3, -1, 0, 2, -3 \\rangle$$\n",
    "\n",
    "$$\\langle 1, -2, \\pmb{\\underline{0, 3}} \\rangle ~~ \\langle \\pmb{\\underline{-1, 0, 2}}, -3 \\rangle$$"
   ]
  },
  {
   "attachments": {},
   "cell_type": "markdown",
   "metadata": {
    "slideshow": {
     "slide_type": "fragment"
    }
   },
   "source": [
    "\n",
    "If we could identify the $\\texttt{MCSS}$ ending at position $\\lfloor n/2 \\rfloor - 1$ and the $\\texttt{MCSS}$ beginning at position $\\lfloor n/2 \\rfloor$, then we could add values of these to obtain a candidate $\\texttt{MCSS}$ for the whole sequence. \n"
   ]
  },
  {
   "attachments": {},
   "cell_type": "markdown",
   "metadata": {
    "slideshow": {
     "slide_type": "fragment"
    }
   },
   "source": [
    "\n",
    "Then the best of the three candidate solutions is an $\\texttt{MCSS}$ for the entire sequence:\n"
   ]
  },
  {
   "attachments": {},
   "cell_type": "markdown",
   "metadata": {
    "slideshow": {
     "slide_type": "fragment"
    }
   },
   "source": [
    "\n",
    "- $\\texttt{MCSS(left)}$\n",
    "- $\\texttt{MCSS(right)}$\n",
    "- $\\texttt{bestAcross(left, right)}$\n",
    "    - $\\texttt{MCSS-suffix}$: maximum contiguous sum **ending** at last element\n",
    "    - $\\texttt{MCSS-prefix}$: maximum contiguous sum **starting** at first element\n",
    "    "
   ]
  },
  {
   "attachments": {},
   "cell_type": "markdown",
   "metadata": {
    "slideshow": {
     "slide_type": "slide"
    }
   },
   "source": [
    "## Divide and Conquer Algorithm\n",
    "\n",
    "Suppose we have $\\texttt{MCSS-suffix}$ and $\\texttt{MCSS-prefix}$ and $\\mathit{bestAcross}~(b, c)$ which constructs an $\\texttt{MCSS}$ crossing the split using these solutions. Then we could give this divide-and-conquer algorithm:\n"
   ]
  },
  {
   "attachments": {},
   "cell_type": "markdown",
   "metadata": {
    "slideshow": {
     "slide_type": "fragment"
    }
   },
   "source": [
    "\n",
    "$$\n",
    "\\begin{array}{l}\n",
    "\\mathit{MCSSDC}~a =  \n",
    "\\\\  \n",
    "~~~~\\texttt{if}~ |a| = 0~\\texttt{then}  \n",
    "\\\\  \n",
    "~~~~~~~~{-\\infty}{}  \n",
    "\\\\  \n",
    "~~~~\\texttt{else if}~|a| = 1 ~\\texttt{then}  \n",
    "\\\\   \n",
    "~~~~~~~~a[0]  \n",
    "\\\\  \n",
    "~~~~\\texttt{else}  \n",
    "\\\\   \n",
    "~~~~~~~~\\texttt{let}  \n",
    "\\\\   \n",
    "~~~~~~~~~~~~(b, c)  = \\mathit{splitMid}~a  \n",
    "\\\\   \n",
    "~~~~~~~~~~~~(m_b, m_c) = \\left( \\mathit{MCSSDC}~b \\ ||\\ \\mathit{MCSSDC}~c \\right)  \n",
    "\\\\   \n",
    "~~~~~~~~~~~~m_{bc} = \\mathit{bestAcross}~(b, c)  \n",
    "\\\\   \n",
    "~~~~~~~~\\texttt{in}  \n",
    "\\\\   \n",
    "~~~~~~~~~~~~\\max\\{m_b, m_c, m_{bc}\\}  \n",
    "\\\\   \n",
    "~~~~~~~~\\texttt{end}  \n",
    "\\end{array}\\\n",
    "$$\n"
   ]
  },
  {
   "attachments": {},
   "cell_type": "markdown",
   "metadata": {
    "slideshow": {
     "slide_type": "subslide"
    }
   },
   "source": [
    "\n",
    "**Correctness**:\n"
   ]
  },
  {
   "attachments": {},
   "cell_type": "markdown",
   "metadata": {
    "slideshow": {
     "slide_type": "fragment"
    }
   },
   "source": [
    "\n",
    "We can proceed by induction as usual. The base case produces the correct results. The $\\texttt{MCSS}$ of an empty list is $-\\infty$ and the $\\texttt{MCSS}$ of a list of size $1$ is its single element.\n"
   ]
  },
  {
   "attachments": {},
   "cell_type": "markdown",
   "metadata": {
    "slideshow": {
     "slide_type": "fragment"
    }
   },
   "source": [
    "\n",
    "For the induction step, we make the hypothesis that the recursively computed MCSS's for $b$ and $c$ are correct. With a correct implementation of $\\mathit{bestAcross}$ (we will detail this function soon), we can conclude $\\max\\{m_b, m_c, m_{bc}\\}$ is an MCSS.\n"
   ]
  },
  {
   "attachments": {},
   "cell_type": "markdown",
   "metadata": {
    "slideshow": {
     "slide_type": "fragment"
    }
   },
   "source": [
    "\n",
    "**Work/Span**:\n"
   ]
  },
  {
   "attachments": {},
   "cell_type": "markdown",
   "metadata": {
    "slideshow": {
     "slide_type": "fragment"
    }
   },
   "source": [
    "\n",
    "We will show that $\\texttt{MCSS-suffix}$ and $\\texttt{MCSS-prefix}$ can be solved in $\\Theta(n)$ work and $\\Theta(\\log n)$ span. \n",
    "\n",
    "Using this assumption about $\\mathit{bestAcross}$ we have that:\n"
   ]
  },
  {
   "attachments": {},
   "cell_type": "markdown",
   "metadata": {
    "slideshow": {
     "slide_type": "fragment"
    }
   },
   "source": [
    "\n",
    "$$ W(n) = 2W(n/2) + \\Theta(n)$$\n",
    "\n",
    "and\n",
    "\n",
    "$$ S(n) = S(n/2) + \\Theta(\\log n)$$\n"
   ]
  },
  {
   "attachments": {},
   "cell_type": "markdown",
   "metadata": {
    "slideshow": {
     "slide_type": "fragment"
    }
   },
   "source": [
    "\n",
    "These yield $O(n\\log n)$ work and $O(\\log^2 n)$ span.\n"
   ]
  },
  {
   "attachments": {},
   "cell_type": "markdown",
   "metadata": {
    "slideshow": {
     "slide_type": "slide"
    }
   },
   "source": [
    "## Implementing $\\texttt{MCSS-suffix}$ and $\\texttt{MCSS-prefix}$\n",
    "\n",
    "How do we obtain an $\\texttt{MCSS}$ starting at a specified position ($\\texttt{MCSS-prefix}$) or ending at a specified position ($\\texttt{MCSS-suffix}$)?\n"
   ]
  },
  {
   "attachments": {},
   "cell_type": "markdown",
   "metadata": {
    "slideshow": {
     "slide_type": "fragment"
    }
   },
   "source": [
    "<br>\n",
    "\n",
    "**$\\texttt{MCSS-prefix}$ Intuition**\n"
   ]
  },
  {
   "attachments": {},
   "cell_type": "markdown",
   "metadata": {
    "slideshow": {
     "slide_type": "fragment"
    }
   },
   "source": [
    "\n",
    "Since we are calculating the sum from the start of a sequence, we can use prefix sum to solve it.\n"
   ]
  },
  {
   "attachments": {},
   "cell_type": "markdown",
   "metadata": {
    "slideshow": {
     "slide_type": "fragment"
    }
   },
   "source": [
    "<img src=\"figures/mcsss_fig.jpg\" alt=\"MCSSS Fig\" width=\"50%\"/>"
   ]
  },
  {
   "attachments": {},
   "cell_type": "markdown",
   "metadata": {
    "slideshow": {
     "slide_type": "subslide"
    }
   },
   "source": [
    "**$\\texttt{MCSS-prefix}$ Intuition**\n",
    "\n",
    "Since we are calculating the sum from the start of a sequence, we can use prefix sum to solve it.\n",
    "\n",
    "<img src=\"figures/mcsss_fig.jpg\" alt=\"MCSSS Fig\" width=\"50%\"/>\n"
   ]
  },
  {
   "attachments": {},
   "cell_type": "markdown",
   "metadata": {},
   "source": [
    "\n",
    "left = $\\langle 1, -2, 0, 3 \\rangle$, right = $\\langle -1, 0, 2, -3 \\rangle$\n",
    "\n",
    "```python\n",
    ">>> scan(add, 0, [-1,0,2,-3])\n",
    "([-1, -1, 1, -2], -2)\n",
    "```\n"
   ]
  },
  {
   "attachments": {},
   "cell_type": "markdown",
   "metadata": {
    "slideshow": {
     "slide_type": "fragment"
    }
   },
   "source": [
    "The max of the prefixes gives us the $\\texttt{MCSS}$ starting at the beginning of $\\texttt{right}$.\n",
    "\n",
    "Max of $1$ happens when using prefix $[-1, 0, 2]$"
   ]
  },
  {
   "attachments": {},
   "cell_type": "markdown",
   "metadata": {
    "slideshow": {
     "slide_type": "subslide"
    }
   },
   "source": [
    "\n",
    "**$\\texttt{MCSS}$ starting at position $i$:**\n",
    "\n",
    "$$\n",
    "\\begin{array}{l}  \n",
    "\\mathit{MCSSprefix}~a~i =  \n",
    "\\\\   \n",
    "~~~~\\texttt{let}   \n",
    "\\\\   \n",
    "~~~~~~~~b = \\mathit{scan}~\\,{\\texttt{+}}\\,~0~a~[i \\cdots (|a|-1)]  \n",
    "\\\\   \n",
    "~~~~\\texttt{in}  \n",
    "\\\\   \n",
    "~~~~~~~~\\mathit{reduce}~\\mathit{max}~{-\\infty}{}~b  \n",
    "\\\\   \n",
    "~~~~\\texttt{end}  \n",
    "\\end{array}\n",
    "$$\n",
    "\n"
   ]
  },
  {
   "attachments": {},
   "cell_type": "markdown",
   "metadata": {
    "slideshow": {
     "slide_type": "fragment"
    }
   },
   "source": [
    "**Runtime**\n",
    "\n"
   ]
  },
  {
   "attachments": {},
   "cell_type": "markdown",
   "metadata": {
    "slideshow": {
     "slide_type": "fragment"
    }
   },
   "source": [
    "$\\texttt{scan}$, $\\texttt{reduce}$\n",
    "\n",
    "$W(n) \\in \\Theta(n)$\n",
    "\n",
    "$S(n) \\in \\Theta(\\lg n)$"
   ]
  },
  {
   "attachments": {},
   "cell_type": "markdown",
   "metadata": {
    "slideshow": {
     "slide_type": "fragment"
    }
   },
   "source": [
    "$\\texttt{MCSS-prefix}$\n",
    "\n",
    "$W(n) \\in \\Theta(n)$\n",
    "\n",
    "$S(n) \\in \\Theta(\\lg n)$"
   ]
  },
  {
   "attachments": {},
   "cell_type": "markdown",
   "metadata": {
    "slideshow": {
     "slide_type": "subslide"
    }
   },
   "source": [
    "**$\\texttt{MCSS-suffix}$ Intuition:**\n",
    "\n",
    "We can calculate suffix sums by subtracting prefix sums from the sum of the entire sequence.\n"
   ]
  },
  {
   "attachments": {},
   "cell_type": "markdown",
   "metadata": {
    "slideshow": {
     "slide_type": "fragment"
    }
   },
   "source": [
    "\n",
    "\n",
    "<img src=\"figures/mcss-suffix.jpeg\" alt=\"MCSSE Fig\" width=\"50%\"/>\n",
    "\n"
   ]
  },
  {
   "attachments": {},
   "cell_type": "markdown",
   "metadata": {
    "slideshow": {
     "slide_type": "fragment"
    }
   },
   "source": [
    "\n",
    "Subtracting the smallest prefix sum will give the max suffix sum."
   ]
  },
  {
   "attachments": {},
   "cell_type": "markdown",
   "metadata": {
    "slideshow": {
     "slide_type": "skip"
    }
   },
   "source": [
    "\n",
    "\n",
    "\n",
    "<img src=\"figures/mcsse_fig.jpg\" alt=\"MCSSE Fig\" width=\"50%\"/>"
   ]
  },
  {
   "attachments": {},
   "cell_type": "markdown",
   "metadata": {
    "slideshow": {
     "slide_type": "fragment"
    }
   },
   "source": [
    "\n",
    "```python\n",
    ">>> prefixes, sum = scan(add, 0, [1,-2,0,3])\n",
    ">>> print('prefixes =', b, 'sum =', v)\n",
    "prefixes = [1, -1, -1, 2] sum = 2\n",
    "```\n"
   ]
  },
  {
   "attachments": {},
   "cell_type": "markdown",
   "metadata": {
    "slideshow": {
     "slide_type": "fragment"
    }
   },
   "source": [
    "\n",
    "```python\n",
    ">>> min_prefix = reduce(min, -math.inf, prefixes)\n",
    ">>> print('min_prefix =', w)\n",
    "min_prefix = -1\n",
    "```\n"
   ]
  },
  {
   "attachments": {},
   "cell_type": "markdown",
   "metadata": {
    "slideshow": {
     "slide_type": "fragment"
    }
   },
   "source": [
    "\n",
    "```python\n",
    ">>> print('suffix_sum =', sum - min_prefix)\n",
    "suffix_sum = 3\n",
    "```"
   ]
  },
  {
   "attachments": {},
   "cell_type": "markdown",
   "metadata": {
    "slideshow": {
     "slide_type": "subslide"
    }
   },
   "source": [
    "\n",
    "$$\n",
    "\\begin{array}{l}  \n",
    "\\mathit{MCSS-suffix}~a~j=  \n",
    "\\\\  \n",
    "~~~~\\texttt{let}  \n",
    "\\\\  \n",
    "~~~~~~~~(b,v) = \\mathit{scan}~\\text{'}\\,{\\texttt{+}}\\,\\text{'}~0~a[0 \\cdots j]  \n",
    "\\\\  \n",
    "~~~~~~~~w= \\mathit{reduce}~\\mathit{min}~\\infty~b  \n",
    "\\\\  \n",
    "~~~~\\texttt{in}  \n",
    "\\\\  \n",
    "~~~~~~~~v - w   \n",
    "\\\\  \n",
    "~~~~\\texttt{end}  \n",
    "\\end{array}\\\n",
    "$$"
   ]
  },
  {
   "attachments": {},
   "cell_type": "markdown",
   "metadata": {
    "slideshow": {
     "slide_type": "fragment"
    }
   },
   "source": [
    "**Runtime**\n",
    "\n",
    "$\\texttt{MCSS-suffix}$\n",
    "\n",
    "$W(n) \\in \\Theta(n)$\n",
    "\n",
    "$S(n) \\in \\Theta(\\lg n)$"
   ]
  },
  {
   "cell_type": "code",
   "execution_count": 1,
   "metadata": {
    "slideshow": {
     "slide_type": "skip"
    }
   },
   "outputs": [],
   "source": [
    "import math\n",
    "\n",
    "def reduce(f, id_, a):\n",
    "    # print('a=%s' % a) # for tracing\n",
    "    if len(a) == 0:\n",
    "        return id_\n",
    "    elif len(a) == 1:\n",
    "        return a[0]\n",
    "    else:\n",
    "        # can call these in parallel\n",
    "        return f(reduce(f, id_, a[:len(a)//2]),\n",
    "                  reduce(f, id_, a[len(a)//2:]))\n",
    "        \n",
    "def add(x, y):\n",
    "    return x + y\n",
    "\n",
    "def scan(f, id_, a):\n",
    "    \"\"\"\n",
    "    This is a horribly inefficient implementation of scan\n",
    "    only to understand what it does.\n",
    "    We'll discuss how to make it more efficient later.\n",
    "    \"\"\"\n",
    "    return (\n",
    "            [reduce(f, id_, a[:i+1]) for i in range(len(a))],\n",
    "             reduce(f, id_, a)\n",
    "           )\n"
   ]
  },
  {
   "cell_type": "code",
   "execution_count": 2,
   "metadata": {
    "slideshow": {
     "slide_type": "slide"
    }
   },
   "outputs": [
    {
     "data": {
      "text/plain": [
       "4"
      ]
     },
     "execution_count": 2,
     "metadata": {},
     "output_type": "execute_result"
    }
   ],
   "source": [
    "\n",
    "def MCSS_prefix(a):\n",
    "    # return the MCSS in a that starts at index i\n",
    "    b = scan(add, 0, a)\n",
    "    return reduce(max, -math.inf, b[0])\n",
    "\n",
    "    \n",
    "def MCSS_suffix(a):\n",
    "    # return the MCSS in a that ends at index j\n",
    "    b = scan(add, 0, a)\n",
    "    m = reduce(min, -math.inf, b[0])\n",
    "    return b[1] - m\n",
    "\n",
    "def best_across(b, c):\n",
    "    # return the MCSS of a sequence that crosses input sequences b and c\n",
    "    return MCSS_suffix(b) + MCSS_prefix(c)\n",
    "    \n",
    "def MCSS(a):\n",
    "    if len(a) == 0:\n",
    "        return -math.inf\n",
    "    elif len(a) == 1:\n",
    "        return a[0]\n",
    "    else:\n",
    "        b = a[:len(a)//2]\n",
    "        c = a[len(a)//2:]\n",
    "        sum_b = MCSS(b)\n",
    "        sum_c = MCSS(c)\n",
    "        sum_across = best_across(b,c)\n",
    "        return max(sum_b, sum_c, sum_across)\n",
    "\n",
    "left = [1,-2,0,3]\n",
    "right = [-1,0,2,-3]\n",
    "MCSS(left + right)"
   ]
  },
  {
   "attachments": {},
   "cell_type": "markdown",
   "metadata": {
    "slideshow": {
     "slide_type": "slide"
    }
   },
   "source": [
    "## Traveling Salesperson Problem\n",
    "\n",
    "Consider a slight variant of the MST problem:\n",
    "\n",
    "Given a graph $G=(V,E)$, find a tour that visits each node exactly once and then returns to the origin node.\n",
    " - every node is visited\n",
    " - no edges are repeated\n"
   ]
  },
  {
   "attachments": {},
   "cell_type": "markdown",
   "metadata": {
    "slideshow": {
     "slide_type": "slide"
    }
   },
   "source": [
    "## The Euclidean Traveling Salesperson Problem (eTSP)\n",
    "\n",
    "In eTSP, you are given a set of $n$ 2D points. \n",
    "\n",
    "The goal is to find a \"tour\" of the points with minimum cost. \n",
    "\n",
    "That is, we must construct a sequence of all the points (i.e., a sequence of 2D points) that begins and ends with the same point such that:\n",
    "\n",
    "- every point is visited exactly once (except the starting point) \n",
    "- the sum of distances between adjacent points is minimized\n"
   ]
  },
  {
   "attachments": {},
   "cell_type": "markdown",
   "metadata": {
    "slideshow": {
     "slide_type": "fragment"
    }
   },
   "source": [
    "\n",
    "This is an incredibly widespread and useful problem -- consider all the various kinds of routing problems (Amazon, USPS, UPS, etc.) that are solved every day.\n"
   ]
  },
  {
   "attachments": {},
   "cell_type": "markdown",
   "metadata": {
    "slideshow": {
     "slide_type": "subslide"
    }
   },
   "source": [
    "\n",
    "Which solution is better?\n",
    "\n",
    "<br><p> \n",
    " ![eTSP_simple.jpg](figures/eTSP_simple.jpg)\n",
    "<br><p> \n",
    "\n"
   ]
  },
  {
   "attachments": {},
   "cell_type": "markdown",
   "metadata": {
    "slideshow": {
     "slide_type": "slide"
    }
   },
   "source": [
    "## Brute-Force?\n",
    "\n",
    "Given an input with $n$ points, how many possible solutions are there?\n",
    "\n",
    "What is the solution space and how can we search it?\n"
   ]
  },
  {
   "attachments": {},
   "cell_type": "markdown",
   "metadata": {
    "slideshow": {
     "slide_type": "fragment"
    }
   },
   "source": [
    "<br>\n",
    "\n",
    "There are $n!$ possible solutions, and we must check the cost of each by summing $n-1$ distances. \n"
   ]
  },
  {
   "attachments": {},
   "cell_type": "markdown",
   "metadata": {
    "slideshow": {
     "slide_type": "fragment"
    }
   },
   "source": [
    "\n",
    "This can be done with $O(n)$ work and $O(\\lg n)$ span using $\\texttt{reduce}$. \n"
   ]
  },
  {
   "attachments": {},
   "cell_type": "markdown",
   "metadata": {
    "slideshow": {
     "slide_type": "fragment"
    }
   },
   "source": [
    "<br>\n",
    "\n",
    "What is the runtime of brute force eTSP?"
   ]
  },
  {
   "attachments": {},
   "cell_type": "markdown",
   "metadata": {
    "slideshow": {
     "slide_type": "fragment"
    }
   },
   "source": [
    "\n",
    "$O(n\\cdot n!)$ work and $O(\\log n)$ span. \n"
   ]
  },
  {
   "attachments": {},
   "cell_type": "markdown",
   "metadata": {
    "slideshow": {
     "slide_type": "subslide"
    }
   },
   "source": [
    "\n",
    "This is good span, but an astronomical amount of work. What if we had more points?\n",
    "\n",
    "<br><p> \n",
    " ![eTSP_harder.jpg](figures/eTSP_harder.jpg)\n",
    "<br><p> \n",
    "\n",
    "<br>\n"
   ]
  },
  {
   "attachments": {},
   "cell_type": "markdown",
   "metadata": {
    "slideshow": {
     "slide_type": "fragment"
    }
   },
   "source": [
    "\n",
    "16! is about $2 x 10^{13}$, so while there are very few points the brute-force approach is not tractable!\n"
   ]
  },
  {
   "attachments": {},
   "cell_type": "markdown",
   "metadata": {
    "slideshow": {
     "slide_type": "slide"
    }
   },
   "source": [
    "## Divide-and-Conquer?\n",
    "\n",
    "What intuition can we get about the fact that this problem is in 2D?\n",
    "\n",
    "\n",
    "<br><p> \n",
    " ![eTSP_harder_sol.jpg](figures/eTSP_harder_sol.jpg)\n",
    "<br><p> \n",
    "\n",
    "<br>\n",
    "\n",
    "Since clusters of points can possibly be dealt with separately, how about a divide-and-conquer approach?\n",
    "\n"
   ]
  },
  {
   "attachments": {},
   "cell_type": "markdown",
   "metadata": {
    "slideshow": {
     "slide_type": "slide"
    }
   },
   "source": [
    "## Divide and Conquer Approach\n",
    "\n",
    "We can split the input using a \"cut\" through the plane that separates the input points into two equal parts. Then, recursively solve eTSP for each smaller point set. \n"
   ]
  },
  {
   "attachments": {},
   "cell_type": "markdown",
   "metadata": {
    "slideshow": {
     "slide_type": "fragment"
    }
   },
   "source": [
    "\n",
    "How do we combine smaller solutions into larger ones?\n",
    "\n"
   ]
  },
  {
   "attachments": {},
   "cell_type": "markdown",
   "metadata": {
    "slideshow": {
     "slide_type": "subslide"
    }
   },
   "source": [
    "## Combining eTSP tours\n",
    "\n",
    "We need to make sure that two tours can be combined into the best possible single tour.\n",
    "\n",
    "<img width=\"80%\" src =\"figures/eTSP_merge2.jpg\"/>\n",
    "<br>\n",
    "\n",
    "To do this, we try all possible pairs of edges across both sides and pick the pair which when connected gives the minimum cost. This yields the following algorithm.\n",
    "\n"
   ]
  },
  {
   "attachments": {},
   "cell_type": "markdown",
   "metadata": {
    "slideshow": {
     "slide_type": "subslide"
    }
   },
   "source": [
    "\n",
    "\n",
    "$$\n",
    "\\begin{array}{l}  \n",
    "\\mathit{eTSP}~(P) =  \n",
    "\\\\  \n",
    "~~~~\\texttt{if}~|P|<2~\\texttt{then}  \n",
    "\\\\  \n",
    "~~~~~~~~\\texttt{raise}~\\mathit{TooSmall}  \n",
    "\\\\  \n",
    "~~~~\\texttt{else if}~|P| = 2~\\texttt{then}  \n",
    "\\\\  \n",
    "~~~~~~~~\\left\\langle\\, (P[0],P[1]),(P[1],P[0]) \\,\\right\\rangle  \n",
    "\\\\  \n",
    "~~~~\\texttt{else}  \n",
    "\\\\  \n",
    "~~~~~~~~\\texttt{let}  \n",
    "\\\\  \n",
    "~~~~~~~~~~~~(P_\\ell, P_r) = \\mathit{split}~P~\\texttt{along the longest dimension}  \n",
    "\\\\  \n",
    "~~~~~~~~~~~~(L, R) = (\\mathit{eTSP}~P_\\ell) \\mid\\mid{} (\\mathit{eTSP}~P_r)  \n",
    "\\\\  \n",
    "~~~~~~~~~~~~(c,(e,e')) = \\mathit{minVal}_{\\mathit{first}} \\left\\{ (\\mathit{swapCost}(e,e'),(e,e')) : e \\in L, e' \\in R \\right\\}  \n",
    "\\\\  \n",
    "~~~~~~~~\\texttt{in}  \n",
    "\\\\  \n",
    "~~~~~~~~~~~~~~~~\\mathit{swapEdges}~(\\mathit{append}~(L,R),e,e')  \n",
    "\\\\  \n",
    "~~~~~~~~\\texttt{end}  \n",
    "\\end{array}\\\n",
    "$$\n",
    "\n",
    "> The function $\\mathit{minVal}_{\\mathit{first}}$ iterates over all pairs of edges and finds the pair yielding the minimum cost. \n",
    "> \n",
    "> The function $\\mathit{swapEdges}(E,e,e')$ swaps the end points of edges $e$ and $e'$. As there are two ways to swap, it picks the cheaper one.\n",
    "\n"
   ]
  },
  {
   "attachments": {},
   "cell_type": "markdown",
   "metadata": {
    "slideshow": {
     "slide_type": "slide"
    }
   },
   "source": [
    "## Correctness \n",
    "\n",
    "Does this algorithm compute a tour? Does this algorithm compute a minimum-cost tour?\n",
    "\n",
    "We can show by induction that this algorithm always produces a tour. \n"
   ]
  },
  {
   "attachments": {},
   "cell_type": "markdown",
   "metadata": {
    "slideshow": {
     "slide_type": "fragment"
    }
   },
   "source": [
    "### However, the combine step does not necessarily produce a minimum cost tour!\n"
   ]
  },
  {
   "attachments": {},
   "cell_type": "markdown",
   "metadata": {
    "slideshow": {
     "slide_type": "fragment"
    }
   },
   "source": [
    "\n",
    "Our algorithm is actually not correct in the sense that it does not necessarily return the optimal solution. Rather, it is a *heuristic* that works well in practice.\n"
   ]
  },
  {
   "attachments": {},
   "cell_type": "markdown",
   "metadata": {
    "slideshow": {
     "slide_type": "fragment"
    }
   },
   "source": [
    "<br>\n",
    "\n",
    "Actually, we currently do not know of any  polynomial-work algorithm to solve this problem. \n",
    "\n",
    "In fact, the brute-force algorithm is essentially the best we can do. (We'll get to this in more detail at the end of the semester.)"
   ]
  },
  {
   "attachments": {},
   "cell_type": "markdown",
   "metadata": {},
   "source": [
    "\n",
    "> It is possible to efficiently is to compute an *approximation* to the optimal eTSP solution. It is possible to compute a solution that is within $(1+\\epsilon)$ of optimal. The running time is polynomial in $n$ and $1/\\epsilon$. \n",
    "\n"
   ]
  },
  {
   "attachments": {},
   "cell_type": "markdown",
   "metadata": {
    "slideshow": {
     "slide_type": "subslide"
    }
   },
   "source": [
    "**Work/Span**:\n",
    "\n",
    "This algorithm has two recursive calls that each operate on $n/2$ points. \n",
    "\n",
    "Our combination step requires that we check $O(n^2)$ ways too cross the cut and compute the best. This requires $O(n^2)$ work and $O(\\log n)$ span. \n"
   ]
  },
  {
   "attachments": {},
   "cell_type": "markdown",
   "metadata": {
    "slideshow": {
     "slide_type": "fragment"
    }
   },
   "source": [
    "<br>\n",
    "\n",
    "So we have that the work is $W(n) = 2W(n/2) + O(n^2).$ This is a root-dominated recurrence, and thus $W(n) = O(n^2)$. \n"
   ]
  },
  {
   "attachments": {},
   "cell_type": "markdown",
   "metadata": {
    "slideshow": {
     "slide_type": "fragment"
    }
   },
   "source": [
    "<br>\n",
    "\n",
    "The span is $S(n) = S(n/2) + O(\\log n)$. This is a balanced recurrence with $\\lg n$ levels, and so $S(n) = O(\\log^2 n)$.\n"
   ]
  }
 ],
 "metadata": {
  "celltoolbar": "Slideshow",
  "kernelspec": {
   "display_name": "Python 3.9.6 64-bit",
   "language": "python",
   "name": "python3"
  },
  "language_info": {
   "codemirror_mode": {
    "name": "ipython",
    "version": 3
   },
   "file_extension": ".py",
   "mimetype": "text/x-python",
   "name": "python",
   "nbconvert_exporter": "python",
   "pygments_lexer": "ipython3",
   "version": "3.9.6"
  },
  "rise": {
   "autolaunch": true,
   "controls": false,
   "enable_chalkboard": true,
   "scroll": true,
   "theme": "simple",
   "transition": "fade"
  },
  "toc": {
   "base_numbering": 1,
   "nav_menu": {},
   "number_sections": true,
   "sideBar": true,
   "skip_h1_title": true,
   "title_cell": "Table of Contents",
   "title_sidebar": "Contents",
   "toc_cell": true,
   "toc_position": {},
   "toc_section_display": true,
   "toc_window_display": false
  },
  "vscode": {
   "interpreter": {
    "hash": "aee8b7b246df8f9039afb4144a1f6fd8d2ca17a180786b69acc140d282b71a49"
   }
  }
 },
 "nbformat": 4,
 "nbformat_minor": 4
}
