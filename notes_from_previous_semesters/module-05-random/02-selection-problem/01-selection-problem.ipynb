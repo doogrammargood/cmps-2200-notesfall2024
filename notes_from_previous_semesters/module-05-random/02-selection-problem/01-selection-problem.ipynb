{
 "cells": [
  {
   "cell_type": "code",
   "execution_count": 2,
   "metadata": {
    "code_folding": [],
    "slideshow": {
     "slide_type": "skip"
    }
   },
   "outputs": [
    {
     "data": {
      "text/html": [
       "<style>.prompt{width: 0px; min-width: 0px; visibility: collapse}</style>"
      ],
      "text/plain": [
       "<IPython.core.display.HTML object>"
      ]
     },
     "metadata": {},
     "output_type": "display_data"
    },
    {
     "data": {
      "text/html": [
       "<style>\n",
       "div#notebook {\n",
       " font-family: \"Exo_2\", sans-serif;\n",
       "}\n",
       "\n",
       ".rendered_html h1,\n",
       ".text_cell_render h1 {\n",
       " color: #126dce;\n",
       " font-size: 220%;\n",
       " text-align: center;\n",
       " font-weight: lighter;\n",
       "}\n",
       ".rendered_html h2,\n",
       ".text_cell_render h2 {\n",
       " text-align: center;\n",
       " font-size: 170%;\n",
       " color: #126dce;\n",
       " font-style: normal;\n",
       " font-weight: lighter;\n",
       "}\n",
       ".rendered_html h3,\n",
       ".text_cell_render h3 {\n",
       " font-size: 150%;\n",
       " color: #126dce;\n",
       " font-weight: lighter;\n",
       " text-decoration: italic;\n",
       " font-style: normal;\n",
       "}\n",
       ".rendered_html h4,\n",
       ".text_cell_render h4 {\n",
       " font-size: 120%;\n",
       " color: #126dce;\n",
       " font-weight: underline;\n",
       " font-style: normal;\n",
       "}\n",
       ".rendered_html h5,\n",
       ".text_cell_render h5 {\n",
       " font-size: 100%;\n",
       " color: #2f2f2f;\n",
       " font-weight: lighter;\n",
       " text-decoration: underline;\n",
       "}\n",
       "</style>\n"
      ],
      "text/plain": [
       "<IPython.core.display.HTML object>"
      ]
     },
     "metadata": {},
     "output_type": "display_data"
    }
   ],
   "source": [
    "# setup\n",
    "from IPython.core.display import display,HTML\n",
    "display(HTML('<style>.prompt{width: 0px; min-width: 0px; visibility: collapse}</style>'))\n",
    "display(HTML(open('rise.css').read()))\n",
    "\n",
    "# imports\n",
    "import numpy as np\n",
    "import matplotlib.pyplot as plt\n",
    "import seaborn as sns\n",
    "%matplotlib inline\n",
    "sns.set(style=\"whitegrid\", font_scale=1.5, rc={'figure.figsize':(12, 6)})\n"
   ]
  },
  {
   "attachments": {},
   "cell_type": "markdown",
   "metadata": {
    "slideshow": {
     "slide_type": "slide"
    }
   },
   "source": [
    "# CMPS 2200\n",
    "# Introduction to Algorithms\n",
    "\n",
    "## Selection\n"
   ]
  },
  {
   "attachments": {},
   "cell_type": "markdown",
   "metadata": {
    "slideshow": {
     "slide_type": "slide"
    }
   },
   "source": [
    "Agenda:\n",
    "\n",
    "- Randomized Linear Work Selection"
   ]
  },
  {
   "attachments": {},
   "cell_type": "markdown",
   "metadata": {
    "slideshow": {
     "slide_type": "slide"
    }
   },
   "source": [
    "## The $\\texttt{Selection Problem}$\n",
    "\n",
    "Given an unsorted list $a$ and an integer $k$ ($0\\leq k< |a|$), the **order statistics** (or **selection**) problem asks us to return the $k^{th}$ smallest element from $a$. \n"
   ]
  },
  {
   "attachments": {},
   "cell_type": "markdown",
   "metadata": {
    "slideshow": {
     "slide_type": "fragment"
    }
   },
   "source": [
    "\n",
    "We also refer to the $k^{th}$ smallest element as the element of *rank* $k$.  \n"
   ]
  },
  {
   "attachments": {},
   "cell_type": "markdown",
   "metadata": {
    "slideshow": {
     "slide_type": "fragment"
    }
   },
   "source": [
    "<br>\n",
    "\n",
    "Example: \n",
    "\n",
    "Let $a=\\langle 5, 11, 9, 3, 6, -1, 99\\rangle.$ \n"
   ]
  },
  {
   "attachments": {},
   "cell_type": "markdown",
   "metadata": {
    "slideshow": {
     "slide_type": "fragment"
    }
   },
   "source": [
    "\n",
    "- For $k=0$, the \"$0^{th}$ smallest\" element is the minimum element in $a$, or $-1$.\n",
    "- For $k=n-1$, it is the maximum, or $99$.\n",
    "- For $k=3$, we return $6$.\n"
   ]
  },
  {
   "attachments": {},
   "cell_type": "markdown",
   "metadata": {
    "slideshow": {
     "slide_type": "slide"
    }
   },
   "source": [
    "## Observations\n",
    "\n",
    "Before we come up with a randomized algorithm, we can reason about bounds for our runtime using reductions."
   ]
  },
  {
   "attachments": {},
   "cell_type": "markdown",
   "metadata": {
    "slideshow": {
     "slide_type": "fragment"
    }
   },
   "source": [
    "\n",
    "<br>\n",
    "\n",
    "First, let's establish a **lower bound** on our potential runtime.\n"
   ]
  },
  {
   "attachments": {},
   "cell_type": "markdown",
   "metadata": {
    "slideshow": {
     "slide_type": "fragment"
    }
   },
   "source": [
    "\n",
    "What problems can we reduce to the $\\texttt{Selection Problem}$?\n"
   ]
  },
  {
   "attachments": {},
   "cell_type": "markdown",
   "metadata": {
    "slideshow": {
     "slide_type": "fragment"
    }
   },
   "source": [
    "Both $\\texttt{Min}$ and $\\texttt{Max}$ reduce to this problem."
   ]
  },
  {
   "attachments": {},
   "cell_type": "markdown",
   "metadata": {
    "slideshow": {
     "slide_type": "fragment"
    }
   },
   "source": [
    "What does that tell us about our runtime?"
   ]
  },
  {
   "attachments": {},
   "cell_type": "markdown",
   "metadata": {
    "slideshow": {
     "slide_type": "fragment"
    }
   },
   "source": [
    "$W(n) \\in \\Omega(n)$"
   ]
  },
  {
   "attachments": {},
   "cell_type": "markdown",
   "metadata": {
    "slideshow": {
     "slide_type": "subslide"
    }
   },
   "source": [
    "<br>\n",
    "\n",
    "Now let's establish an **Upper Bound** on our potential runtime.\n"
   ]
  },
  {
   "attachments": {},
   "cell_type": "markdown",
   "metadata": {
    "slideshow": {
     "slide_type": "fragment"
    }
   },
   "source": [
    "\n",
    "What can we reduce this problem to?\n",
    "\n"
   ]
  },
  {
   "attachments": {},
   "cell_type": "markdown",
   "metadata": {
    "slideshow": {
     "slide_type": "fragment"
    }
   },
   "source": [
    "$\\texttt{Sorting}$: Sort $a$ and return the $k^{th}$ element of this sorted list. "
   ]
  },
  {
   "attachments": {},
   "cell_type": "markdown",
   "metadata": {
    "slideshow": {
     "slide_type": "fragment"
    }
   },
   "source": [
    "$W(n) \\in O(n \\log n)$"
   ]
  },
  {
   "attachments": {},
   "cell_type": "markdown",
   "metadata": {
    "slideshow": {
     "slide_type": "fragment"
    }
   },
   "source": [
    "<br>\n",
    "\n",
    "We have that $W(n) \\in \\Omega(n) ~ \\cap ~ O(n \\log n)$."
   ]
  },
  {
   "attachments": {},
   "cell_type": "markdown",
   "metadata": {
    "slideshow": {
     "slide_type": "fragment"
    }
   },
   "source": [
    "<br>\n",
    "\n",
    "Can we do any better? Sorting seems like overkill since we don't really need to rearrange all the elements, or even return a list."
   ]
  },
  {
   "attachments": {},
   "cell_type": "markdown",
   "metadata": {
    "slideshow": {
     "slide_type": "slide"
    }
   },
   "source": [
    "## Let's build an Algorithm\n",
    "\n",
    "\n",
    "A useful observation is that the $k^{th}$ smallest element in $a$ *partitions* $a$ into a set of $k-1$ smaller elements, and a set of $n-k-1$ larger elements. \n"
   ]
  },
  {
   "attachments": {},
   "cell_type": "markdown",
   "metadata": {
    "slideshow": {
     "slide_type": "fragment"
    }
   },
   "source": [
    "\n",
    "<br>\n",
    "\n",
    "Example: Suppose $a=\\langle 5, 11, 9, 3, 6, -1, 99\\rangle$. \n",
    "\n",
    "$n = |a| = 7$. \n",
    "\n",
    "Let $k=3$. \n"
   ]
  },
  {
   "attachments": {},
   "cell_type": "markdown",
   "metadata": {
    "slideshow": {
     "slide_type": "fragment"
    }
   },
   "source": [
    "\n",
    "So $6$ is larger than $\\langle 5, 3, -1 \\rangle$ and smaller than $\\langle11, 9, 99\\rangle$.\n"
   ]
  },
  {
   "attachments": {},
   "cell_type": "markdown",
   "metadata": {
    "slideshow": {
     "slide_type": "fragment"
    }
   },
   "source": [
    "\n",
    "<br>\n",
    "\n",
    "This implies that *for any* element $x$ in the list, we can compute its rank by partitioning the list. \n"
   ]
  },
  {
   "attachments": {},
   "cell_type": "markdown",
   "metadata": {
    "slideshow": {
     "slide_type": "fragment"
    }
   },
   "source": [
    "\n",
    "This can be done in $O(n)$ work and $O(\\log n)$ span. \n"
   ]
  },
  {
   "attachments": {},
   "cell_type": "markdown",
   "metadata": {
    "slideshow": {
     "slide_type": "slide"
    }
   },
   "source": [
    "## Pivoting to Search\n",
    "\n",
    "We'll use partitioning to invent an algorithm to find the element with rank $k$.\n",
    "\n"
   ]
  },
  {
   "attachments": {},
   "cell_type": "markdown",
   "metadata": {
    "slideshow": {
     "slide_type": "fragment"
    }
   },
   "source": [
    "Again, suppose $a=\\langle 5, 11, 9, 3, 6, -1, 99\\rangle$ and we are *looking* for the element with rank $k=3$. \n",
    "\n",
    "We can choose an element to partition around (a \"pivot\" element) to get an indication of where to continue searching. \n"
   ]
  },
  {
   "attachments": {},
   "cell_type": "markdown",
   "metadata": {
    "slideshow": {
     "slide_type": "fragment"
    }
   },
   "source": [
    "\n",
    "For simplicity, let's pivot around $a[0] = 5$.\n"
   ]
  },
  {
   "attachments": {},
   "cell_type": "markdown",
   "metadata": {
    "slideshow": {
     "slide_type": "fragment"
    }
   },
   "source": [
    "<br>\n",
    "\n",
    "$5$ is larger than 2 elements in $l = \\langle 3, -1 \\rangle$ and smaller than 4 elements in $r = \\langle 11, 9, 6, 99\\rangle$.\n"
   ]
  },
  {
   "attachments": {},
   "cell_type": "markdown",
   "metadata": {
    "slideshow": {
     "slide_type": "fragment"
    }
   },
   "source": [
    "\n",
    "<br>\n",
    "What does this tell us?\n"
   ]
  },
  {
   "attachments": {},
   "cell_type": "markdown",
   "metadata": {
    "slideshow": {
     "slide_type": "fragment"
    }
   },
   "source": [
    "<br>\n",
    "\n",
    "We've identified 3 smaller elements ($\\langle 3, -1 \\rangle$ and $5$).\n",
    "\n",
    "Thus, the element of rank $k=3$ in $a$ must be in $r = \\langle11, 9, 6, 99\\rangle$. \n"
   ]
  },
  {
   "attachments": {},
   "cell_type": "markdown",
   "metadata": {
    "slideshow": {
     "slide_type": "fragment"
    }
   },
   "source": [
    "\n",
    "Moreover it's rank is $k-3 = 0$ in $r$. \n"
   ]
  },
  {
   "attachments": {},
   "cell_type": "markdown",
   "metadata": {
    "slideshow": {
     "slide_type": "fragment"
    }
   },
   "source": [
    "\n",
    "This motivates an algorithm like binary search, but with the partition step helping establish some order.\n"
   ]
  },
  {
   "attachments": {},
   "cell_type": "markdown",
   "metadata": {
    "slideshow": {
     "slide_type": "subslide"
    }
   },
   "source": [
    "$$\\begin{array}{ll}  \n",
    "\\mathit{simple\\_select}~a~k =   \n",
    "\\\\  \n",
    "\\texttt{let}  \n",
    "\\\\  \n",
    "~~~~p = a[0]   \n",
    "\\\\  \n",
    "~~~~\\ell = \\left\\langle\\, x \\in a \\;|\\; x < p \\,\\right\\rangle  \n",
    "\\\\  \n",
    "~~~~r = \\left\\langle\\, x \\in a \\;|\\; x > p \\,\\right\\rangle  \n",
    "\\\\  \n",
    "\\texttt{in}  \n",
    "\\\\  \n",
    "~~~~\\texttt{if}~(k < |\\ell|)~\\texttt{then}~\\mathit{simple\\_select}~\\ell~k  \n",
    "\\\\  \n",
    "~~~~\\texttt{else if}~(k < |a| - |r|)~\\texttt{then}~p  \n",
    "\\\\  \n",
    "~~~~\\texttt{else}~\\mathit{simple\\_select}~r~(k - (|a| - |r|))  \n",
    "\\\\  \n",
    "\\texttt{end}  \n",
    "\\end{array}$$\n"
   ]
  },
  {
   "attachments": {},
   "cell_type": "markdown",
   "metadata": {
    "slideshow": {
     "slide_type": "subslide"
    }
   },
   "source": [
    "### Analysis\n",
    "\n",
    "We just have one recursive call so no parallelism there. However, we can use filter to partition in parallel. This has $O(n)$ work $O(\\log n)$ span.\n",
    "\n",
    "<br>\n",
    "\n",
    "What is the total work over all recursive calls?\n"
   ]
  },
  {
   "attachments": {},
   "cell_type": "markdown",
   "metadata": {
    "slideshow": {
     "slide_type": "fragment"
    }
   },
   "source": [
    "<br>\n",
    "\n",
    "We know that the work in each recursive call is the $\\max\\{W(\\mid l\\mid), W(\\mid r\\mid)\\} + O(n)$. \n",
    "\n",
    "<br>\n"
   ]
  },
  {
   "attachments": {},
   "cell_type": "markdown",
   "metadata": {
    "slideshow": {
     "slide_type": "fragment"
    }
   },
   "source": [
    "What is the worst case scenario?"
   ]
  },
  {
   "attachments": {},
   "cell_type": "markdown",
   "metadata": {
    "slideshow": {
     "slide_type": "fragment"
    }
   },
   "source": [
    "\n",
    "\n",
    "Consider the case where $a$ is a sorted list. Then in every call, $\\ell = \\emptyset$, and $\\mid r\\mid = n-1$. \n"
   ]
  },
  {
   "attachments": {},
   "cell_type": "markdown",
   "metadata": {
    "slideshow": {
     "slide_type": "fragment"
    }
   },
   "source": [
    "\n",
    "So we would we have $W(n) = W(n-1) + n = O(n^2)$. \n",
    "\n",
    "This is worse than just sorting the list!\n"
   ]
  },
  {
   "attachments": {},
   "cell_type": "markdown",
   "metadata": {
    "slideshow": {
     "slide_type": "fragment"
    }
   },
   "source": [
    "\n",
    "Moreover the span is $S(n) = S(n-1) + \\lg n \\in O(n\\lg n)$\n",
    "\n",
    "Far worse than sorting!\n"
   ]
  },
  {
   "cell_type": "code",
   "execution_count": 9,
   "metadata": {
    "slideshow": {
     "slide_type": "subslide"
    }
   },
   "outputs": [
    {
     "name": "stdout",
     "output_type": "stream",
     "text": [
      "\n",
      "a= [5, 11, 9, 3, 6, -1, 99] k= 3 p= 5\n",
      "l= [3, -1] r= [11, 9, 6, 99]\n",
      "...recursing with r=[11, 9, 6, 99] and k=0\n",
      "\n",
      "a= [11, 9, 6, 99] k= 0 p= 11\n",
      "l= [9, 6] r= [99]\n",
      "...recursing with l=[9, 6] and k=0\n",
      "\n",
      "a= [9, 6] k= 0 p= 9\n",
      "l= [6] r= []\n",
      "...recursing with l=[6] and k=0\n",
      "\n",
      "a= [6] k= 0 p= 6\n",
      "l= [] r= []\n",
      "...returning p=6\n"
     ]
    },
    {
     "data": {
      "text/plain": [
       "6"
      ]
     },
     "execution_count": 9,
     "metadata": {},
     "output_type": "execute_result"
    }
   ],
   "source": [
    "def simple_select(a, k):\n",
    "    p = a[0]\n",
    "    print('\\na=', a, 'k=', k, 'p=', p)\n",
    "    l = list(filter(lambda x: x < p, a))  # O(|a|) work, O(log|a|) span\n",
    "    r = list(filter(lambda x: x > p, a))  # O(|a|) work, O(log|a|) span\n",
    "    print('l=', l, 'r=', r)\n",
    "    if k < len(l):\n",
    "        print('...recursing with l=%s and k=%d' % (str(l), k))\n",
    "        return simple_select(l, k)\n",
    "    elif k < len(a) - len(r):\n",
    "        print('...returning p=%d' % p)\n",
    "        return p\n",
    "    else:\n",
    "        print('...recursing with r=%s and k=%d' % (str(r), k - (len(a) -  len(r))))\n",
    "        return simple_select(r, k - (len(a) -  len(r)))\n",
    "    \n",
    "simple_select([5, 11, 9, 3, 6, -1, 99], 3)"
   ]
  },
  {
   "cell_type": "code",
   "execution_count": 10,
   "metadata": {
    "slideshow": {
     "slide_type": "subslide"
    }
   },
   "outputs": [
    {
     "name": "stdout",
     "output_type": "stream",
     "text": [
      "\n",
      "a= [-1, 3, 5, 6, 9, 11, 99] k= 6 p= -1\n",
      "l= [] r= [3, 5, 6, 9, 11, 99]\n",
      "...recursing with r=[3, 5, 6, 9, 11, 99] and k=5\n",
      "\n",
      "a= [3, 5, 6, 9, 11, 99] k= 5 p= 3\n",
      "l= [] r= [5, 6, 9, 11, 99]\n",
      "...recursing with r=[5, 6, 9, 11, 99] and k=4\n",
      "\n",
      "a= [5, 6, 9, 11, 99] k= 4 p= 5\n",
      "l= [] r= [6, 9, 11, 99]\n",
      "...recursing with r=[6, 9, 11, 99] and k=3\n",
      "\n",
      "a= [6, 9, 11, 99] k= 3 p= 6\n",
      "l= [] r= [9, 11, 99]\n",
      "...recursing with r=[9, 11, 99] and k=2\n",
      "\n",
      "a= [9, 11, 99] k= 2 p= 9\n",
      "l= [] r= [11, 99]\n",
      "...recursing with r=[11, 99] and k=1\n",
      "\n",
      "a= [11, 99] k= 1 p= 11\n",
      "l= [] r= [99]\n",
      "...recursing with r=[99] and k=0\n",
      "\n",
      "a= [99] k= 0 p= 99\n",
      "l= [] r= []\n",
      "...returning p=99\n"
     ]
    },
    {
     "data": {
      "text/plain": [
       "99"
      ]
     },
     "execution_count": 10,
     "metadata": {},
     "output_type": "execute_result"
    }
   ],
   "source": [
    "# worst case: find the max of a sorted list\n",
    "simple_select([-1,3,5,6,9,11,99], 6)"
   ]
  },
  {
   "attachments": {},
   "cell_type": "markdown",
   "metadata": {
    "slideshow": {
     "slide_type": "slide"
    }
   },
   "source": [
    "## The Problem, and its Solution\n",
    "\n",
    "The problem is that we just don't know anything about the element we're using for the partition. How do we avoid this worst case?\n"
   ]
  },
  {
   "attachments": {},
   "cell_type": "markdown",
   "metadata": {
    "slideshow": {
     "slide_type": "fragment"
    }
   },
   "source": [
    "\n",
    "Pick a random **pivot** for partitioning!\n"
   ]
  },
  {
   "attachments": {},
   "cell_type": "markdown",
   "metadata": {
    "slideshow": {
     "slide_type": "fragment"
    }
   },
   "source": [
    "\n",
    "$$\\begin{array}{ll}  \n",
    "\\mathit{select}~a~k =   \n",
    "\\\\  \n",
    "\\texttt{let}  \n",
    "\\\\  \n",
    "~~~~p = \\text{pick a uniformly random element from}~a   \n",
    "\\\\  \n",
    "~~~~\\ell = \\left\\langle\\, x \\in a \\;|\\; x < p \\,\\right\\rangle  \n",
    "\\\\  \n",
    "~~~~r = \\left\\langle\\, x \\in a \\;|\\; x > p \\,\\right\\rangle  \n",
    "\\\\  \n",
    "\\texttt{in}  \n",
    "\\\\  \n",
    "~~~~\\texttt{if}~(k < |\\ell|)~\\texttt{then}~\\mathit{select}~\\ell~k  \n",
    "\\\\  \n",
    "~~~~\\texttt{else if}~(k < |a| - |r|)~\\texttt{then}~p  \n",
    "\\\\  \n",
    "~~~~\\texttt{else}~\\mathit{select}~r~(k - (|a| - |r|))  \n",
    "\\\\  \n",
    "\\texttt{end}  \n",
    "\\end{array}$$\n"
   ]
  },
  {
   "cell_type": "code",
   "execution_count": 17,
   "metadata": {
    "slideshow": {
     "slide_type": "subslide"
    }
   },
   "outputs": [
    {
     "name": "stdout",
     "output_type": "stream",
     "text": [
      "\n",
      "a= [-1, 3, 5, 6, 9, 11, 99] k= 6 p= 5\n",
      "l= [-1, 3] r= [6, 9, 11, 99]\n",
      "...recursing with r=[6, 9, 11, 99] and k=3\n",
      "\n",
      "a= [6, 9, 11, 99] k= 3 p= 11\n",
      "l= [6, 9] r= [99]\n",
      "...recursing with r=[99] and k=0\n",
      "\n",
      "a= [99] k= 0 p= 99\n",
      "l= [] r= []\n",
      "...returning p=99\n"
     ]
    },
    {
     "data": {
      "text/plain": [
       "99"
      ]
     },
     "execution_count": 17,
     "metadata": {},
     "output_type": "execute_result"
    }
   ],
   "source": [
    "import random\n",
    "# random.seed(42)  # for repeatability\n",
    "\n",
    "def select(a, k):\n",
    "    p = random.choice(a)\n",
    "    print('\\na=', a, 'k=', k, 'p=', p)\n",
    "    l = list(filter(lambda x: x < p, a))  # O(|a|) work, O(log|a|) span\n",
    "    r = list(filter(lambda x: x > p, a))  # O(|a|) work, O(log|a|) span\n",
    "    print('l=', l, 'r=', r)\n",
    "    if k < len(l):\n",
    "        print('...recursing with l=%s and k=%d' % (str(l), k))\n",
    "        return select(l, k)\n",
    "    elif k < len(a) - len(r):\n",
    "        print('...returning p=%d' % p)\n",
    "        return p\n",
    "    else:\n",
    "        print('...recursing with r=%s and k=%d' % (str(r), k - (len(a) -  len(r))))\n",
    "        return select(r, k - (len(a) -  len(r)))\n",
    "    \n",
    "select([-1,3,5,6,9,11,99], 6)"
   ]
  },
  {
   "attachments": {},
   "cell_type": "markdown",
   "metadata": {
    "slideshow": {
     "slide_type": "slide"
    }
   },
   "source": [
    "## Quantifying our chances\n",
    "\n",
    "If we get a sorted list as input, what is the probability of the worst-case?\n"
   ]
  },
  {
   "attachments": {},
   "cell_type": "markdown",
   "metadata": {
    "slideshow": {
     "slide_type": "fragment"
    }
   },
   "source": [
    "\n",
    "The size of the $l$ and $r$ will depend on the random choice. \n"
   ]
  },
  {
   "attachments": {},
   "cell_type": "markdown",
   "metadata": {
    "slideshow": {
     "slide_type": "fragment"
    }
   },
   "source": [
    "\n",
    "Thus the recurrences describing the work and span depend on each random choice and we need to find their expected asymptotic work/span."
   ]
  },
  {
   "attachments": {},
   "cell_type": "markdown",
   "metadata": {
    "slideshow": {
     "slide_type": "subslide"
    }
   },
   "source": [
    "### Intuition\n",
    "\n",
    "We saw that the work of our algorithm depends on $\\max\\{W(\\mid l\\mid), W(\\mid r\\mid)\\}$ in each recursive call. \n",
    "\n",
    "What is the probability of getting a perfect split? \n"
   ]
  },
  {
   "attachments": {},
   "cell_type": "markdown",
   "metadata": {
    "slideshow": {
     "slide_type": "fragment"
    }
   },
   "source": [
    "\n",
    "$1/n$\n"
   ]
  },
  {
   "attachments": {},
   "cell_type": "markdown",
   "metadata": {
    "slideshow": {
     "slide_type": "fragment"
    }
   },
   "source": [
    "<br>\n",
    "\n",
    "What about a split that is \"good enough\"?\n"
   ]
  },
  {
   "attachments": {},
   "cell_type": "markdown",
   "metadata": {
    "slideshow": {
     "slide_type": "fragment"
    }
   },
   "source": [
    "\n",
    "So, suppose we knew that $\\max\\{W(\\mid l\\mid), W(\\mid r\\mid)\\} \\leq W(3n/4)$. \n",
    "\n",
    "This would be a good enough split since the overall work would be $W(n) = W(3n/4) + n \\in O(n)$. (root dominated)\n"
   ]
  },
  {
   "attachments": {},
   "cell_type": "markdown",
   "metadata": {
    "slideshow": {
     "slide_type": "subslide"
    }
   },
   "source": [
    "### Probability of \"good enough\"\n",
    "\n",
    "What is the probability that the input to the recursive call has size $\\le \\frac{3}{4} n$?\n",
    "\n",
    "<br>\n",
    "\n"
   ]
  },
  {
   "attachments": {},
   "cell_type": "markdown",
   "metadata": {
    "slideshow": {
     "slide_type": "fragment"
    }
   },
   "source": [
    "\n",
    "We can examine where $p$ might land in the sorted version of $a$, to understand the probability of a good split.\n",
    "\n",
    "<img width=\"60%\" src=\"figures/selection-intuition.jpg\"/>\n"
   ]
  },
  {
   "attachments": {},
   "cell_type": "markdown",
   "metadata": {
    "slideshow": {
     "slide_type": "fragment"
    }
   },
   "source": [
    "If we sample any pivot in the green region, what is the size of the larger partition?\n"
   ]
  },
  {
   "attachments": {},
   "cell_type": "markdown",
   "metadata": {
    "slideshow": {
     "slide_type": "fragment"
    }
   },
   "source": [
    "\n",
    "It is at most $3n/4$.\n",
    "\n",
    "What is the probability of sampling a point in the green region? \n"
   ]
  },
  {
   "attachments": {},
   "cell_type": "markdown",
   "metadata": {
    "slideshow": {
     "slide_type": "fragment"
    }
   },
   "source": [
    "\n",
    "$1/2$\n"
   ]
  },
  {
   "attachments": {},
   "cell_type": "markdown",
   "metadata": {
    "slideshow": {
     "slide_type": "fragment"
    }
   },
   "source": [
    "\n",
    "$\\mathbf{P}[\\max\\{W(\\mid l\\mid), W(\\mid r\\mid)\\} \\leq W(3n/4)] = 1/2$.\n",
    "\n"
   ]
  },
  {
   "attachments": {},
   "cell_type": "markdown",
   "metadata": {
    "slideshow": {
     "slide_type": "fragment"
    }
   },
   "source": [
    "If we think of each choice of pivot as a coin flip (\"good\" vs. \"bad\") then the expected number of pivot choices to reduce the input to $3n/4$ is 2. \n"
   ]
  },
  {
   "attachments": {},
   "cell_type": "markdown",
   "metadata": {
    "slideshow": {
     "slide_type": "fragment"
    }
   },
   "source": [
    "\n",
    "In other words, every two recursions yields the desired reduction in list size, and so in expectation we will do linear work.\n"
   ]
  },
  {
   "attachments": {},
   "cell_type": "markdown",
   "metadata": {
    "slideshow": {
     "slide_type": "subslide"
    }
   },
   "source": [
    "**What if we're unlucky?**\n",
    "\n",
    "We could keep sampling pivots outside of the green area. What is the probability if we do so $i$ times in a row?\n"
   ]
  },
  {
   "attachments": {},
   "cell_type": "markdown",
   "metadata": {
    "slideshow": {
     "slide_type": "fragment"
    }
   },
   "source": [
    "<br>\n",
    "\n",
    "$\\frac{1}{2} * \\frac{1}{2} * \\frac{1}{2} * ... = \\frac{1}{2^i}$\n"
   ]
  },
  {
   "attachments": {},
   "cell_type": "markdown",
   "metadata": {
    "slideshow": {
     "slide_type": "fragment"
    }
   },
   "source": [
    "\n",
    "E.g., for $i=10$, probability of getting no good pivots is $\\approx 0.1\\%$. \n",
    "\n",
    "Thus, probability of getting at least one good pivot for 10 splits is $\\approx 99.9\\%$"
   ]
  },
  {
   "attachments": {},
   "cell_type": "markdown",
   "metadata": {
    "slideshow": {
     "slide_type": "slide"
    }
   },
   "source": [
    "## Analysis\n",
    "\n",
    "With our intuition established, let's analyze the performance rigorously. \n",
    "\n",
    "Let $X(n)$ be the fractional size of the larger side of the split, for an input of size $n$. So \n",
    "\n",
    "$$X(n) = \\frac{\\max{\\{|l|, |r|\\}}}{n}$$\n"
   ]
  },
  {
   "attachments": {},
   "cell_type": "markdown",
   "metadata": {
    "slideshow": {
     "slide_type": "fragment"
    }
   },
   "source": [
    "<style>.jp-RenderedHTMLCommon table {\n",
    "  border-collapse: collapse;\n",
    "  border-spacing: 0;\n",
    "  border: none;\n",
    "  color: var(--jp-ui-font-color1);\n",
    "  font-size: 18px;\n",
    "  table-layout: fixed;\n",
    "  margin-left: auto;\n",
    "  margin-right: auto;\n",
    "}</style>\n",
    "\n",
    "e.g., $n=6$\n",
    "\n",
    "|i  | len(l) | len(r)  | X(i) |\n",
    "|---|--------|---------|------|\n",
    "|0  | 0      | 5       | 5/6  |\n",
    "|1  | 1      | 4       | 4/6  |\n",
    "|2  | 2      | 3       | 3/6  |\n",
    "|3  | 3      | 2       | 3/6  |\n",
    "|4  | 4      | 1       | 4/6  |\n",
    "|5  | 5      | 0       | 5/6  |\n"
   ]
  },
  {
   "attachments": {},
   "cell_type": "markdown",
   "metadata": {
    "slideshow": {
     "slide_type": "fragment"
    }
   },
   "source": [
    "<br>\n",
    "\n",
    "Our work and span recurrences are:\n",
    "\n",
    "$$W(n) \\leq W(X(n) \\cdot n) + O(n)$$\n",
    "\n",
    "$$S(n) \\leq S(X(n) \\cdot n) + O(\\lg n)$$ \n"
   ]
  },
  {
   "attachments": {},
   "cell_type": "markdown",
   "metadata": {
    "slideshow": {
     "slide_type": "subslide"
    }
   },
   "source": [
    "### The expected size of the larger partition\n",
    "\n",
    "We want to prove that $\\mathbf{E}[X(n)] = 3/4$ as our intuition says. \n",
    "\n",
    "As we discussed previously, if $|l| = i$, then $|r| = n - i -1$. \n",
    "\n",
    "Using the fact that the probability of the pivot being any particular $i$ is $1/n$, we have:\n"
   ]
  },
  {
   "attachments": {},
   "cell_type": "markdown",
   "metadata": {
    "slideshow": {
     "slide_type": "fragment"
    }
   },
   "source": [
    "\n",
    "$\\begin{align}\n",
    " \\mathbf{E}\\left[{X(n)}\\right] &= \\sum_{i=0}^{n-1} X(i) \\cdot P[X(i)] \\\\\n",
    " & =  \\frac{1}{n} \\sum_{i=0}^{n-1} \\frac{\\max\\{i, n-i-1\\}}{n} \\\\\n",
    "\\end{align}$\n"
   ]
  },
  {
   "attachments": {},
   "cell_type": "markdown",
   "metadata": {
    "slideshow": {
     "slide_type": "fragment"
    }
   },
   "source": [
    "|i  | len(l) | len(r)  | X(i) |\n",
    "|---|--------|---------|------|\n",
    "|0  | 0      | 5       | 5/6  |\n",
    "|1  | 1      | 4       | 4/6  |\n",
    "|2  | 2      | 3       | 3/6  |\n",
    "|3  | 3      | 2       | 3/6  |\n",
    "|4  | 4      | 1       | 4/6  |\n",
    "|5  | 5      | 0       | 5/6  |\n"
   ]
  },
  {
   "attachments": {},
   "cell_type": "markdown",
   "metadata": {
    "slideshow": {
     "slide_type": "subslide"
    }
   },
   "source": [
    "\n",
    "$\\begin{align}\n",
    " \\mathbf{E}\\left[{X(n)}\\right] &=  \\sum_{i=0}^{n-1} X(i) \\cdot P[X(i)]\\\\\n",
    " & =  \\frac{1}{n} \\sum_{i=0}^{n-1} \\frac{\\max\\{i, n-i-1\\}}{n} \\\\\n",
    " &\\leq  \\frac{1}{n} \\sum_{j=n/2}^{n-1} \\frac{2j}{n}  ~~~~~~~~~~~~~~ \\left(\\sum_{j=3}^{5} \\frac{2j}{n} = \\frac{2*3}{6} + \\frac{2*4}{6} + \\frac{2*5}{6}\\right) \\\\\n",
    " &\\leq  \\frac{2}{n^2}\\sum_{j=n/2}^{n-1} j\\\\\n",
    " &\\leq  \\frac{3}{4}  \n",
    "\\end{align}$\n"
   ]
  },
  {
   "attachments": {},
   "cell_type": "markdown",
   "metadata": {
    "slideshow": {
     "slide_type": "fragment"
    }
   },
   "source": [
    "Thus the expected size of the larger partition is $\\leq  \\frac{3}{4}$."
   ]
  },
  {
   "attachments": {},
   "cell_type": "markdown",
   "metadata": {
    "slideshow": {
     "slide_type": "subslide"
    }
   },
   "source": [
    "**Full detail**\n",
    "\n",
    "Last line uses $\\sum_{i=x}^y i = \\frac12(x+y)(y - x + 1)$:\n",
    "\n",
    "\n",
    "$= \\frac12 (n/2 + (n-1))((n-1)-(n/2) + 1)$\n",
    "\n",
    "$= \\frac12 (3n/2 - 1)(n/2)$\n",
    "\n",
    "$= \\frac12 (3n^2/4 - n/2)$\n",
    "\n",
    "$=(3n^2/8 - n/4)$\n",
    "\n",
    "$=(3n^2 - 2n)/8$\n",
    "\n",
    "multiply by $2/n^2$:\n",
    "\n",
    "$= \\frac{3n^2-2n}{4n^2} = \\frac{3n^2}{4n^2} - \\frac{1}{2n} \\le \\frac{3}{4}$\n"
   ]
  },
  {
   "attachments": {},
   "cell_type": "markdown",
   "metadata": {
    "slideshow": {
     "slide_type": "slide"
    }
   },
   "source": [
    "## What if we're unlucky?\n",
    "\n",
    "It might seem tempting to say that we are done. However, we could get \"unlucky\" in a series of recursions even though $\\mathbf{E}[X(n)]\\leq 3/4.$ We will show the following.\n",
    "\n",
    "**Theorem.** At the $d^{th}$ level of recursion, the size of the input is $(3/4)^d n$ in expectation.\n"
   ]
  },
  {
   "attachments": {},
   "cell_type": "markdown",
   "metadata": {
    "slideshow": {
     "slide_type": "subslide"
    }
   },
   "source": [
    "**Theorem.** At the $d^{th}$ level of recursion, the size of the input is $(3/4)^d n$ in expectation.\n",
    "\n",
    "**Proof**: We can prove this by induction. \n"
   ]
  },
  {
   "attachments": {},
   "cell_type": "markdown",
   "metadata": {
    "slideshow": {
     "slide_type": "fragment"
    }
   },
   "source": [
    "\n",
    "The base case $d=0$ holds trivially. \n"
   ]
  },
  {
   "attachments": {},
   "cell_type": "markdown",
   "metadata": {
    "slideshow": {
     "slide_type": "fragment"
    }
   },
   "source": [
    "\n",
    "For the inductive step, we make the inductive hypothesis that our theorem holds for $d  \\ge 0$ and will show that it holds after the $d+1^{st}$ recursive call. \n"
   ]
  },
  {
   "attachments": {},
   "cell_type": "markdown",
   "metadata": {
    "slideshow": {
     "slide_type": "fragment"
    }
   },
   "source": [
    "\n",
    "For the $d^{th}$ recursive call, let $Y_d$ be a random variable for the instance size and let $Z_d$ be the rank of the pivot. \n"
   ]
  },
  {
   "attachments": {},
   "cell_type": "markdown",
   "metadata": {
    "slideshow": {
     "slide_type": "fragment"
    }
   },
   "source": [
    "\n",
    "For any value of $y$ and $z$, let $f(y,z)$ be a function that take in $y$ (the size of the input) and $z$ (the position of the pivot) and returns the fraction of the input reduced by that choice of the pivot. \n"
   ]
  },
  {
   "attachments": {},
   "cell_type": "markdown",
   "metadata": {
    "slideshow": {
     "slide_type": "fragment"
    }
   },
   "source": [
    "\n",
    "The expected input size in the $(d+1)^{st}$ call is:\n",
    "$$\\mathbf{E}[Y_{d+1}] = \\sum_{y}{\\sum_{z}{y\\cdot f(y,z) \\mathbf{P}_{Y_d,Z_d}(y,z)}} $$\n"
   ]
  },
  {
   "attachments": {},
   "cell_type": "markdown",
   "metadata": {
    "slideshow": {
     "slide_type": "subslide"
    }
   },
   "source": [
    "\n",
    "$$\\begin{align}  \n",
    "\\mathbf{E}[Y_{d+1}] &= \\sum_{y}{\\sum_{z}{y\\cdot f(y,z) \\mathbf{P}_{Y_d,Z_d}(y,z)}}   \\\\  \n",
    "& = \\sum_{y}{\\sum_{z}{y f(y,z) \\mathbf{P}_{Y_d}(y) \\mathbf{P}_{Z_d \\mid Y_d}(z \\mid y)}}   \n",
    " ~~~~~ \\hbox{by def,} ~~ p(a,b) = p(a)p(b|a)\\\\  \n",
    "&= \\sum_{y}{y \\mathbf{P}_{Y_d}(y) \\sum_{z}{f(y,z) \\mathbf{P}_{Z_d \\mid Y_d}(z \\mid y)}}  ~~~~~~ \\hbox{grouping terms} \\\\  \n",
    "&=  \\sum_{y}{y \\mathbf{P}_{Y_d}(y) \\mathbf{E}\\left[{X(y)}\\right]} ~~~~~~~~~~~~~~~~~~~~~~~~~~~~~~ \\hbox{def of}~ X(i) ~\\hbox{and expectation}\\\\  \n",
    "& \\le  \\frac{3}{4} \\sum_{y}{y \\mathbf{P}_{Y_d}(y)} ~~~~~~~~~~~~~~~~~~~~~~~~~~~~~~~~~~~~~~~~\\hbox{by our bound above} \\\\ \n",
    "& \\le  \\frac{3}{4} \\mathbf{E}\\left[{Y_d}\\right].    ~~~~~~~~~~~~~~~~~~~~~~~~~~~~~~~~~~~~~~~~~~~~~\\hbox{definition of expectation}\n",
    "\\end{align}$$\n",
    "\n",
    "Thus $\\mathbf{E}[Y_{d+1}] \\le \\frac{3}{4} \\mathbf{E}\\left[{Y_d}\\right]$ \n"
   ]
  },
  {
   "attachments": {},
   "cell_type": "markdown",
   "metadata": {
    "slideshow": {
     "slide_type": "fragment"
    }
   },
   "source": [
    "\n",
    "Since we have shown that $\\mathbf{E}[Y_{d+1}] \\le \\frac{3}{4} \\mathbf{E}\\left[{Y_d}\\right]$, a statement true for all $d$, at the $d^{th}$ level of recursion, the size of the input is $(3/4)^d n$ in expectation. $\\blacksquare$\n"
   ]
  },
  {
   "attachments": {},
   "cell_type": "markdown",
   "metadata": {
    "slideshow": {
     "slide_type": "slide"
    }
   },
   "source": [
    "### Expected Work\n",
    "\n",
    "We've shown that for every pivot, we expect the larger of the two partitions to be $< 3/4n$. \n",
    "\n",
    "Furthermore, we've shown that the expected size of the problem at every level $d$ is $(3/4)^d n$ in expectation.\n"
   ]
  },
  {
   "attachments": {},
   "cell_type": "markdown",
   "metadata": {
    "slideshow": {
     "slide_type": "fragment"
    }
   },
   "source": [
    "\n",
    "Finally, we need to compute the **expected** work. \n"
   ]
  },
  {
   "attachments": {},
   "cell_type": "markdown",
   "metadata": {
    "slideshow": {
     "slide_type": "fragment"
    }
   },
   "source": [
    "\n",
    "This is analogous to the tree method, but using the **expected** size of $n$ at each level.\n"
   ]
  },
  {
   "attachments": {},
   "cell_type": "markdown",
   "metadata": {
    "slideshow": {
     "slide_type": "fragment"
    }
   },
   "source": [
    "\n",
    "$\n",
    "\\begin{align}\n",
    "\\mathbf{E}[W(n)] & \\le \\sum_{i=0}^n \\mathbf{E}[Y_i]~~~~~~~~ \\hbox{since there is linear work at each iteration}\\\\\n",
    "& \\le \\sum_{i=0}^n \\Big(\\frac{3}{4}\\Big)^i n ~~~~~~ \\hbox{by theorem above}\\\\\n",
    "& \\le n\\sum_{i=0}^n \\Big(\\frac{3}{4}\\Big)^i \\\\\n",
    "& \\le 4n ~~~~~~~~~~~~~~~~~~~~ \\hbox{by}~ \\sum_{i=0}^{\\infty}\\alpha^i\\:<\\:\\frac{1}{1\\:-\\:\\alpha}~\\hbox{for}~ \\alpha < 1\\\\\n",
    "& \\in O(n)\n",
    "\\end{align}\n",
    "$\n"
   ]
  },
  {
   "attachments": {},
   "cell_type": "markdown",
   "metadata": {
    "slideshow": {
     "slide_type": "subslide"
    }
   },
   "source": [
    "### Span\n",
    "\n",
    "For the span we can also use the theorem to show that at each level the span is $O(\\log n)$. [By showing that the number of levels is $O(\\log n)$ with high probability](https://www.diderot.one/courses/106/books/426/chapter/5750#atom-429433), we can establish that the span is $O(\\log^2 n)$ with high probability. \n"
   ]
  },
  {
   "attachments": {},
   "cell_type": "markdown",
   "metadata": {
    "slideshow": {
     "slide_type": "slide"
    }
   },
   "source": [
    "## Final Results\n",
    "\n",
    "Finally, we have that by using random pivots to solve the $\\texttt{Selection Problem}$ we achieve the following work and span in expectation:\n",
    "\n",
    "$W(n) \\in O(n)$\n",
    "\n",
    "$S(n) \\in O(\\log^2 n)$\n"
   ]
  }
 ],
 "metadata": {
  "celltoolbar": "Slideshow",
  "kernelspec": {
   "display_name": "Python 3.9.6 64-bit",
   "language": "python",
   "name": "python3"
  },
  "language_info": {
   "codemirror_mode": {
    "name": "ipython",
    "version": 3
   },
   "file_extension": ".py",
   "mimetype": "text/x-python",
   "name": "python",
   "nbconvert_exporter": "python",
   "pygments_lexer": "ipython3",
   "version": "3.9.6"
  },
  "rise": {
   "autolaunch": true,
   "controls": false,
   "enable_chalkboard": true,
   "scroll": true,
   "theme": "simple",
   "transition": "fade"
  },
  "toc": {
   "base_numbering": 1,
   "nav_menu": {},
   "number_sections": true,
   "sideBar": true,
   "skip_h1_title": true,
   "title_cell": "Table of Contents",
   "title_sidebar": "Contents",
   "toc_cell": true,
   "toc_position": {},
   "toc_section_display": true,
   "toc_window_display": false
  },
  "vscode": {
   "interpreter": {
    "hash": "aee8b7b246df8f9039afb4144a1f6fd8d2ca17a180786b69acc140d282b71a49"
   }
  }
 },
 "nbformat": 4,
 "nbformat_minor": 4
}
