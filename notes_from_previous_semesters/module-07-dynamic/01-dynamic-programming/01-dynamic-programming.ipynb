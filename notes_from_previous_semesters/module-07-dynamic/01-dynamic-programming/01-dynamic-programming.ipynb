{
 "cells": [
  {
   "cell_type": "code",
   "execution_count": 277,
   "metadata": {
    "code_folding": [],
    "slideshow": {
     "slide_type": "skip"
    }
   },
   "outputs": [
    {
     "data": {
      "text/html": [
       "<style>.prompt{width: 0px; min-width: 0px; visibility: collapse}</style>"
      ],
      "text/plain": [
       "<IPython.core.display.HTML object>"
      ]
     },
     "metadata": {},
     "output_type": "display_data"
    },
    {
     "data": {
      "text/html": [
       "<style>\n",
       "div#notebook {\n",
       " font-family: \"Exo_2\", sans-serif;\n",
       "}\n",
       "\n",
       ".rendered_html h1,\n",
       ".text_cell_render h1 {\n",
       " color: #126dce;\n",
       " font-size: 220%;\n",
       " text-align: center;\n",
       " font-weight: lighter;\n",
       "}\n",
       ".rendered_html h2,\n",
       ".text_cell_render h2 {\n",
       " text-align: center;\n",
       " font-size: 170%;\n",
       " color: #126dce;\n",
       " font-style: normal;\n",
       " font-weight: lighter;\n",
       "}\n",
       ".rendered_html h3,\n",
       ".text_cell_render h3 {\n",
       " font-size: 150%;\n",
       " color: #126dce;\n",
       " font-weight: lighter;\n",
       " text-decoration: italic;\n",
       " font-style: normal;\n",
       "}\n",
       ".rendered_html h4,\n",
       ".text_cell_render h4 {\n",
       " font-size: 120%;\n",
       " color: #126dce;\n",
       " font-weight: underline;\n",
       " font-style: normal;\n",
       "}\n",
       ".rendered_html h5,\n",
       ".text_cell_render h5 {\n",
       " font-size: 100%;\n",
       " color: #2f2f2f;\n",
       " font-weight: lighter;\n",
       " text-decoration: underline;\n",
       "}\n",
       "</style>\n"
      ],
      "text/plain": [
       "<IPython.core.display.HTML object>"
      ]
     },
     "metadata": {},
     "output_type": "display_data"
    }
   ],
   "source": [
    "# setup\n",
    "from IPython.core.display import display,HTML\n",
    "display(HTML('<style>.prompt{width: 0px; min-width: 0px; visibility: collapse}</style>'))\n",
    "display(HTML(open('rise.css').read()))\n",
    "\n",
    "# imports\n",
    "import numpy as np\n",
    "import matplotlib.pyplot as plt\n",
    "import seaborn as sns\n",
    "%matplotlib inline\n",
    "sns.set(style=\"whitegrid\", font_scale=1.5, rc={'figure.figsize':(12, 6)})\n"
   ]
  },
  {
   "attachments": {},
   "cell_type": "markdown",
   "metadata": {
    "slideshow": {
     "slide_type": "slide"
    }
   },
   "source": [
    "<style>.jp-RenderedHTMLCommon table {\n",
    "  border-collapse: collapse;\n",
    "  border-spacing: 0;\n",
    "  border: none;\n",
    "  color: var(--jp-ui-font-color1);\n",
    "  font-size: 20px;\n",
    "  table-layout: fixed;\n",
    "  margin-left: auto;\n",
    "  margin-right: auto;\n",
    "}</style>\n",
    "\n",
    "# CMPS 2200\n",
    "# Introduction to Algorithms\n",
    "\n",
    "## Dynamic Programming\n"
   ]
  },
  {
   "attachments": {},
   "cell_type": "markdown",
   "metadata": {
    "slideshow": {
     "slide_type": "slide"
    }
   },
   "source": [
    "Agenda:\n",
    "\n",
    "- \"Dynamic Programming\" Paradigm"
   ]
  },
  {
   "attachments": {},
   "cell_type": "markdown",
   "metadata": {
    "slideshow": {
     "slide_type": "slide"
    }
   },
   "source": [
    "So far, we've looked at 3 different paradigms of algorithm design:\n",
    "\n",
    "- Divide and Conquer\n",
    "- Brute Force\n",
    "- Greedy\n",
    "\n",
    "(Randomization can be added to any of these.)\n",
    "\n",
    "Divide and Conquer and Greedy both had a restriction to them in that we always recurse on one or more solutions to *fixed size* subproblems.\n",
    "\n",
    "In certain cases, for example using a greedy approach for the Knapsack Problem, this prevented us from reaching an optimal solution.\n",
    "\n",
    "What if we generalized our approach to consider **all possible** subproblems? This is sort of a hybrid of brute force and Greedy/Divide and Conquer."
   ]
  },
  {
   "attachments": {},
   "cell_type": "markdown",
   "metadata": {
    "slideshow": {
     "slide_type": "slide"
    }
   },
   "source": [
    "### 0-1 Knapsack\n",
    "\n",
    "Suppose there are $n$ objects, each with a *value* $v_i$ and *weight* $w_i$. You have a \"knapsack\" of capacity $W$ and want to fill it with a set of objects $X \\subseteq [n]$ so that $w(X) \\leq W$ and $v(X)$ is maximized. \n",
    "\n",
    "We saw previously that a greedy approach works only if we're allowed to take fractional parts of the objects. The problem was that a greedy approach didn't really take leftover capacity into account. \n",
    "\n",
    "Recall that for greedy algorithms to be correct, we needed to prove that the greedy choice combined with an optimal solution for a smaller subproblem was also optimal (the **optimal substructure** property).\n",
    "\n",
    "Fractional Knapsack had this property, but 0-1 Knapsack did not. Why?\n",
    "\n"
   ]
  },
  {
   "attachments": {},
   "cell_type": "markdown",
   "metadata": {
    "slideshow": {
     "slide_type": "slide"
    }
   },
   "source": [
    "We can give a simple counterexample with 2 objects that have weights/values $(10, 5), (9, 3)$ with $W=5.$\n",
    "\n",
    "|index |value|weight|\n",
    "|------|------|-----|\n",
    "|0     | 10    |5    |\n",
    "|1     | 9     |3    |\n",
    "    \n",
    "The problem is that the greedy choice to maximize value/weight is incorrect because we can have leftover capacity. We really need to look at *all possible* choices of objects and their associated optimal solutions. \n"
   ]
  },
  {
   "attachments": {},
   "cell_type": "markdown",
   "metadata": {
    "slideshow": {
     "slide_type": "subslide"
    }
   },
   "source": [
    "### Exploring Multiple Solutions\n",
    "\n",
    "|index |value|weight|\n",
    "|------|------|-----|\n",
    "|0     | 10    |5    |\n",
    "|1     | 9     |3    |\n",
    "\n",
    "Let $OPT(n, W)$ be an optimal solution to the Knapsack problem for a set of objects $S$ where we are choosing the object at index $n$ and we have a current capacity of $W$.\n",
    "\n"
   ]
  },
  {
   "attachments": {},
   "cell_type": "markdown",
   "metadata": {
    "slideshow": {
     "slide_type": "fragment"
    }
   },
   "source": [
    "<br>\n",
    "\n",
    "Now, we can make the following simple observation: \n",
    "\n",
    "If object $n$ is in the optimal solution, then \n",
    "\n",
    "$OPT(n, W)= \\{n\\} \\cup OPT(n-1, W-w(n)).$ \n",
    "\n",
    "else \n",
    "\n",
    "$OPT(n, W) = OPT(n-1, W)$."
   ]
  },
  {
   "attachments": {},
   "cell_type": "markdown",
   "metadata": {
    "slideshow": {
     "slide_type": "slide"
    }
   },
   "source": [
    "## Optimal Substructure for Knapsack \n",
    "\n",
    "For any set $S$ of $n$ objects and $W>0$, we have\n",
    "\n",
    "$\\begin{align}\n",
    "v(OPT(n, W)) = \\max \\{&v(n) + v(OPT(n-1, W - w(n))), \\\\\n",
    "&v(OPT(n-1, W))\\}\n",
    "\\end{align}$\n",
    "\n",
    "with respect to choosing some object $n$.\n"
   ]
  },
  {
   "attachments": {},
   "cell_type": "markdown",
   "metadata": {
    "slideshow": {
     "slide_type": "fragment"
    }
   },
   "source": [
    "\n",
    "In a way, this really isn't saying much. Put plainly we're just saying that the optimal solution either contains object $n$ or it doesn't.\n",
    "\n"
   ]
  },
  {
   "attachments": {},
   "cell_type": "markdown",
   "metadata": {
    "slideshow": {
     "slide_type": "fragment"
    }
   },
   "source": [
    "Note that our optimal substructure recurrence depends both on the number of objects as well as their weights. "
   ]
  },
  {
   "attachments": {},
   "cell_type": "markdown",
   "metadata": {
    "slideshow": {
     "slide_type": "subslide"
    }
   },
   "source": [
    "\n",
    "From our example:\n",
    "\n",
    "|index |value|weight|\n",
    "|------|------|-----|\n",
    "|0     | 10    |5    |\n",
    "|1     | 9     |3    |\n",
    "\n",
    "For choosing object $1$, we have that:\n",
    "\n",
    "$\\begin{align}\n",
    "v(OPT(1, 5)) &=& \\max\\{v(1) + v(OPT(0, 2)), v(OPT(0, 5))\\} \\\\\n",
    "&=& \\max\\{9, 10\\} \\\\\n",
    "&=& 10. \\\\\n",
    "\\end{align}$\n"
   ]
  },
  {
   "attachments": {},
   "cell_type": "markdown",
   "metadata": {
    "slideshow": {
     "slide_type": "fragment"
    }
   },
   "source": [
    "\n",
    "Does this give us an algorithm?\n"
   ]
  },
  {
   "attachments": {},
   "cell_type": "markdown",
   "metadata": {
    "slideshow": {
     "slide_type": "subslide"
    }
   },
   "source": [
    "\n",
    "$$\\begin{array}{ll}\n",
    "\\mathit{knapsack~~n~~W} = \\\\\n",
    "~~~~~\\mathtt{if}~~~n = 0\\\\\n",
    "~~~~~~~~~~0 \\\\\n",
    "~~~~~\\mathtt{if}~~~n = 1 \\\\\n",
    "~~~~~~~~~~\\mathtt{if}~~~w(1) \\leq W\\\\\n",
    "~~~~~~~~~~~~~~~v(1) \\\\\n",
    "~~~~~~~~~~\\mathtt{else}~~~0 \\\\\n",
    "~~~~~\\mathtt{else} \\\\\n",
    "~~~~~~~~~~\\mathtt{if}~~~w(n) \\geq W\\\\\n",
    "~~~~~~~~~~~~~~~~~~~~\\mathit{knapsack ~~n-1 ~~ W}\\\\\n",
    "~~~~~~~~~~\\mathtt{else}\\\\\n",
    "~~~~~~~~~~~~~~~~~~~~\\max\\{\\mathit{v(i)+knapsack~~n-1~~W-w(n)},~~\\mathit{knapsack~~n-1~~W}\\} \\\\\n",
    "\\end{array}$$\n"
   ]
  },
  {
   "attachments": {},
   "cell_type": "markdown",
   "metadata": {
    "slideshow": {
     "slide_type": "slide"
    }
   },
   "source": [
    "\n",
    "### The recurrence\n",
    "\n",
    "$\\begin{align}\n",
    "v(OPT(n, W)) = \\max \\{&v(n) + v(OPT(n-1, W - w(n))), \\\\\n",
    "&v(OPT(n-1, W))\\}\n",
    "\\end{align}$\n",
    "\n",
    "The number of recursive calls doubles in every recursion. But suppose all items have weight 1, is there a glaring inefficiency we can fix? Let's consider the recursion tree:\n",
    "\n",
    "<img src=\"figures/knapsack_recursion_tree.jpg\" width=\"70%\">\n"
   ]
  },
  {
   "attachments": {},
   "cell_type": "markdown",
   "metadata": {
    "slideshow": {
     "slide_type": "fragment"
    }
   },
   "source": [
    "\n",
    "If we blindly recompute the redundant calls when they are encountered, then we will do $\\Omega(2^n)$ work and $O(n)$ span even if we can take all the items.  \n"
   ]
  },
  {
   "attachments": {},
   "cell_type": "markdown",
   "metadata": {
    "slideshow": {
     "slide_type": "subslide"
    }
   },
   "source": [
    "\n",
    "However, suppose that whenever we need to compute $v(OPT(i, w)$, we compute it once and save the result for later use (e.g., in a suitable data structure) -- this is called *memoization*. Then, we no longer have a binary tree but rather a **directed acyclic graph** or **DAG**.\n",
    "\n",
    "\n",
    "<img src=\"figures/knapsack_recursion_dag.jpg\" width=\"70%\">\n",
    "\n",
    "\n",
    "\n",
    "The number of nodes in this DAG will allow us to determine the work of this algorithm, and the longest path in the DAG will allow us to determine the span. \n"
   ]
  },
  {
   "attachments": {},
   "cell_type": "markdown",
   "metadata": {
    "slideshow": {
     "slide_type": "slide"
    }
   },
   "source": [
    "\n",
    "## Memoization\n",
    "\n",
    "When performing memoization, we can either proceed **top-down** or **bottom-up**:\n",
    "\n",
    "- **top-down**: use recursion as usual, but maintain a hashmap or related data structure to quickly look up solutions previously computed\n",
    "\n",
    "- **bottom-up**: start with solutions to smallest problem instances, then proceed to larger instances. This is typically implemented by filling a table.\n"
   ]
  },
  {
   "attachments": {},
   "cell_type": "markdown",
   "metadata": {
    "slideshow": {
     "slide_type": "slide"
    }
   },
   "source": [
    "## Bottom-up Memoization Example\n",
    "\n",
    "We can use our recurrence to build and fill in a table.\n",
    "\n",
    "$\\begin{align}\n",
    "v(OPT(n, W)) = \\max \\{&v(n) + v(OPT(n-1, W - w(n))), \\\\\n",
    "&v(OPT(n-1, W))\\}\n",
    "\\end{align}$\n"
   ]
  },
  {
   "attachments": {},
   "cell_type": "markdown",
   "metadata": {},
   "source": [
    "<style type=\"text/css\">\n",
    ".tg  {border-collapse:collapse;border-spacing:0;}\n",
    ".tg td{border-color:black;border-style:solid;border-width:1px;font-family:Arial, sans-serif;font-size:14px;\n",
    "  overflow:hidden;padding:4px 10px;word-break:normal;}\n",
    ".tg th{border-color:black;border-style:solid;border-width:1px;font-family:Arial, sans-serif;font-size:14px;\n",
    "  font-weight:normal;overflow:hidden;padding:4px 10px;word-break:normal;}\n",
    ".tg .tg-t6ha{border-color:#000000;font-size:20px;font-weight:bold;text-align:left;vertical-align:top}\n",
    ".tg .tg-on5d{border-color:#ffffff;font-size:20px;text-align:center;vertical-align:middle}\n",
    ".tg .tg-b8y7{border-color:#ffffff;font-size:20px;text-align:center;vertical-align:top}\n",
    ".tg .tg-418g{border-color:#000000;font-size:20px;font-weight:bold;text-align:center;vertical-align:top}\n",
    ".tg .tg-l4pv{border-color:#000000;font-size:20px;text-align:left;vertical-align:top}\n",
    ".tg .tg-4n8x{border-color:#000000;font-size:20px;text-align:center;vertical-align:top}\n",
    "</style>\n",
    "<table class=\"tg\">\n",
    "<thead>\n",
    "  <tr>\n",
    "    <th class=\"tg-b8y7\"></th>\n",
    "    <th class=\"tg-b8y7\" colspan=\"7\">W<br>&nbsp;&nbsp;&nbsp;&nbsp;&nbsp;</th>\n",
    "  </tr>\n",
    "</thead>\n",
    "<tbody>\n",
    "  <tr>\n",
    "    <td class=\"tg-on5d\" rowspan=\"4\">n<br></td>\n",
    "    <td class=\"tg-l4pv\"></td>\n",
    "    <td class=\"tg-418g\">0</td>\n",
    "    <td class=\"tg-418g\">1</td>\n",
    "    <td class=\"tg-418g\">2</td>\n",
    "    <td class=\"tg-418g\">3</td>\n",
    "    <td class=\"tg-418g\">4</td>\n",
    "    <td class=\"tg-418g\">5</td>\n",
    "  </tr>\n",
    "  <tr>\n",
    "    <td class=\"tg-t6ha\">0</td>\n",
    "    <td class=\"tg-4n8x\"></td>\n",
    "    <td class=\"tg-4n8x\"></td>\n",
    "    <td class=\"tg-4n8x\"></td>\n",
    "    <td class=\"tg-4n8x\"></td>\n",
    "    <td class=\"tg-4n8x\"></td>\n",
    "    <td class=\"tg-4n8x\"></td>\n",
    "  </tr>\n",
    "  <tr>\n",
    "    <td class=\"tg-t6ha\">1</td>\n",
    "    <td class=\"tg-4n8x\"></td>\n",
    "    <td class=\"tg-4n8x\"></td>\n",
    "    <td class=\"tg-4n8x\"></td>\n",
    "    <td class=\"tg-4n8x\"></td>\n",
    "    <td class=\"tg-4n8x\"></td>\n",
    "    <td class=\"tg-4n8x\"></td>\n",
    "  </tr>\n",
    "  <tr>\n",
    "    <td class=\"tg-t6ha\">2</td>\n",
    "    <td class=\"tg-4n8x\"></td>\n",
    "    <td class=\"tg-4n8x\"></td>\n",
    "    <td class=\"tg-4n8x\"></td>\n",
    "    <td class=\"tg-4n8x\"></td>\n",
    "    <td class=\"tg-4n8x\"></td>\n",
    "    <td class=\"tg-4n8x\"></td>\n",
    "  </tr>\n",
    "</tbody>\n",
    "</table>"
   ]
  },
  {
   "attachments": {},
   "cell_type": "markdown",
   "metadata": {
    "slideshow": {
     "slide_type": "subslide"
    }
   },
   "source": [
    "\n",
    "|index |value|weight|\n",
    "|------|------|-----|\n",
    "| 0    | 10   | 5   |\n",
    "| 1    | 6    | 3   |\n",
    "| 2    | 7    | 2   |\n",
    "\n",
    "First we fill in item $0$ by simply considering it. For each capacity, can it fit in a bag of that capacity?\n"
   ]
  },
  {
   "attachments": {},
   "cell_type": "markdown",
   "metadata": {
    "slideshow": {
     "slide_type": "fragment"
    }
   },
   "source": [
    "<style type=\"text/css\">\n",
    ".tg  {border-collapse:collapse;border-spacing:0;}\n",
    ".tg td{border-color:black;border-style:solid;border-width:1px;font-family:Arial, sans-serif;font-size:14px;\n",
    "  overflow:hidden;padding:4px 10px;word-break:normal;}\n",
    ".tg th{border-color:black;border-style:solid;border-width:1px;font-family:Arial, sans-serif;font-size:14px;\n",
    "  font-weight:normal;overflow:hidden;padding:4px 10px;word-break:normal;}\n",
    ".tg .tg-t6ha{border-color:#000000;font-size:20px;font-weight:bold;text-align:left;vertical-align:top}\n",
    ".tg .tg-on5d{border-color:#ffffff;font-size:20px;text-align:center;vertical-align:middle}\n",
    ".tg .tg-b8y7{border-color:#ffffff;font-size:20px;text-align:center;vertical-align:top}\n",
    ".tg .tg-418g{border-color:#000000;font-size:20px;font-weight:bold;text-align:center;vertical-align:top}\n",
    ".tg .tg-l4pv{border-color:#000000;font-size:20px;text-align:left;vertical-align:top}\n",
    ".tg .tg-4n8x{border-color:#000000;font-size:20px;text-align:center;vertical-align:top}\n",
    "</style>\n",
    "<table class=\"tg\">\n",
    "<thead>\n",
    "  <tr>\n",
    "    <th class=\"tg-b8y7\"></th>\n",
    "    <th class=\"tg-b8y7\" colspan=\"7\">W<br>&nbsp;&nbsp;&nbsp;&nbsp;&nbsp;</th>\n",
    "  </tr>\n",
    "</thead>\n",
    "<tbody>\n",
    "  <tr>\n",
    "    <td class=\"tg-on5d\" rowspan=\"4\">n<br></td>\n",
    "    <td class=\"tg-l4pv\"></td>\n",
    "    <td class=\"tg-418g\">0</td>\n",
    "    <td class=\"tg-418g\">1</td>\n",
    "    <td class=\"tg-418g\">2</td>\n",
    "    <td class=\"tg-418g\">3</td>\n",
    "    <td class=\"tg-418g\">4</td>\n",
    "    <td class=\"tg-418g\">5</td>\n",
    "  </tr>\n",
    "  <tr>\n",
    "    <td class=\"tg-t6ha\">0</td>\n",
    "    <td class=\"tg-4n8x\">0</td>\n",
    "    <td class=\"tg-4n8x\">0</td>\n",
    "    <td class=\"tg-4n8x\">0</td>\n",
    "    <td class=\"tg-4n8x\">0</td>\n",
    "    <td class=\"tg-4n8x\">0</td>\n",
    "    <td class=\"tg-4n8x\">10<br></td>\n",
    "  </tr>\n",
    "  <tr>\n",
    "    <td class=\"tg-t6ha\">1</td>\n",
    "    <td class=\"tg-4n8x\"></td>\n",
    "    <td class=\"tg-4n8x\"></td>\n",
    "    <td class=\"tg-4n8x\"></td>\n",
    "    <td class=\"tg-4n8x\"></td>\n",
    "    <td class=\"tg-4n8x\"></td>\n",
    "    <td class=\"tg-4n8x\"></td>\n",
    "  </tr>\n",
    "  <tr>\n",
    "    <td class=\"tg-t6ha\">2</td>\n",
    "    <td class=\"tg-4n8x\"></td>\n",
    "    <td class=\"tg-4n8x\"></td>\n",
    "    <td class=\"tg-4n8x\"></td>\n",
    "    <td class=\"tg-4n8x\"></td>\n",
    "    <td class=\"tg-4n8x\"></td>\n",
    "    <td class=\"tg-4n8x\"></td>\n",
    "  </tr>\n",
    "</tbody>\n",
    "</table>"
   ]
  },
  {
   "attachments": {},
   "cell_type": "markdown",
   "metadata": {
    "slideshow": {
     "slide_type": "subslide"
    }
   },
   "source": [
    "Then we use the recurrence to fill in the following rows."
   ]
  },
  {
   "attachments": {},
   "cell_type": "markdown",
   "metadata": {},
   "source": [
    "$\\begin{align}\n",
    "v(OPT(n, W)) = \\max \\{&v(n) + v(OPT(n-1, W - w(n))), \\\\\n",
    "&v(OPT(n-1, W))\\}\n",
    "\\end{align}$\n",
    "\n",
    "|index |value|weight|\n",
    "|------|------|-----|\n",
    "| 0    | 10   | 5   |\n",
    "| 1    | 6    | 3   |\n",
    "| 2    | 7    | 2   |\n"
   ]
  },
  {
   "attachments": {},
   "cell_type": "markdown",
   "metadata": {
    "slideshow": {
     "slide_type": "fragment"
    }
   },
   "source": [
    "<style type=\"text/css\">\n",
    ".tg  {border-collapse:collapse;border-spacing:0;}\n",
    ".tg td{border-color:black;border-style:solid;border-width:1px;font-family:Arial, sans-serif;font-size:14px;\n",
    "  overflow:hidden;padding:4px 10px;word-break:normal;}\n",
    ".tg th{border-color:black;border-style:solid;border-width:1px;font-family:Arial, sans-serif;font-size:14px;\n",
    "  font-weight:normal;overflow:hidden;padding:4px 10px;word-break:normal;}\n",
    ".tg .tg-t6ha{border-color:#000000;font-size:20px;font-weight:bold;text-align:left;vertical-align:top}\n",
    ".tg .tg-on5d{border-color:#ffffff;font-size:20px;text-align:center;vertical-align:middle}\n",
    ".tg .tg-b8y7{border-color:#ffffff;font-size:20px;text-align:center;vertical-align:top}\n",
    ".tg .tg-418g{border-color:#000000;font-size:20px;font-weight:bold;text-align:center;vertical-align:top}\n",
    ".tg .tg-l4pv{border-color:#000000;font-size:20px;text-align:left;vertical-align:top}\n",
    ".tg .tg-4n8x{border-color:#000000;font-size:20px;text-align:center;vertical-align:top}\n",
    "</style>\n",
    "<table class=\"tg\">\n",
    "<thead>\n",
    "  <tr>\n",
    "    <th class=\"tg-b8y7\"></th>\n",
    "    <th class=\"tg-b8y7\" colspan=\"7\">W<br>&nbsp;&nbsp;&nbsp;&nbsp;&nbsp;</th>\n",
    "  </tr>\n",
    "</thead>\n",
    "<tbody>\n",
    "  <tr>\n",
    "    <td class=\"tg-on5d\" rowspan=\"4\">n<br></td>\n",
    "    <td class=\"tg-l4pv\"></td>\n",
    "    <td class=\"tg-418g\">0</td>\n",
    "    <td class=\"tg-418g\">1</td>\n",
    "    <td class=\"tg-418g\">2</td>\n",
    "    <td class=\"tg-418g\">3</td>\n",
    "    <td class=\"tg-418g\">4</td>\n",
    "    <td class=\"tg-418g\">5</td>\n",
    "  </tr>\n",
    "  <tr>\n",
    "    <td class=\"tg-t6ha\">0</td>\n",
    "    <td class=\"tg-418g\">0</td>\n",
    "    <td class=\"tg-4n8x\">0</td>\n",
    "    <td class=\"tg-4n8x\">0</td>\n",
    "    <td class=\"tg-418g\">0</td>\n",
    "    <td class=\"tg-4n8x\">0</td>\n",
    "    <td class=\"tg-4n8x\">10<br></td>\n",
    "  </tr>\n",
    "  <tr>\n",
    "    <td class=\"tg-t6ha\">1</td>\n",
    "    <td class=\"tg-4n8x\">0</td>\n",
    "    <td class=\"tg-4n8x\">0</td>\n",
    "    <td class=\"tg-4n8x\">0</td>\n",
    "    <td class=\"tg-418g\">6</td>\n",
    "    <td class=\"tg-4n8x\"></td>\n",
    "    <td class=\"tg-4n8x\"></td>\n",
    "  </tr>\n",
    "  <tr>\n",
    "    <td class=\"tg-t6ha\">2</td>\n",
    "    <td class=\"tg-4n8x\"></td>\n",
    "    <td class=\"tg-4n8x\"></td>\n",
    "    <td class=\"tg-4n8x\"></td>\n",
    "    <td class=\"tg-4n8x\"></td>\n",
    "    <td class=\"tg-4n8x\"></td>\n",
    "    <td class=\"tg-4n8x\"></td>\n",
    "  </tr>\n",
    "</tbody>\n",
    "</table>"
   ]
  },
  {
   "attachments": {},
   "cell_type": "markdown",
   "metadata": {
    "slideshow": {
     "slide_type": "fragment"
    }
   },
   "source": [
    "$\\begin{align}\n",
    "v(OPT(1, 3)) = \\max \\{6 + &v(OPT(0, 3-3)),\\\\ \n",
    "&v(OPT(0, 3)) \\}\n",
    "\\end{align}$"
   ]
  },
  {
   "attachments": {},
   "cell_type": "markdown",
   "metadata": {
    "slideshow": {
     "slide_type": "subslide"
    }
   },
   "source": [
    "|index |value|weight|\n",
    "|------|------|-----|\n",
    "| 0    | 10   | 5   |\n",
    "| 1    | 6    | 3   |\n",
    "| 2    | 7    | 2   |\n"
   ]
  },
  {
   "attachments": {},
   "cell_type": "markdown",
   "metadata": {},
   "source": [
    "<style type=\"text/css\">\n",
    ".tg  {border-collapse:collapse;border-spacing:0;}\n",
    ".tg td{border-color:black;border-style:solid;border-width:1px;font-family:Arial, sans-serif;font-size:14px;\n",
    "  overflow:hidden;padding:4px 10px;word-break:normal;}\n",
    ".tg th{border-color:black;border-style:solid;border-width:1px;font-family:Arial, sans-serif;font-size:14px;\n",
    "  font-weight:normal;overflow:hidden;padding:4px 10px;word-break:normal;}\n",
    ".tg .tg-t6ha{border-color:#000000;font-size:20px;font-weight:bold;text-align:left;vertical-align:top}\n",
    ".tg .tg-on5d{border-color:#ffffff;font-size:20px;text-align:center;vertical-align:middle}\n",
    ".tg .tg-b8y7{border-color:#ffffff;font-size:20px;text-align:center;vertical-align:top}\n",
    ".tg .tg-418g{border-color:#000000;font-size:20px;font-weight:bold;text-align:center;vertical-align:top}\n",
    ".tg .tg-l4pv{border-color:#000000;font-size:20px;text-align:left;vertical-align:top}\n",
    ".tg .tg-4n8x{border-color:#000000;font-size:20px;text-align:center;vertical-align:top}\n",
    "</style>\n",
    "<table class=\"tg\">\n",
    "<thead>\n",
    "  <tr>\n",
    "    <th class=\"tg-b8y7\"></th>\n",
    "    <th class=\"tg-b8y7\" colspan=\"7\">W<br>&nbsp;&nbsp;&nbsp;&nbsp;&nbsp;</th>\n",
    "  </tr>\n",
    "</thead>\n",
    "<tbody>\n",
    "  <tr>\n",
    "    <td class=\"tg-on5d\" rowspan=\"4\">n<br></td>\n",
    "    <td class=\"tg-l4pv\"></td>\n",
    "    <td class=\"tg-418g\">0</td>\n",
    "    <td class=\"tg-418g\">1</td>\n",
    "    <td class=\"tg-418g\">2</td>\n",
    "    <td class=\"tg-418g\">3</td>\n",
    "    <td class=\"tg-418g\">4</td>\n",
    "    <td class=\"tg-418g\">5</td>\n",
    "  </tr>\n",
    "  <tr>\n",
    "    <td class=\"tg-t6ha\">0</td>\n",
    "    <td class=\"tg-4n8x\">0</td>\n",
    "    <td class=\"tg-4n8x\">0</td>\n",
    "    <td class=\"tg-418g\">0</td>\n",
    "    <td class=\"tg-4n8x\">0</td>\n",
    "    <td class=\"tg-4n8x\">0</td>\n",
    "    <td class=\"tg-418g\">10<br></td>\n",
    "  </tr>\n",
    "  <tr>\n",
    "    <td class=\"tg-t6ha\">1</td>\n",
    "    <td class=\"tg-4n8x\">0</td>\n",
    "    <td class=\"tg-4n8x\">0</td>\n",
    "    <td class=\"tg-4n8x\">0</td>\n",
    "    <td class=\"tg-4n8x\">6</td>\n",
    "    <td class=\"tg-4n8x\">6</td>\n",
    "    <td class=\"tg-418g\">10</td>\n",
    "  </tr>\n",
    "  <tr>\n",
    "    <td class=\"tg-t6ha\">2</td>\n",
    "    <td class=\"tg-4n8x\"></td>\n",
    "    <td class=\"tg-4n8x\"></td>\n",
    "    <td class=\"tg-4n8x\"></td>\n",
    "    <td class=\"tg-4n8x\"></td>\n",
    "    <td class=\"tg-4n8x\"></td>\n",
    "    <td class=\"tg-4n8x\"></td>\n",
    "  </tr>\n",
    "</tbody>\n",
    "</table>"
   ]
  },
  {
   "attachments": {},
   "cell_type": "markdown",
   "metadata": {
    "slideshow": {
     "slide_type": "fragment"
    }
   },
   "source": [
    "$\\begin{align}\n",
    "v(OPT(1, 5)) = \\max \\{6 + &v(OPT(0, 5-3)),\\\\ \n",
    "&v(OPT(0, 5)) \\}\n",
    "\\end{align}$\n"
   ]
  },
  {
   "attachments": {},
   "cell_type": "markdown",
   "metadata": {
    "slideshow": {
     "slide_type": "fragment"
    }
   },
   "source": [
    "\n",
    "$\\begin{align}\n",
    "v(OPT(1, 5)) = \\max \\{6 + 0, 10 \\} = 10\n",
    "\\end{align}$"
   ]
  },
  {
   "attachments": {},
   "cell_type": "markdown",
   "metadata": {
    "slideshow": {
     "slide_type": "subslide"
    }
   },
   "source": [
    "|index |value|weight|\n",
    "|------|------|-----|\n",
    "| 0    | 10   | 5   |\n",
    "| 1    | 6    | 3   |\n",
    "| 2    | 7    | 2   |\n"
   ]
  },
  {
   "attachments": {},
   "cell_type": "markdown",
   "metadata": {},
   "source": [
    "<style type=\"text/css\">\n",
    ".tg  {border-collapse:collapse;border-spacing:0;}\n",
    ".tg td{border-color:black;border-style:solid;border-width:1px;font-family:Arial, sans-serif;font-size:14px;\n",
    "  overflow:hidden;padding:4px 10px;word-break:normal;}\n",
    ".tg th{border-color:black;border-style:solid;border-width:1px;font-family:Arial, sans-serif;font-size:14px;\n",
    "  font-weight:normal;overflow:hidden;padding:4px 10px;word-break:normal;}\n",
    ".tg .tg-t6ha{border-color:#000000;font-size:20px;font-weight:bold;text-align:left;vertical-align:top}\n",
    ".tg .tg-on5d{border-color:#ffffff;font-size:20px;text-align:center;vertical-align:middle}\n",
    ".tg .tg-b8y7{border-color:#ffffff;font-size:20px;text-align:center;vertical-align:top}\n",
    ".tg .tg-418g{border-color:#000000;font-size:20px;font-weight:bold;text-align:center;vertical-align:top}\n",
    ".tg .tg-l4pv{border-color:#000000;font-size:20px;text-align:left;vertical-align:top}\n",
    ".tg .tg-4n8x{border-color:#000000;font-size:20px;text-align:center;vertical-align:top}\n",
    "</style>\n",
    "<table class=\"tg\">\n",
    "<thead>\n",
    "  <tr>\n",
    "    <th class=\"tg-b8y7\"></th>\n",
    "    <th class=\"tg-b8y7\" colspan=\"7\">W<br>&nbsp;&nbsp;&nbsp;&nbsp;&nbsp;</th>\n",
    "  </tr>\n",
    "</thead>\n",
    "<tbody>\n",
    "  <tr>\n",
    "    <td class=\"tg-on5d\" rowspan=\"4\">n<br></td>\n",
    "    <td class=\"tg-l4pv\"></td>\n",
    "    <td class=\"tg-418g\">0</td>\n",
    "    <td class=\"tg-418g\">1</td>\n",
    "    <td class=\"tg-418g\">2</td>\n",
    "    <td class=\"tg-418g\">3</td>\n",
    "    <td class=\"tg-418g\">4</td>\n",
    "    <td class=\"tg-418g\">5</td>\n",
    "  </tr>\n",
    "  <tr>\n",
    "    <td class=\"tg-t6ha\">0</td>\n",
    "    <td class=\"tg-4n8x\">0</td>\n",
    "    <td class=\"tg-4n8x\">0</td>\n",
    "    <td class=\"tg-4n8x\">0</td>\n",
    "    <td class=\"tg-4n8x\">0</td>\n",
    "    <td class=\"tg-4n8x\">0</td>\n",
    "    <td class=\"tg-4n8x\">10<br></td>\n",
    "  </tr>\n",
    "  <tr>\n",
    "    <td class=\"tg-t6ha\">1</td>\n",
    "    <td class=\"tg-4n8x\">0</td>\n",
    "    <td class=\"tg-4n8x\">0</td>\n",
    "    <td class=\"tg-4n8x\">0</td>\n",
    "    <td class=\"tg-418g\">6</td>\n",
    "    <td class=\"tg-4n8x\">6</td>\n",
    "    <td class=\"tg-418g\">10</td>\n",
    "  </tr>\n",
    "  <tr>\n",
    "    <td class=\"tg-t6ha\">2</td>\n",
    "    <td class=\"tg-4n8x\">0</td>\n",
    "    <td class=\"tg-4n8x\">0</td>\n",
    "    <td class=\"tg-4n8x\">7</td>\n",
    "    <td class=\"tg-4n8x\">7</td>\n",
    "    <td class=\"tg-4n8x\">7</td>\n",
    "    <td class=\"tg-418g\">13</td>\n",
    "  </tr>\n",
    "</tbody>\n",
    "</table>"
   ]
  },
  {
   "attachments": {},
   "cell_type": "markdown",
   "metadata": {
    "slideshow": {
     "slide_type": "fragment"
    }
   },
   "source": [
    "$\\begin{align}\n",
    "v(OPT(2, 5)) = \\max \\{7 + &v(OPT(1, 5-2)),\\\\ \n",
    "&v(OPT(1, 5)) \\}\n",
    "\\end{align}$\n"
   ]
  },
  {
   "attachments": {},
   "cell_type": "markdown",
   "metadata": {
    "slideshow": {
     "slide_type": "fragment"
    }
   },
   "source": [
    "\n",
    "$\\begin{align}\n",
    "v(OPT(2, 5)) = \\max \\{7 + 6, 10 \\} = 13\n",
    "\\end{align}$"
   ]
  },
  {
   "cell_type": "code",
   "execution_count": 1,
   "metadata": {
    "slideshow": {
     "slide_type": "slide"
    }
   },
   "outputs": [],
   "source": [
    "import random\n",
    "\n",
    "def recursive_knapsack(objects, i, W):\n",
    "    v, w = objects[i]\n",
    "    if (i == 0):\n",
    "        if (w <= W):\n",
    "            return(v)\n",
    "        else:\n",
    "            return(0)\n",
    "    else:\n",
    "        if (w <= W):\n",
    "            take = v + recursive_knapsack(objects, i-1, max(W-w, 0))\n",
    "            dont_take = recursive_knapsack(objects, i-1, W)\n",
    "            return(max(take, dont_take))\n",
    "        elif (W == 0):\n",
    "            return(0)\n",
    "        else:\n",
    "            return(recursive_knapsack(objects, i-1, W))\n"
   ]
  },
  {
   "cell_type": "code",
   "execution_count": 2,
   "metadata": {
    "slideshow": {
     "slide_type": "subslide"
    }
   },
   "outputs": [
    {
     "name": "stdout",
     "output_type": "stream",
     "text": [
      "[[0, 0, 0, 0, 0, 10], [0, 0, 0, 6, 6, 10], [0, 0, 7, 7, 7, 13]]\n",
      "13\n"
     ]
    }
   ],
   "source": [
    "\n",
    "def tabular_knapsack(objects, W):\n",
    "    n = len(objects)\n",
    "    # we'll rely on indices to also represent weights, so we'll index from 1...W \n",
    "    # in the weight dimension of the table\n",
    "    OPT = [[0]*(W+1)]\n",
    "    \n",
    "    # initialize the first row of the table\n",
    "    for w in range(W+1):\n",
    "        if (objects[0][1] <= w):\n",
    "            OPT[0][w] = objects[0][0]\n",
    "        else:\n",
    "            OPT[0][w] = 0\n",
    "    \n",
    "    # use the optimal substructure property to compute increasingly larger solutions\n",
    "    for i in range(1,n):\n",
    "        OPT.append([0]*(W+1))\n",
    "        v_i, w_i = objects[i]\n",
    "        for w in range(W+1):\n",
    "            if (w_i <= w):\n",
    "                OPT[i][w] = max(v_i + OPT[i-1][w-w_i], OPT[i-1][w])\n",
    "            else:\n",
    "                OPT[i][w] = OPT[i-1][w]\n",
    "               \n",
    "    print(OPT)\n",
    "    return(OPT[n-1][W])\n",
    "\n",
    "W = 5\n",
    "objects = [(10,5), (6,3), (7,2)]\n",
    "print(tabular_knapsack(objects, W))\n",
    "\n"
   ]
  },
  {
   "cell_type": "code",
   "execution_count": null,
   "metadata": {
    "slideshow": {
     "slide_type": "skip"
    }
   },
   "outputs": [],
   "source": [
    "#print(recursive_knapsack(objects, len(objects)-1, W))\n",
    "\n",
    "#W = 5\n",
    "#objects = [(10, 5), (9, 3)]\n",
    "#n = len(objects)-1\n",
    "#print(recursive_knapsack(objects.copy(), n, W))\n",
    "#print(tabular_knapsack(objects.copy(), W))\n",
    "\n",
    "\n",
    "#W = 1000\n",
    "#objects = [(i, i) for i in range(1, 500000)]\n",
    "#n = len(objects)-1\n",
    "#print(recursive_knapsack(objects, n, W))\n",
    "#print(tabular_knapsack(objects, W))\n"
   ]
  },
  {
   "attachments": {},
   "cell_type": "markdown",
   "metadata": {
    "slideshow": {
     "slide_type": "skip"
    }
   },
   "source": [
    "There are at most $O(nW)$ nodes in this DAG, and the longest path is $O(n)$. Each node requires $O(1)$ work/span, so the work is $O(nW)$ and the span is $O(n)$. Is this efficient?\n",
    "\n",
    "Well, not really. We need exponential time in the input size of $W$. We get only $\\log_2 W$ bits as input, but take time proportional to $W$. \n",
    "\n",
    "This isn't completely satisfying, but if it makes you feel better we do not know of any efficient algorithm for the 0-1 Knapsack problem (more on this at the end of the semester). "
   ]
  },
  {
   "attachments": {},
   "cell_type": "markdown",
   "metadata": {
    "slideshow": {
     "slide_type": "slide"
    }
   },
   "source": [
    "### Elements of Dynamic Programming\n",
    "\n",
    "This is what we call **dynamic programming**. The elements of a dynamic programming algorithm are:\n",
    "\n",
    "- Optimal Substructure\n",
    "- Recursion DAG\n"
   ]
  },
  {
   "attachments": {},
   "cell_type": "markdown",
   "metadata": {
    "slideshow": {
     "slide_type": "fragment"
    }
   },
   "source": [
    "\n",
    "The correctness of the dynamic programming approach follows from the optimal substructure property (i.e., induction). If we can prove that the optimal substructure property holds, and that we compute a solution by correctly implementing this property then our solution is optimal.\n"
   ]
  },
  {
   "attachments": {},
   "cell_type": "markdown",
   "metadata": {
    "slideshow": {
     "slide_type": "fragment"
    }
   },
   "source": [
    "\n",
    "As with divide and conquer algorithms, achieving a good work/span can be tricky. We can minimize redundant computation by memoizing solutions to all subproblems, which we can do: \n",
    "\n",
    "- *top-down* by saving the result of a recursive call the first time we encounter it. \n",
    "\n",
    "- *bottom-up* by filling in a table using the recurrence as a guide.\n"
   ]
  },
  {
   "attachments": {},
   "cell_type": "markdown",
   "metadata": {
    "slideshow": {
     "slide_type": "skip"
    }
   },
   "source": [
    "\n",
    "Can we derive the number of nodes in the DAG using the optimal substructure property?\n"
   ]
  },
  {
   "attachments": {},
   "cell_type": "markdown",
   "metadata": {
    "slideshow": {
     "slide_type": "slide"
    }
   },
   "source": [
    "### Work and Span in Dynamic Programming\n",
    "\n",
    "Since we memoize the solution to every distinct subproblem, the number of nodes in the DAG is equal to the number of distinct subproblems considered, that is, the number of cells in the table.. \n",
    "\n",
    "There are at most $O(nW)$ nodes in the table, and the longest path in the DAG is $O(n)$. \n",
    "\n",
    "The longest path in the DAG represents the span of our dynamic programming algorithm.\n",
    "\n",
    "Each node requires $O(1)$ work/span, so the work is $O(nW)$ and the span is $O(n)$."
   ]
  },
  {
   "attachments": {},
   "cell_type": "markdown",
   "metadata": {
    "slideshow": {
     "slide_type": "slide"
    }
   },
   "source": [
    "### Why \"Dynamic Programming\"?\n",
    "\n",
    "The mathematician Richard Bellman coined the term [\"dynamic programming\"](https://en.wikipedia.org/wiki/Dynamic_programming) to describe the recursive approach we just showed. The optimal substructure property is sometimes referred to as a \"Bellman equation.\" But why did he call it dynamic programming?\n",
    "\n",
    "There is some [folklore](https://en.wikipedia.org/wiki/Dynamic_programming#History) around the exact reason. But it could possibly be because \"dynamic\" is a really dramatic way to describe the search weaving through the DAG. The term \"programming\" was used in the field of optimization in the 1950s to describe an optimization approach (e.g., linear programming, quadratic programming, mathematical programming). \n",
    "\n"
   ]
  }
 ],
 "metadata": {
  "celltoolbar": "Slideshow",
  "kernelspec": {
   "display_name": "Python 3.9.6 64-bit",
   "language": "python",
   "name": "python3"
  },
  "language_info": {
   "codemirror_mode": {
    "name": "ipython",
    "version": 3
   },
   "file_extension": ".py",
   "mimetype": "text/x-python",
   "name": "python",
   "nbconvert_exporter": "python",
   "pygments_lexer": "ipython3",
   "version": "3.9.6"
  },
  "rise": {
   "autolaunch": true,
   "controls": false,
   "enable_chalkboard": true,
   "scroll": true,
   "theme": "simple",
   "transition": "fade"
  },
  "toc": {
   "base_numbering": 1,
   "nav_menu": {},
   "number_sections": true,
   "sideBar": true,
   "skip_h1_title": true,
   "title_cell": "Table of Contents",
   "title_sidebar": "Contents",
   "toc_cell": true,
   "toc_position": {},
   "toc_section_display": true,
   "toc_window_display": false
  },
  "vscode": {
   "interpreter": {
    "hash": "aee8b7b246df8f9039afb4144a1f6fd8d2ca17a180786b69acc140d282b71a49"
   }
  }
 },
 "nbformat": 4,
 "nbformat_minor": 4
}
