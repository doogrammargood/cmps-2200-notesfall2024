{
 "cells": [
  {
   "cell_type": "code",
   "execution_count": null,
   "metadata": {},
   "outputs": [],
   "source": [
    "# setup\n",
    "from IPython.core.display import display,HTML\n",
    "display(HTML('<style>.prompt{width: 0px; min-width: 0px; visibility: collapse}</style>'))\n",
    "display(HTML(open('../rise.css').read()))\n",
    "\n",
    "# imports\n",
    "import numpy as np\n",
    "import matplotlib.pyplot as plt\n",
    "import seaborn as sns\n",
    "%matplotlib inline\n",
    "sns.set(style=\"whitegrid\", font_scale=1.5, rc={'figure.figsize':(12, 6)})\n"
   ]
  },
  {
   "cell_type": "markdown",
   "metadata": {},
   "source": [
    "<h1>Enter the Matroid: Spanning Trees</h1>\n",
    "\n",
    "<h3>Last Time</h3>\n",
    "We started discussing greedy algorithms. I mentioned that there is a general (but not all-encompassing) framework for understanding them in terms of greedoids/matroids.\n",
    "\n",
    "<h3>This Time</h3>\n",
    "We will introduce Matroids and see a first example: Spanning Trees. This example demonstrates how matroids are related to greedy algorithms. Matroids generalize linear independence of vectors and spanning trees of graphs. Greedoids generalize matroids and can be used to understand the behavior of many greedy algorithms, such as Dijkstra's algorithm."
   ]
  },
  {
   "cell_type": "markdown",
   "metadata": {},
   "source": [
    "<h3>Matroids</h3>\n",
    "\n",
    "Matroids generalize linear independent sets and spanning trees.\n",
    "\n",
    "Linear Independence:\n",
    "- Let $\\mathcal{M}$ be a set of vectors. For example, $\\mathcal{M}=\\{(0,1,1), (1,0,0), (1,1,1), (2,0,0)\\}$\n",
    "- The set is linearly independent if no vector in the set can be written as a linear combination of the other vectors in the set. For example, $\\{(0,1,1),(1,1,0)\\}$ is linearly independent but $\\{(0,1,1),(1,1,0),(1,1,1)\\}$ is not."
   ]
  }
 ],
 "metadata": {
  "language_info": {
   "name": "python"
  }
 },
 "nbformat": 4,
 "nbformat_minor": 2
}
