{
 "cells": [
  {
   "cell_type": "code",
   "execution_count": null,
   "metadata": {
    "code_folding": [],
    "slideshow": {
     "slide_type": "skip"
    }
   },
   "outputs": [],
   "source": [
    "# setup\n",
    "from IPython.core.display import display,HTML\n",
    "display(HTML('<style>.prompt{width: 0px; min-width: 0px; visibility: collapse}</style>'))\n",
    "display(HTML(open('../rise.css').read()))\n",
    "\n",
    "# imports\n",
    "import numpy as np\n",
    "import matplotlib.pyplot as plt\n",
    "import seaborn as sns\n",
    "%matplotlib inline\n",
    "sns.set(style=\"whitegrid\", font_scale=1.5, rc={'figure.figsize':(12, 6)})\n"
   ]
  },
  {
   "attachments": {},
   "cell_type": "markdown",
   "metadata": {
    "slideshow": {
     "slide_type": "slide"
    }
   },
   "source": [
    "# CMPS 2200\n",
    "# Introduction to Algorithms\n",
    "\n",
    "## Spanning Trees\n"
   ]
  },
  {
   "attachments": {},
   "cell_type": "markdown",
   "metadata": {
    "slideshow": {
     "slide_type": "slide"
    }
   },
   "source": [
    "Agenda\n",
    "\n",
    "- Introduce spanning trees and Prim's Algorithm"
   ]
  },
  {
   "attachments": {},
   "cell_type": "markdown",
   "metadata": {
    "slideshow": {
     "slide_type": "slide"
    }
   },
   "source": [
    "Recall breadth-first search. Starting from vertex $s$, what order will the vertices be visited in this graph?\n",
    "\n",
    "<center>\n",
    "<img src=\"../figures/st0.png\"/>\n",
    "</center>"
   ]
  },
  {
   "attachments": {},
   "cell_type": "markdown",
   "metadata": {
    "slideshow": {
     "slide_type": "subslide"
    }
   },
   "source": [
    "<center>\n",
    "<img src=\"../figures/st1.png\"/>\n",
    "</center>\n",
    "\n"
   ]
  },
  {
   "attachments": {},
   "cell_type": "markdown",
   "metadata": {
    "slideshow": {
     "slide_type": "subslide"
    }
   },
   "source": [
    "\n",
    "\n",
    "Because we avoid revisiting nodes, we can view the edges we visit as a tree.\n",
    "\n",
    "```python\n",
    "for n in graph[node]:\n",
    "    if n not in visited:\n",
    "        frontier.append(n)\n",
    "```\n",
    "\n",
    "<center>\n",
    "<img src=\"../figures/st2.png\"  width=\"50%\"/>\n",
    "</center>\n",
    "\n",
    "<br>\n"
   ]
  },
  {
   "attachments": {},
   "cell_type": "markdown",
   "metadata": {
    "slideshow": {
     "slide_type": "fragment"
    }
   },
   "source": [
    "\n",
    "This tree includes all vertices. We call this a **spanning tree**.\n",
    "\n",
    "> For a connected undirected graph $G = (V,E)$, a **spanning tree** is a tree $T = (V,E')$ with $E' \\subseteq E$\n"
   ]
  },
  {
   "attachments": {},
   "cell_type": "markdown",
   "metadata": {
    "slideshow": {
     "slide_type": "slide"
    }
   },
   "source": [
    "## Finding spanning trees\n",
    "\n",
    "What are some algorithms we can use to find a spanning tree of a graph?"
   ]
  },
  {
   "attachments": {},
   "cell_type": "markdown",
   "metadata": {
    "slideshow": {
     "slide_type": "fragment"
    }
   },
   "source": [
    "BFS and DFS can both be used. \n",
    "\n",
    "They have the work, though BFS can have better span: $O(d \\lg^2 n)$, where $d$ is the **diameter** of the graph.\n",
    "\n",
    "> The **diameter** of a graph is the length of the shortest path between the most distant vertices.\n",
    "\n"
   ]
  },
  {
   "attachments": {},
   "cell_type": "markdown",
   "metadata": {
    "slideshow": {
     "slide_type": "slide"
    }
   },
   "source": [
    "## Weighted spanning trees\n",
    "\n",
    "Now, suppose we have a weighted graph:\n",
    "\n",
    "<center>\n",
    "<img src=\"../figures/st3.png\" width=\"50%\"/>\n",
    "</center>\n"
   ]
  },
  {
   "attachments": {},
   "cell_type": "markdown",
   "metadata": {
    "slideshow": {
     "slide_type": "fragment"
    }
   },
   "source": [
    "\n",
    "We refer to the **weight** of a tree $T$ with edges $E(T)$ as:\n",
    "\n",
    "$$w(T) = \\sum_{e \\in E(T)} w(e)$$\n"
   ]
  },
  {
   "attachments": {},
   "cell_type": "markdown",
   "metadata": {
    "slideshow": {
     "slide_type": "fragment"
    }
   },
   "source": [
    "\n",
    "Is there a smaller tree in this graph?"
   ]
  },
  {
   "attachments": {},
   "cell_type": "markdown",
   "metadata": {
    "slideshow": {
     "slide_type": "subslide"
    }
   },
   "source": [
    "<center>\n",
    "<img src=\"../figures/st4.png\"/>\n",
    "</center>\n",
    "\n",
    "This is called the **minimum spanning tree (MST)**  of the graph.\n"
   ]
  },
  {
   "attachments": {},
   "cell_type": "markdown",
   "metadata": {
    "slideshow": {
     "slide_type": "slide"
    }
   },
   "source": [
    "## Applications of MSTs\n",
    "\n",
    "What are some applications where we might want to find the MST?"
   ]
  },
  {
   "attachments": {},
   "cell_type": "markdown",
   "metadata": {
    "slideshow": {
     "slide_type": "fragment"
    }
   },
   "source": [
    "- Power grid\n",
    "  - minimize cost\n",
    "- Transportation networks\n",
    "  - build bridges between towns\n",
    "  - minimize building cost\n",
    "- Computer networks\n",
    "  - Cycle free routing\n",
    "  "
   ]
  },
  {
   "attachments": {},
   "cell_type": "markdown",
   "metadata": {
    "slideshow": {
     "slide_type": "slide"
    }
   },
   "source": [
    "## History of MSTs\n",
    "\n",
    "Otakar Borůvka first identified and solved this problem in 1926 to build an efficient electricity network in (present day) Czech Republic.\n",
    "\n",
    "> \"Soon after the end of World War I, at the beginning of the 1920s, the Electric Power Company of Western Moravia, Brno, was engaged in rural electrification of Southern Moravia. In the framework of my friendly relations with some of their employees, I was asked to solve, from a mathematical standpoint, the question of the most economical construction of an electric power network. I succeeded in finding a construction -- as it would be expressed today -- of a maximal connected subgraph of minimum length, which I published in 1926 (i.e., at a time when the theory of graphs did not exist).\"\n",
    "> - [On the History of the Minimum Spanning Tree Problem](https://ieeexplore.ieee.org/document/4392963)"
   ]
  },
  {
   "attachments": {},
   "cell_type": "markdown",
   "metadata": {
    "slideshow": {
     "slide_type": "slide"
    }
   },
   "source": [
    "## Considering the MST problem\n",
    "\n",
    "What is the brute-force approach to find the MST?"
   ]
  },
  {
   "attachments": {},
   "cell_type": "markdown",
   "metadata": {
    "slideshow": {
     "slide_type": "fragment"
    }
   },
   "source": [
    "<br>\n",
    "\n",
    "As usual, we have an exponential search space.\n",
    "\n",
    "There are an exponential number of possible spanning trees to consider.\n"
   ]
  },
  {
   "attachments": {},
   "cell_type": "markdown",
   "metadata": {
    "slideshow": {
     "slide_type": "slide"
    }
   },
   "source": [
    "## Greedy approach?\n",
    "\n",
    "What about a greedy approach?\n",
    "\n",
    "<center>\n",
    "<img src=\"figures/mst0.jpeg\" width=\"75%\"/>\n",
    "</center>\n"
   ]
  },
  {
   "attachments": {},
   "cell_type": "markdown",
   "metadata": {},
   "source": [
    "Can we just select edges in increasing order of weight?"
   ]
  },
  {
   "attachments": {},
   "cell_type": "markdown",
   "metadata": {
    "slideshow": {
     "slide_type": "slide"
    }
   },
   "source": [
    "### Edge replacement lemma\n",
    "\n",
    "Let's think about how we can modify one spanning tree to get another one. Maybe we can iteratively refine a tree to reduce its weight...\n",
    "\n",
    "\n",
    "<center>\n",
    "<img src=\"../figures/st3.png\"/>\n",
    "</center>\n"
   ]
  },
  {
   "attachments": {},
   "cell_type": "markdown",
   "metadata": {
    "slideshow": {
     "slide_type": "fragment"
    }
   },
   "source": [
    "\n",
    "Replacing $(s,b)$ with $(a,b)$ reduces the cost:\n"
   ]
  },
  {
   "attachments": {},
   "cell_type": "markdown",
   "metadata": {
    "slideshow": {
     "slide_type": "subslide"
    }
   },
   "source": [
    "\n",
    "<center>\n",
    "<img src=\"../figures/st4.png\"/>\n",
    "</center>\n"
   ]
  },
  {
   "attachments": {},
   "cell_type": "markdown",
   "metadata": {},
   "source": [
    "**Edge Replacement**\n",
    "\n",
    "- Consider a spanning tree $T$ containing an edge $e=(a,b)$ on the path from $u$ to $v$. \n",
    "- Consider another edge $e'=(u,v)$ that is not in $T$.\n",
    "- What happens if we remove $e$ from $T$ and insert $e'$\n",
    "  - Will it still be a tree?\n",
    "  "
   ]
  },
  {
   "attachments": {},
   "cell_type": "markdown",
   "metadata": {
    "slideshow": {
     "slide_type": "subslide"
    }
   },
   "source": [
    "\n",
    "<center>\n",
    "<img src=\"../figures/st4.png\"/>\n",
    "</center>\n",
    "\n",
    "Yes:\n",
    "- We can re-route the path from $u$ to $v$ to use $e'$ instead of $e$.\n",
    "- Thus, the new tree remains connected and acyclic.\n",
    "\n"
   ]
  },
  {
   "attachments": {},
   "cell_type": "markdown",
   "metadata": {
    "slideshow": {
     "slide_type": "skip"
    }
   },
   "source": [
    "\n",
    "In the example above:\n",
    "- We re-route the path from $a$ to $b$ to go through $(a,b)$ instead of $(s,b)$.\n",
    "- Same number of edges and nodes.\n",
    "- Still a tree.\n",
    "\n"
   ]
  },
  {
   "attachments": {},
   "cell_type": "markdown",
   "metadata": {
    "slideshow": {
     "slide_type": "subslide"
    }
   },
   "source": [
    "\n",
    "We will combine this idea with shortest path algorithms to explore several algorithms to find the MST.\n",
    "\n",
    "- As in shortest path algorithms, we need a $visited$ and $frontier$ sets.\n",
    "- We need to decide which edge to add to the tree to minimize the weight."
   ]
  },
  {
   "attachments": {},
   "cell_type": "markdown",
   "metadata": {
    "slideshow": {
     "slide_type": "slide"
    }
   },
   "source": [
    "### Graph cut\n",
    "\n",
    "We can view the $visited$ and $frontier$ sets as defining a **graph cut**.\n",
    "\n",
    "\n",
    "A **graph cut** of a graph $(G,V)$ is a partitioning of vertices $V_1 \\subset V$, $V_2 = V - V_1$.\n",
    "\n",
    "Each vertex set $V_i \\subset V$ defines a **vertex-induced subgraph** consisting of edges where both endpoints are in $V_i$.\n"
   ]
  },
  {
   "attachments": {},
   "cell_type": "markdown",
   "metadata": {
    "slideshow": {
     "slide_type": "fragment"
    }
   },
   "source": [
    "\n",
    "For example:\n"
   ]
  },
  {
   "attachments": {},
   "cell_type": "markdown",
   "metadata": {
    "slideshow": {
     "slide_type": "fragment"
    }
   },
   "source": [
    "\n",
    "<center>\n",
    "    <img src=\"../figures/cut1.jpg\"/>\n",
    "</center>\n"
   ]
  },
  {
   "attachments": {},
   "cell_type": "markdown",
   "metadata": {
    "slideshow": {
     "slide_type": "subslide"
    }
   },
   "source": [
    "\n",
    "<center>\n",
    "    <img src=\"../figures/cut1.jpg\"/>\n",
    "</center>\n",
    "\n",
    "In this partition, we have:\n",
    "\n",
    "- $G_1 = (V_1, E_1)~~~~V_1=\\{a,b,c,d\\}, E_1 = \\{(a,b), (a,c), (c,d), (b,d)\\}$\n",
    "- $G_2 = (V_2, E_2)~~~~V_2=\\{e,f\\}, E_2 = \\{(e,f)\\}$\n",
    "\n"
   ]
  },
  {
   "attachments": {},
   "cell_type": "markdown",
   "metadata": {
    "slideshow": {
     "slide_type": "fragment"
    }
   },
   "source": [
    "\n",
    "The **cut edges** are those that join the two subgraphs, e.g., $\\{(b,e), (d,f)\\}$.\n",
    "\n"
   ]
  },
  {
   "attachments": {},
   "cell_type": "markdown",
   "metadata": {
    "slideshow": {
     "slide_type": "slide"
    }
   },
   "source": [
    "### Light-edge property\n",
    "\n",
    "Let $G = (V,E,w)$ be a connected undirected, weighted graph with distinct edge weights. \n",
    "\n",
    "For any cut of $G$, the minimum weight edge that crosses the cut is contained in the minimum spanning tree of $G$.\n",
    "\n",
    "<center>\n",
    "    <img src=\"../figures/cut.jpg\"/>\n",
    "</center>\n",
    "\n"
   ]
  },
  {
   "attachments": {},
   "cell_type": "markdown",
   "metadata": {
    "slideshow": {
     "slide_type": "subslide"
    }
   },
   "source": [
    "<center>\n",
    "    <img src=\"../figures/cut.jpg\"/>\n",
    "</center>\n",
    "\n",
    "**Theorem:** For any cut of $G$, the minimum weight edge that crosses the cut is contained in the minimum spanning tree of $G$.\n"
   ]
  },
  {
   "attachments": {},
   "cell_type": "markdown",
   "metadata": {
    "slideshow": {
     "slide_type": "fragment"
    }
   },
   "source": [
    "\n",
    "**Proof by Contradiction**: Assume that the lightest edge $e = \\{u,v\\}$ is not in the MST.\n",
    "\n",
    "Then, there must be some other path connecting $u$ to $v$ that goes through some other edge $e'$.\n",
    "\n",
    "By assumption, $e'$ must be heavier that $e$.\n",
    "\n",
    "But, by the Edge Replacement Lemma, we know that we can swap $e'$ for $e$ and still having a spanning tree, one that will be lighter. This is a contradiction. $\\blacksquare$\n"
   ]
  },
  {
   "attachments": {},
   "cell_type": "markdown",
   "metadata": {
    "slideshow": {
     "slide_type": "fragment"
    }
   },
   "source": [
    "\n",
    "**How can we use the light-edge property to find the MST using priority search?**"
   ]
  },
  {
   "attachments": {},
   "cell_type": "markdown",
   "metadata": {
    "slideshow": {
     "slide_type": "slide"
    }
   },
   "source": [
    "## Prim's Algorithm\n",
    "\n",
    "Iteratively build a MST by performing **priority-first search** on $G$ starting from an arbitrary vertex $s$.\n",
    "\n",
    "To select the next edge to expand the frontier $X$, use priority:\n",
    "- $p(v) = \\min_{x \\in X, v \\in Y} w(x,v)$\n",
    "- Add the chosen edge $(u,v)$ to the tree.\n"
   ]
  },
  {
   "attachments": {},
   "cell_type": "markdown",
   "metadata": {
    "slideshow": {
     "slide_type": "fragment"
    }
   },
   "source": [
    "\n",
    "<center>\n",
    "    <img src=\"../figures/prim.jpg\" width=40%/>\n",
    "</center>\n"
   ]
  },
  {
   "attachments": {},
   "cell_type": "markdown",
   "metadata": {
    "slideshow": {
     "slide_type": "fragment"
    }
   },
   "source": [
    "\n",
    "- Edge $(c, f)$ has minimum weight across the cut $(X,Y)$.\n",
    "- So, we visit $f$ by adding $(c, f)$ to the tree and all of $f$'s neighbors to the frontier\n"
   ]
  },
  {
   "attachments": {},
   "cell_type": "markdown",
   "metadata": {
    "slideshow": {
     "slide_type": "subslide"
    }
   },
   "source": [
    "This sounds very similar to Dijkstra's algorithm. What's the difference?"
   ]
  },
  {
   "attachments": {},
   "cell_type": "markdown",
   "metadata": {},
   "source": [
    "<center>\n",
    "<img src=\"../figures/st4.png\"/>\n",
    "</center>\n"
   ]
  },
  {
   "cell_type": "code",
   "execution_count": null,
   "metadata": {
    "slideshow": {
     "slide_type": "subslide"
    }
   },
   "outputs": [],
   "source": [
    "from heapq import heappush, heappop \n",
    "\n",
    "def dijkstra(graph, source):\n",
    "    def dijkstra_helper(visited, frontier):\n",
    "        if len(frontier) == 0:\n",
    "            return visited\n",
    "        else:\n",
    "            distance, node = heappop(frontier)\n",
    "            if node in visited:\n",
    "                return dijkstra_helper(visited, frontier)\n",
    "            else:\n",
    "                print('visiting', node)\n",
    "                visited[node] = distance\n",
    "                for neighbor, weight in graph[node]:\n",
    "                    heappush(frontier, (distance + weight, neighbor))                \n",
    "                return dijkstra_helper(visited, frontier)\n",
    "        \n",
    "    frontier = []\n",
    "    heappush(frontier, (0, source))\n",
    "    visited = dict()  # store the final shortest paths for each node.\n",
    "    return dijkstra_helper(visited, frontier)\n"
   ]
  },
  {
   "cell_type": "code",
   "execution_count": null,
   "metadata": {
    "slideshow": {
     "slide_type": "skip"
    }
   },
   "outputs": [],
   "source": [
    "\n",
    "graph = {\n",
    "            's': {('a', 4), ('b', 8)},\n",
    "            'a': {('s', 4), ('b', 2), ('c', 5)},\n",
    "            'b': {('s', 8), ('a', 2), ('c', 3)}, \n",
    "            'c': {('a', 5), ('b', 3), ('d', 3)},\n",
    "            'd': {('c', 3)},\n",
    "        }\n",
    "dijkstra(graph, 's')"
   ]
  },
  {
   "cell_type": "code",
   "execution_count": null,
   "metadata": {
    "slideshow": {
     "slide_type": "subslide"
    }
   },
   "outputs": [],
   "source": [
    "def prim(graph):\n",
    "    def prim_helper(visited, frontier, tree):\n",
    "        if len(frontier) == 0:\n",
    "            return tree\n",
    "        else:\n",
    "            weight, node, parent = heappop(frontier)\n",
    "            if node in visited:\n",
    "                return prim_helper(visited, frontier, tree)\n",
    "            else:\n",
    "                print('visiting', node)\n",
    "                # record this edge in the tree\n",
    "                tree.add((weight, node, parent))\n",
    "                visited.add(node)\n",
    "                for neighbor, w in graph[node]:\n",
    "                    heappush(frontier, (w, neighbor, node))    \n",
    "                    # compare with dijkstra:\n",
    "                    # heappush(frontier, (distance + weight, neighbor))                \n",
    "\n",
    "                return prim_helper(visited, frontier, tree)\n",
    "        \n",
    "    # pick first node as source arbitrarily\n",
    "    source = list(graph.keys())[0]\n",
    "    frontier = []\n",
    "    heappush(frontier, (0, source, source))\n",
    "    visited = set()  # store the visited nodes (don't need distance anymore)\n",
    "    tree = set()\n",
    "    prim_helper(visited, frontier, tree)\n",
    "    return tree\n"
   ]
  },
  {
   "cell_type": "code",
   "execution_count": null,
   "metadata": {
    "slideshow": {
     "slide_type": "skip"
    }
   },
   "outputs": [],
   "source": [
    "\n",
    "prim(graph)"
   ]
  },
  {
   "attachments": {},
   "cell_type": "markdown",
   "metadata": {
    "slideshow": {
     "slide_type": "slide"
    }
   },
   "source": [
    "## Work of Prim's Algorithm\n",
    "\n",
    "This does identical work to Dijkstra, so $O(|E| \\log |V|)$"
   ]
  },
  {
   "attachments": {},
   "cell_type": "markdown",
   "metadata": {
    "slideshow": {
     "slide_type": "fragment"
    }
   },
   "source": [
    "Can we just pick an arbitrary source node? Why or why not?"
   ]
  },
  {
   "attachments": {},
   "cell_type": "markdown",
   "metadata": {
    "slideshow": {
     "slide_type": "subslide"
    }
   },
   "source": [
    "### Directed Graphs?\n",
    "\n",
    "What about directed graphs? Will this work?"
   ]
  },
  {
   "attachments": {},
   "cell_type": "markdown",
   "metadata": {
    "slideshow": {
     "slide_type": "fragment"
    }
   },
   "source": [
    "No - if source node is not connected to all other nodes.\n"
   ]
  },
  {
   "attachments": {},
   "cell_type": "markdown",
   "metadata": {
    "slideshow": {
     "slide_type": "fragment"
    }
   },
   "source": [
    "\n",
    "Even if it is, we may have a suboptimal solution:\n"
   ]
  },
  {
   "attachments": {},
   "cell_type": "markdown",
   "metadata": {
    "slideshow": {
     "slide_type": "fragment"
    }
   },
   "source": [
    "\n",
    "![figures/prim-fail.png](../figures/prim-fail.png)"
   ]
  }
 ],
 "metadata": {
  "celltoolbar": "Slideshow",
  "kernelspec": {
   "display_name": "Python 3.9.6 64-bit",
   "language": "python",
   "name": "python3"
  },
  "language_info": {
   "codemirror_mode": {
    "name": "ipython",
    "version": 3
   },
   "file_extension": ".py",
   "mimetype": "text/x-python",
   "name": "python",
   "nbconvert_exporter": "python",
   "pygments_lexer": "ipython3",
   "version": "3.9.6"
  },
  "rise": {
   "autolaunch": true,
   "controls": false,
   "enable_chalkboard": true,
   "scroll": true,
   "theme": "simple",
   "transition": "fade"
  },
  "toc": {
   "base_numbering": 1,
   "nav_menu": {},
   "number_sections": true,
   "sideBar": true,
   "skip_h1_title": true,
   "title_cell": "Table of Contents",
   "title_sidebar": "Contents",
   "toc_cell": true,
   "toc_position": {},
   "toc_section_display": true,
   "toc_window_display": false
  },
  "vscode": {
   "interpreter": {
    "hash": "aee8b7b246df8f9039afb4144a1f6fd8d2ca17a180786b69acc140d282b71a49"
   }
  }
 },
 "nbformat": 4,
 "nbformat_minor": 4
}
