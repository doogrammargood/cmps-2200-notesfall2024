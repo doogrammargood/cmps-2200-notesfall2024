{
 "cells": [
  {
   "cell_type": "code",
   "execution_count": 1,
   "metadata": {
    "code_folding": [],
    "slideshow": {
     "slide_type": "skip"
    }
   },
   "outputs": [
    {
     "data": {
      "text/html": [
       "<style>.prompt{width: 0px; min-width: 0px; visibility: collapse}</style>"
      ],
      "text/plain": [
       "<IPython.core.display.HTML object>"
      ]
     },
     "metadata": {},
     "output_type": "display_data"
    },
    {
     "data": {
      "text/html": [
       "<style>\n",
       "div#notebook {\n",
       " font-family: \"Exo_2\", sans-serif;\n",
       "}\n",
       "\n",
       ".rendered_html h1,\n",
       ".text_cell_render h1 {\n",
       " color: #126dce;\n",
       " font-size: 220%;\n",
       " text-align: center;\n",
       " font-weight: lighter;\n",
       "}\n",
       ".rendered_html h2,\n",
       ".text_cell_render h2 {\n",
       " text-align: center;\n",
       " font-size: 170%;\n",
       " color: #126dce;\n",
       " font-style: normal;\n",
       " font-weight: lighter;\n",
       "}\n",
       ".rendered_html h3,\n",
       ".text_cell_render h3 {\n",
       " font-size: 150%;\n",
       " color: #126dce;\n",
       " font-weight: lighter;\n",
       " text-decoration: italic;\n",
       " font-style: normal;\n",
       "}\n",
       ".rendered_html h4,\n",
       ".text_cell_render h4 {\n",
       " font-size: 120%;\n",
       " color: #126dce;\n",
       " font-weight: underline;\n",
       " font-style: normal;\n",
       "}\n",
       ".rendered_html h5,\n",
       ".text_cell_render h5 {\n",
       " font-size: 100%;\n",
       " color: #2f2f2f;\n",
       " font-weight: lighter;\n",
       " text-decoration: underline;\n",
       "}\n",
       "</style>\n"
      ],
      "text/plain": [
       "<IPython.core.display.HTML object>"
      ]
     },
     "metadata": {},
     "output_type": "display_data"
    }
   ],
   "source": [
    "# setup\n",
    "from IPython.core.display import display,HTML\n",
    "display(HTML('<style>.prompt{width: 0px; min-width: 0px; visibility: collapse}</style>'))\n",
    "display(HTML(open('../rise.css').read()))\n",
    "\n",
    "# imports\n",
    "import numpy as np\n",
    "import matplotlib.pyplot as plt\n",
    "import seaborn as sns\n",
    "%matplotlib inline\n",
    "sns.set(style=\"whitegrid\", font_scale=1.5, rc={'figure.figsize':(12, 6)})\n"
   ]
  },
  {
   "attachments": {},
   "cell_type": "markdown",
   "metadata": {
    "slideshow": {
     "slide_type": "slide"
    }
   },
   "source": [
    "# CMPS 2200\n",
    "# Introduction to Algorithms\n",
    "\n",
    "## Kruskal + TSP\n"
   ]
  },
  {
   "attachments": {},
   "cell_type": "markdown",
   "metadata": {
    "slideshow": {
     "slide_type": "slide"
    }
   },
   "source": [
    "## An alternate MST algorithm\n",
    "\n",
    "Prim's algorithm does a graph search while computing the MST.\n",
    "\n",
    "Can we just greedily add edges in increasing order of weight?"
   ]
  },
  {
   "attachments": {},
   "cell_type": "markdown",
   "metadata": {
    "slideshow": {
     "slide_type": "fragment"
    }
   },
   "source": [
    "**Almost**: need to avoid cycles and ensure we \"span\" the graph\n",
    "\n",
    "![figures/greedy-fail.png](../figures/greedy-fail.png)\n",
    "\n"
   ]
  },
  {
   "attachments": {},
   "cell_type": "markdown",
   "metadata": {
    "slideshow": {
     "slide_type": "slide"
    }
   },
   "source": [
    "## Kruskal's Algorithm\n",
    "\n",
    "“Perform the following step as many times as possible: Among the edges of $G$ not yet chosen, choose the shortest edge which does not form any loops with those edges already chosen.” [Kruskal, 1956]\n"
   ]
  },
  {
   "attachments": {},
   "cell_type": "markdown",
   "metadata": {
    "slideshow": {
     "slide_type": "subslide"
    }
   },
   "source": [
    "\n",
    "**Why is this correct?**"
   ]
  },
  {
   "attachments": {},
   "cell_type": "markdown",
   "metadata": {
    "slideshow": {
     "slide_type": "fragment"
    }
   },
   "source": [
    "Recall the **Light-edge property**\n",
    "\n",
    "Let $G = (V,E,w)$ be a connected undirected, weighted graph with distinct edge weights. \n",
    "\n",
    "For any cut of $G$, the minimum weight edge that crosses the cut is contained in the minimum spanning tree of $G$.\n",
    "\n",
    "<center>\n",
    "    <img src=\"../figures/cut.jpg\"/>\n",
    "</center>\n"
   ]
  },
  {
   "attachments": {},
   "cell_type": "markdown",
   "metadata": {
    "slideshow": {
     "slide_type": "fragment"
    }
   },
   "source": [
    "\n",
    "At each step, Kruskal picks a **light edge** to connect components of the graph $U$ and $V$ (i.e., picks an edge $e$ where $w(e) < w(e')$).\n"
   ]
  },
  {
   "attachments": {},
   "cell_type": "markdown",
   "metadata": {
    "slideshow": {
     "slide_type": "subslide"
    }
   },
   "source": [
    "\n",
    "<br>\n",
    "\n",
    "How do we know the tree spans all the nodes?\n"
   ]
  },
  {
   "attachments": {},
   "cell_type": "markdown",
   "metadata": {
    "slideshow": {
     "slide_type": "fragment"
    }
   },
   "source": [
    "\n",
    "<br>\n",
    "\n",
    "The only edges we've skipped are those that create a cycle, so the remaining edges must form a tree."
   ]
  },
  {
   "attachments": {},
   "cell_type": "markdown",
   "metadata": {
    "slideshow": {
     "slide_type": "slide"
    }
   },
   "source": [
    "## Implementing Kruskal's algorithm\n",
    "\n",
    "\"choose the shortest edge which does not form any loops with those edges already chosen\"\n",
    "\n",
    "How do we implement this?"
   ]
  },
  {
   "attachments": {},
   "cell_type": "markdown",
   "metadata": {
    "slideshow": {
     "slide_type": "fragment"
    }
   },
   "source": [
    "For an edge $(u,v)$, we must check if $u$ and $v$ are in the same connected component, based on the edges added so far.\n"
   ]
  },
  {
   "attachments": {},
   "cell_type": "markdown",
   "metadata": {
    "slideshow": {
     "slide_type": "fragment"
    }
   },
   "source": [
    "\n",
    "How can we do this?"
   ]
  },
  {
   "attachments": {},
   "cell_type": "markdown",
   "metadata": {
    "slideshow": {
     "slide_type": "skip"
    }
   },
   "source": [
    "We can run BFS or DFS starting at $u$ or $v$, but this would be expensive: $O(|V| + |E|)$ work at each iteration.\n"
   ]
  },
  {
   "attachments": {},
   "cell_type": "markdown",
   "metadata": {
    "slideshow": {
     "slide_type": "fragment"
    }
   },
   "source": [
    "\n",
    "If we think of each connected component as a set of nodes, we need an efficient way of:\n",
    "\n",
    "- checking which set $u$ and $v$ are in\n",
    "- determining if these two sets are equal\n",
    "- if they are not equal, then we need to take their union\n"
   ]
  },
  {
   "attachments": {},
   "cell_type": "markdown",
   "metadata": {
    "slideshow": {
     "slide_type": "slide"
    }
   },
   "source": [
    "## Using sets to implement Kruskal's\n",
    "\n",
    "To make checking set equality fast, we will assign a **representative** node in each set.\n",
    "\n",
    "E.g., suppose we have two sets $\\mathbf{S} = \\{S_1, S_2\\}$ where:\n",
    "\n",
    "$S_1 = \\{\\mathbf{a},b,c\\}~~~~ S_2 = \\{\\mathbf{s}, d, e\\}$\n",
    "\n",
    "We can (arbitrarily) assign the representative of $S_1$ to be $a$, and the representative of $S_2$ to be $s$.\n",
    "\n",
    "$r(S_1) = a ~~~ r(S_2) = s$\n"
   ]
  },
  {
   "attachments": {},
   "cell_type": "markdown",
   "metadata": {
    "slideshow": {
     "slide_type": "fragment"
    }
   },
   "source": [
    "\n",
    "<br>\n",
    "\n",
    "If $S_u$ is the set containing $u$ and $S_v$ is the set containing $v$, then we can check if $u$ and $v$ are in the same set by checking if $r(S_u) == r(S_v)$\n",
    "\n",
    "\n",
    "\n"
   ]
  },
  {
   "attachments": {},
   "cell_type": "markdown",
   "metadata": {
    "slideshow": {
     "slide_type": "slide"
    }
   },
   "source": [
    "## Disjoint-set data type\n",
    "\n",
    "We have described a **disjoint-set** abstract data type (aka **union-find**). This type supports three operations:\n",
    "\n",
    "1. `make_set(u)`: create a new set containing the single element $u$\n",
    "  - $u$ will be the representative of this set\n",
    "  \n",
    "  \n",
    "2. `find_set(u)`: returns the representative of the set containing $u$:  $r(S_u)$\n",
    "\n",
    "\n",
    "3. `union(u,v)`: replace $S_u$ and $S_v$ with $S_u \\cup S_v$ in the collection of sets $\\mathbf{S}$\n",
    "\n",
    "What data structures can we use to represent each set?"
   ]
  },
  {
   "attachments": {},
   "cell_type": "markdown",
   "metadata": {
    "slideshow": {
     "slide_type": "subslide"
    }
   },
   "source": [
    "### Disjoint-set with double linked lists\n",
    "\n",
    "<center>\n",
    "    <img src=\"../figures/delist.png\"/>\n",
    "</center>\n",
    "\n",
    "[source](https://ocw.mit.edu/courses/electrical-engineering-and-computer-science/6-046j-design-and-analysis-of-algorithms-spring-2012/lecture-notes/MIT6_046JS12_lec16.pdf)\n",
    "\n",
    "\n",
    "Each set is a doubly-linked list. The first node is the representative.\n",
    "\n",
    "How can we perform the three operations and what is the work?\n",
    "\n",
    "1. `make_set(u)`: create a new set containing the single element $u$\n",
    "  - $u$ will be the representative of this set\n",
    "  \n",
    "  \n",
    "2. `find_set(u)`: returns the representative of the set containing $u$:  $r(S_u)$\n",
    "\n",
    "\n",
    "3. `union(u,v)`: replace $S_u$ and $S_v$ with $S_u \\cup S_v$ in the collection of sets $\\mathbf{S}$"
   ]
  },
  {
   "attachments": {},
   "cell_type": "markdown",
   "metadata": {
    "slideshow": {
     "slide_type": "subslide"
    }
   },
   "source": [
    "<br><br>\n",
    "\n",
    "1. `make_set(u)`: create a singleton list in $O(1)$ time. $u$ is the representative.\n",
    "  \n",
    "  \n",
    "2. `find_set(u)`: walk left from $u$ until the first element is found: $O(n)$\n",
    "\n",
    "\n",
    "3. `union(u,v)`: Connect the tail $S_u$ to the head of $S_v$: $O(1)$\n",
    "\n",
    "<br><br>\n",
    "\n",
    "That's a lot of needless walking. Can I just store the representative directly at each node?"
   ]
  },
  {
   "attachments": {},
   "cell_type": "markdown",
   "metadata": {},
   "source": [
    "<center>\n",
    "    <img src=\"../figures/delist2.png\"/>\n",
    "</center>\n"
   ]
  },
  {
   "attachments": {},
   "cell_type": "markdown",
   "metadata": {
    "slideshow": {
     "slide_type": "fragment"
    }
   },
   "source": [
    "\n",
    "This would make `find_set(u)` in $O(1)$, but now union becomes $O(n)$. Why?"
   ]
  },
  {
   "attachments": {},
   "cell_type": "markdown",
   "metadata": {
    "slideshow": {
     "slide_type": "slide"
    }
   },
   "source": [
    "## Disjoint-set with balanced forests\n",
    "\n",
    "<center>\n",
    "    <img src=\"../figures/forest.png\"/>\n",
    "</center>\n",
    "\n",
    "Each set is a balanced tree, where the root is the representative.\n",
    "\n",
    "Assuming we represent a tree node with a pointer to its parent, what is the work of `find_set(u)` (to find the representative of $S_u$?"
   ]
  },
  {
   "attachments": {},
   "cell_type": "markdown",
   "metadata": {
    "slideshow": {
     "slide_type": "fragment"
    }
   },
   "source": [
    "<br>\n",
    "\n",
    "$O(\\log n)$, assuming a balanced tree, to walk from a node to its root.\n"
   ]
  },
  {
   "attachments": {},
   "cell_type": "markdown",
   "metadata": {
    "slideshow": {
     "slide_type": "subslide"
    }
   },
   "source": [
    "\n",
    "How about `union(u,v)`?\n",
    "\n",
    "\n",
    "<center>\n",
    "    <img src=\"../figures/merge.png\" width=50%/>\n",
    "</center>\n",
    "\n",
    "- find representative of $u ~~~~ O(\\log n)$\n",
    "- find representative of $v ~~~~ O(\\log n)$\n",
    "- link root of one tree to the root of another\n"
   ]
  },
  {
   "attachments": {},
   "cell_type": "markdown",
   "metadata": {
    "slideshow": {
     "slide_type": "fragment"
    }
   },
   "source": [
    "\n",
    "<br>\n",
    "\n",
    "But, how do we ensure tree stays balanced to keep $O(\\log n)$ work for `find_set(u)`?\n"
   ]
  },
  {
   "attachments": {},
   "cell_type": "markdown",
   "metadata": {
    "slideshow": {
     "slide_type": "subslide"
    }
   },
   "source": [
    "Recall [Leftist Heaps](https://cmps-2200.github.io/cmps-2200-notes/module-06-greedy/02-priority-queues/01-priority-queues.slides.html#/) from Greedy module!\n",
    "\n",
    "<center>\n",
    "    <img src=\"../figures/meld_schematic.jpg\" width=\"70%\">\n",
    "</center>\n"
   ]
  },
  {
   "attachments": {},
   "cell_type": "markdown",
   "metadata": {
    "slideshow": {
     "slide_type": "subslide"
    }
   },
   "source": [
    "\n",
    "similar idea here:\n",
    "\n",
    "<center>\n",
    "    <img src=\"../figures/rank.png\" width=\"70%\">\n",
    "</center>\n",
    "\n",
    "Add \"shorter\" tree to the \"taller\" tree.\n",
    "- store the \"rank\" of each tree as its depth\n"
   ]
  },
  {
   "attachments": {},
   "cell_type": "markdown",
   "metadata": {
    "slideshow": {
     "slide_type": "fragment"
    }
   },
   "source": [
    "\n",
    "\n",
    "Thus, if $height(S_v) < height(S_u)$, then the height the union of $S_u \\cup S_v$ is \n",
    "\n",
    "$\\max \\{ height(S_u), height(S_v)+1\\}$\n"
   ]
  },
  {
   "attachments": {},
   "cell_type": "markdown",
   "metadata": {
    "slideshow": {
     "slide_type": "fragment"
    }
   },
   "source": [
    "\n",
    "<br>\n",
    "\n",
    "Using similar arguments as in leftist heaps, we can ensure that height of any tree is $O(\\log n)$"
   ]
  },
  {
   "attachments": {},
   "cell_type": "markdown",
   "metadata": {
    "slideshow": {
     "slide_type": "slide"
    }
   },
   "source": [
    "### Kruskal's Algorithm\n",
    "\n",
    "0. Initialize tree $T \\leftarrow \\emptyset$  \n",
    "\n",
    "1. For each $v \\in V$, run `make_set(v)`\n",
    "\n",
    "2. Sort edges in increasing order of weight\n",
    "\n",
    "3. For each edge $e=(u,v)$ in sorted set:\n",
    "  - if `find_set(u)` $\\ne$ `find_set(v)`:\n",
    "    - $T \\leftarrow T \\cup \\{(u,v)\\}$\n",
    "    - `union(u,v)`\n"
   ]
  },
  {
   "attachments": {},
   "cell_type": "markdown",
   "metadata": {
    "slideshow": {
     "slide_type": "slide"
    }
   },
   "source": [
    "### Kruskal's Algorithm - work\n",
    "\n",
    "0. Initialize tree $T \\leftarrow \\emptyset$\n",
    "  - $O(1)$\n",
    "\n",
    "1. For each $v \\in V$, run `make_set(v)` \n",
    " - $O(|V|)$\n",
    "\n",
    "2. Sort edges in increasing order of weight \n",
    "  - $O(|E|\\lg |E|)$\n",
    "\n",
    "3. For each edge $e=(u,v)$ in sorted set: $O(|E|)$\n",
    "  - if `find_set(u)` $\\ne$ `find_set(v)`: $O(\\lg |V|)$\n",
    "    - $T \\leftarrow T \\cup \\{(u,v)\\}$\n",
    "    - `union(u,v)`\n",
    "  - Together: $O(|E|\\lg |V|)$\n"
   ]
  },
  {
   "attachments": {},
   "cell_type": "markdown",
   "metadata": {
    "slideshow": {
     "slide_type": "fragment"
    }
   },
   "source": [
    " \n",
    "Thus, total work is $O(|E|\\lg |E|)$\n"
   ]
  },
  {
   "attachments": {},
   "cell_type": "markdown",
   "metadata": {
    "slideshow": {
     "slide_type": "fragment"
    }
   },
   "source": [
    "\n",
    "Since we have $E \\in O(|V|^2)$, this is equivalent to:\n",
    "\n",
    "$O(|E|\\lg |V|^2) \\equiv O(2|E| \\log |V|) \\equiv O(|E| \\log |V|)$\n"
   ]
  },
  {
   "attachments": {},
   "cell_type": "markdown",
   "metadata": {
    "slideshow": {
     "slide_type": "slide"
    }
   },
   "source": [
    "## Traveling Salesperson Problem\n",
    "\n",
    "Consider a slight variant of the MST problem:\n",
    "\n",
    "Given a graph $G=(V,E)$, find a tour that visits each node exactly once and then returns to the origin node.\n",
    " - every node is visited\n",
    " - no edges are repeated\n"
   ]
  },
  {
   "attachments": {},
   "cell_type": "markdown",
   "metadata": {
    "slideshow": {
     "slide_type": "subslide"
    }
   },
   "source": [
    "\n",
    "<center>\n",
    "<img src=\"https://upload.wikimedia.org/wikipedia/commons/thumb/1/11/GLPK_solution_of_a_travelling_salesman_problem.svg/480px-GLPK_solution_of_a_travelling_salesman_problem.svg.png\"/>\n",
    "</center>\n"
   ]
  },
  {
   "attachments": {},
   "cell_type": "markdown",
   "metadata": {},
   "source": [
    "\n",
    "Often, we assume the graph is *complete* (fully connected) and edge weights are distance between each city.\n"
   ]
  },
  {
   "attachments": {},
   "cell_type": "markdown",
   "metadata": {
    "slideshow": {
     "slide_type": "subslide"
    }
   },
   "source": [
    "How does this differ from the MST problem?"
   ]
  },
  {
   "attachments": {},
   "cell_type": "markdown",
   "metadata": {
    "slideshow": {
     "slide_type": "fragment"
    }
   },
   "source": [
    "- TSP solution has one more edge than MST solution (graph instead of a tree)\n",
    "\n",
    "\n",
    "- Therefore, weight(MST solution) < weight(TSP solution)\n",
    "\n",
    "\n",
    "Thus, MST solution provides a lower bound on the TSP solution.\n"
   ]
  },
  {
   "attachments": {},
   "cell_type": "markdown",
   "metadata": {
    "slideshow": {
     "slide_type": "fragment"
    }
   },
   "source": [
    "\n",
    "Can we also use MST to find an upper bound?"
   ]
  },
  {
   "attachments": {},
   "cell_type": "markdown",
   "metadata": {
    "slideshow": {
     "slide_type": "slide"
    }
   },
   "source": [
    "### Euclidean TSP\n",
    "\n",
    "Variant of TSP where triangle inequality holds:\n",
    "\n",
    "$w(u,v) + w(v,w) \\ge w(u,w)$\n",
    "\n",
    "where all weights are non-negative."
   ]
  },
  {
   "attachments": {},
   "cell_type": "markdown",
   "metadata": {
    "slideshow": {
     "slide_type": "fragment"
    }
   },
   "source": [
    "Consider a MST solution for the graph:\n",
    "\n",
    "<center>\n",
    "    <img src=\"../figures/tsp1.jpg\"/>\n",
    "</center>\n",
    "\n",
    "<br>\n",
    "\n",
    "How could we convert this tree into a tour for TSP?\n",
    "\n",
    "<br><br>\n"
   ]
  },
  {
   "attachments": {},
   "cell_type": "markdown",
   "metadata": {
    "slideshow": {
     "slide_type": "subslide"
    }
   },
   "source": [
    "We need to determine an order to visit the nodes in the MST solution.\n",
    "\n",
    "Let's try depth-first search:\n",
    "\n",
    "<center>\n",
    "    <img src=\"../figures/tsp2.jpg\"/>\n",
    "</center>\n"
   ]
  },
  {
   "attachments": {},
   "cell_type": "markdown",
   "metadata": {
    "slideshow": {
     "slide_type": "fragment"
    }
   },
   "source": [
    "\n",
    "This is called the **Euler tour** of the tree:\n",
    "\n",
    " - a cycle in a graph that visits every edge exactly once.\n",
    "    - We view each undirected edge as two directed edges, one for each direction\n",
    " - Since $T$ spans the graph, the Euler tour will visit every vertex at least once, but possibly multiple times.\n"
   ]
  },
  {
   "attachments": {},
   "cell_type": "markdown",
   "metadata": {
    "slideshow": {
     "slide_type": "subslide"
    }
   },
   "source": [
    "<center>\n",
    "    <img src=\"../figures/tsp2.jpg\"/>\n",
    "</center>\n",
    "\n",
    "This is close to a TSP solution, but: \n",
    "\n",
    "- it visits each edge twice\n",
    "\n",
    "- $(d,f)$ should have an edge\n",
    "\n",
    "- The weight of the Euler tour is equal to twice the MST weight (since we visit each edge twice).\n",
    "\n"
   ]
  },
  {
   "attachments": {},
   "cell_type": "markdown",
   "metadata": {
    "slideshow": {
     "slide_type": "fragment"
    }
   },
   "source": [
    "\n",
    "How can we convert this to a proper solution to TSP?"
   ]
  },
  {
   "attachments": {},
   "cell_type": "markdown",
   "metadata": {
    "slideshow": {
     "slide_type": "subslide"
    }
   },
   "source": [
    "**idea**: \n",
    "\n",
    "Compute DFS order, but when we find a repeated edge, instead find the next unvisited vertex.\n",
    "\n",
    "<center>\n",
    "    <img src=\"../figures/tsp3.jpg\"/>\n",
    "</center>\n",
    "\n",
    "The red edges above are called *shortcut edges*.\n",
    "\n",
    "Because of triangle inequality, we know that the shortcut edges are no longer than the paths they replace\n",
    "\n",
    "$w(f,c) \\le w(\\langle f,e,b,a,c \\rangle)$\n",
    "  \n"
   ]
  },
  {
   "attachments": {},
   "cell_type": "markdown",
   "metadata": {
    "slideshow": {
     "slide_type": "subslide"
    }
   },
   "source": [
    "Since we know:\n",
    "\n",
    "- $weight(MST) < weight(TSP)$\n",
    "  \n",
    "- $weight(Euler) = 2 \\cdot weight(MST)$\n",
    "  \n"
   ]
  },
  {
   "attachments": {},
   "cell_type": "markdown",
   "metadata": {
    "slideshow": {
     "slide_type": "fragment"
    }
   },
   "source": [
    "then we know\n",
    "\n",
    " - $weight(MST) \\le weight(TSP) \\le 2 \\cdot weight(MST)$\n",
    " \n",
    " \n"
   ]
  },
  {
   "attachments": {},
   "cell_type": "markdown",
   "metadata": {
    "slideshow": {
     "slide_type": "fragment"
    }
   },
   "source": [
    "###  Thus, we now have a polynomial-time algortithm to solve TSP that is no worse than 2 times the optimal solution!"
   ]
  },
  {
   "attachments": {},
   "cell_type": "markdown",
   "metadata": {
    "slideshow": {
     "slide_type": "skip"
    }
   },
   "source": [
    "<br>\n",
    "\n",
    "How does this type of approximation algorithm differ from the type we saw in assignment-04?\n",
    "\n",
    "> $\\mathcal{A}(\\mathcal{I})$ has a probability of $\\epsilon$ of being\n",
    "correct and a failure probability of $1-\\epsilon$.\n",
    "\n",
    "<br>\n",
    "\n",
    "For such NP-hard problems), approximations are often the best we can do.\n",
    " "
   ]
  }
 ],
 "metadata": {
  "celltoolbar": "Slideshow",
  "kernelspec": {
   "display_name": "Python 3.9.6 64-bit",
   "language": "python",
   "name": "python3"
  },
  "language_info": {
   "codemirror_mode": {
    "name": "ipython",
    "version": 3
   },
   "file_extension": ".py",
   "mimetype": "text/x-python",
   "name": "python",
   "nbconvert_exporter": "python",
   "pygments_lexer": "ipython3",
   "version": "3.9.6"
  },
  "rise": {
   "autolaunch": true,
   "controls": false,
   "enable_chalkboard": true,
   "scroll": true,
   "theme": "simple",
   "transition": "fade"
  },
  "toc": {
   "base_numbering": 1,
   "nav_menu": {},
   "number_sections": true,
   "sideBar": true,
   "skip_h1_title": true,
   "title_cell": "Table of Contents",
   "title_sidebar": "Contents",
   "toc_cell": true,
   "toc_position": {},
   "toc_section_display": true,
   "toc_window_display": false
  },
  "vscode": {
   "interpreter": {
    "hash": "aee8b7b246df8f9039afb4144a1f6fd8d2ca17a180786b69acc140d282b71a49"
   }
  }
 },
 "nbformat": 4,
 "nbformat_minor": 4
}
