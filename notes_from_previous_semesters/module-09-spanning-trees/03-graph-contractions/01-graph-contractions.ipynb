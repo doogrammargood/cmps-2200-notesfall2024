{
 "cells": [
  {
   "cell_type": "code",
   "execution_count": 3,
   "metadata": {
    "code_folding": [],
    "slideshow": {
     "slide_type": "skip"
    }
   },
   "outputs": [
    {
     "data": {
      "text/html": [
       "<style>.prompt{width: 0px; min-width: 0px; visibility: collapse}</style>"
      ],
      "text/plain": [
       "<IPython.core.display.HTML object>"
      ]
     },
     "metadata": {},
     "output_type": "display_data"
    },
    {
     "data": {
      "text/html": [
       "<style>\n",
       "div#notebook {\n",
       " font-family: \"Exo_2\", sans-serif;\n",
       "}\n",
       "\n",
       ".rendered_html h1,\n",
       ".text_cell_render h1 {\n",
       " color: #126dce;\n",
       " font-size: 220%;\n",
       " text-align: center;\n",
       " font-weight: lighter;\n",
       "}\n",
       ".rendered_html h2,\n",
       ".text_cell_render h2 {\n",
       " text-align: center;\n",
       " font-size: 170%;\n",
       " color: #126dce;\n",
       " font-style: normal;\n",
       " font-weight: lighter;\n",
       "}\n",
       ".rendered_html h3,\n",
       ".text_cell_render h3 {\n",
       " font-size: 150%;\n",
       " color: #126dce;\n",
       " font-weight: lighter;\n",
       " text-decoration: italic;\n",
       " font-style: normal;\n",
       "}\n",
       ".rendered_html h4,\n",
       ".text_cell_render h4 {\n",
       " font-size: 120%;\n",
       " color: #126dce;\n",
       " font-weight: underline;\n",
       " font-style: normal;\n",
       "}\n",
       ".rendered_html h5,\n",
       ".text_cell_render h5 {\n",
       " font-size: 100%;\n",
       " color: #2f2f2f;\n",
       " font-weight: lighter;\n",
       " text-decoration: underline;\n",
       "}\n",
       "</style>\n"
      ],
      "text/plain": [
       "<IPython.core.display.HTML object>"
      ]
     },
     "metadata": {},
     "output_type": "display_data"
    }
   ],
   "source": [
    "# setup\n",
    "from IPython.core.display import display,HTML\n",
    "display(HTML('<style>.prompt{width: 0px; min-width: 0px; visibility: collapse}</style>'))\n",
    "display(HTML(open('../rise.css').read()))\n",
    "\n",
    "# imports\n",
    "import numpy as np\n",
    "import matplotlib.pyplot as plt\n",
    "import seaborn as sns\n",
    "%matplotlib inline\n",
    "sns.set(style=\"whitegrid\", font_scale=1.5, rc={'figure.figsize':(12, 6)})\n"
   ]
  },
  {
   "attachments": {},
   "cell_type": "markdown",
   "metadata": {
    "slideshow": {
     "slide_type": "slide"
    }
   },
   "source": [
    "# CMPS 2200\n",
    "# Introduction to Algorithms\n",
    "\n",
    "## Graph contractions\n"
   ]
  },
  {
   "attachments": {},
   "cell_type": "markdown",
   "metadata": {
    "slideshow": {
     "slide_type": "slide"
    }
   },
   "source": [
    "## Graph Algorithm Parallelism\n",
    "\n",
    "So far, we have seen pretty limited parallelism in our graph algorithms:\n",
    "\n",
    "- BFS: Span=$O(d \\lg^2 n)$, where $d$ is the **diameter** of graph\n",
    "  - So, serial in the worst case.\n",
    "- DFS, Dijkstra, Prim, Kruskal: serial\n",
    "- Bellman-Ford: Update shortest paths to each node in parallel, span = $O(|V| \\lg |V|)$\n",
    "- Johnson: can run Dijkstra in parallel for each source, span=$O(|E| \\lg |V|)$ \n",
    "\n"
   ]
  },
  {
   "attachments": {},
   "cell_type": "markdown",
   "metadata": {
    "slideshow": {
     "slide_type": "fragment"
    }
   },
   "source": [
    "\n",
    "\n",
    "Is there any way to expose more parellelism?\n",
    "\n"
   ]
  },
  {
   "attachments": {},
   "cell_type": "markdown",
   "metadata": {
    "slideshow": {
     "slide_type": "slide"
    }
   },
   "source": [
    "## Divide and conquer on graphs\n",
    "\n",
    "What would a divide and conquer algorithm look like for graphs?\n"
   ]
  },
  {
   "attachments": {},
   "cell_type": "markdown",
   "metadata": {
    "slideshow": {
     "slide_type": "fragment"
    }
   },
   "source": [
    "Could we partition the graph and combine solutions to each partition?\n",
    "\n",
    "<center>\n",
    "    <img src=\"../figures/partition.jpg\"/>\n",
    "</center>\n",
    "\n",
    "<br> <br>\n",
    "\n"
   ]
  },
  {
   "attachments": {},
   "cell_type": "markdown",
   "metadata": {
    "slideshow": {
     "slide_type": "fragment"
    }
   },
   "source": [
    "\n",
    "- Want nearly equal-sized partitions -- this is hard to compute!\n",
    "\n",
    "- The edges between partitions will make it difficult to solve subproblems independently.\n",
    "\n"
   ]
  },
  {
   "attachments": {},
   "cell_type": "markdown",
   "metadata": {
    "slideshow": {
     "slide_type": "slide"
    }
   },
   "source": [
    "## Contraction\n",
    "\n",
    "Recall **contraction**, which we used to implement `scan`:\n",
    "\n",
    "<img src=\"../figures/scan.png\" width=70%/>\n",
    "\n",
    "\n",
    "1. Reduce problem size by a constant factor (e.g., half as large). (**contraction**)\n",
    "2. Solve this smaller problem.\n",
    "3. Expand solution to solve the larger problem. (**expansion**)\n"
   ]
  },
  {
   "attachments": {},
   "cell_type": "markdown",
   "metadata": {
    "slideshow": {
     "slide_type": "fragment"
    }
   },
   "source": [
    "\n",
    "We'll develop contraction algorithms to achieve better parallelism in graph algorithms."
   ]
  },
  {
   "attachments": {},
   "cell_type": "markdown",
   "metadata": {
    "slideshow": {
     "slide_type": "slide"
    }
   },
   "source": [
    "## Graph partitions\n",
    "\n",
    "How can we partition a graph?\n",
    "\n",
    "Recall the notion of **graph cut**:\n",
    "\n",
    "A **graph cut** of a graph $(G,V)$ is a partitioning of vertices $V_1 \\subset V$, $V_2 = V - V_1$.\n",
    "\n",
    "Each vertex set $V_i \\subset V$ defines a **vertex-induced subgraph** consisting of edges where both endpoints are in $V_i$.\n"
   ]
  },
  {
   "attachments": {},
   "cell_type": "markdown",
   "metadata": {
    "slideshow": {
     "slide_type": "subslide"
    }
   },
   "source": [
    "\n",
    "For example:\n",
    "\n",
    "<center>\n",
    "    <img src=\"../figures/cut1.jpg\"/>\n",
    "</center>\n",
    "\n",
    "In this partition, we have:\n",
    "\n",
    "- $G_1 = (V_1, E_1)~~~~V_1=\\{a,b,c,d\\}, E_1 = \\{(a,b), (a,c), (c,d), (b,d)\\}$\n",
    "- $G_2 = (V_2, E_2)~~~~V_2=\\{e,f\\}, E_2 = \\{(e,f)\\}$\n",
    "\n",
    "\n",
    "The **cut edges** are those that join the two subgraphs, e.g., $\\{(b,e), (d,f)\\}$.\n"
   ]
  },
  {
   "attachments": {},
   "cell_type": "markdown",
   "metadata": {
    "slideshow": {
     "slide_type": "slide"
    }
   },
   "source": [
    "\n",
    "### Graph partition\n",
    "\n",
    "a collection of graphs $\\{G_1 = (V_1, E_1), \\ldots, G_{k} = (V_{k}, E_{k})\\}$ such that \n",
    "\n",
    "- $\\{V_1, \\ldots, V_{k}\\}$ is a set partition of $V$.\n",
    "- $\\{G_1, \\ldots, G_{k}\\}$ are vertex-induced subgraphs of $G$ with respect to $\\{V_1, \\ldots, V_{k}\\}$.\n",
    "\n",
    "\n",
    "We refer to each subgraph $G_i$ as a **block** or **part** of $G$.\n",
    "\n",
    "For a given partition, we have two types of edges in $E$:\n",
    "\n",
    "- **cut edges:** an edge $(v_1,v_2)$ such that $v_1 \\in V_i$, $v_2 \\in V_j$ and $V_i \\ne V_j$\n",
    "- **internal edges:** an edge $(v_1,v_2)$ such that $v_1 \\in V_i$, $v_2 \\in V_j$ and $V_i = V_j$\n",
    "\n"
   ]
  },
  {
   "attachments": {},
   "cell_type": "markdown",
   "metadata": {
    "slideshow": {
     "slide_type": "slide"
    }
   },
   "source": [
    "## Graph Contraction: Intuition\n",
    "\n",
    "![figures/contract.png](../figures/partition2.png)\n"
   ]
  },
  {
   "attachments": {},
   "cell_type": "markdown",
   "metadata": {
    "slideshow": {
     "slide_type": "subslide"
    }
   },
   "source": [
    "![figures/contract.png](../figures/partition2.png)\n",
    "\n",
    "**contract step**:\n",
    "\n",
    "- partition $G$ into subgraphs $\\{G_1 \\ldots G_k\\}$\n",
    "- Assign one vertex of each subgraph as a **super vertex**\n",
    "  - e.g., $a$, $d$, $g$ are super vertices of first contraction step\n",
    "- drop internal edges\n",
    "- reroute internal edges to connect super vertices\n",
    "  - e.g., $(a,g)$ is added in first contraction step because $(b,g)$ exists in first graph\n",
    "  \n"
   ]
  },
  {
   "attachments": {},
   "cell_type": "markdown",
   "metadata": {
    "slideshow": {
     "slide_type": "subslide"
    }
   },
   "source": [
    "\n",
    "![figures/contract.png](../figures/partition2.png)\n",
    "\n",
    "**recursive step**:\n",
    "\n",
    "- Solve problem for each subgraph in the partition\n",
    "- base case: stop when no more edges in the graph\n"
   ]
  },
  {
   "attachments": {},
   "cell_type": "markdown",
   "metadata": {
    "slideshow": {
     "slide_type": "subslide"
    }
   },
   "source": [
    "![figures/contract.png](../figures/partition2.png)\n",
    "\n",
    "**expansion step**:\n",
    "\n",
    "- combine solutions to subgraphs to compute result for original input graph\n",
    "\n"
   ]
  },
  {
   "attachments": {},
   "cell_type": "markdown",
   "metadata": {
    "slideshow": {
     "slide_type": "slide"
    }
   },
   "source": [
    "### How should we choose partitions?\n"
   ]
  },
  {
   "attachments": {},
   "cell_type": "markdown",
   "metadata": {
    "slideshow": {
     "slide_type": "fragment"
    }
   },
   "source": [
    "\n",
    "We want partitions that:\n",
    "\n",
    "- respect the connectivity of the original graph.\n",
    "  - i.e., vertices in the same partition should be connected\n",
    "  \n",
    "  \n",
    "- shrinks the graph by a constant fraction (geometric decrease)\n",
    "  - to ensure a logarithmic span ($\\lg n$ rounds of contraction)\n",
    "  \n",
    "  \n",
    "We'll look at different ways of partitioning in a moment. For now, let's look at an example of how contraction works to solve a specific problem without worrying too much about the details of the partitioning."
   ]
  },
  {
   "attachments": {},
   "cell_type": "markdown",
   "metadata": {
    "slideshow": {
     "slide_type": "slide"
    }
   },
   "source": [
    "## General contraction"
   ]
  },
  {
   "cell_type": "code",
   "execution_count": null,
   "metadata": {},
   "outputs": [],
   "source": [
    "# graph contraction\n",
    "# we still need to specify partition_graph_f!\n",
    "\n",
    "def contract_graph(vertices, edges, partition_graph_f):\n",
    "    if len(edges) == 0:\n",
    "        return vertices, edges\n",
    "    else:\n",
    "        # partition the graph\n",
    "        # vertex_map is a dict from vertex->super_vertex\n",
    "        # e.g., {'a': 'a', 'b': 'a', 'c': 'a'...} in above example\n",
    "        new_vertices, vertex_map = partition_graph_f(vertices, edges)\n",
    "        # keep only cut eges\n",
    "        new_edges = set([(vertex_map(e[0]), vertex_map(e[1]))\n",
    "                          for e in edges if vertex_map(e[0]) != vertex_map(e[1])])\n",
    "        return contract_graph(new_vertices, new_edges, partition_graph_f)\n",
    "\n",
    "vertices = set(['a', 'b', 'c', 'd', 'e', 'f', 'g', 'h', 'i'])\n",
    "edges = set([('a', 'b'), ('a', 'c'), ('b', 'c'), ('b', 'g'), \n",
    "             ('d', 'e'), ('d', 'f'), ('e', 'f'),\n",
    "             ('h', 'i'), ('i', 'g'), ('h', 'g')])\n",
    "\n",
    "contract_graph(vertices, edges, partition_graph_f)"
   ]
  },
  {
   "attachments": {},
   "cell_type": "markdown",
   "metadata": {
    "slideshow": {
     "slide_type": "slide"
    }
   },
   "source": [
    "## Contraction example: Number of connected components\n",
    "\n",
    "Recall in recitation, we have computed the number of connected components in a graph.\n",
    "\n",
    "<center>\n",
    "<img src=\"../figures/components.png\" width=30%/>\n",
    "</center>\n",
    "\n",
    "How did we do this? What was the worst-case span of our approach?"
   ]
  },
  {
   "attachments": {},
   "cell_type": "markdown",
   "metadata": {
    "slideshow": {
     "slide_type": "slide"
    }
   },
   "source": [
    "## Connected components via contraction\n",
    "\n",
    "Now let's think how we might do this with graph contraction.\n",
    "\n",
    "![figures/contract.png](../figures/partition2.png)\n",
    "\n",
    "What does the connectivity in the contracted graph tell us about the connectivity in the original graph?"
   ]
  },
  {
   "attachments": {},
   "cell_type": "markdown",
   "metadata": {
    "slideshow": {
     "slide_type": "subslide"
    }
   },
   "source": [
    "\n",
    "![figures/contract.png](../figures/partition2.png)\n",
    "\n",
    "- Since $a$, $b$, $c$ are placed in the same partition, we know they are connected.\n",
    "\n",
    "- Since $a$ and $g$ are connected in the second graph, then every node in the $g$ partition is reachable from every node in \n",
    "the $a$ partition.\n",
    "\n",
    "- Similarly, since $d$ is not connected to $a$ or $g$, then we know that no node in the $d$ partition is reachable from any node in either the $a$ or $g$ partition.\n",
    "\n"
   ]
  },
  {
   "attachments": {},
   "cell_type": "markdown",
   "metadata": {
    "slideshow": {
     "slide_type": "fragment"
    }
   },
   "source": [
    "<br>\n",
    "\n",
    "What does the final contracted graph tell us about the number of connected components?"
   ]
  },
  {
   "attachments": {},
   "cell_type": "markdown",
   "metadata": {
    "slideshow": {
     "slide_type": "subslide"
    }
   },
   "source": [
    "## Num components, contraction style"
   ]
  },
  {
   "cell_type": "code",
   "execution_count": null,
   "metadata": {},
   "outputs": [],
   "source": [
    "# we still need to specify partition_graph_f!\n",
    "\n",
    "def num_components(vertices, edges, partition_graph_f):\n",
    "    if len(edges) == 0:\n",
    "        # base case: return the number of super vertices in the final partition\n",
    "        return len(vertices)\n",
    "    else:\n",
    "        new_vertices, vertex_map = partition_graph_f(vertices, edges)\n",
    "        # keep only cut eges\n",
    "        # can use filter here to do in parallel: O(log|E|) span\n",
    "        new_edges = set([(vertex_map[e[0]], vertex_map[e[1]])\n",
    "                          for e in edges if vertex_map[e[0]] != vertex_map[e[1]]])\n",
    "        return num_components(new_vertices, new_edges, partition_graph_f)\n"
   ]
  },
  {
   "cell_type": "code",
   "execution_count": 2,
   "metadata": {
    "slideshow": {
     "slide_type": "fragment"
    }
   },
   "outputs": [],
   "source": [
    "\n",
    "vertices = set(['a', 'b', 'c', 'd', 'e', 'f', 'g', 'h', 'i'])\n",
    "edges = set([('a', 'b'), ('a', 'c'), ('b', 'c'), ('b', 'g'), \n",
    "             ('d', 'e'), ('d', 'f'), ('e', 'f'),\n",
    "             ('h', 'i'), ('i', 'g'), ('h', 'g')])\n"
   ]
  },
  {
   "cell_type": "code",
   "execution_count": null,
   "metadata": {
    "slideshow": {
     "slide_type": "fragment"
    }
   },
   "outputs": [],
   "source": [
    "\n",
    "num_components(vertices, edges, partition_graph_f)"
   ]
  },
  {
   "attachments": {},
   "cell_type": "markdown",
   "metadata": {
    "slideshow": {
     "slide_type": "fragment"
    }
   },
   "source": [
    "<br>\n",
    "\n",
    "While we have not yet specified `partition_graph_f`, let's assume it\n",
    "- returns a graph of size $|V|/2$\n",
    "- has $O(\\lg |V|)$ span.\n"
   ]
  },
  {
   "attachments": {},
   "cell_type": "markdown",
   "metadata": {
    "slideshow": {
     "slide_type": "fragment"
    }
   },
   "source": [
    "\n",
    "What is the recurrence for the full algorithm to compute `num_components`?"
   ]
  },
  {
   "attachments": {},
   "cell_type": "markdown",
   "metadata": {
    "slideshow": {
     "slide_type": "subslide"
    }
   },
   "source": [
    "$S(|V|) = S\\left(\\frac{|V|}{2}\\right) + \\lg (|V|)$\n",
    "\n",
    "which evaluates to?"
   ]
  },
  {
   "attachments": {},
   "cell_type": "markdown",
   "metadata": {
    "slideshow": {
     "slide_type": "fragment"
    }
   },
   "source": [
    "$O(\\lg^2 |V|)$\n",
    "\n",
    "<br>\n"
   ]
  },
  {
   "attachments": {},
   "cell_type": "markdown",
   "metadata": {
    "slideshow": {
     "slide_type": "fragment"
    }
   },
   "source": [
    "\n",
    "This is much better than the span for our BFS/DFS implementations of `num_components`. \n",
    "\n",
    "$O(|V| + |E|)$\n",
    "\n",
    "<br>\n"
   ]
  },
  {
   "attachments": {},
   "cell_type": "markdown",
   "metadata": {
    "slideshow": {
     "slide_type": "fragment"
    }
   },
   "source": [
    "Take-aways?"
   ]
  },
  {
   "attachments": {},
   "cell_type": "markdown",
   "metadata": {
    "slideshow": {
     "slide_type": "fragment"
    }
   },
   "source": [
    "\n",
    "To get this level of parallelism, we need a way of partitioning a graph that has low span and reduces the number of vertices by a contant (geometric) factor each round.\n",
    "\n",
    "- the low span requirement means we can't do anything that requires a graph search"
   ]
  },
  {
   "attachments": {},
   "cell_type": "markdown",
   "metadata": {
    "slideshow": {
     "slide_type": "slide"
    }
   },
   "source": [
    "## Edge contraction\n",
    "\n",
    "Consider a partition where each edge becomes its own block:\n",
    "\n",
    "<center>\n",
    "   <img src=\"../figures/edge1.png\" width=40%/>\n",
    "</center>\n"
   ]
  },
  {
   "attachments": {},
   "cell_type": "markdown",
   "metadata": {
    "slideshow": {
     "slide_type": "fragment"
    }
   },
   "source": [
    "\n",
    "This is nice because:\n",
    "\n",
    "- We reduce |V| in half (at least in this example)\n",
    "- It maintains the connectivity of the original graph\n",
    "- It seems somewhat easy to compute.\n",
    "\n",
    "Here's a simple way to find an edge partition: **Randomly pick half the edges in the graph**\n"
   ]
  },
  {
   "attachments": {},
   "cell_type": "markdown",
   "metadata": {
    "slideshow": {
     "slide_type": "fragment"
    }
   },
   "source": [
    "\n",
    "What can go wrong with this approach?\n"
   ]
  },
  {
   "attachments": {},
   "cell_type": "markdown",
   "metadata": {
    "slideshow": {
     "slide_type": "subslide"
    }
   },
   "source": [
    "We don't want to have the same node in two partitions.\n",
    "\n",
    "<center>\n",
    "   <img src=\"../figures/edge2.png\" width=40%/>\n",
    "</center>\n"
   ]
  },
  {
   "attachments": {},
   "cell_type": "markdown",
   "metadata": {
    "slideshow": {
     "slide_type": "fragment"
    }
   },
   "source": [
    "\n",
    "What is a greedy algorithm to avoid this case?"
   ]
  },
  {
   "attachments": {},
   "cell_type": "markdown",
   "metadata": {
    "slideshow": {
     "slide_type": "fragment"
    }
   },
   "source": [
    "```\n",
    "Initialize an empty edge set M\n",
    "\n",
    "Iterate over each edge e in the graph:\n",
    "    If the vertices in e don't appear in M, add it to M\n",
    "```"
   ]
  },
  {
   "attachments": {},
   "cell_type": "markdown",
   "metadata": {
    "slideshow": {
     "slide_type": "fragment"
    }
   },
   "source": [
    "\n",
    "\n",
    "What is the span of this algorithm?"
   ]
  },
  {
   "attachments": {},
   "cell_type": "markdown",
   "metadata": {
    "slideshow": {
     "slide_type": "fragment"
    }
   },
   "source": [
    "$O(|E|)$ -- it is sequential, every choice depends on previous choices.\n"
   ]
  },
  {
   "attachments": {},
   "cell_type": "markdown",
   "metadata": {
    "slideshow": {
     "slide_type": "fragment"
    }
   },
   "source": [
    "\n",
    "Can we come up with a parallel version of this idea? Hint: use randomness"
   ]
  },
  {
   "attachments": {},
   "cell_type": "markdown",
   "metadata": {
    "slideshow": {
     "slide_type": "slide"
    }
   },
   "source": [
    "## Parallel Edge Partition\n",
    "\n",
    "We can randomly select edges, contigent on certain conditions. \n"
   ]
  },
  {
   "attachments": {},
   "cell_type": "markdown",
   "metadata": {
    "slideshow": {
     "slide_type": "fragment"
    }
   },
   "source": [
    "\n",
    "- Flip a coin for each edge, in parallel, assigning $H$ or $T$ to each edge\n"
   ]
  },
  {
   "attachments": {},
   "cell_type": "markdown",
   "metadata": {
    "slideshow": {
     "slide_type": "fragment"
    }
   },
   "source": [
    "\n",
    "- Run a `filter` on all the results, selecting those edges $e$ where:\n",
    "  - $e$ has $H$\n",
    "  - all edges incident on $e$ are $T$\n",
    "  \n"
   ]
  },
  {
   "attachments": {},
   "cell_type": "markdown",
   "metadata": {
    "slideshow": {
     "slide_type": "fragment"
    }
   },
   "source": [
    "  \n",
    "<center>\n",
    "    <img src=\"../figures/edge3.png\" width=40%/>\n",
    "</center>\n",
    "    \n"
   ]
  },
  {
   "attachments": {},
   "cell_type": "markdown",
   "metadata": {
    "slideshow": {
     "slide_type": "subslide"
    }
   },
   "source": [
    "<center>\n",
    "    <img src=\"../figures/edge3.png\" width=40%/>\n",
    "</center>\n",
    "\n",
    "Here, we make partitions for two edges: $\\{a,c\\}, \\{g,h\\}$\n",
    "\n",
    "The rest are put in their own singleton partitions:  $\\{b\\}, \\{d\\}, \\{e\\}, \\{f\\}, \\{i\\}$\n",
    "    \n",
    "    \n"
   ]
  },
  {
   "attachments": {},
   "cell_type": "markdown",
   "metadata": {
    "slideshow": {
     "slide_type": "slide"
    }
   },
   "source": [
    "## Implementation"
   ]
  },
  {
   "cell_type": "code",
   "execution_count": 46,
   "metadata": {
    "slideshow": {
     "slide_type": "skip"
    }
   },
   "outputs": [],
   "source": [
    "from collections import Counter\n",
    "import random\n",
    "from pprint import pprint\n",
    "# random.seed(42)\n"
   ]
  },
  {
   "cell_type": "code",
   "execution_count": 47,
   "metadata": {},
   "outputs": [],
   "source": [
    "\n",
    "def edge_contract(vertices, edges):\n",
    "    # sample each edge with 50% chance\n",
    "    sampled_edges = [e for e in edges if random.choice([True, False])]\n",
    "    #print('%d/%d sampled edges' % (len(sampled_edges), len(edges)))\n",
    "    #print(sorted(sampled_edges))\n",
    "    # count how often each vertex appears in the sampled edges.\n",
    "    # could do this in parallel (map-reduce) in O(log |V|) span\n",
    "    vertex_counts = Counter()\n",
    "    for p in sampled_edges:\n",
    "        vertex_counts.update(p)\n",
    "    #print('\\nvertex counts in sampled edges:', vertex_counts.items())        \n",
    "\n",
    "    # now, do a filter to get those edges where both vertices\n",
    "    # appear only once in sampled_edges\n",
    "    valid_edges = [e for e in sampled_edges if vertex_counts[e[0]] == 1 and vertex_counts[e[1]]==1]\n",
    "    #print('\\nkeeping these valid edges:', valid_edges)\n",
    "    \n",
    "    # make partitions\n",
    "    vertex_map = dict()\n",
    "    for e in valid_edges:\n",
    "        vertex_map[e[0]] = e[1]\n",
    "    # put all the rest in a singleton partition\n",
    "    for v in vertices:\n",
    "        if v not in vertex_map:\n",
    "            vertex_map[v] = v\n",
    "    return set(vertex_map.values()), vertex_map"
   ]
  },
  {
   "cell_type": "code",
   "execution_count": null,
   "metadata": {
    "slideshow": {
     "slide_type": "skip"
    }
   },
   "outputs": [],
   "source": [
    "\n",
    "#edge_contract(vertices, edges)"
   ]
  },
  {
   "cell_type": "code",
   "execution_count": 48,
   "metadata": {
    "slideshow": {
     "slide_type": "subslide"
    }
   },
   "outputs": [],
   "source": [
    "def num_components(vertices, edges, partition_graph_f):\n",
    "    if len(edges) == 0:\n",
    "        # base case: return the number of super vertices in the final partition\n",
    "        return len(vertices)\n",
    "    else:\n",
    "        new_vertices, vertex_map = partition_graph_f(vertices, edges)\n",
    "        # keep only cut eges\n",
    "        # can use filter here to do in parallel: O(log|E|) span\n",
    "        new_edges = set([(vertex_map[e[0]], vertex_map[e[1]])\n",
    "                          for e in edges if vertex_map[e[0]] != vertex_map[e[1]]])\n",
    "        return num_components(new_vertices, new_edges, partition_graph_f)\n"
   ]
  },
  {
   "attachments": {},
   "cell_type": "markdown",
   "metadata": {
    "slideshow": {
     "slide_type": "subslide"
    }
   },
   "source": [
    "![figures/contract.png](../figures/partition2.png)"
   ]
  },
  {
   "cell_type": "code",
   "execution_count": 49,
   "metadata": {},
   "outputs": [],
   "source": [
    "vertices = set(['a', 'b', 'c', 'd', 'e', 'f', 'g', 'h', 'i'])\n",
    "edges = set([('a', 'b'), ('a', 'c'), ('b', 'c'), ('b', 'g'), \n",
    "             ('d', 'e'), ('d', 'f'), ('e', 'f'),\n",
    "             ('h', 'i'), ('i', 'g'), ('h', 'g')])"
   ]
  },
  {
   "cell_type": "code",
   "execution_count": 50,
   "metadata": {
    "slideshow": {
     "slide_type": "fragment"
    }
   },
   "outputs": [
    {
     "data": {
      "text/plain": [
       "2"
      ]
     },
     "execution_count": 50,
     "metadata": {},
     "output_type": "execute_result"
    }
   ],
   "source": [
    "num_components(vertices, edges, edge_contract)"
   ]
  },
  {
   "attachments": {},
   "cell_type": "markdown",
   "metadata": {
    "slideshow": {
     "slide_type": "subslide"
    }
   },
   "source": [
    "   \n",
    "By construction, we know that this will be a valid partitioning. \n",
    " \n",
    "But, will it make the graph small enough fast enough?\n",
    "    \n"
   ]
  },
  {
   "attachments": {},
   "cell_type": "markdown",
   "metadata": {
    "slideshow": {
     "slide_type": "fragment"
    }
   },
   "source": [
    "Consider a **cycle graph**, where each vertex has exactly two neighbors:\n",
    "\n",
    "<center>\n",
    "   <img src=\"../figures/edge1.png\" width=40%/>\n",
    "</center>\n",
    "\n"
   ]
  },
  {
   "attachments": {},
   "cell_type": "markdown",
   "metadata": {
    "slideshow": {
     "slide_type": "fragment"
    }
   },
   "source": [
    "\n",
    "What is the probability that a given edge $e$ will be selected for a partition?\n"
   ]
  },
  {
   "attachments": {},
   "cell_type": "markdown",
   "metadata": {
    "slideshow": {
     "slide_type": "fragment"
    }
   },
   "source": [
    "\n",
    "This is the probability that: it is $H$, and it's two neighboring edges are $T$"
   ]
  },
  {
   "attachments": {},
   "cell_type": "markdown",
   "metadata": {
    "slideshow": {
     "slide_type": "fragment"
    }
   },
   "source": [
    "$$\\frac{1}{2} \\cdot \\frac{1}{2} \\cdot \\frac{1}{2} = \\frac{1}{8}$$\n"
   ]
  },
  {
   "attachments": {},
   "cell_type": "markdown",
   "metadata": {
    "slideshow": {
     "slide_type": "subslide"
    }
   },
   "source": [
    "## Will we contract at a constant fraction of the graph size?\n",
    "\n",
    "So, if there are $|E|$ edges, and each has probability of $\\frac{1}{8}$ of being selected, then what is the expected number of edges selected at each round? \n"
   ]
  },
  {
   "attachments": {},
   "cell_type": "markdown",
   "metadata": {
    "slideshow": {
     "slide_type": "fragment"
    }
   },
   "source": [
    "\n",
    "$$\\frac{1}{8}|E|$$\n"
   ]
  },
  {
   "attachments": {},
   "cell_type": "markdown",
   "metadata": {
    "slideshow": {
     "slide_type": "fragment"
    }
   },
   "source": [
    "\n",
    "Since $|V| = |E|$ in a cycle graph, and since we remove 1 vertex for each edge partition we select, we will reduce the number of vertices by $\\frac{1}{8}$ at each round, in expectation.\n"
   ]
  },
  {
   "attachments": {},
   "cell_type": "markdown",
   "metadata": {
    "slideshow": {
     "slide_type": "fragment"
    }
   },
   "source": [
    "\n",
    "<br>\n",
    "\n",
    "Thus, the recurrence:\n"
   ]
  },
  {
   "attachments": {},
   "cell_type": "markdown",
   "metadata": {
    "slideshow": {
     "slide_type": "fragment"
    }
   },
   "source": [
    "\n",
    "$$S(|V|) = S(\\frac{7}{8}|V|) + \\lg(|V|)$$\n"
   ]
  },
  {
   "attachments": {},
   "cell_type": "markdown",
   "metadata": {
    "slideshow": {
     "slide_type": "fragment"
    }
   },
   "source": [
    "\n",
    "$$S(|V|) \\in S(\\lg^2 |V|)$$\n",
    "\n",
    "<br>\n"
   ]
  },
  {
   "attachments": {},
   "cell_type": "markdown",
   "metadata": {
    "slideshow": {
     "slide_type": "fragment"
    }
   },
   "source": [
    "\n",
    "\n",
    "But, we have assumed a cycle graph. What would be a graph structure where edge contraction performs poorly? (i.e., doesn't remove enough edges)?"
   ]
  },
  {
   "attachments": {},
   "cell_type": "markdown",
   "metadata": {
    "slideshow": {
     "slide_type": "subslide"
    }
   },
   "source": [
    "<center>\n",
    "    <img src=\"../figures/star.png\" width=30%/>\n",
    "</center>\n",
    "\n",
    "Next time: Star Graphs!"
   ]
  }
 ],
 "metadata": {
  "celltoolbar": "Slideshow",
  "kernelspec": {
   "display_name": "Python 3.9.6 64-bit",
   "language": "python",
   "name": "python3"
  },
  "language_info": {
   "codemirror_mode": {
    "name": "ipython",
    "version": 3
   },
   "file_extension": ".py",
   "mimetype": "text/x-python",
   "name": "python",
   "nbconvert_exporter": "python",
   "pygments_lexer": "ipython3",
   "version": "3.9.6"
  },
  "rise": {
   "autolaunch": true,
   "controls": false,
   "enable_chalkboard": true,
   "scroll": true,
   "theme": "simple",
   "transition": "fade"
  },
  "toc": {
   "base_numbering": 1,
   "nav_menu": {},
   "number_sections": true,
   "sideBar": true,
   "skip_h1_title": true,
   "title_cell": "Table of Contents",
   "title_sidebar": "Contents",
   "toc_cell": true,
   "toc_position": {},
   "toc_section_display": true,
   "toc_window_display": false
  },
  "vscode": {
   "interpreter": {
    "hash": "aee8b7b246df8f9039afb4144a1f6fd8d2ca17a180786b69acc140d282b71a49"
   }
  }
 },
 "nbformat": 4,
 "nbformat_minor": 4
}
