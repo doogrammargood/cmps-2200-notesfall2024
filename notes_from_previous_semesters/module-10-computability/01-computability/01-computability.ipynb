{
 "cells": [
  {
   "cell_type": "code",
   "execution_count": 4,
   "metadata": {
    "code_folding": [],
    "slideshow": {
     "slide_type": "skip"
    }
   },
   "outputs": [
    {
     "data": {
      "text/html": [
       "<style>.prompt{width: 0px; min-width: 0px; visibility: collapse}</style>"
      ],
      "text/plain": [
       "<IPython.core.display.HTML object>"
      ]
     },
     "metadata": {},
     "output_type": "display_data"
    },
    {
     "data": {
      "text/html": [
       "<style>\n",
       "div#notebook {\n",
       " font-family: \"Exo_2\", sans-serif;\n",
       "}\n",
       "\n",
       ".rendered_html h1,\n",
       ".text_cell_render h1 {\n",
       " color: #126dce;\n",
       " font-size: 220%;\n",
       " text-align: center;\n",
       " font-weight: lighter;\n",
       "}\n",
       ".rendered_html h2,\n",
       ".text_cell_render h2 {\n",
       " text-align: center;\n",
       " font-size: 170%;\n",
       " color: #126dce;\n",
       " font-style: normal;\n",
       " font-weight: lighter;\n",
       "}\n",
       ".rendered_html h3,\n",
       ".text_cell_render h3 {\n",
       " font-size: 150%;\n",
       " color: #126dce;\n",
       " font-weight: lighter;\n",
       " text-decoration: italic;\n",
       " font-style: normal;\n",
       "}\n",
       ".rendered_html h4,\n",
       ".text_cell_render h4 {\n",
       " font-size: 120%;\n",
       " color: #126dce;\n",
       " font-weight: underline;\n",
       " font-style: normal;\n",
       "}\n",
       ".rendered_html h5,\n",
       ".text_cell_render h5 {\n",
       " font-size: 100%;\n",
       " color: #2f2f2f;\n",
       " font-weight: lighter;\n",
       " text-decoration: underline;\n",
       "}\n",
       "</style>\n"
      ],
      "text/plain": [
       "<IPython.core.display.HTML object>"
      ]
     },
     "metadata": {},
     "output_type": "display_data"
    }
   ],
   "source": [
    "# setup\n",
    "from IPython.core.display import display,HTML\n",
    "display(HTML('<style>.prompt{width: 0px; min-width: 0px; visibility: collapse}</style>'))\n",
    "display(HTML(open('rise.css').read()))\n",
    "\n",
    "# imports\n",
    "import numpy as np\n",
    "import matplotlib.pyplot as plt\n",
    "import seaborn as sns\n",
    "%matplotlib inline\n",
    "sns.set(style=\"whitegrid\", font_scale=1.5, rc={'figure.figsize':(12, 6)})\n"
   ]
  },
  {
   "attachments": {},
   "cell_type": "markdown",
   "metadata": {
    "slideshow": {
     "slide_type": "slide"
    }
   },
   "source": [
    "# CMPS 2200\n",
    "# Introduction to Algorithms\n",
    "\n",
    "## Computational Complexity and NP-Completeness\n"
   ]
  },
  {
   "attachments": {},
   "cell_type": "markdown",
   "metadata": {
    "slideshow": {
     "slide_type": "slide"
    }
   },
   "source": [
    "## Computational Complexity\n",
    "\n",
    "All semester, we've been interested in algorithms for computational problems that:\n",
    "\n",
    "- Did polynomial work in the input size\n",
    "\n",
    "- Leveraged concurrency to achieve span (i.e., parallel speedup)\n",
    "\n",
    "We've studied different algorithmic paradigms to try and achieve these two goals. "
   ]
  },
  {
   "attachments": {},
   "cell_type": "markdown",
   "metadata": {
    "slideshow": {
     "slide_type": "fragment"
    }
   },
   "source": [
    "\n",
    "But, when is this actually possible?\n",
    "\n",
    "What problems are solvable with polynomial work? Of those, which allow us to achieve a good parallel speedup?\n"
   ]
  },
  {
   "attachments": {},
   "cell_type": "markdown",
   "metadata": {
    "slideshow": {
     "slide_type": "fragment"
    }
   },
   "source": [
    "\n",
    "Conversely, which problems **aren't** solvable with polynomial work? \n",
    "\n",
    "Perhaps we could just avoid or approximate these, instead of trying to find efficient algorithms.\n"
   ]
  },
  {
   "attachments": {},
   "cell_type": "markdown",
   "metadata": {
    "slideshow": {
     "slide_type": "slide"
    }
   },
   "source": [
    "## Why study Computational Complexity?\n",
    "\n",
    "Why would we care about characterizing the difficulty of problems? Why not just do the best we can?\n",
    "\n",
    "Given a problem $\\mathcal{X}$ that we want to solve efficiently, we might not be able come up with a polynomial-work algorithm.\n",
    "\n",
    "<center>\n",
    "<a href=\"https://www.ac.tuwien.ac.at/people/szeider/cartoon/\"><img src =\"../figures/npc_cartoon1.png\" width=80%></a>\n",
    "</center>\n",
    "\n",
    "It would be better to say..."
   ]
  },
  {
   "attachments": {},
   "cell_type": "markdown",
   "metadata": {
    "slideshow": {
     "slide_type": "slide"
    }
   },
   "source": [
    "<center>\n",
    "<a href=\"https://www.ac.tuwien.ac.at/people/szeider/cartoon/\"><img src =\"../figures/npc_cartoon2.png\" width=80%></a>\n",
    "</center>\n"
   ]
  },
  {
   "attachments": {},
   "cell_type": "markdown",
   "metadata": {
    "slideshow": {
     "slide_type": "slide"
    }
   },
   "source": [
    "## Computational Complexity\n",
    "\n",
    "The field of **computational complexity** tries to characterize problems by resource complexity (e.g., work, span, space).\n",
    "\n",
    "For example, we can say that the sorting problem is in the class of problems that can be solved in polynomial work. This class is refered to as class $\\mathcal{P}$.\n",
    "\n",
    "We'll define some basic complexity classes and look at how much progress has been made in the last 50 years or so. \n"
   ]
  },
  {
   "attachments": {},
   "cell_type": "markdown",
   "metadata": {
    "slideshow": {
     "slide_type": "slide"
    }
   },
   "source": [
    "\n",
    "### Decision Problems\n",
    "\n",
    "In our discussion, we will look at **decision problems**, i.e., computational problems with YES/NO answers. \n",
    "\n",
    "> This is not a big restriction, because if we can solve a decision problem we can solve the optimization version using binary search.\n"
   ]
  },
  {
   "attachments": {},
   "cell_type": "markdown",
   "metadata": {
    "slideshow": {
     "slide_type": "fragment"
    }
   },
   "source": [
    "\n",
    "**Example**: Suppose we only have a decision version of MST: `DECISION-MST`\n",
    "\n",
    "`DECISION-MST` outputs only `True` or `False`, `True` if the cost of the MST is $<= k$ and `False` otherwise.\n"
   ]
  },
  {
   "attachments": {},
   "cell_type": "markdown",
   "metadata": {
    "slideshow": {
     "slide_type": "fragment"
    }
   },
   "source": [
    "\n",
    "Then we can find the $k$ that is the cost of the MST by performing a binary search on $k$. How do we choose a starting value for $k$? \n"
   ]
  },
  {
   "attachments": {},
   "cell_type": "markdown",
   "metadata": {
    "slideshow": {
     "slide_type": "fragment"
    }
   },
   "source": [
    "\n",
    "This requires time polynomial in the input. Why?"
   ]
  },
  {
   "attachments": {},
   "cell_type": "markdown",
   "metadata": {
    "slideshow": {
     "slide_type": "subslide"
    }
   },
   "source": [
    "For MST, we gave several very efficient algorithms (with work nearly linear in the input size). \n",
    "\n",
    "We've seen many problems for which we've been able to develop efficient solutions. \n",
    "\n",
    "Loosely, an efficient solution is one whose work is polynomial or better.\n"
   ]
  },
  {
   "attachments": {},
   "cell_type": "markdown",
   "metadata": {
    "slideshow": {
     "slide_type": "slide"
    }
   },
   "source": [
    "### Inefficient Algorithms\n",
    "\n",
    "Are there any problems for which we haven't seen efficient algorithms?\n",
    "\n",
    "Yes - **TSP** and **Knapsack**. \n",
    "\n",
    "Are there more efficient algorithms possible than what we've seen? Slightly, but the best we can do is essentially some kind of inefficient/exhaustive search over the solution space.\n"
   ]
  },
  {
   "attachments": {},
   "cell_type": "markdown",
   "metadata": {
    "slideshow": {
     "slide_type": "subslide"
    }
   },
   "source": [
    "\n",
    "To justify such inefficient approaches, we'd like to give a superpolynomial lower bounds for TSP or Knapsack (or any problem for which we can't find an efficient algorithm).\n"
   ]
  },
  {
   "attachments": {},
   "cell_type": "markdown",
   "metadata": {
    "slideshow": {
     "slide_type": "fragment"
    }
   },
   "source": [
    "\n",
    "> Given our lack of ability to find efficient algorithms for these problems, it would be nice to be able to say that a polynomial solution is impossible.\n",
    ">\n",
    "> Although, setting our egos aside, it would be even better to produce an efficient algorithm!\n",
    "\n"
   ]
  },
  {
   "attachments": {},
   "cell_type": "markdown",
   "metadata": {
    "slideshow": {
     "slide_type": "slide"
    }
   },
   "source": [
    "## Complexity Classes\n",
    "\n",
    "There are a number of very common/useful problems for which we can't seem to \n",
    "\n",
    "**A)** come up with good algorithms, or \n",
    "\n",
    "**B)** prove that no good algorithms exist.\n"
   ]
  },
  {
   "attachments": {},
   "cell_type": "markdown",
   "metadata": {
    "slideshow": {
     "slide_type": "subslide"
    }
   },
   "source": [
    "### Two more examples:\n",
    "\n",
    "**Satisfiability** ($\\mathcal{3SAT}$): \n",
    "\n",
    "Given a logical formula $F(x_1, \\ldots, x_n)$ that is written as a 3CNF (\"CNF\" stands for *conjunctive normal form*), is there an assignment of $x_1, \\ldots, x_n$ such that $F$ yields evaluates to True?\n",
    "\n",
    "$$(x_1 \\vee x_2 \\vee \\neg{x_3}) \\wedge (x_2 \\vee x_3 \\vee \\neg{x_4})\\wedge (x_1 \\vee \\neg{x_2} \\vee x_4)$$\n"
   ]
  },
  {
   "attachments": {},
   "cell_type": "markdown",
   "metadata": {
    "slideshow": {
     "slide_type": "subslide"
    }
   },
   "source": [
    "\n",
    "**Independent Set** ($\\mathcal{IS}$): \n",
    "\n",
    "Given a graph $G=(V, E)$, is there a set $X\\subseteq V$ of size at least $k$ such that no vertices $x, y\\in X$ share an edge?\n",
    "\n",
    "<center>\n",
    "<img src=\"../figures/IS.png\" width = 50%>\n",
    "</center>"
   ]
  },
  {
   "attachments": {},
   "cell_type": "markdown",
   "metadata": {
    "slideshow": {
     "slide_type": "slide"
    }
   },
   "source": [
    "## Checking versus Solving\n",
    "\n",
    "There is an interesting fact about many of these problems that we can't seem to efficiently solve. \n",
    "\n",
    "Given a solution, we can actually check whether or not the solution is correct very quickly. We just don't know how to produce a \"YES\" instance efficiently.\n"
   ]
  },
  {
   "attachments": {},
   "cell_type": "markdown",
   "metadata": {
    "slideshow": {
     "slide_type": "subslide"
    }
   },
   "source": [
    "\n",
    "### Examples\n",
    "\n",
    "- $\\mathcal{3SAT}$: Is there a truth assignment for which this boolean expression evaluates to `True`?\n",
    "    - Given a truth assignment for a formula $F$, we can easily plug it in and check it. \n",
    "    \n"
   ]
  },
  {
   "attachments": {},
   "cell_type": "markdown",
   "metadata": {
    "slideshow": {
     "slide_type": "fragment"
    }
   },
   "source": [
    "\n",
    "- $\\mathcal{TSP}$: Is there a cycle that covers the graph with cost less than $k$?\n",
    "    - Given a proposed cycle, verify that is cycle, check if sum of weights is less than k.\n",
    "   "
   ]
  },
  {
   "attachments": {},
   "cell_type": "markdown",
   "metadata": {
    "slideshow": {
     "slide_type": "fragment"
    }
   },
   "source": [
    "\n",
    "- $\\mathcal{Knapsack}$: Can a value of atleast $V$ be achieved without exceeeding the weight $W$?\n",
    "    - Given a set of items, sum up weight and value of all items.\n",
    "    \n"
   ]
  },
  {
   "attachments": {},
   "cell_type": "markdown",
   "metadata": {
    "slideshow": {
     "slide_type": "fragment"
    }
   },
   "source": [
    "\n",
    "- $\\mathcal{Independent Set}$: Does the graph contain an independent set of size $k$? \n",
    "    - Given a proposed independent set $IS$, verify none of the vertices are neighbors. Return `True` if $|IS| >= k$"
   ]
  },
  {
   "attachments": {},
   "cell_type": "markdown",
   "metadata": {
    "slideshow": {
     "slide_type": "slide"
    }
   },
   "source": [
    "### Class $\\mathcal{NP}$\n",
    "\n",
    "Class $\\mathcal{NP}$ is the class of problems for which we can efficiently **check**, given a candidate solution, whether that solution produces a YES answer.\n"
   ]
  },
  {
   "attachments": {},
   "cell_type": "markdown",
   "metadata": {},
   "source": [
    "> By efficiently, we mean in **polynomial time**."
   ]
  },
  {
   "attachments": {},
   "cell_type": "markdown",
   "metadata": {
    "slideshow": {
     "slide_type": "fragment"
    }
   },
   "source": [
    "<br>\n",
    "\n",
    "What does $\\mathcal{NP}$ stand for?"
   ]
  },
  {
   "attachments": {},
   "cell_type": "markdown",
   "metadata": {
    "slideshow": {
     "slide_type": "fragment"
    }
   },
   "source": [
    "\n",
    "$\\mathcal{NP}$ stands for **Nondeterministic Polynomial Time**. \n"
   ]
  },
  {
   "attachments": {},
   "cell_type": "markdown",
   "metadata": {
    "slideshow": {
     "slide_type": "fragment"
    }
   },
   "source": [
    "\n",
    "It means that if we are given a nondeterministic computer, we could solve the problem in polynomial time. \n"
   ]
  },
  {
   "attachments": {},
   "cell_type": "markdown",
   "metadata": {
    "slideshow": {
     "slide_type": "subslide"
    }
   },
   "source": [
    "### Nondeterminism\n",
    "\n",
    "Nondeterminism is a wonky idea from computer theory. \n",
    "\n",
    "**Deterministic Computers**\n",
    "\n",
    "Classical computers are deterministic. Every step is determined exactly by all preceding steps. \n"
   ]
  },
  {
   "attachments": {},
   "cell_type": "markdown",
   "metadata": {
    "slideshow": {
     "slide_type": "fragment"
    }
   },
   "source": [
    "\n",
    "**Nondeterministic Computers**\n",
    "\n",
    "In a nondeterministic computer, the next step can be determined by information outside of the computer. \n"
   ]
  },
  {
   "attachments": {},
   "cell_type": "markdown",
   "metadata": {
    "slideshow": {
     "slide_type": "fragment"
    }
   },
   "source": [
    "\n",
    "When a nondeterministic algorithm is presented with a choice, it can automatically choose the optimal choice, whether or not it has enough information to actually know that choice is optimal.\n"
   ]
  },
  {
   "attachments": {},
   "cell_type": "markdown",
   "metadata": {
    "slideshow": {
     "slide_type": "fragment"
    }
   },
   "source": [
    "\n",
    "This is somewhat akin to if god played chess. God would know automatically the optimal move for every move of the game.\n"
   ]
  },
  {
   "attachments": {},
   "cell_type": "markdown",
   "metadata": {
    "slideshow": {
     "slide_type": "subslide"
    }
   },
   "source": [
    "\n",
    "How does this all relate back to the class NP? \n"
   ]
  },
  {
   "attachments": {},
   "cell_type": "markdown",
   "metadata": {
    "slideshow": {
     "slide_type": "fragment"
    }
   },
   "source": [
    "\n",
    "Since all problems in NP are verifiable in polynomial time, one potential algorithm for solving any of these problems is to attempt to verify all possible solutions – a brute force approach. \n"
   ]
  },
  {
   "attachments": {},
   "cell_type": "markdown",
   "metadata": {
    "slideshow": {
     "slide_type": "fragment"
    }
   },
   "source": [
    "\n",
    "A nondeterministic algorithm granted the magical power of optimal choice can simply choose the correct answer to verify rather than searching for it, and following the polynomial verification, will be done. "
   ]
  },
  {
   "attachments": {},
   "cell_type": "markdown",
   "metadata": {
    "slideshow": {
     "slide_type": "slide"
    }
   },
   "source": [
    "### Class $\\mathcal{NP}$\n",
    "\n",
    "$\\mathcal{P}$ is the class of problems for which we can compute solutions directly with polynomial work.\n",
    "\n",
    "Now we know that $\\mathcal{P}\\subseteq\\mathcal{NP}$, since, for any problem in class $\\mathcal{P}$, we can efficiently verify a solution by constructing it in polynomial time.\n",
    "\n",
    "But does $\\mathcal{P} = \\mathcal{NP}$? \n",
    "\n",
    "Or more informally, is it substantially harder to solve a problem than to check a solution to it?"
   ]
  },
  {
   "attachments": {},
   "cell_type": "markdown",
   "metadata": {
    "slideshow": {
     "slide_type": "slide"
    }
   },
   "source": [
    "### Reductions ###\n",
    "\n",
    "Interestingly, many of these problems reduce to one another.\n",
    "\n",
    "Recall that a problem $\\mathcal{X}$ is *polynomial-time reducible* to a problem $\\mathcal{Y}$ if we can perform\n",
    "\n",
    "> 1) an input transformation from $\\mathcal{X}$ to $\\mathcal{Y}$ and \n",
    ">\n",
    "> 2) an output transformation from $\\mathcal{Y}$ to $\\mathcal{X}$ with polynomial work."
   ]
  },
  {
   "attachments": {},
   "cell_type": "markdown",
   "metadata": {
    "slideshow": {
     "slide_type": "fragment"
    }
   },
   "source": [
    "\n",
    "We can then solve $\\mathcal{X}$ by reducing it to $\\mathcal{Y}$, solving $\\mathcal{Y}$, then transforming the output back to a solution for $\\mathcal{X}$.\n"
   ]
  },
  {
   "attachments": {},
   "cell_type": "markdown",
   "metadata": {
    "slideshow": {
     "slide_type": "fragment"
    }
   },
   "source": [
    "<br>\n",
    "\n",
    "This shows that $\\mathcal{X}$ \"no harder than\" $\\mathcal{Y}$, because  we wouldn't be able to solve $\\mathcal{X}$ using $\\mathcal{Y}$ if $\\mathcal{X}$ were a harder problem than $\\mathcal{Y}$.\n"
   ]
  },
  {
   "attachments": {},
   "cell_type": "markdown",
   "metadata": {},
   "source": [
    "\n",
    "> Example, we can reduce **MIN** to **SORTING**.\n",
    ">\n",
    "> Thus **MIN** is no harder than sorting.\n"
   ]
  },
  {
   "attachments": {},
   "cell_type": "markdown",
   "metadata": {
    "slideshow": {
     "slide_type": "slide"
    }
   },
   "source": [
    "\n",
    "### Example: $\\mathit{3SAT} \\leq \\mathit{IS}$\n",
    "\n",
    "Any logical formula can be written in 3CNF, which has clauses AND'ed together with each clause OR'ing 3 literals. \n",
    "\n",
    "For example: \n",
    "\n",
    "$$ F(x_1, x_2, x_3, x_4) = (x_1 \\vee x_2 \\vee \\neg{x_3}) \\wedge (x_2 \\vee x_3 \\vee \\neg{x_4})\\wedge (x_1 \\vee \\neg{x_2} \\vee x_4).$$ \n",
    "\n",
    "If $F$ is an input instance to $\\mathit{3SAT}$, then we want to know if there is any assignment of $x_1, x_2, x_3, x_4$ that evaluates to `TRUE`.\n"
   ]
  },
  {
   "attachments": {},
   "cell_type": "markdown",
   "metadata": {
    "slideshow": {
     "slide_type": "fragment"
    }
   },
   "source": [
    "\n",
    "To show that $\\mathit{3SAT} \\leq \\mathit{IS}$, we need to show that we can reduce from 3SAT to Independent Set and solve Independent Set to get a solution for 3SAT. \n"
   ]
  },
  {
   "attachments": {},
   "cell_type": "markdown",
   "metadata": {
    "slideshow": {
     "slide_type": "subslide"
    }
   },
   "source": [
    "## Reduce $\\mathit{3SAT}$ to $\\mathit{IS}$\n",
    "\n",
    "Given a logical formula $F$, how do we create a graph in which an independent set tells us about the satisfiability of clauses in $F$?\n",
    "\n",
    "For a formula $F$ with $n$ variables and $k$ clauses, we construct a graph representing $F$ as follows:\n"
   ]
  },
  {
   "attachments": {},
   "cell_type": "markdown",
   "metadata": {
    "slideshow": {
     "slide_type": "subslide"
    }
   },
   "source": [
    "\n",
    "<center>\n",
    "<img src=\"../figures/3SAT_IS.png\" width = 75%>\n",
    "</center>\n",
    "\n",
    "1. Create a Graph $G_F$ containing a vertex for every literal.\n",
    "2. Connect all 3 literals in each clause by edges between them\n",
    "    - This ensures that only one literal per clause will chosen, corresponding to the literal to be set to `True`. (we only need one literal per clause to be `True` for the clause to be `True`.)\n",
    "3. Add an edge between every literal and its negation.\n",
    "    - This ensures that conflicting literals can not be chosen. If $x$ chosen, then we can not also choose $\\bar{x}$.\n",
    "4. Set $k$ to be the number of clauses.\n",
    "    - This forces us to choose one literal per clause.\n"
   ]
  },
  {
   "attachments": {},
   "cell_type": "markdown",
   "metadata": {
    "slideshow": {
     "slide_type": "skip"
    }
   },
   "source": [
    "\n",
    "Why is this an efficient input transformation?  "
   ]
  },
  {
   "attachments": {},
   "cell_type": "markdown",
   "metadata": {
    "slideshow": {
     "slide_type": "subslide"
    }
   },
   "source": [
    "An independent set $X$ in $G_F$ corresponds to a set of literals in $F$. \n",
    "\n",
    "<center>\n",
    "<img src=\"../figures/3SAT_IS.png\" width = 75%>\n",
    "</center>\n",
    "\n",
    "- We've set the size of the satisfying independent set in $G_F$ is $k$, corresponding to at most one literal per clause. \n",
    "\n",
    "- We can never choose a pair of vertices in the independent set with opposite literals since they are connected by an edge. \n",
    "\n",
    "- Thus if we set all literals corresponding to the vertices in $X$ to `TRUE`, we will satisfy $|X|$ clauses. \n",
    "\n",
    "So, $F$ is satisfiable if and only if there is an independent set of size $k$ in $G_F$.\n",
    "\n"
   ]
  },
  {
   "attachments": {},
   "cell_type": "markdown",
   "metadata": {
    "slideshow": {
     "slide_type": "slide"
    }
   },
   "source": [
    "\n",
    "\n",
    "So what's the big deal if one problem in $\\mathcal{NP}$ reduces to another?"
   ]
  },
  {
   "attachments": {},
   "cell_type": "markdown",
   "metadata": {
    "slideshow": {
     "slide_type": "slide"
    }
   },
   "source": [
    "### $\\mathcal{P} = \\mathcal{NP}$ and NP-Completeness\n",
    "\n",
    "Leonid Levin and Steve Cook showed in the early 1970s that for any problem $\\mathcal{X} \\in \\mathcal{NP}$, $\\mathcal{X} \\leq \\mathit{SAT}$. \n",
    "\n",
    "So, $\\mathit{3SAT}$ is **$\\mathcal{NP}$-complete**.\n"
   ]
  },
  {
   "attachments": {},
   "cell_type": "markdown",
   "metadata": {
    "slideshow": {
     "slide_type": "fragment"
    }
   },
   "source": [
    "\n",
    "In other words, for any problem $\\mathcal{X} \\in \\mathcal{NP}$, $\\mathcal{X}$ can be reduced to $\\mathit{3SAT}$. \n",
    "\n"
   ]
  },
  {
   "attachments": {},
   "cell_type": "markdown",
   "metadata": {
    "slideshow": {
     "slide_type": "fragment"
    }
   },
   "source": [
    "Since $\\mathcal{X}$ is no harder than $\\mathcal{3SAT}$, if an efficient solution were found for $\\mathcal{3SAT}$, then we could efficiently solve $\\mathcal{X}$.\n",
    "\n"
   ]
  },
  {
   "attachments": {},
   "cell_type": "markdown",
   "metadata": {
    "slideshow": {
     "slide_type": "subslide"
    }
   },
   "source": [
    "**Consequences**\n",
    "\n",
    "If we could demonstrate a lower bound that $\\mathit{3SAT}$ requires super-polynomial work, then we would prove that $\\mathcal{P} \\neq \\mathcal{NP}$. \n",
    "\n",
    "If we came up with a polynomial work algorithm for $\\mathit{3SAT}$, then we would prove that $\\mathcal{P} = \\mathcal{NP}$.\n",
    "\n",
    "But we haven't been able to do either of these things, so far.\n"
   ]
  },
  {
   "attachments": {},
   "cell_type": "markdown",
   "metadata": {
    "slideshow": {
     "slide_type": "slide"
    }
   },
   "source": [
    "## Implications of reduction\n",
    "\n",
    "Does our reduction from $\\mathit{3SAT}$ to $\\mathit{IS}$ tell us anything interesting?"
   ]
  },
  {
   "attachments": {},
   "cell_type": "markdown",
   "metadata": {
    "slideshow": {
     "slide_type": "fragment"
    }
   },
   "source": [
    "\n",
    "That Independent Set is $\\mathcal{NP}$-complete!\n",
    "\n",
    "Since we can reduce from $\\mathit{3SAT}$ to $\\mathit{IS}$, if an efficient solution were found for $\\mathit{IS}$, we would have an efficient solution for $\\mathit{3SAT}$, and for all problems in $\\mathcal{NP}$ by extension!\n"
   ]
  },
  {
   "attachments": {},
   "cell_type": "markdown",
   "metadata": {
    "slideshow": {
     "slide_type": "slide"
    }
   },
   "source": [
    "## The $\\mathcal{NP}\\texttt{-complete}$ family\n",
    "\n",
    "What does this have to do with TSP or Knapsack?\n",
    "\n",
    "After Levin and Cook showed the satisfiability problem was $\\mathcal{NP}\\texttt{-complete}$, Richard Karp used reductions to show 21 different problems were all $\\mathcal{NP}\\texttt{-complete}$.\n"
   ]
  },
  {
   "attachments": {},
   "cell_type": "markdown",
   "metadata": {
    "slideshow": {
     "slide_type": "subslide"
    }
   },
   "source": [
    "\n",
    "<a href=\"http://cgi.di.uoa.gr/~sgk/teaching/grad/handouts/karp.pdf\"><img src =\"../figures/karp_21_problems.jpg\" width=100%></a>\n"
   ]
  },
  {
   "attachments": {},
   "cell_type": "markdown",
   "metadata": {
    "slideshow": {
     "slide_type": "slide"
    }
   },
   "source": [
    "\n",
    "## Implications\n",
    "\n",
    "There is some inherent similarity between all problems in the set $\\mathcal{NP}$-complete since an efficient solution to any leads to an efficient solution to all.\n"
   ]
  },
  {
   "attachments": {},
   "cell_type": "markdown",
   "metadata": {
    "slideshow": {
     "slide_type": "fragment"
    }
   },
   "source": [
    "<br>\n",
    "\n",
    "This means there is something fundamental here about the complexity of these problems and the nature of problem solving in general. \n"
   ]
  },
  {
   "attachments": {},
   "cell_type": "markdown",
   "metadata": {
    "slideshow": {
     "slide_type": "fragment"
    }
   },
   "source": [
    "<br>\n",
    "\n",
    "Is it substantially more difficult to solve a problem than to verify a solution? \n",
    "\n",
    "Or, if it is easy to verify a solution, does that imply that there is some efficient way of generating that solution in the first place?"
   ]
  },
  {
   "attachments": {},
   "cell_type": "markdown",
   "metadata": {
    "slideshow": {
     "slide_type": "fragment"
    }
   },
   "source": [
    "> For example, it (... a practical algorithm for solving an NP-complete problem (showing P=NP)) would transform mathematics by allowing a computer to find a formal proof of any theorem which has a proof of a reasonable length, since formal proofs can easily be recognized in polynomial time. Example problems may well include all of the [CMI prize problems](https://en.wikipedia.org/wiki/Clay_Math_Institute#Millennium_Prize_Problems).\n",
    ">\n",
    "> -- Stephen Cook [Official P vs NP problem statement](http://www.claymath.org/sites/default/files/pvsnp.pdf)"
   ]
  },
  {
   "attachments": {},
   "cell_type": "markdown",
   "metadata": {
    "slideshow": {
     "slide_type": "subslide"
    }
   },
   "source": [
    "$\\mathcal{NP}$-completeness doesn't provide us with concrete answers but it does help us understand the relative difficulty of problems. We currently have [many thousands](http://www.csc.kth.se/~viggo/problemlist/compendium.html) of such problems!\n",
    "\n",
    "<a href=\"https://www.ac.tuwien.ac.at/people/szeider/cartoon/\"><img src =\"../figures/npc_cartoon3.png\" width=70%></a>\n",
    "\n"
   ]
  },
  {
   "attachments": {},
   "cell_type": "markdown",
   "metadata": {
    "slideshow": {
     "slide_type": "slide"
    }
   },
   "source": [
    "## Parallelism?\n",
    "\n",
    "Can we parallelize and solve $\\mathcal{NP}$-complete problems? \n",
    "\n",
    "Since the definition of span doesn't really care about the number of processors, we can solve problems in $\\mathcal{NP}$ using brute force with polynomial span. This is because the definition of $\\mathcal{NP}$ ensures that we can efficiently check candidate solutions.\n"
   ]
  },
  {
   "attachments": {},
   "cell_type": "markdown",
   "metadata": {
    "slideshow": {
     "slide_type": "fragment"
    }
   },
   "source": [
    "A more interesting question is whether we can effectively parallelize problems in $\\mathcal{P}$. That is, for any problem $\\mathcal{X}$ that is solvable in polynomial work, does it also have low span?\n"
   ]
  },
  {
   "attachments": {},
   "cell_type": "markdown",
   "metadata": {
    "slideshow": {
     "slide_type": "slide"
    }
   },
   "source": [
    "## Class $\\mathcal{NC}$\n",
    "\n",
    "Let $\\mathcal{NC}$ denote the set of all problems with span $O(\\log^c n)$ for some constant $c$ using a polynomial number of processors. \n",
    "\n",
    "We know that $\\mathcal{NC}\\subseteq \\mathcal{P}$, but is $\\mathcal{P}\\subseteq\\mathcal{NC}$? \n",
    "\n",
    "What does this statement imply?"
   ]
  },
  {
   "attachments": {},
   "cell_type": "markdown",
   "metadata": {
    "slideshow": {
     "slide_type": "fragment"
    }
   },
   "source": [
    "If $\\mathcal{P}\\subseteq\\mathcal{NC}$, then **every** problem in $\\mathcal{P}$ is parallelizable. \n"
   ]
  },
  {
   "attachments": {},
   "cell_type": "markdown",
   "metadata": {
    "slideshow": {
     "slide_type": "slide"
    }
   },
   "source": [
    "## $\\mathcal{P}$-complete\n",
    "\n",
    "As with $\\mathcal{NP}$, it's possible to define $\\mathcal{P}$-complete problems. \n",
    "\n",
    "The Circuit Value Problem ($\\mathit{CVP}$) asks, for a given circuit on AND, OR, and NOT gates along with inputs, does the circuit produce an output of 1?\n",
    "\n",
    "$\\mathit{CVP}$ is $\\mathcal{P}$-complete.\n"
   ]
  },
  {
   "attachments": {},
   "cell_type": "markdown",
   "metadata": {
    "slideshow": {
     "slide_type": "fragment"
    }
   },
   "source": [
    "<br>\n",
    "\n",
    "As with $\\mathcal{NP}$, we have [a long list of $\\mathcal{P}$-complete problems](https://en.wikipedia.org/wiki/P-complete#P-complete_problems). We cannot find polylogarithmic span algorithms for any of them, nor can we prove that it is not possible to come up with such algorithms."
   ]
  },
  {
   "attachments": {},
   "cell_type": "markdown",
   "metadata": {
    "slideshow": {
     "slide_type": "subslide"
    }
   },
   "source": [
    "We have just looked at two complexity classes, but this <a href=\"https://complexityzoo.uwaterloo.ca/Complexity_Zoo\">area</a> is quite deep.\n",
    "\n",
    "<center>\n",
    "<a href = \"https://jeremykun.com/2012/02/29/other-complexity-classes/\"><img src=\"../figures/complexity_venn_diagram.jpg\" width=60%></a>\n",
    "<center>"
   ]
  },
  {
   "attachments": {},
   "cell_type": "markdown",
   "metadata": {
    "slideshow": {
     "slide_type": "slide"
    }
   },
   "source": [
    "## P vs. NP as explained by AI\n",
    "\n",
    "**ChatGPT Prompt:** Explain the P vs NP problem as a poem.\n"
   ]
  },
  {
   "attachments": {},
   "cell_type": "markdown",
   "metadata": {
    "slideshow": {
     "slide_type": "fragment"
    }
   },
   "source": [
    "\n",
    "\n",
    "```\n",
    "P and NP, oh what a mystery,\n",
    "Two classes of problems, oh so perplexing to see,\n",
    "P is the class where solutions are easy to find,\n",
    "But checking them takes some time.\n",
    "\n",
    "NP is the opposite, solutions are hard to come by,\n",
    "But once found, they can be verified with a single try,\n",
    "Together, they form a dichotomy,\n",
    "That has puzzled the brightest minds in computer science history.\n",
    "\n",
    "P vs NP, a question that's been asked for many years,\n",
    "Is every NP problem also in P? Or are there some that never appear?\n",
    "No one knows the answer, but we can still try,\n",
    "To solve this conundrum, and to unravel this knot of a problem that's so sly.\n",
    "\n",
    "So let us all ponder, and let our minds roam,\n",
    "To find the solution, to this question that's still unknown.\n",
    "```"
   ]
  }
 ],
 "metadata": {
  "celltoolbar": "Slideshow",
  "kernelspec": {
   "display_name": "Python 3.9.6 64-bit",
   "language": "python",
   "name": "python3"
  },
  "language_info": {
   "codemirror_mode": {
    "name": "ipython",
    "version": 3
   },
   "file_extension": ".py",
   "mimetype": "text/x-python",
   "name": "python",
   "nbconvert_exporter": "python",
   "pygments_lexer": "ipython3",
   "version": "3.9.6"
  },
  "rise": {
   "autolaunch": true,
   "controls": false,
   "enable_chalkboard": true,
   "scroll": true,
   "theme": "simple",
   "transition": "fade"
  },
  "toc": {
   "base_numbering": 1,
   "nav_menu": {},
   "number_sections": true,
   "sideBar": true,
   "skip_h1_title": true,
   "title_cell": "Table of Contents",
   "title_sidebar": "Contents",
   "toc_cell": true,
   "toc_position": {},
   "toc_section_display": true,
   "toc_window_display": false
  },
  "vscode": {
   "interpreter": {
    "hash": "aee8b7b246df8f9039afb4144a1f6fd8d2ca17a180786b69acc140d282b71a49"
   }
  }
 },
 "nbformat": 4,
 "nbformat_minor": 4
}
